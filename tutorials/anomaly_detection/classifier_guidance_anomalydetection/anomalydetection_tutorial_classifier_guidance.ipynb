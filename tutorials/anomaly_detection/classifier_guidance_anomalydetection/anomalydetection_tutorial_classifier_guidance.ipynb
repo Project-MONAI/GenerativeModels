{
 "cells": [
  {
   "cell_type": "markdown",
   "id": "63d95da6",
   "metadata": {},
   "source": [
    "# Diffusion Models for Medical Anomaly Detection with Classifier Guidance\n",
    "\n",
    "This tutorial illustrates how to use MONAI for training a 2D gradient-guided anomaly detection using DDIMs [1].\n",
    "\n",
    "We train a diffusion model on 2D slices of brain MR images. A classification model is trained to predict whether the given slice shows a tumor or not.\\\n",
    "We then tranlsate an input slice to its healthy reconstruction using DDIMs.\\\n",
    "Anomaly detection is performed by taking the difference between input and output, as proposed in [1].\n",
    "\n",
    "[1] - Wolleb et al. \"Diffusion Models for Medical Anomaly Detection\" https://arxiv.org/abs/2203.04306\n",
    "\n",
    "## Setup environment"
   ]
  },
  {
   "cell_type": "code",
   "execution_count": 49,
   "id": "75f2d5f3",
   "metadata": {},
   "outputs": [],
   "source": [
    "!python -c \"import monai\" || pip install -q \"monai-weekly[pillow, tqdm, einops]\"\n",
    "!python -c \"import matplotlib\" || pip install -q matplotlib\n",
    "!python -c \"import seaborn\" || pi resblock_updown: bool = False,p install -q seaborn"
   ]
  },
  {
   "cell_type": "markdown",
   "id": "6b766027",
   "metadata": {},
   "source": [
    "## Setup imports"
   ]
  },
  {
   "cell_type": "code",
   "execution_count": 2,
   "id": "972ed3f3",
   "metadata": {
    "collapsed": false,
    "jupyter": {
     "outputs_hidden": false
    },
    "lines_to_next_cell": 2
   },
   "outputs": [
    {
     "name": "stdout",
     "output_type": "stream",
     "text": [
      "path ['/home/juliawolleb/PycharmProjects/MONAI/GenerativeModels/tutorials/anomaly_detection/classifier_guidance_anomalydetection', '/home/juliawolleb/anaconda3/envs/experiment/lib/python310.zip', '/home/juliawolleb/anaconda3/envs/experiment/lib/python3.10', '/home/juliawolleb/anaconda3/envs/experiment/lib/python3.10/lib-dynload', '', '/home/juliawolleb/anaconda3/envs/experiment/lib/python3.10/site-packages', '/home/juliawolleb/anaconda3/envs/experiment/lib/python3.10/site-packages/PyYAML-6.0-py3.10-linux-x86_64.egg', '/home/juliawolleb/PycharmProjects/Python_Tutorials/Calgary_Infants/calgary/HD-BET', '/home/juliawolleb/anaconda3/envs/experiment/lib/python3.10/site-packages/lpips-0.1.4-py3.10.egg', '/home/juliawolleb/anaconda3/envs/experiment/lib/python3.10/site-packages/tqdm-4.64.1-py3.10.egg', '/home/juliawolleb/anaconda3/envs/experiment/lib/python3.10/site-packages/generative-0.1.0-py3.10.egg', '/home/juliawolleb/PycharmProjects/MONAI/GenerativeModels/']\n",
      "MONAI version: 1.2.dev2304\n",
      "Numpy version: 1.23.2\n",
      "Pytorch version: 1.12.1\n",
      "MONAI flags: HAS_EXT = False, USE_COMPILED = False, USE_META_DICT = False\n",
      "MONAI rev id: 9a57be5aab9f2c2a134768c0c146399150e247a0\n",
      "MONAI __file__: /home/juliawolleb/anaconda3/envs/experiment/lib/python3.10/site-packages/monai/__init__.py\n",
      "\n",
      "Optional dependencies:\n",
      "Pytorch Ignite version: 0.4.10\n",
      "ITK version: 5.3.0\n",
      "Nibabel version: 4.0.1\n",
      "scikit-image version: 0.19.3\n",
      "Pillow version: 9.2.0\n",
      "Tensorboard version: 2.12.0\n",
      "gdown version: 4.6.4\n",
      "TorchVision version: 0.13.1\n",
      "tqdm version: 4.64.1\n",
      "lmdb version: 1.4.0\n",
      "psutil version: 5.9.4\n",
      "pandas version: 1.5.3\n",
      "einops version: 0.6.0\n",
      "transformers version: 4.21.3\n",
      "mlflow version: 2.1.1\n",
      "pynrrd version: 1.0.0\n",
      "\n",
      "For details about installing the optional dependencies, please visit:\n",
      "    https://docs.monai.io/en/latest/installation.html#installing-the-recommended-dependencies\n",
      "\n"
     ]
    }
   ],
   "source": [
    "# Copyright 2020 MONAI Consortium\n",
    "# Licensed under the Apache License, Version 2.0 (the \"License\");\n",
    "# you may not use this file except in compliance with the License.\n",
    "# You may obtain a copy of the License at\n",
    "#     http://www.apache.org/licenses/LICENSE-2.0\n",
    "# Unless required by applicable law or agreed to in writing, software\n",
    "# distributed under the License is distributed on an \"AS IS\" BASIS,\n",
    "# WITHOUT WARRANTIES OR CONDITIONS OF ANY KIND, either express or implied.\n",
    "# See the License for the specific language governing permissions and\n",
    "# limitations under the License.\n",
    "import os\n",
    "import sys\n",
    "import time\n",
    "from typing import Dict\n",
    "import tempfile\n",
    "import matplotlib.pyplot as plt\n",
    "import numpy as np\n",
    "import torch\n",
    "import torch.nn.functional as F\n",
    "from monai import transforms\n",
    "from monai.apps import DecathlonDataset\n",
    "from monai.config import print_config\n",
    "from monai.data import DataLoader\n",
    "from monai.utils import first, set_determinism\n",
    "from torch.cuda.amp import GradScaler, autocast\n",
    "from tqdm import tqdm\n",
    "\n",
    "from generative.inferers import DiffusionInferer\n",
    "from generative.networks.nets.diffusion_model_unet import DiffusionModelEncoder, DiffusionModelUNet\n",
    "from generative.networks.schedulers.ddim import DDIMScheduler\n",
    "\n",
    "\n",
    "torch.multiprocessing.set_sharing_strategy(\"file_system\")\n",
    "print_config()"
   ]
  },
  {
   "cell_type": "markdown",
   "id": "7d4ff515",
   "metadata": {},
   "source": [
    "## Setup data directory"
   ]
  },
  {
   "cell_type": "code",
   "execution_count": 3,
   "id": "8b4323e7",
   "metadata": {
    "collapsed": false,
    "jupyter": {
     "outputs_hidden": false
    }
   },
   "outputs": [],
   "source": [
    "directory = os.environ.get(\"MONAI_DATA_DIRECTORY\")\n",
    "root_dir = tempfile.mkdtemp() if directory is None else directory"
   ]
  },
  {
   "cell_type": "markdown",
   "id": "99175d50",
   "metadata": {},
   "source": [
    "## Set deterministic training for reproducibility"
   ]
  },
  {
   "cell_type": "code",
   "execution_count": 4,
   "id": "34ea510f",
   "metadata": {
    "collapsed": false,
    "jupyter": {
     "outputs_hidden": false
    }
   },
   "outputs": [],
   "source": [
    "set_determinism(42)"
   ]
  },
  {
   "cell_type": "markdown",
   "id": "c3f70dd1-236a-47ff-a244-575729ad92ba",
   "metadata": {
    "tags": []
   },
   "source": [
    "## Preprocessing of the BRATS Dataset in 2D slices for training\n",
    "We download the BRATS training dataset from the Decathlon dataset. \\\n",
    "We slice the volumes in axial 2D slices and stack them into a tensor called _total_train_slices_ (this takes a while).\\\n",
    "The corresponding slice-wise labels (0 for healthy, 1 for diseased) are stored in the tensor  _total_train_labels_.\n"
   ]
  },
  {
   "cell_type": "markdown",
   "id": "6986f55c",
   "metadata": {},
   "source": [
    "Here we use transforms to augment the training dataset, as usual:\n",
    "\n",
    "1. `LoadImaged` loads the hands images from files.\n",
    "1. `EnsureChannelFirstd` ensures the original data to construct \"channel first\" shape.\n",
    "1. `ScaleIntensityRanged` extracts intensity range [0, 255] and scales to [0, 1].\n",
    "1. `RandAffined` efficiently performs rotate, scale, shear, translate, etc. together based on PyTorch affine transform.\n",
    "\n",
    "To avoid a bias in the classification labels, cut the lowest and highest 10 slices, as most tumors occur in the middle part of the brain."
   ]
  },
  {
   "cell_type": "code",
   "execution_count": 6,
   "id": "c68d2d91-9a0b-4ac1-ae49-f4a64edbd82a",
   "metadata": {},
   "outputs": [
    {
     "name": "stderr",
     "output_type": "stream",
     "text": [
      "<class 'monai.transforms.utility.array.AddChannel'>: Class `AddChannel` has been deprecated since version 0.8. please use MetaTensor data type and monai.transforms.EnsureChannelFirst instead.\n"
     ]
    }
   ],
   "source": [
    "channel = 0  # 0 = Flair\n",
    "assert channel in [0, 1, 2, 3], \"Choose a valid channel\"\n",
    "\n",
    "train_transforms = transforms.Compose(\n",
    "    [\n",
    "        transforms.LoadImaged(keys=[\"image\", \"label\"]),\n",
    "        transforms.EnsureChannelFirstd(keys=[\"image\", \"label\"]),\n",
    "        transforms.Lambdad(keys=[\"image\"], func=lambda x: x[channel, :, :, :]),\n",
    "        transforms.AddChanneld(keys=[\"image\"]),\n",
    "        transforms.EnsureTyped(keys=[\"image\", \"label\"]),\n",
    "        transforms.Orientationd(keys=[\"image\", \"label\"], axcodes=\"RAS\"),\n",
    "        transforms.Spacingd(keys=[\"image\", \"label\"], pixdim=(3.0, 3.0, 2.0), mode=(\"bilinear\", \"nearest\")),\n",
    "        transforms.CenterSpatialCropd(keys=[\"image\", \"label\"], roi_size=(64, 64, 64)),\n",
    "        transforms.ScaleIntensityRangePercentilesd(keys=\"image\", lower=0, upper=99.5, b_min=0, b_max=1),\n",
    "        transforms.CopyItemsd(keys=[\"label\"], times=1, names=[\"slice_label\"]),\n",
    "        transforms.Lambdad(\n",
    "            keys=[\"slice_label\"], func=lambda x: (x.reshape(x.shape[0], -1, x.shape[-1]).sum(1) > 0).float().squeeze()\n",
    "        ),\n",
    "    ]\n",
    ")\n",
    "\n",
    "def get_batched_2d_axial_slices(data: Dict):\n",
    "    images_3D = data[\"image\"]\n",
    "    batched_2d_slices = torch.cat(images_3D.split(1, dim=-1)[10:-10], 0).squeeze(-1)  # we cut the lowest and highest 10 slices, because we are interested in the middle part of the brain.\n",
    "    slice_label = data[\"slice_label\"]\n",
    "    slice_label = torch.cat(slice_label.split(1, dim=-1)[10:-10], 0).squeeze()\n",
    "    return batched_2d_slices, slice_label\n",
    "\n"
   ]
  },
  {
   "cell_type": "code",
   "execution_count": 18,
   "id": "da1927b0",
   "metadata": {
    "collapsed": false,
    "jupyter": {
     "outputs_hidden": false
    }
   },
   "outputs": [
    {
     "name": "stdout",
     "output_type": "stream",
     "text": [
      "2023-03-13 16:09:17,074 - INFO - Verified 'Task01_BrainTumour.tar', md5: 240a19d752f0d9e9101544901065d872.\n",
      "2023-03-13 16:09:17,075 - INFO - File exists: /home/juliawolleb/PycharmProjects/MONAI/brats/Task01_BrainTumour.tar, skipped downloading.\n",
      "2023-03-13 16:09:17,076 - INFO - Non-empty folder exists in /home/juliawolleb/PycharmProjects/MONAI/brats/Task01_BrainTumour, skipped extracting.\n",
      "len train data 388\n"
     ]
    }
   ],
   "source": [
    "\n",
    "train_ds = DecathlonDataset(\n",
    "    root_dir=root_dir,\n",
    "    task=\"Task01_BrainTumour\",\n",
    "    section=\"training\",  # validation\n",
    "    cache_rate=0.0,  # you may need a few Gb of RAM... Set to 0 otherwise\n",
    "    num_workers=4,\n",
    "    download=True,  # Set download to True if the dataset hasnt been downloaded yet\n",
    "    seed=0,\n",
    "    transform=train_transforms,\n",
    ")\n",
    "print(\"len train data\", len(train_ds))  #this gives the number of patients in the training set\n",
    "\n",
    "\n",
    "\n",
    "train_loader_3D = DataLoader(train_ds, batch_size=1, shuffle=True, num_workers=4)\n",
    "data_2d_slices = []\n",
    "data_slice_label = []\n",
    "for i, data in enumerate(train_loader_3D):\n",
    "        b2d, slice_label2d = get_batched_2d_axial_slices(data)\n",
    "        data_2d_slices.append(b2d)\n",
    "        data_slice_label.append(slice_label2d)\n",
    "     \n",
    "total_train_slices = torch.cat(data_2d_slices, 0)\n",
    "total_train_labels = torch.cat(data_slice_label, 0)"
   ]
  },
  {
   "cell_type": "markdown",
   "id": "fac55e9d",
   "metadata": {
    "tags": []
   },
   "source": [
    "## Preprocessing of the BRATS Dataset in 2D slices for validation\n",
    "We download the BRATS validation dataset from the Decathlon dataset. \n",
    "We slice the volumes in axial 2D slices and stack them into a tensor called _total_val_slices_.\n",
    "The corresponding slice-wise labels (0 for healthy, 1 for diseased) are stored in the tensor  _total_val_labels_.\n"
   ]
  },
  {
   "cell_type": "code",
   "execution_count": 19,
   "id": "73d72110-a8b3-4e03-91cc-1dab4d5a7b87",
   "metadata": {},
   "outputs": [
    {
     "name": "stdout",
     "output_type": "stream",
     "text": [
      "2023-03-13 16:19:38,821 - INFO - Verified 'Task01_BrainTumour.tar', md5: 240a19d752f0d9e9101544901065d872.\n",
      "2023-03-13 16:19:38,824 - INFO - File exists: /home/juliawolleb/PycharmProjects/MONAI/brats/Task01_BrainTumour.tar, skipped downloading.\n",
      "2023-03-13 16:19:38,826 - INFO - Non-empty folder exists in /home/juliawolleb/PycharmProjects/MONAI/brats/Task01_BrainTumour, skipped extracting.\n"
     ]
    }
   ],
   "source": [
    "val_ds = DecathlonDataset(\n",
    "    root_dir=root_dir,\n",
    "    task=\"Task01_BrainTumour\",\n",
    "    section=\"validation\",  # validation\n",
    "    cache_rate=0.0,  # you may need a few Gb of RAM... Set to 0 otherwise\n",
    "    num_workers=4,\n",
    "    download=True,  # Set download to True if the dataset hasnt been downloaded yet\n",
    "    seed=0,\n",
    "    transform=train_transforms,\n",
    ")\n",
    "\n",
    "\n",
    "val_loader_3D = DataLoader(val_ds, batch_size=1, shuffle=True, num_workers=4)\n",
    "data_2d_slices_val = []\n",
    "data_slice_label_val = []\n",
    "for i, data in enumerate(val_loader_3D):\n",
    "        b2d, slice_label2d = get_batched_2d_axial_slices(data)\n",
    "        data_2d_slices_val.append(b2d)\n",
    "        data_slice_label_val.append(slice_label2d)\n",
    "\n",
    "total_val_slices = torch.cat(data_2d_slices_val, 0)\n",
    "total_val_labels = torch.cat(data_slice_label_val, 0)\n"
   ]
  },
  {
   "cell_type": "markdown",
   "id": "08428bc6",
   "metadata": {},
   "source": [
    "## Define network, scheduler, optimizer, and inferer\n",
    "At this step, we instantiate the MONAI components to create a DDIM, the UNET, the noise scheduler, and the inferer used for training and sampling. We are using\n",
    "the deterministic DDIM scheduler containing 1000 timesteps, and a 2D UNET with attention mechanisms\n",
    "in the 3rd level (`num_head_channels=64`).\n"
   ]
  },
  {
   "cell_type": "code",
   "execution_count": 8,
   "id": "bee5913e",
   "metadata": {
    "collapsed": false,
    "jupyter": {
     "outputs_hidden": false
    },
    "lines_to_next_cell": 2
   },
   "outputs": [],
   "source": [
    "device = torch.device(\"cuda\")\n",
    "\n",
    "model = DiffusionModelUNet(\n",
    "    spatial_dims=2,\n",
    "    in_channels=1,\n",
    "    out_channels=1,\n",
    "    num_channels=(64, 64, 64),\n",
    "    attention_levels=(False, False, True),\n",
    "    num_res_blocks=1,\n",
    "    num_head_channels=64,\n",
    "    with_conditioning=False,\n",
    ")\n",
    "model.to(device)\n",
    "\n",
    "scheduler = DDIMScheduler(num_train_timesteps=1000)\n",
    "\n",
    "optimizer = torch.optim.Adam(params=model.parameters(), lr=2.5e-5)\n",
    "\n",
    "inferer = DiffusionInferer(scheduler)"
   ]
  },
  {
   "cell_type": "markdown",
   "id": "2a4d3ab2",
   "metadata": {
    "tags": []
   },
   "source": [
    "## Model training of the diffusion model\n",
    "We train our diffusion model for 100 epochs, with a batch size of 32."
   ]
  },
  {
   "cell_type": "code",
   "execution_count": 10,
   "id": "6c0ed909",
   "metadata": {
    "collapsed": false,
    "jupyter": {
     "outputs_hidden": false
    },
    "lines_to_next_cell": 2
   },
   "outputs": [
    {
     "name": "stderr",
     "output_type": "stream",
     "text": [
      "Epoch 0: : 534it [01:42,  5.21it/s, loss=0.163]                                 \n",
      "4224it [01:27, 48.36it/s]\n",
      "Epoch 1: : 534it [01:46,  4.99it/s, loss=0.0234]                                \n",
      "4224it [01:27, 48.47it/s]\n",
      "Epoch 2: : 534it [01:47,  4.96it/s, loss=0.0207]                                \n",
      "4224it [01:26, 48.76it/s]\n",
      "Epoch 3: : 534it [01:46,  4.99it/s, loss=0.0199]                                \n",
      "4224it [01:24, 49.73it/s]\n",
      "Epoch 4: : 534it [01:46,  5.00it/s, loss=0.0198]                                \n",
      "4224it [01:26, 48.90it/s]\n",
      "Epoch 5: : 534it [01:46,  5.00it/s, loss=0.0192]                                \n",
      "4224it [01:26, 48.97it/s]\n",
      "Epoch 6: : 534it [01:47,  4.98it/s, loss=0.0199]                                \n",
      "4224it [01:26, 48.79it/s]\n",
      "Epoch 7: : 534it [01:47,  4.99it/s, loss=0.0188]                                \n",
      "4224it [01:26, 48.65it/s]\n",
      "Epoch 8: : 534it [01:47,  4.95it/s, loss=0.0184]                                \n",
      "4224it [01:26, 48.77it/s]\n",
      "Epoch 9: : 534it [01:47,  4.98it/s, loss=0.0179]                                \n",
      "4224it [01:26, 48.68it/s]\n",
      "Epoch 10: : 534it [01:47,  4.98it/s, loss=0.0183]                               \n",
      "4224it [01:25, 49.12it/s]\n",
      "Epoch 11: : 534it [01:47,  4.98it/s, loss=0.0183]                               \n",
      "4224it [01:26, 48.83it/s]\n",
      "Epoch 12: : 534it [01:48,  4.94it/s, loss=0.0182]                               \n",
      "4224it [01:26, 48.79it/s]\n",
      "Epoch 13: : 534it [01:47,  4.95it/s, loss=0.0185]                               \n",
      "4224it [01:27, 48.52it/s]\n",
      "Epoch 14: : 534it [01:47,  4.95it/s, loss=0.0176]                               \n",
      "4224it [01:27, 48.54it/s]\n",
      "Epoch 15: : 534it [01:47,  4.95it/s, loss=0.018]                                \n",
      "4224it [01:26, 48.60it/s]\n",
      "Epoch 16: : 534it [01:47,  4.99it/s, loss=0.0181]                               \n",
      "4224it [01:27, 48.10it/s]\n",
      "Epoch 17: : 534it [01:47,  4.95it/s, loss=0.0179]                               \n",
      "4224it [01:28, 47.99it/s]\n",
      "Epoch 18: : 534it [01:47,  4.97it/s, loss=0.0177]                               \n",
      "4224it [01:26, 48.73it/s]\n",
      "Epoch 19: : 534it [01:47,  4.97it/s, loss=0.0179]                               \n",
      "4224it [01:28, 47.86it/s]\n",
      "Epoch 20: : 534it [01:47,  4.95it/s, loss=0.0177]                               \n",
      "4224it [01:28, 47.48it/s]\n",
      "Epoch 21: : 534it [01:47,  4.95it/s, loss=0.0175]                               \n",
      "4224it [01:27, 48.23it/s]\n",
      "Epoch 22: : 534it [01:47,  4.95it/s, loss=0.0171]                               \n",
      "4224it [01:24, 49.97it/s]\n",
      "Epoch 23: : 534it [01:47,  4.96it/s, loss=0.0169]                               \n",
      "4224it [01:26, 48.57it/s]\n",
      "Epoch 24: : 534it [01:47,  4.98it/s, loss=0.0172]                               \n",
      "4224it [01:27, 48.49it/s]\n",
      "Epoch 25: : 534it [01:47,  4.99it/s, loss=0.0168]                               \n",
      "4224it [01:25, 49.39it/s]\n",
      "Epoch 26: : 534it [01:46,  5.00it/s, loss=0.0169]                               \n",
      "4224it [01:26, 48.62it/s]\n",
      "Epoch 27: : 534it [01:47,  4.98it/s, loss=0.0171]                               \n",
      "4224it [01:27, 48.43it/s]\n",
      "Epoch 28: : 534it [01:47,  4.97it/s, loss=0.0175]                               \n",
      "4224it [01:25, 49.18it/s]\n",
      "Epoch 29: : 534it [01:46,  5.01it/s, loss=0.0171]                               \n",
      "4224it [01:25, 49.59it/s]\n",
      "Epoch 30: : 534it [01:47,  4.95it/s, loss=0.017]                                \n",
      "4224it [01:26, 48.57it/s]\n",
      "Epoch 31: : 534it [01:47,  4.99it/s, loss=0.0169]                               \n",
      "4224it [01:25, 49.12it/s]\n",
      "Epoch 32: : 534it [01:46,  4.99it/s, loss=0.0168]                               \n",
      "4224it [01:26, 48.77it/s]\n",
      "Epoch 33: : 534it [01:46,  5.00it/s, loss=0.0166]                               \n",
      "4224it [01:26, 48.82it/s]\n",
      "Epoch 34: : 534it [01:47,  4.97it/s, loss=0.0173]                               \n",
      "4224it [01:27, 48.49it/s]\n",
      "Epoch 35: : 534it [01:46,  4.99it/s, loss=0.0169]                               \n",
      "4224it [01:26, 48.66it/s]\n",
      "Epoch 36: : 534it [01:47,  4.99it/s, loss=0.0171]                               \n",
      "4224it [01:26, 48.92it/s]\n",
      "Epoch 37: : 534it [01:47,  4.97it/s, loss=0.0166]                               \n",
      "4224it [01:26, 48.68it/s]\n",
      "Epoch 38: : 534it [01:47,  4.99it/s, loss=0.0163]                               \n",
      "4224it [01:27, 48.55it/s]\n",
      "Epoch 39: : 534it [01:47,  4.97it/s, loss=0.0166]                               \n",
      "4224it [01:26, 48.55it/s]\n",
      "Epoch 40: : 534it [01:46,  5.00it/s, loss=0.0169]                               \n",
      "4224it [01:25, 49.31it/s]\n",
      "Epoch 41: : 534it [01:47,  4.99it/s, loss=0.0169]                               \n",
      "4224it [01:26, 48.85it/s]\n",
      "Epoch 42: : 534it [01:47,  4.98it/s, loss=0.0167]                               \n",
      "4224it [01:26, 48.56it/s]\n",
      "Epoch 43: : 534it [01:46,  4.99it/s, loss=0.0171]                               \n",
      "4224it [01:26, 48.56it/s]\n",
      "Epoch 44: : 534it [01:47,  4.99it/s, loss=0.0167]                               \n",
      "4224it [01:27, 48.53it/s]\n",
      "Epoch 45: : 534it [01:46,  5.00it/s, loss=0.0167]                               \n",
      "4224it [01:27, 48.40it/s]\n",
      "Epoch 46: : 534it [01:47,  4.98it/s, loss=0.0167]                               \n",
      "4224it [01:27, 48.32it/s]\n",
      "Epoch 47: : 534it [01:47,  4.99it/s, loss=0.0162]                               \n",
      "4224it [01:27, 48.36it/s]\n",
      "Epoch 48: : 534it [01:46,  5.00it/s, loss=0.017]                                \n",
      "4224it [01:27, 48.50it/s]\n",
      "Epoch 49: : 534it [01:47,  4.98it/s, loss=0.0164]                               \n",
      "4224it [01:27, 48.21it/s]\n",
      "Epoch 50: : 534it [01:47,  4.97it/s, loss=0.0168]                               \n",
      "4224it [01:27, 48.32it/s]\n",
      "Epoch 51: : 534it [01:47,  4.98it/s, loss=0.0163]                               \n",
      "4224it [01:27, 48.10it/s]\n",
      "Epoch 52: : 534it [01:47,  4.97it/s, loss=0.0158]                               \n",
      "4224it [01:27, 48.36it/s]\n",
      "Epoch 53: : 534it [01:47,  4.96it/s, loss=0.0163]                               \n",
      "4224it [01:27, 48.32it/s]\n",
      "Epoch 54: : 534it [01:47,  4.96it/s, loss=0.0157]                               \n",
      "4224it [01:27, 48.03it/s]\n",
      "Epoch 55: : 534it [01:47,  4.99it/s, loss=0.0164]                               \n",
      "4224it [01:27, 48.19it/s]\n",
      "Epoch 56: : 534it [01:47,  4.98it/s, loss=0.0167]                               \n",
      "4224it [01:27, 48.46it/s]\n",
      "Epoch 57: : 534it [01:47,  4.97it/s, loss=0.0161]                               \n",
      "4224it [01:27, 48.47it/s]\n",
      "Epoch 58: : 534it [01:47,  4.97it/s, loss=0.017]                                \n",
      "4224it [01:27, 48.46it/s]\n",
      "Epoch 59: : 534it [01:47,  4.98it/s, loss=0.0164]                               \n",
      "4224it [01:27, 48.38it/s]\n",
      "Epoch 60: : 534it [01:47,  4.94it/s, loss=0.0165]                               \n",
      "4224it [01:27, 48.27it/s]\n",
      "Epoch 61: : 534it [01:47,  4.96it/s, loss=0.0164]                               \n",
      "4224it [01:27, 48.50it/s]\n",
      "Epoch 62: : 534it [01:47,  4.97it/s, loss=0.0164]                               \n",
      "4224it [01:26, 48.70it/s]\n",
      "Epoch 63: : 534it [01:47,  4.97it/s, loss=0.0161]                               \n",
      "4224it [01:27, 48.06it/s]\n",
      "Epoch 64: : 534it [01:47,  4.97it/s, loss=0.0163]                               \n",
      "4224it [01:27, 48.35it/s]\n",
      "Epoch 65: : 534it [01:47,  4.98it/s, loss=0.0159]                               \n",
      "4224it [01:27, 48.53it/s]\n",
      "Epoch 66: : 534it [01:47,  4.97it/s, loss=0.0161]                               \n",
      "4224it [01:26, 48.59it/s]\n",
      "Epoch 67: : 534it [01:47,  4.97it/s, loss=0.0164]                               \n",
      "4224it [01:26, 48.56it/s]\n",
      "Epoch 68: : 534it [01:48,  4.94it/s, loss=0.016]                                \n",
      "4224it [01:26, 48.59it/s]\n",
      "Epoch 69: : 534it [01:47,  4.98it/s, loss=0.0156]                               \n",
      "4224it [01:27, 48.34it/s]\n",
      "Epoch 70: : 534it [01:47,  4.98it/s, loss=0.0162]                               \n",
      "4224it [01:26, 48.96it/s]\n",
      "Epoch 71: : 534it [01:47,  4.97it/s, loss=0.0159]                               \n",
      "4224it [01:25, 49.55it/s]\n",
      "Epoch 72: : 534it [01:47,  4.97it/s, loss=0.0159]                               \n",
      "4224it [01:27, 48.08it/s]\n",
      "Epoch 73: : 534it [01:47,  4.97it/s, loss=0.0165]                               \n",
      "4224it [01:26, 48.59it/s]\n",
      "Epoch 74: : 534it [01:47,  4.98it/s, loss=0.0161]                               \n",
      "4224it [01:27, 48.33it/s]\n",
      "Epoch 75: : 534it [01:46,  5.00it/s, loss=0.0164]                               \n",
      "4224it [01:27, 48.20it/s]\n",
      "Epoch 76: : 534it [01:47,  4.95it/s, loss=0.0165]                               \n",
      "4224it [01:26, 48.73it/s]\n",
      "Epoch 77: : 534it [01:47,  4.96it/s, loss=0.016]                                \n",
      "4224it [01:27, 48.45it/s]\n",
      "Epoch 78: : 534it [01:47,  4.95it/s, loss=0.0158]                               \n",
      "4224it [01:27, 48.42it/s]\n",
      "Epoch 79: : 534it [01:47,  4.96it/s, loss=0.0163]                               \n",
      "4224it [01:26, 48.85it/s]\n",
      "Epoch 80: : 534it [01:47,  4.96it/s, loss=0.0156]                               \n",
      "4224it [01:27, 48.52it/s]\n",
      "Epoch 81: : 534it [01:47,  4.97it/s, loss=0.0158]                               \n",
      "4224it [01:27, 48.44it/s]\n",
      "Epoch 82: : 534it [01:47,  4.97it/s, loss=0.0163]                               \n",
      "4224it [01:26, 48.57it/s]\n",
      "Epoch 83: : 534it [01:47,  4.96it/s, loss=0.016]                                \n",
      "4224it [01:27, 48.24it/s]\n",
      "Epoch 84: : 534it [01:47,  4.96it/s, loss=0.016]                                \n",
      "4224it [01:26, 48.77it/s]\n",
      "Epoch 85: : 534it [01:47,  4.99it/s, loss=0.0153]                               \n",
      "4224it [01:26, 48.70it/s]\n",
      "Epoch 86: : 534it [01:47,  4.98it/s, loss=0.0167]                               \n",
      "4224it [01:27, 48.54it/s]\n",
      "Epoch 87: : 534it [01:47,  4.96it/s, loss=0.0159]                               \n",
      "4224it [01:27, 48.22it/s]\n",
      "Epoch 88: : 534it [01:47,  4.96it/s, loss=0.0159]                               \n",
      "4224it [01:26, 48.77it/s]\n",
      "Epoch 89: : 534it [01:47,  4.95it/s, loss=0.0164]                               \n",
      "4224it [01:26, 48.56it/s]\n",
      "Epoch 90: : 534it [01:47,  4.96it/s, loss=0.0161]                               \n",
      "4224it [01:26, 48.68it/s]\n",
      "Epoch 91: : 534it [01:47,  4.95it/s, loss=0.0158]                               \n",
      "4224it [01:26, 48.94it/s]\n",
      "Epoch 92: : 534it [01:47,  4.96it/s, loss=0.0158]                               \n",
      "4224it [01:26, 48.65it/s]\n",
      "Epoch 93: : 534it [01:47,  4.96it/s, loss=0.0166]                               \n",
      "4224it [01:26, 48.70it/s]\n",
      "Epoch 94: : 534it [01:47,  4.98it/s, loss=0.0161]                               \n",
      "4224it [01:26, 48.78it/s]\n",
      "Epoch 95: : 534it [01:48,  4.94it/s, loss=0.0155]                               \n",
      "4224it [01:26, 48.95it/s]\n",
      "Epoch 96: : 534it [01:47,  4.98it/s, loss=0.0162]                               \n",
      "4224it [01:26, 48.96it/s]\n",
      "Epoch 97: : 534it [01:47,  4.97it/s, loss=0.016]                                \n",
      "4224it [01:26, 48.79it/s]\n",
      "Epoch 98: : 534it [01:47,  4.98it/s, loss=0.016]                                \n",
      "4224it [01:27, 48.48it/s]\n",
      "Epoch 99: : 534it [01:47,  4.98it/s, loss=0.0157]                               \n",
      "4224it [01:27, 48.33it/s]\n"
     ]
    },
    {
     "name": "stdout",
     "output_type": "stream",
     "text": [
      "train diffusion completed, total time: 19490.821256637573.\n"
     ]
    },
    {
     "data": {
      "image/png": "[encoded data removed]",
      "text/plain": [
       "<Figure size 640x480 with 1 Axes>"
      ]
     },
     "metadata": {},
     "output_type": "display_data"
    }
   ],
   "source": [
    "n_epochs = 100\n",
    "batch_size = 32\n",
    "val_interval = 1\n",
    "epoch_loss_list = []\n",
    "val_epoch_loss_list = []\n",
    "\n",
    "scaler = GradScaler()\n",
    "total_start = time.time()\n",
    "for epoch in range(n_epochs):\n",
    "        model.train()\n",
    "        epoch_loss = 0\n",
    "        indexes = list(torch.randperm(total_train_slices.shape[0]))  # shuffle training data new\n",
    "        data_train = total_train_slices[indexes]  # shuffle the training data\n",
    "        labels_train = total_train_labels[indexes]\n",
    "        subset_2D = zip(data_train.split(batch_size), labels_train.split(batch_size))\n",
    "        subset_2D_val = zip(total_val_slices.split(1), total_val_labels.split(1))  #\n",
    "\n",
    "        progress_bar = tqdm(enumerate(subset_2D), total=len(indexes) / batch_size)\n",
    "        progress_bar.set_description(f\"Epoch {epoch}\")\n",
    "        for step, (a, b) in progress_bar:\n",
    "            images = a.to(device)\n",
    "            classes = b.to(device)\n",
    "            optimizer.zero_grad(set_to_none=True)\n",
    "            timesteps = torch.randint(0, 1000, (len(images),)).to(device)  # pick a random time step t\n",
    "\n",
    "            with autocast(enabled=True):\n",
    "                # Generate random noise\n",
    "                noise = torch.randn_like(images).to(device)\n",
    "\n",
    "                # Get model prediction\n",
    "                noise_pred = inferer(\n",
    "                    inputs=images, diffusion_model=model, noise=noise, timesteps=timesteps) \n",
    "\n",
    "                loss = F.mse_loss(noise_pred.float(), noise.float())\n",
    "\n",
    "            scaler.scale(loss).backward()\n",
    "            scaler.step(optimizer)\n",
    "            scaler.update()\n",
    "            epoch_loss += loss.item()\n",
    "            progress_bar.set_postfix({\"loss\": epoch_loss / (step + 1)})\n",
    "        epoch_loss_list.append(epoch_loss / (step + 1))\n",
    "\n",
    "        if (epoch) % val_interval == 0:\n",
    "            model.eval()\n",
    "            val_epoch_loss = 0\n",
    "            progress_bar_val = tqdm(enumerate(subset_2D_val))\n",
    "            progress_bar.set_description(f\"Epoch {epoch}\")\n",
    "            for step, (a, b) in progress_bar_val:\n",
    "                images = a.to(device)\n",
    "                classes = b.to(device)\n",
    "\n",
    "                timesteps = torch.randint(0, 1000, (len(images),)).to(device)\n",
    "                with torch.no_grad():\n",
    "                    with autocast(enabled=True):\n",
    "                        noise = torch.randn_like(images).to(device)\n",
    "                        noise_pred = inferer(inputs=images, diffusion_model=model, noise=noise, timesteps=timesteps)\n",
    "                        val_loss = F.mse_loss(noise_pred.float(), noise.float())\n",
    "\n",
    "                val_epoch_loss += val_loss.item()\n",
    "                progress_bar.set_postfix({\"val_loss\": val_epoch_loss / (step + 1)})\n",
    "            val_epoch_loss_list.append(val_epoch_loss / (step + 1))\n",
    "\n",
    "total_time = time.time() - total_start\n",
    "print(f\"train diffusion completed, total time: {total_time}.\")\n",
    "\n",
    "plt.style.use(\"seaborn-bright\")\n",
    "plt.title(\"Learning Curves Diffusion Model\", fontsize=20)\n",
    "plt.plot(np.linspace(1, n_epochs, n_epochs), epoch_loss_list, color=\"C0\", linewidth=2.0, label=\"Train\")\n",
    "plt.plot(\n",
    "        np.linspace(val_interval, n_epochs, int(n_epochs / val_interval)),\n",
    "        val_epoch_loss_list,\n",
    "        color=\"C1\",\n",
    "        linewidth=2.0,\n",
    "        label=\"Validation\",\n",
    "    )\n",
    "plt.yticks(fontsize=12)\n",
    "plt.xticks(fontsize=12)\n",
    "plt.xlabel(\"Epochs\", fontsize=16)\n",
    "plt.ylabel(\"Loss\", fontsize=16)\n",
    "plt.legend(prop={\"size\": 14})\n",
    "plt.show()"
   ]
  },
  {
   "cell_type": "markdown",
   "id": "326101ed-333b-44a9-933f-55760b5d93a4",
   "metadata": {},
   "source": [
    "## Check the performance of the diffusion model\n",
    "\n",
    "We generate a random image from noise to check whether our diffusion model works properly for an image generation task.\n",
    "\n"
   ]
  },
  {
   "cell_type": "code",
   "execution_count": 13,
   "id": "8f7a9e99-a8a4-4c8f-a42f-17ef91b18585",
   "metadata": {
    "lines_to_next_cell": 2
   },
   "outputs": [
    {
     "name": "stderr",
     "output_type": "stream",
     "text": [
      "100%|███████████████████████████████████████| 1000/1000 [00:10<00:00, 95.94it/s]\n"
     ]
    },
    {
     "data": {
      "image/png": "[encoded data removed]",
      "text/plain": [
       "<Figure size 640x480 with 1 Axes>"
      ]
     },
     "metadata": {},
     "output_type": "display_data"
    }
   ],
   "source": [
    "model.eval()\n",
    "noise = torch.randn((1, 1, 64, 64))\n",
    "noise = noise.to(device)\n",
    "scheduler.set_timesteps(num_inference_steps=1000)\n",
    "with autocast(enabled=True):\n",
    "    image, intermediates = inferer.sample(\n",
    "        input_noise=noise, diffusion_model=model, scheduler=scheduler, save_intermediates=True, intermediate_steps=100\n",
    "    )\n",
    "\n",
    "chain = torch.cat(intermediates, dim=-1)\n",
    "\n",
    "plt.style.use(\"default\")\n",
    "plt.imshow(chain[0, 0].cpu(), vmin=0, vmax=1, cmap=\"gray\")\n",
    "plt.tight_layout()\n",
    "plt.axis(\"off\")\n",
    "plt.show()"
   ]
  },
  {
   "cell_type": "markdown",
   "id": "546f9983-c2e2-4c24-b03a-ebe34627638a",
   "metadata": {},
   "source": [
    "## Define the classification model\n",
    "First, we define the classification model. It follows the encoder architecture of the diffusion model, combined with linear layers for binary classification between healthy and diseased slices.\n"
   ]
  },
  {
   "cell_type": "code",
   "execution_count": 48,
   "id": "44cc6928-2525-4e61-8805-15b409097bbb",
   "metadata": {},
   "outputs": [
    {
     "data": {
      "text/plain": [
       "DiffusionModelEncoder(\n",
       "  (conv_in): Convolution(\n",
       "    (conv): Conv2d(1, 32, kernel_size=(3, 3), stride=(1, 1), padding=(1, 1))\n",
       "  )\n",
       "  (time_embed): Sequential(\n",
       "    (0): Linear(in_features=32, out_features=128, bias=True)\n",
       "    (1): SiLU()\n",
       "    (2): Linear(in_features=128, out_features=128, bias=True)\n",
       "  )\n",
       "  (down_blocks): ModuleList(\n",
       "    (0): DownBlock(\n",
       "      (resnets): ModuleList(\n",
       "        (0): ResnetBlock(\n",
       "          (norm1): GroupNorm(32, 32, eps=1e-06, affine=True)\n",
       "          (nonlinearity): SiLU()\n",
       "          (conv1): Convolution(\n",
       "            (conv): Conv2d(32, 32, kernel_size=(3, 3), stride=(1, 1), padding=(1, 1))\n",
       "          )\n",
       "          (time_emb_proj): Linear(in_features=128, out_features=32, bias=True)\n",
       "          (norm2): GroupNorm(32, 32, eps=1e-06, affine=True)\n",
       "          (conv2): Convolution(\n",
       "            (conv): Conv2d(32, 32, kernel_size=(3, 3), stride=(1, 1), padding=(1, 1))\n",
       "          )\n",
       "          (skip_connection): Identity()\n",
       "        )\n",
       "      )\n",
       "      (downsampler): Downsample(\n",
       "        (op): Convolution(\n",
       "          (conv): Conv2d(32, 32, kernel_size=(3, 3), stride=(2, 2), padding=(1, 1))\n",
       "        )\n",
       "      )\n",
       "    )\n",
       "    (1): AttnDownBlock(\n",
       "      (attentions): ModuleList(\n",
       "        (0): AttentionBlock(\n",
       "          (norm): GroupNorm(32, 64, eps=1e-06, affine=True)\n",
       "          (to_q): Linear(in_features=64, out_features=64, bias=True)\n",
       "          (to_k): Linear(in_features=64, out_features=64, bias=True)\n",
       "          (to_v): Linear(in_features=64, out_features=64, bias=True)\n",
       "          (proj_attn): Linear(in_features=64, out_features=64, bias=True)\n",
       "        )\n",
       "      )\n",
       "      (resnets): ModuleList(\n",
       "        (0): ResnetBlock(\n",
       "          (norm1): GroupNorm(32, 32, eps=1e-06, affine=True)\n",
       "          (nonlinearity): SiLU()\n",
       "          (conv1): Convolution(\n",
       "            (conv): Conv2d(32, 64, kernel_size=(3, 3), stride=(1, 1), padding=(1, 1))\n",
       "          )\n",
       "          (time_emb_proj): Linear(in_features=128, out_features=64, bias=True)\n",
       "          (norm2): GroupNorm(32, 64, eps=1e-06, affine=True)\n",
       "          (conv2): Convolution(\n",
       "            (conv): Conv2d(64, 64, kernel_size=(3, 3), stride=(1, 1), padding=(1, 1))\n",
       "          )\n",
       "          (skip_connection): Convolution(\n",
       "            (conv): Conv2d(32, 64, kernel_size=(1, 1), stride=(1, 1))\n",
       "          )\n",
       "        )\n",
       "      )\n",
       "      (downsampler): Downsample(\n",
       "        (op): Convolution(\n",
       "          (conv): Conv2d(64, 64, kernel_size=(3, 3), stride=(2, 2), padding=(1, 1))\n",
       "        )\n",
       "      )\n",
       "    )\n",
       "    (2): AttnDownBlock(\n",
       "      (attentions): ModuleList(\n",
       "        (0): AttentionBlock(\n",
       "          (norm): GroupNorm(32, 64, eps=1e-06, affine=True)\n",
       "          (to_q): Linear(in_features=64, out_features=64, bias=True)\n",
       "          (to_k): Linear(in_features=64, out_features=64, bias=True)\n",
       "          (to_v): Linear(in_features=64, out_features=64, bias=True)\n",
       "          (proj_attn): Linear(in_features=64, out_features=64, bias=True)\n",
       "        )\n",
       "      )\n",
       "      (resnets): ModuleList(\n",
       "        (0): ResnetBlock(\n",
       "          (norm1): GroupNorm(32, 64, eps=1e-06, affine=True)\n",
       "          (nonlinearity): SiLU()\n",
       "          (conv1): Convolution(\n",
       "            (conv): Conv2d(64, 64, kernel_size=(3, 3), stride=(1, 1), padding=(1, 1))\n",
       "          )\n",
       "          (time_emb_proj): Linear(in_features=128, out_features=64, bias=True)\n",
       "          (norm2): GroupNorm(32, 64, eps=1e-06, affine=True)\n",
       "          (conv2): Convolution(\n",
       "            (conv): Conv2d(64, 64, kernel_size=(3, 3), stride=(1, 1), padding=(1, 1))\n",
       "          )\n",
       "          (skip_connection): Identity()\n",
       "        )\n",
       "      )\n",
       "      (downsampler): Downsample(\n",
       "        (op): Convolution(\n",
       "          (conv): Conv2d(64, 64, kernel_size=(3, 3), stride=(2, 2), padding=(1, 1))\n",
       "        )\n",
       "      )\n",
       "    )\n",
       "  )\n",
       "  (out): Sequential(\n",
       "    (0): Linear(in_features=4096, out_features=512, bias=True)\n",
       "    (1): ReLU()\n",
       "    (2): Dropout(p=0.1, inplace=False)\n",
       "    (3): Linear(in_features=512, out_features=2, bias=True)\n",
       "  )\n",
       ")"
      ]
     },
     "execution_count": 48,
     "metadata": {},
     "output_type": "execute_result"
    }
   ],
   "source": [
    "classifier = DiffusionModelEncoder(\n",
    "    spatial_dims=2,\n",
    "    in_channels=1,\n",
    "    out_channels=2,\n",
    "    num_channels=(32, 64, 64),\n",
    "    attention_levels=(False, True, True),\n",
    "    num_res_blocks=(1,1,1),\n",
    "    num_head_channels=64,\n",
    "    with_conditioning=False,\n",
    ")\n",
    "classifier.to(device)\n",
    "\n"
   ]
  },
  {
   "cell_type": "markdown",
   "id": "45fab83a-b4c8-42cb-96c9-4e9f1e191111",
   "metadata": {},
   "source": [
    "## Model training of the classification model\n",
    "We train our classification model for 100 epochs.\n"
   ]
  },
  {
   "cell_type": "code",
   "execution_count": 20,
   "id": "de18d5cb-68e7-407c-afe9-8efd7a5a904a",
   "metadata": {
    "lines_to_next_cell": 0
   },
   "outputs": [
    {
     "name": "stderr",
     "output_type": "stream",
     "text": [
      "Epoch 0: : 534it [00:24, 22.16it/s, loss=0.671]                                 \n"
     ]
    },
    {
     "name": "stdout",
     "output_type": "stream",
     "text": [
      "final step train 533\n"
     ]
    },
    {
     "name": "stderr",
     "output_type": "stream",
     "text": [
      "Epoch 0: : 17it [00:00, 65.41it/s, val_loss=0.288]\n",
      "Epoch 1: : 534it [00:24, 21.99it/s, loss=0.612]                                 \n"
     ]
    },
    {
     "name": "stdout",
     "output_type": "stream",
     "text": [
      "final step train 533\n"
     ]
    },
    {
     "name": "stderr",
     "output_type": "stream",
     "text": [
      "Epoch 1: : 17it [00:00, 66.80it/s, val_loss=0.363]\n",
      "Epoch 2: : 534it [00:24, 21.92it/s, loss=0.586]                                 \n"
     ]
    },
    {
     "name": "stdout",
     "output_type": "stream",
     "text": [
      "final step train 533\n"
     ]
    },
    {
     "name": "stderr",
     "output_type": "stream",
     "text": [
      "Epoch 2: : 17it [00:00, 68.07it/s, val_loss=0.226]\n",
      "Epoch 3: : 534it [00:26, 20.48it/s, loss=0.581]                                 \n"
     ]
    },
    {
     "name": "stdout",
     "output_type": "stream",
     "text": [
      "final step train 533\n"
     ]
    },
    {
     "name": "stderr",
     "output_type": "stream",
     "text": [
      "Epoch 3: : 17it [00:00, 63.17it/s, val_loss=0.217]\n",
      "Epoch 4: : 534it [00:25, 20.99it/s, loss=0.579]                                 \n"
     ]
    },
    {
     "name": "stdout",
     "output_type": "stream",
     "text": [
      "final step train 533\n"
     ]
    },
    {
     "name": "stderr",
     "output_type": "stream",
     "text": [
      "Epoch 4: : 17it [00:00, 63.70it/s, val_loss=0.211]\n",
      "Epoch 5: : 534it [00:26, 20.46it/s, loss=0.572]                                 \n"
     ]
    },
    {
     "name": "stdout",
     "output_type": "stream",
     "text": [
      "final step train 533\n"
     ]
    },
    {
     "name": "stderr",
     "output_type": "stream",
     "text": [
      "Epoch 5: : 17it [00:00, 63.46it/s, val_loss=0.234]\n",
      "Epoch 6: : 534it [00:25, 20.66it/s, loss=0.577]                                 \n"
     ]
    },
    {
     "name": "stdout",
     "output_type": "stream",
     "text": [
      "final step train 533\n"
     ]
    },
    {
     "name": "stderr",
     "output_type": "stream",
     "text": [
      "Epoch 6: : 17it [00:00, 63.53it/s, val_loss=0.306]\n",
      "Epoch 7: : 534it [00:26, 20.39it/s, loss=0.57]                                  \n"
     ]
    },
    {
     "name": "stdout",
     "output_type": "stream",
     "text": [
      "final step train 533\n"
     ]
    },
    {
     "name": "stderr",
     "output_type": "stream",
     "text": [
      "Epoch 7: : 17it [00:00, 62.97it/s, val_loss=0.372]\n",
      "Epoch 8: : 534it [00:25, 20.72it/s, loss=0.572]                                 \n"
     ]
    },
    {
     "name": "stdout",
     "output_type": "stream",
     "text": [
      "final step train 533\n"
     ]
    },
    {
     "name": "stderr",
     "output_type": "stream",
     "text": [
      "Epoch 8: : 17it [00:00, 63.76it/s, val_loss=0.208]\n",
      "Epoch 9: : 534it [00:26, 20.18it/s, loss=0.565]                                 \n"
     ]
    },
    {
     "name": "stdout",
     "output_type": "stream",
     "text": [
      "final step train 533\n"
     ]
    },
    {
     "name": "stderr",
     "output_type": "stream",
     "text": [
      "Epoch 9: : 17it [00:00, 61.70it/s, val_loss=0.245]\n",
      "Epoch 10: : 534it [00:26, 20.22it/s, loss=0.563]                                \n"
     ]
    },
    {
     "name": "stdout",
     "output_type": "stream",
     "text": [
      "final step train 533\n"
     ]
    },
    {
     "name": "stderr",
     "output_type": "stream",
     "text": [
      "Epoch 10: : 17it [00:00, 63.48it/s, val_loss=0.181]\n",
      "Epoch 11: : 534it [00:26, 20.42it/s, loss=0.564]                                \n"
     ]
    },
    {
     "name": "stdout",
     "output_type": "stream",
     "text": [
      "final step train 533\n"
     ]
    },
    {
     "name": "stderr",
     "output_type": "stream",
     "text": [
      "Epoch 11: : 17it [00:00, 64.20it/s, val_loss=0.196]\n",
      "Epoch 12: : 534it [00:26, 20.35it/s, loss=0.562]                                \n"
     ]
    },
    {
     "name": "stdout",
     "output_type": "stream",
     "text": [
      "final step train 533\n"
     ]
    },
    {
     "name": "stderr",
     "output_type": "stream",
     "text": [
      "Epoch 12: : 17it [00:00, 64.27it/s, val_loss=0.235]\n",
      "Epoch 13: : 534it [00:26, 20.31it/s, loss=0.562]                                \n"
     ]
    },
    {
     "name": "stdout",
     "output_type": "stream",
     "text": [
      "final step train 533\n"
     ]
    },
    {
     "name": "stderr",
     "output_type": "stream",
     "text": [
      "Epoch 13: : 17it [00:00, 62.05it/s, val_loss=0.2]  \n",
      "Epoch 14: : 534it [00:26, 20.35it/s, loss=0.557]                                \n"
     ]
    },
    {
     "name": "stdout",
     "output_type": "stream",
     "text": [
      "final step train 533\n"
     ]
    },
    {
     "name": "stderr",
     "output_type": "stream",
     "text": [
      "Epoch 14: : 17it [00:00, 63.59it/s, val_loss=0.232]\n",
      "Epoch 15: : 534it [00:26, 20.25it/s, loss=0.558]                                \n"
     ]
    },
    {
     "name": "stdout",
     "output_type": "stream",
     "text": [
      "final step train 533\n"
     ]
    },
    {
     "name": "stderr",
     "output_type": "stream",
     "text": [
      "Epoch 15: : 17it [00:00, 62.56it/s, val_loss=0.236]\n",
      "Epoch 16: : 534it [00:26, 20.39it/s, loss=0.559]                                \n"
     ]
    },
    {
     "name": "stdout",
     "output_type": "stream",
     "text": [
      "final step train 533\n"
     ]
    },
    {
     "name": "stderr",
     "output_type": "stream",
     "text": [
      "Epoch 16: : 17it [00:00, 62.08it/s, val_loss=0.227]\n",
      "Epoch 17: : 534it [00:26, 20.44it/s, loss=0.561]                                \n"
     ]
    },
    {
     "name": "stdout",
     "output_type": "stream",
     "text": [
      "final step train 533\n"
     ]
    },
    {
     "name": "stderr",
     "output_type": "stream",
     "text": [
      "Epoch 17: : 17it [00:00, 61.93it/s, val_loss=0.232]\n",
      "Epoch 18: : 534it [00:26, 20.10it/s, loss=0.556]                                \n"
     ]
    },
    {
     "name": "stdout",
     "output_type": "stream",
     "text": [
      "final step train 533\n"
     ]
    },
    {
     "name": "stderr",
     "output_type": "stream",
     "text": [
      "Epoch 18: : 17it [00:00, 61.19it/s, val_loss=0.265]\n",
      "Epoch 19: : 534it [00:26, 20.52it/s, loss=0.553]                                \n"
     ]
    },
    {
     "name": "stdout",
     "output_type": "stream",
     "text": [
      "final step train 533\n"
     ]
    },
    {
     "name": "stderr",
     "output_type": "stream",
     "text": [
      "Epoch 19: : 17it [00:00, 61.85it/s, val_loss=0.214]\n",
      "Epoch 20: : 534it [00:26, 20.13it/s, loss=0.549]                                \n"
     ]
    },
    {
     "name": "stdout",
     "output_type": "stream",
     "text": [
      "final step train 533\n"
     ]
    },
    {
     "name": "stderr",
     "output_type": "stream",
     "text": [
      "Epoch 20: : 17it [00:00, 62.12it/s, val_loss=0.304]\n",
      "Epoch 21: : 534it [00:26, 20.33it/s, loss=0.554]                                \n"
     ]
    },
    {
     "name": "stdout",
     "output_type": "stream",
     "text": [
      "final step train 533\n"
     ]
    },
    {
     "name": "stderr",
     "output_type": "stream",
     "text": [
      "Epoch 21: : 17it [00:00, 60.91it/s, val_loss=0.235]\n",
      "Epoch 22: : 534it [00:26, 20.19it/s, loss=0.554]                                \n"
     ]
    },
    {
     "name": "stdout",
     "output_type": "stream",
     "text": [
      "final step train 533\n"
     ]
    },
    {
     "name": "stderr",
     "output_type": "stream",
     "text": [
      "Epoch 22: : 17it [00:00, 62.88it/s, val_loss=0.232]\n",
      "Epoch 23: : 534it [00:26, 20.24it/s, loss=0.549]                                \n"
     ]
    },
    {
     "name": "stdout",
     "output_type": "stream",
     "text": [
      "final step train 533\n"
     ]
    },
    {
     "name": "stderr",
     "output_type": "stream",
     "text": [
      "Epoch 23: : 17it [00:00, 62.73it/s, val_loss=0.146]\n",
      "Epoch 24: : 534it [00:26, 20.32it/s, loss=0.553]                                \n"
     ]
    },
    {
     "name": "stdout",
     "output_type": "stream",
     "text": [
      "final step train 533\n"
     ]
    },
    {
     "name": "stderr",
     "output_type": "stream",
     "text": [
      "Epoch 24: : 17it [00:00, 62.44it/s, val_loss=0.223]\n",
      "Epoch 25: : 534it [00:26, 20.20it/s, loss=0.553]                                \n"
     ]
    },
    {
     "name": "stdout",
     "output_type": "stream",
     "text": [
      "final step train 533\n"
     ]
    },
    {
     "name": "stderr",
     "output_type": "stream",
     "text": [
      "Epoch 25: : 17it [00:00, 62.95it/s, val_loss=0.286]\n",
      "Epoch 26: : 534it [00:26, 20.24it/s, loss=0.547]                                \n"
     ]
    },
    {
     "name": "stdout",
     "output_type": "stream",
     "text": [
      "final step train 533\n"
     ]
    },
    {
     "name": "stderr",
     "output_type": "stream",
     "text": [
      "Epoch 26: : 17it [00:00, 63.56it/s, val_loss=0.316]\n",
      "Epoch 27: : 534it [00:26, 20.20it/s, loss=0.549]                                \n"
     ]
    },
    {
     "name": "stdout",
     "output_type": "stream",
     "text": [
      "final step train 533\n"
     ]
    },
    {
     "name": "stderr",
     "output_type": "stream",
     "text": [
      "Epoch 27: : 17it [00:00, 61.08it/s, val_loss=0.217]\n",
      "Epoch 28: : 534it [00:26, 20.18it/s, loss=0.548]                                \n"
     ]
    },
    {
     "name": "stdout",
     "output_type": "stream",
     "text": [
      "final step train 533\n"
     ]
    },
    {
     "name": "stderr",
     "output_type": "stream",
     "text": [
      "Epoch 28: : 17it [00:00, 63.45it/s, val_loss=0.155]\n",
      "Epoch 29: : 534it [00:26, 20.30it/s, loss=0.544]                                \n"
     ]
    },
    {
     "name": "stdout",
     "output_type": "stream",
     "text": [
      "final step train 533\n"
     ]
    },
    {
     "name": "stderr",
     "output_type": "stream",
     "text": [
      "Epoch 29: : 17it [00:00, 62.70it/s, val_loss=0.227]\n",
      "Epoch 30: : 534it [00:25, 20.61it/s, loss=0.55]                                 \n"
     ]
    },
    {
     "name": "stdout",
     "output_type": "stream",
     "text": [
      "final step train 533\n"
     ]
    },
    {
     "name": "stderr",
     "output_type": "stream",
     "text": [
      "Epoch 30: : 17it [00:00, 66.44it/s, val_loss=0.2]  \n",
      "Epoch 31: : 534it [00:26, 20.32it/s, loss=0.548]                                \n"
     ]
    },
    {
     "name": "stdout",
     "output_type": "stream",
     "text": [
      "final step train 533\n"
     ]
    },
    {
     "name": "stderr",
     "output_type": "stream",
     "text": [
      "Epoch 31: : 17it [00:00, 61.60it/s, val_loss=0.258]\n",
      "Epoch 32: : 534it [00:26, 20.40it/s, loss=0.549]                                \n"
     ]
    },
    {
     "name": "stdout",
     "output_type": "stream",
     "text": [
      "final step train 533\n"
     ]
    },
    {
     "name": "stderr",
     "output_type": "stream",
     "text": [
      "Epoch 32: : 17it [00:00, 63.44it/s, val_loss=0.17] \n",
      "Epoch 33: : 534it [00:26, 20.37it/s, loss=0.546]                                \n"
     ]
    },
    {
     "name": "stdout",
     "output_type": "stream",
     "text": [
      "final step train 533\n"
     ]
    },
    {
     "name": "stderr",
     "output_type": "stream",
     "text": [
      "Epoch 33: : 17it [00:00, 62.44it/s, val_loss=0.197]\n",
      "Epoch 34: : 534it [00:26, 20.23it/s, loss=0.548]                                \n"
     ]
    },
    {
     "name": "stdout",
     "output_type": "stream",
     "text": [
      "final step train 533\n"
     ]
    },
    {
     "name": "stderr",
     "output_type": "stream",
     "text": [
      "Epoch 34: : 17it [00:00, 64.16it/s, val_loss=0.227]\n",
      "Epoch 35: : 534it [00:26, 20.28it/s, loss=0.547]                                \n"
     ]
    },
    {
     "name": "stdout",
     "output_type": "stream",
     "text": [
      "final step train 533\n"
     ]
    },
    {
     "name": "stderr",
     "output_type": "stream",
     "text": [
      "Epoch 35: : 17it [00:00, 61.64it/s, val_loss=0.182]\n",
      "Epoch 36: : 534it [00:26, 20.24it/s, loss=0.543]                                \n"
     ]
    },
    {
     "name": "stdout",
     "output_type": "stream",
     "text": [
      "final step train 533\n"
     ]
    },
    {
     "name": "stderr",
     "output_type": "stream",
     "text": [
      "Epoch 36: : 17it [00:00, 62.97it/s, val_loss=0.189]\n",
      "Epoch 37: : 534it [00:26, 20.37it/s, loss=0.548]                                \n"
     ]
    },
    {
     "name": "stdout",
     "output_type": "stream",
     "text": [
      "final step train 533\n"
     ]
    },
    {
     "name": "stderr",
     "output_type": "stream",
     "text": [
      "Epoch 37: : 17it [00:00, 63.50it/s, val_loss=0.232]\n",
      "Epoch 38: : 534it [00:26, 20.30it/s, loss=0.554]                                \n"
     ]
    },
    {
     "name": "stdout",
     "output_type": "stream",
     "text": [
      "final step train 533\n"
     ]
    },
    {
     "name": "stderr",
     "output_type": "stream",
     "text": [
      "Epoch 38: : 17it [00:00, 62.30it/s, val_loss=0.175]\n",
      "Epoch 39: : 534it [00:26, 20.25it/s, loss=0.545]                                \n"
     ]
    },
    {
     "name": "stdout",
     "output_type": "stream",
     "text": [
      "final step train 533\n"
     ]
    },
    {
     "name": "stderr",
     "output_type": "stream",
     "text": [
      "Epoch 39: : 17it [00:00, 62.73it/s, val_loss=0.219]\n",
      "Epoch 40: : 534it [00:26, 20.17it/s, loss=0.543]                                \n"
     ]
    },
    {
     "name": "stdout",
     "output_type": "stream",
     "text": [
      "final step train 533\n"
     ]
    },
    {
     "name": "stderr",
     "output_type": "stream",
     "text": [
      "Epoch 40: : 17it [00:00, 62.13it/s, val_loss=0.169]\n",
      "Epoch 41: : 534it [00:26, 20.06it/s, loss=0.547]                                \n"
     ]
    },
    {
     "name": "stdout",
     "output_type": "stream",
     "text": [
      "final step train 533\n"
     ]
    },
    {
     "name": "stderr",
     "output_type": "stream",
     "text": [
      "Epoch 41: : 17it [00:00, 61.03it/s, val_loss=0.153]\n",
      "Epoch 42: : 534it [00:26, 20.06it/s, loss=0.539]                                \n"
     ]
    },
    {
     "name": "stdout",
     "output_type": "stream",
     "text": [
      "final step train 533\n"
     ]
    },
    {
     "name": "stderr",
     "output_type": "stream",
     "text": [
      "Epoch 42: : 17it [00:00, 62.17it/s, val_loss=0.18] \n",
      "Epoch 43: : 534it [00:26, 20.04it/s, loss=0.543]                                \n"
     ]
    },
    {
     "name": "stdout",
     "output_type": "stream",
     "text": [
      "final step train 533\n"
     ]
    },
    {
     "name": "stderr",
     "output_type": "stream",
     "text": [
      "Epoch 43: : 17it [00:00, 61.85it/s, val_loss=0.168]\n",
      "Epoch 44: : 534it [00:26, 19.98it/s, loss=0.542]                                \n"
     ]
    },
    {
     "name": "stdout",
     "output_type": "stream",
     "text": [
      "final step train 533\n"
     ]
    },
    {
     "name": "stderr",
     "output_type": "stream",
     "text": [
      "Epoch 44: : 17it [00:00, 61.28it/s, val_loss=0.181]\n",
      "Epoch 45: : 534it [00:26, 20.16it/s, loss=0.542]                                \n"
     ]
    },
    {
     "name": "stdout",
     "output_type": "stream",
     "text": [
      "final step train 533\n"
     ]
    },
    {
     "name": "stderr",
     "output_type": "stream",
     "text": [
      "Epoch 45: : 17it [00:00, 63.26it/s, val_loss=0.154]\n",
      "Epoch 46: : 534it [00:26, 20.08it/s, loss=0.54]                                 \n"
     ]
    },
    {
     "name": "stdout",
     "output_type": "stream",
     "text": [
      "final step train 533\n"
     ]
    },
    {
     "name": "stderr",
     "output_type": "stream",
     "text": [
      "Epoch 46: : 17it [00:00, 61.43it/s, val_loss=0.151]\n",
      "Epoch 47: : 534it [00:26, 20.06it/s, loss=0.545]                                \n"
     ]
    },
    {
     "name": "stdout",
     "output_type": "stream",
     "text": [
      "final step train 533\n"
     ]
    },
    {
     "name": "stderr",
     "output_type": "stream",
     "text": [
      "Epoch 47: : 17it [00:00, 62.66it/s, val_loss=0.174]\n",
      "Epoch 48: : 534it [00:26, 20.27it/s, loss=0.544]                                \n"
     ]
    },
    {
     "name": "stdout",
     "output_type": "stream",
     "text": [
      "final step train 533\n"
     ]
    },
    {
     "name": "stderr",
     "output_type": "stream",
     "text": [
      "Epoch 48: : 17it [00:00, 62.88it/s, val_loss=0.148]\n",
      "Epoch 49: : 534it [00:26, 20.32it/s, loss=0.539]                                \n"
     ]
    },
    {
     "name": "stdout",
     "output_type": "stream",
     "text": [
      "final step train 533\n"
     ]
    },
    {
     "name": "stderr",
     "output_type": "stream",
     "text": [
      "Epoch 49: : 17it [00:00, 62.37it/s, val_loss=0.178]\n",
      "Epoch 50: : 534it [00:26, 20.24it/s, loss=0.54]                                 \n"
     ]
    },
    {
     "name": "stdout",
     "output_type": "stream",
     "text": [
      "final step train 533\n"
     ]
    },
    {
     "name": "stderr",
     "output_type": "stream",
     "text": [
      "Epoch 50: : 17it [00:00, 62.16it/s, val_loss=0.203]\n",
      "Epoch 51: : 534it [00:26, 20.33it/s, loss=0.539]                                \n"
     ]
    },
    {
     "name": "stdout",
     "output_type": "stream",
     "text": [
      "final step train 533\n"
     ]
    },
    {
     "name": "stderr",
     "output_type": "stream",
     "text": [
      "Epoch 51: : 17it [00:00, 63.13it/s, val_loss=0.178]\n",
      "Epoch 52: : 534it [00:26, 20.37it/s, loss=0.54]                                 \n"
     ]
    },
    {
     "name": "stdout",
     "output_type": "stream",
     "text": [
      "final step train 533\n"
     ]
    },
    {
     "name": "stderr",
     "output_type": "stream",
     "text": [
      "Epoch 52: : 17it [00:00, 63.45it/s, val_loss=0.191]\n",
      "Epoch 53: : 534it [00:26, 20.32it/s, loss=0.539]                                \n"
     ]
    },
    {
     "name": "stdout",
     "output_type": "stream",
     "text": [
      "final step train 533\n"
     ]
    },
    {
     "name": "stderr",
     "output_type": "stream",
     "text": [
      "Epoch 53: : 17it [00:00, 62.24it/s, val_loss=0.182]\n",
      "Epoch 54: : 534it [00:26, 20.10it/s, loss=0.537]                                \n"
     ]
    },
    {
     "name": "stdout",
     "output_type": "stream",
     "text": [
      "final step train 533\n"
     ]
    },
    {
     "name": "stderr",
     "output_type": "stream",
     "text": [
      "Epoch 54: : 17it [00:00, 63.44it/s, val_loss=0.184]\n",
      "Epoch 55: : 534it [00:26, 19.94it/s, loss=0.544]                                \n"
     ]
    },
    {
     "name": "stdout",
     "output_type": "stream",
     "text": [
      "final step train 533\n"
     ]
    },
    {
     "name": "stderr",
     "output_type": "stream",
     "text": [
      "Epoch 55: : 17it [00:00, 62.61it/s, val_loss=0.165]\n",
      "Epoch 56: : 534it [00:26, 20.19it/s, loss=0.545]                                \n"
     ]
    },
    {
     "name": "stdout",
     "output_type": "stream",
     "text": [
      "final step train 533\n"
     ]
    },
    {
     "name": "stderr",
     "output_type": "stream",
     "text": [
      "Epoch 56: : 17it [00:00, 61.80it/s, val_loss=0.175]\n",
      "Epoch 57: : 534it [00:26, 20.07it/s, loss=0.539]                                \n"
     ]
    },
    {
     "name": "stdout",
     "output_type": "stream",
     "text": [
      "final step train 533\n"
     ]
    },
    {
     "name": "stderr",
     "output_type": "stream",
     "text": [
      "Epoch 57: : 17it [00:00, 62.74it/s, val_loss=0.164]\n",
      "Epoch 58: : 534it [00:26, 20.27it/s, loss=0.538]                                \n"
     ]
    },
    {
     "name": "stdout",
     "output_type": "stream",
     "text": [
      "final step train 533\n"
     ]
    },
    {
     "name": "stderr",
     "output_type": "stream",
     "text": [
      "Epoch 58: : 17it [00:00, 62.64it/s, val_loss=0.159]\n",
      "Epoch 59: : 534it [00:26, 20.23it/s, loss=0.536]                                \n"
     ]
    },
    {
     "name": "stdout",
     "output_type": "stream",
     "text": [
      "final step train 533\n"
     ]
    },
    {
     "name": "stderr",
     "output_type": "stream",
     "text": [
      "Epoch 59: : 17it [00:00, 63.27it/s, val_loss=0.166]\n",
      "Epoch 60: : 534it [00:26, 20.21it/s, loss=0.531]                                \n"
     ]
    },
    {
     "name": "stdout",
     "output_type": "stream",
     "text": [
      "final step train 533\n"
     ]
    },
    {
     "name": "stderr",
     "output_type": "stream",
     "text": [
      "Epoch 60: : 17it [00:00, 62.98it/s, val_loss=0.146]\n",
      "Epoch 61: : 534it [00:26, 20.03it/s, loss=0.539]                                \n"
     ]
    },
    {
     "name": "stdout",
     "output_type": "stream",
     "text": [
      "final step train 533\n"
     ]
    },
    {
     "name": "stderr",
     "output_type": "stream",
     "text": [
      "Epoch 61: : 17it [00:00, 61.23it/s, val_loss=0.153]\n",
      "Epoch 62: : 534it [00:26, 20.15it/s, loss=0.54]                                 \n"
     ]
    },
    {
     "name": "stdout",
     "output_type": "stream",
     "text": [
      "final step train 533\n"
     ]
    },
    {
     "name": "stderr",
     "output_type": "stream",
     "text": [
      "Epoch 62: : 17it [00:00, 62.14it/s, val_loss=0.18] \n",
      "Epoch 63: : 534it [00:26, 20.22it/s, loss=0.534]                                \n"
     ]
    },
    {
     "name": "stdout",
     "output_type": "stream",
     "text": [
      "final step train 533\n"
     ]
    },
    {
     "name": "stderr",
     "output_type": "stream",
     "text": [
      "Epoch 63: : 17it [00:00, 61.99it/s, val_loss=0.152]\n",
      "Epoch 64: : 534it [00:26, 20.04it/s, loss=0.531]                                \n"
     ]
    },
    {
     "name": "stdout",
     "output_type": "stream",
     "text": [
      "final step train 533\n"
     ]
    },
    {
     "name": "stderr",
     "output_type": "stream",
     "text": [
      "Epoch 64: : 17it [00:00, 61.32it/s, val_loss=0.14] \n",
      "Epoch 65: : 534it [00:26, 20.25it/s, loss=0.539]                                \n"
     ]
    },
    {
     "name": "stdout",
     "output_type": "stream",
     "text": [
      "final step train 533\n"
     ]
    },
    {
     "name": "stderr",
     "output_type": "stream",
     "text": [
      "Epoch 65: : 17it [00:00, 63.32it/s, val_loss=0.145]\n",
      "Epoch 66: : 534it [00:26, 20.14it/s, loss=0.539]                                \n"
     ]
    },
    {
     "name": "stdout",
     "output_type": "stream",
     "text": [
      "final step train 533\n"
     ]
    },
    {
     "name": "stderr",
     "output_type": "stream",
     "text": [
      "Epoch 66: : 17it [00:00, 61.50it/s, val_loss=0.154]\n",
      "Epoch 67: : 534it [00:26, 20.09it/s, loss=0.538]                                \n"
     ]
    },
    {
     "name": "stdout",
     "output_type": "stream",
     "text": [
      "final step train 533\n"
     ]
    },
    {
     "name": "stderr",
     "output_type": "stream",
     "text": [
      "Epoch 67: : 17it [00:00, 59.68it/s, val_loss=0.148]\n",
      "Epoch 68: : 534it [00:26, 20.25it/s, loss=0.538]                                \n"
     ]
    },
    {
     "name": "stdout",
     "output_type": "stream",
     "text": [
      "final step train 533\n"
     ]
    },
    {
     "name": "stderr",
     "output_type": "stream",
     "text": [
      "Epoch 68: : 17it [00:00, 63.40it/s, val_loss=0.172]\n",
      "Epoch 69: : 534it [00:26, 20.34it/s, loss=0.543]                                \n"
     ]
    },
    {
     "name": "stdout",
     "output_type": "stream",
     "text": [
      "final step train 533\n"
     ]
    },
    {
     "name": "stderr",
     "output_type": "stream",
     "text": [
      "Epoch 69: : 17it [00:00, 61.41it/s, val_loss=0.211]\n",
      "Epoch 70: : 534it [00:26, 20.22it/s, loss=0.538]                                \n"
     ]
    },
    {
     "name": "stdout",
     "output_type": "stream",
     "text": [
      "final step train 533\n"
     ]
    },
    {
     "name": "stderr",
     "output_type": "stream",
     "text": [
      "Epoch 70: : 17it [00:00, 60.88it/s, val_loss=0.158]\n",
      "Epoch 71: : 534it [00:26, 20.51it/s, loss=0.537]                                \n"
     ]
    },
    {
     "name": "stdout",
     "output_type": "stream",
     "text": [
      "final step train 533\n"
     ]
    },
    {
     "name": "stderr",
     "output_type": "stream",
     "text": [
      "Epoch 71: : 17it [00:00, 62.84it/s, val_loss=0.129]\n",
      "Epoch 72: : 534it [00:26, 20.30it/s, loss=0.533]                                \n"
     ]
    },
    {
     "name": "stdout",
     "output_type": "stream",
     "text": [
      "final step train 533\n"
     ]
    },
    {
     "name": "stderr",
     "output_type": "stream",
     "text": [
      "Epoch 72: : 17it [00:00, 63.48it/s, val_loss=0.197]\n",
      "Epoch 73: : 534it [00:26, 20.27it/s, loss=0.537]                                \n"
     ]
    },
    {
     "name": "stdout",
     "output_type": "stream",
     "text": [
      "final step train 533\n"
     ]
    },
    {
     "name": "stderr",
     "output_type": "stream",
     "text": [
      "Epoch 73: : 17it [00:00, 62.99it/s, val_loss=0.158]\n",
      "Epoch 74: : 534it [00:26, 20.17it/s, loss=0.531]                                \n"
     ]
    },
    {
     "name": "stdout",
     "output_type": "stream",
     "text": [
      "final step train 533\n"
     ]
    },
    {
     "name": "stderr",
     "output_type": "stream",
     "text": [
      "Epoch 74: : 17it [00:00, 62.28it/s, val_loss=0.147]\n",
      "Epoch 75: : 534it [00:26, 20.25it/s, loss=0.535]                                \n"
     ]
    },
    {
     "name": "stdout",
     "output_type": "stream",
     "text": [
      "final step train 533\n"
     ]
    },
    {
     "name": "stderr",
     "output_type": "stream",
     "text": [
      "Epoch 75: : 17it [00:00, 63.89it/s, val_loss=0.131]\n",
      "Epoch 76: : 534it [00:26, 20.34it/s, loss=0.536]                                \n"
     ]
    },
    {
     "name": "stdout",
     "output_type": "stream",
     "text": [
      "final step train 533\n"
     ]
    },
    {
     "name": "stderr",
     "output_type": "stream",
     "text": [
      "Epoch 76: : 17it [00:00, 61.53it/s, val_loss=0.155]\n",
      "Epoch 77: : 534it [00:26, 20.15it/s, loss=0.535]                                \n"
     ]
    },
    {
     "name": "stdout",
     "output_type": "stream",
     "text": [
      "final step train 533\n"
     ]
    },
    {
     "name": "stderr",
     "output_type": "stream",
     "text": [
      "Epoch 77: : 17it [00:00, 61.50it/s, val_loss=0.158]\n",
      "Epoch 78: : 534it [00:26, 20.20it/s, loss=0.534]                                \n"
     ]
    },
    {
     "name": "stdout",
     "output_type": "stream",
     "text": [
      "final step train 533\n"
     ]
    },
    {
     "name": "stderr",
     "output_type": "stream",
     "text": [
      "Epoch 78: : 17it [00:00, 62.59it/s, val_loss=0.153]\n",
      "Epoch 79: : 534it [00:26, 20.19it/s, loss=0.533]                                \n"
     ]
    },
    {
     "name": "stdout",
     "output_type": "stream",
     "text": [
      "final step train 533\n"
     ]
    },
    {
     "name": "stderr",
     "output_type": "stream",
     "text": [
      "Epoch 79: : 17it [00:00, 61.60it/s, val_loss=0.162]\n",
      "Epoch 80: : 534it [00:26, 20.31it/s, loss=0.537]                                \n"
     ]
    },
    {
     "name": "stdout",
     "output_type": "stream",
     "text": [
      "final step train 533\n"
     ]
    },
    {
     "name": "stderr",
     "output_type": "stream",
     "text": [
      "Epoch 80: : 17it [00:00, 63.66it/s, val_loss=0.181]\n",
      "Epoch 81: : 534it [00:26, 20.48it/s, loss=0.535]                                \n"
     ]
    },
    {
     "name": "stdout",
     "output_type": "stream",
     "text": [
      "final step train 533\n"
     ]
    },
    {
     "name": "stderr",
     "output_type": "stream",
     "text": [
      "Epoch 81: : 17it [00:00, 63.58it/s, val_loss=0.216]\n",
      "Epoch 82: : 534it [00:26, 20.11it/s, loss=0.533]                                \n"
     ]
    },
    {
     "name": "stdout",
     "output_type": "stream",
     "text": [
      "final step train 533\n"
     ]
    },
    {
     "name": "stderr",
     "output_type": "stream",
     "text": [
      "Epoch 82: : 17it [00:00, 60.27it/s, val_loss=0.139]\n",
      "Epoch 83: : 534it [00:26, 20.29it/s, loss=0.53]                                 \n"
     ]
    },
    {
     "name": "stdout",
     "output_type": "stream",
     "text": [
      "final step train 533\n"
     ]
    },
    {
     "name": "stderr",
     "output_type": "stream",
     "text": [
      "Epoch 83: : 17it [00:00, 62.75it/s, val_loss=0.202]\n",
      "Epoch 84: : 534it [00:26, 20.10it/s, loss=0.532]                                \n"
     ]
    },
    {
     "name": "stdout",
     "output_type": "stream",
     "text": [
      "final step train 533\n"
     ]
    },
    {
     "name": "stderr",
     "output_type": "stream",
     "text": [
      "Epoch 84: : 17it [00:00, 60.65it/s, val_loss=0.148]\n",
      "Epoch 85: : 534it [00:26, 20.23it/s, loss=0.531]                                \n"
     ]
    },
    {
     "name": "stdout",
     "output_type": "stream",
     "text": [
      "final step train 533\n"
     ]
    },
    {
     "name": "stderr",
     "output_type": "stream",
     "text": [
      "Epoch 85: : 17it [00:00, 63.67it/s, val_loss=0.153]\n",
      "Epoch 86: : 534it [00:26, 20.20it/s, loss=0.532]                                \n"
     ]
    },
    {
     "name": "stdout",
     "output_type": "stream",
     "text": [
      "final step train 533\n"
     ]
    },
    {
     "name": "stderr",
     "output_type": "stream",
     "text": [
      "Epoch 86: : 17it [00:00, 63.29it/s, val_loss=0.153]\n",
      "Epoch 87: : 534it [00:26, 20.26it/s, loss=0.53]                                 \n"
     ]
    },
    {
     "name": "stdout",
     "output_type": "stream",
     "text": [
      "final step train 533\n"
     ]
    },
    {
     "name": "stderr",
     "output_type": "stream",
     "text": [
      "Epoch 87: : 17it [00:00, 63.14it/s, val_loss=0.148]\n",
      "Epoch 88: : 534it [00:26, 20.04it/s, loss=0.535]                                \n"
     ]
    },
    {
     "name": "stdout",
     "output_type": "stream",
     "text": [
      "final step train 533\n"
     ]
    },
    {
     "name": "stderr",
     "output_type": "stream",
     "text": [
      "Epoch 88: : 17it [00:00, 63.95it/s, val_loss=0.194]\n",
      "Epoch 89: : 534it [00:26, 20.19it/s, loss=0.527]                                \n"
     ]
    },
    {
     "name": "stdout",
     "output_type": "stream",
     "text": [
      "final step train 533\n"
     ]
    },
    {
     "name": "stderr",
     "output_type": "stream",
     "text": [
      "Epoch 89: : 17it [00:00, 62.93it/s, val_loss=0.175]\n",
      "Epoch 90: : 534it [00:26, 20.35it/s, loss=0.528]                                \n"
     ]
    },
    {
     "name": "stdout",
     "output_type": "stream",
     "text": [
      "final step train 533\n"
     ]
    },
    {
     "name": "stderr",
     "output_type": "stream",
     "text": [
      "Epoch 90: : 17it [00:00, 63.62it/s, val_loss=0.173]\n",
      "Epoch 91: : 534it [00:26, 20.25it/s, loss=0.522]                                \n"
     ]
    },
    {
     "name": "stdout",
     "output_type": "stream",
     "text": [
      "final step train 533\n"
     ]
    },
    {
     "name": "stderr",
     "output_type": "stream",
     "text": [
      "Epoch 91: : 17it [00:00, 63.33it/s, val_loss=0.167]\n",
      "Epoch 92: : 534it [00:26, 20.20it/s, loss=0.531]                                \n"
     ]
    },
    {
     "name": "stdout",
     "output_type": "stream",
     "text": [
      "final step train 533\n"
     ]
    },
    {
     "name": "stderr",
     "output_type": "stream",
     "text": [
      "Epoch 92: : 17it [00:00, 61.01it/s, val_loss=0.183]\n",
      "Epoch 93: : 534it [00:26, 20.18it/s, loss=0.531]                                \n"
     ]
    },
    {
     "name": "stdout",
     "output_type": "stream",
     "text": [
      "final step train 533\n"
     ]
    },
    {
     "name": "stderr",
     "output_type": "stream",
     "text": [
      "Epoch 93: : 17it [00:00, 61.76it/s, val_loss=0.179]\n",
      "Epoch 94: : 534it [00:26, 20.31it/s, loss=0.533]                                \n"
     ]
    },
    {
     "name": "stdout",
     "output_type": "stream",
     "text": [
      "final step train 533\n"
     ]
    },
    {
     "name": "stderr",
     "output_type": "stream",
     "text": [
      "Epoch 94: : 17it [00:00, 63.02it/s, val_loss=0.152]\n",
      "Epoch 95: : 534it [00:26, 20.17it/s, loss=0.529]                                \n"
     ]
    },
    {
     "name": "stdout",
     "output_type": "stream",
     "text": [
      "final step train 533\n"
     ]
    },
    {
     "name": "stderr",
     "output_type": "stream",
     "text": [
      "Epoch 95: : 17it [00:00, 63.23it/s, val_loss=0.148]\n",
      "Epoch 96: : 534it [00:26, 20.11it/s, loss=0.533]                                \n"
     ]
    },
    {
     "name": "stdout",
     "output_type": "stream",
     "text": [
      "final step train 533\n"
     ]
    },
    {
     "name": "stderr",
     "output_type": "stream",
     "text": [
      "Epoch 96: : 17it [00:00, 63.35it/s, val_loss=0.154]\n",
      "Epoch 97: : 534it [00:26, 20.35it/s, loss=0.534]                                \n"
     ]
    },
    {
     "name": "stdout",
     "output_type": "stream",
     "text": [
      "final step train 533\n"
     ]
    },
    {
     "name": "stderr",
     "output_type": "stream",
     "text": [
      "Epoch 97: : 17it [00:00, 62.97it/s, val_loss=0.17] \n",
      "Epoch 98: : 534it [00:26, 20.25it/s, loss=0.53]                                 \n"
     ]
    },
    {
     "name": "stdout",
     "output_type": "stream",
     "text": [
      "final step train 533\n"
     ]
    },
    {
     "name": "stderr",
     "output_type": "stream",
     "text": [
      "Epoch 98: : 17it [00:00, 62.36it/s, val_loss=0.138]\n",
      "Epoch 99: : 534it [00:26, 20.22it/s, loss=0.529]                                \n"
     ]
    },
    {
     "name": "stdout",
     "output_type": "stream",
     "text": [
      "final step train 533\n"
     ]
    },
    {
     "name": "stderr",
     "output_type": "stream",
     "text": [
      "Epoch 99: : 17it [00:00, 63.30it/s, val_loss=0.193]\n"
     ]
    },
    {
     "name": "stdout",
     "output_type": "stream",
     "text": [
      "train completed, total time: 2708.850436449051.\n"
     ]
    },
    {
     "data": {
      "image/png": "[encoded data removed]",
      "text/plain": [
       "<Figure size 640x480 with 1 Axes>"
      ]
     },
     "metadata": {},
     "output_type": "display_data"
    }
   ],
   "source": [
    "batch_size = 32\n",
    "n_epochs = 100\n",
    "val_interval = 1\n",
    "epoch_loss_list = []\n",
    "val_epoch_loss_list = []\n",
    "optimizer_cls = torch.optim.Adam(params=classifier.parameters(), lr=2.5e-5)\n",
    "\n",
    "classifier.to(device)\n",
    "weight = torch.tensor((3, 1)).float().to(device)  # account for the class imbalance in the dataset\n",
    "\n",
    "\n",
    "scaler = GradScaler()\n",
    "total_start = time.time()\n",
    "for epoch in range(n_epochs):\n",
    "        classifier.train()\n",
    "        epoch_loss = 0\n",
    "        indexes = list(torch.randperm(total_train_slices.shape[0]))\n",
    "        data_train = total_train_slices[indexes]  # shuffle the training data\n",
    "        labels_train = total_train_labels[indexes]\n",
    "        subset_2D = zip(data_train.split(batch_size), labels_train.split(batch_size))\n",
    "        progress_bar = tqdm(enumerate(subset_2D), total=len(indexes) / batch_size)\n",
    "        progress_bar.set_description(f\"Epoch {epoch}\")\n",
    "\n",
    "        for step, (a, b) in progress_bar:\n",
    "            images = a.to(device)\n",
    "            classes = b.to(device)\n",
    "\n",
    "            optimizer_cls.zero_grad(set_to_none=True)\n",
    "            timesteps = torch.randint(0, 1000, (len(images),)).to(device)\n",
    "\n",
    "            with autocast(enabled=False):\n",
    "                # Generate random noise\n",
    "                noise = torch.randn_like(images).to(device)\n",
    "\n",
    "                # Get model prediction\n",
    "                noisy_img = scheduler.add_noise(images, noise, timesteps)  # add t steps of noise to the input image\n",
    "                pred = classifier(noisy_img, timesteps)\n",
    "                loss = F.cross_entropy(pred, classes.long(), weight=weight, reduction=\"mean\")\n",
    "\n",
    "            loss.backward()\n",
    "            optimizer_cls.step()\n",
    "\n",
    "            epoch_loss += loss.item()\n",
    "            progress_bar.set_postfix({\"loss\": epoch_loss / (step + 1)})\n",
    "        epoch_loss_list.append(epoch_loss / (step + 1))\n",
    "        print(\"final step train\", step)\n",
    "\n",
    "        if (epoch + 1) % val_interval == 0:\n",
    "            classifier.eval()\n",
    "            val_epoch_loss = 0\n",
    "            subset_2D_val = zip(total_val_slices.split(batch_size), total_val_labels.split(batch_size))  #\n",
    "            progress_bar_val = tqdm(enumerate(subset_2D_val))\n",
    "            progress_bar_val.set_description(f\"Epoch {epoch}\")\n",
    "            for step, (a, b) in progress_bar_val:\n",
    "                images = a.to(device)\n",
    "                classes = b.to(device)\n",
    "                timesteps = torch.randint(0, 1, (len(images),)).to(\n",
    "                    device\n",
    "                )  # check validation accuracy on the original images, i.e., do not add noise\n",
    "\n",
    "                with torch.no_grad():\n",
    "                    with autocast(enabled=False):\n",
    "                        noise = torch.randn_like(images).to(device)\n",
    "                        pred = classifier(images, timesteps)\n",
    "                        val_loss = F.cross_entropy(pred, classes.long(), reduction=\"mean\")\n",
    "\n",
    "                val_epoch_loss += val_loss.item()\n",
    "                _, predicted = torch.max(pred, 1)\n",
    "                progress_bar_val.set_postfix({\"val_loss\": val_epoch_loss / (step + 1)})\n",
    "            val_epoch_loss_list.append(val_epoch_loss / (step + 1))\n",
    "\n",
    "total_time = time.time() - total_start\n",
    "print(f\"train completed, total time: {total_time}.\")\n",
    "\n",
    "    ## Learning curves for the Classifier\n",
    "\n",
    "plt.style.use(\"seaborn-bright\")\n",
    "plt.title(\"Learning Curves\", fontsize=20)\n",
    "plt.plot(np.linspace(1, n_epochs, n_epochs), epoch_loss_list, color=\"C0\", linewidth=2.0, label=\"Train\")\n",
    "plt.plot(\n",
    "        np.linspace(val_interval, n_epochs, int(n_epochs / val_interval)),\n",
    "        val_epoch_loss_list,\n",
    "        color=\"C1\",\n",
    "        linewidth=2.0,\n",
    "        label=\"Validation\",\n",
    "    )\n",
    "plt.yticks(fontsize=12)\n",
    "plt.xticks(fontsize=12)\n",
    "plt.xlabel(\"Epochs\", fontsize=16)\n",
    "plt.ylabel(\"Loss\", fontsize=16)\n",
    "plt.legend(prop={\"size\": 14})\n",
    "plt.show()"
   ]
  },
  {
   "cell_type": "markdown",
   "id": "a676b3fe",
   "metadata": {},
   "source": [
    "# Image-to-image translation to a healthy subject\n",
    "We pick a diseased subject of the validation set as input image. We want to translate it to its healthy reconstruction."
   ]
  },
  {
   "cell_type": "code",
   "execution_count": 43,
   "id": "fe0d9eac-1477-4d6d-a885-d3c4acb4a781",
   "metadata": {},
   "outputs": [
    {
     "data": {
      "image/png": "[encoded data removed]",
      "text/plain": [
       "<Figure size 640x480 with 1 Axes>"
      ]
     },
     "metadata": {},
     "output_type": "display_data"
    },
    {
     "data": {
      "text/plain": [
       "DiffusionModelEncoder(\n",
       "  (conv_in): Convolution(\n",
       "    (conv): Conv2d(1, 32, kernel_size=(3, 3), stride=(1, 1), padding=(1, 1))\n",
       "  )\n",
       "  (time_embed): Sequential(\n",
       "    (0): Linear(in_features=32, out_features=128, bias=True)\n",
       "    (1): SiLU()\n",
       "    (2): Linear(in_features=128, out_features=128, bias=True)\n",
       "  )\n",
       "  (down_blocks): ModuleList(\n",
       "    (0): DownBlock(\n",
       "      (resnets): ModuleList(\n",
       "        (0): ResnetBlock(\n",
       "          (norm1): GroupNorm(32, 32, eps=1e-06, affine=True)\n",
       "          (nonlinearity): SiLU()\n",
       "          (conv1): Convolution(\n",
       "            (conv): Conv2d(32, 32, kernel_size=(3, 3), stride=(1, 1), padding=(1, 1))\n",
       "          )\n",
       "          (time_emb_proj): Linear(in_features=128, out_features=32, bias=True)\n",
       "          (norm2): GroupNorm(32, 32, eps=1e-06, affine=True)\n",
       "          (conv2): Convolution(\n",
       "            (conv): Conv2d(32, 32, kernel_size=(3, 3), stride=(1, 1), padding=(1, 1))\n",
       "          )\n",
       "          (skip_connection): Identity()\n",
       "        )\n",
       "      )\n",
       "      (downsampler): Downsample(\n",
       "        (op): Convolution(\n",
       "          (conv): Conv2d(32, 32, kernel_size=(3, 3), stride=(2, 2), padding=(1, 1))\n",
       "        )\n",
       "      )\n",
       "    )\n",
       "    (1): AttnDownBlock(\n",
       "      (attentions): ModuleList(\n",
       "        (0): AttentionBlock(\n",
       "          (norm): GroupNorm(32, 64, eps=1e-06, affine=True)\n",
       "          (to_q): Linear(in_features=64, out_features=64, bias=True)\n",
       "          (to_k): Linear(in_features=64, out_features=64, bias=True)\n",
       "          (to_v): Linear(in_features=64, out_features=64, bias=True)\n",
       "          (proj_attn): Linear(in_features=64, out_features=64, bias=True)\n",
       "        )\n",
       "      )\n",
       "      (resnets): ModuleList(\n",
       "        (0): ResnetBlock(\n",
       "          (norm1): GroupNorm(32, 32, eps=1e-06, affine=True)\n",
       "          (nonlinearity): SiLU()\n",
       "          (conv1): Convolution(\n",
       "            (conv): Conv2d(32, 64, kernel_size=(3, 3), stride=(1, 1), padding=(1, 1))\n",
       "          )\n",
       "          (time_emb_proj): Linear(in_features=128, out_features=64, bias=True)\n",
       "          (norm2): GroupNorm(32, 64, eps=1e-06, affine=True)\n",
       "          (conv2): Convolution(\n",
       "            (conv): Conv2d(64, 64, kernel_size=(3, 3), stride=(1, 1), padding=(1, 1))\n",
       "          )\n",
       "          (skip_connection): Convolution(\n",
       "            (conv): Conv2d(32, 64, kernel_size=(1, 1), stride=(1, 1))\n",
       "          )\n",
       "        )\n",
       "      )\n",
       "      (downsampler): Downsample(\n",
       "        (op): Convolution(\n",
       "          (conv): Conv2d(64, 64, kernel_size=(3, 3), stride=(2, 2), padding=(1, 1))\n",
       "        )\n",
       "      )\n",
       "    )\n",
       "    (2): AttnDownBlock(\n",
       "      (attentions): ModuleList(\n",
       "        (0): AttentionBlock(\n",
       "          (norm): GroupNorm(32, 64, eps=1e-06, affine=True)\n",
       "          (to_q): Linear(in_features=64, out_features=64, bias=True)\n",
       "          (to_k): Linear(in_features=64, out_features=64, bias=True)\n",
       "          (to_v): Linear(in_features=64, out_features=64, bias=True)\n",
       "          (proj_attn): Linear(in_features=64, out_features=64, bias=True)\n",
       "        )\n",
       "      )\n",
       "      (resnets): ModuleList(\n",
       "        (0): ResnetBlock(\n",
       "          (norm1): GroupNorm(32, 64, eps=1e-06, affine=True)\n",
       "          (nonlinearity): SiLU()\n",
       "          (conv1): Convolution(\n",
       "            (conv): Conv2d(64, 64, kernel_size=(3, 3), stride=(1, 1), padding=(1, 1))\n",
       "          )\n",
       "          (time_emb_proj): Linear(in_features=128, out_features=64, bias=True)\n",
       "          (norm2): GroupNorm(32, 64, eps=1e-06, affine=True)\n",
       "          (conv2): Convolution(\n",
       "            (conv): Conv2d(64, 64, kernel_size=(3, 3), stride=(1, 1), padding=(1, 1))\n",
       "          )\n",
       "          (skip_connection): Identity()\n",
       "        )\n",
       "      )\n",
       "      (downsampler): Downsample(\n",
       "        (op): Convolution(\n",
       "          (conv): Conv2d(64, 64, kernel_size=(3, 3), stride=(2, 2), padding=(1, 1))\n",
       "        )\n",
       "      )\n",
       "    )\n",
       "  )\n",
       "  (out): Sequential(\n",
       "    (0): Linear(in_features=4096, out_features=512, bias=True)\n",
       "    (1): ReLU()\n",
       "    (2): Dropout(p=0.1, inplace=False)\n",
       "    (3): Linear(in_features=512, out_features=2, bias=True)\n",
       "  )\n",
       ")"
      ]
     },
     "execution_count": 43,
     "metadata": {},
     "output_type": "execute_result"
    }
   ],
   "source": [
    "\n",
    "inputimg = total_val_slices[120][0, ...]  # Pick an input slice of the validation set to be transformed\n",
    "inputlabel = total_val_labels[120]  # Check whether it is healthy or diseased\n",
    "\n",
    "plt.figure(\"input\" + str(inputlabel))\n",
    "plt.imshow(inputimg, vmin=0, vmax=1, cmap=\"gray\")\n",
    "plt.axis(\"off\")\n",
    "plt.tight_layout()\n",
    "plt.show()\n",
    "\n",
    "model.eval()\n",
    "classifier.eval()"
   ]
  },
  {
   "cell_type": "markdown",
   "id": "0cd48c2d",
   "metadata": {},
   "source": [
    "### Encoding the input image in noise with the reversed DDIM sampling scheme\n",
    "In order to sample using gradient guidance, we first need to encode the input image in noise by using the reversed DDIM sampling scheme.\\\n",
    "We define the number of steps in the noising and denoising process by L.\\\n",
    "The encoding process is presented in Equation 6 of the paper \"Diffusion Models for Medical Anomaly Detection\" (https://arxiv.org/pdf/2203.04306.pdf).\n"
   ]
  },
  {
   "cell_type": "code",
   "execution_count": 44,
   "id": "f71e4924",
   "metadata": {
    "collapsed": false,
    "jupyter": {
     "outputs_hidden": false
    },
    "lines_to_next_cell": 2
   },
   "outputs": [
    {
     "name": "stderr",
     "output_type": "stream",
     "text": [
      "100%|█████████████████████████████████████████| 200/200 [00:04<00:00, 49.96it/s]\n"
     ]
    },
    {
     "data": {
      "image/png": "[encoded data removed]",
      "text/plain": [
       "<Figure size 640x480 with 1 Axes>"
      ]
     },
     "metadata": {},
     "output_type": "display_data"
    }
   ],
   "source": [
    "L = 200\n",
    "current_img = inputimg[None, None, ...].to(device)\n",
    "scheduler.set_timesteps(num_inference_steps=1000)\n",
    "\n",
    "\n",
    "progress_bar = tqdm(range(L))  # go back and forth L timesteps\n",
    "for t in progress_bar:  # go through the noising process\n",
    "    with autocast(enabled=False):\n",
    "        with torch.no_grad():\n",
    "            model_output = model(current_img, timesteps=torch.Tensor((t,)).to(current_img.device))\n",
    "    current_img, _ = scheduler.reversed_step(model_output, t, current_img)\n",
    "\n",
    "plt.style.use(\"default\")\n",
    "plt.imshow(current_img[0, 0].cpu(), vmin=0, vmax=1, cmap=\"gray\")\n",
    "plt.tight_layout()\n",
    "plt.axis(\"off\")\n",
    "plt.show()"
   ]
  },
  {
   "cell_type": "markdown",
   "id": "a7c8346a-6296-4800-b978-c10fcdf09779",
   "metadata": {},
   "source": [
    "### Denoising process using gradient guidance\n",
    "From the noisy image, we apply DDIM sampling scheme for denoising for L steps.\\\n",
    "Additionally, we apply gradient guidance using the classifier network towards the desired class label y=0 (healthy). This is presented in Algorithm 2 of https://arxiv.org/pdf/2105.05233.pdf, and in Algorithm 1 of https://arxiv.org/pdf/2203.04306.pdf. \\\n",
    "The scale s is used to amplify the gradient."
   ]
  },
  {
   "cell_type": "code",
   "execution_count": 45,
   "id": "7ab274bd-ea60-4674-b59b-d41de98fee5b",
   "metadata": {
    "lines_to_next_cell": 2
   },
   "outputs": [
    {
     "name": "stderr",
     "output_type": "stream",
     "text": [
      "100%|█████████████████████████████████████████| 200/200 [00:11<00:00, 17.16it/s]\n"
     ]
    },
    {
     "data": {
      "image/png": "[encoded data removed]",
      "text/plain": [
       "<Figure size 640x480 with 1 Axes>"
      ]
     },
     "metadata": {},
     "output_type": "display_data"
    }
   ],
   "source": [
    "\n",
    "\n",
    "y = torch.tensor(0)  # define the desired class label\n",
    "scale = 5  # define the desired gradient scale s\n",
    "progress_bar = tqdm(range(L))  # go back and forth L timesteps\n",
    "\n",
    "for i in progress_bar:  # go through the denoising process\n",
    "    t = L - i\n",
    "    with autocast(enabled=True):\n",
    "        with torch.no_grad():\n",
    "            model_output = model(\n",
    "                current_img, timesteps=torch.Tensor((t,)).to(current_img.device)\n",
    "            ).detach()  # this is supposed to be epsilon\n",
    "\n",
    "        with torch.enable_grad():\n",
    "            x_in = current_img.detach().requires_grad_(True)\n",
    "            logits = classifier(x_in, timesteps=torch.Tensor((t,)).to(current_img.device))\n",
    "            log_probs = F.log_softmax(logits, dim=-1)\n",
    "            selected = log_probs[range(len(logits)), y.view(-1)]\n",
    "            a = torch.autograd.grad(selected.sum(), x_in)[0]\n",
    "            alpha_prod_t = scheduler.alphas_cumprod[t]\n",
    "            updated_noise = (\n",
    "                model_output - (1 - alpha_prod_t).sqrt() * scale * a\n",
    "            )  # update the predicted noise epsilon with the gradient of the classifier\n",
    "\n",
    "    current_img, _ = scheduler.step(updated_noise, t, current_img)\n",
    "    torch.cuda.empty_cache()\n",
    "\n",
    "plt.style.use(\"default\")\n",
    "plt.imshow(current_img[0, 0].cpu().detach().numpy(), vmin=0, vmax=1, cmap=\"gray\")\n",
    "plt.tight_layout()\n",
    "plt.axis(\"off\")\n",
    "plt.show()"
   ]
  },
  {
   "cell_type": "markdown",
   "id": "d2e343f8-c6f3-4071-a5e6-771e2343c3bc",
   "metadata": {
    "lines_to_next_cell": 2
   },
   "source": [
    "# Anomaly Detection\n",
    "To get the anomaly map, we compute the difference between the input image the output of our image-to-image translation model towards the healthy reconstruction."
   ]
  },
  {
   "cell_type": "code",
   "execution_count": 46,
   "id": "ecffaaf3-a7df-453e-81a9-757113d85084",
   "metadata": {},
   "outputs": [
    {
     "data": {
      "image/png": "[encoded data removed]",
      "text/plain": [
       "<Figure size 640x480 with 1 Axes>"
      ]
     },
     "metadata": {},
     "output_type": "display_data"
    }
   ],
   "source": [
    "\n",
    "diff = abs(inputimg.cpu() - current_img[0, 0].cpu()).detach().numpy()\n",
    "plt.style.use(\"default\")\n",
    "plt.imshow(diff, cmap=\"jet\")\n",
    "plt.tight_layout()\n",
    "plt.axis(\"off\")\n",
    "plt.show()"
   ]
  }
 ],
 "metadata": {
  "jupytext": {
   "formats": "py:percent,ipynb"
  },
  "kernelspec": {
   "display_name": "Python 3 (ipykernel)",
   "language": "python",
   "name": "python3"
  },
  "language_info": {
   "codemirror_mode": {
    "name": "ipython",
    "version": 3
   },
   "file_extension": ".py",
   "mimetype": "text/x-python",
   "name": "python",
   "nbconvert_exporter": "python",
   "pygments_lexer": "ipython3",
   "version": "3.10.5"
  }
 },
 "nbformat": 4,
 "nbformat_minor": 5
}
