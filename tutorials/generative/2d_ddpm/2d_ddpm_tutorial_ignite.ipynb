{
 "cells": [
  {
   "cell_type": "markdown",
   "id": "9d71306f",
   "metadata": {},
   "source": [
    "# Denoising Diffusion Probabilistic Models with MedNIST Dataset\n",
    "\n",
    "This tutorial illustrates how to use MONAI for training a denoising diffusion probabilistic model (DDPM)[1] to create\n",
    "synthetic 2D images.\n",
    "\n",
    "[1] - Ho et al. \"Denoising Diffusion Probabilistic Models\" https://arxiv.org/abs/2006.11239\n",
    "\n",
    "TODO: Add Open in Colab\n",
    "\n",
    "## Setup environment"
   ]
  },
  {
   "cell_type": "code",
   "execution_count": 1,
   "id": "6aa3774e",
   "metadata": {},
   "outputs": [],
   "source": [
    "!python -c \"import monai\" || pip install -q \"monai-weekly[pillow, tqdm, einops]\"\n",
    "!python -c \"import matplotlib\" || pip install -q matplotlib\n",
    "!python -c \"import ignite\" || pip install -q pytorch-ignite\n",
    "\n",
    "%matplotlib inline"
   ]
  },
  {
   "cell_type": "markdown",
   "id": "f3154fee",
   "metadata": {},
   "source": [
    "## Setup imports"
   ]
  },
  {
   "cell_type": "code",
   "execution_count": 2,
   "id": "dd62a552",
   "metadata": {
    "collapsed": false,
    "jupyter": {
     "outputs_hidden": false
    }
   },
   "outputs": [
    {
     "name": "stdout",
     "output_type": "stream",
     "text": [
      "MONAI version: 1.1.dev2239\n",
      "Numpy version: 1.23.4\n",
      "Pytorch version: 1.9.0+cu102\n",
      "MONAI flags: HAS_EXT = False, USE_COMPILED = False, USE_META_DICT = False\n",
      "MONAI rev id: 13b24fa92b9d98bd0dc6d5cdcb52504fd09e297b\n",
      "MONAI __file__: /home/mark/Envs/gen2/lib/python3.8/site-packages/monai/__init__.py\n",
      "\n",
      "Optional dependencies:\n",
      "Pytorch Ignite version: 0.4.10\n",
      "Nibabel version: NOT INSTALLED or UNKNOWN VERSION.\n",
      "scikit-image version: NOT INSTALLED or UNKNOWN VERSION.\n",
      "Pillow version: 9.3.0\n",
      "Tensorboard version: NOT INSTALLED or UNKNOWN VERSION.\n",
      "gdown version: NOT INSTALLED or UNKNOWN VERSION.\n",
      "TorchVision version: 0.10.0+cu102\n",
      "tqdm version: 4.64.1\n",
      "lmdb version: NOT INSTALLED or UNKNOWN VERSION.\n",
      "psutil version: 5.9.4\n",
      "pandas version: NOT INSTALLED or UNKNOWN VERSION.\n",
      "einops version: 0.6.0\n",
      "transformers version: NOT INSTALLED or UNKNOWN VERSION.\n",
      "mlflow version: NOT INSTALLED or UNKNOWN VERSION.\n",
      "pynrrd version: NOT INSTALLED or UNKNOWN VERSION.\n",
      "\n",
      "For details about installing the optional dependencies, please visit:\n",
      "    https://docs.monai.io/en/latest/installation.html#installing-the-recommended-dependencies\n",
      "\n"
     ]
    }
   ],
   "source": [
    "# Copyright 2020 MONAI Consortium\n",
    "# Licensed under the Apache License, Version 2.0 (the \"License\");\n",
    "# you may not use this file except in compliance with the License.\n",
    "# You may obtain a copy of the License at\n",
    "#     http://www.apache.org/licenses/LICENSE-2.0\n",
    "# Unless required by applicable law or agreed to in writing, software\n",
    "# distributed under the License is distributed on an \"AS IS\" BASIS,\n",
    "# WITHOUT WARRANTIES OR CONDITIONS OF ANY KIND, either express or implied.\n",
    "# See the License for the specific language governing permissions and\n",
    "# limitations under the License.\n",
    "import os\n",
    "import shutil\n",
    "import tempfile\n",
    "\n",
    "import matplotlib.pyplot as plt\n",
    "import numpy as np\n",
    "import torch\n",
    "from monai import transforms\n",
    "from monai.apps import MedNISTDataset\n",
    "from monai.config import print_config\n",
    "from monai.data import CacheDataset, DataLoader\n",
    "from monai.utils import first, set_determinism\n",
    "from monai.engines import SupervisedEvaluator, SupervisedTrainer, PrepareBatch, default_prepare_batch\n",
    "from monai.handlers import MeanAbsoluteError, MeanSquaredError, StatsHandler, ValidationHandler, from_engine\n",
    "from ignite.contrib.handlers import ProgressBar\n",
    "\n",
    "# TODO: Add right import reference after deployed\n",
    "from generative.networks.nets import DiffusionModelUNet\n",
    "from generative.schedulers import DDPMScheduler\n",
    "from generative.inferers import DiffusionInferer\n",
    "\n",
    "from typing import Dict, Mapping, Optional, Union\n",
    "\n",
    "print_config()"
   ]
  },
  {
   "cell_type": "markdown",
   "id": "be99fa93",
   "metadata": {},
   "source": [
    "## Setup data directory\n",
    "\n",
    "You can specify a directory with the MONAI_DATA_DIRECTORY environment variable.\n",
    "\n",
    "This allows you to save results and reuse downloads.\n",
    "\n",
    "If not specified a temporary directory will be used."
   ]
  },
  {
   "cell_type": "code",
   "execution_count": 3,
   "id": "8fc58c80",
   "metadata": {
    "collapsed": false,
    "jupyter": {
     "outputs_hidden": false
    }
   },
   "outputs": [
    {
     "name": "stdout",
     "output_type": "stream",
     "text": [
      "/tmp/tmpfkfmzhbz\n"
     ]
    }
   ],
   "source": [
    "directory = os.environ.get(\"MONAI_DATA_DIRECTORY\")\n",
    "root_dir = tempfile.mkdtemp() if directory is None else directory\n",
    "print(root_dir)"
   ]
  },
  {
   "cell_type": "markdown",
   "id": "a36b12f0",
   "metadata": {},
   "source": [
    "## Set deterministic training for reproducibility"
   ]
  },
  {
   "cell_type": "code",
   "execution_count": 4,
   "id": "ad5a1948",
   "metadata": {
    "collapsed": false,
    "jupyter": {
     "outputs_hidden": false
    }
   },
   "outputs": [],
   "source": [
    "set_determinism(0)"
   ]
  },
  {
   "cell_type": "markdown",
   "id": "b41e37b3",
   "metadata": {},
   "source": [
    "## Setup MedNIST Dataset and training and validation dataloaders\n",
    "In this tutorial, we will train our models on the MedNIST dataset available on MONAI\n",
    "(https://docs.monai.io/en/stable/apps.html#monai.apps.MedNISTDataset). In order to train faster, we will select just\n",
    "one of the available classes (\"Hand\"), resulting in a training set with 7999 2D images."
   ]
  },
  {
   "cell_type": "code",
   "execution_count": 5,
   "id": "65e1c200",
   "metadata": {
    "collapsed": false,
    "jupyter": {
     "outputs_hidden": false
    }
   },
   "outputs": [
    {
     "name": "stdout",
     "output_type": "stream",
     "text": [
      "2022-11-23 23:53:01,298 - INFO - Downloaded: /tmp/tmpfkfmzhbz/MedNIST.tar.gz\n",
      "2022-11-23 23:53:01,372 - INFO - Verified 'MedNIST.tar.gz', md5: 0bc7306e7427e00ad1c5526a6677552d.\n",
      "2022-11-23 23:53:01,372 - INFO - Writing into directory: /tmp/tmpfkfmzhbz.\n"
     ]
    }
   ],
   "source": [
    "train_data = MedNISTDataset(root_dir=root_dir, section=\"training\", download=True, progress=False, seed=0)\n",
    "train_datalist = [{\"image\": item[\"image\"]} for item in train_data.data if item[\"class_name\"] == \"Hand\"]"
   ]
  },
  {
   "cell_type": "markdown",
   "id": "5d503ec9",
   "metadata": {},
   "source": [
    "Here we use transforms to augment the training dataset:\n",
    "\n",
    "1. `LoadImaged` loads the hands images from files.\n",
    "1. `EnsureChannelFirstd` ensures the original data to construct \"channel first\" shape.\n",
    "1. `ScaleIntensityRanged` extracts intensity range [0, 255] and scales to [0, 1].\n",
    "1. `RandAffined` efficiently performs rotate, scale, shear, translate, etc. together based on PyTorch affine transform."
   ]
  },
  {
   "cell_type": "code",
   "execution_count": 6,
   "id": "e2f9bebd",
   "metadata": {
    "collapsed": false,
    "jupyter": {
     "outputs_hidden": false
    }
   },
   "outputs": [
    {
     "name": "stderr",
     "output_type": "stream",
     "text": [
      "Loading dataset: 100%|███████████████████████████████████████████████████| 7999/7999 [00:04<00:00, 1816.33it/s]\n"
     ]
    }
   ],
   "source": [
    "train_transforms = transforms.Compose(\n",
    "    [\n",
    "        transforms.LoadImaged(keys=[\"image\"]),\n",
    "        transforms.EnsureChannelFirstd(keys=[\"image\"]),\n",
    "        transforms.ScaleIntensityRanged(keys=[\"image\"], a_min=0.0, a_max=255.0, b_min=0.0, b_max=1.0, clip=True),\n",
    "        transforms.RandAffined(\n",
    "            keys=[\"image\"],\n",
    "            rotate_range=[(-np.pi / 36, np.pi / 36), (-np.pi / 36, np.pi / 36)],\n",
    "            translate_range=[(-1, 1), (-1, 1)],\n",
    "            scale_range=[(-0.05, 0.05), (-0.05, 0.05)],\n",
    "            spatial_size=[64, 64],\n",
    "            padding_mode=\"zeros\",\n",
    "            prob=0.5,\n",
    "        ),\n",
    "    ]\n",
    ")\n",
    "train_ds = CacheDataset(data=train_datalist, transform=train_transforms)\n",
    "train_loader = DataLoader(train_ds, batch_size=8, shuffle=True, num_workers=4)"
   ]
  },
  {
   "cell_type": "code",
   "execution_count": 7,
   "id": "938318c2",
   "metadata": {
    "collapsed": false,
    "jupyter": {
     "outputs_hidden": false
    }
   },
   "outputs": [
    {
     "name": "stdout",
     "output_type": "stream",
     "text": [
      "2022-11-23 23:53:23,922 - INFO - Verified 'MedNIST.tar.gz', md5: 0bc7306e7427e00ad1c5526a6677552d.\n",
      "2022-11-23 23:53:23,922 - INFO - File exists: /tmp/tmpfkfmzhbz/MedNIST.tar.gz, skipped downloading.\n",
      "2022-11-23 23:53:23,923 - INFO - Non-empty folder exists in /tmp/tmpfkfmzhbz/MedNIST, skipped extracting.\n"
     ]
    },
    {
     "name": "stderr",
     "output_type": "stream",
     "text": [
      "Loading dataset: 100%|███████████████████████████████████████████████████| 1005/1005 [00:00<00:00, 1835.72it/s]\n"
     ]
    }
   ],
   "source": [
    "val_data = MedNISTDataset(root_dir=root_dir, section=\"validation\", download=True, progress=False, seed=0)\n",
    "val_datalist = [{\"image\": item[\"image\"]} for item in val_data.data if item[\"class_name\"] == \"Hand\"]\n",
    "val_transforms = transforms.Compose(\n",
    "    [\n",
    "        transforms.LoadImaged(keys=[\"image\"]),\n",
    "        transforms.EnsureChannelFirstd(keys=[\"image\"]),\n",
    "        transforms.ScaleIntensityRanged(keys=[\"image\"], a_min=0.0, a_max=255.0, b_min=0.0, b_max=1.0, clip=True),\n",
    "    ]\n",
    ")\n",
    "val_ds = CacheDataset(data=val_datalist, transform=val_transforms)\n",
    "val_loader = DataLoader(val_ds, batch_size=8, shuffle=False, num_workers=4)"
   ]
  },
  {
   "cell_type": "markdown",
   "id": "a56a4e42",
   "metadata": {},
   "source": [
    "### Visualisation of the training images"
   ]
  },
  {
   "cell_type": "code",
   "execution_count": 8,
   "id": "b698f4f8",
   "metadata": {
    "collapsed": false,
    "jupyter": {
     "outputs_hidden": false
    }
   },
   "outputs": [
    {
     "name": "stdout",
     "output_type": "stream",
     "text": [
      "batch shape: (8, 1, 64, 64)\n"
     ]
    },
    {
     "data": {
      "image/png": "[encoded data removed]",
      "text/plain": [
       "<Figure size 1200x600 with 1 Axes>"
      ]
     },
     "metadata": {},
     "output_type": "display_data"
    }
   ],
   "source": [
    "check_data = first(train_loader)\n",
    "print(f\"batch shape: {check_data['image'].shape}\")\n",
    "image_visualisation = torch.cat(\n",
    "    [check_data[\"image\"][0, 0], check_data[\"image\"][1, 0], check_data[\"image\"][2, 0], check_data[\"image\"][3, 0]], dim=1\n",
    ")\n",
    "plt.figure(\"training images\", (12, 6))\n",
    "plt.imshow(image_visualisation, vmin=0, vmax=1, cmap=\"gray\")\n",
    "plt.axis(\"off\")\n",
    "plt.tight_layout()\n",
    "plt.show()"
   ]
  },
  {
   "cell_type": "markdown",
   "id": "d3090350",
   "metadata": {},
   "source": [
    "### Define network, scheduler, optimizer, and inferer\n",
    "At this step, we instantiate the MONAI components to create a DDPM, the UNET, the noise scheduler, and the inferer used for training and sampling. We are using\n",
    "the original DDPM scheduler containing 1000 timesteps in its Markov chain, and a 2D UNET with attention mechanisms\n",
    "in the 2nd and 3rd levels, each with 1 attention head."
   ]
  },
  {
   "cell_type": "code",
   "execution_count": 9,
   "id": "2c52e4f4",
   "metadata": {
    "collapsed": false,
    "jupyter": {
     "outputs_hidden": false
    },
    "lines_to_next_cell": 0
   },
   "outputs": [],
   "source": [
    "device = torch.device(\"cuda\")\n",
    "\n",
    "model = DiffusionModelUNet(\n",
    "    spatial_dims=2,\n",
    "    in_channels=1,\n",
    "    out_channels=1,\n",
    "    model_channels=64,\n",
    "    attention_resolutions=[2, 4],\n",
    "    num_res_blocks=1,\n",
    "    channel_mult=[1, 2, 2],\n",
    "    num_heads=1,\n",
    ")\n",
    "model.to(device)\n",
    "\n",
    "scheduler = DDPMScheduler(\n",
    "    num_train_timesteps=1000,\n",
    ")\n",
    "\n",
    "optimizer = torch.optim.Adam(params=model.parameters(), lr=2.5e-5)\n",
    "\n",
    "inferer = DiffusionInferer(scheduler)"
   ]
  },
  {
   "cell_type": "markdown",
   "id": "655fa0a2-91f7-45e6-b3f8-259b76fe7e74",
   "metadata": {},
   "source": [
    "### Define a class for preparing batches"
   ]
  },
  {
   "cell_type": "code",
   "execution_count": 10,
   "id": "15e46af7-c3e9-409b-ab1f-5884ada2729f",
   "metadata": {},
   "outputs": [],
   "source": [
    "class DiffusionPrepareBatch(PrepareBatch):\n",
    "    \"\"\"\n",
    "    This class is used as a callable for the `prepare_batch` parameter of engine classes for diffusion training.\n",
    "\n",
    "    Assuming a supervised training process, it will generate a noise field using `get_noise` for an input image, and\n",
    "    return the image and noise field as the image/target pair plus the noise field the kwargs under the key \"noise\".\n",
    "    This assumes the inferer being used in conjunction with this class expects a \"noise\" parameter to be provided.\n",
    "    \n",
    "    If the `condition_name` is provided, this must refer to a key in the input dictionary containing the condition\n",
    "    field to be passed to the inferer. This will appear in the keyword arguments under the key \"condition\".\n",
    "    \n",
    "    \"\"\"\n",
    "\n",
    "    def __init__(self, condition_name: Optional[str] = None):\n",
    "        self.condition_name = condition_name\n",
    "\n",
    "    def get_noise(self, images):\n",
    "        \"\"\"Returns the noise tensor for input tensor `images`, override this for different noise distributions.\"\"\"\n",
    "        return torch.randn_like(images)\n",
    "\n",
    "    def __call__(\n",
    "        self,\n",
    "        batchdata: Dict[str, torch.Tensor],\n",
    "        device: Optional[Union[str, torch.device]] = None,\n",
    "        non_blocking: bool = False,\n",
    "        **kwargs,\n",
    "    ):\n",
    "        images, _ = default_prepare_batch(batchdata, device, non_blocking, **kwargs)\n",
    "        noise = self.get_noise(images).to(device, non_blocking=non_blocking, **kwargs)\n",
    "\n",
    "        kwargs = {\"noise\": noise}\n",
    "\n",
    "        if self.condition_name is not None and isinstance(batchdata, Mapping):\n",
    "            kwargs[\"conditioning\"] = batchdata[self.condition_name].to(device, non_blocking=non_blocking, **kwargs)\n",
    "\n",
    "        # return input, target, arguments, and keyword arguments where noise is the target and also a keyword value\n",
    "        return images, noise, (), kwargs"
   ]
  },
  {
   "cell_type": "markdown",
   "id": "5a316067",
   "metadata": {},
   "source": [
    "### Model training\n",
    "Here, we are training our model for 50 epochs (training time: ~20 minutes)."
   ]
  },
  {
   "cell_type": "code",
   "execution_count": 11,
   "id": "0f697a13",
   "metadata": {
    "collapsed": false,
    "jupyter": {
     "outputs_hidden": false
    },
    "lines_to_next_cell": 0
   },
   "outputs": [
    {
     "name": "stdout",
     "output_type": "stream",
     "text": [
      "2022-11-23 23:53:29,033 - Engine run resuming from iteration 0, epoch 0 until 20 epochs\n"
     ]
    },
    {
     "data": {
      "application/vnd.jupyter.widget-view+json": {
       "model_id": "1c2f0dbbb33c44768695b86f48bd12e0",
       "version_major": 2,
       "version_minor": 0
      },
      "text/plain": [
       "[1/1000]   0%| [00:00<?]"
      ]
     },
     "metadata": {},
     "output_type": "display_data"
    },
    {
     "name": "stderr",
     "output_type": "stream",
     "text": [
      "/home/mark/Envs/gen2/lib/python3.8/site-packages/ignite/contrib/handlers/base_logger.py:172: UserWarning: Logger output_handler can not log metrics value type <class 'list'>\n",
      "  warnings.warn(f\"Logger output_handler can not log metrics value type {type(value)}\")\n"
     ]
    },
    {
     "name": "stdout",
     "output_type": "stream",
     "text": [
      "2022-11-23 23:54:25,703 - Got new best metric of train_acc: 0.15793311595916748\n",
      "2022-11-23 23:54:25,706 - Epoch[1] Complete. Time taken: 00:00:56.527\n"
     ]
    },
    {
     "data": {
      "application/vnd.jupyter.widget-view+json": {
       "model_id": "7f43fab678014e8da03a0db4718694a2",
       "version_major": 2,
       "version_minor": 0
      },
      "text/plain": [
       "[1/1000]   0%| [00:00<?]"
      ]
     },
     "metadata": {},
     "output_type": "display_data"
    },
    {
     "name": "stdout",
     "output_type": "stream",
     "text": [
      "2022-11-23 23:55:23,181 - Epoch[2] Complete. Time taken: 00:00:57.474\n"
     ]
    },
    {
     "data": {
      "application/vnd.jupyter.widget-view+json": {
       "model_id": "562e9c0b5aec42c581d7c983679090b7",
       "version_major": 2,
       "version_minor": 0
      },
      "text/plain": [
       "[1/1000]   0%| [00:00<?]"
      ]
     },
     "metadata": {},
     "output_type": "display_data"
    },
    {
     "name": "stdout",
     "output_type": "stream",
     "text": [
      "2022-11-23 23:56:23,205 - Epoch[3] Complete. Time taken: 00:01:00.023\n"
     ]
    },
    {
     "data": {
      "application/vnd.jupyter.widget-view+json": {
       "model_id": "72709e36766c46bd9d67f3a16dfd7448",
       "version_major": 2,
       "version_minor": 0
      },
      "text/plain": [
       "[1/1000]   0%| [00:00<?]"
      ]
     },
     "metadata": {},
     "output_type": "display_data"
    },
    {
     "name": "stdout",
     "output_type": "stream",
     "text": [
      "2022-11-23 23:57:26,955 - Epoch[4] Complete. Time taken: 00:01:03.749\n"
     ]
    },
    {
     "data": {
      "application/vnd.jupyter.widget-view+json": {
       "model_id": "6e3dc837642847ed94ad5d602b0c67b2",
       "version_major": 2,
       "version_minor": 0
      },
      "text/plain": [
       "[1/1000]   0%| [00:00<?]"
      ]
     },
     "metadata": {},
     "output_type": "display_data"
    },
    {
     "name": "stdout",
     "output_type": "stream",
     "text": [
      "2022-11-23 23:58:33,124 - Engine run resuming from iteration 0, epoch 4 until 5 epochs\n",
      "2022-11-23 23:58:35,442 - Got new best metric of val_mean_abs_error: 0.05780790001153946\n",
      "2022-11-23 23:58:35,443 - Epoch[5] Metrics -- val_mean_abs_error: 0.0578 \n",
      "2022-11-23 23:58:35,443 - Key metric: val_mean_abs_error best value: 0.05780790001153946 at epoch: 5\n",
      "2022-11-23 23:58:35,443 - Epoch[5] Complete. Time taken: 00:00:02.191\n",
      "2022-11-23 23:58:35,444 - Engine run complete. Time taken: 00:00:02.319\n",
      "2022-11-23 23:58:35,488 - Epoch[5] Complete. Time taken: 00:01:08.533\n"
     ]
    },
    {
     "data": {
      "application/vnd.jupyter.widget-view+json": {
       "model_id": "77085d52b319448f9def918931730561",
       "version_major": 2,
       "version_minor": 0
      },
      "text/plain": [
       "[1/1000]   0%| [00:00<?]"
      ]
     },
     "metadata": {},
     "output_type": "display_data"
    },
    {
     "name": "stdout",
     "output_type": "stream",
     "text": [
      "2022-11-23 23:59:41,974 - Epoch[6] Complete. Time taken: 00:01:06.486\n"
     ]
    },
    {
     "data": {
      "application/vnd.jupyter.widget-view+json": {
       "model_id": "943682a208bd4579bfe50f7d678dc66a",
       "version_major": 2,
       "version_minor": 0
      },
      "text/plain": [
       "[1/1000]   0%| [00:00<?]"
      ]
     },
     "metadata": {},
     "output_type": "display_data"
    },
    {
     "name": "stdout",
     "output_type": "stream",
     "text": [
      "2022-11-24 00:00:49,149 - Epoch[7] Complete. Time taken: 00:01:07.174\n"
     ]
    },
    {
     "data": {
      "application/vnd.jupyter.widget-view+json": {
       "model_id": "b3badfcf429a419d8149e8d1e903d22f",
       "version_major": 2,
       "version_minor": 0
      },
      "text/plain": [
       "[1/1000]   0%| [00:00<?]"
      ]
     },
     "metadata": {},
     "output_type": "display_data"
    },
    {
     "name": "stdout",
     "output_type": "stream",
     "text": [
      "2022-11-24 00:01:56,545 - Epoch[8] Complete. Time taken: 00:01:07.395\n"
     ]
    },
    {
     "data": {
      "application/vnd.jupyter.widget-view+json": {
       "model_id": "97c0cb2814a94ed489383a0af3fcf51f",
       "version_major": 2,
       "version_minor": 0
      },
      "text/plain": [
       "[1/1000]   0%| [00:00<?]"
      ]
     },
     "metadata": {},
     "output_type": "display_data"
    },
    {
     "name": "stdout",
     "output_type": "stream",
     "text": [
      "2022-11-24 00:03:04,458 - Epoch[9] Complete. Time taken: 00:01:07.912\n"
     ]
    },
    {
     "data": {
      "application/vnd.jupyter.widget-view+json": {
       "model_id": "f3c3af0145bd4c239a6c456c42c8df4a",
       "version_major": 2,
       "version_minor": 0
      },
      "text/plain": [
       "[1/1000]   0%| [00:00<?]"
      ]
     },
     "metadata": {},
     "output_type": "display_data"
    },
    {
     "name": "stdout",
     "output_type": "stream",
     "text": [
      "2022-11-24 00:04:12,058 - Engine run resuming from iteration 0, epoch 9 until 10 epochs\n",
      "2022-11-24 00:04:14,424 - Epoch[10] Metrics -- val_mean_abs_error: 0.0528 \n",
      "2022-11-24 00:04:14,425 - Key metric: val_mean_abs_error best value: 0.05780790001153946 at epoch: 5\n",
      "2022-11-24 00:04:14,426 - Epoch[10] Complete. Time taken: 00:00:02.239\n",
      "2022-11-24 00:04:14,426 - Engine run complete. Time taken: 00:00:02.367\n",
      "2022-11-24 00:04:14,470 - Epoch[10] Complete. Time taken: 00:01:10.011\n"
     ]
    },
    {
     "data": {
      "application/vnd.jupyter.widget-view+json": {
       "model_id": "89a0ccc4ccdc47c4ad2b132a1caf4b03",
       "version_major": 2,
       "version_minor": 0
      },
      "text/plain": [
       "[1/1000]   0%| [00:00<?]"
      ]
     },
     "metadata": {},
     "output_type": "display_data"
    },
    {
     "name": "stdout",
     "output_type": "stream",
     "text": [
      "2022-11-24 00:05:22,720 - Epoch[11] Complete. Time taken: 00:01:08.249\n"
     ]
    },
    {
     "data": {
      "application/vnd.jupyter.widget-view+json": {
       "model_id": "dda8b077fe634383bd4c2de84a617d79",
       "version_major": 2,
       "version_minor": 0
      },
      "text/plain": [
       "[1/1000]   0%| [00:00<?]"
      ]
     },
     "metadata": {},
     "output_type": "display_data"
    },
    {
     "name": "stdout",
     "output_type": "stream",
     "text": [
      "2022-11-24 00:06:30,514 - Epoch[12] Complete. Time taken: 00:01:07.794\n"
     ]
    },
    {
     "data": {
      "application/vnd.jupyter.widget-view+json": {
       "model_id": "63c87eb8c69b4ba58c63de772cb65656",
       "version_major": 2,
       "version_minor": 0
      },
      "text/plain": [
       "[1/1000]   0%| [00:00<?]"
      ]
     },
     "metadata": {},
     "output_type": "display_data"
    },
    {
     "name": "stdout",
     "output_type": "stream",
     "text": [
      "2022-11-24 00:07:38,712 - Epoch[13] Complete. Time taken: 00:01:08.197\n"
     ]
    },
    {
     "data": {
      "application/vnd.jupyter.widget-view+json": {
       "model_id": "db5e4a5d88e9448184c8d2fb5c1aa272",
       "version_major": 2,
       "version_minor": 0
      },
      "text/plain": [
       "[1/1000]   0%| [00:00<?]"
      ]
     },
     "metadata": {},
     "output_type": "display_data"
    },
    {
     "name": "stdout",
     "output_type": "stream",
     "text": [
      "2022-11-24 00:08:47,334 - Epoch[14] Complete. Time taken: 00:01:08.621\n"
     ]
    },
    {
     "data": {
      "application/vnd.jupyter.widget-view+json": {
       "model_id": "9c32b98a346848de88a8794200277011",
       "version_major": 2,
       "version_minor": 0
      },
      "text/plain": [
       "[1/1000]   0%| [00:00<?]"
      ]
     },
     "metadata": {},
     "output_type": "display_data"
    },
    {
     "name": "stdout",
     "output_type": "stream",
     "text": [
      "2022-11-24 00:09:55,864 - Engine run resuming from iteration 0, epoch 14 until 15 epochs\n",
      "2022-11-24 00:09:58,163 - Epoch[15] Metrics -- val_mean_abs_error: 0.0474 \n",
      "2022-11-24 00:09:58,163 - Key metric: val_mean_abs_error best value: 0.05780790001153946 at epoch: 5\n",
      "2022-11-24 00:09:58,164 - Epoch[15] Complete. Time taken: 00:00:02.170\n",
      "2022-11-24 00:09:58,164 - Engine run complete. Time taken: 00:00:02.299\n",
      "2022-11-24 00:09:58,208 - Epoch[15] Complete. Time taken: 00:01:10.873\n"
     ]
    },
    {
     "data": {
      "application/vnd.jupyter.widget-view+json": {
       "model_id": "3eeb253253af4c6f9abd633e9583ff26",
       "version_major": 2,
       "version_minor": 0
      },
      "text/plain": [
       "[1/1000]   0%| [00:00<?]"
      ]
     },
     "metadata": {},
     "output_type": "display_data"
    },
    {
     "name": "stdout",
     "output_type": "stream",
     "text": [
      "2022-11-24 00:11:07,747 - Epoch[16] Complete. Time taken: 00:01:09.538\n"
     ]
    },
    {
     "data": {
      "application/vnd.jupyter.widget-view+json": {
       "model_id": "eaecb6706b684898873de8357befd01f",
       "version_major": 2,
       "version_minor": 0
      },
      "text/plain": [
       "[1/1000]   0%| [00:00<?]"
      ]
     },
     "metadata": {},
     "output_type": "display_data"
    },
    {
     "name": "stdout",
     "output_type": "stream",
     "text": [
      "2022-11-24 00:12:16,801 - Epoch[17] Complete. Time taken: 00:01:09.054\n"
     ]
    },
    {
     "data": {
      "application/vnd.jupyter.widget-view+json": {
       "model_id": "f0ecbb4cb39941d7af2cb1f9969828ca",
       "version_major": 2,
       "version_minor": 0
      },
      "text/plain": [
       "[1/1000]   0%| [00:00<?]"
      ]
     },
     "metadata": {},
     "output_type": "display_data"
    },
    {
     "name": "stdout",
     "output_type": "stream",
     "text": [
      "2022-11-24 00:13:25,639 - Epoch[18] Complete. Time taken: 00:01:08.837\n"
     ]
    },
    {
     "data": {
      "application/vnd.jupyter.widget-view+json": {
       "model_id": "b77e543bcb534bbb95b6ad0fb34277d8",
       "version_major": 2,
       "version_minor": 0
      },
      "text/plain": [
       "[1/1000]   0%| [00:00<?]"
      ]
     },
     "metadata": {},
     "output_type": "display_data"
    },
    {
     "name": "stdout",
     "output_type": "stream",
     "text": [
      "2022-11-24 00:14:34,932 - Epoch[19] Complete. Time taken: 00:01:09.293\n"
     ]
    },
    {
     "data": {
      "application/vnd.jupyter.widget-view+json": {
       "model_id": "6ade132a68b042bbb9585d30b57642a1",
       "version_major": 2,
       "version_minor": 0
      },
      "text/plain": [
       "[1/1000]   0%| [00:00<?]"
      ]
     },
     "metadata": {},
     "output_type": "display_data"
    },
    {
     "name": "stdout",
     "output_type": "stream",
     "text": [
      "2022-11-24 00:15:44,839 - Engine run resuming from iteration 0, epoch 19 until 20 epochs\n",
      "2022-11-24 00:15:47,132 - Epoch[20] Metrics -- val_mean_abs_error: 0.0461 \n",
      "2022-11-24 00:15:47,133 - Key metric: val_mean_abs_error best value: 0.05780790001153946 at epoch: 5\n",
      "2022-11-24 00:15:47,133 - Epoch[20] Complete. Time taken: 00:00:02.166\n",
      "2022-11-24 00:15:47,133 - Engine run complete. Time taken: 00:00:02.294\n",
      "2022-11-24 00:15:47,178 - Epoch[20] Complete. Time taken: 00:01:12.245\n",
      "2022-11-24 00:15:47,179 - Engine run complete. Time taken: 00:22:18.146\n"
     ]
    }
   ],
   "source": [
    "n_epochs = 20\n",
    "val_interval = 5\n",
    "\n",
    "val_handlers = [StatsHandler(name=\"train_log\", output_transform=lambda x: None)]\n",
    "\n",
    "evaluator = SupervisedEvaluator(\n",
    "    device=device,\n",
    "    val_data_loader=val_loader,\n",
    "    network=model,\n",
    "    inferer=inferer,\n",
    "    prepare_batch=DiffusionPrepareBatch(),\n",
    "    key_val_metric={\"val_mean_abs_error\": MeanAbsoluteError(output_transform=from_engine([\"pred\", \"label\"]))},\n",
    "    val_handlers=val_handlers,\n",
    ")\n",
    "\n",
    "\n",
    "train_handlers = [\n",
    "    ValidationHandler(validator=evaluator, interval=val_interval, epoch_level=True),\n",
    "    #StatsHandler(name=\"train_log\", tag_name=\"train_loss\", output_transform=from_engine([\"loss\"], first=True)),\n",
    "]\n",
    "\n",
    "trainer = SupervisedTrainer(\n",
    "    device=device,\n",
    "    max_epochs=n_epochs,\n",
    "    train_data_loader=train_loader,\n",
    "    network=model,\n",
    "    optimizer=optimizer,\n",
    "    loss_function=torch.nn.MSELoss(),\n",
    "    inferer=inferer,\n",
    "    prepare_batch=DiffusionPrepareBatch(),\n",
    "    key_train_metric={\"train_acc\": MeanSquaredError(output_transform=from_engine([\"pred\", \"label\"]))},\n",
    "    train_handlers=train_handlers,\n",
    ")\n",
    "ProgressBar(\n",
    "            persist=True,\n",
    "            bar_format=\"[{n_fmt}/{total_fmt}] {percentage:3.0f}%|{postfix} [{elapsed}<{remaining}]\",\n",
    "        ).attach(\n",
    "            trainer,\n",
    "            output_transform=from_engine([\"loss\"]),\n",
    "        )\n",
    "\n",
    "\n",
    "trainer.run()"
   ]
  },
  {
   "cell_type": "markdown",
   "id": "2d61cffe",
   "metadata": {},
   "source": [
    "### Plotting sampling process along DDPM's Markov chain"
   ]
  },
  {
   "cell_type": "code",
   "execution_count": 12,
   "id": "1427e5d4",
   "metadata": {
    "collapsed": false,
    "jupyter": {
     "outputs_hidden": false
    }
   },
   "outputs": [
    {
     "name": "stderr",
     "output_type": "stream",
     "text": [
      "100%|█████████████████████████████████████████████████████████████████████| 1000/1000 [00:06<00:00, 157.42it/s]\n"
     ]
    },
    {
     "data": {
      "image/png": "[encoded data removed]",
      "text/plain": [
       "<Figure size 640x480 with 1 Axes>"
      ]
     },
     "metadata": {},
     "output_type": "display_data"
    }
   ],
   "source": [
    "model.eval()\n",
    "noise = torch.randn((1, 1, 64, 64))\n",
    "noise = noise.to(device)\n",
    "scheduler.set_timesteps(num_inference_steps=1000)\n",
    "image, intermediates = inferer.sample(\n",
    "    input_noise=noise, diffusion_model=model, scheduler=scheduler, save_intermediates=True, intermediate_steps=100\n",
    ")\n",
    "\n",
    "chain = torch.cat(intermediates, dim=-1)\n",
    "\n",
    "plt.style.use(\"default\")\n",
    "plt.imshow(chain[0, 0].cpu(), vmin=0, vmax=1, cmap=\"gray\")\n",
    "plt.tight_layout()\n",
    "plt.axis(\"off\")\n",
    "plt.show()"
   ]
  },
  {
   "cell_type": "markdown",
   "id": "1c45cead",
   "metadata": {},
   "source": [
    "### Cleanup data directory\n",
    "\n",
    "Remove directory if a temporary was used."
   ]
  },
  {
   "cell_type": "code",
   "execution_count": 13,
   "id": "bab2d719",
   "metadata": {
    "tags": []
   },
   "outputs": [],
   "source": [
    "if directory is None:\n",
    "    shutil.rmtree(root_dir)"
   ]
  }
 ],
 "metadata": {
  "jupytext": {
   "formats": "ipynb,py:percent"
  },
  "kernelspec": {
   "display_name": "Python 3 (ipykernel)",
   "language": "python",
   "name": "python3"
  },
  "language_info": {
   "codemirror_mode": {
    "name": "ipython",
    "version": 3
   },
   "file_extension": ".py",
   "mimetype": "text/x-python",
   "name": "python",
   "nbconvert_exporter": "python",
   "pygments_lexer": "ipython3",
   "version": "3.8.13"
  }
 },
 "nbformat": 4,
 "nbformat_minor": 5
}
