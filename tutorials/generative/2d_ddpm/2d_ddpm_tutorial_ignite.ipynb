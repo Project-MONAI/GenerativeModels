{
 "cells": [
  {
   "cell_type": "markdown",
   "id": "9d71306f",
   "metadata": {},
   "source": [
    "# Denoising Diffusion Probabilistic Models with MedNIST Dataset\n",
    "\n",
    "This tutorial illustrates how to use MONAI for training a denoising diffusion probabilistic model (DDPM)[1] to create\n",
    "synthetic 2D images.\n",
    "\n",
    "[1] - Ho et al. \"Denoising Diffusion Probabilistic Models\" https://arxiv.org/abs/2006.11239\n",
    "\n",
    "TODO: Add Open in Colab\n",
    "\n",
    "## Setup environment"
   ]
  },
  {
   "cell_type": "code",
   "execution_count": 1,
   "id": "6aa3774e",
   "metadata": {},
   "outputs": [],
   "source": [
    "!python -c \"import monai\" || pip install -q \"monai-weekly[pillow, tqdm, einops]\"\n",
    "!python -c \"import matplotlib\" || pip install -q matplotlib\n",
    "!python -c \"import ignite\" || pip install -q pytorch-ignite\n",
    "\n",
    "%matplotlib inline"
   ]
  },
  {
   "cell_type": "markdown",
   "id": "f3154fee",
   "metadata": {},
   "source": [
    "## Setup imports"
   ]
  },
  {
   "cell_type": "code",
   "execution_count": 2,
   "id": "dd62a552",
   "metadata": {
    "jupyter": {
     "outputs_hidden": false
    }
   },
   "outputs": [
    {
     "name": "stdout",
     "output_type": "stream",
     "text": [
      "MONAI version: 1.1.dev2246\n",
      "Numpy version: 1.23.3\n",
      "Pytorch version: 1.8.0+cu111\n",
      "MONAI flags: HAS_EXT = False, USE_COMPILED = False, USE_META_DICT = False\n",
      "MONAI rev id: c81b9467b43bb14e77956729d10f2aef4d69deec\n",
      "MONAI __file__: /media/walter/Storage/Projects/GenerativeModels/venv/lib/python3.8/site-packages/monai/__init__.py\n",
      "\n",
      "Optional dependencies:\n",
      "Pytorch Ignite version: 0.4.10\n",
      "Nibabel version: 4.0.2\n",
      "scikit-image version: NOT INSTALLED or UNKNOWN VERSION.\n",
      "Pillow version: 9.2.0\n",
      "Tensorboard version: 2.11.0\n",
      "gdown version: NOT INSTALLED or UNKNOWN VERSION.\n",
      "TorchVision version: 0.9.0+cu111\n",
      "tqdm version: 4.64.1\n",
      "lmdb version: NOT INSTALLED or UNKNOWN VERSION.\n",
      "psutil version: 5.9.3\n",
      "pandas version: NOT INSTALLED or UNKNOWN VERSION.\n",
      "einops version: 0.6.0\n",
      "transformers version: NOT INSTALLED or UNKNOWN VERSION.\n",
      "mlflow version: NOT INSTALLED or UNKNOWN VERSION.\n",
      "pynrrd version: NOT INSTALLED or UNKNOWN VERSION.\n",
      "\n",
      "For details about installing the optional dependencies, please visit:\n",
      "    https://docs.monai.io/en/latest/installation.html#installing-the-recommended-dependencies\n",
      "\n"
     ]
    }
   ],
   "source": [
    "# Copyright 2020 MONAI Consortium\n",
    "# Licensed under the Apache License, Version 2.0 (the \"License\");\n",
    "# you may not use this file except in compliance with the License.\n",
    "# You may obtain a copy of the License at\n",
    "#     http://www.apache.org/licenses/LICENSE-2.0\n",
    "# Unless required by applicable law or agreed to in writing, software\n",
    "# distributed under the License is distributed on an \"AS IS\" BASIS,\n",
    "# WITHOUT WARRANTIES OR CONDITIONS OF ANY KIND, either express or implied.\n",
    "# See the License for the specific language governing permissions and\n",
    "# limitations under the License.\n",
    "import os\n",
    "import shutil\n",
    "import tempfile\n",
    "from typing import Dict, Mapping, Optional, Union\n",
    "\n",
    "import matplotlib.pyplot as plt\n",
    "import numpy as np\n",
    "import torch\n",
    "from ignite.contrib.handlers import ProgressBar\n",
    "from monai import transforms\n",
    "from monai.apps import MedNISTDataset\n",
    "from monai.config import print_config\n",
    "from monai.data import CacheDataset, DataLoader\n",
    "from monai.engines import PrepareBatch, SupervisedEvaluator, SupervisedTrainer, default_prepare_batch\n",
    "from monai.handlers import MeanAbsoluteError, MeanSquaredError, StatsHandler, ValidationHandler, from_engine\n",
    "from monai.utils import first, set_determinism\n",
    "\n",
    "from generative.inferers import DiffusionInferer\n",
    "\n",
    "# TODO: Add right import reference after deployed\n",
    "from generative.networks.nets import DiffusionModelUNet\n",
    "from generative.schedulers import DDPMScheduler\n",
    "\n",
    "print_config()"
   ]
  },
  {
   "cell_type": "markdown",
   "id": "be99fa93",
   "metadata": {},
   "source": [
    "## Setup data directory\n",
    "\n",
    "You can specify a directory with the MONAI_DATA_DIRECTORY environment variable.\n",
    "\n",
    "This allows you to save results and reuse downloads.\n",
    "\n",
    "If not specified a temporary directory will be used."
   ]
  },
  {
   "cell_type": "code",
   "execution_count": 3,
   "id": "8fc58c80",
   "metadata": {
    "jupyter": {
     "outputs_hidden": false
    }
   },
   "outputs": [
    {
     "name": "stdout",
     "output_type": "stream",
     "text": [
      "/tmp/tmp4s7ozrr7\n"
     ]
    }
   ],
   "source": [
    "directory = os.environ.get(\"MONAI_DATA_DIRECTORY\")\n",
    "root_dir = tempfile.mkdtemp() if directory is None else directory\n",
    "print(root_dir)"
   ]
  },
  {
   "cell_type": "markdown",
   "id": "a36b12f0",
   "metadata": {},
   "source": [
    "## Set deterministic training for reproducibility"
   ]
  },
  {
   "cell_type": "code",
   "execution_count": 4,
   "id": "ad5a1948",
   "metadata": {
    "jupyter": {
     "outputs_hidden": false
    }
   },
   "outputs": [],
   "source": [
    "set_determinism(0)"
   ]
  },
  {
   "cell_type": "markdown",
   "id": "b41e37b3",
   "metadata": {},
   "source": [
    "## Setup MedNIST Dataset and training and validation dataloaders\n",
    "In this tutorial, we will train our models on the MedNIST dataset available on MONAI\n",
    "(https://docs.monai.io/en/stable/apps.html#monai.apps.MedNISTDataset). In order to train faster, we will select just\n",
    "one of the available classes (\"Hand\"), resulting in a training set with 7999 2D images."
   ]
  },
  {
   "cell_type": "code",
   "execution_count": 5,
   "id": "65e1c200",
   "metadata": {
    "jupyter": {
     "outputs_hidden": false
    }
   },
   "outputs": [
    {
     "name": "stdout",
     "output_type": "stream",
     "text": [
      "2022-11-26 00:25:55,677 - INFO - Downloaded: /tmp/tmp4s7ozrr7/MedNIST.tar.gz\n",
      "2022-11-26 00:25:55,746 - INFO - Verified 'MedNIST.tar.gz', md5: 0bc7306e7427e00ad1c5526a6677552d.\n",
      "2022-11-26 00:25:55,746 - INFO - Writing into directory: /tmp/tmp4s7ozrr7.\n"
     ]
    }
   ],
   "source": [
    "train_data = MedNISTDataset(root_dir=root_dir, section=\"training\", download=True, progress=False, seed=0)\n",
    "train_datalist = [{\"image\": item[\"image\"]} for item in train_data.data if item[\"class_name\"] == \"Hand\"]"
   ]
  },
  {
   "cell_type": "markdown",
   "id": "5d503ec9",
   "metadata": {},
   "source": [
    "Here we use transforms to augment the training dataset:\n",
    "\n",
    "1. `LoadImaged` loads the hands images from files.\n",
    "1. `EnsureChannelFirstd` ensures the original data to construct \"channel first\" shape.\n",
    "1. `ScaleIntensityRanged` extracts intensity range [0, 255] and scales to [0, 1].\n",
    "1. `RandAffined` efficiently performs rotate, scale, shear, translate, etc. together based on PyTorch affine transform."
   ]
  },
  {
   "cell_type": "code",
   "execution_count": 6,
   "id": "e2f9bebd",
   "metadata": {
    "jupyter": {
     "outputs_hidden": false
    }
   },
   "outputs": [
    {
     "name": "stderr",
     "output_type": "stream",
     "text": [
      "Loading dataset: 100%|████████████████████████████████████████████████████████████████████████████████████████████████████████████████████████████████████████████████████████████████████| 7999/7999 [00:04<00:00, 1792.22it/s]\n"
     ]
    }
   ],
   "source": [
    "train_transforms = transforms.Compose(\n",
    "    [\n",
    "        transforms.LoadImaged(keys=[\"image\"]),\n",
    "        transforms.EnsureChannelFirstd(keys=[\"image\"]),\n",
    "        transforms.ScaleIntensityRanged(keys=[\"image\"], a_min=0.0, a_max=255.0, b_min=0.0, b_max=1.0, clip=True),\n",
    "        transforms.RandAffined(\n",
    "            keys=[\"image\"],\n",
    "            rotate_range=[(-np.pi / 36, np.pi / 36), (-np.pi / 36, np.pi / 36)],\n",
    "            translate_range=[(-1, 1), (-1, 1)],\n",
    "            scale_range=[(-0.05, 0.05), (-0.05, 0.05)],\n",
    "            spatial_size=[64, 64],\n",
    "            padding_mode=\"zeros\",\n",
    "            prob=0.5,\n",
    "        ),\n",
    "    ]\n",
    ")\n",
    "train_ds = CacheDataset(data=train_datalist, transform=train_transforms)\n",
    "train_loader = DataLoader(train_ds, batch_size=8, shuffle=True, num_workers=4, persistent_workers=True)"
   ]
  },
  {
   "cell_type": "code",
   "execution_count": 7,
   "id": "938318c2",
   "metadata": {
    "jupyter": {
     "outputs_hidden": false
    }
   },
   "outputs": [
    {
     "name": "stdout",
     "output_type": "stream",
     "text": [
      "2022-11-26 00:26:19,327 - INFO - Verified 'MedNIST.tar.gz', md5: 0bc7306e7427e00ad1c5526a6677552d.\n",
      "2022-11-26 00:26:19,327 - INFO - File exists: /tmp/tmp4s7ozrr7/MedNIST.tar.gz, skipped downloading.\n",
      "2022-11-26 00:26:19,328 - INFO - Non-empty folder exists in /tmp/tmp4s7ozrr7/MedNIST, skipped extracting.\n"
     ]
    },
    {
     "name": "stderr",
     "output_type": "stream",
     "text": [
      "Loading dataset: 100%|████████████████████████████████████████████████████████████████████████████████████████████████████████████████████████████████████████████████████████████████████| 1005/1005 [00:00<00:00, 1773.89it/s]\n"
     ]
    }
   ],
   "source": [
    "val_data = MedNISTDataset(root_dir=root_dir, section=\"validation\", download=True, progress=False, seed=0)\n",
    "val_datalist = [{\"image\": item[\"image\"]} for item in val_data.data if item[\"class_name\"] == \"Hand\"]\n",
    "val_transforms = transforms.Compose(\n",
    "    [\n",
    "        transforms.LoadImaged(keys=[\"image\"]),\n",
    "        transforms.EnsureChannelFirstd(keys=[\"image\"]),\n",
    "        transforms.ScaleIntensityRanged(keys=[\"image\"], a_min=0.0, a_max=255.0, b_min=0.0, b_max=1.0, clip=True),\n",
    "    ]\n",
    ")\n",
    "val_ds = CacheDataset(data=val_datalist, transform=val_transforms)\n",
    "val_loader = DataLoader(val_ds, batch_size=8, shuffle=False, num_workers=4, persistent_workers=True)"
   ]
  },
  {
   "cell_type": "markdown",
   "id": "a56a4e42",
   "metadata": {},
   "source": [
    "### Visualisation of the training images"
   ]
  },
  {
   "cell_type": "code",
   "execution_count": 8,
   "id": "b698f4f8",
   "metadata": {
    "jupyter": {
     "outputs_hidden": false
    }
   },
   "outputs": [
    {
     "name": "stdout",
     "output_type": "stream",
     "text": [
      "batch shape: (8, 1, 64, 64)\n"
     ]
    },
    {
     "data": {
      "image/png": "[encoded data removed]",
      "text/plain": [
       "<Figure size 1200x600 with 1 Axes>"
      ]
     },
     "metadata": {},
     "output_type": "display_data"
    }
   ],
   "source": [
    "check_data = first(train_loader)\n",
    "print(f\"batch shape: {check_data['image'].shape}\")\n",
    "image_visualisation = torch.cat(\n",
    "    [check_data[\"image\"][0, 0], check_data[\"image\"][1, 0], check_data[\"image\"][2, 0], check_data[\"image\"][3, 0]], dim=1\n",
    ")\n",
    "plt.figure(\"training images\", (12, 6))\n",
    "plt.imshow(image_visualisation, vmin=0, vmax=1, cmap=\"gray\")\n",
    "plt.axis(\"off\")\n",
    "plt.tight_layout()\n",
    "plt.show()"
   ]
  },
  {
   "cell_type": "markdown",
   "id": "d3090350",
   "metadata": {},
   "source": [
    "### Define network, scheduler, optimizer, and inferer\n",
    "At this step, we instantiate the MONAI components to create a DDPM, the UNET, the noise scheduler, and the inferer used for training and sampling. We are using\n",
    "the original DDPM scheduler containing 1000 timesteps in its Markov chain, and a 2D UNET with attention mechanisms\n",
    "in the 2nd and 3rd levels, each with 1 attention head."
   ]
  },
  {
   "cell_type": "code",
   "execution_count": 9,
   "id": "2c52e4f4",
   "metadata": {
    "jupyter": {
     "outputs_hidden": false
    },
    "lines_to_next_cell": 0
   },
   "outputs": [],
   "source": [
    "device = torch.device(\"cuda\")\n",
    "\n",
    "model = DiffusionModelUNet(\n",
    "    spatial_dims=2,\n",
    "    in_channels=1,\n",
    "    out_channels=1,\n",
    "    num_channels=(64, 128, 128),\n",
    "    attention_levels=(False, True, True),\n",
    "    num_res_blocks=1,\n",
    "    num_head_channels=128,\n",
    ")\n",
    "model.to(device)\n",
    "\n",
    "scheduler = DDPMScheduler(\n",
    "    num_train_timesteps=1000,\n",
    ")\n",
    "\n",
    "optimizer = torch.optim.Adam(params=model.parameters(), lr=2.5e-5)\n",
    "\n",
    "inferer = DiffusionInferer(scheduler)"
   ]
  },
  {
   "cell_type": "markdown",
   "id": "655fa0a2-91f7-45e6-b3f8-259b76fe7e74",
   "metadata": {},
   "source": [
    "### Define a class for preparing batches"
   ]
  },
  {
   "cell_type": "code",
   "execution_count": 10,
   "id": "15e46af7-c3e9-409b-ab1f-5884ada2729f",
   "metadata": {},
   "outputs": [],
   "source": [
    "class DiffusionPrepareBatch(PrepareBatch):\n",
    "    \"\"\"\n",
    "    This class is used as a callable for the `prepare_batch` parameter of engine classes for diffusion training.\n",
    "\n",
    "    Assuming a supervised training process, it will generate a noise field using `get_noise` for an input image, and\n",
    "    return the image and noise field as the image/target pair plus the noise field the kwargs under the key \"noise\".\n",
    "    This assumes the inferer being used in conjunction with this class expects a \"noise\" parameter to be provided.\n",
    "\n",
    "    If the `condition_name` is provided, this must refer to a key in the input dictionary containing the condition\n",
    "    field to be passed to the inferer. This will appear in the keyword arguments under the key \"condition\".\n",
    "\n",
    "    \"\"\"\n",
    "\n",
    "    def __init__(self, condition_name: Optional[str] = None):\n",
    "        self.condition_name = condition_name\n",
    "\n",
    "    def get_noise(self, images):\n",
    "        \"\"\"Returns the noise tensor for input tensor `images`, override this for different noise distributions.\"\"\"\n",
    "        return torch.randn_like(images)\n",
    "\n",
    "    def __call__(\n",
    "        self,\n",
    "        batchdata: Dict[str, torch.Tensor],\n",
    "        device: Optional[Union[str, torch.device]] = None,\n",
    "        non_blocking: bool = False,\n",
    "        **kwargs,\n",
    "    ):\n",
    "        images, _ = default_prepare_batch(batchdata, device, non_blocking, **kwargs)\n",
    "        noise = self.get_noise(images).to(device, non_blocking=non_blocking, **kwargs)\n",
    "\n",
    "        kwargs = {\"noise\": noise}\n",
    "\n",
    "        if self.condition_name is not None and isinstance(batchdata, Mapping):\n",
    "            kwargs[\"conditioning\"] = batchdata[self.condition_name].to(device, non_blocking=non_blocking, **kwargs)\n",
    "\n",
    "        # return input, target, arguments, and keyword arguments where noise is the target and also a keyword value\n",
    "        return images, noise, (), kwargs"
   ]
  },
  {
   "cell_type": "markdown",
   "id": "5a316067",
   "metadata": {},
   "source": [
    "### Model training\n",
    "Here, we are training our model for 75 epochs (training time: ~50 minutes)."
   ]
  },
  {
   "cell_type": "code",
   "execution_count": 11,
   "id": "0f697a13",
   "metadata": {
    "jupyter": {
     "outputs_hidden": false
    },
    "lines_to_next_cell": 0
   },
   "outputs": [
    {
     "name": "stdout",
     "output_type": "stream",
     "text": [
      "2022-11-26 00:26:23,940 - Engine run resuming from iteration 0, epoch 0 until 75 epochs\n"
     ]
    },
    {
     "data": {
      "application/vnd.jupyter.widget-view+json": {
       "model_id": "48e16011b2cc4b0fa78c7c0d92db431d",
       "version_major": 2,
       "version_minor": 0
      },
      "text/plain": [
       "[1/1000]   0%| [00:00<?]"
      ]
     },
     "metadata": {},
     "output_type": "display_data"
    },
    {
     "name": "stderr",
     "output_type": "stream",
     "text": [
      "/media/walter/Storage/Projects/GenerativeModels/venv/lib/python3.8/site-packages/ignite/contrib/handlers/base_logger.py:172: UserWarning: Logger output_handler can not log metrics value type <class 'list'>\n",
      "  warnings.warn(f\"Logger output_handler can not log metrics value type {type(value)}\")\n"
     ]
    },
    {
     "name": "stdout",
     "output_type": "stream",
     "text": [
      "2022-11-26 00:27:34,129 - Got new best metric of train_acc: 0.1597186028957367\n",
      "2022-11-26 00:27:34,130 - Epoch[1] Complete. Time taken: 00:01:10.146\n"
     ]
    },
    {
     "data": {
      "application/vnd.jupyter.widget-view+json": {
       "model_id": "f22412df96b5457cbcc067bdb39af189",
       "version_major": 2,
       "version_minor": 0
      },
      "text/plain": [
       "[1/1000]   0%| [00:00<?]"
      ]
     },
     "metadata": {},
     "output_type": "display_data"
    },
    {
     "name": "stdout",
     "output_type": "stream",
     "text": [
      "2022-11-26 00:28:44,143 - Epoch[2] Complete. Time taken: 00:01:10.012\n"
     ]
    },
    {
     "data": {
      "application/vnd.jupyter.widget-view+json": {
       "model_id": "bc286a2b836c4c758fc880fa2a514828",
       "version_major": 2,
       "version_minor": 0
      },
      "text/plain": [
       "[1/1000]   0%| [00:00<?]"
      ]
     },
     "metadata": {},
     "output_type": "display_data"
    },
    {
     "name": "stdout",
     "output_type": "stream",
     "text": [
      "2022-11-26 00:29:54,370 - Epoch[3] Complete. Time taken: 00:01:10.227\n"
     ]
    },
    {
     "data": {
      "application/vnd.jupyter.widget-view+json": {
       "model_id": "fcb4b4ecac6646f9a3463f8483591770",
       "version_major": 2,
       "version_minor": 0
      },
      "text/plain": [
       "[1/1000]   0%| [00:00<?]"
      ]
     },
     "metadata": {},
     "output_type": "display_data"
    },
    {
     "name": "stdout",
     "output_type": "stream",
     "text": [
      "2022-11-26 00:31:04,980 - Epoch[4] Complete. Time taken: 00:01:10.609\n"
     ]
    },
    {
     "data": {
      "application/vnd.jupyter.widget-view+json": {
       "model_id": "42d68ee36a8d4872aa77e12ef871029d",
       "version_major": 2,
       "version_minor": 0
      },
      "text/plain": [
       "[1/1000]   0%| [00:00<?]"
      ]
     },
     "metadata": {},
     "output_type": "display_data"
    },
    {
     "name": "stdout",
     "output_type": "stream",
     "text": [
      "2022-11-26 00:32:16,051 - Engine run resuming from iteration 0, epoch 4 until 5 epochs\n",
      "2022-11-26 00:32:19,550 - Got new best metric of val_mean_abs_error: 0.0573042631149292\n",
      "2022-11-26 00:32:19,551 - Epoch[5] Metrics -- val_mean_abs_error: 0.0573 \n",
      "2022-11-26 00:32:19,551 - Key metric: val_mean_abs_error best value: 0.0573042631149292 at epoch: 5\n",
      "2022-11-26 00:32:19,552 - Epoch[5] Complete. Time taken: 00:00:03.388\n",
      "2022-11-26 00:32:19,552 - Engine run complete. Time taken: 00:00:03.500\n",
      "2022-11-26 00:32:19,553 - Epoch[5] Complete. Time taken: 00:01:14.573\n"
     ]
    },
    {
     "data": {
      "application/vnd.jupyter.widget-view+json": {
       "model_id": "b58d9bf3fd1e4177a91442e1fa76987e",
       "version_major": 2,
       "version_minor": 0
      },
      "text/plain": [
       "[1/1000]   0%| [00:00<?]"
      ]
     },
     "metadata": {},
     "output_type": "display_data"
    },
    {
     "name": "stdout",
     "output_type": "stream",
     "text": [
      "2022-11-26 00:33:30,367 - Epoch[6] Complete. Time taken: 00:01:10.813\n"
     ]
    },
    {
     "data": {
      "application/vnd.jupyter.widget-view+json": {
       "model_id": "2aaac4758fa74c5eb9745672cd3c26c5",
       "version_major": 2,
       "version_minor": 0
      },
      "text/plain": [
       "[1/1000]   0%| [00:00<?]"
      ]
     },
     "metadata": {},
     "output_type": "display_data"
    },
    {
     "name": "stdout",
     "output_type": "stream",
     "text": [
      "2022-11-26 00:34:41,475 - Epoch[7] Complete. Time taken: 00:01:11.107\n"
     ]
    },
    {
     "data": {
      "application/vnd.jupyter.widget-view+json": {
       "model_id": "f5091bee9e854c6ca8a4e848d5ff8767",
       "version_major": 2,
       "version_minor": 0
      },
      "text/plain": [
       "[1/1000]   0%| [00:00<?]"
      ]
     },
     "metadata": {},
     "output_type": "display_data"
    },
    {
     "name": "stdout",
     "output_type": "stream",
     "text": [
      "2022-11-26 00:35:52,513 - Epoch[8] Complete. Time taken: 00:01:11.038\n"
     ]
    },
    {
     "data": {
      "application/vnd.jupyter.widget-view+json": {
       "model_id": "2eeaf023cd324bea980453c225de19e0",
       "version_major": 2,
       "version_minor": 0
      },
      "text/plain": [
       "[1/1000]   0%| [00:00<?]"
      ]
     },
     "metadata": {},
     "output_type": "display_data"
    },
    {
     "name": "stdout",
     "output_type": "stream",
     "text": [
      "2022-11-26 00:37:03,482 - Epoch[9] Complete. Time taken: 00:01:10.969\n"
     ]
    },
    {
     "data": {
      "application/vnd.jupyter.widget-view+json": {
       "model_id": "8822fe034b83469b98ad60890d2b8b12",
       "version_major": 2,
       "version_minor": 0
      },
      "text/plain": [
       "[1/1000]   0%| [00:00<?]"
      ]
     },
     "metadata": {},
     "output_type": "display_data"
    },
    {
     "name": "stdout",
     "output_type": "stream",
     "text": [
      "2022-11-26 00:38:14,229 - Engine run resuming from iteration 0, epoch 9 until 10 epochs\n",
      "2022-11-26 00:38:17,527 - Epoch[10] Metrics -- val_mean_abs_error: 0.0528 \n",
      "2022-11-26 00:38:17,527 - Key metric: val_mean_abs_error best value: 0.0573042631149292 at epoch: 5\n",
      "2022-11-26 00:38:17,528 - Epoch[10] Complete. Time taken: 00:00:03.298\n",
      "2022-11-26 00:38:17,528 - Engine run complete. Time taken: 00:00:03.299\n",
      "2022-11-26 00:38:17,529 - Epoch[10] Complete. Time taken: 00:01:14.046\n"
     ]
    },
    {
     "data": {
      "application/vnd.jupyter.widget-view+json": {
       "model_id": "01192e9b35c549658abb74d1372deb77",
       "version_major": 2,
       "version_minor": 0
      },
      "text/plain": [
       "[1/1000]   0%| [00:00<?]"
      ]
     },
     "metadata": {},
     "output_type": "display_data"
    },
    {
     "name": "stdout",
     "output_type": "stream",
     "text": [
      "2022-11-26 00:39:28,385 - Epoch[11] Complete. Time taken: 00:01:10.855\n"
     ]
    },
    {
     "data": {
      "application/vnd.jupyter.widget-view+json": {
       "model_id": "5866d03af54945008bda50f90d664b18",
       "version_major": 2,
       "version_minor": 0
      },
      "text/plain": [
       "[1/1000]   0%| [00:00<?]"
      ]
     },
     "metadata": {},
     "output_type": "display_data"
    },
    {
     "name": "stdout",
     "output_type": "stream",
     "text": [
      "2022-11-26 00:40:39,532 - Epoch[12] Complete. Time taken: 00:01:11.147\n"
     ]
    },
    {
     "data": {
      "application/vnd.jupyter.widget-view+json": {
       "model_id": "5543fe654b9346bf9a7161507a7ac62d",
       "version_major": 2,
       "version_minor": 0
      },
      "text/plain": [
       "[1/1000]   0%| [00:00<?]"
      ]
     },
     "metadata": {},
     "output_type": "display_data"
    },
    {
     "name": "stdout",
     "output_type": "stream",
     "text": [
      "2022-11-26 00:41:50,419 - Epoch[13] Complete. Time taken: 00:01:10.887\n"
     ]
    },
    {
     "data": {
      "application/vnd.jupyter.widget-view+json": {
       "model_id": "5f4e14dc963846c7af33e3fd1cdd3ac2",
       "version_major": 2,
       "version_minor": 0
      },
      "text/plain": [
       "[1/1000]   0%| [00:00<?]"
      ]
     },
     "metadata": {},
     "output_type": "display_data"
    },
    {
     "name": "stdout",
     "output_type": "stream",
     "text": [
      "2022-11-26 00:43:01,559 - Epoch[14] Complete. Time taken: 00:01:11.139\n"
     ]
    },
    {
     "data": {
      "application/vnd.jupyter.widget-view+json": {
       "model_id": "01bc8966f7db4e52a49922fc0f06de48",
       "version_major": 2,
       "version_minor": 0
      },
      "text/plain": [
       "[1/1000]   0%| [00:00<?]"
      ]
     },
     "metadata": {},
     "output_type": "display_data"
    },
    {
     "name": "stdout",
     "output_type": "stream",
     "text": [
      "2022-11-26 00:44:12,669 - Engine run resuming from iteration 0, epoch 14 until 15 epochs\n",
      "2022-11-26 00:44:15,938 - Epoch[15] Metrics -- val_mean_abs_error: 0.0470 \n",
      "2022-11-26 00:44:15,938 - Key metric: val_mean_abs_error best value: 0.0573042631149292 at epoch: 5\n",
      "2022-11-26 00:44:15,939 - Epoch[15] Complete. Time taken: 00:00:03.269\n",
      "2022-11-26 00:44:15,939 - Engine run complete. Time taken: 00:00:03.270\n",
      "2022-11-26 00:44:15,940 - Epoch[15] Complete. Time taken: 00:01:14.381\n"
     ]
    },
    {
     "data": {
      "application/vnd.jupyter.widget-view+json": {
       "model_id": "c8e68e3d04044f09a57898378c9eb68f",
       "version_major": 2,
       "version_minor": 0
      },
      "text/plain": [
       "[1/1000]   0%| [00:00<?]"
      ]
     },
     "metadata": {},
     "output_type": "display_data"
    },
    {
     "name": "stdout",
     "output_type": "stream",
     "text": [
      "2022-11-26 00:45:26,876 - Epoch[16] Complete. Time taken: 00:01:10.936\n"
     ]
    },
    {
     "data": {
      "application/vnd.jupyter.widget-view+json": {
       "model_id": "c40a53dc18a0476ea0883d8b1b704886",
       "version_major": 2,
       "version_minor": 0
      },
      "text/plain": [
       "[1/1000]   0%| [00:00<?]"
      ]
     },
     "metadata": {},
     "output_type": "display_data"
    },
    {
     "name": "stdout",
     "output_type": "stream",
     "text": [
      "2022-11-26 00:46:37,964 - Epoch[17] Complete. Time taken: 00:01:11.087\n"
     ]
    },
    {
     "data": {
      "application/vnd.jupyter.widget-view+json": {
       "model_id": "9e99b0dcd5e7448ca8f11491b74d7e9e",
       "version_major": 2,
       "version_minor": 0
      },
      "text/plain": [
       "[1/1000]   0%| [00:00<?]"
      ]
     },
     "metadata": {},
     "output_type": "display_data"
    },
    {
     "name": "stdout",
     "output_type": "stream",
     "text": [
      "2022-11-26 00:47:49,189 - Epoch[18] Complete. Time taken: 00:01:11.224\n"
     ]
    },
    {
     "data": {
      "application/vnd.jupyter.widget-view+json": {
       "model_id": "0c3812d0fa18463eb0241c4ec8a4537c",
       "version_major": 2,
       "version_minor": 0
      },
      "text/plain": [
       "[1/1000]   0%| [00:00<?]"
      ]
     },
     "metadata": {},
     "output_type": "display_data"
    },
    {
     "name": "stdout",
     "output_type": "stream",
     "text": [
      "2022-11-26 00:49:00,416 - Epoch[19] Complete. Time taken: 00:01:11.227\n"
     ]
    },
    {
     "data": {
      "application/vnd.jupyter.widget-view+json": {
       "model_id": "fa2bcd9a85014e118c97a47f2c3bc3b2",
       "version_major": 2,
       "version_minor": 0
      },
      "text/plain": [
       "[1/1000]   0%| [00:00<?]"
      ]
     },
     "metadata": {},
     "output_type": "display_data"
    },
    {
     "name": "stdout",
     "output_type": "stream",
     "text": [
      "2022-11-26 00:50:11,760 - Engine run resuming from iteration 0, epoch 19 until 20 epochs\n",
      "2022-11-26 00:50:15,123 - Epoch[20] Metrics -- val_mean_abs_error: 0.0468 \n",
      "2022-11-26 00:50:15,123 - Key metric: val_mean_abs_error best value: 0.0573042631149292 at epoch: 5\n",
      "2022-11-26 00:50:15,123 - Epoch[20] Complete. Time taken: 00:00:03.362\n",
      "2022-11-26 00:50:15,124 - Engine run complete. Time taken: 00:00:03.363\n",
      "2022-11-26 00:50:15,125 - Epoch[20] Complete. Time taken: 00:01:14.708\n"
     ]
    },
    {
     "data": {
      "application/vnd.jupyter.widget-view+json": {
       "model_id": "2ed23d7c604c4f45a803b488d03a5da0",
       "version_major": 2,
       "version_minor": 0
      },
      "text/plain": [
       "[1/1000]   0%| [00:00<?]"
      ]
     },
     "metadata": {},
     "output_type": "display_data"
    },
    {
     "name": "stdout",
     "output_type": "stream",
     "text": [
      "2022-11-26 00:51:26,335 - Epoch[21] Complete. Time taken: 00:01:11.210\n"
     ]
    },
    {
     "data": {
      "application/vnd.jupyter.widget-view+json": {
       "model_id": "fa31e5aae36c41778a1007f4ebdb68a9",
       "version_major": 2,
       "version_minor": 0
      },
      "text/plain": [
       "[1/1000]   0%| [00:00<?]"
      ]
     },
     "metadata": {},
     "output_type": "display_data"
    },
    {
     "name": "stdout",
     "output_type": "stream",
     "text": [
      "2022-11-26 00:52:37,801 - Epoch[22] Complete. Time taken: 00:01:11.465\n"
     ]
    },
    {
     "data": {
      "application/vnd.jupyter.widget-view+json": {
       "model_id": "3f2a5eab0b924a82a3d9a36230632d24",
       "version_major": 2,
       "version_minor": 0
      },
      "text/plain": [
       "[1/1000]   0%| [00:00<?]"
      ]
     },
     "metadata": {},
     "output_type": "display_data"
    },
    {
     "name": "stdout",
     "output_type": "stream",
     "text": [
      "2022-11-26 00:53:49,044 - Epoch[23] Complete. Time taken: 00:01:11.243\n"
     ]
    },
    {
     "data": {
      "application/vnd.jupyter.widget-view+json": {
       "model_id": "002c5cfd999b4002a230c1305021921f",
       "version_major": 2,
       "version_minor": 0
      },
      "text/plain": [
       "[1/1000]   0%| [00:00<?]"
      ]
     },
     "metadata": {},
     "output_type": "display_data"
    },
    {
     "name": "stdout",
     "output_type": "stream",
     "text": [
      "2022-11-26 00:55:00,790 - Epoch[24] Complete. Time taken: 00:01:11.745\n"
     ]
    },
    {
     "data": {
      "application/vnd.jupyter.widget-view+json": {
       "model_id": "d86a0f4d339e44acbf7764dde03a03ff",
       "version_major": 2,
       "version_minor": 0
      },
      "text/plain": [
       "[1/1000]   0%| [00:00<?]"
      ]
     },
     "metadata": {},
     "output_type": "display_data"
    },
    {
     "name": "stdout",
     "output_type": "stream",
     "text": [
      "2022-11-26 00:56:12,200 - Engine run resuming from iteration 0, epoch 24 until 25 epochs\n",
      "2022-11-26 00:56:15,475 - Epoch[25] Metrics -- val_mean_abs_error: 0.0490 \n",
      "2022-11-26 00:56:15,475 - Key metric: val_mean_abs_error best value: 0.0573042631149292 at epoch: 5\n",
      "2022-11-26 00:56:15,475 - Epoch[25] Complete. Time taken: 00:00:03.274\n",
      "2022-11-26 00:56:15,476 - Engine run complete. Time taken: 00:00:03.275\n",
      "2022-11-26 00:56:15,477 - Epoch[25] Complete. Time taken: 00:01:14.686\n"
     ]
    },
    {
     "data": {
      "application/vnd.jupyter.widget-view+json": {
       "model_id": "34868b5e86c04be8ade85560ed48d6a8",
       "version_major": 2,
       "version_minor": 0
      },
      "text/plain": [
       "[1/1000]   0%| [00:00<?]"
      ]
     },
     "metadata": {},
     "output_type": "display_data"
    },
    {
     "name": "stdout",
     "output_type": "stream",
     "text": [
      "2022-11-26 00:57:26,521 - Epoch[26] Complete. Time taken: 00:01:11.044\n"
     ]
    },
    {
     "data": {
      "application/vnd.jupyter.widget-view+json": {
       "model_id": "6afae505bb174baaa18aa8acae482e4b",
       "version_major": 2,
       "version_minor": 0
      },
      "text/plain": [
       "[1/1000]   0%| [00:00<?]"
      ]
     },
     "metadata": {},
     "output_type": "display_data"
    },
    {
     "name": "stdout",
     "output_type": "stream",
     "text": [
      "2022-11-26 00:58:37,524 - Epoch[27] Complete. Time taken: 00:01:11.002\n"
     ]
    },
    {
     "data": {
      "application/vnd.jupyter.widget-view+json": {
       "model_id": "a6aab7d6b93c483ba3e0e18d6ee7ff3b",
       "version_major": 2,
       "version_minor": 0
      },
      "text/plain": [
       "[1/1000]   0%| [00:00<?]"
      ]
     },
     "metadata": {},
     "output_type": "display_data"
    },
    {
     "name": "stdout",
     "output_type": "stream",
     "text": [
      "2022-11-26 00:59:48,512 - Epoch[28] Complete. Time taken: 00:01:10.988\n"
     ]
    },
    {
     "data": {
      "application/vnd.jupyter.widget-view+json": {
       "model_id": "696e371d7fc44608a506ec7f5b309f3e",
       "version_major": 2,
       "version_minor": 0
      },
      "text/plain": [
       "[1/1000]   0%| [00:00<?]"
      ]
     },
     "metadata": {},
     "output_type": "display_data"
    },
    {
     "name": "stdout",
     "output_type": "stream",
     "text": [
      "2022-11-26 01:00:59,538 - Epoch[29] Complete. Time taken: 00:01:11.025\n"
     ]
    },
    {
     "data": {
      "application/vnd.jupyter.widget-view+json": {
       "model_id": "f7558ba71863413da30c0104c3ed35d2",
       "version_major": 2,
       "version_minor": 0
      },
      "text/plain": [
       "[1/1000]   0%| [00:00<?]"
      ]
     },
     "metadata": {},
     "output_type": "display_data"
    },
    {
     "name": "stdout",
     "output_type": "stream",
     "text": [
      "2022-11-26 01:02:10,587 - Engine run resuming from iteration 0, epoch 29 until 30 epochs\n",
      "2022-11-26 01:02:13,952 - Epoch[30] Metrics -- val_mean_abs_error: 0.0476 \n",
      "2022-11-26 01:02:13,953 - Key metric: val_mean_abs_error best value: 0.0573042631149292 at epoch: 5\n",
      "2022-11-26 01:02:13,953 - Epoch[30] Complete. Time taken: 00:00:03.365\n",
      "2022-11-26 01:02:13,953 - Engine run complete. Time taken: 00:00:03.366\n",
      "2022-11-26 01:02:13,955 - Epoch[30] Complete. Time taken: 00:01:14.417\n"
     ]
    },
    {
     "data": {
      "application/vnd.jupyter.widget-view+json": {
       "model_id": "909c69ff0478434da3d280631040ad27",
       "version_major": 2,
       "version_minor": 0
      },
      "text/plain": [
       "[1/1000]   0%| [00:00<?]"
      ]
     },
     "metadata": {},
     "output_type": "display_data"
    },
    {
     "name": "stdout",
     "output_type": "stream",
     "text": [
      "2022-11-26 01:03:25,258 - Epoch[31] Complete. Time taken: 00:01:11.303\n"
     ]
    },
    {
     "data": {
      "application/vnd.jupyter.widget-view+json": {
       "model_id": "308657a05ab04fe98911c8df639b5c0e",
       "version_major": 2,
       "version_minor": 0
      },
      "text/plain": [
       "[1/1000]   0%| [00:00<?]"
      ]
     },
     "metadata": {},
     "output_type": "display_data"
    },
    {
     "name": "stdout",
     "output_type": "stream",
     "text": [
      "2022-11-26 01:04:36,718 - Epoch[32] Complete. Time taken: 00:01:11.459\n"
     ]
    },
    {
     "data": {
      "application/vnd.jupyter.widget-view+json": {
       "model_id": "7ec0b111d5b648b98031637963872685",
       "version_major": 2,
       "version_minor": 0
      },
      "text/plain": [
       "[1/1000]   0%| [00:00<?]"
      ]
     },
     "metadata": {},
     "output_type": "display_data"
    },
    {
     "name": "stdout",
     "output_type": "stream",
     "text": [
      "2022-11-26 01:05:47,919 - Epoch[33] Complete. Time taken: 00:01:11.201\n"
     ]
    },
    {
     "data": {
      "application/vnd.jupyter.widget-view+json": {
       "model_id": "4d361d7b7c9d4781b342bdb1237b742c",
       "version_major": 2,
       "version_minor": 0
      },
      "text/plain": [
       "[1/1000]   0%| [00:00<?]"
      ]
     },
     "metadata": {},
     "output_type": "display_data"
    },
    {
     "name": "stdout",
     "output_type": "stream",
     "text": [
      "2022-11-26 01:06:59,125 - Epoch[34] Complete. Time taken: 00:01:11.205\n"
     ]
    },
    {
     "data": {
      "application/vnd.jupyter.widget-view+json": {
       "model_id": "0fb1af0fa61d46be972940f224664310",
       "version_major": 2,
       "version_minor": 0
      },
      "text/plain": [
       "[1/1000]   0%| [00:00<?]"
      ]
     },
     "metadata": {},
     "output_type": "display_data"
    },
    {
     "name": "stdout",
     "output_type": "stream",
     "text": [
      "2022-11-26 01:08:09,914 - Engine run resuming from iteration 0, epoch 34 until 35 epochs\n",
      "2022-11-26 01:08:13,284 - Epoch[35] Metrics -- val_mean_abs_error: 0.0436 \n",
      "2022-11-26 01:08:13,285 - Key metric: val_mean_abs_error best value: 0.0573042631149292 at epoch: 5\n",
      "2022-11-26 01:08:13,285 - Epoch[35] Complete. Time taken: 00:00:03.370\n",
      "2022-11-26 01:08:13,285 - Engine run complete. Time taken: 00:00:03.371\n",
      "2022-11-26 01:08:13,287 - Epoch[35] Complete. Time taken: 00:01:14.161\n"
     ]
    },
    {
     "data": {
      "application/vnd.jupyter.widget-view+json": {
       "model_id": "b3caa94897584b7a9b7751516f9a6856",
       "version_major": 2,
       "version_minor": 0
      },
      "text/plain": [
       "[1/1000]   0%| [00:00<?]"
      ]
     },
     "metadata": {},
     "output_type": "display_data"
    },
    {
     "name": "stdout",
     "output_type": "stream",
     "text": [
      "2022-11-26 01:09:24,518 - Epoch[36] Complete. Time taken: 00:01:11.231\n"
     ]
    },
    {
     "data": {
      "application/vnd.jupyter.widget-view+json": {
       "model_id": "68c95a6f69af43e88b6b15741c0b2221",
       "version_major": 2,
       "version_minor": 0
      },
      "text/plain": [
       "[1/1000]   0%| [00:00<?]"
      ]
     },
     "metadata": {},
     "output_type": "display_data"
    },
    {
     "name": "stdout",
     "output_type": "stream",
     "text": [
      "2022-11-26 01:10:35,634 - Epoch[37] Complete. Time taken: 00:01:11.115\n"
     ]
    },
    {
     "data": {
      "application/vnd.jupyter.widget-view+json": {
       "model_id": "6cfa40c05bdc43038604f1de967e562d",
       "version_major": 2,
       "version_minor": 0
      },
      "text/plain": [
       "[1/1000]   0%| [00:00<?]"
      ]
     },
     "metadata": {},
     "output_type": "display_data"
    },
    {
     "name": "stdout",
     "output_type": "stream",
     "text": [
      "2022-11-26 01:11:47,111 - Epoch[38] Complete. Time taken: 00:01:11.476\n"
     ]
    },
    {
     "data": {
      "application/vnd.jupyter.widget-view+json": {
       "model_id": "df5d39658d0a411a8ef6b88e851d3b58",
       "version_major": 2,
       "version_minor": 0
      },
      "text/plain": [
       "[1/1000]   0%| [00:00<?]"
      ]
     },
     "metadata": {},
     "output_type": "display_data"
    },
    {
     "name": "stdout",
     "output_type": "stream",
     "text": [
      "2022-11-26 01:12:58,463 - Epoch[39] Complete. Time taken: 00:01:11.351\n"
     ]
    },
    {
     "data": {
      "application/vnd.jupyter.widget-view+json": {
       "model_id": "82ff2f8bf70e479596b55e20e522e801",
       "version_major": 2,
       "version_minor": 0
      },
      "text/plain": [
       "[1/1000]   0%| [00:00<?]"
      ]
     },
     "metadata": {},
     "output_type": "display_data"
    },
    {
     "name": "stdout",
     "output_type": "stream",
     "text": [
      "2022-11-26 01:14:09,898 - Engine run resuming from iteration 0, epoch 39 until 40 epochs\n",
      "2022-11-26 01:14:13,281 - Epoch[40] Metrics -- val_mean_abs_error: 0.0445 \n",
      "2022-11-26 01:14:13,281 - Key metric: val_mean_abs_error best value: 0.0573042631149292 at epoch: 5\n",
      "2022-11-26 01:14:13,282 - Epoch[40] Complete. Time taken: 00:00:03.382\n",
      "2022-11-26 01:14:13,282 - Engine run complete. Time taken: 00:00:03.384\n",
      "2022-11-26 01:14:13,283 - Epoch[40] Complete. Time taken: 00:01:14.820\n"
     ]
    },
    {
     "data": {
      "application/vnd.jupyter.widget-view+json": {
       "model_id": "c1ab2ed23d8e4130a6a463e0618d2554",
       "version_major": 2,
       "version_minor": 0
      },
      "text/plain": [
       "[1/1000]   0%| [00:00<?]"
      ]
     },
     "metadata": {},
     "output_type": "display_data"
    },
    {
     "name": "stdout",
     "output_type": "stream",
     "text": [
      "2022-11-26 01:15:24,442 - Epoch[41] Complete. Time taken: 00:01:11.158\n"
     ]
    },
    {
     "data": {
      "application/vnd.jupyter.widget-view+json": {
       "model_id": "ae7d8578d19f487c86e4e333e262bba1",
       "version_major": 2,
       "version_minor": 0
      },
      "text/plain": [
       "[1/1000]   0%| [00:00<?]"
      ]
     },
     "metadata": {},
     "output_type": "display_data"
    },
    {
     "name": "stdout",
     "output_type": "stream",
     "text": [
      "2022-11-26 01:16:35,218 - Epoch[42] Complete. Time taken: 00:01:10.776\n"
     ]
    },
    {
     "data": {
      "application/vnd.jupyter.widget-view+json": {
       "model_id": "ce90aa8c55d749199edacd928f06c8c9",
       "version_major": 2,
       "version_minor": 0
      },
      "text/plain": [
       "[1/1000]   0%| [00:00<?]"
      ]
     },
     "metadata": {},
     "output_type": "display_data"
    },
    {
     "name": "stdout",
     "output_type": "stream",
     "text": [
      "2022-11-26 01:17:46,576 - Epoch[43] Complete. Time taken: 00:01:11.357\n"
     ]
    },
    {
     "data": {
      "application/vnd.jupyter.widget-view+json": {
       "model_id": "5fa3f59052e94d7b953db03990a9308d",
       "version_major": 2,
       "version_minor": 0
      },
      "text/plain": [
       "[1/1000]   0%| [00:00<?]"
      ]
     },
     "metadata": {},
     "output_type": "display_data"
    },
    {
     "name": "stdout",
     "output_type": "stream",
     "text": [
      "2022-11-26 01:18:57,745 - Epoch[44] Complete. Time taken: 00:01:11.168\n"
     ]
    },
    {
     "data": {
      "application/vnd.jupyter.widget-view+json": {
       "model_id": "1e9325a745394d1d889822eda5001d06",
       "version_major": 2,
       "version_minor": 0
      },
      "text/plain": [
       "[1/1000]   0%| [00:00<?]"
      ]
     },
     "metadata": {},
     "output_type": "display_data"
    },
    {
     "name": "stdout",
     "output_type": "stream",
     "text": [
      "2022-11-26 01:20:09,205 - Engine run resuming from iteration 0, epoch 44 until 45 epochs\n",
      "2022-11-26 01:20:12,526 - Epoch[45] Metrics -- val_mean_abs_error: 0.0430 \n",
      "2022-11-26 01:20:12,527 - Key metric: val_mean_abs_error best value: 0.0573042631149292 at epoch: 5\n",
      "2022-11-26 01:20:12,527 - Epoch[45] Complete. Time taken: 00:00:03.321\n",
      "2022-11-26 01:20:12,528 - Engine run complete. Time taken: 00:00:03.322\n",
      "2022-11-26 01:20:12,529 - Epoch[45] Complete. Time taken: 00:01:14.783\n"
     ]
    },
    {
     "data": {
      "application/vnd.jupyter.widget-view+json": {
       "model_id": "f5edf1eb3ee941de8e47bc16807b9a79",
       "version_major": 2,
       "version_minor": 0
      },
      "text/plain": [
       "[1/1000]   0%| [00:00<?]"
      ]
     },
     "metadata": {},
     "output_type": "display_data"
    },
    {
     "name": "stdout",
     "output_type": "stream",
     "text": [
      "2022-11-26 01:21:23,615 - Epoch[46] Complete. Time taken: 00:01:11.086\n"
     ]
    },
    {
     "data": {
      "application/vnd.jupyter.widget-view+json": {
       "model_id": "6e21803c98694da2b44adb5c31e58472",
       "version_major": 2,
       "version_minor": 0
      },
      "text/plain": [
       "[1/1000]   0%| [00:00<?]"
      ]
     },
     "metadata": {},
     "output_type": "display_data"
    },
    {
     "name": "stdout",
     "output_type": "stream",
     "text": [
      "2022-11-26 01:22:34,740 - Epoch[47] Complete. Time taken: 00:01:11.124\n"
     ]
    },
    {
     "data": {
      "application/vnd.jupyter.widget-view+json": {
       "model_id": "42f48de3ab5d4da8ade21ded9c7d64cb",
       "version_major": 2,
       "version_minor": 0
      },
      "text/plain": [
       "[1/1000]   0%| [00:00<?]"
      ]
     },
     "metadata": {},
     "output_type": "display_data"
    },
    {
     "name": "stdout",
     "output_type": "stream",
     "text": [
      "2022-11-26 01:23:45,542 - Epoch[48] Complete. Time taken: 00:01:10.801\n"
     ]
    },
    {
     "data": {
      "application/vnd.jupyter.widget-view+json": {
       "model_id": "77ae5a5fa2d3458492e9c79ff55abbc5",
       "version_major": 2,
       "version_minor": 0
      },
      "text/plain": [
       "[1/1000]   0%| [00:00<?]"
      ]
     },
     "metadata": {},
     "output_type": "display_data"
    },
    {
     "name": "stdout",
     "output_type": "stream",
     "text": [
      "2022-11-26 01:24:56,862 - Epoch[49] Complete. Time taken: 00:01:11.320\n"
     ]
    },
    {
     "data": {
      "application/vnd.jupyter.widget-view+json": {
       "model_id": "fb906210c4f04d42af314f54e59785b3",
       "version_major": 2,
       "version_minor": 0
      },
      "text/plain": [
       "[1/1000]   0%| [00:00<?]"
      ]
     },
     "metadata": {},
     "output_type": "display_data"
    },
    {
     "name": "stdout",
     "output_type": "stream",
     "text": [
      "2022-11-26 01:26:08,171 - Engine run resuming from iteration 0, epoch 49 until 50 epochs\n",
      "2022-11-26 01:26:11,453 - Epoch[50] Metrics -- val_mean_abs_error: 0.0414 \n",
      "2022-11-26 01:26:11,454 - Key metric: val_mean_abs_error best value: 0.0573042631149292 at epoch: 5\n",
      "2022-11-26 01:26:11,454 - Epoch[50] Complete. Time taken: 00:00:03.282\n",
      "2022-11-26 01:26:11,454 - Engine run complete. Time taken: 00:00:03.283\n",
      "2022-11-26 01:26:11,455 - Epoch[50] Complete. Time taken: 00:01:14.593\n"
     ]
    },
    {
     "data": {
      "application/vnd.jupyter.widget-view+json": {
       "model_id": "977c9d1772be48b485d0aeef486248cb",
       "version_major": 2,
       "version_minor": 0
      },
      "text/plain": [
       "[1/1000]   0%| [00:00<?]"
      ]
     },
     "metadata": {},
     "output_type": "display_data"
    },
    {
     "name": "stdout",
     "output_type": "stream",
     "text": [
      "2022-11-26 01:27:22,426 - Epoch[51] Complete. Time taken: 00:01:10.970\n"
     ]
    },
    {
     "data": {
      "application/vnd.jupyter.widget-view+json": {
       "model_id": "8c2369a861804b2d8263eb2cbd3d67fc",
       "version_major": 2,
       "version_minor": 0
      },
      "text/plain": [
       "[1/1000]   0%| [00:00<?]"
      ]
     },
     "metadata": {},
     "output_type": "display_data"
    },
    {
     "name": "stdout",
     "output_type": "stream",
     "text": [
      "2022-11-26 01:28:33,860 - Epoch[52] Complete. Time taken: 00:01:11.434\n"
     ]
    },
    {
     "data": {
      "application/vnd.jupyter.widget-view+json": {
       "model_id": "3db3c83393e64cbd8d0d06551919fb48",
       "version_major": 2,
       "version_minor": 0
      },
      "text/plain": [
       "[1/1000]   0%| [00:00<?]"
      ]
     },
     "metadata": {},
     "output_type": "display_data"
    },
    {
     "name": "stdout",
     "output_type": "stream",
     "text": [
      "2022-11-26 01:29:45,043 - Epoch[53] Complete. Time taken: 00:01:11.183\n"
     ]
    },
    {
     "data": {
      "application/vnd.jupyter.widget-view+json": {
       "model_id": "f27d595670c54bd8b316b877b23dc978",
       "version_major": 2,
       "version_minor": 0
      },
      "text/plain": [
       "[1/1000]   0%| [00:00<?]"
      ]
     },
     "metadata": {},
     "output_type": "display_data"
    },
    {
     "name": "stdout",
     "output_type": "stream",
     "text": [
      "2022-11-26 01:30:56,524 - Epoch[54] Complete. Time taken: 00:01:11.480\n"
     ]
    },
    {
     "data": {
      "application/vnd.jupyter.widget-view+json": {
       "model_id": "28154cb2b4b443bcb40689e55c6ad1c5",
       "version_major": 2,
       "version_minor": 0
      },
      "text/plain": [
       "[1/1000]   0%| [00:00<?]"
      ]
     },
     "metadata": {},
     "output_type": "display_data"
    },
    {
     "name": "stdout",
     "output_type": "stream",
     "text": [
      "2022-11-26 01:32:07,343 - Engine run resuming from iteration 0, epoch 54 until 55 epochs\n",
      "2022-11-26 01:32:10,662 - Epoch[55] Metrics -- val_mean_abs_error: 0.0443 \n",
      "2022-11-26 01:32:10,662 - Key metric: val_mean_abs_error best value: 0.0573042631149292 at epoch: 5\n",
      "2022-11-26 01:32:10,662 - Epoch[55] Complete. Time taken: 00:00:03.318\n",
      "2022-11-26 01:32:10,663 - Engine run complete. Time taken: 00:00:03.319\n",
      "2022-11-26 01:32:10,664 - Epoch[55] Complete. Time taken: 00:01:14.139\n"
     ]
    },
    {
     "data": {
      "application/vnd.jupyter.widget-view+json": {
       "model_id": "327df14f09f74dc7bf810ba96c59fd78",
       "version_major": 2,
       "version_minor": 0
      },
      "text/plain": [
       "[1/1000]   0%| [00:00<?]"
      ]
     },
     "metadata": {},
     "output_type": "display_data"
    },
    {
     "name": "stdout",
     "output_type": "stream",
     "text": [
      "2022-11-26 01:33:21,591 - Epoch[56] Complete. Time taken: 00:01:10.927\n"
     ]
    },
    {
     "data": {
      "application/vnd.jupyter.widget-view+json": {
       "model_id": "9206b11c3b2443bfa1b08f1b11eb5b8f",
       "version_major": 2,
       "version_minor": 0
      },
      "text/plain": [
       "[1/1000]   0%| [00:00<?]"
      ]
     },
     "metadata": {},
     "output_type": "display_data"
    },
    {
     "name": "stdout",
     "output_type": "stream",
     "text": [
      "2022-11-26 01:34:33,068 - Epoch[57] Complete. Time taken: 00:01:11.477\n"
     ]
    },
    {
     "data": {
      "application/vnd.jupyter.widget-view+json": {
       "model_id": "12d89956aed447e3b51ab863f9793aac",
       "version_major": 2,
       "version_minor": 0
      },
      "text/plain": [
       "[1/1000]   0%| [00:00<?]"
      ]
     },
     "metadata": {},
     "output_type": "display_data"
    },
    {
     "name": "stdout",
     "output_type": "stream",
     "text": [
      "2022-11-26 01:35:45,167 - Epoch[58] Complete. Time taken: 00:01:12.098\n"
     ]
    },
    {
     "data": {
      "application/vnd.jupyter.widget-view+json": {
       "model_id": "df756d00ceea4c449345888b42fc5364",
       "version_major": 2,
       "version_minor": 0
      },
      "text/plain": [
       "[1/1000]   0%| [00:00<?]"
      ]
     },
     "metadata": {},
     "output_type": "display_data"
    },
    {
     "name": "stdout",
     "output_type": "stream",
     "text": [
      "2022-11-26 01:36:58,554 - Epoch[59] Complete. Time taken: 00:01:13.387\n"
     ]
    },
    {
     "data": {
      "application/vnd.jupyter.widget-view+json": {
       "model_id": "930639b45dab468d89dda52dfdd24a9b",
       "version_major": 2,
       "version_minor": 0
      },
      "text/plain": [
       "[1/1000]   0%| [00:00<?]"
      ]
     },
     "metadata": {},
     "output_type": "display_data"
    },
    {
     "name": "stdout",
     "output_type": "stream",
     "text": [
      "2022-11-26 01:38:09,436 - Engine run resuming from iteration 0, epoch 59 until 60 epochs\n",
      "2022-11-26 01:38:12,735 - Epoch[60] Metrics -- val_mean_abs_error: 0.0421 \n",
      "2022-11-26 01:38:12,736 - Key metric: val_mean_abs_error best value: 0.0573042631149292 at epoch: 5\n",
      "2022-11-26 01:38:12,736 - Epoch[60] Complete. Time taken: 00:00:03.299\n",
      "2022-11-26 01:38:12,736 - Engine run complete. Time taken: 00:00:03.300\n",
      "2022-11-26 01:38:12,738 - Epoch[60] Complete. Time taken: 00:01:14.183\n"
     ]
    },
    {
     "data": {
      "application/vnd.jupyter.widget-view+json": {
       "model_id": "4d133db4a7cf4c54afa75a234d8f3e14",
       "version_major": 2,
       "version_minor": 0
      },
      "text/plain": [
       "[1/1000]   0%| [00:00<?]"
      ]
     },
     "metadata": {},
     "output_type": "display_data"
    },
    {
     "name": "stdout",
     "output_type": "stream",
     "text": [
      "2022-11-26 01:39:23,324 - Epoch[61] Complete. Time taken: 00:01:10.586\n"
     ]
    },
    {
     "data": {
      "application/vnd.jupyter.widget-view+json": {
       "model_id": "9f45092358dd464a888e683c41373fcd",
       "version_major": 2,
       "version_minor": 0
      },
      "text/plain": [
       "[1/1000]   0%| [00:00<?]"
      ]
     },
     "metadata": {},
     "output_type": "display_data"
    },
    {
     "name": "stdout",
     "output_type": "stream",
     "text": [
      "2022-11-26 01:40:34,426 - Epoch[62] Complete. Time taken: 00:01:11.102\n"
     ]
    },
    {
     "data": {
      "application/vnd.jupyter.widget-view+json": {
       "model_id": "7023c1eef2b3495ea75181333876f8b1",
       "version_major": 2,
       "version_minor": 0
      },
      "text/plain": [
       "[1/1000]   0%| [00:00<?]"
      ]
     },
     "metadata": {},
     "output_type": "display_data"
    },
    {
     "name": "stdout",
     "output_type": "stream",
     "text": [
      "2022-11-26 01:41:45,340 - Epoch[63] Complete. Time taken: 00:01:10.913\n"
     ]
    },
    {
     "data": {
      "application/vnd.jupyter.widget-view+json": {
       "model_id": "62e5f00157d54e9a9361bc73e29dafa1",
       "version_major": 2,
       "version_minor": 0
      },
      "text/plain": [
       "[1/1000]   0%| [00:00<?]"
      ]
     },
     "metadata": {},
     "output_type": "display_data"
    },
    {
     "name": "stdout",
     "output_type": "stream",
     "text": [
      "2022-11-26 01:42:56,288 - Epoch[64] Complete. Time taken: 00:01:10.948\n"
     ]
    },
    {
     "data": {
      "application/vnd.jupyter.widget-view+json": {
       "model_id": "dda8ac7db76c486e8adb5314526732b4",
       "version_major": 2,
       "version_minor": 0
      },
      "text/plain": [
       "[1/1000]   0%| [00:00<?]"
      ]
     },
     "metadata": {},
     "output_type": "display_data"
    },
    {
     "name": "stdout",
     "output_type": "stream",
     "text": [
      "2022-11-26 01:44:07,447 - Engine run resuming from iteration 0, epoch 64 until 65 epochs\n",
      "2022-11-26 01:44:10,838 - Epoch[65] Metrics -- val_mean_abs_error: 0.0397 \n",
      "2022-11-26 01:44:10,838 - Key metric: val_mean_abs_error best value: 0.0573042631149292 at epoch: 5\n",
      "2022-11-26 01:44:10,838 - Epoch[65] Complete. Time taken: 00:00:03.390\n",
      "2022-11-26 01:44:10,839 - Engine run complete. Time taken: 00:00:03.392\n",
      "2022-11-26 01:44:10,840 - Epoch[65] Complete. Time taken: 00:01:14.551\n"
     ]
    },
    {
     "data": {
      "application/vnd.jupyter.widget-view+json": {
       "model_id": "fcc6769dc4434f5488b01101af552164",
       "version_major": 2,
       "version_minor": 0
      },
      "text/plain": [
       "[1/1000]   0%| [00:00<?]"
      ]
     },
     "metadata": {},
     "output_type": "display_data"
    },
    {
     "name": "stdout",
     "output_type": "stream",
     "text": [
      "2022-11-26 01:45:22,015 - Epoch[66] Complete. Time taken: 00:01:11.174\n"
     ]
    },
    {
     "data": {
      "application/vnd.jupyter.widget-view+json": {
       "model_id": "577609d899d94589ab0ad71913f3318e",
       "version_major": 2,
       "version_minor": 0
      },
      "text/plain": [
       "[1/1000]   0%| [00:00<?]"
      ]
     },
     "metadata": {},
     "output_type": "display_data"
    },
    {
     "name": "stdout",
     "output_type": "stream",
     "text": [
      "2022-11-26 01:46:33,106 - Epoch[67] Complete. Time taken: 00:01:11.091\n"
     ]
    },
    {
     "data": {
      "application/vnd.jupyter.widget-view+json": {
       "model_id": "313e54710c5c40fca9c64544aa181fb7",
       "version_major": 2,
       "version_minor": 0
      },
      "text/plain": [
       "[1/1000]   0%| [00:00<?]"
      ]
     },
     "metadata": {},
     "output_type": "display_data"
    },
    {
     "name": "stdout",
     "output_type": "stream",
     "text": [
      "2022-11-26 01:47:44,752 - Epoch[68] Complete. Time taken: 00:01:11.645\n"
     ]
    },
    {
     "data": {
      "application/vnd.jupyter.widget-view+json": {
       "model_id": "aa89eebca97148839dfdaa638d9a1d38",
       "version_major": 2,
       "version_minor": 0
      },
      "text/plain": [
       "[1/1000]   0%| [00:00<?]"
      ]
     },
     "metadata": {},
     "output_type": "display_data"
    },
    {
     "name": "stdout",
     "output_type": "stream",
     "text": [
      "2022-11-26 01:48:55,902 - Epoch[69] Complete. Time taken: 00:01:11.150\n"
     ]
    },
    {
     "data": {
      "application/vnd.jupyter.widget-view+json": {
       "model_id": "bd5d8822d7274262b6507d4e9de08911",
       "version_major": 2,
       "version_minor": 0
      },
      "text/plain": [
       "[1/1000]   0%| [00:00<?]"
      ]
     },
     "metadata": {},
     "output_type": "display_data"
    },
    {
     "name": "stdout",
     "output_type": "stream",
     "text": [
      "2022-11-26 01:50:06,985 - Engine run resuming from iteration 0, epoch 69 until 70 epochs\n",
      "2022-11-26 01:50:10,242 - Epoch[70] Metrics -- val_mean_abs_error: 0.0420 \n",
      "2022-11-26 01:50:10,242 - Key metric: val_mean_abs_error best value: 0.0573042631149292 at epoch: 5\n",
      "2022-11-26 01:50:10,243 - Epoch[70] Complete. Time taken: 00:00:03.256\n",
      "2022-11-26 01:50:10,243 - Engine run complete. Time taken: 00:00:03.258\n",
      "2022-11-26 01:50:10,244 - Epoch[70] Complete. Time taken: 00:01:14.342\n"
     ]
    },
    {
     "data": {
      "application/vnd.jupyter.widget-view+json": {
       "model_id": "632dcadb1d77441dab4cb525c39d1d65",
       "version_major": 2,
       "version_minor": 0
      },
      "text/plain": [
       "[1/1000]   0%| [00:00<?]"
      ]
     },
     "metadata": {},
     "output_type": "display_data"
    },
    {
     "name": "stdout",
     "output_type": "stream",
     "text": [
      "2022-11-26 01:51:21,570 - Epoch[71] Complete. Time taken: 00:01:11.325\n"
     ]
    },
    {
     "data": {
      "application/vnd.jupyter.widget-view+json": {
       "model_id": "85ce1f5a88c5423294262b29987de20b",
       "version_major": 2,
       "version_minor": 0
      },
      "text/plain": [
       "[1/1000]   0%| [00:00<?]"
      ]
     },
     "metadata": {},
     "output_type": "display_data"
    },
    {
     "name": "stdout",
     "output_type": "stream",
     "text": [
      "2022-11-26 01:52:32,568 - Epoch[72] Complete. Time taken: 00:01:10.997\n"
     ]
    },
    {
     "data": {
      "application/vnd.jupyter.widget-view+json": {
       "model_id": "1c378d67e8f04301961a62158858b7a4",
       "version_major": 2,
       "version_minor": 0
      },
      "text/plain": [
       "[1/1000]   0%| [00:00<?]"
      ]
     },
     "metadata": {},
     "output_type": "display_data"
    },
    {
     "name": "stdout",
     "output_type": "stream",
     "text": [
      "2022-11-26 01:53:43,276 - Epoch[73] Complete. Time taken: 00:01:10.707\n"
     ]
    },
    {
     "data": {
      "application/vnd.jupyter.widget-view+json": {
       "model_id": "451e291d031d49d3b3b0100434ed0c59",
       "version_major": 2,
       "version_minor": 0
      },
      "text/plain": [
       "[1/1000]   0%| [00:00<?]"
      ]
     },
     "metadata": {},
     "output_type": "display_data"
    },
    {
     "name": "stdout",
     "output_type": "stream",
     "text": [
      "2022-11-26 01:54:54,425 - Epoch[74] Complete. Time taken: 00:01:11.148\n"
     ]
    },
    {
     "data": {
      "application/vnd.jupyter.widget-view+json": {
       "model_id": "12d11dfbe7844ba898a3949173f724f7",
       "version_major": 2,
       "version_minor": 0
      },
      "text/plain": [
       "[1/1000]   0%| [00:00<?]"
      ]
     },
     "metadata": {},
     "output_type": "display_data"
    },
    {
     "name": "stdout",
     "output_type": "stream",
     "text": [
      "2022-11-26 01:56:05,890 - Engine run resuming from iteration 0, epoch 74 until 75 epochs\n",
      "2022-11-26 01:56:09,271 - Epoch[75] Metrics -- val_mean_abs_error: 0.0420 \n",
      "2022-11-26 01:56:09,271 - Key metric: val_mean_abs_error best value: 0.0573042631149292 at epoch: 5\n",
      "2022-11-26 01:56:09,272 - Epoch[75] Complete. Time taken: 00:00:03.380\n",
      "2022-11-26 01:56:09,272 - Engine run complete. Time taken: 00:00:03.382\n",
      "2022-11-26 01:56:09,273 - Epoch[75] Complete. Time taken: 00:01:14.848\n",
      "2022-11-26 01:56:09,274 - Engine run complete. Time taken: 01:29:45.333\n"
     ]
    }
   ],
   "source": [
    "n_epochs = 75\n",
    "val_interval = 5\n",
    "\n",
    "val_handlers = [StatsHandler(name=\"train_log\", output_transform=lambda x: None)]\n",
    "\n",
    "evaluator = SupervisedEvaluator(\n",
    "    device=device,\n",
    "    val_data_loader=val_loader,\n",
    "    network=model,\n",
    "    inferer=inferer,\n",
    "    prepare_batch=DiffusionPrepareBatch(),\n",
    "    key_val_metric={\"val_mean_abs_error\": MeanAbsoluteError(output_transform=from_engine([\"pred\", \"label\"]))},\n",
    "    val_handlers=val_handlers,\n",
    ")\n",
    "\n",
    "\n",
    "train_handlers = [\n",
    "    ValidationHandler(validator=evaluator, interval=val_interval, epoch_level=True),\n",
    "    # StatsHandler(name=\"train_log\", tag_name=\"train_loss\", output_transform=from_engine([\"loss\"], first=True)),\n",
    "]\n",
    "\n",
    "trainer = SupervisedTrainer(\n",
    "    device=device,\n",
    "    max_epochs=n_epochs,\n",
    "    train_data_loader=train_loader,\n",
    "    network=model,\n",
    "    optimizer=optimizer,\n",
    "    loss_function=torch.nn.MSELoss(),\n",
    "    inferer=inferer,\n",
    "    prepare_batch=DiffusionPrepareBatch(),\n",
    "    key_train_metric={\"train_acc\": MeanSquaredError(output_transform=from_engine([\"pred\", \"label\"]))},\n",
    "    train_handlers=train_handlers,\n",
    ")\n",
    "ProgressBar(\n",
    "    persist=True,\n",
    "    bar_format=\"[{n_fmt}/{total_fmt}] {percentage:3.0f}%|{postfix} [{elapsed}<{remaining}]\",\n",
    ").attach(\n",
    "    trainer,\n",
    "    output_transform=from_engine([\"loss\"]),\n",
    ")\n",
    "\n",
    "\n",
    "trainer.run()"
   ]
  },
  {
   "cell_type": "markdown",
   "id": "2d61cffe",
   "metadata": {},
   "source": [
    "### Plotting sampling process along DDPM's Markov chain"
   ]
  },
  {
   "cell_type": "code",
   "execution_count": 12,
   "id": "1427e5d4",
   "metadata": {
    "jupyter": {
     "outputs_hidden": false
    }
   },
   "outputs": [
    {
     "name": "stderr",
     "output_type": "stream",
     "text": [
      "100%|███████████████████████████████████████████████████████████████████████████████████████████████████████████████████████████████████████████████████████████████████████████████████████| 1000/1000 [00:14<00:00, 68.58it/s]\n"
     ]
    },
    {
     "data": {
      "image/png": "[encoded data removed]",
      "text/plain": [
       "<Figure size 640x480 with 1 Axes>"
      ]
     },
     "metadata": {},
     "output_type": "display_data"
    }
   ],
   "source": [
    "model.eval()\n",
    "noise = torch.randn((1, 1, 64, 64))\n",
    "noise = noise.to(device)\n",
    "scheduler.set_timesteps(num_inference_steps=1000)\n",
    "image, intermediates = inferer.sample(\n",
    "    input_noise=noise, diffusion_model=model, scheduler=scheduler, save_intermediates=True, intermediate_steps=100\n",
    ")\n",
    "\n",
    "chain = torch.cat(intermediates, dim=-1)\n",
    "\n",
    "plt.style.use(\"default\")\n",
    "plt.imshow(chain[0, 0].cpu(), vmin=0, vmax=1, cmap=\"gray\")\n",
    "plt.tight_layout()\n",
    "plt.axis(\"off\")\n",
    "plt.show()"
   ]
  },
  {
   "cell_type": "markdown",
   "id": "1c45cead",
   "metadata": {},
   "source": [
    "### Cleanup data directory\n",
    "\n",
    "Remove directory if a temporary was used."
   ]
  },
  {
   "cell_type": "code",
   "execution_count": 13,
   "id": "bab2d719",
   "metadata": {
    "tags": []
   },
   "outputs": [],
   "source": [
    "if directory is None:\n",
    "    shutil.rmtree(root_dir)"
   ]
  }
 ],
 "metadata": {
  "jupytext": {
   "formats": "ipynb,py:percent"
  },
  "kernelspec": {
   "display_name": "Python 3",
   "language": "python",
   "name": "python3"
  },
  "language_info": {
   "codemirror_mode": {
    "name": "ipython",
    "version": 3
   },
   "file_extension": ".py",
   "mimetype": "text/x-python",
   "name": "python",
   "nbconvert_exporter": "python",
   "pygments_lexer": "ipython3",
   "version": "3.8.12"
  }
 },
 "nbformat": 4,
 "nbformat_minor": 5
}
