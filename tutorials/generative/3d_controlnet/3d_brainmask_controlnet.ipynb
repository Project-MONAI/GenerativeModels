{
 "cells": [
  {
   "cell_type": "markdown",
   "metadata": {},
   "source": [
    "## Using ControlNet for brain mask-conditioned generation"
   ]
  },
  {
   "cell_type": "markdown",
   "metadata": {},
   "source": [
    "### 0. Imports and arguments"
   ]
  },
  {
   "cell_type": "code",
   "execution_count": 1,
   "metadata": {},
   "outputs": [],
   "source": [
    "# Copyright (c) MONAI Consortium\n",
    "# Licensed under the Apache License, Version 2.0 (the \"License\");\n",
    "# you may not use this file except in compliance with the License.\n",
    "# You may obtain a copy of the License at\n",
    "#     http://www.apache.org/licenses/LICENSE-2.0\n",
    "# Unless required by applicable law or agreed to in writing, software\n",
    "# distributed under the License is distributed on an \"AS IS\" BASIS,\n",
    "# WITHOUT WARRANTIES OR CONDITIONS OF ANY KIND, either express or implied.\n",
    "# See the License for the specific language governing permissions and\n",
    "# limitations under the License."
   ]
  },
  {
   "cell_type": "code",
   "execution_count": 2,
   "metadata": {},
   "outputs": [],
   "source": [
    "!python -c \"import monai\" || pip install -q \"monai-weekly[tqdm]\"\n",
    "!python -c \"import matplotlib\" || pip install -q matplotlib\n",
    "%matplotlib inline"
   ]
  },
  {
   "cell_type": "code",
   "execution_count": 3,
   "metadata": {},
   "outputs": [],
   "source": [
    "import numpy as np\n",
    "import os\n",
    "import tempfile\n",
    "import nibabel as nib\n",
    "import monai\n",
    "from monai.utils import first, set_determinism\n",
    "from generative.networks.nets.controlnet import ControlNet\n",
    "from monai.bundle.config_parser import ConfigParser\n",
    "import torch\n",
    "from tqdm import tqdm\n",
    "from generative.networks.schedulers import DDPMScheduler, DDIMScheduler\n",
    "from copy import deepcopy\n",
    "import gdown\n",
    "import zipfile\n",
    "import yaml\n",
    "from pathlib import Path"
   ]
  },
  {
   "cell_type": "code",
   "execution_count": 4,
   "metadata": {},
   "outputs": [],
   "source": [
    "set_determinism(35) "
   ]
  },
  {
   "cell_type": "code",
   "execution_count": 5,
   "metadata": {},
   "outputs": [],
   "source": [
    " # Arguments\n",
    "val_perc = 0.2\n",
    "batch_size = 1\n",
    "num_workers = 2\n",
    "input_shape = [160, 224, 160]\n",
    "path_to_bundle = \"\"\n",
    "lr = 0.00002\n",
    "validation_epochs = 5\n",
    "saving_epochs = 1\n",
    "scale_factor = 1.0\n",
    "num_epochs = 100"
   ]
  },
  {
   "cell_type": "markdown",
   "metadata": {},
   "source": [
    "### 1. Setting up the temporary directory and the dataloading"
   ]
  },
  {
   "cell_type": "code",
   "execution_count": 6,
   "metadata": {},
   "outputs": [
    {
     "name": "stdout",
     "output_type": "stream",
     "text": [
      "Temporary directory used: /tmp/tmpzhm3trdk \n"
     ]
    }
   ],
   "source": [
    "directory = os.environ.get(\"MONAI_DATA_DIRECTORY\")\n",
    "root_dir = tempfile.mkdtemp() if directory is None else directory\n",
    "root_dir = Path(root_dir)\n",
    "print(\"Temporary directory used: %s \" %root_dir)"
   ]
  },
  {
   "cell_type": "code",
   "execution_count": 7,
   "metadata": {
    "tags": []
   },
   "outputs": [
    {
     "name": "stderr",
     "output_type": "stream",
     "text": [
      "Downloading...\n",
      "From: https://drive.google.com/uc?export=download&id=1XFXBsgVuYV3d6LmzNRsxrAr_UKb7v6WT\n",
      "To: /tmp/tmpzhm3trdk/data.zip\n",
      "100%|██████████████████████████████████████████████████████████████████████████████████████████████████████████████████████████████████████████| 707M/707M [00:10<00:00, 64.3MB/s]\n"
     ]
    },
    {
     "data": {
      "text/plain": [
       "'/tmp/tmpzhm3trdk/data.zip'"
      ]
     },
     "execution_count": 7,
     "metadata": {},
     "output_type": "execute_result"
    }
   ],
   "source": [
    "gdown.download(\"https://drive.google.com/uc?export=download&id=1XFXBsgVuYV3d6LmzNRsxrAr_UKb7v6WT\", \n",
    "               str(root_dir / 'data.zip'))"
   ]
  },
  {
   "cell_type": "code",
   "execution_count": 9,
   "metadata": {},
   "outputs": [],
   "source": [
    "zip_obj = zipfile.ZipFile(os.path.join(root_dir, 'data.zip'), 'r')\n",
    "zip_obj.extractall(root_dir)\n",
    "path_to_image_files = root_dir / 'BRAIN_T1_UKB_LDM' / 'images'\n",
    "path_to_label_files = root_dir / 'BRAIN_T1_UKB_LDM' / 'labels'"
   ]
  },
  {
   "cell_type": "markdown",
   "metadata": {},
   "source": [
    "### 2. Auxiliary functions"
   ]
  },
  {
   "cell_type": "code",
   "execution_count": 9,
   "metadata": {},
   "outputs": [],
   "source": [
    "# We define some functions that we will use later."
   ]
  },
  {
   "cell_type": "code",
   "execution_count": 10,
   "metadata": {},
   "outputs": [],
   "source": [
    "def get_loader(path_to_image_files, path_to_label_files, input_shape = [160, 224, 160], val_perc = 0.20, batch_size = 8,\n",
    "               num_workers = 2):\n",
    "    '''\n",
    "    Gets train and validation loaders\n",
    "    Args:\n",
    "        path_to_image_files: path to the images\n",
    "        path_to_label_files: path to the brain labels\n",
    "        input_shape: 3D spatial shape (list)\n",
    "        val_perc: percentage of the images that go to the validation loader\n",
    "        batch_size: \n",
    "        num_workers: \n",
    "    '''\n",
    "\n",
    "    all_images = os.listdir(path_to_image_files)\n",
    "    val_files = [{'image': os.path.join(path_to_image_files, f),\n",
    "                  'label': os.path.join(path_to_label_files, f),\n",
    "                  'gender': float(f.strip(\".nii.gz\").split(\"_\")[-4]),\n",
    "                  'age': float(f.strip(\".nii.gz\").split(\"_\")[-3]),\n",
    "                  'ventricular_vol': float(f.strip(\".nii.gz\").split(\"_\")[-2]),\n",
    "                  'brain_vol': float(f.strip(\".nii.gz\").split(\"_\")[-1]),} for f in all_images[:int(val_perc * len(all_images))]]\n",
    "    train_files = [{'image': os.path.join(path_to_image_files, f),\n",
    "                    'label': os.path.join(path_to_label_files, f),\n",
    "                    'gender': float(f.strip(\".nii.gz\").split(\"_\")[-4]),\n",
    "                    'age': float(f.strip(\".nii.gz\").split(\"_\")[-3]),\n",
    "                    'ventricular_vol': float(f.strip(\".nii.gz\").split(\"_\")[-2]),\n",
    "                    'brain_vol': float(f.strip(\".nii.gz\").split(\"_\")[-1]),\n",
    "                    } for f in all_images[int(val_perc * len(all_images)):]]\n",
    "\n",
    "    train_transforms = monai.transforms.Compose(\n",
    "        [monai.transforms.LoadImaged(keys = ['image', 'label']),\n",
    "         monai.transforms.EnsureChannelFirstd(keys = ['image', 'label']),\n",
    "         monai.transforms.CenterSpatialCropd(keys = ['image', 'label'], roi_size=input_shape),\n",
    "         monai.transforms.SpatialPadd(keys=['image', 'label'], spatial_size=input_shape,),\n",
    "         monai.transforms.EnsureTyped(keys=[\"image\", \"label\"]),\n",
    "         monai.transforms.Orientationd(keys=[\"image\", 'label'], axcodes=\"RAS\"),\n",
    "         monai.transforms.ScaleIntensityRangePercentilesd(keys=\"image\", lower=0, upper=99.5, b_min=0, b_max=1),\n",
    "         monai.transforms.ToTensord(keys=['image', 'label', 'gender', 'age', 'ventricular_vol', 'brain_vol']),\n",
    "                                    ]\n",
    "    )\n",
    "    #monai.transforms.MaskIntensityd(keys=['image'], mask_key='label'),\n",
    "    train_dataset = monai.data.Dataset(data=train_files, transform = train_transforms)\n",
    "    val_dataset = monai.data.Dataset(data=val_files, transform=train_transforms)\n",
    "    train_loader = monai.data.DataLoader(dataset=train_dataset, batch_size=batch_size, shuffle=True,\n",
    "                                         num_workers=num_workers)\n",
    "    val_loader = monai.data.DataLoader(dataset=val_dataset, batch_size=batch_size, shuffle=True,\n",
    "                                       num_workers=num_workers)\n",
    "    return train_loader, val_loader"
   ]
  },
  {
   "cell_type": "code",
   "execution_count": 11,
   "metadata": {},
   "outputs": [],
   "source": [
    "def load_model_from_bundle(bundle_path):\n",
    "    '''\n",
    "    From the bundle path of the model zoo, loads the model.\n",
    "    Args:\n",
    "        bundle_path: path to the directory of the model zoo containing the model and the configuration yaml or json files.\n",
    "    Returns:\n",
    "    '''\n",
    "    # If the models aren't downloaded, we manually download them from the large_files link. \n",
    "    with open(\"%s/large_files.yml\" %bundle_path, \"r\") as stream:\n",
    "        large_files_paths = yaml.safe_load(stream)\n",
    "    if not os.path.isfile(os.path.join(bundle_path, 'models', 'autoencoder.pth')):\n",
    "        gdown.download(large_files_paths['large_files'][0]['url'], \n",
    "                       os.path.join(bundle_path, ['large_files'][0]['path']))\n",
    "    if not os.path.isfile(os.path.join(bundle_path, 'models', 'diffusion_model.pth')):\n",
    "        gdown.download(large_files_paths['large_files'][1]['url'], \n",
    "                       os.path.join(bundle_path, ['large_files'][1]['path']))\n",
    "    # We extract the configs for the bundle directory and load it into the models. \n",
    "    cp = ConfigParser()\n",
    "    bundle_root = bundle_path\n",
    "    cp.read_meta(f\"{bundle_root}/configs/metadata.json\")\n",
    "    cp.read_config(f\"{bundle_root}/configs/inference.json\")\n",
    "    cp[\"bundle_root\"] = bundle_root\n",
    "    autoencoder = cp.get_parsed_content(\"autoencoder_def\")\n",
    "    autoencoder.load_state_dict(torch.load(os.path.join(bundle_path, 'models', 'autoencoder.pth')))\n",
    "    diffusion = cp.get_parsed_content(\"diffusion_def\")\n",
    "    diffusion.load_state_dict(torch.load(os.path.join(bundle_path, 'models', 'diffusion_model.pth')))\n",
    "    return autoencoder, diffusion"
   ]
  },
  {
   "cell_type": "code",
   "execution_count": 12,
   "metadata": {},
   "outputs": [],
   "source": [
    "def create_mask(data, input_shape):\n",
    "    '''\n",
    "    From the conditioning gender, age, ventricular volume and brain volume values,\n",
    "    creates a mask of the same spatial size as the latents to be concatenated to the\n",
    "    latent representation during training of the DM.\n",
    "    Args:\n",
    "        data: data dictionary from the data loader\n",
    "        input_shape: 3D spatial shape\n",
    "    Returns:\n",
    "    '''\n",
    "    input_mask = torch.ones([data['image'].shape[0]] + [4] + input_shape[2:])\n",
    "    for b in range(input_mask.shape[0]):\n",
    "        input_mask[b, 0, :] *= data['gender'][b]\n",
    "        input_mask[b, 1, :] *= data['age'][b]\n",
    "        input_mask[b, 2, :] *= data['ventricular_vol'][b]\n",
    "        input_mask[b, 3, :] *= data['brain_vol'][b]\n",
    "    return input_mask"
   ]
  },
  {
   "cell_type": "markdown",
   "metadata": {},
   "source": [
    "### 3. Get the original LDM from the MONAI Model Zoo and initialise ControlNet"
   ]
  },
  {
   "cell_type": "markdown",
   "metadata": {},
   "source": [
    "ControlNet is based on the weights of the LDM we want to control. In this case we download the brain T1 MR model from the model-zoo (https://github.com/Project-MONAI/GenerativeModels/tree/main/model-zoo/models/brain_image_synthesis_latent_diffusion_model). We'll need to freeze the weights of this model as we do not want to train it. We'll copy the weights into the ControlNet. "
   ]
  },
  {
   "cell_type": "code",
   "execution_count": 13,
   "metadata": {},
   "outputs": [],
   "source": [
    "device = \"cuda\" if torch.cuda.is_available() else \"cpu\"\n",
    "path_to_bundle = \"../../../model-zoo/models/brain_image_synthesis_latent_diffusion_model\"\n",
    "autoencoder = os.path.join(path_to_bundle, \"models\", \"autoencoder.pth\")\n",
    "ldm = os.path.join(path_to_bundle, \"models\", \"diffusion_model.pth\")\n",
    "# If the models aren't there we download them\n",
    "\n",
    "# Create checkpoint\n",
    "sample_dir = root_dir / 'samples_dir'\n",
    "sample_dir.mkdir(exist_ok=True)\n",
    "# Load diffusion model\n",
    "autoencoder, diffusion = load_model_from_bundle(path_to_bundle)\n",
    "# Create control net\n",
    "controlnet = ControlNet(spatial_dims=3, in_channels=7,\n",
    "                        num_res_blocks=diffusion.num_res_blocks,\n",
    "                        num_channels=diffusion.block_out_channels, with_conditioning=False,\n",
    "                        attention_levels=diffusion.attention_levels,\n",
    "                        )\n",
    "# Copy weights from the DM to the controlnet\n",
    "controlnet.load_state_dict(diffusion.state_dict(), strict = False)\n",
    "controlnet = controlnet.to(device)\n",
    "# Now, we freeze the parameters of the diffusion model. \n",
    "for p in autoencoder.parameters():\n",
    "    p.requires_grad = False # Freeze weights\n",
    "for p in diffusion.parameters():\n",
    "    p.requires_grad = False # Freeze weights\n",
    "autoencoder = autoencoder.to(device)\n",
    "diffusion = diffusion.to(device)"
   ]
  },
  {
   "cell_type": "markdown",
   "metadata": {},
   "source": [
    "### 4. Create the objects for training"
   ]
  },
  {
   "cell_type": "code",
   "execution_count": 14,
   "metadata": {},
   "outputs": [],
   "source": [
    "# Training and validation data loaders\n",
    "train_loader, val_loader = get_loader(path_to_image_files, path_to_label_files, input_shape,\n",
    "                                      val_perc, batch_size, num_workers)\n",
    "# DDPM scheduler\n",
    "scheduler = DDPMScheduler(num_train_timesteps=1000,\n",
    "                               beta_schedule = 'scaled_linear',\n",
    "                               beta_start=0.0015,\n",
    "                               beta_end= 0.0205,\n",
    "                               clip_sample=False,)\n",
    "# Optimizer\n",
    "optimizer = torch.optim.Adam(params = controlnet.parameters(), lr = lr, betas = (0.9, 0.99))"
   ]
  },
  {
   "cell_type": "markdown",
   "metadata": {},
   "source": [
    "## Sanity check: models work as expected before any training done"
   ]
  },
  {
   "cell_type": "code",
   "execution_count": 18,
   "metadata": {},
   "outputs": [
    {
     "name": "stderr",
     "output_type": "stream",
     "text": [
      "100%|█████████████████████████████████████████████████████████████████████████████████████████████████████████████████████████████████████████████| 50/50 [00:07<00:00,  7.00it/s]\n"
     ]
    },
    {
     "data": {
      "text/plain": [
       "<matplotlib.image.AxesImage at 0x7f5aec6f13a0>"
      ]
     },
     "execution_count": 18,
     "metadata": {},
     "output_type": "execute_result"
    },
    {
     "data": {
      "image/png": "[encoded data removed]",
      "text/plain": [
       "<Figure size 640x480 with 1 Axes>"
      ]
     },
     "metadata": {},
     "output_type": "display_data"
    }
   ],
   "source": [
    "# sanity check the loaded models - do they produce sensible results?\n",
    "from torch.cuda.amp import autocast\n",
    "import matplotlib.pyplot as plt\n",
    "\n",
    "\n",
    "conditioning = torch.tensor([[0.0, 0.1, 0.2, 0.4]]).to(device).unsqueeze(1)\n",
    "input_noise = torch.randn((1, 3, 20, 28, 20)).to(device)\n",
    "# use ddim for faster sampling\n",
    "scheduler_ddim = DDIMScheduler(num_train_timesteps=1000,\n",
    "                               beta_schedule = 'scaled_linear',\n",
    "                               beta_start=0.0015,\n",
    "                               beta_end= 0.0205,\n",
    "                               clip_sample=False,)\n",
    "scheduler_ddim.set_timesteps(50)\n",
    "progress_bar = tqdm(scheduler_ddim.timesteps)\n",
    "\n",
    "# here we just check the trained diffusion model\n",
    "image = input_noise\n",
    "cond_concat = conditioning.squeeze(1).unsqueeze(-1).unsqueeze(-1).unsqueeze(-1)\n",
    "cond_concat = cond_concat.expand(list(cond_concat.shape[0:2]) + list(input_noise.shape[2:]))\n",
    "for t in progress_bar:\n",
    "    with torch.no_grad():\n",
    "        model_output = diffusion(\n",
    "            torch.cat((image, cond_concat), dim=1),\n",
    "            timesteps=torch.Tensor((t,)).to(input_noise.device).long(),\n",
    "            context=conditioning,\n",
    "        )\n",
    "        image, _ = scheduler_ddim.step(model_output, t, image)\n",
    "with torch.no_grad():\n",
    "    with autocast():\n",
    "        sample = autoencoder.decode_stage_2_outputs(image)\n",
    "\n",
    "plt.imshow(sample[0,0,:,:,90].cpu(), cmap='gray')"
   ]
  },
  {
   "cell_type": "code",
   "execution_count": 19,
   "metadata": {},
   "outputs": [
    {
     "name": "stderr",
     "output_type": "stream",
     "text": [
      "100%|█████████████████████████████████████████████████████████████████████████████████████████████████████████████████████████████████████████████| 50/50 [00:10<00:00,  4.55it/s]\n"
     ]
    },
    {
     "data": {
      "text/plain": [
       "<matplotlib.image.AxesImage at 0x7f5aec5ad250>"
      ]
     },
     "execution_count": 19,
     "metadata": {},
     "output_type": "execute_result"
    },
    {
     "data": {
      "image/png": "[encoded data removed]",
      "text/plain": [
       "<Figure size 640x480 with 1 Axes>"
      ]
     },
     "metadata": {},
     "output_type": "display_data"
    }
   ],
   "source": [
    "# now we check the trained diffusion model with controlnet outputs - before controlnet is trained, samples should be unchanged\n",
    "batch = train_loader.dataset[0]\n",
    "image, label = batch['image'], batch['label']\n",
    "\n",
    "image = input_noise\n",
    "cond_concat = conditioning.squeeze(1).unsqueeze(-1).unsqueeze(-1).unsqueeze(-1)\n",
    "cond_concat = cond_concat.expand(list(cond_concat.shape[0:2]) + list(input_noise.shape[2:]))\n",
    "\n",
    "progress_bar = tqdm(scheduler_ddim.timesteps)\n",
    "for t in progress_bar:\n",
    "    with torch.no_grad():\n",
    "        down_block_res_samples, mid_block_res_sample = controlnet(\n",
    "            torch.cat((image, cond_concat), dim=1),\n",
    "            timesteps=torch.Tensor((t,)).to(input_noise.device).long(),\n",
    "            controlnet_cond = label.to(device),\n",
    "            context = None,\n",
    "        )\n",
    "        model_output = diffusion(\n",
    "            torch.cat((image, cond_concat), dim=1),\n",
    "            timesteps=torch.Tensor((t,)).to(input_noise.device).long(),\n",
    "            context=conditioning,\n",
    "            down_block_additional_residuals = down_block_res_samples,\n",
    "            mid_block_additional_residual = mid_block_res_sample\n",
    "        )\n",
    "        image, _ = scheduler_ddim.step(model_output, t, image)\n",
    "with torch.no_grad():\n",
    "    with autocast():\n",
    "        sample2 = autoencoder.decode_stage_2_outputs(image)\n",
    "\n",
    "plt.imshow(sample2[0,0,:,:,90].cpu(), cmap='gray')"
   ]
  },
  {
   "cell_type": "markdown",
   "metadata": {},
   "source": [
    "### 5. Training / validation loop"
   ]
  },
  {
   "cell_type": "code",
   "execution_count": 27,
   "metadata": {},
   "outputs": [
    {
     "name": "stderr",
     "output_type": "stream",
     "text": [
      "Epoch 0: 100%|██████████████████████████████████████████████████| 121/121 [03:36<00:00,  1.79s/it, loss=0.206]\n",
      "sampling...: 100%|████████████████████████████████████████████████████████| 1000/1000 [03:44<00:00,  4.45it/s]\n"
     ]
    },
    {
     "name": "stdout",
     "output_type": "stream",
     "text": [
      "Validation loss epoch 0: 0.216\n"
     ]
    },
    {
     "name": "stderr",
     "output_type": "stream",
     "text": [
      "Epoch 1: 100%|██████████████████████████████████████████████████| 121/121 [03:38<00:00,  1.81s/it, loss=0.196]\n",
      "sampling...: 100%|████████████████████████████████████████████████████████| 1000/1000 [03:43<00:00,  4.48it/s]\n"
     ]
    },
    {
     "name": "stdout",
     "output_type": "stream",
     "text": [
      "Validation loss epoch 1: 0.179\n"
     ]
    },
    {
     "name": "stderr",
     "output_type": "stream",
     "text": [
      "Epoch 2: 100%|████████████████████████████████████████████████████| 121/121 [03:38<00:00,  1.80s/it, loss=0.2]\n",
      "sampling...: 100%|████████████████████████████████████████████████████████| 1000/1000 [03:43<00:00,  4.48it/s]\n"
     ]
    },
    {
     "name": "stdout",
     "output_type": "stream",
     "text": [
      "Validation loss epoch 2: 0.192\n"
     ]
    },
    {
     "name": "stderr",
     "output_type": "stream",
     "text": [
      "Epoch 3: 100%|██████████████████████████████████████████████████| 121/121 [03:37<00:00,  1.80s/it, loss=0.191]\n",
      "sampling...: 100%|████████████████████████████████████████████████████████| 1000/1000 [03:43<00:00,  4.48it/s]\n"
     ]
    },
    {
     "name": "stdout",
     "output_type": "stream",
     "text": [
      "Validation loss epoch 3: 0.186\n"
     ]
    },
    {
     "name": "stderr",
     "output_type": "stream",
     "text": [
      "Epoch 4: 100%|██████████████████████████████████████████████████| 121/121 [03:38<00:00,  1.80s/it, loss=0.181]\n",
      "sampling...: 100%|████████████████████████████████████████████████████████| 1000/1000 [03:44<00:00,  4.46it/s]\n"
     ]
    },
    {
     "name": "stdout",
     "output_type": "stream",
     "text": [
      "Validation loss epoch 4: 0.281\n"
     ]
    },
    {
     "name": "stderr",
     "output_type": "stream",
     "text": [
      "Epoch 5: 100%|███████████████████████████████████████████████████| 121/121 [03:38<00:00,  1.81s/it, loss=0.22]\n",
      "sampling...: 100%|████████████████████████████████████████████████████████| 1000/1000 [03:43<00:00,  4.46it/s]\n"
     ]
    },
    {
     "name": "stdout",
     "output_type": "stream",
     "text": [
      "Validation loss epoch 5: 0.247\n"
     ]
    },
    {
     "name": "stderr",
     "output_type": "stream",
     "text": [
      "Epoch 6: 100%|██████████████████████████████████████████████████| 121/121 [03:38<00:00,  1.80s/it, loss=0.198]\n",
      "sampling...: 100%|████████████████████████████████████████████████████████| 1000/1000 [03:43<00:00,  4.47it/s]\n"
     ]
    },
    {
     "name": "stdout",
     "output_type": "stream",
     "text": [
      "Validation loss epoch 6: 0.167\n"
     ]
    },
    {
     "name": "stderr",
     "output_type": "stream",
     "text": [
      "Epoch 7: 100%|██████████████████████████████████████████████████| 121/121 [03:38<00:00,  1.80s/it, loss=0.189]\n",
      "sampling...: 100%|████████████████████████████████████████████████████████| 1000/1000 [03:43<00:00,  4.47it/s]\n"
     ]
    },
    {
     "name": "stdout",
     "output_type": "stream",
     "text": [
      "Validation loss epoch 7: 0.199\n"
     ]
    },
    {
     "name": "stderr",
     "output_type": "stream",
     "text": [
      "Epoch 8: 100%|██████████████████████████████████████████████████| 121/121 [03:38<00:00,  1.80s/it, loss=0.228]\n",
      "sampling...: 100%|████████████████████████████████████████████████████████| 1000/1000 [03:43<00:00,  4.47it/s]\n"
     ]
    },
    {
     "name": "stdout",
     "output_type": "stream",
     "text": [
      "Validation loss epoch 8: 0.239\n"
     ]
    },
    {
     "name": "stderr",
     "output_type": "stream",
     "text": [
      "Epoch 9: 100%|███████████████████████████████████████████████████| 121/121 [03:38<00:00,  1.80s/it, loss=0.17]\n",
      "sampling...: 100%|████████████████████████████████████████████████████████| 1000/1000 [03:43<00:00,  4.47it/s]\n"
     ]
    },
    {
     "name": "stdout",
     "output_type": "stream",
     "text": [
      "Validation loss epoch 9: 0.185\n"
     ]
    },
    {
     "name": "stderr",
     "output_type": "stream",
     "text": [
      "Epoch 10: 100%|█████████████████████████████████████████████████| 121/121 [03:38<00:00,  1.81s/it, loss=0.202]\n",
      "sampling...: 100%|████████████████████████████████████████████████████████| 1000/1000 [03:43<00:00,  4.47it/s]\n"
     ]
    },
    {
     "name": "stdout",
     "output_type": "stream",
     "text": [
      "Validation loss epoch 10: 0.178\n"
     ]
    },
    {
     "name": "stderr",
     "output_type": "stream",
     "text": [
      "Epoch 11: 100%|█████████████████████████████████████████████████| 121/121 [03:38<00:00,  1.81s/it, loss=0.219]\n",
      "sampling...: 100%|████████████████████████████████████████████████████████| 1000/1000 [03:43<00:00,  4.47it/s]\n"
     ]
    },
    {
     "name": "stdout",
     "output_type": "stream",
     "text": [
      "Validation loss epoch 11: 0.201\n"
     ]
    },
    {
     "name": "stderr",
     "output_type": "stream",
     "text": [
      "Epoch 12: 100%|█████████████████████████████████████████████████| 121/121 [03:38<00:00,  1.81s/it, loss=0.184]\n",
      "sampling...: 100%|████████████████████████████████████████████████████████| 1000/1000 [03:43<00:00,  4.47it/s]\n"
     ]
    },
    {
     "name": "stdout",
     "output_type": "stream",
     "text": [
      "Validation loss epoch 12: 0.198\n"
     ]
    },
    {
     "name": "stderr",
     "output_type": "stream",
     "text": [
      "Epoch 13: 100%|█████████████████████████████████████████████████| 121/121 [03:38<00:00,  1.81s/it, loss=0.209]\n",
      "sampling...: 100%|████████████████████████████████████████████████████████| 1000/1000 [03:44<00:00,  4.46it/s]\n"
     ]
    },
    {
     "name": "stdout",
     "output_type": "stream",
     "text": [
      "Validation loss epoch 13: 0.223\n"
     ]
    },
    {
     "name": "stderr",
     "output_type": "stream",
     "text": [
      "Epoch 14: 100%|█████████████████████████████████████████████████| 121/121 [03:38<00:00,  1.81s/it, loss=0.182]\n",
      "sampling...: 100%|████████████████████████████████████████████████████████| 1000/1000 [03:43<00:00,  4.47it/s]\n"
     ]
    },
    {
     "name": "stdout",
     "output_type": "stream",
     "text": [
      "Validation loss epoch 14: 0.168\n"
     ]
    },
    {
     "name": "stderr",
     "output_type": "stream",
     "text": [
      "Epoch 15: 100%|█████████████████████████████████████████████████| 121/121 [03:38<00:00,  1.81s/it, loss=0.202]\n",
      "sampling...: 100%|████████████████████████████████████████████████████████| 1000/1000 [03:43<00:00,  4.47it/s]\n"
     ]
    },
    {
     "name": "stdout",
     "output_type": "stream",
     "text": [
      "Validation loss epoch 15: 0.165\n"
     ]
    },
    {
     "name": "stderr",
     "output_type": "stream",
     "text": [
      "Epoch 16: 100%|█████████████████████████████████████████████████| 121/121 [03:38<00:00,  1.81s/it, loss=0.201]\n",
      "sampling...: 100%|████████████████████████████████████████████████████████| 1000/1000 [03:43<00:00,  4.47it/s]\n"
     ]
    },
    {
     "name": "stdout",
     "output_type": "stream",
     "text": [
      "Validation loss epoch 16: 0.171\n"
     ]
    },
    {
     "name": "stderr",
     "output_type": "stream",
     "text": [
      "Epoch 17: 100%|█████████████████████████████████████████████████| 121/121 [03:38<00:00,  1.81s/it, loss=0.205]\n",
      "sampling...: 100%|████████████████████████████████████████████████████████| 1000/1000 [03:43<00:00,  4.47it/s]\n"
     ]
    },
    {
     "name": "stdout",
     "output_type": "stream",
     "text": [
      "Validation loss epoch 17: 0.205\n"
     ]
    },
    {
     "name": "stderr",
     "output_type": "stream",
     "text": [
      "Epoch 18: 100%|█████████████████████████████████████████████████| 121/121 [03:38<00:00,  1.81s/it, loss=0.203]\n",
      "sampling...: 100%|████████████████████████████████████████████████████████| 1000/1000 [03:43<00:00,  4.47it/s]\n"
     ]
    },
    {
     "name": "stdout",
     "output_type": "stream",
     "text": [
      "Validation loss epoch 18: 0.250\n"
     ]
    },
    {
     "name": "stderr",
     "output_type": "stream",
     "text": [
      "Epoch 19: 100%|█████████████████████████████████████████████████| 121/121 [03:38<00:00,  1.81s/it, loss=0.223]\n",
      "sampling...: 100%|████████████████████████████████████████████████████████| 1000/1000 [03:43<00:00,  4.47it/s]\n"
     ]
    },
    {
     "name": "stdout",
     "output_type": "stream",
     "text": [
      "Validation loss epoch 19: 0.188\n"
     ]
    },
    {
     "name": "stderr",
     "output_type": "stream",
     "text": [
      "Epoch 20: 100%|█████████████████████████████████████████████████| 121/121 [03:38<00:00,  1.81s/it, loss=0.182]\n",
      "sampling...: 100%|████████████████████████████████████████████████████████| 1000/1000 [03:43<00:00,  4.47it/s]\n"
     ]
    },
    {
     "name": "stdout",
     "output_type": "stream",
     "text": [
      "Validation loss epoch 20: 0.197\n"
     ]
    },
    {
     "name": "stderr",
     "output_type": "stream",
     "text": [
      "Epoch 21: 100%|█████████████████████████████████████████████████| 121/121 [03:38<00:00,  1.81s/it, loss=0.209]\n",
      "sampling...: 100%|████████████████████████████████████████████████████████| 1000/1000 [03:43<00:00,  4.47it/s]\n"
     ]
    },
    {
     "name": "stdout",
     "output_type": "stream",
     "text": [
      "Validation loss epoch 21: 0.155\n"
     ]
    },
    {
     "name": "stderr",
     "output_type": "stream",
     "text": [
      "Epoch 22: 100%|█████████████████████████████████████████████████| 121/121 [03:38<00:00,  1.81s/it, loss=0.185]\n",
      "sampling...: 100%|████████████████████████████████████████████████████████| 1000/1000 [03:44<00:00,  4.46it/s]\n"
     ]
    },
    {
     "name": "stdout",
     "output_type": "stream",
     "text": [
      "Validation loss epoch 22: 0.214\n"
     ]
    },
    {
     "name": "stderr",
     "output_type": "stream",
     "text": [
      "Epoch 23: 100%|█████████████████████████████████████████████████| 121/121 [03:39<00:00,  1.81s/it, loss=0.199]\n",
      "sampling...: 100%|████████████████████████████████████████████████████████| 1000/1000 [03:43<00:00,  4.47it/s]\n"
     ]
    },
    {
     "name": "stdout",
     "output_type": "stream",
     "text": [
      "Validation loss epoch 23: 0.199\n"
     ]
    },
    {
     "name": "stderr",
     "output_type": "stream",
     "text": [
      "Epoch 24: 100%|█████████████████████████████████████████████████| 121/121 [03:38<00:00,  1.81s/it, loss=0.188]\n",
      "sampling...: 100%|████████████████████████████████████████████████████████| 1000/1000 [03:43<00:00,  4.47it/s]\n"
     ]
    },
    {
     "name": "stdout",
     "output_type": "stream",
     "text": [
      "Validation loss epoch 24: 0.180\n"
     ]
    },
    {
     "name": "stderr",
     "output_type": "stream",
     "text": [
      "Epoch 25: 100%|██████████████████████████████████████████████████| 121/121 [03:38<00:00,  1.81s/it, loss=0.19]\n",
      "sampling...: 100%|████████████████████████████████████████████████████████| 1000/1000 [03:43<00:00,  4.47it/s]\n"
     ]
    },
    {
     "name": "stdout",
     "output_type": "stream",
     "text": [
      "Validation loss epoch 25: 0.204\n"
     ]
    },
    {
     "name": "stderr",
     "output_type": "stream",
     "text": [
      "Epoch 26: 100%|██████████████████████████████████████████████████| 121/121 [03:38<00:00,  1.81s/it, loss=0.18]\n",
      "sampling...: 100%|████████████████████████████████████████████████████████| 1000/1000 [03:43<00:00,  4.47it/s]\n"
     ]
    },
    {
     "name": "stdout",
     "output_type": "stream",
     "text": [
      "Validation loss epoch 26: 0.211\n"
     ]
    },
    {
     "name": "stderr",
     "output_type": "stream",
     "text": [
      "Epoch 27: 100%|█████████████████████████████████████████████████| 121/121 [03:38<00:00,  1.81s/it, loss=0.188]\n",
      "sampling...: 100%|████████████████████████████████████████████████████████| 1000/1000 [03:43<00:00,  4.47it/s]\n"
     ]
    },
    {
     "name": "stdout",
     "output_type": "stream",
     "text": [
      "Validation loss epoch 27: 0.193\n"
     ]
    },
    {
     "name": "stderr",
     "output_type": "stream",
     "text": [
      "Epoch 28: 100%|█████████████████████████████████████████████████| 121/121 [03:38<00:00,  1.81s/it, loss=0.238]\n",
      "sampling...: 100%|████████████████████████████████████████████████████████| 1000/1000 [03:43<00:00,  4.47it/s]\n"
     ]
    },
    {
     "name": "stdout",
     "output_type": "stream",
     "text": [
      "Validation loss epoch 28: 0.168\n"
     ]
    },
    {
     "name": "stderr",
     "output_type": "stream",
     "text": [
      "Epoch 29: 100%|█████████████████████████████████████████████████| 121/121 [03:38<00:00,  1.81s/it, loss=0.207]\n",
      "sampling...: 100%|████████████████████████████████████████████████████████| 1000/1000 [03:43<00:00,  4.47it/s]\n"
     ]
    },
    {
     "name": "stdout",
     "output_type": "stream",
     "text": [
      "Validation loss epoch 29: 0.176\n"
     ]
    },
    {
     "name": "stderr",
     "output_type": "stream",
     "text": [
      "Epoch 30: 100%|█████████████████████████████████████████████████| 121/121 [03:38<00:00,  1.81s/it, loss=0.197]\n",
      "sampling...: 100%|████████████████████████████████████████████████████████| 1000/1000 [03:43<00:00,  4.47it/s]\n"
     ]
    },
    {
     "name": "stdout",
     "output_type": "stream",
     "text": [
      "Validation loss epoch 30: 0.182\n"
     ]
    },
    {
     "name": "stderr",
     "output_type": "stream",
     "text": [
      "Epoch 31: 100%|█████████████████████████████████████████████████| 121/121 [03:38<00:00,  1.81s/it, loss=0.197]\n",
      "sampling...: 100%|████████████████████████████████████████████████████████| 1000/1000 [03:44<00:00,  4.46it/s]\n"
     ]
    },
    {
     "name": "stdout",
     "output_type": "stream",
     "text": [
      "Validation loss epoch 31: 0.214\n"
     ]
    },
    {
     "name": "stderr",
     "output_type": "stream",
     "text": [
      "Epoch 32: 100%|█████████████████████████████████████████████████| 121/121 [03:39<00:00,  1.81s/it, loss=0.189]\n",
      "sampling...: 100%|████████████████████████████████████████████████████████| 1000/1000 [03:43<00:00,  4.46it/s]\n"
     ]
    },
    {
     "name": "stdout",
     "output_type": "stream",
     "text": [
      "Validation loss epoch 32: 0.213\n"
     ]
    },
    {
     "name": "stderr",
     "output_type": "stream",
     "text": [
      "Epoch 33: 100%|█████████████████████████████████████████████████| 121/121 [03:38<00:00,  1.81s/it, loss=0.201]\n",
      "sampling...: 100%|████████████████████████████████████████████████████████| 1000/1000 [03:43<00:00,  4.47it/s]\n"
     ]
    },
    {
     "name": "stdout",
     "output_type": "stream",
     "text": [
      "Validation loss epoch 33: 0.229\n"
     ]
    },
    {
     "name": "stderr",
     "output_type": "stream",
     "text": [
      "Epoch 34: 100%|███████████████████████████████████████████████████| 121/121 [03:38<00:00,  1.81s/it, loss=0.2]\n",
      "sampling...: 100%|████████████████████████████████████████████████████████| 1000/1000 [03:43<00:00,  4.47it/s]\n"
     ]
    },
    {
     "name": "stdout",
     "output_type": "stream",
     "text": [
      "Validation loss epoch 34: 0.156\n"
     ]
    },
    {
     "name": "stderr",
     "output_type": "stream",
     "text": [
      "Epoch 35: 100%|█████████████████████████████████████████████████| 121/121 [03:38<00:00,  1.81s/it, loss=0.191]\n",
      "sampling...: 100%|████████████████████████████████████████████████████████| 1000/1000 [03:43<00:00,  4.47it/s]\n"
     ]
    },
    {
     "name": "stdout",
     "output_type": "stream",
     "text": [
      "Validation loss epoch 35: 0.221\n"
     ]
    },
    {
     "name": "stderr",
     "output_type": "stream",
     "text": [
      "Epoch 36: 100%|█████████████████████████████████████████████████| 121/121 [03:38<00:00,  1.81s/it, loss=0.222]\n",
      "sampling...: 100%|████████████████████████████████████████████████████████| 1000/1000 [03:43<00:00,  4.47it/s]\n"
     ]
    },
    {
     "name": "stdout",
     "output_type": "stream",
     "text": [
      "Validation loss epoch 36: 0.180\n"
     ]
    },
    {
     "name": "stderr",
     "output_type": "stream",
     "text": [
      "Epoch 37: 100%|█████████████████████████████████████████████████| 121/121 [03:38<00:00,  1.81s/it, loss=0.173]\n",
      "sampling...: 100%|████████████████████████████████████████████████████████| 1000/1000 [03:43<00:00,  4.47it/s]\n"
     ]
    },
    {
     "name": "stdout",
     "output_type": "stream",
     "text": [
      "Validation loss epoch 37: 0.248\n"
     ]
    },
    {
     "name": "stderr",
     "output_type": "stream",
     "text": [
      "Epoch 38: 100%|█████████████████████████████████████████████████| 121/121 [03:38<00:00,  1.81s/it, loss=0.188]\n",
      "sampling...: 100%|████████████████████████████████████████████████████████| 1000/1000 [03:43<00:00,  4.47it/s]\n"
     ]
    },
    {
     "name": "stdout",
     "output_type": "stream",
     "text": [
      "Validation loss epoch 38: 0.161\n"
     ]
    },
    {
     "name": "stderr",
     "output_type": "stream",
     "text": [
      "Epoch 39: 100%|█████████████████████████████████████████████████| 121/121 [03:38<00:00,  1.81s/it, loss=0.211]\n",
      "sampling...: 100%|████████████████████████████████████████████████████████| 1000/1000 [03:43<00:00,  4.47it/s]\n"
     ]
    },
    {
     "name": "stdout",
     "output_type": "stream",
     "text": [
      "Validation loss epoch 39: 0.221\n"
     ]
    },
    {
     "name": "stderr",
     "output_type": "stream",
     "text": [
      "Epoch 40: 100%|█████████████████████████████████████████████████| 121/121 [03:38<00:00,  1.81s/it, loss=0.201]\n",
      "sampling...: 100%|████████████████████████████████████████████████████████| 1000/1000 [03:44<00:00,  4.46it/s]\n"
     ]
    },
    {
     "name": "stdout",
     "output_type": "stream",
     "text": [
      "Validation loss epoch 40: 0.231\n"
     ]
    },
    {
     "name": "stderr",
     "output_type": "stream",
     "text": [
      "Epoch 41: 100%|███████████████████████████████████████████████████| 121/121 [03:38<00:00,  1.81s/it, loss=0.2]\n",
      "sampling...: 100%|████████████████████████████████████████████████████████| 1000/1000 [03:43<00:00,  4.47it/s]\n"
     ]
    },
    {
     "name": "stdout",
     "output_type": "stream",
     "text": [
      "Validation loss epoch 41: 0.176\n"
     ]
    },
    {
     "name": "stderr",
     "output_type": "stream",
     "text": [
      "Epoch 42: 100%|█████████████████████████████████████████████████| 121/121 [03:38<00:00,  1.81s/it, loss=0.203]\n",
      "sampling...: 100%|████████████████████████████████████████████████████████| 1000/1000 [03:44<00:00,  4.46it/s]\n"
     ]
    },
    {
     "name": "stdout",
     "output_type": "stream",
     "text": [
      "Validation loss epoch 42: 0.191\n"
     ]
    },
    {
     "name": "stderr",
     "output_type": "stream",
     "text": [
      "Epoch 43: 100%|███████████████████████████████████████████████████| 121/121 [03:38<00:00,  1.81s/it, loss=0.2]\n",
      "sampling...: 100%|████████████████████████████████████████████████████████| 1000/1000 [03:43<00:00,  4.47it/s]\n"
     ]
    },
    {
     "name": "stdout",
     "output_type": "stream",
     "text": [
      "Validation loss epoch 43: 0.144\n"
     ]
    },
    {
     "name": "stderr",
     "output_type": "stream",
     "text": [
      "Epoch 44: 100%|█████████████████████████████████████████████████| 121/121 [03:38<00:00,  1.81s/it, loss=0.215]\n",
      "sampling...: 100%|████████████████████████████████████████████████████████| 1000/1000 [03:43<00:00,  4.47it/s]\n"
     ]
    },
    {
     "name": "stdout",
     "output_type": "stream",
     "text": [
      "Validation loss epoch 44: 0.210\n"
     ]
    },
    {
     "name": "stderr",
     "output_type": "stream",
     "text": [
      "Epoch 45: 100%|█████████████████████████████████████████████████| 121/121 [03:38<00:00,  1.81s/it, loss=0.205]\n",
      "sampling...: 100%|████████████████████████████████████████████████████████| 1000/1000 [03:43<00:00,  4.46it/s]\n"
     ]
    },
    {
     "name": "stdout",
     "output_type": "stream",
     "text": [
      "Validation loss epoch 45: 0.191\n"
     ]
    },
    {
     "name": "stderr",
     "output_type": "stream",
     "text": [
      "Epoch 46: 100%|█████████████████████████████████████████████████| 121/121 [03:38<00:00,  1.81s/it, loss=0.196]\n",
      "sampling...: 100%|████████████████████████████████████████████████████████| 1000/1000 [03:43<00:00,  4.47it/s]\n"
     ]
    },
    {
     "name": "stdout",
     "output_type": "stream",
     "text": [
      "Validation loss epoch 46: 0.234\n"
     ]
    },
    {
     "name": "stderr",
     "output_type": "stream",
     "text": [
      "Epoch 47: 100%|█████████████████████████████████████████████████| 121/121 [03:38<00:00,  1.81s/it, loss=0.208]\n",
      "sampling...: 100%|████████████████████████████████████████████████████████| 1000/1000 [03:43<00:00,  4.47it/s]\n"
     ]
    },
    {
     "name": "stdout",
     "output_type": "stream",
     "text": [
      "Validation loss epoch 47: 0.243\n"
     ]
    },
    {
     "name": "stderr",
     "output_type": "stream",
     "text": [
      "Epoch 48: 100%|█████████████████████████████████████████████████| 121/121 [03:38<00:00,  1.81s/it, loss=0.199]\n",
      "sampling...: 100%|████████████████████████████████████████████████████████| 1000/1000 [03:43<00:00,  4.47it/s]\n"
     ]
    },
    {
     "name": "stdout",
     "output_type": "stream",
     "text": [
      "Validation loss epoch 48: 0.261\n"
     ]
    },
    {
     "name": "stderr",
     "output_type": "stream",
     "text": [
      "Epoch 49: 100%|█████████████████████████████████████████████████| 121/121 [03:38<00:00,  1.81s/it, loss=0.157]\n",
      "sampling...: 100%|████████████████████████████████████████████████████████| 1000/1000 [03:44<00:00,  4.46it/s]\n"
     ]
    },
    {
     "name": "stdout",
     "output_type": "stream",
     "text": [
      "Validation loss epoch 49: 0.229\n"
     ]
    },
    {
     "name": "stderr",
     "output_type": "stream",
     "text": [
      "Epoch 50: 100%|█████████████████████████████████████████████████| 121/121 [03:38<00:00,  1.81s/it, loss=0.188]\n",
      "sampling...: 100%|████████████████████████████████████████████████████████| 1000/1000 [03:43<00:00,  4.47it/s]\n"
     ]
    },
    {
     "name": "stdout",
     "output_type": "stream",
     "text": [
      "Validation loss epoch 50: 0.177\n"
     ]
    },
    {
     "name": "stderr",
     "output_type": "stream",
     "text": [
      "Epoch 51: 100%|█████████████████████████████████████████████████| 121/121 [03:38<00:00,  1.81s/it, loss=0.211]\n",
      "sampling...: 100%|████████████████████████████████████████████████████████| 1000/1000 [03:43<00:00,  4.47it/s]\n"
     ]
    },
    {
     "name": "stdout",
     "output_type": "stream",
     "text": [
      "Validation loss epoch 51: 0.204\n"
     ]
    },
    {
     "name": "stderr",
     "output_type": "stream",
     "text": [
      "Epoch 52: 100%|█████████████████████████████████████████████████| 121/121 [03:38<00:00,  1.80s/it, loss=0.176]\n",
      "sampling...: 100%|████████████████████████████████████████████████████████| 1000/1000 [03:43<00:00,  4.48it/s]\n"
     ]
    },
    {
     "name": "stdout",
     "output_type": "stream",
     "text": [
      "Validation loss epoch 52: 0.226\n"
     ]
    },
    {
     "name": "stderr",
     "output_type": "stream",
     "text": [
      "Epoch 53: 100%|█████████████████████████████████████████████████| 121/121 [03:38<00:00,  1.80s/it, loss=0.223]\n",
      "sampling...: 100%|████████████████████████████████████████████████████████| 1000/1000 [03:43<00:00,  4.47it/s]\n"
     ]
    },
    {
     "name": "stdout",
     "output_type": "stream",
     "text": [
      "Validation loss epoch 53: 0.214\n"
     ]
    },
    {
     "name": "stderr",
     "output_type": "stream",
     "text": [
      "Epoch 54: 100%|█████████████████████████████████████████████████| 121/121 [03:38<00:00,  1.80s/it, loss=0.195]\n",
      "sampling...: 100%|████████████████████████████████████████████████████████| 1000/1000 [03:43<00:00,  4.47it/s]\n"
     ]
    },
    {
     "name": "stdout",
     "output_type": "stream",
     "text": [
      "Validation loss epoch 54: 0.180\n"
     ]
    },
    {
     "name": "stderr",
     "output_type": "stream",
     "text": [
      "Epoch 55: 100%|█████████████████████████████████████████████████| 121/121 [03:38<00:00,  1.80s/it, loss=0.216]\n",
      "sampling...: 100%|████████████████████████████████████████████████████████| 1000/1000 [03:43<00:00,  4.47it/s]\n"
     ]
    },
    {
     "name": "stdout",
     "output_type": "stream",
     "text": [
      "Validation loss epoch 55: 0.174\n"
     ]
    },
    {
     "name": "stderr",
     "output_type": "stream",
     "text": [
      "Epoch 56: 100%|█████████████████████████████████████████████████| 121/121 [03:38<00:00,  1.81s/it, loss=0.198]\n",
      "sampling...: 100%|████████████████████████████████████████████████████████| 1000/1000 [03:43<00:00,  4.47it/s]\n"
     ]
    },
    {
     "name": "stdout",
     "output_type": "stream",
     "text": [
      "Validation loss epoch 56: 0.190\n"
     ]
    },
    {
     "name": "stderr",
     "output_type": "stream",
     "text": [
      "Epoch 57: 100%|█████████████████████████████████████████████████| 121/121 [03:38<00:00,  1.80s/it, loss=0.194]\n",
      "sampling...: 100%|████████████████████████████████████████████████████████| 1000/1000 [03:43<00:00,  4.47it/s]\n"
     ]
    },
    {
     "name": "stdout",
     "output_type": "stream",
     "text": [
      "Validation loss epoch 57: 0.133\n"
     ]
    },
    {
     "name": "stderr",
     "output_type": "stream",
     "text": [
      "Epoch 58: 100%|█████████████████████████████████████████████████| 121/121 [03:38<00:00,  1.81s/it, loss=0.183]\n",
      "sampling...: 100%|████████████████████████████████████████████████████████| 1000/1000 [03:43<00:00,  4.47it/s]\n"
     ]
    },
    {
     "name": "stdout",
     "output_type": "stream",
     "text": [
      "Validation loss epoch 58: 0.180\n"
     ]
    },
    {
     "name": "stderr",
     "output_type": "stream",
     "text": [
      "Epoch 59: 100%|█████████████████████████████████████████████████| 121/121 [03:39<00:00,  1.81s/it, loss=0.189]\n",
      "sampling...: 100%|████████████████████████████████████████████████████████| 1000/1000 [03:44<00:00,  4.46it/s]\n"
     ]
    },
    {
     "name": "stdout",
     "output_type": "stream",
     "text": [
      "Validation loss epoch 59: 0.154\n"
     ]
    },
    {
     "name": "stderr",
     "output_type": "stream",
     "text": [
      "Epoch 60: 100%|█████████████████████████████████████████████████| 121/121 [03:38<00:00,  1.81s/it, loss=0.176]\n",
      "sampling...: 100%|████████████████████████████████████████████████████████| 1000/1000 [03:43<00:00,  4.47it/s]\n"
     ]
    },
    {
     "name": "stdout",
     "output_type": "stream",
     "text": [
      "Validation loss epoch 60: 0.174\n"
     ]
    },
    {
     "name": "stderr",
     "output_type": "stream",
     "text": [
      "Epoch 61: 100%|█████████████████████████████████████████████████| 121/121 [03:38<00:00,  1.81s/it, loss=0.207]\n",
      "sampling...: 100%|████████████████████████████████████████████████████████| 1000/1000 [03:43<00:00,  4.47it/s]\n"
     ]
    },
    {
     "name": "stdout",
     "output_type": "stream",
     "text": [
      "Validation loss epoch 61: 0.247\n"
     ]
    },
    {
     "name": "stderr",
     "output_type": "stream",
     "text": [
      "Epoch 62: 100%|█████████████████████████████████████████████████| 121/121 [03:38<00:00,  1.80s/it, loss=0.158]\n",
      "sampling...: 100%|████████████████████████████████████████████████████████| 1000/1000 [03:43<00:00,  4.47it/s]\n"
     ]
    },
    {
     "name": "stdout",
     "output_type": "stream",
     "text": [
      "Validation loss epoch 62: 0.203\n"
     ]
    },
    {
     "name": "stderr",
     "output_type": "stream",
     "text": [
      "Epoch 63: 100%|█████████████████████████████████████████████████| 121/121 [03:38<00:00,  1.80s/it, loss=0.165]\n",
      "sampling...: 100%|████████████████████████████████████████████████████████| 1000/1000 [03:43<00:00,  4.47it/s]\n"
     ]
    },
    {
     "name": "stdout",
     "output_type": "stream",
     "text": [
      "Validation loss epoch 63: 0.240\n"
     ]
    },
    {
     "name": "stderr",
     "output_type": "stream",
     "text": [
      "Epoch 64: 100%|█████████████████████████████████████████████████| 121/121 [03:38<00:00,  1.81s/it, loss=0.175]\n",
      "sampling...: 100%|████████████████████████████████████████████████████████| 1000/1000 [03:43<00:00,  4.47it/s]\n"
     ]
    },
    {
     "name": "stdout",
     "output_type": "stream",
     "text": [
      "Validation loss epoch 64: 0.216\n"
     ]
    },
    {
     "name": "stderr",
     "output_type": "stream",
     "text": [
      "Epoch 65: 100%|██████████████████████████████████████████████████| 121/121 [03:38<00:00,  1.81s/it, loss=0.21]\n",
      "sampling...: 100%|████████████████████████████████████████████████████████| 1000/1000 [03:43<00:00,  4.47it/s]\n"
     ]
    },
    {
     "name": "stdout",
     "output_type": "stream",
     "text": [
      "Validation loss epoch 65: 0.210\n"
     ]
    },
    {
     "name": "stderr",
     "output_type": "stream",
     "text": [
      "Epoch 66: 100%|█████████████████████████████████████████████████| 121/121 [03:38<00:00,  1.81s/it, loss=0.167]\n",
      "sampling...: 100%|████████████████████████████████████████████████████████| 1000/1000 [03:43<00:00,  4.47it/s]\n"
     ]
    },
    {
     "name": "stdout",
     "output_type": "stream",
     "text": [
      "Validation loss epoch 66: 0.214\n"
     ]
    },
    {
     "name": "stderr",
     "output_type": "stream",
     "text": [
      "Epoch 67: 100%|█████████████████████████████████████████████████| 121/121 [03:38<00:00,  1.81s/it, loss=0.198]\n",
      "sampling...: 100%|████████████████████████████████████████████████████████| 1000/1000 [03:43<00:00,  4.47it/s]\n"
     ]
    },
    {
     "name": "stdout",
     "output_type": "stream",
     "text": [
      "Validation loss epoch 67: 0.143\n"
     ]
    },
    {
     "name": "stderr",
     "output_type": "stream",
     "text": [
      "Epoch 68: 100%|█████████████████████████████████████████████████| 121/121 [03:38<00:00,  1.81s/it, loss=0.166]\n",
      "sampling...: 100%|████████████████████████████████████████████████████████| 1000/1000 [03:44<00:00,  4.46it/s]\n"
     ]
    },
    {
     "name": "stdout",
     "output_type": "stream",
     "text": [
      "Validation loss epoch 68: 0.200\n"
     ]
    },
    {
     "name": "stderr",
     "output_type": "stream",
     "text": [
      "Epoch 69: 100%|█████████████████████████████████████████████████| 121/121 [03:38<00:00,  1.81s/it, loss=0.184]\n",
      "sampling...: 100%|████████████████████████████████████████████████████████| 1000/1000 [03:43<00:00,  4.47it/s]\n"
     ]
    },
    {
     "name": "stdout",
     "output_type": "stream",
     "text": [
      "Validation loss epoch 69: 0.183\n"
     ]
    },
    {
     "name": "stderr",
     "output_type": "stream",
     "text": [
      "Epoch 70: 100%|█████████████████████████████████████████████████| 121/121 [03:38<00:00,  1.81s/it, loss=0.193]\n",
      "sampling...: 100%|████████████████████████████████████████████████████████| 1000/1000 [03:46<00:00,  4.42it/s]\n"
     ]
    },
    {
     "name": "stdout",
     "output_type": "stream",
     "text": [
      "Validation loss epoch 70: 0.174\n"
     ]
    },
    {
     "name": "stderr",
     "output_type": "stream",
     "text": [
      "Epoch 71: 100%|█████████████████████████████████████████████████| 121/121 [03:41<00:00,  1.83s/it, loss=0.188]\n",
      "sampling...: 100%|████████████████████████████████████████████████████████| 1000/1000 [03:44<00:00,  4.45it/s]\n"
     ]
    },
    {
     "name": "stdout",
     "output_type": "stream",
     "text": [
      "Validation loss epoch 71: 0.243\n"
     ]
    },
    {
     "name": "stderr",
     "output_type": "stream",
     "text": [
      "Epoch 72: 100%|██████████████████████████████████████████████████| 121/121 [03:38<00:00,  1.81s/it, loss=0.19]\n",
      "sampling...: 100%|████████████████████████████████████████████████████████| 1000/1000 [03:46<00:00,  4.42it/s]\n"
     ]
    },
    {
     "name": "stdout",
     "output_type": "stream",
     "text": [
      "Validation loss epoch 72: 0.209\n"
     ]
    },
    {
     "name": "stderr",
     "output_type": "stream",
     "text": [
      "Epoch 73: 100%|█████████████████████████████████████████████████| 121/121 [03:38<00:00,  1.81s/it, loss=0.178]\n",
      "sampling...: 100%|████████████████████████████████████████████████████████| 1000/1000 [03:44<00:00,  4.46it/s]\n"
     ]
    },
    {
     "name": "stdout",
     "output_type": "stream",
     "text": [
      "Validation loss epoch 73: 0.203\n"
     ]
    },
    {
     "name": "stderr",
     "output_type": "stream",
     "text": [
      "Epoch 74: 100%|█████████████████████████████████████████████████| 121/121 [03:38<00:00,  1.81s/it, loss=0.181]\n",
      "sampling...: 100%|████████████████████████████████████████████████████████| 1000/1000 [03:43<00:00,  4.47it/s]\n"
     ]
    },
    {
     "name": "stdout",
     "output_type": "stream",
     "text": [
      "Validation loss epoch 74: 0.206\n"
     ]
    },
    {
     "name": "stderr",
     "output_type": "stream",
     "text": [
      "Epoch 75: 100%|██████████████████████████████████████████████████| 121/121 [03:38<00:00,  1.80s/it, loss=0.17]\n",
      "sampling...: 100%|████████████████████████████████████████████████████████| 1000/1000 [03:43<00:00,  4.47it/s]\n"
     ]
    },
    {
     "name": "stdout",
     "output_type": "stream",
     "text": [
      "Validation loss epoch 75: 0.164\n"
     ]
    },
    {
     "name": "stderr",
     "output_type": "stream",
     "text": [
      "Epoch 76: 100%|█████████████████████████████████████████████████| 121/121 [03:38<00:00,  1.81s/it, loss=0.189]\n",
      "sampling...: 100%|████████████████████████████████████████████████████████| 1000/1000 [03:43<00:00,  4.47it/s]\n"
     ]
    },
    {
     "name": "stdout",
     "output_type": "stream",
     "text": [
      "Validation loss epoch 76: 0.139\n"
     ]
    },
    {
     "name": "stderr",
     "output_type": "stream",
     "text": [
      "Epoch 77: 100%|█████████████████████████████████████████████████| 121/121 [03:38<00:00,  1.81s/it, loss=0.173]\n",
      "sampling...: 100%|████████████████████████████████████████████████████████| 1000/1000 [03:44<00:00,  4.46it/s]\n"
     ]
    },
    {
     "name": "stdout",
     "output_type": "stream",
     "text": [
      "Validation loss epoch 77: 0.239\n"
     ]
    },
    {
     "name": "stderr",
     "output_type": "stream",
     "text": [
      "Epoch 78: 100%|█████████████████████████████████████████████████| 121/121 [03:39<00:00,  1.81s/it, loss=0.187]\n",
      "sampling...: 100%|████████████████████████████████████████████████████████| 1000/1000 [03:43<00:00,  4.47it/s]\n"
     ]
    },
    {
     "name": "stdout",
     "output_type": "stream",
     "text": [
      "Validation loss epoch 78: 0.250\n"
     ]
    },
    {
     "name": "stderr",
     "output_type": "stream",
     "text": [
      "Epoch 79: 100%|█████████████████████████████████████████████████| 121/121 [03:38<00:00,  1.81s/it, loss=0.188]\n",
      "sampling...: 100%|████████████████████████████████████████████████████████| 1000/1000 [03:43<00:00,  4.47it/s]\n"
     ]
    },
    {
     "name": "stdout",
     "output_type": "stream",
     "text": [
      "Validation loss epoch 79: 0.209\n"
     ]
    },
    {
     "name": "stderr",
     "output_type": "stream",
     "text": [
      "Epoch 80: 100%|█████████████████████████████████████████████████| 121/121 [03:38<00:00,  1.81s/it, loss=0.183]\n",
      "sampling...: 100%|████████████████████████████████████████████████████████| 1000/1000 [03:43<00:00,  4.47it/s]\n"
     ]
    },
    {
     "name": "stdout",
     "output_type": "stream",
     "text": [
      "Validation loss epoch 80: 0.223\n"
     ]
    },
    {
     "name": "stderr",
     "output_type": "stream",
     "text": [
      "Epoch 81: 100%|██████████████████████████████████████████████████| 121/121 [03:38<00:00,  1.81s/it, loss=0.17]\n",
      "sampling...: 100%|████████████████████████████████████████████████████████| 1000/1000 [03:43<00:00,  4.47it/s]\n"
     ]
    },
    {
     "name": "stdout",
     "output_type": "stream",
     "text": [
      "Validation loss epoch 81: 0.213\n"
     ]
    },
    {
     "name": "stderr",
     "output_type": "stream",
     "text": [
      "Epoch 82: 100%|█████████████████████████████████████████████████| 121/121 [03:38<00:00,  1.81s/it, loss=0.185]\n",
      "sampling...: 100%|████████████████████████████████████████████████████████| 1000/1000 [03:43<00:00,  4.47it/s]\n"
     ]
    },
    {
     "name": "stdout",
     "output_type": "stream",
     "text": [
      "Validation loss epoch 82: 0.218\n"
     ]
    },
    {
     "name": "stderr",
     "output_type": "stream",
     "text": [
      "Epoch 83: 100%|█████████████████████████████████████████████████| 121/121 [03:38<00:00,  1.81s/it, loss=0.192]\n",
      "sampling...: 100%|████████████████████████████████████████████████████████| 1000/1000 [03:43<00:00,  4.47it/s]\n"
     ]
    },
    {
     "name": "stdout",
     "output_type": "stream",
     "text": [
      "Validation loss epoch 83: 0.229\n"
     ]
    },
    {
     "name": "stderr",
     "output_type": "stream",
     "text": [
      "Epoch 84: 100%|█████████████████████████████████████████████████| 121/121 [03:38<00:00,  1.81s/it, loss=0.173]\n",
      "sampling...: 100%|████████████████████████████████████████████████████████| 1000/1000 [03:43<00:00,  4.47it/s]\n"
     ]
    },
    {
     "name": "stdout",
     "output_type": "stream",
     "text": [
      "Validation loss epoch 84: 0.201\n"
     ]
    },
    {
     "name": "stderr",
     "output_type": "stream",
     "text": [
      "Epoch 85: 100%|█████████████████████████████████████████████████| 121/121 [03:38<00:00,  1.81s/it, loss=0.182]\n",
      "sampling...: 100%|████████████████████████████████████████████████████████| 1000/1000 [03:43<00:00,  4.47it/s]\n"
     ]
    },
    {
     "name": "stdout",
     "output_type": "stream",
     "text": [
      "Validation loss epoch 85: 0.214\n"
     ]
    },
    {
     "name": "stderr",
     "output_type": "stream",
     "text": [
      "Epoch 86: 100%|█████████████████████████████████████████████████| 121/121 [03:38<00:00,  1.81s/it, loss=0.196]\n",
      "sampling...: 100%|████████████████████████████████████████████████████████| 1000/1000 [03:43<00:00,  4.47it/s]\n"
     ]
    },
    {
     "name": "stdout",
     "output_type": "stream",
     "text": [
      "Validation loss epoch 86: 0.195\n"
     ]
    },
    {
     "name": "stderr",
     "output_type": "stream",
     "text": [
      "Epoch 87: 100%|█████████████████████████████████████████████████| 121/121 [03:38<00:00,  1.81s/it, loss=0.204]\n",
      "sampling...: 100%|████████████████████████████████████████████████████████| 1000/1000 [03:44<00:00,  4.46it/s]\n"
     ]
    },
    {
     "name": "stdout",
     "output_type": "stream",
     "text": [
      "Validation loss epoch 87: 0.186\n"
     ]
    },
    {
     "name": "stderr",
     "output_type": "stream",
     "text": [
      "Epoch 88: 100%|█████████████████████████████████████████████████| 121/121 [03:39<00:00,  1.81s/it, loss=0.206]\n",
      "sampling...: 100%|████████████████████████████████████████████████████████| 1000/1000 [03:43<00:00,  4.47it/s]\n"
     ]
    },
    {
     "name": "stdout",
     "output_type": "stream",
     "text": [
      "Validation loss epoch 88: 0.154\n"
     ]
    },
    {
     "name": "stderr",
     "output_type": "stream",
     "text": [
      "Epoch 89: 100%|█████████████████████████████████████████████████| 121/121 [03:39<00:00,  1.81s/it, loss=0.195]\n",
      "sampling...: 100%|████████████████████████████████████████████████████████| 1000/1000 [03:48<00:00,  4.38it/s]\n"
     ]
    },
    {
     "name": "stdout",
     "output_type": "stream",
     "text": [
      "Validation loss epoch 89: 0.220\n"
     ]
    },
    {
     "name": "stderr",
     "output_type": "stream",
     "text": [
      "Epoch 90: 100%|█████████████████████████████████████████████████| 121/121 [03:38<00:00,  1.81s/it, loss=0.207]\n",
      "sampling...: 100%|████████████████████████████████████████████████████████| 1000/1000 [03:44<00:00,  4.46it/s]\n"
     ]
    },
    {
     "name": "stdout",
     "output_type": "stream",
     "text": [
      "Validation loss epoch 90: 0.197\n"
     ]
    },
    {
     "name": "stderr",
     "output_type": "stream",
     "text": [
      "Epoch 91: 100%|█████████████████████████████████████████████████| 121/121 [03:38<00:00,  1.81s/it, loss=0.194]\n",
      "sampling...: 100%|████████████████████████████████████████████████████████| 1000/1000 [03:43<00:00,  4.47it/s]\n"
     ]
    },
    {
     "name": "stdout",
     "output_type": "stream",
     "text": [
      "Validation loss epoch 91: 0.209\n"
     ]
    },
    {
     "name": "stderr",
     "output_type": "stream",
     "text": [
      "Epoch 92: 100%|█████████████████████████████████████████████████| 121/121 [03:38<00:00,  1.81s/it, loss=0.188]\n",
      "sampling...: 100%|████████████████████████████████████████████████████████| 1000/1000 [03:43<00:00,  4.47it/s]\n"
     ]
    },
    {
     "name": "stdout",
     "output_type": "stream",
     "text": [
      "Validation loss epoch 92: 0.194\n"
     ]
    },
    {
     "name": "stderr",
     "output_type": "stream",
     "text": [
      "Epoch 93: 100%|█████████████████████████████████████████████████| 121/121 [03:38<00:00,  1.81s/it, loss=0.183]\n",
      "sampling...: 100%|████████████████████████████████████████████████████████| 1000/1000 [03:43<00:00,  4.47it/s]\n"
     ]
    },
    {
     "name": "stdout",
     "output_type": "stream",
     "text": [
      "Validation loss epoch 93: 0.176\n"
     ]
    },
    {
     "name": "stderr",
     "output_type": "stream",
     "text": [
      "Epoch 94: 100%|█████████████████████████████████████████████████| 121/121 [03:38<00:00,  1.81s/it, loss=0.186]\n",
      "sampling...: 100%|████████████████████████████████████████████████████████| 1000/1000 [03:43<00:00,  4.47it/s]\n"
     ]
    },
    {
     "name": "stdout",
     "output_type": "stream",
     "text": [
      "Validation loss epoch 94: 0.151\n"
     ]
    },
    {
     "name": "stderr",
     "output_type": "stream",
     "text": [
      "Epoch 95: 100%|█████████████████████████████████████████████████| 121/121 [03:38<00:00,  1.81s/it, loss=0.199]\n",
      "sampling...: 100%|████████████████████████████████████████████████████████| 1000/1000 [03:43<00:00,  4.47it/s]\n"
     ]
    },
    {
     "name": "stdout",
     "output_type": "stream",
     "text": [
      "Validation loss epoch 95: 0.148\n"
     ]
    },
    {
     "name": "stderr",
     "output_type": "stream",
     "text": [
      "Epoch 96: 100%|█████████████████████████████████████████████████| 121/121 [03:38<00:00,  1.81s/it, loss=0.198]\n",
      "sampling...: 100%|████████████████████████████████████████████████████████| 1000/1000 [03:44<00:00,  4.46it/s]\n"
     ]
    },
    {
     "name": "stdout",
     "output_type": "stream",
     "text": [
      "Validation loss epoch 96: 0.207\n"
     ]
    },
    {
     "name": "stderr",
     "output_type": "stream",
     "text": [
      "Epoch 97: 100%|█████████████████████████████████████████████████| 121/121 [03:38<00:00,  1.81s/it, loss=0.192]\n",
      "sampling...: 100%|████████████████████████████████████████████████████████| 1000/1000 [03:49<00:00,  4.35it/s]\n"
     ]
    },
    {
     "name": "stdout",
     "output_type": "stream",
     "text": [
      "Validation loss epoch 97: 0.185\n"
     ]
    },
    {
     "name": "stderr",
     "output_type": "stream",
     "text": [
      "Epoch 98: 100%|█████████████████████████████████████████████████| 121/121 [03:46<00:00,  1.87s/it, loss=0.169]\n",
      "sampling...: 100%|████████████████████████████████████████████████████████| 1000/1000 [03:44<00:00,  4.46it/s]\n"
     ]
    },
    {
     "name": "stdout",
     "output_type": "stream",
     "text": [
      "Validation loss epoch 98: 0.151\n"
     ]
    },
    {
     "name": "stderr",
     "output_type": "stream",
     "text": [
      "Epoch 99: 100%|█████████████████████████████████████████████████| 121/121 [03:39<00:00,  1.81s/it, loss=0.188]\n",
      "sampling...: 100%|████████████████████████████████████████████████████████| 1000/1000 [03:48<00:00,  4.38it/s]\n"
     ]
    },
    {
     "name": "stdout",
     "output_type": "stream",
     "text": [
      "Validation loss epoch 99: 0.199\n",
      "Training finished...\n"
     ]
    }
   ],
   "source": [
    "best_val_loss = 1000\n",
    "i_e = 0\n",
    "for e in range(i_e, num_epochs):\n",
    "    progress_bar = tqdm(enumerate(train_loader), total=len(train_loader), ncols=110)\n",
    "    progress_bar.set_description(f\"Epoch {e}\")\n",
    "    epoch_loss = 0.0\n",
    "    for step, data in progress_bar:\n",
    "        input_conditioning = data['label'].to(device)\n",
    "        input_image = data['image'].to(device)\n",
    "        with torch.no_grad():\n",
    "            # Obtain latent representation of the VAE\n",
    "            latent = autoencoder.encode_stage_2_inputs(input_image) * scale_factor\n",
    "        # We concatenate gender, age, ventricular volume and brain volume as additional channels\n",
    "        input_mask = create_mask(data, list(latent.shape)).to(device)\n",
    "        # Sample time steps and add noise to the latent space representation\n",
    "        timesteps = torch.randint(0, scheduler.num_train_timesteps,(latent.shape[0],), device=device).long()\n",
    "        noise = torch.randn(list(latent.shape)).to(device)\n",
    "        noisy_latents = scheduler.add_noise(original_samples=latent, noise=noise, timesteps=timesteps)\n",
    "        noisy_latents = torch.cat([noisy_latents, input_mask], dim = 1, )\n",
    "        # Optimise\n",
    "        optimizer.zero_grad()\n",
    "        down_block_res_samples, mid_block_res_sample = controlnet(\n",
    "            noisy_latents,\n",
    "            timesteps,\n",
    "            controlnet_cond = input_conditioning,\n",
    "            context = None,\n",
    "        )\n",
    "        cond = torch.cat([data['gender'].unsqueeze(0),\n",
    "                          data['age'].unsqueeze(0),\n",
    "                          data['ventricular_vol'].unsqueeze(0),\n",
    "                          data['brain_vol'].unsqueeze(0)], dim = 1).unsqueeze(1)\n",
    "        prediction = diffusion(x=noisy_latents,\n",
    "                               timesteps=timesteps,\n",
    "                               context=cond.to(device),\n",
    "                               down_block_additional_residuals = down_block_res_samples,\n",
    "                               mid_block_additional_residual = mid_block_res_sample)\n",
    "        loss = torch.nn.functional.l1_loss(prediction, noise[:, :3, ...])\n",
    "        loss.backward()\n",
    "        optimizer.step()\n",
    "        epoch_loss += loss.item()\n",
    "        progress_bar.set_postfix({\"loss\": epoch_loss / (step + 1)})\n",
    "\n",
    "    # If validation is requested in this epoch: \n",
    "    if step % validation_epochs == 0:\n",
    "        # Validation will consist on similar set-up than training: one denoising step > loss. \n",
    "        # In ONE occasion, we also perform a sampling. \n",
    "        sampling_step = np.random.randint(len(val_loader))\n",
    "        val_loss = 0.0\n",
    "        for ind, data in enumerate(val_loader):\n",
    "            with torch.no_grad():\n",
    "                diffusion = diffusion.eval()\n",
    "                controlnet = controlnet.eval()\n",
    "                input_conditioning = data['label'].to(device)\n",
    "                input_image = data['image'].to(device)\n",
    "                # Latent space representation of autoencoder\n",
    "                latent = autoencoder.encode_stage_2_inputs(input_image) * scale_factor\n",
    "                # We concatenate gender, age, ventricular volume and brain volume as additional channels\n",
    "                input_mask = create_mask(data, list(latent.shape)).to(device)\n",
    "                # Sample time step and optimise \n",
    "                timesteps = torch.randint(0, scheduler.num_train_timesteps, (latent.shape[0],),\n",
    "                                          device=device).long()\n",
    "                noise = torch.randn(list(latent.shape)).to(device)\n",
    "                noisy_latents = scheduler.add_noise(original_samples=latent, noise=noise, timesteps=timesteps)\n",
    "                noisy_latents = torch.cat([noisy_latents, input_mask], dim=1, )\n",
    "                down_block_res_samples, mid_block_res_sample = controlnet(\n",
    "                    noisy_latents,\n",
    "                    timesteps,\n",
    "                    controlnet_cond=input_conditioning,\n",
    "                    context=None,\n",
    "                )\n",
    "                cond = torch.cat([data['gender'].unsqueeze(0),\n",
    "                                  data['age'].unsqueeze(0),\n",
    "                                  data['ventricular_vol'].unsqueeze(0),\n",
    "                                  data['brain_vol'].unsqueeze(0)], dim=1).unsqueeze(1)\n",
    "                prediction = diffusion(x=noisy_latents,\n",
    "                                       timesteps=timesteps,\n",
    "                                       context=cond.to(device),\n",
    "                                       down_block_additional_residuals=down_block_res_samples,\n",
    "                                       mid_block_additional_residual=mid_block_res_sample)\n",
    "                val_loss += torch.nn.functional.l1_loss(prediction, noise[:, :3, ...]).item()\n",
    "\n",
    "                if ind == sampling_step:\n",
    "                    # If we need to sample\n",
    "                    noise = torch.randn(list(latent.shape))\n",
    "                    noise_pred = deepcopy(noise).to(device)\n",
    "                    progress_bar_sampling = tqdm(scheduler.timesteps, total=len(scheduler.timesteps), ncols=110)\n",
    "                    progress_bar_sampling.set_description(\"sampling...\")\n",
    "                    for t in progress_bar_sampling:\n",
    "                        down_block_res_samples, mid_block_res_sample = controlnet(torch.cat([noise_pred, input_mask], dim=1),\n",
    "                                                                              timesteps,\n",
    "                                                                              controlnet_cond=input_conditioning)\n",
    "                        model_output = diffusion(\n",
    "                            torch.cat([noise_pred, input_mask], dim  = 1),\n",
    "                            timesteps=torch.Tensor((t,)).to(device),\n",
    "                            context=cond.to(device),\n",
    "                            down_block_additional_residuals=down_block_res_samples,\n",
    "                            mid_block_additional_residual=mid_block_res_sample)\n",
    "                        noise_pred, _ = scheduler.step(model_output, t, noise_pred)\n",
    "                    decoded = autoencoder.decode_stage_2_outputs(noise_pred[:, :3, ...]).detach().cpu()\n",
    "                    # Log image\n",
    "                    # We make a 2 x 2 grid with: GT / Predicted / Mask\n",
    "                    input_conditioning = input_conditioning.detach().cpu().squeeze(1) # Remove channel\n",
    "                    input_image = input_image.detach().cpu().squeeze(1) # Remove channel\n",
    "                    for b in range(input_conditioning.shape[0]):\n",
    "                        to_save = torch.cat([input_image[b, ...], decoded[b, 0,...]], 1)\n",
    "                        to_save = torch.cat([to_save, torch.cat([input_conditioning[b, ...],\n",
    "                                                                torch.zeros_like(input_conditioning[b, ...])],\n",
    "                                                                1),\n",
    "                                             ],0)\n",
    "                        to_save = to_save.numpy()\n",
    "                        nifti_image = nib.Nifti1Image(to_save, affine = np.eye(4))\n",
    "                        nib.save(nifti_image, os.path.join(root_dir, 'samples_dir', \"val_epoch_%d_%d.nii.gz\" %(e, b)))\n",
    "        val_loss = val_loss / len(val_loader)\n",
    "        print(\"Validation loss epoch %d: %.3f\" %(e, val_loss))\n",
    "        controlnet.train()\n",
    "        diffusion.train()\n",
    "print(\"Training finished...\")"
   ]
  },
  {
   "cell_type": "code",
   "execution_count": null,
   "metadata": {
    "pycharm": {
     "name": "#%%\n"
    }
   },
   "outputs": [],
   "source": []
  },
  {
   "cell_type": "code",
   "execution_count": null,
   "metadata": {},
   "outputs": [],
   "source": []
  }
 ],
 "metadata": {
  "jupytext": {
   "formats": "ipynb,auto:light"
  },
  "kernelspec": {
   "display_name": "Python 3 (ipykernel)",
   "language": "python",
   "name": "python3"
  },
  "language_info": {
   "codemirror_mode": {
    "name": "ipython",
    "version": 3
   },
   "file_extension": ".py",
   "mimetype": "text/x-python",
   "name": "python",
   "nbconvert_exporter": "python",
   "pygments_lexer": "ipython3",
   "version": "3.9.16"
  }
 },
 "nbformat": 4,
 "nbformat_minor": 4
}