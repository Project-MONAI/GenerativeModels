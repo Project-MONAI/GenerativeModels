{
 "cells": [
  {
   "cell_type": "markdown",
   "id": "e0a3f076",
   "metadata": {},
   "source": [
    "# 3D Latent Diffusion Model"
   ]
  },
  {
   "cell_type": "markdown",
   "id": "bcbbb4a3",
   "metadata": {},
   "source": [
    "## Set up environment using Colab\n"
   ]
  },
  {
   "cell_type": "code",
   "execution_count": 3,
   "id": "8caae787",
   "metadata": {},
   "outputs": [],
   "source": [
    "!python -c \"import monai\" || pip install -q \"monai-weekly[tqdm]\"\n",
    "!python -c \"import matplotlib\" || pip install -q matplotlib\n",
    "%matplotlib inline"
   ]
  },
  {
   "cell_type": "markdown",
   "id": "da9e6b23",
   "metadata": {},
   "source": [
    "## Set up imports"
   ]
  },
  {
   "cell_type": "code",
   "execution_count": 4,
   "id": "b44c4689",
   "metadata": {},
   "outputs": [
    {
     "name": "stdout",
     "output_type": "stream",
     "text": [
      "MONAI version: 1.1.dev2247\n",
      "Numpy version: 1.23.4\n",
      "Pytorch version: 1.13.0+cu117\n",
      "MONAI flags: HAS_EXT = False, USE_COMPILED = False, USE_META_DICT = False\n",
      "MONAI rev id: a201cb93d8fb49e6c7070fa22d86e6582c8adb2a\n",
      "MONAI __file__: /remote/rds/users/s2086085/miniconda3/envs/torch_gpu/lib/python3.8/site-packages/monai/__init__.py\n",
      "\n",
      "Optional dependencies:\n",
      "Pytorch Ignite version: NOT INSTALLED or UNKNOWN VERSION.\n",
      "Nibabel version: 4.0.2\n",
      "scikit-image version: 0.17.2\n",
      "Pillow version: 8.1.1\n",
      "Tensorboard version: 2.8.0\n",
      "gdown version: NOT INSTALLED or UNKNOWN VERSION.\n",
      "TorchVision version: 0.8.2\n",
      "tqdm version: 4.59.0\n",
      "lmdb version: NOT INSTALLED or UNKNOWN VERSION.\n",
      "psutil version: 5.8.0\n",
      "pandas version: 1.2.0\n",
      "einops version: 0.4.1\n",
      "transformers version: NOT INSTALLED or UNKNOWN VERSION.\n",
      "mlflow version: NOT INSTALLED or UNKNOWN VERSION.\n",
      "pynrrd version: NOT INSTALLED or UNKNOWN VERSION.\n",
      "\n",
      "For details about installing the optional dependencies, please visit:\n",
      "    https://docs.monai.io/en/latest/installation.html#installing-the-recommended-dependencies\n",
      "\n"
     ]
    }
   ],
   "source": [
    "import os\n",
    "import tempfile\n",
    "import matplotlib.pyplot as plt\n",
    "import numpy as np\n",
    "from tqdm import tqdm\n",
    "import shutil\n",
    "import torch\n",
    "import torch.nn.functional as F\n",
    "from torch.cuda.amp import GradScaler, autocast\n",
    "\n",
    "from monai import transforms\n",
    "from monai.apps import DecathlonDataset\n",
    "from monai.config import print_config\n",
    "from monai.data import DataLoader, Dataset\n",
    "from monai.utils import first, set_determinism\n",
    "\n",
    "\n",
    "from generative.networks.nets.patchgan_discriminator import PatchDiscriminator\n",
    "from generative.networks.nets import AutoencoderKL, DiffusionModelUNet\n",
    "from generative.inferers import DiffusionInferer\n",
    "from generative.schedulers import DDPMScheduler\n",
    "from generative.losses.adversarial_loss import PatchAdversarialLoss\n",
    "from generative.losses.perceptual import PerceptualLoss\n",
    "from torch.nn import L1Loss\n",
    "\n",
    "print_config()"
   ]
  },
  {
   "cell_type": "code",
   "execution_count": 5,
   "id": "a21c1f6a",
   "metadata": {},
   "outputs": [],
   "source": [
    "# for reproducibility purposes set a seed\n",
    "set_determinism(42)"
   ]
  },
  {
   "cell_type": "markdown",
   "id": "2b02aa6c",
   "metadata": {},
   "source": [
    "## Setup a data directory and download dataset\n",
    "Specify a MONAI_DATA_DIRECTORY variable, where the data will be downloaded. If not specified a temporary directory will be used."
   ]
  },
  {
   "cell_type": "code",
   "execution_count": 6,
   "id": "5d450e1d",
   "metadata": {},
   "outputs": [
    {
     "name": "stdout",
     "output_type": "stream",
     "text": [
      "/home/s2086085/RDS/experiment_data\n"
     ]
    }
   ],
   "source": [
    "directory = os.environ.get(\"MONAI_DATA_DIRECTORY\")\n",
    "root_dir = tempfile.mkdtemp() if directory is None else directory\n",
    "#root_dir = \"./\"\n",
    "print(root_dir)"
   ]
  },
  {
   "cell_type": "markdown",
   "id": "74302407",
   "metadata": {},
   "source": [
    "## Download the training set"
   ]
  },
  {
   "cell_type": "code",
   "execution_count": 7,
   "id": "c34a9ba3",
   "metadata": {},
   "outputs": [
    {
     "name": "stderr",
     "output_type": "stream",
     "text": [
      "/remote/rds/users/s2086085/miniconda3/envs/torch_gpu/lib/python3.8/site-packages/monai/utils/deprecate_utils.py:107: FutureWarning: <class 'monai.transforms.utility.array.AddChannel'>: Class `AddChannel` has been deprecated since version 0.8. please use MetaTensor data type and monai.transforms.EnsureChannelFirst instead.\n",
      "  warn_deprecated(obj, msg, warning_category)\n",
      "Loading dataset: 100%|██████████| 388/388 [02:41<00:00,  2.40it/s]"
     ]
    },
    {
     "name": "stdout",
     "output_type": "stream",
     "text": [
      "Image shape torch.Size([1, 96, 96, 64])\n"
     ]
    },
    {
     "name": "stderr",
     "output_type": "stream",
     "text": [
      "\n"
     ]
    }
   ],
   "source": [
    "channel = 0 # 0 = Flair\n",
    "assert channel in [0,1,2,3], 'Choose a valid channel'\n",
    "\n",
    "train_transforms = transforms.Compose(\n",
    "    [\n",
    "        transforms.LoadImaged(keys=[\"image\"]),\n",
    "        transforms.EnsureChannelFirstd(keys=[\"image\"]),\n",
    "        transforms.Lambdad(keys=\"image\", func=lambda x: x[channel,:, :, :]),\n",
    "        transforms.AddChanneld(keys=[\"image\"]),\n",
    "        transforms.EnsureTyped(keys=[\"image\"]),\n",
    "        transforms.Orientationd(keys=[\"image\"], axcodes=\"RAS\"),\n",
    "        transforms.Spacingd(keys=[\"image\"], pixdim=(2.4, 2.4, 2.2), mode=(\"bilinear\"),),\n",
    "        transforms.CenterSpatialCropd(keys=[\"image\"],roi_size = (96, 96, 64)),\n",
    "        transforms.ScaleIntensityRangePercentilesd(keys=\"image\", lower= 0, upper= 99.5, b_min= 0, b_max= 1),\n",
    "    ]\n",
    ")\n",
    "train_ds = DecathlonDataset(root_dir=root_dir, task = 'Task01_BrainTumour', section=\"training\", #validation\n",
    "                            cache_rate=1.0, # you may need a few Gb of RAM... Set to 0 otherwise\n",
    "                            num_workers=4,\n",
    "                            download=False, # Set download to True if the dataset hasnt been downloaded yet\n",
    "                            seed=0, transform = train_transforms) \n",
    "train_loader = DataLoader(train_ds, batch_size=2, shuffle=True, num_workers=4)\n",
    "print(f'Image shape {train_ds[0][\"image\"].shape}')"
   ]
  },
  {
   "cell_type": "markdown",
   "id": "1d36e0c4",
   "metadata": {},
   "source": [
    "## Visualise examples from the training set"
   ]
  },
  {
   "cell_type": "code",
   "execution_count": 8,
   "id": "723c2dad",
   "metadata": {},
   "outputs": [
    {
     "data": {
      "text/plain": [
       "<matplotlib.image.AxesImage at 0x7f17f0d2eee0>"
      ]
     },
     "execution_count": 8,
     "metadata": {},
     "output_type": "execute_result"
    },
    {
     "data": {
      "image/png": "[encoded data removed]",
      "text/plain": [
       "<Figure size 432x288 with 3 Axes>"
      ]
     },
     "metadata": {
      "needs_background": "light"
     },
     "output_type": "display_data"
    }
   ],
   "source": [
    "# Plot axial, coronal and sagittal slices of a training sample\n",
    "check_data = first(train_loader)\n",
    "idx = 0\n",
    "\n",
    "img = check_data[\"image\"][idx,0]\n",
    "fig, axs = plt.subplots(nrows=1, ncols=3)\n",
    "for ax in axs:\n",
    "    ax.axis(\"off\")\n",
    "ax = axs[0]\n",
    "ax.imshow(img[...,img.shape[2]//2], cmap=\"gray\")\n",
    "ax = axs[1]\n",
    "ax.imshow(img[:,img.shape[1]//2, ...], cmap=\"gray\")\n",
    "ax = axs[2]\n",
    "ax.imshow(img[img.shape[0]//2, ...], cmap=\"gray\")\n",
    "#plt.savefig(\"training_examples.png\")"
   ]
  },
  {
   "cell_type": "markdown",
   "id": "76fbf127",
   "metadata": {},
   "source": [
    "## Download the validation set"
   ]
  },
  {
   "cell_type": "code",
   "execution_count": 9,
   "id": "76635d4e",
   "metadata": {},
   "outputs": [
    {
     "name": "stderr",
     "output_type": "stream",
     "text": [
      "Loading dataset: 100%|██████████| 9/9 [00:04<00:00,  1.87it/s]"
     ]
    },
    {
     "name": "stdout",
     "output_type": "stream",
     "text": [
      "Image shape torch.Size([1, 96, 96, 64])\n"
     ]
    },
    {
     "name": "stderr",
     "output_type": "stream",
     "text": [
      "\n"
     ]
    }
   ],
   "source": [
    "val_ds = DecathlonDataset(root_dir=root_dir, task = 'Task01_BrainTumour', section=\"validation\",\n",
    "                            cache_rate=0.1, # you may need a few Gb of RAM... Set to 0 otherwise\n",
    "                            num_workers=4,\n",
    "                            download=False, # Set download to True if the dataset hasnt been downloaded yet\n",
    "                            seed=0, transform = train_transforms) \n",
    "val_loader = DataLoader(val_ds, batch_size=2, shuffle=True, num_workers=4)\n",
    "print(f'Image shape {val_ds[0][\"image\"].shape}')"
   ]
  },
  {
   "cell_type": "markdown",
   "id": "513d7eee",
   "metadata": {},
   "source": [
    "## Define Networks"
   ]
  },
  {
   "cell_type": "code",
   "execution_count": 10,
   "id": "1042ebac",
   "metadata": {},
   "outputs": [
    {
     "name": "stdout",
     "output_type": "stream",
     "text": [
      "Using cuda\n"
     ]
    }
   ],
   "source": [
    "device = torch.device(\"cuda\" if torch.cuda.is_available() else \"cpu\")\n",
    "print(f\"Using {device}\")"
   ]
  },
  {
   "cell_type": "code",
   "execution_count": 11,
   "id": "383a2043",
   "metadata": {},
   "outputs": [],
   "source": [
    "autoencoder = AutoencoderKL(\n",
    "    spatial_dims=3,\n",
    "    in_channels=1,\n",
    "    out_channels=1,\n",
    "    num_channels=32,\n",
    "    latent_channels=3,\n",
    "    ch_mult=(1, 2, 2),\n",
    "    num_res_blocks=1,\n",
    "    norm_num_groups=16,\n",
    "    attention_levels=(False, False, True),\n",
    ")\n",
    "autoencoder.to(device)\n",
    "\n",
    "unet = DiffusionModelUNet(\n",
    "    spatial_dims=3,\n",
    "    in_channels=3,\n",
    "    out_channels=3,\n",
    "    num_res_blocks=1,\n",
    "    attention_resolutions=[4, 2],\n",
    "    channel_mult=[1, 2, 2],\n",
    "    model_channels=64,\n",
    "    # TODO: play with this number\n",
    "    num_heads=1,\n",
    ")\n",
    "unet.to(device)\n",
    "\n",
    "scheduler = DDPMScheduler(\n",
    "    num_train_timesteps=1000,\n",
    "    beta_schedule=\"linear\",\n",
    "    beta_start=0.0015,\n",
    "    beta_end=0.0195,\n",
    ")\n",
    "\n",
    "inferer = DiffusionInferer(scheduler)\n",
    "\n",
    "discriminator = PatchDiscriminator(\n",
    "    spatial_dims=3,\n",
    "    num_layers_d=3,\n",
    "    num_channels=32,\n",
    "    in_channels=1,\n",
    "    out_channels=1,\n",
    "    kernel_size=4,\n",
    "    activation=\"LEAKYRELU\",\n",
    "    norm=\"BATCH\",\n",
    "    bias=False,\n",
    "    padding=1,\n",
    ")\n",
    "discriminator.to(device);"
   ]
  },
  {
   "cell_type": "markdown",
   "id": "67f94d1b",
   "metadata": {},
   "source": [
    "## Define Losses"
   ]
  },
  {
   "cell_type": "code",
   "execution_count": 12,
   "id": "7594daa3",
   "metadata": {},
   "outputs": [],
   "source": [
    "l1_loss = L1Loss()\n",
    "adv_loss = PatchAdversarialLoss(criterion=\"least_squares\")\n",
    "loss_perceptual = PerceptualLoss(spatial_dims = 3, network_type = 'squeeze', is_fake_3d = True, fake_3d_ratio= 0.2)\n",
    "loss_perceptual.to(device)\n",
    "def KL_loss(z_mu, z_sigma):\n",
    "    kl_loss = 0.5 * torch.sum(z_mu.pow(2) + z_sigma.pow(2) - torch.log(z_sigma.pow(2)) - 1, dim = [1, 2, 3, 4])\n",
    "    return torch.sum(kl_loss) / kl_loss.shape[0]\n",
    "\n",
    "adv_weight = 0.01\n",
    "perceptual_weight = 0.001\n",
    "kl_weight = 1e-6"
   ]
  },
  {
   "cell_type": "code",
   "execution_count": 13,
   "id": "354a3057",
   "metadata": {},
   "outputs": [],
   "source": [
    "optimizer_g = torch.optim.Adam(params=autoencoder.parameters(), lr=1e-4)\n",
    "optimizer_d = torch.optim.Adam(params=discriminator.parameters(), lr=5e-4)"
   ]
  },
  {
   "cell_type": "markdown",
   "id": "be4fe2d4",
   "metadata": {},
   "source": [
    "## Train AutoEncoder"
   ]
  },
  {
   "cell_type": "code",
   "execution_count": 14,
   "id": "047c1bc4",
   "metadata": {},
   "outputs": [
    {
     "name": "stderr",
     "output_type": "stream",
     "text": [
      "Epoch 0: 100%|██████████████████| 194/194 [01:10<00:00,  2.75it/s, recons_loss=0.061, gen_loss=0, disc_loss=0]\n",
      "Epoch 1: 100%|█████████████████| 194/194 [01:08<00:00,  2.84it/s, recons_loss=0.0421, gen_loss=0, disc_loss=0]\n",
      "Epoch 2: 100%|█████████████████| 194/194 [01:08<00:00,  2.83it/s, recons_loss=0.0325, gen_loss=0, disc_loss=0]\n",
      "Epoch 3: 100%|█████████████████| 194/194 [01:08<00:00,  2.82it/s, recons_loss=0.0302, gen_loss=0, disc_loss=0]\n",
      "Epoch 4: 100%|██████████████████| 194/194 [01:08<00:00,  2.83it/s, recons_loss=0.028, gen_loss=0, disc_loss=0]\n",
      "Epoch 5: 100%|█████████████████| 194/194 [01:08<00:00,  2.83it/s, recons_loss=0.0275, gen_loss=0, disc_loss=0]\n",
      "Epoch 6: 100%|█████████| 194/194 [01:11<00:00,  2.73it/s, recons_loss=0.0259, gen_loss=0.381, disc_loss=0.318]\n",
      "Epoch 7: 100%|██████████| 194/194 [01:11<00:00,  2.72it/s, recons_loss=0.026, gen_loss=0.255, disc_loss=0.337]\n",
      "Epoch 8: 100%|█████████| 194/194 [01:11<00:00,  2.72it/s, recons_loss=0.0253, gen_loss=0.199, disc_loss=0.315]\n",
      "Epoch 9: 100%|█████████| 194/194 [01:11<00:00,  2.73it/s, recons_loss=0.0244, gen_loss=0.125, disc_loss=0.361]\n",
      "Epoch 10: 100%|███████| 194/194 [01:11<00:00,  2.70it/s, recons_loss=0.0257, gen_loss=0.0875, disc_loss=0.396]\n",
      "Epoch 11: 100%|███████| 194/194 [01:13<00:00,  2.65it/s, recons_loss=0.0241, gen_loss=0.0671, disc_loss=0.405]\n",
      "Epoch 12: 100%|███████| 194/194 [01:15<00:00,  2.57it/s, recons_loss=0.0233, gen_loss=0.0673, disc_loss=0.387]\n",
      "Epoch 13: 100%|███████| 194/194 [01:15<00:00,  2.57it/s, recons_loss=0.0223, gen_loss=0.0968, disc_loss=0.336]\n",
      "Epoch 14: 100%|████████| 194/194 [01:18<00:00,  2.47it/s, recons_loss=0.0226, gen_loss=0.117, disc_loss=0.313]\n",
      "Epoch 15: 100%|████████| 194/194 [01:17<00:00,  2.49it/s, recons_loss=0.0223, gen_loss=0.132, disc_loss=0.309]\n",
      "Epoch 16: 100%|████████| 194/194 [01:18<00:00,  2.48it/s, recons_loss=0.0214, gen_loss=0.147, disc_loss=0.299]\n",
      "Epoch 17: 100%|██████████| 194/194 [01:20<00:00,  2.40it/s, recons_loss=0.0221, gen_loss=0.137, disc_loss=0.3]\n",
      "Epoch 18: 100%|███████| 194/194 [01:19<00:00,  2.44it/s, recons_loss=0.0219, gen_loss=0.0995, disc_loss=0.321]\n",
      "Epoch 19: 100%|████████| 194/194 [01:20<00:00,  2.41it/s, recons_loss=0.0214, gen_loss=0.071, disc_loss=0.344]\n",
      "Epoch 20: 100%|████████| 194/194 [01:35<00:00,  2.03it/s, recons_loss=0.0211, gen_loss=0.0445, disc_loss=0.39]\n",
      "Epoch 21: 100%|████████| 194/194 [01:34<00:00,  2.06it/s, recons_loss=0.021, gen_loss=0.0705, disc_loss=0.338]\n",
      "Epoch 22: 100%|███████| 194/194 [01:27<00:00,  2.21it/s, recons_loss=0.0206, gen_loss=0.0963, disc_loss=0.312]\n",
      "Epoch 23: 100%|████████| 194/194 [01:25<00:00,  2.26it/s, recons_loss=0.0205, gen_loss=0.118, disc_loss=0.296]\n",
      "Epoch 24: 100%|██████████| 194/194 [01:25<00:00,  2.28it/s, recons_loss=0.0211, gen_loss=0.115, disc_loss=0.3]\n",
      "Epoch 25: 100%|███████| 194/194 [01:26<00:00,  2.24it/s, recons_loss=0.0201, gen_loss=0.0818, disc_loss=0.329]\n",
      "Epoch 26: 100%|███████| 194/194 [01:26<00:00,  2.25it/s, recons_loss=0.0201, gen_loss=0.0615, disc_loss=0.352]\n",
      "Epoch 27: 100%|█████████| 194/194 [01:27<00:00,  2.23it/s, recons_loss=0.02, gen_loss=0.0716, disc_loss=0.332]\n",
      "Epoch 28: 100%|████████| 194/194 [01:27<00:00,  2.22it/s, recons_loss=0.0202, gen_loss=0.101, disc_loss=0.298]\n",
      "Epoch 29: 100%|███████| 194/194 [01:25<00:00,  2.26it/s, recons_loss=0.0194, gen_loss=0.0968, disc_loss=0.297]\n"
     ]
    }
   ],
   "source": [
    "# TODO: Add lr_scheduler with warm-up\n",
    "# TODO: Add EMA model\n",
    "\n",
    "n_epochs = 30\n",
    "autoencoder_warm_up_n_epochs = 5\n",
    "val_interval = 10\n",
    "epoch_recon_loss_list = []\n",
    "epoch_gen_loss_list = []\n",
    "epoch_disc_loss_list = []\n",
    "val_recon_epoch_loss_list = []\n",
    "intermediary_images = []\n",
    "n_example_images = 4\n",
    "\n",
    "for epoch in range(n_epochs):\n",
    "    autoencoder.train()\n",
    "    discriminator.train()\n",
    "    epoch_loss = 0\n",
    "    gen_epoch_loss = 0\n",
    "    disc_epoch_loss = 0\n",
    "    progress_bar = tqdm(enumerate(train_loader), total=len(train_loader), ncols=110)\n",
    "    progress_bar.set_description(f\"Epoch {epoch}\")\n",
    "    for step, batch in progress_bar:\n",
    "        images = batch[\"image\"][:,[channel],...].to(device) # choose only one of Brats channels\n",
    "        optimizer_g.zero_grad(set_to_none=True)\n",
    "\n",
    "        # Generator part\n",
    "        reconstruction, z_mu, z_sigma  = autoencoder(images)\n",
    "        kl_loss = KL_loss(z_mu, z_sigma)\n",
    "\n",
    "        recons_loss = l1_loss(reconstruction.float(), images.float())\n",
    "        p_loss = loss_perceptual(reconstruction.float(), images.float())\n",
    "        loss_g = recons_loss + kl_weight * kl_loss + perceptual_weight * p_loss\n",
    "        \n",
    "        if epoch > autoencoder_warm_up_n_epochs:\n",
    "            logits_fake = discriminator(reconstruction.contiguous().float())[-1]\n",
    "            generator_loss = adv_loss(logits_fake, target_is_real=True, for_discriminator=False)\n",
    "            loss_g +=adv_weight * generator_loss\n",
    "\n",
    "        loss_g.backward()\n",
    "        optimizer_g.step()\n",
    "        \n",
    "        if epoch > autoencoder_warm_up_n_epochs:\n",
    "            # Discriminator part\n",
    "            logits_fake = discriminator(reconstruction.contiguous().detach())[-1]\n",
    "            loss_d_fake = adv_loss(logits_fake, target_is_real=False, for_discriminator=True)\n",
    "            logits_real = discriminator(images.contiguous().detach())[-1]\n",
    "            loss_d_real = adv_loss(logits_real, target_is_real=True, for_discriminator=True)\n",
    "            discriminator_loss = (loss_d_fake + loss_d_real) * 0.5\n",
    "\n",
    "            loss_d = adv_weight * discriminator_loss\n",
    "\n",
    "            loss_d.backward()\n",
    "            optimizer_d.step()\n",
    "\n",
    "        epoch_loss += recons_loss.item()\n",
    "        if epoch > autoencoder_warm_up_n_epochs:\n",
    "            gen_epoch_loss += generator_loss.item()\n",
    "            disc_epoch_loss += discriminator_loss.item()\n",
    "\n",
    "        progress_bar.set_postfix(\n",
    "            {\n",
    "                \"recons_loss\": epoch_loss / (step + 1),\n",
    "                \"gen_loss\": gen_epoch_loss / (step + 1),\n",
    "                \"disc_loss\": disc_epoch_loss / (step + 1),\n",
    "            }\n",
    "        )\n",
    "    epoch_recon_loss_list.append(epoch_loss / (step + 1))\n",
    "    epoch_gen_loss_list.append(gen_epoch_loss / (step + 1))\n",
    "    epoch_disc_loss_list.append(disc_epoch_loss / (step + 1))\n",
    "    # TODO: validation step"
   ]
  },
  {
   "cell_type": "code",
   "execution_count": 15,
   "id": "a27064b6",
   "metadata": {},
   "outputs": [
    {
     "data": {
      "image/png": "[encoded data removed]",
      "text/plain": [
       "<Figure size 432x288 with 1 Axes>"
      ]
     },
     "metadata": {
      "needs_background": "light"
     },
     "output_type": "display_data"
    }
   ],
   "source": [
    "plt.plot(epoch_recon_loss_list) \n",
    "plt.plot(epoch_gen_loss_list) \n",
    "plt.plot(epoch_disc_loss_list);"
   ]
  },
  {
   "cell_type": "markdown",
   "id": "92e38b28",
   "metadata": {},
   "source": [
    "### Visualise reconstructions"
   ]
  },
  {
   "cell_type": "code",
   "execution_count": 16,
   "id": "ec9685bb",
   "metadata": {},
   "outputs": [
    {
     "data": {
      "image/png": "[encoded data removed]",
      "text/plain": [
       "<Figure size 432x288 with 3 Axes>"
      ]
     },
     "metadata": {
      "needs_background": "light"
     },
     "output_type": "display_data"
    }
   ],
   "source": [
    "# Plot axial, coronal and sagittal slices of a training sample\n",
    "idx = 0\n",
    "img = reconstruction[idx, channel].detach().cpu().numpy() # images\n",
    "fig, axs = plt.subplots(nrows=1, ncols=3)\n",
    "for ax in axs:\n",
    "    ax.axis(\"off\")\n",
    "ax = axs[0]\n",
    "ax.imshow(img[...,img.shape[2]//2], cmap=\"gray\")\n",
    "ax = axs[1]\n",
    "ax.imshow(img[:,img.shape[1]//2, ...], cmap=\"gray\")\n",
    "ax = axs[2]\n",
    "ax.imshow(img[img.shape[0]//2, ...], cmap=\"gray\")\n",
    "plt.savefig(\"reconstruction_examples.png\")\n",
    "#plt.savefig(\"image_examples.png\")"
   ]
  },
  {
   "cell_type": "markdown",
   "id": "fe436141",
   "metadata": {},
   "source": [
    "## Train Diffusion Model"
   ]
  },
  {
   "cell_type": "code",
   "execution_count": 17,
   "id": "5eef3ec7",
   "metadata": {},
   "outputs": [],
   "source": [
    "optimizer_diff = torch.optim.Adam(params=unet.parameters(), lr=1e-4)"
   ]
  },
  {
   "cell_type": "code",
   "execution_count": 18,
   "id": "0a7f6459",
   "metadata": {},
   "outputs": [
    {
     "name": "stderr",
     "output_type": "stream",
     "text": [
      "Epoch 0: 100%|██████████| 194/194 [00:55<00:00,  3.48it/s, loss=0.255]\n",
      "Epoch 1: 100%|█████████| 194/194 [00:49<00:00,  3.89it/s, loss=0.0426]\n",
      "Epoch 2: 100%|█████████| 194/194 [00:52<00:00,  3.71it/s, loss=0.0392]\n",
      "Epoch 3: 100%|█████████| 194/194 [00:50<00:00,  3.82it/s, loss=0.0296]\n",
      "Epoch 4: 100%|█████████| 194/194 [00:50<00:00,  3.83it/s, loss=0.0288]\n",
      "Epoch 5: 100%|█████████| 194/194 [00:53<00:00,  3.62it/s, loss=0.0216]\n",
      "Epoch 6: 100%|█████████| 194/194 [01:01<00:00,  3.13it/s, loss=0.0212]\n",
      "Epoch 7: 100%|██████████| 194/194 [01:07<00:00,  2.89it/s, loss=0.024]\n",
      "Epoch 8: 100%|█████████| 194/194 [01:01<00:00,  3.13it/s, loss=0.0259]\n",
      "Epoch 9: 100%|█████████| 194/194 [01:04<00:00,  3.02it/s, loss=0.0175]\n",
      "Epoch 10: 100%|████████| 194/194 [01:03<00:00,  3.06it/s, loss=0.0208]\n",
      "Epoch 11: 100%|████████| 194/194 [01:04<00:00,  3.01it/s, loss=0.0198]\n",
      "Epoch 12: 100%|████████| 194/194 [01:02<00:00,  3.12it/s, loss=0.0188]\n",
      "Epoch 13: 100%|████████| 194/194 [01:01<00:00,  3.18it/s, loss=0.0167]\n",
      "Epoch 14: 100%|████████| 194/194 [01:02<00:00,  3.11it/s, loss=0.0146]\n",
      "Epoch 15: 100%|████████| 194/194 [01:01<00:00,  3.14it/s, loss=0.0166]\n",
      "Epoch 16: 100%|████████| 194/194 [01:02<00:00,  3.10it/s, loss=0.0152]\n",
      "Epoch 17: 100%|████████| 194/194 [01:01<00:00,  3.16it/s, loss=0.0179]\n",
      "Epoch 18: 100%|████████| 194/194 [00:58<00:00,  3.30it/s, loss=0.0165]\n",
      "Epoch 19: 100%|████████| 194/194 [01:03<00:00,  3.06it/s, loss=0.0187]\n",
      "Epoch 20: 100%|████████| 194/194 [01:03<00:00,  3.04it/s, loss=0.0154]\n",
      "Epoch 21: 100%|████████| 194/194 [01:07<00:00,  2.86it/s, loss=0.0146]\n",
      "Epoch 22: 100%|████████| 194/194 [01:10<00:00,  2.76it/s, loss=0.0148]\n",
      "Epoch 23: 100%|████████| 194/194 [01:10<00:00,  2.75it/s, loss=0.0134]\n",
      "Epoch 24: 100%|████████| 194/194 [01:09<00:00,  2.78it/s, loss=0.0131]\n",
      "Epoch 25: 100%|████████| 194/194 [01:13<00:00,  2.65it/s, loss=0.0171]\n",
      "Epoch 26: 100%|█████████| 194/194 [01:13<00:00,  2.65it/s, loss=0.016]\n",
      "Epoch 27: 100%|████████| 194/194 [01:10<00:00,  2.74it/s, loss=0.0153]\n",
      "Epoch 28: 100%|████████| 194/194 [01:12<00:00,  2.67it/s, loss=0.0146]\n",
      "Epoch 29: 100%|████████| 194/194 [01:12<00:00,  2.67it/s, loss=0.0146]\n"
     ]
    }
   ],
   "source": [
    "n_epochs = 30\n",
    "val_interval = 50\n",
    "epoch_loss_list = []\n",
    "val_epoch_loss_list = []\n",
    "\n",
    "autoencoder.eval()\n",
    "scaler = GradScaler()\n",
    "\n",
    "for epoch in range(n_epochs):\n",
    "    unet.train()\n",
    "    epoch_loss = 0\n",
    "    progress_bar = tqdm(enumerate(train_loader), total=len(train_loader), ncols=70)\n",
    "    progress_bar.set_description(f\"Epoch {epoch}\")\n",
    "    for step, batch in progress_bar:\n",
    "        images = batch[\"image\"][:,[channel],...].to(device)\n",
    "        optimizer_diff.zero_grad(set_to_none=True)\n",
    "        z_mu, z_sigma = autoencoder.encode(images)\n",
    "\n",
    "        with autocast(enabled=True):\n",
    "            # Generate random noise\n",
    "            noise = torch.randn_like(z_mu).to(device)\n",
    "\n",
    "            # Get model prediction\n",
    "            noise_pred = inferer(inputs=z_mu, diffusion_model=unet, noise=noise)\n",
    "\n",
    "            loss = F.mse_loss(noise_pred.float(), noise.float())\n",
    "\n",
    "        scaler.scale(loss).backward()\n",
    "        scaler.step(optimizer_diff)\n",
    "        scaler.update()\n",
    "\n",
    "        epoch_loss += loss.item()\n",
    "\n",
    "        progress_bar.set_postfix(\n",
    "            {\n",
    "                \"loss\": epoch_loss / (step + 1),\n",
    "            }\n",
    "        )\n",
    "    epoch_loss_list.append(epoch_loss / (step + 1))"
   ]
  },
  {
   "cell_type": "code",
   "execution_count": 19,
   "id": "93b93696",
   "metadata": {},
   "outputs": [
    {
     "data": {
      "image/png": "[encoded data removed]",
      "text/plain": [
       "<Figure size 432x288 with 1 Axes>"
      ]
     },
     "metadata": {
      "needs_background": "light"
     },
     "output_type": "display_data"
    }
   ],
   "source": [
    "plt.plot(epoch_loss_list);"
   ]
  },
  {
   "cell_type": "markdown",
   "id": "c9de4288",
   "metadata": {},
   "source": [
    "## Image generation"
   ]
  },
  {
   "cell_type": "code",
   "execution_count": 20,
   "id": "bc946d70",
   "metadata": {},
   "outputs": [
    {
     "name": "stderr",
     "output_type": "stream",
     "text": [
      "100%|██████████| 1000/1000 [00:41<00:00, 23.99it/s]\n"
     ]
    }
   ],
   "source": [
    "autoencoder.eval()\n",
    "unet.eval()\n",
    "\n",
    "noise = torch.randn((1, 3, 24, 24, 16))\n",
    "noise = noise.to(device)\n",
    "scheduler.set_timesteps(num_inference_steps=1000)\n",
    "latent = inferer.sample(\n",
    "    input_noise=noise, diffusion_model=unet, scheduler=scheduler\n",
    ")\n",
    "synthetic_images = autoencoder.decode(latent)"
   ]
  },
  {
   "cell_type": "markdown",
   "id": "fed68b96",
   "metadata": {},
   "source": [
    "### Visualise Synthetic"
   ]
  },
  {
   "cell_type": "code",
   "execution_count": 1,
   "id": "0763caa1",
   "metadata": {},
   "outputs": [
    {
     "ename": "NameError",
     "evalue": "name 'synthetic_images' is not defined",
     "output_type": "error",
     "traceback": [
      "\u001b[0;31m---------------------------------------------------------------------------\u001b[0m",
      "\u001b[0;31mNameError\u001b[0m                                 Traceback (most recent call last)",
      "\u001b[0;32m<ipython-input-1-7666fdbc4873>\u001b[0m in \u001b[0;36m<module>\u001b[0;34m\u001b[0m\n\u001b[1;32m      1\u001b[0m \u001b[0midx\u001b[0m \u001b[0;34m=\u001b[0m \u001b[0;36m0\u001b[0m\u001b[0;34m\u001b[0m\u001b[0;34m\u001b[0m\u001b[0m\n\u001b[0;32m----> 2\u001b[0;31m \u001b[0mimg\u001b[0m \u001b[0;34m=\u001b[0m \u001b[0msynthetic_images\u001b[0m\u001b[0;34m[\u001b[0m\u001b[0midx\u001b[0m\u001b[0;34m,\u001b[0m \u001b[0mchannel\u001b[0m\u001b[0;34m]\u001b[0m\u001b[0;34m.\u001b[0m\u001b[0mdetach\u001b[0m\u001b[0;34m(\u001b[0m\u001b[0;34m)\u001b[0m\u001b[0;34m.\u001b[0m\u001b[0mcpu\u001b[0m\u001b[0;34m(\u001b[0m\u001b[0;34m)\u001b[0m\u001b[0;34m.\u001b[0m\u001b[0mnumpy\u001b[0m\u001b[0;34m(\u001b[0m\u001b[0;34m)\u001b[0m \u001b[0;31m# images\u001b[0m\u001b[0;34m\u001b[0m\u001b[0;34m\u001b[0m\u001b[0m\n\u001b[0m\u001b[1;32m      3\u001b[0m \u001b[0mfig\u001b[0m\u001b[0;34m,\u001b[0m \u001b[0maxs\u001b[0m \u001b[0;34m=\u001b[0m \u001b[0mplt\u001b[0m\u001b[0;34m.\u001b[0m\u001b[0msubplots\u001b[0m\u001b[0;34m(\u001b[0m\u001b[0mnrows\u001b[0m\u001b[0;34m=\u001b[0m\u001b[0;36m1\u001b[0m\u001b[0;34m,\u001b[0m \u001b[0mncols\u001b[0m\u001b[0;34m=\u001b[0m\u001b[0;36m3\u001b[0m\u001b[0;34m)\u001b[0m\u001b[0;34m\u001b[0m\u001b[0;34m\u001b[0m\u001b[0m\n\u001b[1;32m      4\u001b[0m \u001b[0;32mfor\u001b[0m \u001b[0max\u001b[0m \u001b[0;32min\u001b[0m \u001b[0maxs\u001b[0m\u001b[0;34m:\u001b[0m\u001b[0;34m\u001b[0m\u001b[0;34m\u001b[0m\u001b[0m\n\u001b[1;32m      5\u001b[0m     \u001b[0max\u001b[0m\u001b[0;34m.\u001b[0m\u001b[0maxis\u001b[0m\u001b[0;34m(\u001b[0m\u001b[0;34m\"off\"\u001b[0m\u001b[0;34m)\u001b[0m\u001b[0;34m\u001b[0m\u001b[0;34m\u001b[0m\u001b[0m\n",
      "\u001b[0;31mNameError\u001b[0m: name 'synthetic_images' is not defined"
     ]
    }
   ],
   "source": [
    "idx = 0\n",
    "img = synthetic_images[idx, channel].detach().cpu().numpy() # images\n",
    "fig, axs = plt.subplots(nrows=1, ncols=3)\n",
    "for ax in axs:\n",
    "    ax.axis(\"off\")\n",
    "ax = axs[0]\n",
    "ax.imshow(img[...,img.shape[2]//2], cmap=\"gray\")\n",
    "ax = axs[1]\n",
    "ax.imshow(img[:,img.shape[1]//2, ...], cmap=\"gray\")\n",
    "ax = axs[2]\n",
    "ax.imshow(img[img.shape[0]//2, ...], cmap=\"gray\")\n",
    "plt.savefig(\"synthetic_examples.png\")"
   ]
  },
  {
   "cell_type": "markdown",
   "id": "d3ab7b79",
   "metadata": {},
   "source": [
    "## Clean-up data"
   ]
  },
  {
   "cell_type": "code",
   "execution_count": 22,
   "id": "52b71f99",
   "metadata": {},
   "outputs": [],
   "source": [
    "if directory is None:\n",
    "    shutil.rmtree(root_dir)"
   ]
  }
 ],
 "metadata": {
  "jupytext": {
   "cell_metadata_filter": "-all",
   "formats": "ipynb,py",
   "main_language": "python"
  },
  "kernelspec": {
   "display_name": "Python 3.8.2 ('torch_gpu')",
   "language": "python",
   "name": "python3"
  },
  "language_info": {
   "codemirror_mode": {
    "name": "ipython",
    "version": 3
   },
   "file_extension": ".py",
   "mimetype": "text/x-python",
   "name": "python",
   "nbconvert_exporter": "python",
   "pygments_lexer": "ipython3",
   "version": "3.8.2"
  },
  "vscode": {
   "interpreter": {
    "hash": "a7e6f8385898884a13cbe220eefefb32cba5012927a94186742ddc14746e4dba"
   }
  }
 },
 "nbformat": 4,
 "nbformat_minor": 5
}
