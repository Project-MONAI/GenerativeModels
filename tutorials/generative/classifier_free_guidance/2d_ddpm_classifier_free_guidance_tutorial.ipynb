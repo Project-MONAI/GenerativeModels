{
 "cells": [
  {
   "cell_type": "code",
   "execution_count": null,
   "id": "470cb233",
   "metadata": {},
   "outputs": [],
   "source": [
    "# Copyright (c) MONAI Consortium\n",
    "# Licensed under the Apache License, Version 2.0 (the \"License\");\n",
    "# you may not use this file except in compliance with the License.\n",
    "# You may obtain a copy of the License at\n",
    "#     http://www.apache.org/licenses/LICENSE-2.0\n",
    "# Unless required by applicable law or agreed to in writing, software\n",
    "# distributed under the License is distributed on an \"AS IS\" BASIS,\n",
    "# WITHOUT WARRANTIES OR CONDITIONS OF ANY KIND, either express or implied.\n",
    "# See the License for the specific language governing permissions and\n",
    "# limitations under the License."
   ]
  },
  {
   "cell_type": "markdown",
   "id": "63d95da6",
   "metadata": {},
   "source": [
    "# Classifier-free Guidance\n",
    "\n",
    "This tutorial illustrates how to use MONAI for training a denoising diffusion probabilistic model (DDPM)[1] to create synthetic 2D images using the classifier-free guidance technique [2] to perform conditioning.\n",
    "\n",
    "\n",
    "[1] - Ho et al. \"Denoising Diffusion Probabilistic Models\" https://arxiv.org/abs/2006.11239\n",
    "[2] - Ho and Salimans \"Classifier-Free Diffusion Guidance\" https://arxiv.org/abs/2207.12598\n",
    "\n",
    "\n",
    "\n",
    "## Setup environment"
   ]
  },
  {
   "cell_type": "code",
   "execution_count": 1,
   "id": "75f2d5f3",
   "metadata": {},
   "outputs": [],
   "source": [
    "!python -c \"import monai\" || pip install -q \"monai-weekly[tqdm]\"\n",
    "!python -c \"import matplotlib\" || pip install -q matplotlib\n",
    "%matplotlib inline"
   ]
  },
  {
   "cell_type": "markdown",
   "id": "6b766027",
   "metadata": {},
   "source": [
    "## Setup imports"
   ]
  },
  {
   "cell_type": "code",
   "execution_count": 2,
   "id": "972ed3f3",
   "metadata": {
    "jupyter": {
     "outputs_hidden": false
    }
   },
   "outputs": [
    {
     "name": "stdout",
     "output_type": "stream",
     "text": [
      "MONAI version: 1.1.dev2239\n",
      "Numpy version: 1.23.3\n",
      "Pytorch version: 1.8.0+cu111\n",
      "MONAI flags: HAS_EXT = False, USE_COMPILED = False, USE_META_DICT = False\n",
      "MONAI rev id: 13b24fa92b9d98bd0dc6d5cdcb52504fd09e297b\n",
      "MONAI __file__: /media/walter/Storage/Projects/GenerativeModels/venv/lib/python3.8/site-packages/monai/__init__.py\n",
      "\n",
      "Optional dependencies:\n",
      "Pytorch Ignite version: 0.4.10\n",
      "Nibabel version: 4.0.2\n",
      "scikit-image version: NOT INSTALLED or UNKNOWN VERSION.\n",
      "Pillow version: 9.2.0\n",
      "Tensorboard version: 2.11.0\n",
      "gdown version: NOT INSTALLED or UNKNOWN VERSION.\n",
      "TorchVision version: 0.9.0+cu111\n",
      "tqdm version: 4.64.1\n",
      "lmdb version: NOT INSTALLED or UNKNOWN VERSION.\n",
      "psutil version: 5.9.3\n",
      "pandas version: NOT INSTALLED or UNKNOWN VERSION.\n",
      "einops version: 0.6.0\n",
      "transformers version: NOT INSTALLED or UNKNOWN VERSION.\n",
      "mlflow version: NOT INSTALLED or UNKNOWN VERSION.\n",
      "pynrrd version: NOT INSTALLED or UNKNOWN VERSION.\n",
      "\n",
      "For details about installing the optional dependencies, please visit:\n",
      "    https://docs.monai.io/en/latest/installation.html#installing-the-recommended-dependencies\n",
      "\n"
     ]
    }
   ],
   "source": [
    "import os\n",
    "import shutil\n",
    "import tempfile\n",
    "import time\n",
    "\n",
    "import matplotlib.pyplot as plt\n",
    "import numpy as np\n",
    "import torch\n",
    "import torch.nn.functional as F\n",
    "from monai import transforms\n",
    "from monai.apps import MedNISTDataset\n",
    "from monai.config import print_config\n",
    "from monai.data import CacheDataset, DataLoader\n",
    "from monai.utils import first, set_determinism\n",
    "from torch.cuda.amp import GradScaler, autocast\n",
    "from tqdm import tqdm\n",
    "\n",
    "from generative.inferers import DiffusionInferer\n",
    "from generative.networks.nets import DiffusionModelUNet\n",
    "from generative.networks.schedulers import DDPMScheduler\n",
    "\n",
    "print_config()"
   ]
  },
  {
   "cell_type": "markdown",
   "id": "7d4ff515",
   "metadata": {},
   "source": [
    "## Setup data directory"
   ]
  },
  {
   "cell_type": "code",
   "execution_count": 3,
   "id": "8b4323e7",
   "metadata": {
    "jupyter": {
     "outputs_hidden": false
    }
   },
   "outputs": [
    {
     "name": "stdout",
     "output_type": "stream",
     "text": [
      "/tmp/tmp142o2qtd\n"
     ]
    }
   ],
   "source": [
    "directory = os.environ.get(\"MONAI_DATA_DIRECTORY\")\n",
    "root_dir = tempfile.mkdtemp() if directory is None else directory\n",
    "print(root_dir)"
   ]
  },
  {
   "cell_type": "markdown",
   "id": "99175d50",
   "metadata": {},
   "source": [
    "## Set deterministic training for reproducibility"
   ]
  },
  {
   "cell_type": "code",
   "execution_count": 4,
   "id": "34ea510f",
   "metadata": {
    "jupyter": {
     "outputs_hidden": false
    }
   },
   "outputs": [],
   "source": [
    "set_determinism(42)"
   ]
  },
  {
   "cell_type": "markdown",
   "id": "fac55e9d",
   "metadata": {},
   "source": [
    "## Setup MedNIST Dataset and training and validation dataloaders\n",
    "In this tutorial, we will train our models on the MedNIST dataset available on MONAI\n",
    "(https://docs.monai.io/en/stable/apps.html#monai.apps.MedNISTDataset).\n",
    "Here, we will use the \"Hand\" and \"HeadCT\", where our conditioning variable `class` will specify the modality."
   ]
  },
  {
   "cell_type": "code",
   "execution_count": 5,
   "id": "da1927b0",
   "metadata": {
    "jupyter": {
     "outputs_hidden": false
    }
   },
   "outputs": [
    {
     "name": "stdout",
     "output_type": "stream",
     "text": [
      "2022-12-10 11:50:40,187 - INFO - Downloaded: /tmp/tmp142o2qtd/MedNIST.tar.gz\n",
      "2022-12-10 11:50:40,255 - INFO - Verified 'MedNIST.tar.gz', md5: 0bc7306e7427e00ad1c5526a6677552d.\n",
      "2022-12-10 11:50:40,256 - INFO - Writing into directory: /tmp/tmp142o2qtd.\n"
     ]
    }
   ],
   "source": [
    "train_data = MedNISTDataset(root_dir=root_dir, section=\"training\", download=True, progress=False, seed=0)\n",
    "train_datalist = []\n",
    "for item in train_data.data:\n",
    "    if item[\"class_name\"] in [\"Hand\", \"HeadCT\"]:\n",
    "        train_datalist.append({\"image\": item[\"image\"], \"class\": 1 if item[\"class_name\"] == \"Hand\" else 2})"
   ]
  },
  {
   "cell_type": "markdown",
   "id": "6986f55c",
   "metadata": {},
   "source": [
    "Here we use transforms to augment the training dataset, as usual:\n",
    "\n",
    "1. `LoadImaged` loads the hands images from files.\n",
    "1. `EnsureChannelFirstd` ensures the original data to construct \"channel first\" shape.\n",
    "1. `ScaleIntensityRanged` extracts intensity range [0, 255] and scales to [0, 1].\n",
    "1. `RandAffined` efficiently performs rotate, scale, shear, translate, etc. together based on PyTorch affine transform.\n",
    "\n",
    "### Classifier-free guidance during training\n",
    "\n",
    "In order to use the classifier-free guidance during training time, we need to not just have the `class` variable saying the modality of the image (`1` for Hands and `2` for HeadCTs) but we also need to train the model with an \"unconditional\" class.\n",
    "Here we specify the \"unconditional\" class with the value `-1` with a probability of training on unconditional being 15%. Specified in the following line using MONAI's RandLambdad:\n",
    "\n",
    "`transforms.RandLambdad(keys=[\"class\"], prob=0.15, func=lambda x: -1 * torch.ones_like(x))`\n",
    "\n",
    "Finally, our conditioning variable need to have the format (batch_size, 1, cross_attention_dim) when feeding into the model. For this reason, we use Lambdad to reshape our variables in the right format."
   ]
  },
  {
   "cell_type": "code",
   "execution_count": 6,
   "id": "e3184009",
   "metadata": {
    "jupyter": {
     "outputs_hidden": false
    }
   },
   "outputs": [
    {
     "name": "stderr",
     "output_type": "stream",
     "text": [
      "Loading dataset: 100%|██████████████████████████████████████████████████████████████████████████████████████████████████████████████████████████████████████████████████████████████████| 15990/15990 [00:08<00:00, 1784.85it/s]\n"
     ]
    }
   ],
   "source": [
    "train_transforms = transforms.Compose(\n",
    "    [\n",
    "        transforms.LoadImaged(keys=[\"image\"]),\n",
    "        transforms.EnsureChannelFirstd(keys=[\"image\"]),\n",
    "        transforms.ScaleIntensityRanged(keys=[\"image\"], a_min=0.0, a_max=255.0, b_min=0.0, b_max=1.0, clip=True),\n",
    "        transforms.RandAffined(\n",
    "            keys=[\"image\"],\n",
    "            rotate_range=[(-np.pi / 36, np.pi / 36), (-np.pi / 36, np.pi / 36)],\n",
    "            translate_range=[(-1, 1), (-1, 1)],\n",
    "            scale_range=[(-0.05, 0.05), (-0.05, 0.05)],\n",
    "            spatial_size=[64, 64],\n",
    "            padding_mode=\"zeros\",\n",
    "            prob=0.5,\n",
    "        ),\n",
    "        transforms.RandLambdad(keys=[\"class\"], prob=0.15, func=lambda x: -1 * torch.ones_like(x)),\n",
    "        transforms.Lambdad(\n",
    "            keys=[\"class\"], func=lambda x: torch.tensor(x, dtype=torch.float32).unsqueeze(0).unsqueeze(0)\n",
    "        ),\n",
    "    ]\n",
    ")\n",
    "train_ds = CacheDataset(data=train_datalist, transform=train_transforms)\n",
    "train_loader = DataLoader(train_ds, batch_size=128, shuffle=True, num_workers=4, persistent_workers=True)"
   ]
  },
  {
   "cell_type": "code",
   "execution_count": 7,
   "id": "4c11b93f",
   "metadata": {
    "jupyter": {
     "outputs_hidden": false
    }
   },
   "outputs": [
    {
     "name": "stdout",
     "output_type": "stream",
     "text": [
      "2022-12-10 11:51:08,067 - INFO - Verified 'MedNIST.tar.gz', md5: 0bc7306e7427e00ad1c5526a6677552d.\n",
      "2022-12-10 11:51:08,067 - INFO - File exists: /tmp/tmp142o2qtd/MedNIST.tar.gz, skipped downloading.\n",
      "2022-12-10 11:51:08,068 - INFO - Non-empty folder exists in /tmp/tmp142o2qtd/MedNIST, skipped extracting.\n"
     ]
    },
    {
     "name": "stderr",
     "output_type": "stream",
     "text": [
      "Loading dataset: 100%|████████████████████████████████████████████████████████████████████████████████████████████████████████████████████████████████████████████████████████████████████| 1977/1977 [00:01<00:00, 1545.02it/s]\n"
     ]
    }
   ],
   "source": [
    "val_data = MedNISTDataset(root_dir=root_dir, section=\"validation\", download=True, progress=False, seed=0)\n",
    "val_datalist = []\n",
    "for item in val_data.data:\n",
    "    if item[\"class_name\"] in [\"Hand\", \"HeadCT\"]:\n",
    "        val_datalist.append({\"image\": item[\"image\"], \"class\": 1 if item[\"class_name\"] == \"Hand\" else 2})\n",
    "\n",
    "\n",
    "val_transforms = transforms.Compose(\n",
    "    [\n",
    "        transforms.LoadImaged(keys=[\"image\"]),\n",
    "        transforms.EnsureChannelFirstd(keys=[\"image\"]),\n",
    "        transforms.ScaleIntensityRanged(keys=[\"image\"], a_min=0.0, a_max=255.0, b_min=0.0, b_max=1.0, clip=True),\n",
    "        transforms.Lambdad(\n",
    "            keys=[\"class\"], func=lambda x: torch.tensor(x, dtype=torch.float32).unsqueeze(0).unsqueeze(0)\n",
    "        ),\n",
    "    ]\n",
    ")\n",
    "val_ds = CacheDataset(data=val_datalist, transform=val_transforms)\n",
    "val_loader = DataLoader(val_ds, batch_size=128, shuffle=False, num_workers=4, persistent_workers=True)"
   ]
  },
  {
   "cell_type": "markdown",
   "id": "7f108ebb",
   "metadata": {},
   "source": [
    "### Visualisation of the training images"
   ]
  },
  {
   "cell_type": "code",
   "execution_count": 8,
   "id": "4105a01f",
   "metadata": {
    "jupyter": {
     "outputs_hidden": false
    }
   },
   "outputs": [
    {
     "name": "stderr",
     "output_type": "stream",
     "text": [
      "/tmp/ipykernel_16221/734547315.py:17: UserWarning: To copy construct from a tensor, it is recommended to use sourceTensor.clone().detach() or sourceTensor.clone().detach().requires_grad_(True), rather than torch.tensor(sourceTensor).\n",
      "  keys=[\"class\"], func=lambda x: torch.tensor(x, dtype=torch.float32).unsqueeze(0).unsqueeze(0)\n",
      "/tmp/ipykernel_16221/734547315.py:17: UserWarning: To copy construct from a tensor, it is recommended to use sourceTensor.clone().detach() or sourceTensor.clone().detach().requires_grad_(True), rather than torch.tensor(sourceTensor).\n",
      "  keys=[\"class\"], func=lambda x: torch.tensor(x, dtype=torch.float32).unsqueeze(0).unsqueeze(0)\n",
      "/tmp/ipykernel_16221/734547315.py:17: UserWarning: To copy construct from a tensor, it is recommended to use sourceTensor.clone().detach() or sourceTensor.clone().detach().requires_grad_(True), rather than torch.tensor(sourceTensor).\n",
      "  keys=[\"class\"], func=lambda x: torch.tensor(x, dtype=torch.float32).unsqueeze(0).unsqueeze(0)\n",
      "/tmp/ipykernel_16221/734547315.py:17: UserWarning: To copy construct from a tensor, it is recommended to use sourceTensor.clone().detach() or sourceTensor.clone().detach().requires_grad_(True), rather than torch.tensor(sourceTensor).\n",
      "  keys=[\"class\"], func=lambda x: torch.tensor(x, dtype=torch.float32).unsqueeze(0).unsqueeze(0)\n"
     ]
    },
    {
     "name": "stdout",
     "output_type": "stream",
     "text": [
      "batch shape: (128, 1, 64, 64)\n"
     ]
    },
    {
     "data": {
      "image/png": "[encoded data removed]",
      "text/plain": [
       "<Figure size 1200x600 with 1 Axes>"
      ]
     },
     "metadata": {},
     "output_type": "display_data"
    }
   ],
   "source": [
    "check_data = first(train_loader)\n",
    "print(f\"batch shape: {check_data['image'].shape}\")\n",
    "image_visualisation = torch.cat(\n",
    "    [check_data[\"image\"][0, 0], check_data[\"image\"][1, 0], check_data[\"image\"][2, 0], check_data[\"image\"][3, 0]], dim=1\n",
    ")\n",
    "plt.figure(\"training images\", (12, 6))\n",
    "plt.imshow(image_visualisation, vmin=0, vmax=1, cmap=\"gray\")\n",
    "plt.axis(\"off\")\n",
    "plt.tight_layout()\n",
    "plt.show()"
   ]
  },
  {
   "cell_type": "markdown",
   "id": "08428bc6",
   "metadata": {},
   "source": [
    "### Define network, scheduler, optimizer, and inferer\n",
    "At this step, we instantiate the MONAI components to create a DDPM, the UNET, the noise scheduler, and the inferer used for training and sampling. We are using\n",
    "the original DDPM scheduler containing 1000 timesteps in its Markov chain, and a 2D UNET with attention mechanisms\n",
    "in the 3rd level, each with 1 attention head (`num_head_channels=64`).\n",
    "\n",
    "In order to pass conditioning variables with dimension of 1 (just specifying the modality of the image), we use:\n",
    "\n",
    "`\n",
    "with_conditioning=True,\n",
    "cross_attention_dim=1,\n",
    "`"
   ]
  },
  {
   "cell_type": "code",
   "execution_count": 9,
   "id": "bee5913e",
   "metadata": {
    "jupyter": {
     "outputs_hidden": false
    },
    "lines_to_next_cell": 0
   },
   "outputs": [],
   "source": [
    "device = torch.device(\"cuda\")\n",
    "\n",
    "model = DiffusionModelUNet(\n",
    "    spatial_dims=2,\n",
    "    in_channels=1,\n",
    "    out_channels=1,\n",
    "    num_channels=(64, 64, 64),\n",
    "    attention_levels=(False, False, True),\n",
    "    num_res_blocks=1,\n",
    "    num_head_channels=(0, 0, 64),\n",
    "    with_conditioning=True,\n",
    "    cross_attention_dim=1,\n",
    ")\n",
    "model.to(device)\n",
    "\n",
    "scheduler = DDPMScheduler(num_train_timesteps=1000)\n",
    "\n",
    "optimizer = torch.optim.Adam(params=model.parameters(), lr=2.5e-5)\n",
    "\n",
    "inferer = DiffusionInferer(scheduler)"
   ]
  },
  {
   "cell_type": "markdown",
   "id": "2a4d3ab2",
   "metadata": {},
   "source": [
    "### Model training\n",
    "Here, we are training our model for 75 epochs (training time: ~50 minutes)."
   ]
  },
  {
   "cell_type": "code",
   "execution_count": 10,
   "id": "6c0ed909",
   "metadata": {
    "jupyter": {
     "outputs_hidden": false
    },
    "lines_to_next_cell": 0
   },
   "outputs": [
    {
     "name": "stderr",
     "output_type": "stream",
     "text": [
      "Epoch 0: 100%|██████████| 125/125 [00:27<00:00,  4.61it/s, loss=0.723]\n",
      "Epoch 1: 100%|██████████| 125/125 [00:27<00:00,  4.60it/s, loss=0.276]\n",
      "Epoch 2: 100%|█████████| 125/125 [00:27<00:00,  4.57it/s, loss=0.0965]\n",
      "Epoch 3: 100%|█████████| 125/125 [00:27<00:00,  4.62it/s, loss=0.0376]\n",
      "Epoch 4: 100%|█████████| 125/125 [00:27<00:00,  4.59it/s, loss=0.0224]\n",
      "Epoch 5: 100%|█████████| 125/125 [00:27<00:00,  4.47it/s, loss=0.0187]\n",
      "Epoch 6: 100%|█████████| 125/125 [00:27<00:00,  4.52it/s, loss=0.0179]\n",
      "Epoch 7: 100%|█████████| 125/125 [00:28<00:00,  4.44it/s, loss=0.0169]\n",
      "Epoch 8: 100%|█████████| 125/125 [00:27<00:00,  4.56it/s, loss=0.0161]\n",
      "Epoch 9: 100%|██████████| 125/125 [00:27<00:00,  4.50it/s, loss=0.016]\n",
      "Epoch 10: 100%|████████| 125/125 [00:27<00:00,  4.52it/s, loss=0.0156]\n",
      "Epoch 11: 100%|████████| 125/125 [00:27<00:00,  4.57it/s, loss=0.0152]\n",
      "Epoch 12: 100%|████████| 125/125 [00:27<00:00,  4.56it/s, loss=0.0152]\n",
      "Epoch 13: 100%|████████| 125/125 [00:27<00:00,  4.54it/s, loss=0.0151]\n",
      "Epoch 14: 100%|████████| 125/125 [00:27<00:00,  4.57it/s, loss=0.0147]\n",
      "Epoch 15: 100%|████████| 125/125 [00:27<00:00,  4.56it/s, loss=0.0151]\n",
      "Epoch 16: 100%|████████| 125/125 [00:27<00:00,  4.55it/s, loss=0.0151]\n",
      "Epoch 17: 100%|████████| 125/125 [00:27<00:00,  4.52it/s, loss=0.0146]\n",
      "Epoch 18: 100%|████████| 125/125 [00:27<00:00,  4.56it/s, loss=0.0144]\n",
      "Epoch 19: 100%|████████| 125/125 [00:27<00:00,  4.54it/s, loss=0.0143]\n",
      "Epoch 20: 100%|████████| 125/125 [00:27<00:00,  4.52it/s, loss=0.0145]\n",
      "Epoch 21: 100%|████████| 125/125 [00:27<00:00,  4.53it/s, loss=0.0143]\n",
      "Epoch 22: 100%|████████| 125/125 [00:27<00:00,  4.54it/s, loss=0.0138]\n",
      "Epoch 23: 100%|████████| 125/125 [00:27<00:00,  4.57it/s, loss=0.0135]\n",
      "Epoch 24: 100%|████████| 125/125 [00:27<00:00,  4.55it/s, loss=0.0134]\n",
      "Epoch 25: 100%|████████| 125/125 [00:27<00:00,  4.49it/s, loss=0.0135]\n",
      "Epoch 26: 100%|████████| 125/125 [00:27<00:00,  4.57it/s, loss=0.0135]\n",
      "Epoch 27: 100%|████████| 125/125 [00:27<00:00,  4.55it/s, loss=0.0136]\n",
      "Epoch 28: 100%|████████| 125/125 [00:27<00:00,  4.54it/s, loss=0.0135]\n",
      "Epoch 29: 100%|████████| 125/125 [00:27<00:00,  4.57it/s, loss=0.0131]\n",
      "Epoch 30: 100%|████████| 125/125 [00:27<00:00,  4.57it/s, loss=0.0128]\n",
      "Epoch 31: 100%|████████| 125/125 [00:27<00:00,  4.54it/s, loss=0.0129]\n",
      "Epoch 32: 100%|████████| 125/125 [00:27<00:00,  4.55it/s, loss=0.0128]\n",
      "Epoch 33: 100%|████████| 125/125 [00:27<00:00,  4.57it/s, loss=0.0135]\n",
      "Epoch 34: 100%|████████| 125/125 [00:27<00:00,  4.52it/s, loss=0.0138]\n",
      "Epoch 35: 100%|████████| 125/125 [00:27<00:00,  4.56it/s, loss=0.0131]\n",
      "Epoch 36: 100%|████████| 125/125 [00:27<00:00,  4.55it/s, loss=0.0132]\n",
      "Epoch 37: 100%|████████| 125/125 [00:27<00:00,  4.54it/s, loss=0.0125]\n",
      "Epoch 38: 100%|████████| 125/125 [00:27<00:00,  4.54it/s, loss=0.0124]\n",
      "Epoch 39: 100%|████████| 125/125 [00:27<00:00,  4.57it/s, loss=0.0124]\n",
      "Epoch 40: 100%|████████| 125/125 [00:27<00:00,  4.54it/s, loss=0.0132]\n",
      "Epoch 41: 100%|████████| 125/125 [00:27<00:00,  4.54it/s, loss=0.0128]\n",
      "Epoch 42: 100%|████████| 125/125 [00:27<00:00,  4.55it/s, loss=0.0122]\n",
      "Epoch 43: 100%|████████| 125/125 [00:27<00:00,  4.54it/s, loss=0.0127]\n",
      "Epoch 44: 100%|████████| 125/125 [00:27<00:00,  4.56it/s, loss=0.0129]\n",
      "Epoch 45: 100%|████████| 125/125 [00:27<00:00,  4.56it/s, loss=0.0132]\n",
      "Epoch 46: 100%|████████| 125/125 [00:27<00:00,  4.53it/s, loss=0.0125]\n",
      "Epoch 47: 100%|████████| 125/125 [00:27<00:00,  4.56it/s, loss=0.0123]\n",
      "Epoch 48: 100%|████████| 125/125 [00:27<00:00,  4.57it/s, loss=0.0123]\n",
      "Epoch 49: 100%|████████| 125/125 [00:27<00:00,  4.55it/s, loss=0.0125]\n",
      "Epoch 50: 100%|████████| 125/125 [00:27<00:00,  4.54it/s, loss=0.0127]\n",
      "Epoch 51: 100%|████████| 125/125 [00:27<00:00,  4.54it/s, loss=0.0125]\n",
      "Epoch 52: 100%|████████| 125/125 [00:27<00:00,  4.52it/s, loss=0.0124]\n",
      "Epoch 53: 100%|████████| 125/125 [00:27<00:00,  4.55it/s, loss=0.0127]\n",
      "Epoch 54: 100%|████████| 125/125 [00:27<00:00,  4.55it/s, loss=0.0123]\n",
      "Epoch 55: 100%|████████| 125/125 [00:27<00:00,  4.55it/s, loss=0.0127]\n",
      "Epoch 56: 100%|█████████| 125/125 [00:27<00:00,  4.58it/s, loss=0.012]\n",
      "Epoch 57: 100%|████████| 125/125 [00:27<00:00,  4.58it/s, loss=0.0126]\n",
      "Epoch 58: 100%|████████| 125/125 [00:27<00:00,  4.57it/s, loss=0.0121]\n",
      "Epoch 59: 100%|████████| 125/125 [00:27<00:00,  4.59it/s, loss=0.0126]\n",
      "Epoch 60: 100%|████████| 125/125 [00:27<00:00,  4.60it/s, loss=0.0119]\n",
      "Epoch 61: 100%|████████| 125/125 [00:27<00:00,  4.59it/s, loss=0.0122]\n",
      "Epoch 62: 100%|████████| 125/125 [00:27<00:00,  4.57it/s, loss=0.0119]\n",
      "Epoch 63: 100%|████████| 125/125 [00:27<00:00,  4.59it/s, loss=0.0125]\n",
      "Epoch 64: 100%|████████| 125/125 [00:27<00:00,  4.56it/s, loss=0.0121]\n",
      "Epoch 65: 100%|████████| 125/125 [00:27<00:00,  4.58it/s, loss=0.0121]\n",
      "Epoch 66: 100%|████████| 125/125 [00:27<00:00,  4.58it/s, loss=0.0117]\n",
      "Epoch 67: 100%|████████| 125/125 [00:27<00:00,  4.56it/s, loss=0.0121]\n",
      "Epoch 68: 100%|████████| 125/125 [00:27<00:00,  4.59it/s, loss=0.0123]\n",
      "Epoch 69: 100%|████████| 125/125 [00:27<00:00,  4.57it/s, loss=0.0121]\n",
      "Epoch 70: 100%|█████████| 125/125 [00:27<00:00,  4.57it/s, loss=0.012]\n",
      "Epoch 71: 100%|████████| 125/125 [00:27<00:00,  4.59it/s, loss=0.0118]\n",
      "Epoch 72: 100%|████████| 125/125 [00:27<00:00,  4.59it/s, loss=0.0117]\n",
      "Epoch 73: 100%|████████| 125/125 [00:27<00:00,  4.58it/s, loss=0.0119]\n",
      "Epoch 74: 100%|████████| 125/125 [00:27<00:00,  4.56it/s, loss=0.0125]\n"
     ]
    },
    {
     "name": "stdout",
     "output_type": "stream",
     "text": [
      "train completed, total time: 2074.1517136096954.\n"
     ]
    }
   ],
   "source": [
    "n_epochs = 75\n",
    "val_interval = 5\n",
    "epoch_loss_list = []\n",
    "val_epoch_loss_list = []\n",
    "\n",
    "scaler = GradScaler()\n",
    "total_start = time.time()\n",
    "for epoch in range(n_epochs):\n",
    "    model.train()\n",
    "    epoch_loss = 0\n",
    "    progress_bar = tqdm(enumerate(train_loader), total=len(train_loader), ncols=70)\n",
    "    progress_bar.set_description(f\"Epoch {epoch}\")\n",
    "    for step, batch in progress_bar:\n",
    "        images = batch[\"image\"].to(device)\n",
    "        classes = batch[\"class\"].to(device)\n",
    "        optimizer.zero_grad(set_to_none=True)\n",
    "\n",
    "        with autocast(enabled=True):\n",
    "            # Generate random noise\n",
    "            noise = torch.randn_like(images).to(device)\n",
    "\n",
    "            # Get model prediction\n",
    "            noise_pred = inferer(inputs=images, diffusion_model=model, noise=noise, condition=classes)\n",
    "\n",
    "            loss = F.mse_loss(noise_pred.float(), noise.float())\n",
    "\n",
    "        scaler.scale(loss).backward()\n",
    "        scaler.step(optimizer)\n",
    "        scaler.update()\n",
    "\n",
    "        epoch_loss += loss.item()\n",
    "\n",
    "        progress_bar.set_postfix({\"loss\": epoch_loss / (step + 1)})\n",
    "    epoch_loss_list.append(epoch_loss / (step + 1))\n",
    "\n",
    "    if (epoch + 1) % val_interval == 0:\n",
    "        model.eval()\n",
    "        val_epoch_loss = 0\n",
    "        for step, batch in enumerate(val_loader):\n",
    "            images = batch[\"image\"].to(device)\n",
    "            classes = batch[\"class\"].to(device)\n",
    "            with torch.no_grad():\n",
    "                with autocast(enabled=True):\n",
    "                    noise = torch.randn_like(images).to(device)\n",
    "                    noise_pred = inferer(inputs=images, diffusion_model=model, noise=noise, condition=classes)\n",
    "                    val_loss = F.mse_loss(noise_pred.float(), noise.float())\n",
    "\n",
    "            val_epoch_loss += val_loss.item()\n",
    "            progress_bar.set_postfix({\"val_loss\": val_epoch_loss / (step + 1)})\n",
    "        val_epoch_loss_list.append(val_epoch_loss / (step + 1))\n",
    "\n",
    "total_time = time.time() - total_start\n",
    "print(f\"train completed, total time: {total_time}.\")"
   ]
  },
  {
   "cell_type": "markdown",
   "id": "a676b3fe",
   "metadata": {},
   "source": [
    "### Learning curves"
   ]
  },
  {
   "cell_type": "code",
   "execution_count": 11,
   "id": "f8385176",
   "metadata": {
    "jupyter": {
     "outputs_hidden": false
    }
   },
   "outputs": [
    {
     "data": {
      "image/png": "[encoded data removed]",
      "text/plain": [
       "<Figure size 800x550 with 1 Axes>"
      ]
     },
     "metadata": {},
     "output_type": "display_data"
    }
   ],
   "source": [
    "plt.style.use(\"seaborn-v0_8\")\n",
    "plt.title(\"Learning Curves\", fontsize=20)\n",
    "plt.plot(np.linspace(1, n_epochs, n_epochs), epoch_loss_list, color=\"C0\", linewidth=2.0, label=\"Train\")\n",
    "plt.plot(\n",
    "    np.linspace(val_interval, n_epochs, int(n_epochs / val_interval)),\n",
    "    val_epoch_loss_list,\n",
    "    color=\"C1\",\n",
    "    linewidth=2.0,\n",
    "    label=\"Validation\",\n",
    ")\n",
    "plt.yticks(fontsize=12)\n",
    "plt.xticks(fontsize=12)\n",
    "plt.xlabel(\"Epochs\", fontsize=16)\n",
    "plt.ylabel(\"Loss\", fontsize=16)\n",
    "plt.legend(prop={\"size\": 14})\n",
    "plt.show()"
   ]
  },
  {
   "cell_type": "markdown",
   "id": "0cd48c2d",
   "metadata": {},
   "source": [
    "### Sampling process with classifier-free guidance\n",
    "In order to sample using classifier-free guidance, for each step of the process we need to have 2 elements, one generated conditioned in the desired class (here we want to condition on Hands `=1`) and one using the unconditional class (`=-1`).\n",
    "Instead using directly the predicted class in every step, we use the unconditional plus the direction vector pointing to the condition that we want (`noise_pred_text - noise_pred_uncond`). The effect of the condition is defined by the `guidance_scale` defining the influence of our direction vector."
   ]
  },
  {
   "cell_type": "code",
   "execution_count": 15,
   "id": "f71e4924",
   "metadata": {
    "jupyter": {
     "outputs_hidden": false
    }
   },
   "outputs": [
    {
     "name": "stderr",
     "output_type": "stream",
     "text": [
      "100%|███████████████████████████████████████████████████████████████████████████████████████████████████████████████████████████████████████████████████████████████████████████████████████| 1000/1000 [00:14<00:00, 71.08it/s]\n"
     ]
    },
    {
     "data": {
      "image/png": "[encoded data removed]",
      "text/plain": [
       "<Figure size 640x480 with 1 Axes>"
      ]
     },
     "metadata": {},
     "output_type": "display_data"
    }
   ],
   "source": [
    "model.eval()\n",
    "guidance_scale = 7.0\n",
    "conditioning = torch.cat([-1 * torch.ones(1, 1, 1).float(), torch.ones(1, 1, 1).float()], dim=0).to(device)\n",
    "\n",
    "noise = torch.randn((1, 1, 64, 64))\n",
    "noise = noise.to(device)\n",
    "scheduler.set_timesteps(num_inference_steps=1000)\n",
    "progress_bar = tqdm(scheduler.timesteps)\n",
    "for t in progress_bar:\n",
    "    with autocast(enabled=True):\n",
    "        with torch.no_grad():\n",
    "            noise_input = torch.cat([noise] * 2)\n",
    "            model_output = model(noise_input, timesteps=torch.Tensor((t,)).to(noise.device), context=conditioning)\n",
    "            noise_pred_uncond, noise_pred_text = model_output.chunk(2)\n",
    "            noise_pred = noise_pred_uncond + guidance_scale * (noise_pred_text - noise_pred_uncond)\n",
    "\n",
    "    noise, _ = scheduler.step(noise_pred, t, noise)\n",
    "\n",
    "plt.style.use(\"default\")\n",
    "plt.imshow(noise[0, 0].cpu(), vmin=0, vmax=1, cmap=\"gray\")\n",
    "plt.tight_layout()\n",
    "plt.axis(\"off\")\n",
    "plt.show()"
   ]
  },
  {
   "cell_type": "markdown",
   "id": "3483b097",
   "metadata": {},
   "source": [
    "### Cleanup data directory\n",
    "\n",
    "Remove directory if a temporary was used."
   ]
  },
  {
   "cell_type": "code",
   "execution_count": 13,
   "id": "b00d4f9a",
   "metadata": {},
   "outputs": [],
   "source": [
    "if directory is None:\n",
    "    shutil.rmtree(root_dir)"
   ]
  }
 ],
 "metadata": {
  "jupytext": {
   "formats": "py:percent,ipynb"
  },
  "kernelspec": {
   "display_name": "Python 3 (ipykernel)",
   "language": "python",
   "name": "python3"
  },
  "language_info": {
   "codemirror_mode": {
    "name": "ipython",
    "version": 3
   },
   "file_extension": ".py",
   "mimetype": "text/x-python",
   "name": "python",
   "nbconvert_exporter": "python",
   "pygments_lexer": "ipython3",
   "version": "3.10.6"
  }
 },
 "nbformat": 4,
 "nbformat_minor": 5
}
