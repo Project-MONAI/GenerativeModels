{
 "cells": [
  {
   "cell_type": "markdown",
   "id": "63d95da6",
   "metadata": {},
   "source": [
    "# Weakly Supervised Anomaly Detection with Classifier Guidance\n",
    "\n",
    "This tutorial illustrates how to use MONAI for training a 2D gradient-guided anomaly detection using DDIMs [1].\n",
    "\n",
    "\n",
    "[1] - Wolleb et al. \"Diffusion Models for Medical Anomaly Detection\" https://arxiv.org/abs/2203.04306\n",
    "\n",
    "\n",
    "TODO: Add Open in Colab\n",
    "\n",
    "## Setup environment"
   ]
  },
  {
   "cell_type": "code",
   "execution_count": 1,
   "id": "75f2d5f3",
   "metadata": {},
   "outputs": [
    {
     "name": "stdout",
     "output_type": "stream",
     "text": [
      "running install\n",
      "/home/juliawolleb/anaconda3/envs/experiment/lib/python3.10/site-packages/setuptools/command/install.py:34: SetuptoolsDeprecationWarning: setup.py install is deprecated. Use build and pip and other standards-based tools.\n",
      "  warnings.warn(\n",
      "/home/juliawolleb/anaconda3/envs/experiment/lib/python3.10/site-packages/setuptools/command/easy_install.py:144: EasyInstallDeprecationWarning: easy_install command is deprecated. Use build and pip and other standards-based tools.\n",
      "  warnings.warn(\n",
      "running bdist_egg\n",
      "running egg_info\n",
      "writing generative.egg-info/PKG-INFO\n",
      "writing dependency_links to generative.egg-info/dependency_links.txt\n",
      "writing requirements to generative.egg-info/requires.txt\n",
      "writing top-level names to generative.egg-info/top_level.txt\n",
      "reading manifest file 'generative.egg-info/SOURCES.txt'\n",
      "writing manifest file 'generative.egg-info/SOURCES.txt'\n",
      "installing library code to build/bdist.linux-x86_64/egg\n",
      "running install_lib\n",
      "warning: install_lib: 'build/lib' does not exist -- no Python modules to install\n",
      "\n",
      "creating build/bdist.linux-x86_64/egg\n",
      "creating build/bdist.linux-x86_64/egg/EGG-INFO\n",
      "copying generative.egg-info/PKG-INFO -> build/bdist.linux-x86_64/egg/EGG-INFO\n",
      "copying generative.egg-info/SOURCES.txt -> build/bdist.linux-x86_64/egg/EGG-INFO\n",
      "copying generative.egg-info/dependency_links.txt -> build/bdist.linux-x86_64/egg/EGG-INFO\n",
      "copying generative.egg-info/requires.txt -> build/bdist.linux-x86_64/egg/EGG-INFO\n",
      "copying generative.egg-info/top_level.txt -> build/bdist.linux-x86_64/egg/EGG-INFO\n",
      "zip_safe flag not set; analyzing archive contents...\n",
      "creating 'dist/generative-0.1.0-py3.10.egg' and adding 'build/bdist.linux-x86_64/egg' to it\n",
      "removing 'build/bdist.linux-x86_64/egg' (and everything under it)\n",
      "Processing generative-0.1.0-py3.10.egg\n",
      "Removing /home/juliawolleb/anaconda3/envs/experiment/lib/python3.10/site-packages/generative-0.1.0-py3.10.egg\n",
      "Copying generative-0.1.0-py3.10.egg to /home/juliawolleb/anaconda3/envs/experiment/lib/python3.10/site-packages\n",
      "generative 0.1.0 is already the active version in easy-install.pth\n",
      "\n",
      "Installed /home/juliawolleb/anaconda3/envs/experiment/lib/python3.10/site-packages/generative-0.1.0-py3.10.egg\n",
      "Processing dependencies for generative==0.1.0\n",
      "Searching for lpips==0.1.4\n",
      "Best match: lpips 0.1.4\n",
      "Processing lpips-0.1.4-py3.10.egg\n",
      "lpips 0.1.4 is already the active version in easy-install.pth\n",
      "\n",
      "Using /home/juliawolleb/anaconda3/envs/experiment/lib/python3.10/site-packages/lpips-0.1.4-py3.10.egg\n",
      "Searching for tqdm==4.64.1\n",
      "Best match: tqdm 4.64.1\n",
      "Processing tqdm-4.64.1-py3.10.egg\n",
      "tqdm 4.64.1 is already the active version in easy-install.pth\n",
      "Installing tqdm script to /home/juliawolleb/anaconda3/envs/experiment/bin\n",
      "\n",
      "Using /home/juliawolleb/anaconda3/envs/experiment/lib/python3.10/site-packages/tqdm-4.64.1-py3.10.egg\n",
      "Searching for scipy==1.9.0\n",
      "Best match: scipy 1.9.0\n",
      "Adding scipy 1.9.0 to easy-install.pth file\n",
      "\n",
      "Using /home/juliawolleb/anaconda3/envs/experiment/lib/python3.10/site-packages\n",
      "Searching for numpy==1.23.2\n",
      "Best match: numpy 1.23.2\n",
      "Adding numpy 1.23.2 to easy-install.pth file\n",
      "Installing f2py script to /home/juliawolleb/anaconda3/envs/experiment/bin\n",
      "Installing f2py3 script to /home/juliawolleb/anaconda3/envs/experiment/bin\n",
      "Installing f2py3.10 script to /home/juliawolleb/anaconda3/envs/experiment/bin\n",
      "\n",
      "Using /home/juliawolleb/anaconda3/envs/experiment/lib/python3.10/site-packages\n",
      "Searching for torchvision==0.13.1\n",
      "Best match: torchvision 0.13.1\n",
      "Adding torchvision 0.13.1 to easy-install.pth file\n",
      "\n",
      "Using /home/juliawolleb/anaconda3/envs/experiment/lib/python3.10/site-packages\n",
      "Searching for torch==1.12.1\n",
      "Best match: torch 1.12.1\n",
      "Adding torch 1.12.1 to easy-install.pth file\n",
      "Installing convert-caffe2-to-onnx script to /home/juliawolleb/anaconda3/envs/experiment/bin\n",
      "Installing convert-onnx-to-caffe2 script to /home/juliawolleb/anaconda3/envs/experiment/bin\n",
      "Installing torchrun script to /home/juliawolleb/anaconda3/envs/experiment/bin\n",
      "\n",
      "Using /home/juliawolleb/anaconda3/envs/experiment/lib/python3.10/site-packages\n",
      "Searching for Pillow==9.2.0\n",
      "Best match: Pillow 9.2.0\n",
      "Adding Pillow 9.2.0 to easy-install.pth file\n",
      "\n",
      "Using /home/juliawolleb/anaconda3/envs/experiment/lib/python3.10/site-packages\n",
      "Searching for requests==2.28.1\n",
      "Best match: requests 2.28.1\n",
      "Adding requests 2.28.1 to easy-install.pth file\n",
      "\n",
      "Using /home/juliawolleb/anaconda3/envs/experiment/lib/python3.10/site-packages\n",
      "Searching for typing-extensions==4.3.0\n",
      "Best match: typing-extensions 4.3.0\n",
      "Adding typing-extensions 4.3.0 to easy-install.pth file\n",
      "\n",
      "Using /home/juliawolleb/anaconda3/envs/experiment/lib/python3.10/site-packages\n",
      "Searching for certifi==2022.6.15\n",
      "Best match: certifi 2022.6.15\n",
      "Adding certifi 2022.6.15 to easy-install.pth file\n",
      "\n",
      "Using /home/juliawolleb/anaconda3/envs/experiment/lib/python3.10/site-packages\n",
      "Searching for urllib3==1.26.11\n",
      "Best match: urllib3 1.26.11\n",
      "Adding urllib3 1.26.11 to easy-install.pth file\n",
      "\n",
      "Using /home/juliawolleb/anaconda3/envs/experiment/lib/python3.10/site-packages\n",
      "Searching for idna==3.3\n",
      "Best match: idna 3.3\n",
      "Adding idna 3.3 to easy-install.pth file\n",
      "\n",
      "Using /home/juliawolleb/anaconda3/envs/experiment/lib/python3.10/site-packages\n",
      "Searching for charset-normalizer==2.1.1\n",
      "Best match: charset-normalizer 2.1.1\n",
      "Adding charset-normalizer 2.1.1 to easy-install.pth file\n",
      "Installing normalizer script to /home/juliawolleb/anaconda3/envs/experiment/bin\n",
      "\n",
      "Using /home/juliawolleb/anaconda3/envs/experiment/lib/python3.10/site-packages\n",
      "Finished processing dependencies for generative==0.1.0\n"
     ]
    }
   ],
   "source": [
    "!python /home/juliawolleb/PycharmProjects/MONAI/GenerativeModels/setup.py install\n",
    "!python -c \"import monai\" || pip install -q \"monai-weekly[pillow, tqdm, einops]\"\n",
    "!python -c \"import matplotlib\" || pip install -q matplotlib\n",
    "!python -c \"import seaborn\" || pip install -q seaborn"
   ]
  },
  {
   "cell_type": "markdown",
   "id": "6b766027",
   "metadata": {},
   "source": [
    "## Setup imports"
   ]
  },
  {
   "cell_type": "code",
   "execution_count": 2,
   "id": "972ed3f3",
   "metadata": {
    "collapsed": false,
    "jupyter": {
     "outputs_hidden": false
    },
    "lines_to_next_cell": 2
   },
   "outputs": [
    {
     "name": "stdout",
     "output_type": "stream",
     "text": [
      "path ['/home/juliawolleb/PycharmProjects/MONAI/GenerativeModels/tutorials/generative/classifier_guidance_anomalydetection', '/home/juliawolleb/anaconda3/envs/experiment/lib/python310.zip', '/home/juliawolleb/anaconda3/envs/experiment/lib/python3.10', '/home/juliawolleb/anaconda3/envs/experiment/lib/python3.10/lib-dynload', '', '/home/juliawolleb/anaconda3/envs/experiment/lib/python3.10/site-packages', '/home/juliawolleb/anaconda3/envs/experiment/lib/python3.10/site-packages/PyYAML-6.0-py3.10-linux-x86_64.egg', '/home/juliawolleb/PycharmProjects/Python_Tutorials/Calgary_Infants/calgary/HD-BET', '/home/juliawolleb/anaconda3/envs/experiment/lib/python3.10/site-packages/lpips-0.1.4-py3.10.egg', '/home/juliawolleb/anaconda3/envs/experiment/lib/python3.10/site-packages/tqdm-4.64.1-py3.10.egg', '/home/juliawolleb/anaconda3/envs/experiment/lib/python3.10/site-packages/generative-0.1.0-py3.10.egg', '/home/juliawolleb/PycharmProjects/MONAI/GenerativeModels/']\n",
      "MONAI version: 1.1.dev2248\n",
      "Numpy version: 1.23.2\n",
      "Pytorch version: 1.12.1\n",
      "MONAI flags: HAS_EXT = False, USE_COMPILED = False, USE_META_DICT = False\n",
      "MONAI rev id: 3400bd91422ccba9ccc3aa2ffe7fecd4eb5596bf\n",
      "MONAI __file__: /home/juliawolleb/anaconda3/envs/experiment/lib/python3.10/site-packages/monai/__init__.py\n",
      "\n",
      "Optional dependencies:\n",
      "Pytorch Ignite version: NOT INSTALLED or UNKNOWN VERSION.\n",
      "Nibabel version: 4.0.1\n",
      "scikit-image version: 0.19.3\n",
      "Pillow version: 9.2.0\n",
      "Tensorboard version: NOT INSTALLED or UNKNOWN VERSION.\n",
      "gdown version: NOT INSTALLED or UNKNOWN VERSION.\n",
      "TorchVision version: 0.13.1\n",
      "tqdm version: 4.64.1\n",
      "lmdb version: NOT INSTALLED or UNKNOWN VERSION.\n",
      "psutil version: 5.9.4\n",
      "pandas version: 1.5.3\n",
      "einops version: 0.6.0\n",
      "transformers version: NOT INSTALLED or UNKNOWN VERSION.\n",
      "mlflow version: NOT INSTALLED or UNKNOWN VERSION.\n",
      "pynrrd version: NOT INSTALLED or UNKNOWN VERSION.\n",
      "\n",
      "For details about installing the optional dependencies, please visit:\n",
      "    https://docs.monai.io/en/latest/installation.html#installing-the-recommended-dependencies\n",
      "\n"
     ]
    }
   ],
   "source": [
    "# Copyright 2020 MONAI Consortium\n",
    "# Licensed under the Apache License, Version 2.0 (the \"License\");\n",
    "# you may not use this file except in compliance with the License.\n",
    "# You may obtain a copy of the License at\n",
    "#     http://www.apache.org/licenses/LICENSE-2.0\n",
    "# Unless required by applicable law or agreed to in writing, software\n",
    "# distributed under the License is distributed on an \"AS IS\" BASIS,\n",
    "# WITHOUT WARRANTIES OR CONDITIONS OF ANY KIND, either express or implied.\n",
    "# See the License for the specific language governing permissions and\n",
    "# limitations under the License.\n",
    "import os\n",
    "import shutil\n",
    "import tempfile\n",
    "import time\n",
    "from typing import Dict\n",
    "import os\n",
    "import torch.nn as nn\n",
    "import matplotlib.pyplot as plt\n",
    "import numpy as np\n",
    "import torch\n",
    "import torch.nn.functional as F\n",
    "from monai import transforms\n",
    "from monai.apps import MedNISTDataset, DecathlonDataset\n",
    "from monai.config import print_config\n",
    "from monai.data import CacheDataset, DataLoader\n",
    "from monai.utils import first, set_determinism\n",
    "from torch.cuda.amp import GradScaler, autocast\n",
    "from tqdm import tqdm\n",
    "torch.multiprocessing.set_sharing_strategy('file_system')\n",
    "import sys\n",
    "sys.path.append('/home/juliawolleb/PycharmProjects/MONAI/GenerativeModels/')\n",
    "print('path', sys.path)\n",
    "\n",
    "from generative.inferers import DiffusionInferer\n",
    "\n",
    "\n",
    "# TODO: Add right import reference after deployed\n",
    "from generative.networks.nets.diffusion_model_unet import DiffusionModelUNet, DiffusionModelEncoder\n",
    "from generative.networks.schedulers.ddpm import DDPMScheduler\n",
    "from generative.networks.schedulers.ddim import DDIMScheduler\n",
    "print_config()"
   ]
  },
  {
   "cell_type": "markdown",
   "id": "7d4ff515",
   "metadata": {},
   "source": [
    "## Setup data directory"
   ]
  },
  {
   "cell_type": "code",
   "execution_count": 3,
   "id": "8b4323e7",
   "metadata": {
    "collapsed": false,
    "jupyter": {
     "outputs_hidden": false
    }
   },
   "outputs": [],
   "source": [
    "directory = os.environ.get(\"MONAI_DATA_DIRECTORY\")\n",
    "#root_dir = tempfile.mkdtemp() if directory is None else directory\n",
    "root_dir='/home/juliawolleb/PycharmProjects/MONAI/brats'  #path to where the data is stored"
   ]
  },
  {
   "cell_type": "markdown",
   "id": "99175d50",
   "metadata": {},
   "source": [
    "## Set deterministic training for reproducibility"
   ]
  },
  {
   "cell_type": "code",
   "execution_count": 4,
   "id": "34ea510f",
   "metadata": {
    "collapsed": false,
    "jupyter": {
     "outputs_hidden": false
    }
   },
   "outputs": [],
   "source": [
    "set_determinism(42)"
   ]
  },
  {
   "cell_type": "markdown",
   "id": "c3f70dd1-236a-47ff-a244-575729ad92ba",
   "metadata": {
    "tags": []
   },
   "source": [
    "## Setup BRATS Dataset in 2D slices for training\n",
    "As baseline, we use the load_2d_brats.ipynb written by Pedro in issue 150.\n",
    "If we set `preprocessing_train=True`, we stack all slices into a tensor and save it as _total_train_slices.pt_. \n",
    "If we set `preprocessing_train=False`, we load the saved tensor.\n",
    "The corresponding labels are saved as _total_train_labels.pt._"
   ]
  },
  {
   "cell_type": "markdown",
   "id": "6986f55c",
   "metadata": {},
   "source": [
    "Here we use transforms to augment the training dataset, as usual:\n",
    "\n",
    "1. `LoadImaged` loads the hands images from files.\n",
    "1. `EnsureChannelFirstd` ensures the original data to construct \"channel first\" shape.\n",
    "1. `ScaleIntensityRanged` extracts intensity range [0, 255] and scales to [0, 1].\n",
    "1. `RandAffined` efficiently performs rotate, scale, shear, translate, etc. together based on PyTorch affine transform.\n",
    "\n"
   ]
  },
  {
   "cell_type": "code",
   "execution_count": 5,
   "id": "c68d2d91-9a0b-4ac1-ae49-f4a64edbd82a",
   "metadata": {},
   "outputs": [
    {
     "name": "stderr",
     "output_type": "stream",
     "text": [
      "/home/juliawolleb/anaconda3/envs/experiment/lib/python3.10/site-packages/monai/utils/deprecate_utils.py:107: FutureWarning: <class 'monai.transforms.utility.array.AddChannel'>: Class `AddChannel` has been deprecated since version 0.8. please use MetaTensor data type and monai.transforms.EnsureChannelFirst instead.\n",
      "  warn_deprecated(obj, msg, warning_category)\n"
     ]
    }
   ],
   "source": [
    "channel = 0  # 0 = Flair\n",
    "assert channel in [0, 1, 2, 3], \"Choose a valid channel\"\n",
    "\n",
    "train_transforms = transforms.Compose(\n",
    "    [\n",
    "        transforms.LoadImaged(keys=[\"image\",\"label\"]),\n",
    "        transforms.EnsureChannelFirstd(keys=[\"image\",\"label\"]),\n",
    "        transforms.Lambdad(keys=[\"image\"], func=lambda x: x[channel, :, :, :]),\n",
    "        transforms.AddChanneld(keys=[\"image\"]),\n",
    "        transforms.EnsureTyped(keys=[\"image\",\"label\"]),\n",
    "        transforms.Orientationd(keys=[\"image\",\"label\"], axcodes=\"RAS\"),\n",
    "        transforms.Spacingd(\n",
    "            keys=[\"image\",\"label\"],\n",
    "            pixdim=(3.0, 3.0, 2.0),\n",
    "            mode=(\"bilinear\", \"nearest\"),\n",
    "        ),\n",
    "        transforms.CenterSpatialCropd(keys=[\"image\",\"label\"], roi_size=(64, 64, 64)),\n",
    "        transforms.ScaleIntensityRangePercentilesd(keys=\"image\", lower=0, upper=99.5, b_min=0, b_max=1),\n",
    "        transforms.CopyItemsd(keys=[\"label\"], times=1, names=[\"slice_label\"]),\n",
    "        transforms.Lambdad(keys=[\"slice_label\"], func=lambda x: (x.reshape(x.shape[0], -1, x.shape[-1]).sum(1) > 0 ).float().squeeze()),\n",
    "    ]\n",
    ")"
   ]
  },
  {
   "cell_type": "code",
   "execution_count": 6,
   "id": "da1927b0",
   "metadata": {
    "collapsed": false,
    "jupyter": {
     "outputs_hidden": false
    }
   },
   "outputs": [
    {
     "name": "stdout",
     "output_type": "stream",
     "text": [
      "len train data 388\n",
      "total slices torch.Size([17072, 1, 64, 64])\n",
      "total lbaels torch.Size([17072])\n"
     ]
    }
   ],
   "source": [
    "\n",
    "train_ds = DecathlonDataset(\n",
    "    root_dir=root_dir,\n",
    "    task=\"Task01_BrainTumour\",\n",
    "    section=\"training\",  # validation\n",
    "    cache_rate=0.0,  # you may need a few Gb of RAM... Set to 0 otherwise\n",
    "    num_workers=4,\n",
    "    download=False,  # Set download to True if the dataset hasnt been downloaded yet\n",
    "    seed=0,\n",
    "    transform=train_transforms,\n",
    ")\n",
    "print('len train data', len(train_ds))\n",
    "\n",
    "def get_batched_2d_axial_slices(data : Dict):\n",
    "    images_3D = data['image']\n",
    "    batched_2d_slices = torch.cat(images_3D.split(1, dim = -1)[10:-10], 0).squeeze(-1) # we cut the lowest and highest 10 slices, because we are interested in the middle part of the brain.\n",
    "    slice_label = data['slice_label']\n",
    "    slice_label = torch.cat(slice_label.split(1, dim = -1)[10:-10],0).squeeze()\n",
    "    return batched_2d_slices, slice_label\n",
    "\n",
    "preprocessing_train=False\n",
    "\n",
    "if preprocessing_train == True:\n",
    "    train_loader_3D = DataLoader(train_ds, batch_size=1, shuffle=True, num_workers=4)\n",
    "    print(f'Image shape {train_ds[0][\"image\"].shape}')\n",
    "\n",
    "    data_2d_slices=[]\n",
    "    data_slice_label = []\n",
    "    check_data = first(train_loader_3D)\n",
    "    for i, data in enumerate(train_loader_3D):\n",
    "        b2d, slice_label2d = get_batched_2d_axial_slices(data)\n",
    "        data_2d_slices.append(b2d)\n",
    "        data_slice_label.append(slice_label2d)\n",
    "    total_train_slices=torch.cat(data_2d_slices,0)\n",
    "    total_train_labels=torch.cat(data_slice_label,0)\n",
    "\n",
    "    torch.save(total_train_slices, 'total_train_slices.pt')\n",
    "    torch.save(total_train_labels, 'total_train_labels.pt')\n",
    "\n",
    "else:\n",
    "    total_train_slices=torch.load('total_train_slices.pt')\n",
    "    total_train_labels=torch.load('total_train_labels.pt')\n",
    "    print('total slices', total_train_slices.shape)\n",
    "    print('total lbaels', total_train_labels.shape)\n",
    "\n"
   ]
  },
  {
   "cell_type": "markdown",
   "id": "fac55e9d",
   "metadata": {
    "tags": []
   },
   "source": [
    "## Setup BRATS Dataset in 2D slices for validation \n",
    "As baseline, we use the load_2d_brats.ipynb written by Pedro in issue 150.\n",
    "If we set `preprocessing_val=True`, we stack all slices into a tensor and save it as _total_val_slices.pt_.\n",
    "If we set `preprocessing_val=False`, we load the saved tensor.\n",
    "The corresponding labels are saved as _total_val_labels.pt_."
   ]
  },
  {
   "cell_type": "code",
   "execution_count": 7,
   "id": "73d72110-a8b3-4e03-91cc-1dab4d5a7b87",
   "metadata": {
    "lines_to_next_cell": 2
   },
   "outputs": [
    {
     "name": "stdout",
     "output_type": "stream",
     "text": [
      "total slices torch.Size([4224, 1, 64, 64])\n",
      "total lbaels torch.Size([4224])\n"
     ]
    }
   ],
   "source": [
    "val_ds = DecathlonDataset(\n",
    "    root_dir=root_dir,\n",
    "    task=\"Task01_BrainTumour\",\n",
    "    section=\"validation\",  # validation\n",
    "    cache_rate=0.0,  # you may need a few Gb of RAM... Set to 0 otherwise\n",
    "    num_workers=4,\n",
    "    download=False,  # Set download to True if the dataset hasnt been downloaded yet\n",
    "    seed=0,\n",
    "    transform=train_transforms,\n",
    ")\n",
    "\n",
    "\n",
    "preprocessing_val=False\n",
    "if preprocessing_val == True:\n",
    "    val_loader_3D = DataLoader(val_ds, batch_size=1, shuffle=True, num_workers=4)\n",
    "    print(f'Image shape {val_ds[0][\"image\"].shape}')\n",
    "    print('len val data', len(val_ds))\n",
    "    data_2d_slices_val=[]\n",
    "    data_slice_label_val = []\n",
    "    for i, data in enumerate(val_loader_3D):\n",
    "        b2d, slice_label2d = get_batched_2d_axial_slices(data)\n",
    "        data_2d_slices_val.append(b2d)\n",
    "        data_slice_label_val.append(slice_label2d)\n",
    "    total_val_slices=torch.cat(data_2d_slices_val,0)\n",
    "    total_val_labels=torch.cat(data_slice_label_val,0)\n",
    "    torch.save(total_val_slices, 'total_val_slices.pt')\n",
    "    torch.save(total_val_labels, 'total_val_labels.pt')\n",
    "\n",
    "else:\n",
    "    total_val_slices=torch.load('total_val_slices.pt')\n",
    "    total_val_labels=torch.load('total_val_labels.pt')\n",
    "    print('total slices', total_val_slices.shape)\n",
    "    print('total lbaels', total_val_labels.shape)"
   ]
  },
  {
   "cell_type": "markdown",
   "id": "08428bc6",
   "metadata": {},
   "source": [
    "### Define network, scheduler, optimizer, and inferer\n",
    "At this step, we instantiate the MONAI components to create a DDPM, the UNET, the noise scheduler, and the inferer used for training and sampling. We are using\n",
    "the deterministic DDIM scheduler containing 1000 timesteps, and a 2D UNET with attention mechanisms\n",
    "in the 3rd level (`num_head_channels=64`).\n"
   ]
  },
  {
   "cell_type": "code",
   "execution_count": 8,
   "id": "bee5913e",
   "metadata": {
    "collapsed": false,
    "jupyter": {
     "outputs_hidden": false
    },
    "lines_to_next_cell": 2
   },
   "outputs": [],
   "source": [
    "device = torch.device(\"cuda\")\n",
    "\n",
    "model = DiffusionModelUNet(\n",
    "    spatial_dims=2,\n",
    "    in_channels=1,\n",
    "    out_channels=1,\n",
    "    num_channels=(64, 64, 64),\n",
    "    attention_levels=(False, False, True),\n",
    "    num_res_blocks=1,\n",
    "    num_head_channels=64,\n",
    "    with_conditioning=False,\n",
    "  #  cross_attention_dim=1,\n",
    ")\n",
    "model.to(device)\n",
    "\n",
    "scheduler = DDIMScheduler(\n",
    "    num_train_timesteps=1000,\n",
    ")\n",
    "\n",
    "optimizer = torch.optim.Adam(params=model.parameters(), lr=2.5e-5)\n",
    "\n",
    "inferer = DiffusionInferer(scheduler)"
   ]
  },
  {
   "cell_type": "markdown",
   "id": "2a4d3ab2",
   "metadata": {
    "tags": []
   },
   "source": [
    "### Model training of the Diffusion Model\n",
    "If we set `train_diffusionmodel=True`, we are training our diffusion model for 75 epochs, and save the model as _diffusion_model.pt_.\n",
    "If we set `train_diffusionmodel=False`, we load a pretrained model."
   ]
  },
  {
   "cell_type": "code",
   "execution_count": 9,
   "id": "6c0ed909",
   "metadata": {
    "collapsed": false,
    "jupyter": {
     "outputs_hidden": false
    }
   },
   "outputs": [],
   "source": [
    "n_epochs =1\n",
    "batch_size=32\n",
    "val_interval = 1\n",
    "epoch_loss_list = []\n",
    "val_epoch_loss_list = []\n",
    "\n",
    "train_diffusionmodel=False\n",
    "\n",
    "if train_diffusionmodel==False:\n",
    "    model.load_state_dict(torch.load(\"model.pt\", map_location={'cuda:0': 'cpu'}))\n",
    "else:\n",
    "    scaler = GradScaler()\n",
    "    total_start = time.time()\n",
    "    for epoch in range(n_epochs):\n",
    "        model.train()\n",
    "        epoch_loss = 0\n",
    "        indexes = list(torch.randperm(total_train_slices.shape[0]))  #shuffle training data new\n",
    "        data_train = total_train_slices[indexes]  # shuffle the training data\n",
    "        labels_train = total_train_labels[indexes]\n",
    "        subset_2D = zip(data_train.split(batch_size), labels_train.split(batch_size))\n",
    "\n",
    "        subset_2D_val = zip(total_val_slices.split(1), total_val_labels.split(1))  #\n",
    "\n",
    "        progress_bar = tqdm(enumerate(subset_2D), total=len(indexes)/batch_size)\n",
    "        progress_bar.set_description(f\"Epoch {epoch}\")\n",
    "        for step, (a,b) in progress_bar:\n",
    "            images = a.to(device)\n",
    "            classes = b.to(device)\n",
    "            optimizer.zero_grad(set_to_none=True)\n",
    "            timesteps = torch.randint(0, 1000, (len(images),)).to(device)  #pick a random time step t\n",
    "\n",
    "            with autocast(enabled=True):\n",
    "                # Generate random noise\n",
    "                noise = torch.randn_like(images).to(device)\n",
    "\n",
    "                # Get model prediction\n",
    "                noise_pred = inferer(inputs=images, diffusion_model=model, noise=noise, timesteps=timesteps)  #remove the class conditioning\n",
    "\n",
    "                loss = F.mse_loss(noise_pred.float(), noise.float())\n",
    "\n",
    "            scaler.scale(loss).backward()\n",
    "            scaler.step(optimizer)\n",
    "            scaler.update()\n",
    "            epoch_loss += loss.item()\n",
    "            progress_bar.set_postfix(\n",
    "                {\n",
    "                    \"loss\": epoch_loss / (step + 1),\n",
    "                }\n",
    "            )\n",
    "        epoch_loss_list.append(epoch_loss / (step + 1))\n",
    "\n",
    "\n",
    "        if (epoch) % val_interval == 0:\n",
    "            model.eval()\n",
    "            val_epoch_loss = 0\n",
    "            progress_bar_val = tqdm(enumerate(subset_2D_val))\n",
    "            progress_bar.set_description(f\"Epoch {epoch}\")\n",
    "            for    step, (a, b) in progress_bar_val:\n",
    "                images = a.to(device)\n",
    "                classes = b.to(device)\n",
    "\n",
    "                timesteps = torch.randint(0, 1000, (len(images),)).to(device)\n",
    "                with torch.no_grad():\n",
    "                    with autocast(enabled=True):\n",
    "                        noise = torch.randn_like(images).to(device)\n",
    "                        noise_pred = inferer(inputs=images, diffusion_model=model, noise=noise, timesteps=timesteps)\n",
    "                        val_loss = F.mse_loss(noise_pred.float(), noise.float())\n",
    "\n",
    "                val_epoch_loss += val_loss.item()\n",
    "                progress_bar.set_postfix(\n",
    "                    {\n",
    "                        \"val_loss\": val_epoch_loss / (step + 1),\n",
    "                    }\n",
    "                )\n",
    "            val_epoch_loss_list.append(val_epoch_loss / (step + 1))\n",
    "\n",
    "    total_time = time.time() - total_start\n",
    "    torch.save(model.state_dict(), \"./diffusion_model.pt\")  #save the trained model\n",
    "\n",
    "    print(f\"train diffusion completed, total time: {total_time}.\")\n",
    "\n",
    "    plt.style.use(\"seaborn-bright\")\n",
    "    plt.title(\"Learning Curves Diffusion Model\", fontsize=20)\n",
    "    plt.plot(np.linspace(1, n_epochs, n_epochs), epoch_loss_list, color=\"C0\", linewidth=2.0, label=\"Train\")\n",
    "    plt.plot(\n",
    "        np.linspace(val_interval, n_epochs, int(n_epochs / val_interval)),\n",
    "        val_epoch_loss_list,\n",
    "        color=\"C1\",\n",
    "        linewidth=2.0,\n",
    "        label=\"Validation\",\n",
    "    )\n",
    "    plt.yticks(fontsize=12)\n",
    "    plt.xticks(fontsize=12)\n",
    "    plt.xlabel(\"Epochs\", fontsize=16)\n",
    "    plt.ylabel(\"Loss\", fontsize=16)\n",
    "    plt.legend(prop={\"size\": 14})\n",
    "    plt.show()\n",
    "\n"
   ]
  },
  {
   "cell_type": "markdown",
   "id": "546f9983-c2e2-4c24-b03a-ebe34627638a",
   "metadata": {},
   "source": [
    "## Define the Classification Model\n",
    "First, we define the classification model. It follows the encoder architecture of the diffusion model, combined with linear layers for binary classification between healthy and diseased slices.\n"
   ]
  },
  {
   "cell_type": "code",
   "execution_count": 10,
   "id": "44cc6928-2525-4e61-8805-15b409097bbb",
   "metadata": {
    "lines_to_next_cell": 2
   },
   "outputs": [],
   "source": [
    "classifier = DiffusionModelEncoder(\n",
    "    spatial_dims=2,\n",
    "    in_channels=1,\n",
    "    out_channels=2,\n",
    "    num_channels=(32,64,64),\n",
    "    attention_levels=(False, True, True),\n",
    "    num_res_blocks=1,\n",
    "    num_head_channels=64,\n",
    "    with_conditioning=False,\n",
    ")\n",
    "classifier.to(device)\n",
    "batch_size=32"
   ]
  },
  {
   "cell_type": "markdown",
   "id": "45fab83a-b4c8-42cb-96c9-4e9f1e191111",
   "metadata": {},
   "source": [
    "## Model training of the Classification Model\n",
    "If we set `train_classifier=True`, we are training our diffusion model for 100 epochs, and save the model as _classifier.pt_.\n",
    "If we set `train_classifier=False`, we load a pretrained model."
   ]
  },
  {
   "cell_type": "code",
   "execution_count": 110,
   "id": "de18d5cb-68e7-407c-afe9-8efd7a5a904a",
   "metadata": {
    "lines_to_next_cell": 0
   },
   "outputs": [
    {
     "name": "stderr",
     "output_type": "stream",
     "text": [
      "Epoch 0: : 534it [00:24, 21.51it/s, loss=0.534]                                 \n"
     ]
    },
    {
     "name": "stdout",
     "output_type": "stream",
     "text": [
      "final step train 533\n"
     ]
    },
    {
     "name": "stderr",
     "output_type": "stream",
     "text": [
      "Epoch 0: : 132it [00:01, 66.23it/s, val_loss=0.259]\n",
      "Epoch 1: : 534it [00:27, 19.68it/s, loss=0.538]                                 \n"
     ]
    },
    {
     "name": "stdout",
     "output_type": "stream",
     "text": [
      "final step train 533\n"
     ]
    },
    {
     "name": "stderr",
     "output_type": "stream",
     "text": [
      "Epoch 1: : 132it [00:02, 57.32it/s, val_loss=0.28] \n",
      "Epoch 2: : 534it [00:27, 19.43it/s, loss=0.531]                                 \n"
     ]
    },
    {
     "name": "stdout",
     "output_type": "stream",
     "text": [
      "final step train 533\n"
     ]
    },
    {
     "name": "stderr",
     "output_type": "stream",
     "text": [
      "Epoch 2: : 132it [00:02, 60.17it/s, val_loss=0.32] \n",
      "Epoch 3: : 534it [00:27, 19.41it/s, loss=0.539]                                 \n"
     ]
    },
    {
     "name": "stdout",
     "output_type": "stream",
     "text": [
      "final step train 533\n"
     ]
    },
    {
     "name": "stderr",
     "output_type": "stream",
     "text": [
      "Epoch 3: : 132it [00:02, 58.98it/s, val_loss=0.294]\n",
      "Epoch 4: : 534it [00:27, 19.40it/s, loss=0.536]                                 \n"
     ]
    },
    {
     "name": "stdout",
     "output_type": "stream",
     "text": [
      "final step train 533\n"
     ]
    },
    {
     "name": "stderr",
     "output_type": "stream",
     "text": [
      "Epoch 4: : 132it [00:02, 59.34it/s, val_loss=0.256]\n",
      "Epoch 5: : 534it [00:27, 19.47it/s, loss=0.536]                                 \n"
     ]
    },
    {
     "name": "stdout",
     "output_type": "stream",
     "text": [
      "final step train 533\n"
     ]
    },
    {
     "name": "stderr",
     "output_type": "stream",
     "text": [
      "Epoch 5: : 132it [00:02, 59.58it/s, val_loss=0.278]\n",
      "Epoch 6: : 534it [00:27, 19.49it/s, loss=0.53]                                  \n"
     ]
    },
    {
     "name": "stdout",
     "output_type": "stream",
     "text": [
      "final step train 533\n"
     ]
    },
    {
     "name": "stderr",
     "output_type": "stream",
     "text": [
      "Epoch 6: : 132it [00:02, 59.91it/s, val_loss=0.29] \n",
      "Epoch 7: : 534it [00:27, 19.58it/s, loss=0.533]                                 \n"
     ]
    },
    {
     "name": "stdout",
     "output_type": "stream",
     "text": [
      "final step train 533\n"
     ]
    },
    {
     "name": "stderr",
     "output_type": "stream",
     "text": [
      "Epoch 7: : 132it [00:02, 59.94it/s, val_loss=0.271]\n",
      "Epoch 8: : 534it [00:27, 19.67it/s, loss=0.54]                                  \n"
     ]
    },
    {
     "name": "stdout",
     "output_type": "stream",
     "text": [
      "final step train 533\n"
     ]
    },
    {
     "name": "stderr",
     "output_type": "stream",
     "text": [
      "Epoch 8: : 132it [00:02, 60.28it/s, val_loss=0.261]\n",
      "Epoch 9: : 534it [00:26, 19.84it/s, loss=0.535]                                 \n"
     ]
    },
    {
     "name": "stdout",
     "output_type": "stream",
     "text": [
      "final step train 533\n"
     ]
    },
    {
     "name": "stderr",
     "output_type": "stream",
     "text": [
      "Epoch 9: : 132it [00:02, 59.37it/s, val_loss=0.243]\n",
      "Epoch 10: : 534it [00:27, 19.77it/s, loss=0.537]                                \n"
     ]
    },
    {
     "name": "stdout",
     "output_type": "stream",
     "text": [
      "final step train 533\n"
     ]
    },
    {
     "name": "stderr",
     "output_type": "stream",
     "text": [
      "Epoch 10: : 132it [00:02, 60.28it/s, val_loss=0.274]\n",
      "Epoch 11: : 534it [00:26, 19.79it/s, loss=0.529]                                \n"
     ]
    },
    {
     "name": "stdout",
     "output_type": "stream",
     "text": [
      "final step train 533\n"
     ]
    },
    {
     "name": "stderr",
     "output_type": "stream",
     "text": [
      "Epoch 11: : 132it [00:02, 60.96it/s, val_loss=0.278]\n",
      "Epoch 12: : 534it [00:26, 19.95it/s, loss=0.529]                                \n"
     ]
    },
    {
     "name": "stdout",
     "output_type": "stream",
     "text": [
      "final step train 533\n"
     ]
    },
    {
     "name": "stderr",
     "output_type": "stream",
     "text": [
      "Epoch 12: : 132it [00:02, 60.47it/s, val_loss=0.292]\n",
      "Epoch 13: : 534it [00:26, 19.90it/s, loss=0.533]                                \n"
     ]
    },
    {
     "name": "stdout",
     "output_type": "stream",
     "text": [
      "final step train 533\n"
     ]
    },
    {
     "name": "stderr",
     "output_type": "stream",
     "text": [
      "Epoch 13: : 132it [00:02, 59.46it/s, val_loss=0.248]\n",
      "Epoch 14: : 534it [00:26, 19.80it/s, loss=0.528]                                \n"
     ]
    },
    {
     "name": "stdout",
     "output_type": "stream",
     "text": [
      "final step train 533\n"
     ]
    },
    {
     "name": "stderr",
     "output_type": "stream",
     "text": [
      "Epoch 14: : 132it [00:02, 61.53it/s, val_loss=0.284]\n",
      "Epoch 15: : 534it [00:26, 19.92it/s, loss=0.531]                                \n"
     ]
    },
    {
     "name": "stdout",
     "output_type": "stream",
     "text": [
      "final step train 533\n"
     ]
    },
    {
     "name": "stderr",
     "output_type": "stream",
     "text": [
      "Epoch 15: : 132it [00:02, 61.58it/s, val_loss=0.273]\n",
      "Epoch 16: : 534it [00:26, 19.88it/s, loss=0.529]                                \n"
     ]
    },
    {
     "name": "stdout",
     "output_type": "stream",
     "text": [
      "final step train 533\n"
     ]
    },
    {
     "name": "stderr",
     "output_type": "stream",
     "text": [
      "Epoch 16: : 132it [00:02, 61.05it/s, val_loss=0.267]\n",
      "Epoch 17: : 534it [00:26, 19.95it/s, loss=0.535]                                \n"
     ]
    },
    {
     "name": "stdout",
     "output_type": "stream",
     "text": [
      "final step train 533\n"
     ]
    },
    {
     "name": "stderr",
     "output_type": "stream",
     "text": [
      "Epoch 17: : 132it [00:02, 60.88it/s, val_loss=0.26] \n",
      "Epoch 18: : 534it [00:26, 19.83it/s, loss=0.533]                                \n"
     ]
    },
    {
     "name": "stdout",
     "output_type": "stream",
     "text": [
      "final step train 533\n"
     ]
    },
    {
     "name": "stderr",
     "output_type": "stream",
     "text": [
      "Epoch 18: : 132it [00:02, 60.91it/s, val_loss=0.318]\n",
      "Epoch 19: : 534it [00:26, 20.29it/s, loss=0.528]                                \n"
     ]
    },
    {
     "name": "stdout",
     "output_type": "stream",
     "text": [
      "final step train 533\n"
     ]
    },
    {
     "name": "stderr",
     "output_type": "stream",
     "text": [
      "Epoch 19: : 132it [00:02, 63.26it/s, val_loss=0.265]\n",
      "Epoch 20: : 534it [00:26, 19.84it/s, loss=0.532]                                \n"
     ]
    },
    {
     "name": "stdout",
     "output_type": "stream",
     "text": [
      "final step train 533\n"
     ]
    },
    {
     "name": "stderr",
     "output_type": "stream",
     "text": [
      "Epoch 20: : 132it [00:02, 60.27it/s, val_loss=0.289]\n",
      "Epoch 21: : 534it [00:26, 20.11it/s, loss=0.534]                                \n"
     ]
    },
    {
     "name": "stdout",
     "output_type": "stream",
     "text": [
      "final step train 533\n"
     ]
    },
    {
     "name": "stderr",
     "output_type": "stream",
     "text": [
      "Epoch 21: : 132it [00:02, 60.49it/s, val_loss=0.27] \n",
      "Epoch 22: : 534it [00:26, 19.89it/s, loss=0.533]                                \n"
     ]
    },
    {
     "name": "stdout",
     "output_type": "stream",
     "text": [
      "final step train 533\n"
     ]
    },
    {
     "name": "stderr",
     "output_type": "stream",
     "text": [
      "Epoch 22: : 132it [00:02, 60.80it/s, val_loss=0.322]\n",
      "Epoch 23: : 534it [00:26, 20.02it/s, loss=0.532]                                \n"
     ]
    },
    {
     "name": "stdout",
     "output_type": "stream",
     "text": [
      "final step train 533\n"
     ]
    },
    {
     "name": "stderr",
     "output_type": "stream",
     "text": [
      "Epoch 23: : 132it [00:02, 60.56it/s, val_loss=0.3]  \n",
      "Epoch 24: : 534it [00:26, 20.01it/s, loss=0.526]                                \n"
     ]
    },
    {
     "name": "stdout",
     "output_type": "stream",
     "text": [
      "final step train 533\n"
     ]
    },
    {
     "name": "stderr",
     "output_type": "stream",
     "text": [
      "Epoch 24: : 132it [00:02, 60.69it/s, val_loss=0.287]\n",
      "Epoch 25: : 534it [00:26, 20.00it/s, loss=0.524]                                \n"
     ]
    },
    {
     "name": "stdout",
     "output_type": "stream",
     "text": [
      "final step train 533\n"
     ]
    },
    {
     "name": "stderr",
     "output_type": "stream",
     "text": [
      "Epoch 25: : 132it [00:02, 61.55it/s, val_loss=0.263]\n",
      "Epoch 26: : 534it [00:26, 20.04it/s, loss=0.528]                                \n"
     ]
    },
    {
     "name": "stdout",
     "output_type": "stream",
     "text": [
      "final step train 533\n"
     ]
    },
    {
     "name": "stderr",
     "output_type": "stream",
     "text": [
      "Epoch 26: : 132it [00:02, 61.16it/s, val_loss=0.328]\n",
      "Epoch 27: : 534it [00:26, 19.95it/s, loss=0.533]                                \n"
     ]
    },
    {
     "name": "stdout",
     "output_type": "stream",
     "text": [
      "final step train 533\n"
     ]
    },
    {
     "name": "stderr",
     "output_type": "stream",
     "text": [
      "Epoch 27: : 132it [00:02, 61.15it/s, val_loss=0.263]\n",
      "Epoch 28: : 534it [00:26, 20.06it/s, loss=0.528]                                \n"
     ]
    },
    {
     "name": "stdout",
     "output_type": "stream",
     "text": [
      "final step train 533\n"
     ]
    },
    {
     "name": "stderr",
     "output_type": "stream",
     "text": [
      "Epoch 28: : 132it [00:02, 60.67it/s, val_loss=0.292]\n",
      "Epoch 29: : 534it [00:26, 20.10it/s, loss=0.528]                                \n"
     ]
    },
    {
     "name": "stdout",
     "output_type": "stream",
     "text": [
      "final step train 533\n"
     ]
    },
    {
     "name": "stderr",
     "output_type": "stream",
     "text": [
      "Epoch 29: : 132it [00:02, 61.57it/s, val_loss=0.294]\n",
      "Epoch 30: : 534it [00:26, 19.98it/s, loss=0.53]                                 \n"
     ]
    },
    {
     "name": "stdout",
     "output_type": "stream",
     "text": [
      "final step train 533\n"
     ]
    },
    {
     "name": "stderr",
     "output_type": "stream",
     "text": [
      "Epoch 30: : 132it [00:02, 61.60it/s, val_loss=0.284]\n",
      "Epoch 31: : 534it [00:26, 20.08it/s, loss=0.53]                                 \n"
     ]
    },
    {
     "name": "stdout",
     "output_type": "stream",
     "text": [
      "final step train 533\n"
     ]
    },
    {
     "name": "stderr",
     "output_type": "stream",
     "text": [
      "Epoch 31: : 132it [00:02, 61.04it/s, val_loss=0.276]\n",
      "Epoch 32: : 534it [00:26, 19.86it/s, loss=0.525]                                \n"
     ]
    },
    {
     "name": "stdout",
     "output_type": "stream",
     "text": [
      "final step train 533\n"
     ]
    },
    {
     "name": "stderr",
     "output_type": "stream",
     "text": [
      "Epoch 32: : 132it [00:02, 62.82it/s, val_loss=0.285]\n",
      "Epoch 33: : 534it [00:26, 20.13it/s, loss=0.525]                                \n"
     ]
    },
    {
     "name": "stdout",
     "output_type": "stream",
     "text": [
      "final step train 533\n"
     ]
    },
    {
     "name": "stderr",
     "output_type": "stream",
     "text": [
      "Epoch 33: : 132it [00:02, 61.12it/s, val_loss=0.277]\n",
      "Epoch 34: : 534it [00:26, 20.05it/s, loss=0.53]                                 \n"
     ]
    },
    {
     "name": "stdout",
     "output_type": "stream",
     "text": [
      "final step train 533\n"
     ]
    },
    {
     "name": "stderr",
     "output_type": "stream",
     "text": [
      "Epoch 34: : 132it [00:02, 61.71it/s, val_loss=0.278]\n",
      "Epoch 35: : 534it [00:26, 20.08it/s, loss=0.526]                                \n"
     ]
    },
    {
     "name": "stdout",
     "output_type": "stream",
     "text": [
      "final step train 533\n"
     ]
    },
    {
     "name": "stderr",
     "output_type": "stream",
     "text": [
      "Epoch 35: : 132it [00:02, 62.17it/s, val_loss=0.27] \n",
      "Epoch 36: : 534it [00:26, 20.21it/s, loss=0.525]                                \n"
     ]
    },
    {
     "name": "stdout",
     "output_type": "stream",
     "text": [
      "final step train 533\n"
     ]
    },
    {
     "name": "stderr",
     "output_type": "stream",
     "text": [
      "Epoch 36: : 132it [00:02, 62.01it/s, val_loss=0.267]\n",
      "Epoch 37: : 534it [00:26, 20.04it/s, loss=0.523]                                \n"
     ]
    },
    {
     "name": "stdout",
     "output_type": "stream",
     "text": [
      "final step train 533\n"
     ]
    },
    {
     "name": "stderr",
     "output_type": "stream",
     "text": [
      "Epoch 37: : 132it [00:02, 61.29it/s, val_loss=0.278]\n",
      "Epoch 38: : 534it [00:26, 20.21it/s, loss=0.523]                                \n"
     ]
    },
    {
     "name": "stdout",
     "output_type": "stream",
     "text": [
      "final step train 533\n"
     ]
    },
    {
     "name": "stderr",
     "output_type": "stream",
     "text": [
      "Epoch 38: : 132it [00:02, 62.59it/s, val_loss=0.285]\n",
      "Epoch 39: : 534it [00:26, 20.13it/s, loss=0.526]                                \n"
     ]
    },
    {
     "name": "stdout",
     "output_type": "stream",
     "text": [
      "final step train 533\n"
     ]
    },
    {
     "name": "stderr",
     "output_type": "stream",
     "text": [
      "Epoch 39: : 132it [00:02, 60.36it/s, val_loss=0.279]\n",
      "Epoch 40: : 534it [00:26, 20.04it/s, loss=0.532]                                \n"
     ]
    },
    {
     "name": "stdout",
     "output_type": "stream",
     "text": [
      "final step train 533\n"
     ]
    },
    {
     "name": "stderr",
     "output_type": "stream",
     "text": [
      "Epoch 40: : 132it [00:02, 61.89it/s, val_loss=0.274]\n",
      "Epoch 41: : 534it [00:26, 20.00it/s, loss=0.528]                                \n"
     ]
    },
    {
     "name": "stdout",
     "output_type": "stream",
     "text": [
      "final step train 533\n"
     ]
    },
    {
     "name": "stderr",
     "output_type": "stream",
     "text": [
      "Epoch 41: : 132it [00:02, 61.62it/s, val_loss=0.275]\n",
      "Epoch 42: : 534it [00:26, 20.11it/s, loss=0.527]                                \n"
     ]
    },
    {
     "name": "stdout",
     "output_type": "stream",
     "text": [
      "final step train 533\n"
     ]
    },
    {
     "name": "stderr",
     "output_type": "stream",
     "text": [
      "Epoch 42: : 132it [00:02, 61.35it/s, val_loss=0.308]\n",
      "Epoch 43: : 534it [00:26, 19.83it/s, loss=0.529]                                \n"
     ]
    },
    {
     "name": "stdout",
     "output_type": "stream",
     "text": [
      "final step train 533\n"
     ]
    },
    {
     "name": "stderr",
     "output_type": "stream",
     "text": [
      "Epoch 43: : 132it [00:02, 60.97it/s, val_loss=0.31] \n",
      "Epoch 44: : 534it [00:26, 20.22it/s, loss=0.526]                                \n"
     ]
    },
    {
     "name": "stdout",
     "output_type": "stream",
     "text": [
      "final step train 533\n"
     ]
    },
    {
     "name": "stderr",
     "output_type": "stream",
     "text": [
      "Epoch 44: : 132it [00:02, 61.49it/s, val_loss=0.306]\n",
      "Epoch 45: : 534it [00:26, 19.95it/s, loss=0.523]                                \n"
     ]
    },
    {
     "name": "stdout",
     "output_type": "stream",
     "text": [
      "final step train 533\n"
     ]
    },
    {
     "name": "stderr",
     "output_type": "stream",
     "text": [
      "Epoch 45: : 132it [00:02, 60.71it/s, val_loss=0.293]\n",
      "Epoch 46: : 534it [00:26, 20.02it/s, loss=0.526]                                \n"
     ]
    },
    {
     "name": "stdout",
     "output_type": "stream",
     "text": [
      "final step train 533\n"
     ]
    },
    {
     "name": "stderr",
     "output_type": "stream",
     "text": [
      "Epoch 46: : 132it [00:02, 61.20it/s, val_loss=0.254]\n",
      "Epoch 47: : 534it [00:26, 19.88it/s, loss=0.526]                                \n"
     ]
    },
    {
     "name": "stdout",
     "output_type": "stream",
     "text": [
      "final step train 533\n"
     ]
    },
    {
     "name": "stderr",
     "output_type": "stream",
     "text": [
      "Epoch 47: : 132it [00:02, 61.35it/s, val_loss=0.253]\n",
      "Epoch 48: : 534it [00:26, 20.19it/s, loss=0.526]                                \n"
     ]
    },
    {
     "name": "stdout",
     "output_type": "stream",
     "text": [
      "final step train 533\n"
     ]
    },
    {
     "name": "stderr",
     "output_type": "stream",
     "text": [
      "Epoch 48: : 132it [00:02, 61.04it/s, val_loss=0.274]\n",
      "Epoch 49: : 534it [00:26, 19.95it/s, loss=0.523]                                \n"
     ]
    },
    {
     "name": "stdout",
     "output_type": "stream",
     "text": [
      "final step train 533\n"
     ]
    },
    {
     "name": "stderr",
     "output_type": "stream",
     "text": [
      "Epoch 49: : 132it [00:02, 61.74it/s, val_loss=0.28] \n",
      "Epoch 50: : 534it [00:26, 20.03it/s, loss=0.525]                                \n"
     ]
    },
    {
     "name": "stdout",
     "output_type": "stream",
     "text": [
      "final step train 533\n"
     ]
    },
    {
     "name": "stderr",
     "output_type": "stream",
     "text": [
      "Epoch 50: : 132it [00:02, 59.53it/s, val_loss=0.292]\n",
      "Epoch 51: : 534it [00:26, 19.93it/s, loss=0.52]                                 \n"
     ]
    },
    {
     "name": "stdout",
     "output_type": "stream",
     "text": [
      "final step train 533\n"
     ]
    },
    {
     "name": "stderr",
     "output_type": "stream",
     "text": [
      "Epoch 51: : 132it [00:02, 60.65it/s, val_loss=0.299]\n",
      "Epoch 52: : 534it [00:26, 19.89it/s, loss=0.526]                                \n"
     ]
    },
    {
     "name": "stdout",
     "output_type": "stream",
     "text": [
      "final step train 533\n"
     ]
    },
    {
     "name": "stderr",
     "output_type": "stream",
     "text": [
      "Epoch 52: : 132it [00:02, 61.33it/s, val_loss=0.279]\n",
      "Epoch 53: : 534it [00:26, 20.04it/s, loss=0.52]                                 \n"
     ]
    },
    {
     "name": "stdout",
     "output_type": "stream",
     "text": [
      "final step train 533\n"
     ]
    },
    {
     "name": "stderr",
     "output_type": "stream",
     "text": [
      "Epoch 53: : 132it [00:02, 61.07it/s, val_loss=0.282]\n",
      "Epoch 54: : 534it [00:26, 19.83it/s, loss=0.524]                                \n"
     ]
    },
    {
     "name": "stdout",
     "output_type": "stream",
     "text": [
      "final step train 533\n"
     ]
    },
    {
     "name": "stderr",
     "output_type": "stream",
     "text": [
      "Epoch 54: : 132it [00:02, 60.71it/s, val_loss=0.296]\n",
      "Epoch 55: : 534it [00:26, 20.05it/s, loss=0.521]                                \n"
     ]
    },
    {
     "name": "stdout",
     "output_type": "stream",
     "text": [
      "final step train 533\n"
     ]
    },
    {
     "name": "stderr",
     "output_type": "stream",
     "text": [
      "Epoch 55: : 132it [00:02, 60.82it/s, val_loss=0.296]\n",
      "Epoch 56: : 534it [00:26, 19.90it/s, loss=0.524]                                \n"
     ]
    },
    {
     "name": "stdout",
     "output_type": "stream",
     "text": [
      "final step train 533\n"
     ]
    },
    {
     "name": "stderr",
     "output_type": "stream",
     "text": [
      "Epoch 56: : 132it [00:02, 60.35it/s, val_loss=0.288]\n",
      "Epoch 57: : 534it [00:26, 19.92it/s, loss=0.522]                                \n"
     ]
    },
    {
     "name": "stdout",
     "output_type": "stream",
     "text": [
      "final step train 533\n"
     ]
    },
    {
     "name": "stderr",
     "output_type": "stream",
     "text": [
      "Epoch 57: : 132it [00:02, 60.57it/s, val_loss=0.279]\n",
      "Epoch 58: : 534it [00:27, 19.76it/s, loss=0.523]                                \n"
     ]
    },
    {
     "name": "stdout",
     "output_type": "stream",
     "text": [
      "final step train 533\n"
     ]
    },
    {
     "name": "stderr",
     "output_type": "stream",
     "text": [
      "Epoch 58: : 132it [00:02, 61.55it/s, val_loss=0.265]\n",
      "Epoch 59: : 534it [00:26, 19.85it/s, loss=0.525]                                \n"
     ]
    },
    {
     "name": "stdout",
     "output_type": "stream",
     "text": [
      "final step train 533\n"
     ]
    },
    {
     "name": "stderr",
     "output_type": "stream",
     "text": [
      "Epoch 59: : 132it [00:02, 60.26it/s, val_loss=0.309]\n",
      "Epoch 60: : 534it [00:26, 19.94it/s, loss=0.521]                                \n"
     ]
    },
    {
     "name": "stdout",
     "output_type": "stream",
     "text": [
      "final step train 533\n"
     ]
    },
    {
     "name": "stderr",
     "output_type": "stream",
     "text": [
      "Epoch 60: : 132it [00:02, 60.22it/s, val_loss=0.284]\n",
      "Epoch 61: : 534it [00:27, 19.57it/s, loss=0.523]                                \n"
     ]
    },
    {
     "name": "stdout",
     "output_type": "stream",
     "text": [
      "final step train 533\n"
     ]
    },
    {
     "name": "stderr",
     "output_type": "stream",
     "text": [
      "Epoch 61: : 132it [00:02, 58.50it/s, val_loss=0.267]\n",
      "Epoch 62: : 534it [00:27, 19.67it/s, loss=0.527]                                \n"
     ]
    },
    {
     "name": "stdout",
     "output_type": "stream",
     "text": [
      "final step train 533\n"
     ]
    },
    {
     "name": "stderr",
     "output_type": "stream",
     "text": [
      "Epoch 62: : 132it [00:02, 61.49it/s, val_loss=0.278]\n",
      "Epoch 63: : 534it [00:27, 19.65it/s, loss=0.523]                                \n"
     ]
    },
    {
     "name": "stdout",
     "output_type": "stream",
     "text": [
      "final step train 533\n"
     ]
    },
    {
     "name": "stderr",
     "output_type": "stream",
     "text": [
      "Epoch 63: : 132it [00:02, 59.89it/s, val_loss=0.291]\n",
      "Epoch 64: : 534it [00:27, 19.59it/s, loss=0.52]                                 \n"
     ]
    },
    {
     "name": "stdout",
     "output_type": "stream",
     "text": [
      "final step train 533\n"
     ]
    },
    {
     "name": "stderr",
     "output_type": "stream",
     "text": [
      "Epoch 64: : 132it [00:02, 61.56it/s, val_loss=0.31] \n",
      "Epoch 65: : 534it [00:27, 19.39it/s, loss=0.517]                                \n"
     ]
    },
    {
     "name": "stdout",
     "output_type": "stream",
     "text": [
      "final step train 533\n"
     ]
    },
    {
     "name": "stderr",
     "output_type": "stream",
     "text": [
      "Epoch 65: : 132it [00:02, 55.48it/s, val_loss=0.353]\n",
      "Epoch 66: : 534it [00:28, 19.05it/s, loss=0.516]                                \n"
     ]
    },
    {
     "name": "stdout",
     "output_type": "stream",
     "text": [
      "final step train 533\n"
     ]
    },
    {
     "name": "stderr",
     "output_type": "stream",
     "text": [
      "Epoch 66: : 132it [00:02, 56.32it/s, val_loss=0.294]\n",
      "Epoch 67: : 534it [00:27, 19.12it/s, loss=0.524]                                \n"
     ]
    },
    {
     "name": "stdout",
     "output_type": "stream",
     "text": [
      "final step train 533\n"
     ]
    },
    {
     "name": "stderr",
     "output_type": "stream",
     "text": [
      "Epoch 67: : 132it [00:02, 57.70it/s, val_loss=0.303]\n",
      "Epoch 68: : 534it [00:27, 19.11it/s, loss=0.521]                                \n"
     ]
    },
    {
     "name": "stdout",
     "output_type": "stream",
     "text": [
      "final step train 533\n"
     ]
    },
    {
     "name": "stderr",
     "output_type": "stream",
     "text": [
      "Epoch 68: : 132it [00:02, 56.41it/s, val_loss=0.278]\n",
      "Epoch 69: : 534it [00:27, 19.10it/s, loss=0.523]                                \n"
     ]
    },
    {
     "name": "stdout",
     "output_type": "stream",
     "text": [
      "final step train 533\n"
     ]
    },
    {
     "name": "stderr",
     "output_type": "stream",
     "text": [
      "Epoch 69: : 132it [00:02, 58.40it/s, val_loss=0.302]\n",
      "Epoch 70: : 534it [00:27, 19.32it/s, loss=0.517]                                \n"
     ]
    },
    {
     "name": "stdout",
     "output_type": "stream",
     "text": [
      "final step train 533\n"
     ]
    },
    {
     "name": "stderr",
     "output_type": "stream",
     "text": [
      "Epoch 70: : 132it [00:02, 59.59it/s, val_loss=0.285]\n",
      "Epoch 71: : 534it [00:27, 19.31it/s, loss=0.518]                                \n"
     ]
    },
    {
     "name": "stdout",
     "output_type": "stream",
     "text": [
      "final step train 533\n"
     ]
    },
    {
     "name": "stderr",
     "output_type": "stream",
     "text": [
      "Epoch 71: : 132it [00:02, 58.24it/s, val_loss=0.302]\n",
      "Epoch 72: : 534it [00:27, 19.33it/s, loss=0.525]                                \n"
     ]
    },
    {
     "name": "stdout",
     "output_type": "stream",
     "text": [
      "final step train 533\n"
     ]
    },
    {
     "name": "stderr",
     "output_type": "stream",
     "text": [
      "Epoch 72: : 132it [00:02, 59.33it/s, val_loss=0.301]\n",
      "Epoch 73: : 534it [00:27, 19.47it/s, loss=0.522]                                \n"
     ]
    },
    {
     "name": "stdout",
     "output_type": "stream",
     "text": [
      "final step train 533\n"
     ]
    },
    {
     "name": "stderr",
     "output_type": "stream",
     "text": [
      "Epoch 73: : 132it [00:02, 59.77it/s, val_loss=0.301]\n",
      "Epoch 74: : 534it [00:26, 19.83it/s, loss=0.523]                                \n"
     ]
    },
    {
     "name": "stdout",
     "output_type": "stream",
     "text": [
      "final step train 533\n"
     ]
    },
    {
     "name": "stderr",
     "output_type": "stream",
     "text": [
      "Epoch 74: : 132it [00:02, 60.28it/s, val_loss=0.321]\n",
      "Epoch 75: : 534it [00:26, 19.82it/s, loss=0.523]                                \n"
     ]
    },
    {
     "name": "stdout",
     "output_type": "stream",
     "text": [
      "final step train 533\n"
     ]
    },
    {
     "name": "stderr",
     "output_type": "stream",
     "text": [
      "Epoch 75: : 132it [00:02, 59.62it/s, val_loss=0.3]  \n",
      "Epoch 76: : 534it [00:26, 19.90it/s, loss=0.518]                                \n"
     ]
    },
    {
     "name": "stdout",
     "output_type": "stream",
     "text": [
      "final step train 533\n"
     ]
    },
    {
     "name": "stderr",
     "output_type": "stream",
     "text": [
      "Epoch 76: : 132it [00:02, 60.27it/s, val_loss=0.292]\n",
      "Epoch 77: : 534it [00:26, 19.87it/s, loss=0.522]                                \n"
     ]
    },
    {
     "name": "stdout",
     "output_type": "stream",
     "text": [
      "final step train 533\n"
     ]
    },
    {
     "name": "stderr",
     "output_type": "stream",
     "text": [
      "Epoch 77: : 132it [00:02, 60.70it/s, val_loss=0.302]\n",
      "Epoch 78: : 534it [00:26, 19.78it/s, loss=0.522]                                \n"
     ]
    },
    {
     "name": "stdout",
     "output_type": "stream",
     "text": [
      "final step train 533\n"
     ]
    },
    {
     "name": "stderr",
     "output_type": "stream",
     "text": [
      "Epoch 78: : 132it [00:02, 59.56it/s, val_loss=0.292]\n",
      "Epoch 79: : 534it [00:26, 19.85it/s, loss=0.524]                                \n"
     ]
    },
    {
     "name": "stdout",
     "output_type": "stream",
     "text": [
      "final step train 533\n"
     ]
    },
    {
     "name": "stderr",
     "output_type": "stream",
     "text": [
      "Epoch 79: : 132it [00:02, 61.08it/s, val_loss=0.29] \n",
      "Epoch 80: : 534it [00:27, 19.76it/s, loss=0.518]                                \n"
     ]
    },
    {
     "name": "stdout",
     "output_type": "stream",
     "text": [
      "final step train 533\n"
     ]
    },
    {
     "name": "stderr",
     "output_type": "stream",
     "text": [
      "Epoch 80: : 132it [00:02, 59.27it/s, val_loss=0.305]\n",
      "Epoch 81: : 534it [00:26, 19.92it/s, loss=0.517]                                \n"
     ]
    },
    {
     "name": "stdout",
     "output_type": "stream",
     "text": [
      "final step train 533\n"
     ]
    },
    {
     "name": "stderr",
     "output_type": "stream",
     "text": [
      "Epoch 81: : 132it [00:02, 61.01it/s, val_loss=0.314]\n",
      "Epoch 82: : 534it [00:27, 19.75it/s, loss=0.515]                                \n"
     ]
    },
    {
     "name": "stdout",
     "output_type": "stream",
     "text": [
      "final step train 533\n"
     ]
    },
    {
     "name": "stderr",
     "output_type": "stream",
     "text": [
      "Epoch 82: : 132it [00:02, 59.88it/s, val_loss=0.309]\n",
      "Epoch 83: : 534it [00:26, 19.84it/s, loss=0.52]                                 \n"
     ]
    },
    {
     "name": "stdout",
     "output_type": "stream",
     "text": [
      "final step train 533\n"
     ]
    },
    {
     "name": "stderr",
     "output_type": "stream",
     "text": [
      "Epoch 83: : 132it [00:02, 59.66it/s, val_loss=0.296]\n",
      "Epoch 84: : 534it [00:27, 19.69it/s, loss=0.519]                                \n"
     ]
    },
    {
     "name": "stdout",
     "output_type": "stream",
     "text": [
      "final step train 533\n"
     ]
    },
    {
     "name": "stderr",
     "output_type": "stream",
     "text": [
      "Epoch 84: : 132it [00:02, 59.83it/s, val_loss=0.332]\n",
      "Epoch 85: : 534it [00:26, 19.85it/s, loss=0.522]                                \n"
     ]
    },
    {
     "name": "stdout",
     "output_type": "stream",
     "text": [
      "final step train 533\n"
     ]
    },
    {
     "name": "stderr",
     "output_type": "stream",
     "text": [
      "Epoch 85: : 132it [00:02, 59.60it/s, val_loss=0.317]\n",
      "Epoch 86: : 534it [00:27, 19.77it/s, loss=0.522]                                \n"
     ]
    },
    {
     "name": "stdout",
     "output_type": "stream",
     "text": [
      "final step train 533\n"
     ]
    },
    {
     "name": "stderr",
     "output_type": "stream",
     "text": [
      "Epoch 86: : 132it [00:02, 58.63it/s, val_loss=0.302]\n",
      "Epoch 87: : 534it [00:26, 19.79it/s, loss=0.519]                                \n"
     ]
    },
    {
     "name": "stdout",
     "output_type": "stream",
     "text": [
      "final step train 533\n"
     ]
    },
    {
     "name": "stderr",
     "output_type": "stream",
     "text": [
      "Epoch 87: : 132it [00:02, 60.47it/s, val_loss=0.296]\n",
      "Epoch 88: : 534it [00:27, 19.74it/s, loss=0.515]                                \n"
     ]
    },
    {
     "name": "stdout",
     "output_type": "stream",
     "text": [
      "final step train 533\n"
     ]
    },
    {
     "name": "stderr",
     "output_type": "stream",
     "text": [
      "Epoch 88: : 132it [00:02, 60.28it/s, val_loss=0.312]\n",
      "Epoch 89: : 534it [00:26, 19.89it/s, loss=0.524]                                \n"
     ]
    },
    {
     "name": "stdout",
     "output_type": "stream",
     "text": [
      "final step train 533\n"
     ]
    },
    {
     "name": "stderr",
     "output_type": "stream",
     "text": [
      "Epoch 89: : 132it [00:02, 60.52it/s, val_loss=0.289]\n",
      "Epoch 90: : 534it [00:26, 19.79it/s, loss=0.519]                                \n"
     ]
    },
    {
     "name": "stdout",
     "output_type": "stream",
     "text": [
      "final step train 533\n"
     ]
    },
    {
     "name": "stderr",
     "output_type": "stream",
     "text": [
      "Epoch 90: : 132it [00:02, 59.43it/s, val_loss=0.332]\n",
      "Epoch 91: : 534it [00:26, 19.82it/s, loss=0.517]                                \n"
     ]
    },
    {
     "name": "stdout",
     "output_type": "stream",
     "text": [
      "final step train 533\n"
     ]
    },
    {
     "name": "stderr",
     "output_type": "stream",
     "text": [
      "Epoch 91: : 132it [00:02, 60.42it/s, val_loss=0.31] \n",
      "Epoch 92: : 534it [00:26, 19.81it/s, loss=0.514]                                \n"
     ]
    },
    {
     "name": "stdout",
     "output_type": "stream",
     "text": [
      "final step train 533\n"
     ]
    },
    {
     "name": "stderr",
     "output_type": "stream",
     "text": [
      "Epoch 92: : 132it [00:02, 59.98it/s, val_loss=0.299]\n",
      "Epoch 93: : 534it [00:26, 19.90it/s, loss=0.524]                                \n"
     ]
    },
    {
     "name": "stdout",
     "output_type": "stream",
     "text": [
      "final step train 533\n"
     ]
    },
    {
     "name": "stderr",
     "output_type": "stream",
     "text": [
      "Epoch 93: : 132it [00:02, 61.64it/s, val_loss=0.315]\n",
      "Epoch 94: : 534it [00:26, 19.84it/s, loss=0.516]                                \n"
     ]
    },
    {
     "name": "stdout",
     "output_type": "stream",
     "text": [
      "final step train 533\n"
     ]
    },
    {
     "name": "stderr",
     "output_type": "stream",
     "text": [
      "Epoch 94: : 132it [00:02, 60.29it/s, val_loss=0.331]\n",
      "Epoch 95: : 534it [00:26, 19.84it/s, loss=0.514]                                \n"
     ]
    },
    {
     "name": "stdout",
     "output_type": "stream",
     "text": [
      "final step train 533\n"
     ]
    },
    {
     "name": "stderr",
     "output_type": "stream",
     "text": [
      "Epoch 95: : 132it [00:02, 61.00it/s, val_loss=0.306]\n",
      "Epoch 96: : 534it [00:27, 19.72it/s, loss=0.52]                                 \n"
     ]
    },
    {
     "name": "stdout",
     "output_type": "stream",
     "text": [
      "final step train 533\n"
     ]
    },
    {
     "name": "stderr",
     "output_type": "stream",
     "text": [
      "Epoch 96: : 132it [00:02, 59.72it/s, val_loss=0.307]\n",
      "Epoch 97: : 534it [00:26, 19.99it/s, loss=0.52]                                 \n"
     ]
    },
    {
     "name": "stdout",
     "output_type": "stream",
     "text": [
      "final step train 533\n"
     ]
    },
    {
     "name": "stderr",
     "output_type": "stream",
     "text": [
      "Epoch 97: : 132it [00:02, 60.52it/s, val_loss=0.336]\n",
      "Epoch 98: : 534it [00:26, 19.83it/s, loss=0.512]                                \n"
     ]
    },
    {
     "name": "stdout",
     "output_type": "stream",
     "text": [
      "final step train 533\n"
     ]
    },
    {
     "name": "stderr",
     "output_type": "stream",
     "text": [
      "Epoch 98: : 132it [00:02, 60.33it/s, val_loss=0.36] \n",
      "Epoch 99: : 534it [00:26, 19.87it/s, loss=0.514]                                \n"
     ]
    },
    {
     "name": "stdout",
     "output_type": "stream",
     "text": [
      "final step train 533\n"
     ]
    },
    {
     "name": "stderr",
     "output_type": "stream",
     "text": [
      "Epoch 99: : 132it [00:02, 60.57it/s, val_loss=0.327]\n"
     ]
    },
    {
     "name": "stdout",
     "output_type": "stream",
     "text": [
      "train completed, total time: 2959.368038415909.\n",
      "epl 100\n"
     ]
    },
    {
     "data": {
      "image/png": "[encoded data removed]",
      "text/plain": [
       "<Figure size 640x480 with 1 Axes>"
      ]
     },
     "metadata": {},
     "output_type": "display_data"
    }
   ],
   "source": [
    "train_classifier=True\n",
    "\n",
    "n_epochs = 100\n",
    "val_interval = 1\n",
    "epoch_loss_list = []\n",
    "val_epoch_loss_list = []\n",
    "optimizer_cls = torch.optim.Adam(params=classifier.parameters(),  lr=2.5e-5)\n",
    "\n",
    "classifier.to(device)\n",
    "weight=torch.tensor((3,1)).float().to(device) #account for the class imbalance in the dataset\n",
    "\n",
    "\n",
    "if train_classifier==False:\n",
    "    classifier.load_state_dict(torch.load(\"./classifier_small.pt\", map_location={'cuda:0': 'cpu'}))\n",
    "else:\n",
    "\n",
    "    scaler = GradScaler()\n",
    "    total_start = time.time()\n",
    "    for epoch in range(n_epochs):\n",
    "        classifier.train()\n",
    "        epoch_loss = 0\n",
    "        indexes = list(torch.randperm(total_train_slices.shape[0]))\n",
    "        data_train = total_train_slices[indexes]  # shuffle the training data\n",
    "        labels_train = total_train_labels[indexes]\n",
    "        subset_2D = zip(data_train.split(batch_size), labels_train.split(batch_size))\n",
    "        progress_bar = tqdm(enumerate(subset_2D), total=len(indexes)/batch_size)\n",
    "        progress_bar.set_description(f\"Epoch {epoch}\")\n",
    "\n",
    "        for step, (a,b) in progress_bar:\n",
    "            images = a.to(device)\n",
    "            classes = b.to(device)\n",
    "            \n",
    "            optimizer_cls.zero_grad(set_to_none=True)\n",
    "            timesteps = torch.randint(0, 1000, (len(images),)).to(device)\n",
    "\n",
    "            with autocast(enabled=False):\n",
    "                # Generate random noise\n",
    "                noise = torch.randn_like(images).to(device)\n",
    "\n",
    "                # Get model prediction\n",
    "                noisy_img=scheduler.add_noise(images,noise, timesteps )   #add t steps of noise to the input image\n",
    "                pred=classifier(noisy_img, timesteps)\n",
    "                loss = F.cross_entropy(pred, classes.long(), weight=weight, reduction=\"mean\")\n",
    "\n",
    "            loss.backward()\n",
    "            optimizer_cls.step()\n",
    "\n",
    "            epoch_loss += loss.item()\n",
    "            progress_bar.set_postfix(\n",
    "                    {\n",
    "                        \"loss\": epoch_loss / (step + 1),\n",
    "                    }\n",
    "                )\n",
    "        epoch_loss_list.append(epoch_loss / (step + 1))\n",
    "        print('final step train', step)\n",
    "\n",
    "\n",
    "        if (epoch + 1) % val_interval == 0:\n",
    "            classifier.eval()\n",
    "            val_epoch_loss = 0\n",
    "            subset_2D_val = zip(total_val_slices.split(batch_size), total_val_labels.split(batch_size))  #\n",
    "            progress_bar_val = tqdm(enumerate(subset_2D_val))\n",
    "            progress_bar_val.set_description(f\"Epoch {epoch}\")\n",
    "            for step, (a,b) in progress_bar_val:\n",
    "                images = a.to(device)\n",
    "                classes = b.to(device)\n",
    "                timesteps = torch.randint(0, 1, (len(images),)).to(device)  #check validation accuracy on the original images, i.e., do not add noise\n",
    "\n",
    "                with torch.no_grad():\n",
    "                    with autocast(enabled=False):\n",
    "                        noise = torch.randn_like(images).to(device)\n",
    "                        pred = classifier(images, timesteps)\n",
    "                        val_loss = F.cross_entropy(pred, classes.long(), reduction=\"mean\")\n",
    "\n",
    "                val_epoch_loss += val_loss.item()\n",
    "                _, predicted = torch.max(pred, 1);\n",
    "                progress_bar_val.set_postfix(\n",
    "                    {\n",
    "                        \"val_loss\": val_epoch_loss / (step + 1),\n",
    "                    }\n",
    "                )\n",
    "            val_epoch_loss_list.append(val_epoch_loss / (step + 1))\n",
    "\n",
    "\n",
    "    total_time = time.time() - total_start\n",
    "    print(f\"train completed, total time: {total_time}.\")\n",
    "    torch.save(classifier.state_dict(), \"./classifier_100.pt\")\n",
    "    \n",
    "    ## Learning curves for the Classifier\n",
    "    \n",
    "    plt.style.use(\"seaborn-bright\")\n",
    "    plt.title(\"Learning Curves\", fontsize=20)\n",
    "    print('epl', len(epoch_loss_list))\n",
    "    plt.plot(np.linspace(1, n_epochs, n_epochs), epoch_loss_list, color=\"C0\", linewidth=2.0, label=\"Train\")\n",
    "    plt.plot(\n",
    "        np.linspace(val_interval, n_epochs, int(n_epochs / val_interval)),\n",
    "        val_epoch_loss_list,\n",
    "        color=\"C1\",\n",
    "        linewidth=2.0,\n",
    "        label=\"Validation\",\n",
    "    )\n",
    "    plt.yticks(fontsize=12)\n",
    "    plt.xticks(fontsize=12)\n",
    "    plt.xlabel(\"Epochs\", fontsize=16)\n",
    "    plt.ylabel(\"Loss\", fontsize=16)\n",
    "    plt.legend(prop={\"size\": 14})\n",
    "    plt.show()"
   ]
  },
  {
   "cell_type": "markdown",
   "id": "a676b3fe",
   "metadata": {},
   "source": [
    "# Image-to-Image Translation to a Healthy Subject\n",
    "We pick a diseased subject of the validation set as input image. We want to translate it to its healthy reconstruction."
   ]
  },
  {
   "cell_type": "code",
   "execution_count": 124,
   "id": "fe0d9eac-1477-4d6d-a885-d3c4acb4a781",
   "metadata": {},
   "outputs": [
    {
     "data": {
      "image/png": "[encoded data removed]",
      "text/plain": [
       "<Figure size 640x480 with 1 Axes>"
      ]
     },
     "metadata": {},
     "output_type": "display_data"
    },
    {
     "data": {
      "text/plain": [
       "DiffusionModelEncoder(\n",
       "  (conv_in): Convolution(\n",
       "    (conv): Conv2d(1, 32, kernel_size=(3, 3), stride=(1, 1), padding=(1, 1))\n",
       "  )\n",
       "  (time_embed): Sequential(\n",
       "    (0): Linear(in_features=32, out_features=128, bias=True)\n",
       "    (1): SiLU()\n",
       "    (2): Linear(in_features=128, out_features=128, bias=True)\n",
       "  )\n",
       "  (down_blocks): ModuleList(\n",
       "    (0): DownBlock(\n",
       "      (resnets): ModuleList(\n",
       "        (0): ResnetBlock(\n",
       "          (norm1): GroupNorm(32, 32, eps=1e-06, affine=True)\n",
       "          (nonlinearity): SiLU()\n",
       "          (conv1): Convolution(\n",
       "            (conv): Conv2d(32, 32, kernel_size=(3, 3), stride=(1, 1), padding=(1, 1))\n",
       "          )\n",
       "          (time_emb_proj): Linear(in_features=128, out_features=32, bias=True)\n",
       "          (norm2): GroupNorm(32, 32, eps=1e-06, affine=True)\n",
       "          (conv2): Convolution(\n",
       "            (conv): Conv2d(32, 32, kernel_size=(3, 3), stride=(1, 1), padding=(1, 1))\n",
       "          )\n",
       "          (skip_connection): Identity()\n",
       "        )\n",
       "      )\n",
       "      (downsampler): Downsample(\n",
       "        (op): Convolution(\n",
       "          (conv): Conv2d(32, 32, kernel_size=(3, 3), stride=(2, 2), padding=(1, 1))\n",
       "        )\n",
       "      )\n",
       "    )\n",
       "    (1): AttnDownBlock(\n",
       "      (attentions): ModuleList(\n",
       "        (0): AttentionBlock(\n",
       "          (norm): GroupNorm(32, 64, eps=1e-06, affine=True)\n",
       "          (query): Linear(in_features=64, out_features=64, bias=True)\n",
       "          (key): Linear(in_features=64, out_features=64, bias=True)\n",
       "          (value): Linear(in_features=64, out_features=64, bias=True)\n",
       "          (proj_attn): Linear(in_features=64, out_features=64, bias=True)\n",
       "        )\n",
       "      )\n",
       "      (resnets): ModuleList(\n",
       "        (0): ResnetBlock(\n",
       "          (norm1): GroupNorm(32, 32, eps=1e-06, affine=True)\n",
       "          (nonlinearity): SiLU()\n",
       "          (conv1): Convolution(\n",
       "            (conv): Conv2d(32, 64, kernel_size=(3, 3), stride=(1, 1), padding=(1, 1))\n",
       "          )\n",
       "          (time_emb_proj): Linear(in_features=128, out_features=64, bias=True)\n",
       "          (norm2): GroupNorm(32, 64, eps=1e-06, affine=True)\n",
       "          (conv2): Convolution(\n",
       "            (conv): Conv2d(64, 64, kernel_size=(3, 3), stride=(1, 1), padding=(1, 1))\n",
       "          )\n",
       "          (skip_connection): Convolution(\n",
       "            (conv): Conv2d(32, 64, kernel_size=(1, 1), stride=(1, 1))\n",
       "          )\n",
       "        )\n",
       "      )\n",
       "      (downsampler): Downsample(\n",
       "        (op): Convolution(\n",
       "          (conv): Conv2d(64, 64, kernel_size=(3, 3), stride=(2, 2), padding=(1, 1))\n",
       "        )\n",
       "      )\n",
       "    )\n",
       "    (2): AttnDownBlock(\n",
       "      (attentions): ModuleList(\n",
       "        (0): AttentionBlock(\n",
       "          (norm): GroupNorm(32, 64, eps=1e-06, affine=True)\n",
       "          (query): Linear(in_features=64, out_features=64, bias=True)\n",
       "          (key): Linear(in_features=64, out_features=64, bias=True)\n",
       "          (value): Linear(in_features=64, out_features=64, bias=True)\n",
       "          (proj_attn): Linear(in_features=64, out_features=64, bias=True)\n",
       "        )\n",
       "      )\n",
       "      (resnets): ModuleList(\n",
       "        (0): ResnetBlock(\n",
       "          (norm1): GroupNorm(32, 64, eps=1e-06, affine=True)\n",
       "          (nonlinearity): SiLU()\n",
       "          (conv1): Convolution(\n",
       "            (conv): Conv2d(64, 64, kernel_size=(3, 3), stride=(1, 1), padding=(1, 1))\n",
       "          )\n",
       "          (time_emb_proj): Linear(in_features=128, out_features=64, bias=True)\n",
       "          (norm2): GroupNorm(32, 64, eps=1e-06, affine=True)\n",
       "          (conv2): Convolution(\n",
       "            (conv): Conv2d(64, 64, kernel_size=(3, 3), stride=(1, 1), padding=(1, 1))\n",
       "          )\n",
       "          (skip_connection): Identity()\n",
       "        )\n",
       "      )\n",
       "      (downsampler): Downsample(\n",
       "        (op): Convolution(\n",
       "          (conv): Conv2d(64, 64, kernel_size=(3, 3), stride=(2, 2), padding=(1, 1))\n",
       "        )\n",
       "      )\n",
       "    )\n",
       "  )\n",
       "  (out): Sequential(\n",
       "    (0): Linear(in_features=4096, out_features=512, bias=True)\n",
       "    (1): ReLU()\n",
       "    (2): Dropout(p=0.1, inplace=False)\n",
       "    (3): Linear(in_features=512, out_features=2, bias=True)\n",
       "  )\n",
       ")"
      ]
     },
     "execution_count": 124,
     "metadata": {},
     "output_type": "execute_result"
    }
   ],
   "source": [
    "\n",
    "\n",
    "inputimg = total_val_slices[150][0,...]  # Pick an input slice of the validation set to be transformed   \n",
    "inputlabel= total_val_labels[150]        # Check whether it is healthy or diseased\n",
    "\n",
    "plt.figure(\"input\"+str(inputlabel))\n",
    "plt.imshow(inputimg, vmin=0, vmax=1, cmap=\"gray\")\n",
    "plt.axis(\"off\")\n",
    "plt.tight_layout()\n",
    "plt.show()\n",
    "\n",
    "model.eval()\n",
    "classifier.eval()"
   ]
  },
  {
   "cell_type": "markdown",
   "id": "0cd48c2d",
   "metadata": {},
   "source": [
    "### Encoding the input image in noise with the reversed DDIM sampling scheme\n",
    "In order to sample using gradient guidance, we first need to encode the input image in noise by using the reversed DDIM sampling scheme.\\\n",
    "We define the number of steps in the noising and denoising process by L.\\\n",
    "The encoding process is presented in Equation of the paper \"Diffusion Models for Medical Anomaly Detection\" (https://arxiv.org/pdf/2203.04306.pdf).\n"
   ]
  },
  {
   "cell_type": "code",
   "execution_count": 125,
   "id": "f71e4924",
   "metadata": {
    "collapsed": false,
    "jupyter": {
     "outputs_hidden": false
    }
   },
   "outputs": [
    {
     "name": "stderr",
     "output_type": "stream",
     "text": [
      "100%|█████████████████████████████████████████| 200/200 [00:04<00:00, 44.00it/s]\n"
     ]
    },
    {
     "data": {
      "image/png": "[encoded data removed]",
      "text/plain": [
       "<Figure size 640x480 with 1 Axes>"
      ]
     },
     "metadata": {},
     "output_type": "display_data"
    }
   ],
   "source": [
    "L=200\n",
    "current_img = inputimg[None,None,...].to(device)\n",
    "scheduler.set_timesteps(num_inference_steps=1000)\n",
    "\n",
    "\n",
    "progress_bar = tqdm(range(L))   #go back and forth L timesteps\n",
    "for t in progress_bar:  #go through the noising process\n",
    "\n",
    "    with autocast(enabled=False):\n",
    "        with torch.no_grad():\n",
    "            model_output = model(current_img, timesteps=torch.Tensor((t,)).to(current_img.device))\n",
    "    current_img, _ = scheduler.reversed_step(model_output, t, current_img)\n",
    "\n",
    "plt.style.use(\"default\")\n",
    "plt.imshow(current_img[0, 0].cpu(), vmin=0, vmax=1, cmap=\"gray\")\n",
    "plt.tight_layout()\n",
    "plt.axis(\"off\")\n",
    "plt.show()\n",
    "\n"
   ]
  },
  {
   "cell_type": "markdown",
   "id": "a7c8346a-6296-4800-b978-c10fcdf09779",
   "metadata": {},
   "source": [
    "### Denoising Process using Gradient Guidance\n",
    "From the noisy image, we apply DDIM sampling scheme for denoising for L steps.\n",
    "Additionally, we apply gradient guidance using the classifier network towards the desired class label y=0 (healthy). This is presented in Algorithm 2 of https://arxiv.org/pdf/2105.05233.pdf, and in Algorithm 1 of https://arxiv.org/pdf/2203.04306.pdf. \\\n",
    "The scale s is used to amplify the gradient."
   ]
  },
  {
   "cell_type": "code",
   "execution_count": 126,
   "id": "7ab274bd-ea60-4674-b59b-d41de98fee5b",
   "metadata": {
    "lines_to_next_cell": 2
   },
   "outputs": [
    {
     "name": "stderr",
     "output_type": "stream",
     "text": [
      "100%|█████████████████████████████████████████| 200/200 [00:11<00:00, 17.41it/s]\n"
     ]
    },
    {
     "data": {
      "image/png": "[encoded data removed]",
      "text/plain": [
       "<Figure size 640x480 with 1 Axes>"
      ]
     },
     "metadata": {},
     "output_type": "display_data"
    }
   ],
   "source": [
    "\n",
    "\n",
    "y=torch.tensor(0)  #define the desired class label\n",
    "scale=5     #define the desired gradient scale s\n",
    "progress_bar = tqdm(range(L))   #go back and forth L timesteps\n",
    "\n",
    "for i in progress_bar:  #go through the denoising process\n",
    "\n",
    "    t=L-i\n",
    "    with autocast(enabled=True):\n",
    "        with torch.no_grad():\n",
    "            model_output = model(current_img, timesteps=torch.Tensor((t,)).to(current_img.device)).detach() # this is supposed to be epsilon\n",
    "\n",
    "        with torch.enable_grad():\n",
    "            x_in = current_img.detach().requires_grad_(True)\n",
    "            logits = classifier(x_in, timesteps=torch.Tensor((t,)).to(current_img.device))\n",
    "            log_probs = F.log_softmax(logits, dim=-1)\n",
    "            selected = log_probs[range(len(logits)), y.view(-1)]\n",
    "            a = torch.autograd.grad(selected.sum(), x_in)[0]\n",
    "            alpha_prod_t = scheduler.alphas_cumprod[t]\n",
    "            updated_noise = model_output- (1 - alpha_prod_t).sqrt() * scale*a  #update the predicted noise epsilon with the gradient of the classifier\n",
    "\n",
    "    current_img, _ = scheduler.step(updated_noise, t, current_img)\n",
    "    torch.cuda.empty_cache()\n",
    "\n",
    "plt.style.use(\"default\")\n",
    "plt.imshow(current_img[0, 0].cpu().detach().numpy(), vmin=0, vmax=1, cmap=\"gray\")\n",
    "plt.tight_layout()\n",
    "plt.axis(\"off\")\n",
    "plt.show()"
   ]
  },
  {
   "cell_type": "markdown",
   "id": "d2e343f8-c6f3-4071-a5e6-771e2343c3bc",
   "metadata": {},
   "source": [
    "# Anomaly Detection\n",
    "To get the anomaly map, we compute the difference between the input image the output of our image-to-image translation model, which is the healthy reconstruction."
   ]
  },
  {
   "cell_type": "code",
   "execution_count": 127,
   "id": "ecffaaf3-a7df-453e-81a9-757113d85084",
   "metadata": {},
   "outputs": [
    {
     "data": {
      "image/png": "[encoded data removed]",
      "text/plain": [
       "<Figure size 640x480 with 1 Axes>"
      ]
     },
     "metadata": {},
     "output_type": "display_data"
    }
   ],
   "source": [
    "def visualize(img):\n",
    "    _min = img.min()\n",
    "    _max = img.max()\n",
    "    normalized_img = (img - _min)/ (_max - _min)\n",
    "    return normalized_img\n",
    "\n",
    "diff=abs(inputimg.cpu()-current_img[0, 0].cpu()).detach().numpy()\n",
    "plt.style.use(\"default\")\n",
    "plt.imshow(diff, cmap=\"jet\")\n",
    "plt.tight_layout()\n",
    "plt.axis(\"off\")\n",
    "plt.show()"
   ]
  },
  {
   "cell_type": "code",
   "execution_count": null,
   "id": "a0aff7cd-91a5-406d-81d6-69921f9dc141",
   "metadata": {},
   "outputs": [],
   "source": []
  },
  {
   "cell_type": "code",
   "execution_count": null,
   "id": "bfec3184-a975-4f23-a054-3a327789b435",
   "metadata": {},
   "outputs": [],
   "source": []
  }
 ],
 "metadata": {
  "jupytext": {
   "formats": "py:percent,ipynb"
  },
  "kernelspec": {
   "display_name": "Python 3 (ipykernel)",
   "language": "python",
   "name": "python3"
  },
  "language_info": {
   "codemirror_mode": {
    "name": "ipython",
    "version": 3
   },
   "file_extension": ".py",
   "mimetype": "text/x-python",
   "name": "python",
   "nbconvert_exporter": "python",
   "pygments_lexer": "ipython3",
   "version": "3.10.5"
  }
 },
 "nbformat": 4,
 "nbformat_minor": 5
}
