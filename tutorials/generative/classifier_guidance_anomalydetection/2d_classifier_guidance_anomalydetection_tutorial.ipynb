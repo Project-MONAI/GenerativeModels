{
 "cells": [
  {
   "cell_type": "markdown",
   "id": "63d95da6",
   "metadata": {},
   "source": [
    "# Anomaly Detection with classifier guidance\n",
    "\n",
    "This tutorial illustrates how to use MONAI for training a 2D gradient-guided anomaly detection using DDIMs [1].\n",
    "\n",
    "\n",
    "[1] - Wolleb et al. \"Diffusion Models for Medical Anomaly Detection\" https://arxiv.org/abs/2203.04306\n",
    "\n",
    "\n",
    "TODO: Add Open in Colab\n",
    "\n",
    "## Setup environment"
   ]
  },
  {
   "cell_type": "code",
   "execution_count": 3,
   "id": "75f2d5f3",
   "metadata": {},
   "outputs": [
    {
     "name": "stdout",
     "output_type": "stream",
     "text": [
      "running install\n",
      "/home/juliawolleb/anaconda3/envs/experiment/lib/python3.10/site-packages/setuptools/command/install.py:34: SetuptoolsDeprecationWarning: setup.py install is deprecated. Use build and pip and other standards-based tools.\n",
      "  warnings.warn(\n",
      "/home/juliawolleb/anaconda3/envs/experiment/lib/python3.10/site-packages/setuptools/command/easy_install.py:144: EasyInstallDeprecationWarning: easy_install command is deprecated. Use build and pip and other standards-based tools.\n",
      "  warnings.warn(\n",
      "running bdist_egg\n",
      "running egg_info\n",
      "writing generative.egg-info/PKG-INFO\n",
      "writing dependency_links to generative.egg-info/dependency_links.txt\n",
      "writing requirements to generative.egg-info/requires.txt\n",
      "writing top-level names to generative.egg-info/top_level.txt\n",
      "reading manifest file 'generative.egg-info/SOURCES.txt'\n",
      "writing manifest file 'generative.egg-info/SOURCES.txt'\n",
      "installing library code to build/bdist.linux-x86_64/egg\n",
      "running install_lib\n",
      "warning: install_lib: 'build/lib' does not exist -- no Python modules to install\n",
      "\n",
      "creating build/bdist.linux-x86_64/egg\n",
      "creating build/bdist.linux-x86_64/egg/EGG-INFO\n",
      "copying generative.egg-info/PKG-INFO -> build/bdist.linux-x86_64/egg/EGG-INFO\n",
      "copying generative.egg-info/SOURCES.txt -> build/bdist.linux-x86_64/egg/EGG-INFO\n",
      "copying generative.egg-info/dependency_links.txt -> build/bdist.linux-x86_64/egg/EGG-INFO\n",
      "copying generative.egg-info/requires.txt -> build/bdist.linux-x86_64/egg/EGG-INFO\n",
      "copying generative.egg-info/top_level.txt -> build/bdist.linux-x86_64/egg/EGG-INFO\n",
      "zip_safe flag not set; analyzing archive contents...\n",
      "creating 'dist/generative-0.1.0-py3.10.egg' and adding 'build/bdist.linux-x86_64/egg' to it\n",
      "removing 'build/bdist.linux-x86_64/egg' (and everything under it)\n",
      "Processing generative-0.1.0-py3.10.egg\n",
      "Removing /home/juliawolleb/anaconda3/envs/experiment/lib/python3.10/site-packages/generative-0.1.0-py3.10.egg\n",
      "Copying generative-0.1.0-py3.10.egg to /home/juliawolleb/anaconda3/envs/experiment/lib/python3.10/site-packages\n",
      "generative 0.1.0 is already the active version in easy-install.pth\n",
      "\n",
      "Installed /home/juliawolleb/anaconda3/envs/experiment/lib/python3.10/site-packages/generative-0.1.0-py3.10.egg\n",
      "Processing dependencies for generative==0.1.0\n",
      "Searching for lpips==0.1.4\n",
      "Best match: lpips 0.1.4\n",
      "Processing lpips-0.1.4-py3.10.egg\n",
      "lpips 0.1.4 is already the active version in easy-install.pth\n",
      "\n",
      "Using /home/juliawolleb/anaconda3/envs/experiment/lib/python3.10/site-packages/lpips-0.1.4-py3.10.egg\n",
      "Searching for tqdm==4.64.1\n",
      "Best match: tqdm 4.64.1\n",
      "Processing tqdm-4.64.1-py3.10.egg\n",
      "tqdm 4.64.1 is already the active version in easy-install.pth\n",
      "Installing tqdm script to /home/juliawolleb/anaconda3/envs/experiment/bin\n",
      "\n",
      "Using /home/juliawolleb/anaconda3/envs/experiment/lib/python3.10/site-packages/tqdm-4.64.1-py3.10.egg\n",
      "Searching for scipy==1.9.0\n",
      "Best match: scipy 1.9.0\n",
      "Adding scipy 1.9.0 to easy-install.pth file\n",
      "\n",
      "Using /home/juliawolleb/anaconda3/envs/experiment/lib/python3.10/site-packages\n",
      "Searching for numpy==1.23.2\n",
      "Best match: numpy 1.23.2\n",
      "Adding numpy 1.23.2 to easy-install.pth file\n",
      "Installing f2py script to /home/juliawolleb/anaconda3/envs/experiment/bin\n",
      "Installing f2py3 script to /home/juliawolleb/anaconda3/envs/experiment/bin\n",
      "Installing f2py3.10 script to /home/juliawolleb/anaconda3/envs/experiment/bin\n",
      "\n",
      "Using /home/juliawolleb/anaconda3/envs/experiment/lib/python3.10/site-packages\n",
      "Searching for torchvision==0.13.1\n",
      "Best match: torchvision 0.13.1\n",
      "Adding torchvision 0.13.1 to easy-install.pth file\n",
      "\n",
      "Using /home/juliawolleb/anaconda3/envs/experiment/lib/python3.10/site-packages\n",
      "Searching for torch==1.12.1\n",
      "Best match: torch 1.12.1\n",
      "Adding torch 1.12.1 to easy-install.pth file\n",
      "Installing convert-caffe2-to-onnx script to /home/juliawolleb/anaconda3/envs/experiment/bin\n",
      "Installing convert-onnx-to-caffe2 script to /home/juliawolleb/anaconda3/envs/experiment/bin\n",
      "Installing torchrun script to /home/juliawolleb/anaconda3/envs/experiment/bin\n",
      "\n",
      "Using /home/juliawolleb/anaconda3/envs/experiment/lib/python3.10/site-packages\n",
      "Searching for Pillow==9.2.0\n",
      "Best match: Pillow 9.2.0\n",
      "Adding Pillow 9.2.0 to easy-install.pth file\n",
      "\n",
      "Using /home/juliawolleb/anaconda3/envs/experiment/lib/python3.10/site-packages\n",
      "Searching for requests==2.28.1\n",
      "Best match: requests 2.28.1\n",
      "Adding requests 2.28.1 to easy-install.pth file\n",
      "\n",
      "Using /home/juliawolleb/anaconda3/envs/experiment/lib/python3.10/site-packages\n",
      "Searching for typing-extensions==4.3.0\n",
      "Best match: typing-extensions 4.3.0\n",
      "Adding typing-extensions 4.3.0 to easy-install.pth file\n",
      "\n",
      "Using /home/juliawolleb/anaconda3/envs/experiment/lib/python3.10/site-packages\n",
      "Searching for certifi==2022.6.15\n",
      "Best match: certifi 2022.6.15\n",
      "Adding certifi 2022.6.15 to easy-install.pth file\n",
      "\n",
      "Using /home/juliawolleb/anaconda3/envs/experiment/lib/python3.10/site-packages\n",
      "Searching for urllib3==1.26.11\n",
      "Best match: urllib3 1.26.11\n",
      "Adding urllib3 1.26.11 to easy-install.pth file\n",
      "\n",
      "Using /home/juliawolleb/anaconda3/envs/experiment/lib/python3.10/site-packages\n",
      "Searching for idna==3.3\n",
      "Best match: idna 3.3\n",
      "Adding idna 3.3 to easy-install.pth file\n",
      "\n",
      "Using /home/juliawolleb/anaconda3/envs/experiment/lib/python3.10/site-packages\n",
      "Searching for charset-normalizer==2.1.1\n",
      "Best match: charset-normalizer 2.1.1\n",
      "Adding charset-normalizer 2.1.1 to easy-install.pth file\n",
      "Installing normalizer script to /home/juliawolleb/anaconda3/envs/experiment/bin\n",
      "\n",
      "Using /home/juliawolleb/anaconda3/envs/experiment/lib/python3.10/site-packages\n",
      "Finished processing dependencies for generative==0.1.0\n"
     ]
    }
   ],
   "source": [
    "!python /home/juliawolleb/PycharmProjects/MONAI/GenerativeModels/setup.py install\n",
    "!python -c \"import monai\" || pip install -q \"monai-weekly[pillow, tqdm, einops]\"\n",
    "!python -c \"import matplotlib\" || pip install -q matplotlib\n",
    "!python -c \"import seaborn\" || pip install -q seaborn\n",
    "%matplotlib inline"
   ]
  },
  {
   "cell_type": "markdown",
   "id": "6b766027",
   "metadata": {},
   "source": [
    "## Setup imports"
   ]
  },
  {
   "cell_type": "code",
   "execution_count": 4,
   "id": "972ed3f3",
   "metadata": {
    "collapsed": false,
    "jupyter": {
     "outputs_hidden": false
    }
   },
   "outputs": [
    {
     "ename": "ZipImportError",
     "evalue": "bad local file header: '/home/juliawolleb/anaconda3/envs/experiment/lib/python3.10/site-packages/generative-0.1.0-py3.10.egg'",
     "output_type": "error",
     "traceback": [
      "\u001b[0;31m---------------------------------------------------------------------------\u001b[0m",
      "\u001b[0;31mZipImportError\u001b[0m                            Traceback (most recent call last)",
      "Cell \u001b[0;32mIn[4], line 29\u001b[0m\n\u001b[1;32m     26\u001b[0m \u001b[38;5;28;01mfrom\u001b[39;00m \u001b[38;5;21;01mtorch\u001b[39;00m\u001b[38;5;21;01m.\u001b[39;00m\u001b[38;5;21;01mcuda\u001b[39;00m\u001b[38;5;21;01m.\u001b[39;00m\u001b[38;5;21;01mamp\u001b[39;00m \u001b[38;5;28;01mimport\u001b[39;00m GradScaler, autocast\n\u001b[1;32m     27\u001b[0m \u001b[38;5;28;01mfrom\u001b[39;00m \u001b[38;5;21;01mtqdm\u001b[39;00m \u001b[38;5;28;01mimport\u001b[39;00m tqdm\n\u001b[0;32m---> 29\u001b[0m \u001b[38;5;28;01mfrom\u001b[39;00m \u001b[38;5;21;01mgenerative\u001b[39;00m\u001b[38;5;21;01m.\u001b[39;00m\u001b[38;5;21;01minferers\u001b[39;00m \u001b[38;5;28;01mimport\u001b[39;00m DiffusionInferer\n\u001b[1;32m     31\u001b[0m \u001b[38;5;66;03m# TODO: Add right import reference after deployed\u001b[39;00m\n\u001b[1;32m     32\u001b[0m \u001b[38;5;28;01mfrom\u001b[39;00m \u001b[38;5;21;01mgenerative\u001b[39;00m\u001b[38;5;21;01m.\u001b[39;00m\u001b[38;5;21;01mnetworks\u001b[39;00m\u001b[38;5;21;01m.\u001b[39;00m\u001b[38;5;21;01mnets\u001b[39;00m\u001b[38;5;21;01m.\u001b[39;00m\u001b[38;5;21;01mdiffusion_model_unet\u001b[39;00m \u001b[38;5;28;01mimport\u001b[39;00m DiffusionModelUNet, DiffusionModelEncoder\n",
      "File \u001b[0;32m<frozen zipimport>:196\u001b[0m, in \u001b[0;36mget_code\u001b[0;34m(self, fullname)\u001b[0m\n",
      "File \u001b[0;32m<frozen zipimport>:752\u001b[0m, in \u001b[0;36m_get_module_code\u001b[0;34m(self, fullname)\u001b[0m\n",
      "File \u001b[0;32m<frozen zipimport>:598\u001b[0m, in \u001b[0;36m_get_data\u001b[0;34m(archive, toc_entry)\u001b[0m\n",
      "\u001b[0;31mZipImportError\u001b[0m: bad local file header: '/home/juliawolleb/anaconda3/envs/experiment/lib/python3.10/site-packages/generative-0.1.0-py3.10.egg'"
     ]
    }
   ],
   "source": [
    "# Copyright 2020 MONAI Consortium\n",
    "# Licensed under the Apache License, Version 2.0 (the \"License\");\n",
    "# you may not use this file except in compliance with the License.\n",
    "# You may obtain a copy of the License at\n",
    "#     http://www.apache.org/licenses/LICENSE-2.0\n",
    "# Unless required by applicable law or agreed to in writing, software\n",
    "# distributed under the License is distributed on an \"AS IS\" BASIS,\n",
    "# WITHOUT WARRANTIES OR CONDITIONS OF ANY KIND, either express or implied.\n",
    "# See the License for the specific language governing permissions and\n",
    "# limitations under the License.\n",
    "import os\n",
    "import shutil\n",
    "import tempfile\n",
    "import time\n",
    "import os\n",
    "import matplotlib.pyplot as plt\n",
    "import seaborn\n",
    "import numpy as np\n",
    "import torch\n",
    "import torch.nn.functional as F\n",
    "from monai import transforms\n",
    "from monai.apps import MedNISTDataset, DecathlonDataset\n",
    "from monai.config import print_config\n",
    "from monai.data import CacheDataset, DataLoader\n",
    "from monai.utils import first, set_determinism\n",
    "from torch.cuda.amp import GradScaler, autocast\n",
    "from tqdm import tqdm\n",
    "\n",
    "from generative.inferers import DiffusionInferer\n",
    "\n",
    "# TODO: Add right import reference after deployed\n",
    "from generative.networks.nets.diffusion_model_unet import DiffusionModelUNet, DiffusionModelEncoder\n",
    "\n",
    "from generative.networks.schedulers.ddpm import DDPMScheduler\n",
    "from generative.networks.schedulers.ddim import DDIMScheduler\n",
    "print_config()\n",
    "\n",
    "\n"
   ]
  },
  {
   "cell_type": "markdown",
   "id": "7d4ff515",
   "metadata": {},
   "source": [
    "## Setup data directory"
   ]
  },
  {
   "cell_type": "code",
   "execution_count": 14,
   "id": "8b4323e7",
   "metadata": {
    "collapsed": false,
    "jupyter": {
     "outputs_hidden": false
    }
   },
   "outputs": [
    {
     "name": "stdout",
     "output_type": "stream",
     "text": [
      "/home/juliawolleb/PycharmProjects/MONAI/data_brats\n"
     ]
    }
   ],
   "source": [
    "directory = os.environ.get(\"MONAI_DATA_DIRECTORY\")\n",
    "#root_dir = tempfile.mkdtemp() if directory is None else directory\n",
    "root_dir='/home/juliawolleb/PycharmProjects/MONAI/data_brats'\n",
    "\n",
    "print(root_dir)"
   ]
  },
  {
   "cell_type": "markdown",
   "id": "99175d50",
   "metadata": {},
   "source": [
    "## Set deterministic training for reproducibility"
   ]
  },
  {
   "cell_type": "code",
   "execution_count": 15,
   "id": "34ea510f",
   "metadata": {
    "collapsed": false,
    "jupyter": {
     "outputs_hidden": false
    }
   },
   "outputs": [],
   "source": [
    "set_determinism(42)"
   ]
  },
  {
   "cell_type": "markdown",
   "id": "fac55e9d",
   "metadata": {},
   "source": [
    "## Setup BRATS Dataset for 2D slices  and training and validation dataloaders\n",
    "As baseline, we use the load_2d_brats.ipynb written by Pedro in issue 150"
   ]
  },
  {
   "cell_type": "code",
   "execution_count": null,
   "id": "da1927b0",
   "metadata": {
    "collapsed": false,
    "jupyter": {
     "outputs_hidden": false
    }
   },
   "outputs": [
    {
     "name": "stderr",
     "output_type": "stream",
     "text": [
      "Task01_BrainTumour.tar:  71%|█████████▉    | 5.03G/7.09G [04:43<01:46, 20.8MB/s]"
     ]
    }
   ],
   "source": [
    "\n",
    "\n",
    "batch_size = 2\n",
    "channel = 0  # 0 = Flair\n",
    "assert channel in [0, 1, 2, 3], \"Choose a valid channel\"\n",
    "\n",
    "train_transforms = transforms.Compose(\n",
    "    [\n",
    "        transforms.LoadImaged(keys=[\"image\",\"label\"]),\n",
    "        transforms.EnsureChannelFirstd(keys=[\"image\",\"label\"]),\n",
    "        transforms.Lambdad(keys=[\"image\"], func=lambda x: x[channel, :, :, :]),\n",
    "        transforms.AddChanneld(keys=[\"image\"]),\n",
    "        transforms.EnsureTyped(keys=[\"image\",\"label\"]),\n",
    "        transforms.Orientationd(keys=[\"image\",\"label\"], axcodes=\"RAS\"),\n",
    "        transforms.Spacingd(\n",
    "            keys=[\"image\",\"label\"],\n",
    "            pixdim=(3.0, 3.0, 2.0),\n",
    "            mode=(\"bilinear\", \"nearest\"),\n",
    "        ),\n",
    "        transforms.CenterSpatialCropd(keys=[\"image\",\"label\"], roi_size=(64, 64, 64)),\n",
    "        transforms.ScaleIntensityRangePercentilesd(keys=\"image\", lower=0, upper=99.5, b_min=0, b_max=1),\n",
    "        transforms.CopyItemsd(keys=[\"label\"], times=1, names=[\"slice_label\"]),\n",
    "        transforms.Lambdad(keys=[\"slice_label\"], func=lambda x: (x.reshape(x.shape[0], -1, x.shape[-1]).sum(1) > 0 ).float().squeeze()),\n",
    "    ]\n",
    ")\n",
    "train_ds = DecathlonDataset(\n",
    "    root_dir=root_dir,\n",
    "    task=\"Task01_BrainTumour\",\n",
    "    section=\"training\",  # validation\n",
    "    cache_rate=0.0,  # you may need a few Gb of RAM... Set to 0 otherwise\n",
    "    num_workers=4,\n",
    "    download=True,  # Set download to True if the dataset hasnt been downloaded yet\n",
    "    seed=0,\n",
    "    transform=train_transforms,\n",
    ")\n",
    "nb_3D_images_to_mix = 2\n",
    "train_loader_3D = DataLoader(train_ds, batch_size=nb_3D_images_to_mix, shuffle=True, num_workers=4)\n",
    "print(f'Image shape {train_ds[0][\"image\"].shape}')\n",
    "\n",
    "\n",
    "\n",
    "\n",
    "\n",
    "\n"
   ]
  },
  {
   "cell_type": "code",
   "execution_count": 13,
   "id": "73d72110-a8b3-4e03-91cc-1dab4d5a7b87",
   "metadata": {},
   "outputs": [
    {
     "name": "stdout",
     "output_type": "stream",
     "text": [
      "2023-02-02 10:39:45,467 - INFO - Verified 'Task01_BrainTumour.tar', md5: 240a19d752f0d9e9101544901065d872.\n",
      "2023-02-02 10:39:45,469 - INFO - File exists: /tmp/tmpyurp7egh/Task01_BrainTumour.tar, skipped downloading.\n",
      "2023-02-02 10:39:45,471 - INFO - Non-empty folder exists in /tmp/tmpyurp7egh/Task01_BrainTumour, skipped extracting.\n",
      "Image shape torch.Size([1, 64, 64, 64])\n"
     ]
    }
   ],
   "source": [
    "\n",
    "val_ds = DecathlonDataset(\n",
    "    root_dir=root_dir,\n",
    "    task=\"Task01_BrainTumour\",\n",
    "    section=\"validation\",  # validation\n",
    "    cache_rate=0.0,  # you may need a few Gb of RAM... Set to 0 otherwise\n",
    "    num_workers=4,\n",
    "    download=True,  # Set download to True if the dataset hasnt been downloaded yet\n",
    "    seed=0,\n",
    "    transform=train_transforms,\n",
    ")\n",
    "val_loader_3D = DataLoader(val_ds, batch_size=nb_3D_images_to_mix, shuffle=True, num_workers=4)\n",
    "print(f'Image shape {val_ds[0][\"image\"].shape}')\n",
    "\n"
   ]
  },
  {
   "cell_type": "markdown",
   "id": "6986f55c",
   "metadata": {},
   "source": [
    "Here we use transforms to augment the training dataset, as usual:\n",
    "\n",
    "1. `LoadImaged` loads the hands images from files.\n",
    "1. `EnsureChannelFirstd` ensures the original data to construct \"channel first\" shape.\n",
    "1. `ScaleIntensityRanged` extracts intensity range [0, 255] and scales to [0, 1].\n",
    "1. `RandAffined` efficiently performs rotate, scale, shear, translate, etc. together based on PyTorch affine transform.\n",
    "\n"
   ]
  },
  {
   "cell_type": "markdown",
   "id": "7f108ebb",
   "metadata": {},
   "source": [
    "### Visualisation of the training images"
   ]
  },
  {
   "cell_type": "code",
   "execution_count": 47,
   "id": "4105a01f",
   "metadata": {
    "collapsed": false,
    "jupyter": {
     "outputs_hidden": false
    }
   },
   "outputs": [
    {
     "name": "stdout",
     "output_type": "stream",
     "text": [
      "Batch shape: torch.Size([128, 1, 64, 64])\n",
      "Slices class: tensor([0., 0., 0., 1.])\n"
     ]
    },
    {
     "data": {
      "image/png": "[encoded data removed]",
      "text/plain": [
       "<Figure size 1200x600 with 1 Axes>"
      ]
     },
     "metadata": {},
     "output_type": "display_data"
    }
   ],
   "source": [
    "\n",
    "\n",
    "from typing import Dict\n",
    "def get_batched_2d_axial_slices(data : Dict):\n",
    "    images_3D = data['image']\n",
    "    batched_2d_slices = torch.cat(images_3D.split(1, dim = -1), 0).squeeze(-1) # images_3D.view(images_3D.shape[0]*images_3D.shape[-1],*images_3D.shape[1:-1])\n",
    "    slice_label = data['slice_label']\n",
    "    #slice_label = (mask_label.reshape(mask_label.shape[0], -1, mask_label.shape[-1]).sum(1) > 0 ).float()\n",
    "    slice_label = torch.cat(slice_label.split(1, dim = -1),0).squeeze()\n",
    "    return batched_2d_slices, slice_label\n",
    "\n",
    "check_data = first(train_loader_3D)\n",
    "batched_2d_slices, slice_label = get_batched_2d_axial_slices(check_data)\n",
    "idx = list(torch.randperm(batched_2d_slices.shape[0]))\n",
    "slices = [0,30,45,63]\n",
    "print(f\"Batch shape: {batched_2d_slices.shape}\")\n",
    "print(f\"Slices class: {slice_label[idx][slices].view(-1)}\")\n",
    "image_visualisation = torch.cat(batched_2d_slices[idx][slices].squeeze().split(1), dim=2).squeeze()\n",
    "plt.figure(\"training images\", (12, 6))\n",
    "plt.imshow(image_visualisation, vmin=0, vmax=1, cmap=\"gray\")\n",
    "plt.axis(\"off\")\n",
    "plt.tight_layout()\n",
    "plt.show()"
   ]
  },
  {
   "cell_type": "code",
   "execution_count": 48,
   "id": "4249e4be-f7e7-48e9-9aa9-436da8c1d1e5",
   "metadata": {},
   "outputs": [
    {
     "data": {
      "text/plain": [
       "(torch.Size([2, 1, 64, 64]), torch.Size([2]))"
      ]
     },
     "execution_count": 48,
     "metadata": {},
     "output_type": "execute_result"
    }
   ],
   "source": [
    "\n",
    "subset_2D = zip(batched_2d_slices.split(batch_size),slice_label.split(batch_size))#\n",
    "a,b = next(subset_2D)  #what is a, what is b? Are these the next images? \n",
    "a.shape, b.shape"
   ]
  },
  {
   "cell_type": "markdown",
   "id": "08428bc6",
   "metadata": {},
   "source": [
    "### Define network, scheduler, optimizer, and inferer\n",
    "At this step, we instantiate the MONAI components to create a DDPM, the UNET, the noise scheduler, and the inferer used for training and sampling. We are using\n",
    "the original DDPM scheduler containing 1000 timesteps in its Markov chain, and a 2D UNET with attention mechanisms\n",
    "in the 3rd level, each with 1 attention head (`num_head_channels=64`).\n",
    "\n",
    "In order to pass conditioning variables with dimension of 1 (just specifying the modality of the image), we use:\n",
    "\n",
    "`\n",
    "with_conditioning=True,\n",
    "cross_attention_dim=1,\n",
    "`"
   ]
  },
  {
   "cell_type": "code",
   "execution_count": 49,
   "id": "bee5913e",
   "metadata": {
    "collapsed": false,
    "jupyter": {
     "outputs_hidden": false
    },
    "lines_to_next_cell": 0
   },
   "outputs": [],
   "source": [
    "device = torch.device(\"cuda\")\n",
    "\n",
    "model = DiffusionModelUNet(\n",
    "    spatial_dims=2,\n",
    "    in_channels=1,\n",
    "    out_channels=1,\n",
    "    num_channels=(64, 64, 64),\n",
    "    attention_levels=(False, False, True),\n",
    "    num_res_blocks=1,\n",
    "    num_head_channels=64,\n",
    "    with_conditioning=False,\n",
    "  #  cross_attention_dim=1,\n",
    ")\n",
    "model.to(device)\n",
    "\n",
    "scheduler = DDPMScheduler(\n",
    "    num_train_timesteps=1000,\n",
    ")\n",
    "\n",
    "optimizer = torch.optim.Adam(params=model.parameters(), lr=2.5e-5)\n",
    "\n",
    "inferer = DiffusionInferer(scheduler)"
   ]
  },
  {
   "cell_type": "markdown",
   "id": "2a4d3ab2",
   "metadata": {
    "tags": []
   },
   "source": [
    "### Model training of the Diffusion Model\n",
    "Here, we are training our diffusion model for 75 epochs (training time: ~50 minutes)."
   ]
  },
  {
   "cell_type": "code",
   "execution_count": 50,
   "id": "6c0ed909",
   "metadata": {
    "collapsed": false,
    "jupyter": {
     "outputs_hidden": false
    },
    "lines_to_next_cell": 0
   },
   "outputs": [
    {
     "name": "stderr",
     "output_type": "stream",
     "text": [
      "Epoch 0:   1%|            | 1/128 [00:00<00:16,  7.89it/s, loss=0.982]"
     ]
    },
    {
     "name": "stdout",
     "output_type": "stream",
     "text": [
      "step 0 torch.Size([2, 1, 64, 64]) torch.Size([2]) tensor([0., 0.])\n",
      "image torch.Size([2, 1, 64, 64])\n",
      "classes tensor([0., 0.], device='cuda:0')\n",
      "step 1 torch.Size([2, 1, 64, 64]) torch.Size([2]) tensor([0., 0.])\n",
      "image torch.Size([2, 1, 64, 64])\n",
      "classes tensor([0., 0.], device='cuda:0')\n"
     ]
    },
    {
     "name": "stderr",
     "output_type": "stream",
     "text": [
      "Epoch 0:   2%|▍               | 3/128 [00:00<00:13,  9.55it/s, loss=1]"
     ]
    },
    {
     "name": "stdout",
     "output_type": "stream",
     "text": [
      "step 2 torch.Size([2, 1, 64, 64]) torch.Size([2]) tensor([0., 0.])\n",
      "image torch.Size([2, 1, 64, 64])\n",
      "classes tensor([0., 0.], device='cuda:0')\n",
      "step 3 torch.Size([2, 1, 64, 64]) torch.Size([2]) tensor([0., 0.])\n",
      "image torch.Size([2, 1, 64, 64])\n",
      "classes tensor([0., 0.], device='cuda:0')\n",
      "step 4 torch.Size([2, 1, 64, 64]) torch.Size([2]) tensor([0., 0.])\n",
      "image torch.Size([2, 1, 64, 64])\n",
      "classes tensor([0., 0.], device='cuda:0')\n"
     ]
    },
    {
     "name": "stderr",
     "output_type": "stream",
     "text": [
      "Epoch 0:   5%|▋           | 7/128 [00:00<00:11, 10.26it/s, loss=0.992]"
     ]
    },
    {
     "name": "stdout",
     "output_type": "stream",
     "text": [
      "step 5 torch.Size([2, 1, 64, 64]) torch.Size([2]) tensor([0., 0.])\n",
      "image torch.Size([2, 1, 64, 64])\n",
      "classes tensor([0., 0.], device='cuda:0')\n",
      "step 6 torch.Size([2, 1, 64, 64]) torch.Size([2]) tensor([0., 0.])\n",
      "image torch.Size([2, 1, 64, 64])\n",
      "classes tensor([0., 0.], device='cuda:0')\n",
      "step 7 torch.Size([2, 1, 64, 64]) torch.Size([2]) tensor([0., 0.])\n",
      "image torch.Size([2, 1, 64, 64])\n",
      "classes tensor([0., 0.], device='cuda:0')\n"
     ]
    },
    {
     "name": "stderr",
     "output_type": "stream",
     "text": [
      "Epoch 0:   7%|▊           | 9/128 [00:00<00:11, 10.38it/s, loss=0.988]"
     ]
    },
    {
     "name": "stdout",
     "output_type": "stream",
     "text": [
      "step 8 torch.Size([2, 1, 64, 64]) torch.Size([2]) tensor([0., 0.])\n",
      "image torch.Size([2, 1, 64, 64])\n",
      "classes tensor([0., 0.], device='cuda:0')\n",
      "step 9 torch.Size([2, 1, 64, 64]) torch.Size([2]) tensor([0., 0.])\n",
      "image torch.Size([2, 1, 64, 64])\n",
      "classes tensor([0., 0.], device='cuda:0')\n",
      "step 10 torch.Size([2, 1, 64, 64]) torch.Size([2]) tensor([0., 0.])\n",
      "image torch.Size([2, 1, 64, 64])\n",
      "classes tensor([0., 0.], device='cuda:0')\n"
     ]
    },
    {
     "name": "stderr",
     "output_type": "stream",
     "text": [
      "Epoch 0:  10%|█          | 13/128 [00:01<00:10, 10.52it/s, loss=0.981]"
     ]
    },
    {
     "name": "stdout",
     "output_type": "stream",
     "text": [
      "step 11 torch.Size([2, 1, 64, 64]) torch.Size([2]) tensor([0., 0.])\n",
      "image torch.Size([2, 1, 64, 64])\n",
      "classes tensor([0., 0.], device='cuda:0')\n",
      "step 12 torch.Size([2, 1, 64, 64]) torch.Size([2]) tensor([0., 0.])\n",
      "image torch.Size([2, 1, 64, 64])\n",
      "classes tensor([0., 0.], device='cuda:0')\n",
      "step 13 torch.Size([2, 1, 64, 64]) torch.Size([2]) tensor([1., 1.])\n",
      "image torch.Size([2, 1, 64, 64])\n",
      "classes tensor([1., 1.], device='cuda:0')\n"
     ]
    },
    {
     "name": "stderr",
     "output_type": "stream",
     "text": [
      "Epoch 0:  12%|█▎         | 15/128 [00:01<00:10, 10.51it/s, loss=0.978]"
     ]
    },
    {
     "name": "stdout",
     "output_type": "stream",
     "text": [
      "step 14 torch.Size([2, 1, 64, 64]) torch.Size([2]) tensor([1., 1.])\n",
      "image torch.Size([2, 1, 64, 64])\n",
      "classes tensor([1., 1.], device='cuda:0')\n",
      "step 15 torch.Size([2, 1, 64, 64]) torch.Size([2]) tensor([1., 1.])\n",
      "image torch.Size([2, 1, 64, 64])\n",
      "classes tensor([1., 1.], device='cuda:0')\n",
      "step 16 torch.Size([2, 1, 64, 64]) torch.Size([2]) tensor([1., 1.])\n",
      "image torch.Size([2, 1, 64, 64])\n",
      "classes tensor([1., 1.], device='cuda:0')\n"
     ]
    },
    {
     "name": "stderr",
     "output_type": "stream",
     "text": [
      "Epoch 0:  15%|█▋         | 19/128 [00:01<00:10, 10.65it/s, loss=0.971]"
     ]
    },
    {
     "name": "stdout",
     "output_type": "stream",
     "text": [
      "step 17 torch.Size([2, 1, 64, 64]) torch.Size([2]) tensor([1., 1.])\n",
      "image torch.Size([2, 1, 64, 64])\n",
      "classes tensor([1., 1.], device='cuda:0')\n",
      "step 18 torch.Size([2, 1, 64, 64]) torch.Size([2]) tensor([1., 1.])\n",
      "image torch.Size([2, 1, 64, 64])\n",
      "classes tensor([1., 1.], device='cuda:0')\n",
      "step 19 torch.Size([2, 1, 64, 64]) torch.Size([2]) tensor([1., 1.])\n",
      "image torch.Size([2, 1, 64, 64])\n",
      "classes tensor([1., 1.], device='cuda:0')\n"
     ]
    },
    {
     "name": "stderr",
     "output_type": "stream",
     "text": [
      "Epoch 0:  16%|█▊         | 21/128 [00:02<00:10, 10.22it/s, loss=0.968]"
     ]
    },
    {
     "name": "stdout",
     "output_type": "stream",
     "text": [
      "step 20 torch.Size([2, 1, 64, 64]) torch.Size([2]) tensor([1., 1.])\n",
      "image torch.Size([2, 1, 64, 64])\n",
      "classes tensor([1., 1.], device='cuda:0')\n",
      "step 21 torch.Size([2, 1, 64, 64]) torch.Size([2]) tensor([1., 1.])\n",
      "image torch.Size([2, 1, 64, 64])\n",
      "classes tensor([1., 1.], device='cuda:0')\n"
     ]
    },
    {
     "name": "stderr",
     "output_type": "stream",
     "text": [
      "Epoch 0:  18%|█▉         | 23/128 [00:02<00:10,  9.82it/s, loss=0.964]"
     ]
    },
    {
     "name": "stdout",
     "output_type": "stream",
     "text": [
      "step 22 torch.Size([2, 1, 64, 64]) torch.Size([2]) tensor([1., 1.])\n",
      "image torch.Size([2, 1, 64, 64])\n",
      "classes tensor([1., 1.], device='cuda:0')\n",
      "step 23 torch.Size([2, 1, 64, 64]) torch.Size([2]) tensor([1., 1.])\n",
      "image torch.Size([2, 1, 64, 64])\n",
      "classes tensor([1., 1.], device='cuda:0')\n"
     ]
    },
    {
     "name": "stderr",
     "output_type": "stream",
     "text": [
      "Epoch 0:  20%|██▏        | 25/128 [00:02<00:10,  9.50it/s, loss=0.961]"
     ]
    },
    {
     "name": "stdout",
     "output_type": "stream",
     "text": [
      "step 24 torch.Size([2, 1, 64, 64]) torch.Size([2]) tensor([1., 1.])\n",
      "image torch.Size([2, 1, 64, 64])\n",
      "classes tensor([1., 1.], device='cuda:0')\n",
      "step 25 torch.Size([2, 1, 64, 64]) torch.Size([2]) tensor([1., 1.])\n",
      "image torch.Size([2, 1, 64, 64])\n",
      "classes tensor([1., 1.], device='cuda:0')\n"
     ]
    },
    {
     "name": "stderr",
     "output_type": "stream",
     "text": [
      "Epoch 0:  21%|██▎        | 27/128 [00:02<00:10,  9.34it/s, loss=0.956]"
     ]
    },
    {
     "name": "stdout",
     "output_type": "stream",
     "text": [
      "step 26 torch.Size([2, 1, 64, 64]) torch.Size([2]) tensor([1., 1.])\n",
      "image torch.Size([2, 1, 64, 64])\n",
      "classes tensor([1., 1.], device='cuda:0')\n",
      "step 27 torch.Size([2, 1, 64, 64]) torch.Size([2]) tensor([0., 1.])\n",
      "image torch.Size([2, 1, 64, 64])\n",
      "classes tensor([0., 1.], device='cuda:0')\n"
     ]
    },
    {
     "name": "stderr",
     "output_type": "stream",
     "text": [
      "Epoch 0:  23%|██▍        | 29/128 [00:02<00:10,  9.18it/s, loss=0.953]"
     ]
    },
    {
     "name": "stdout",
     "output_type": "stream",
     "text": [
      "step 28 torch.Size([2, 1, 64, 64]) torch.Size([2]) tensor([0., 0.])\n",
      "image torch.Size([2, 1, 64, 64])\n",
      "classes tensor([0., 0.], device='cuda:0')\n",
      "step 29 torch.Size([2, 1, 64, 64]) torch.Size([2]) tensor([0., 0.])\n",
      "image torch.Size([2, 1, 64, 64])\n",
      "classes tensor([0., 0.], device='cuda:0')\n"
     ]
    },
    {
     "name": "stderr",
     "output_type": "stream",
     "text": [
      "Epoch 0:  24%|██▋        | 31/128 [00:03<00:10,  9.21it/s, loss=0.949]"
     ]
    },
    {
     "name": "stdout",
     "output_type": "stream",
     "text": [
      "step 30 torch.Size([2, 1, 64, 64]) torch.Size([2]) tensor([0., 0.])\n",
      "image torch.Size([2, 1, 64, 64])\n",
      "classes tensor([0., 0.], device='cuda:0')\n",
      "step 31 torch.Size([2, 1, 64, 64]) torch.Size([2]) tensor([0., 0.])\n",
      "image torch.Size([2, 1, 64, 64])\n",
      "classes tensor([0., 0.], device='cuda:0')\n"
     ]
    },
    {
     "name": "stderr",
     "output_type": "stream",
     "text": [
      "Epoch 0:  26%|██▊        | 33/128 [00:03<00:10,  9.20it/s, loss=0.944]"
     ]
    },
    {
     "name": "stdout",
     "output_type": "stream",
     "text": [
      "step 32 torch.Size([2, 1, 64, 64]) torch.Size([2]) tensor([0., 0.])\n",
      "image torch.Size([2, 1, 64, 64])\n",
      "classes tensor([0., 0.], device='cuda:0')\n",
      "step 33 torch.Size([2, 1, 64, 64]) torch.Size([2]) tensor([0., 0.])\n",
      "image torch.Size([2, 1, 64, 64])\n",
      "classes tensor([0., 0.], device='cuda:0')\n"
     ]
    },
    {
     "name": "stderr",
     "output_type": "stream",
     "text": [
      "Epoch 0:  27%|███▎        | 35/128 [00:03<00:10,  9.12it/s, loss=0.94]"
     ]
    },
    {
     "name": "stdout",
     "output_type": "stream",
     "text": [
      "step 34 torch.Size([2, 1, 64, 64]) torch.Size([2]) tensor([0., 0.])\n",
      "image torch.Size([2, 1, 64, 64])\n",
      "classes tensor([0., 0.], device='cuda:0')\n",
      "step 35 torch.Size([2, 1, 64, 64]) torch.Size([2]) tensor([0., 0.])\n",
      "image torch.Size([2, 1, 64, 64])\n",
      "classes tensor([0., 0.], device='cuda:0')\n"
     ]
    },
    {
     "name": "stderr",
     "output_type": "stream",
     "text": [
      "Epoch 0:  29%|███▏       | 37/128 [00:03<00:10,  9.07it/s, loss=0.934]"
     ]
    },
    {
     "name": "stdout",
     "output_type": "stream",
     "text": [
      "step 36 torch.Size([2, 1, 64, 64]) torch.Size([2]) tensor([0., 0.])\n",
      "image torch.Size([2, 1, 64, 64])\n",
      "classes tensor([0., 0.], device='cuda:0')\n",
      "step 37 torch.Size([2, 1, 64, 64]) torch.Size([2]) tensor([0., 0.])\n",
      "image torch.Size([2, 1, 64, 64])\n",
      "classes tensor([0., 0.], device='cuda:0')\n"
     ]
    },
    {
     "name": "stderr",
     "output_type": "stream",
     "text": [
      "Epoch 0:  30%|███▎       | 39/128 [00:04<00:09,  9.09it/s, loss=0.929]"
     ]
    },
    {
     "name": "stdout",
     "output_type": "stream",
     "text": [
      "step 38 torch.Size([2, 1, 64, 64]) torch.Size([2]) tensor([0., 0.])\n",
      "image torch.Size([2, 1, 64, 64])\n",
      "classes tensor([0., 0.], device='cuda:0')\n",
      "step 39 torch.Size([2, 1, 64, 64]) torch.Size([2]) tensor([0., 0.])\n",
      "image torch.Size([2, 1, 64, 64])\n",
      "classes tensor([0., 0.], device='cuda:0')\n"
     ]
    },
    {
     "name": "stderr",
     "output_type": "stream",
     "text": [
      "Epoch 0:  32%|███▌       | 41/128 [00:04<00:09,  9.15it/s, loss=0.925]"
     ]
    },
    {
     "name": "stdout",
     "output_type": "stream",
     "text": [
      "step 40 torch.Size([2, 1, 64, 64]) torch.Size([2]) tensor([0., 0.])\n",
      "image torch.Size([2, 1, 64, 64])\n",
      "classes tensor([0., 0.], device='cuda:0')\n",
      "step 41 torch.Size([2, 1, 64, 64]) torch.Size([2]) tensor([0., 0.])\n",
      "image torch.Size([2, 1, 64, 64])\n",
      "classes tensor([0., 0.], device='cuda:0')\n"
     ]
    },
    {
     "name": "stderr",
     "output_type": "stream",
     "text": [
      "Epoch 0:  34%|███▋       | 43/128 [00:04<00:09,  9.17it/s, loss=0.921]"
     ]
    },
    {
     "name": "stdout",
     "output_type": "stream",
     "text": [
      "step 42 torch.Size([2, 1, 64, 64]) torch.Size([2]) tensor([0., 0.])\n",
      "image torch.Size([2, 1, 64, 64])\n",
      "classes tensor([0., 0.], device='cuda:0')\n",
      "step 43 torch.Size([2, 1, 64, 64]) torch.Size([2]) tensor([0., 0.])\n",
      "image torch.Size([2, 1, 64, 64])\n",
      "classes tensor([0., 0.], device='cuda:0')\n"
     ]
    },
    {
     "name": "stderr",
     "output_type": "stream",
     "text": [
      "Epoch 0:  35%|███▊       | 45/128 [00:04<00:09,  9.15it/s, loss=0.916]"
     ]
    },
    {
     "name": "stdout",
     "output_type": "stream",
     "text": [
      "step 44 torch.Size([2, 1, 64, 64]) torch.Size([2]) tensor([0., 0.])\n",
      "image torch.Size([2, 1, 64, 64])\n",
      "classes tensor([0., 0.], device='cuda:0')\n",
      "step 45 torch.Size([2, 1, 64, 64]) torch.Size([2]) tensor([0., 0.])\n",
      "image torch.Size([2, 1, 64, 64])\n",
      "classes tensor([0., 0.], device='cuda:0')\n"
     ]
    },
    {
     "name": "stderr",
     "output_type": "stream",
     "text": [
      "Epoch 0:  37%|████       | 47/128 [00:04<00:09,  8.95it/s, loss=0.912]"
     ]
    },
    {
     "name": "stdout",
     "output_type": "stream",
     "text": [
      "step 46 torch.Size([2, 1, 64, 64]) torch.Size([2]) tensor([0., 0.])\n",
      "image torch.Size([2, 1, 64, 64])\n",
      "classes tensor([0., 0.], device='cuda:0')\n",
      "step 47 torch.Size([2, 1, 64, 64]) torch.Size([2]) tensor([0., 0.])\n",
      "image torch.Size([2, 1, 64, 64])\n",
      "classes tensor([0., 0.], device='cuda:0')\n"
     ]
    },
    {
     "name": "stderr",
     "output_type": "stream",
     "text": [
      "Epoch 0:  38%|████▏      | 49/128 [00:05<00:08,  9.00it/s, loss=0.906]"
     ]
    },
    {
     "name": "stdout",
     "output_type": "stream",
     "text": [
      "step 48 torch.Size([2, 1, 64, 64]) torch.Size([2]) tensor([0., 0.])\n",
      "image torch.Size([2, 1, 64, 64])\n",
      "classes tensor([0., 0.], device='cuda:0')\n",
      "step 49 torch.Size([2, 1, 64, 64]) torch.Size([2]) tensor([0., 0.])\n",
      "image torch.Size([2, 1, 64, 64])\n",
      "classes tensor([0., 0.], device='cuda:0')\n"
     ]
    },
    {
     "name": "stderr",
     "output_type": "stream",
     "text": [
      "Epoch 0:  40%|████▍      | 51/128 [00:05<00:08,  9.08it/s, loss=0.904]"
     ]
    },
    {
     "name": "stdout",
     "output_type": "stream",
     "text": [
      "step 50 torch.Size([2, 1, 64, 64]) torch.Size([2]) tensor([0., 0.])\n",
      "image torch.Size([2, 1, 64, 64])\n",
      "classes tensor([0., 0.], device='cuda:0')\n",
      "step 51 torch.Size([2, 1, 64, 64]) torch.Size([2]) tensor([0., 0.])\n",
      "image torch.Size([2, 1, 64, 64])\n",
      "classes tensor([0., 0.], device='cuda:0')\n"
     ]
    },
    {
     "name": "stderr",
     "output_type": "stream",
     "text": [
      "Epoch 0:  41%|████▌      | 53/128 [00:05<00:08,  9.06it/s, loss=0.899]"
     ]
    },
    {
     "name": "stdout",
     "output_type": "stream",
     "text": [
      "step 52 torch.Size([2, 1, 64, 64]) torch.Size([2]) tensor([0., 0.])\n",
      "image torch.Size([2, 1, 64, 64])\n",
      "classes tensor([0., 0.], device='cuda:0')\n",
      "step 53 torch.Size([2, 1, 64, 64]) torch.Size([2]) tensor([0., 0.])\n",
      "image torch.Size([2, 1, 64, 64])\n",
      "classes tensor([0., 0.], device='cuda:0')\n"
     ]
    },
    {
     "name": "stderr",
     "output_type": "stream",
     "text": [
      "Epoch 0:  43%|████▋      | 55/128 [00:05<00:07,  9.18it/s, loss=0.894]"
     ]
    },
    {
     "name": "stdout",
     "output_type": "stream",
     "text": [
      "step 54 torch.Size([2, 1, 64, 64]) torch.Size([2]) tensor([0., 0.])\n",
      "image torch.Size([2, 1, 64, 64])\n",
      "classes tensor([0., 0.], device='cuda:0')\n",
      "step 55 torch.Size([2, 1, 64, 64]) torch.Size([2]) tensor([0., 0.])\n",
      "image torch.Size([2, 1, 64, 64])\n",
      "classes tensor([0., 0.], device='cuda:0')\n"
     ]
    },
    {
     "name": "stderr",
     "output_type": "stream",
     "text": [
      "Epoch 0:  45%|████▉      | 57/128 [00:05<00:07,  9.18it/s, loss=0.889]"
     ]
    },
    {
     "name": "stdout",
     "output_type": "stream",
     "text": [
      "step 56 torch.Size([2, 1, 64, 64]) torch.Size([2]) tensor([0., 0.])\n",
      "image torch.Size([2, 1, 64, 64])\n",
      "classes tensor([0., 0.], device='cuda:0')\n",
      "step 57 torch.Size([2, 1, 64, 64]) torch.Size([2]) tensor([0., 0.])\n",
      "image torch.Size([2, 1, 64, 64])\n",
      "classes tensor([0., 0.], device='cuda:0')\n"
     ]
    },
    {
     "name": "stderr",
     "output_type": "stream",
     "text": [
      "Epoch 0:  46%|█████      | 59/128 [00:06<00:07,  9.22it/s, loss=0.884]"
     ]
    },
    {
     "name": "stdout",
     "output_type": "stream",
     "text": [
      "step 58 torch.Size([2, 1, 64, 64]) torch.Size([2]) tensor([0., 0.])\n",
      "image torch.Size([2, 1, 64, 64])\n",
      "classes tensor([0., 0.], device='cuda:0')\n",
      "step 59 torch.Size([2, 1, 64, 64]) torch.Size([2]) tensor([0., 0.])\n",
      "image torch.Size([2, 1, 64, 64])\n",
      "classes tensor([0., 0.], device='cuda:0')\n"
     ]
    },
    {
     "name": "stderr",
     "output_type": "stream",
     "text": [
      "Epoch 0:  48%|█████▎     | 62/128 [00:06<00:06, 10.20it/s, loss=0.877]"
     ]
    },
    {
     "name": "stdout",
     "output_type": "stream",
     "text": [
      "step 60 torch.Size([2, 1, 64, 64]) torch.Size([2]) tensor([0., 0.])\n",
      "image torch.Size([2, 1, 64, 64])\n",
      "classes tensor([0., 0.], device='cuda:0')\n",
      "step 61 torch.Size([2, 1, 64, 64]) torch.Size([2]) tensor([0., 0.])\n",
      "image torch.Size([2, 1, 64, 64])\n",
      "classes tensor([0., 0.], device='cuda:0')\n",
      "step 62 torch.Size([2, 1, 64, 64]) torch.Size([2]) tensor([0., 0.])\n",
      "image torch.Size([2, 1, 64, 64])\n",
      "classes tensor([0., 0.], device='cuda:0')\n"
     ]
    },
    {
     "name": "stderr",
     "output_type": "stream",
     "text": [
      "Epoch 0:  49%|█████▍     | 63/128 [00:06<00:06,  9.58it/s, loss=0.874]\n",
      "Epoch 1:   0%|                                | 0/128 [00:00<?, ?it/s]"
     ]
    },
    {
     "name": "stdout",
     "output_type": "stream",
     "text": [
      "train completed, total time: 6.586989164352417.\n"
     ]
    },
    {
     "name": "stderr",
     "output_type": "stream",
     "text": [
      "\n"
     ]
    }
   ],
   "source": [
    "n_epochs = 2\n",
    "val_interval = 5\n",
    "epoch_loss_list = []\n",
    "val_epoch_loss_list = []\n",
    "\n",
    "\n",
    "scaler = GradScaler()\n",
    "total_start = time.time()\n",
    "for epoch in range(n_epochs):\n",
    "    model.train()\n",
    "    epoch_loss = 0\n",
    "    progress_bar = tqdm(enumerate(subset_2D), total=len(idx), ncols=70)\n",
    "    progress_bar.set_description(f\"Epoch {epoch}\")\n",
    "    for step, (a,b) in progress_bar:\n",
    "        print('step', step, a.shape, b.shape, b)\n",
    "       \n",
    "        images = a.to(device)\n",
    "        print('image', images.shape)\n",
    "        classes = b.to(device)\n",
    "        print('classes', classes)\n",
    "        optimizer.zero_grad(set_to_none=True)\n",
    "        timesteps = torch.randint(0, 1000, (len(images),)).to(device)\n",
    "\n",
    "        with autocast(enabled=True):\n",
    "            # Generate random noise\n",
    "            noise = torch.randn_like(images).to(device)\n",
    "\n",
    "            # Get model prediction\n",
    "            noise_pred = inferer(inputs=images, diffusion_model=model, noise=noise, timesteps=timesteps)  #remove the class conditioning\n",
    "\n",
    "            loss = F.mse_loss(noise_pred.float(), noise.float())\n",
    "\n",
    "        scaler.scale(loss).backward()\n",
    "        scaler.step(optimizer)\n",
    "        scaler.update()\n",
    "\n",
    "        epoch_loss += loss.item()\n",
    "\n",
    "        progress_bar.set_postfix(\n",
    "            {\n",
    "                \"loss\": epoch_loss / (step + 1),\n",
    "            }\n",
    "        )\n",
    "    epoch_loss_list.append(epoch_loss / (step + 1))\n",
    "\n",
    "    if (epoch + 1) % val_interval == 0:\n",
    "        model.eval()\n",
    "        val_epoch_loss = 0\n",
    "        for step, batch in enumerate(val_loader):\n",
    "            images = batch[\"image\"].to(device)\n",
    "            classes = batch[\"class\"].to(device)\n",
    "            timesteps = torch.randint(0, 1000, (len(images),)).to(device)#torch.from_numpy(np.arange(0, 1000)[::-1].copy())\n",
    "\n",
    "            with torch.no_grad():\n",
    "                with autocast(enabled=True):\n",
    "                    noise = torch.randn_like(images).to(device)\n",
    "                    noise_pred = inferer(inputs=images, diffusion_model=model, noise=noise, timesteps=timesteps)\n",
    "                    val_loss = F.mse_loss(noise_pred.float(), noise.float())\n",
    "\n",
    "            val_epoch_loss += val_loss.item()\n",
    "            progress_bar.set_postfix(\n",
    "                {\n",
    "                    \"val_loss\": val_epoch_loss / (step + 1),\n",
    "                }\n",
    "            )\n",
    "        val_epoch_loss_list.append(val_epoch_loss / (step + 1))\n",
    "\n",
    "total_time = time.time() - total_start\n",
    "print(f\"train completed, total time: {total_time}.\")"
   ]
  },
  {
   "cell_type": "code",
   "execution_count": 51,
   "id": "4f4dbbf2-31af-4204-b1ea-d9d57491278b",
   "metadata": {},
   "outputs": [],
   "source": [
    "### Model training of the Classification Model\n",
    "#Here, we are training our binary classification model for 5 epochs."
   ]
  },
  {
   "cell_type": "code",
   "execution_count": 52,
   "id": "a99c3966-6ac0-431f-8d2e-2bbea44e991d",
   "metadata": {
    "lines_to_next_cell": 2
   },
   "outputs": [],
   "source": [
    "## First, we define the classification model"
   ]
  },
  {
   "cell_type": "code",
   "execution_count": 53,
   "id": "44cc6928-2525-4e61-8805-15b409097bbb",
   "metadata": {},
   "outputs": [
    {
     "data": {
      "text/plain": [
       "DiffusionModelEncoder(\n",
       "  (conv_in): Convolution(\n",
       "    (conv): Conv2d(1, 64, kernel_size=(3, 3), stride=(1, 1), padding=(1, 1))\n",
       "  )\n",
       "  (time_embed): Sequential(\n",
       "    (0): Linear(in_features=64, out_features=256, bias=True)\n",
       "    (1): SiLU()\n",
       "    (2): Linear(in_features=256, out_features=256, bias=True)\n",
       "  )\n",
       "  (down_blocks): ModuleList(\n",
       "    (0): DownBlock(\n",
       "      (resnets): ModuleList(\n",
       "        (0): ResnetBlock(\n",
       "          (norm1): GroupNorm(32, 64, eps=1e-06, affine=True)\n",
       "          (nonlinearity): SiLU()\n",
       "          (conv1): Convolution(\n",
       "            (conv): Conv2d(64, 64, kernel_size=(3, 3), stride=(1, 1), padding=(1, 1))\n",
       "          )\n",
       "          (time_emb_proj): Linear(in_features=256, out_features=64, bias=True)\n",
       "          (norm2): GroupNorm(32, 64, eps=1e-06, affine=True)\n",
       "          (conv2): Convolution(\n",
       "            (conv): Conv2d(64, 64, kernel_size=(3, 3), stride=(1, 1), padding=(1, 1))\n",
       "          )\n",
       "          (skip_connection): Identity()\n",
       "        )\n",
       "      )\n",
       "      (downsampler): Downsample(\n",
       "        (op): Convolution(\n",
       "          (conv): Conv2d(64, 64, kernel_size=(3, 3), stride=(2, 2), padding=(1, 1))\n",
       "        )\n",
       "      )\n",
       "    )\n",
       "    (1): DownBlock(\n",
       "      (resnets): ModuleList(\n",
       "        (0): ResnetBlock(\n",
       "          (norm1): GroupNorm(32, 64, eps=1e-06, affine=True)\n",
       "          (nonlinearity): SiLU()\n",
       "          (conv1): Convolution(\n",
       "            (conv): Conv2d(64, 64, kernel_size=(3, 3), stride=(1, 1), padding=(1, 1))\n",
       "          )\n",
       "          (time_emb_proj): Linear(in_features=256, out_features=64, bias=True)\n",
       "          (norm2): GroupNorm(32, 64, eps=1e-06, affine=True)\n",
       "          (conv2): Convolution(\n",
       "            (conv): Conv2d(64, 64, kernel_size=(3, 3), stride=(1, 1), padding=(1, 1))\n",
       "          )\n",
       "          (skip_connection): Identity()\n",
       "        )\n",
       "      )\n",
       "      (downsampler): Downsample(\n",
       "        (op): Convolution(\n",
       "          (conv): Conv2d(64, 64, kernel_size=(3, 3), stride=(2, 2), padding=(1, 1))\n",
       "        )\n",
       "      )\n",
       "    )\n",
       "    (2): AttnDownBlock(\n",
       "      (attentions): ModuleList(\n",
       "        (0): AttentionBlock(\n",
       "          (norm): GroupNorm(32, 64, eps=1e-06, affine=True)\n",
       "          (query): Linear(in_features=64, out_features=64, bias=True)\n",
       "          (key): Linear(in_features=64, out_features=64, bias=True)\n",
       "          (value): Linear(in_features=64, out_features=64, bias=True)\n",
       "          (proj_attn): Linear(in_features=64, out_features=64, bias=True)\n",
       "        )\n",
       "      )\n",
       "      (resnets): ModuleList(\n",
       "        (0): ResnetBlock(\n",
       "          (norm1): GroupNorm(32, 64, eps=1e-06, affine=True)\n",
       "          (nonlinearity): SiLU()\n",
       "          (conv1): Convolution(\n",
       "            (conv): Conv2d(64, 64, kernel_size=(3, 3), stride=(1, 1), padding=(1, 1))\n",
       "          )\n",
       "          (time_emb_proj): Linear(in_features=256, out_features=64, bias=True)\n",
       "          (norm2): GroupNorm(32, 64, eps=1e-06, affine=True)\n",
       "          (conv2): Convolution(\n",
       "            (conv): Conv2d(64, 64, kernel_size=(3, 3), stride=(1, 1), padding=(1, 1))\n",
       "          )\n",
       "          (skip_connection): Identity()\n",
       "        )\n",
       "      )\n",
       "    )\n",
       "  )\n",
       "  (middle_block): AttnMidBlock(\n",
       "    (resnet_1): ResnetBlock(\n",
       "      (norm1): GroupNorm(32, 64, eps=1e-06, affine=True)\n",
       "      (nonlinearity): SiLU()\n",
       "      (conv1): Convolution(\n",
       "        (conv): Conv2d(64, 64, kernel_size=(3, 3), stride=(1, 1), padding=(1, 1))\n",
       "      )\n",
       "      (time_emb_proj): Linear(in_features=256, out_features=64, bias=True)\n",
       "      (norm2): GroupNorm(32, 64, eps=1e-06, affine=True)\n",
       "      (conv2): Convolution(\n",
       "        (conv): Conv2d(64, 64, kernel_size=(3, 3), stride=(1, 1), padding=(1, 1))\n",
       "      )\n",
       "      (skip_connection): Identity()\n",
       "    )\n",
       "    (attention): AttentionBlock(\n",
       "      (norm): GroupNorm(32, 64, eps=1e-06, affine=True)\n",
       "      (query): Linear(in_features=64, out_features=64, bias=True)\n",
       "      (key): Linear(in_features=64, out_features=64, bias=True)\n",
       "      (value): Linear(in_features=64, out_features=64, bias=True)\n",
       "      (proj_attn): Linear(in_features=64, out_features=64, bias=True)\n",
       "    )\n",
       "    (resnet_2): ResnetBlock(\n",
       "      (norm1): GroupNorm(32, 64, eps=1e-06, affine=True)\n",
       "      (nonlinearity): SiLU()\n",
       "      (conv1): Convolution(\n",
       "        (conv): Conv2d(64, 64, kernel_size=(3, 3), stride=(1, 1), padding=(1, 1))\n",
       "      )\n",
       "      (time_emb_proj): Linear(in_features=256, out_features=64, bias=True)\n",
       "      (norm2): GroupNorm(32, 64, eps=1e-06, affine=True)\n",
       "      (conv2): Convolution(\n",
       "        (conv): Conv2d(64, 64, kernel_size=(3, 3), stride=(1, 1), padding=(1, 1))\n",
       "      )\n",
       "      (skip_connection): Identity()\n",
       "    )\n",
       "  )\n",
       "  (up_blocks): ModuleList(\n",
       "    (0): AttnUpBlock(\n",
       "      (resnets): ModuleList(\n",
       "        (0): ResnetBlock(\n",
       "          (norm1): GroupNorm(32, 128, eps=1e-06, affine=True)\n",
       "          (nonlinearity): SiLU()\n",
       "          (conv1): Convolution(\n",
       "            (conv): Conv2d(128, 64, kernel_size=(3, 3), stride=(1, 1), padding=(1, 1))\n",
       "          )\n",
       "          (time_emb_proj): Linear(in_features=256, out_features=64, bias=True)\n",
       "          (norm2): GroupNorm(32, 64, eps=1e-06, affine=True)\n",
       "          (conv2): Convolution(\n",
       "            (conv): Conv2d(64, 64, kernel_size=(3, 3), stride=(1, 1), padding=(1, 1))\n",
       "          )\n",
       "          (skip_connection): Convolution(\n",
       "            (conv): Conv2d(128, 64, kernel_size=(1, 1), stride=(1, 1))\n",
       "          )\n",
       "        )\n",
       "        (1): ResnetBlock(\n",
       "          (norm1): GroupNorm(32, 128, eps=1e-06, affine=True)\n",
       "          (nonlinearity): SiLU()\n",
       "          (conv1): Convolution(\n",
       "            (conv): Conv2d(128, 64, kernel_size=(3, 3), stride=(1, 1), padding=(1, 1))\n",
       "          )\n",
       "          (time_emb_proj): Linear(in_features=256, out_features=64, bias=True)\n",
       "          (norm2): GroupNorm(32, 64, eps=1e-06, affine=True)\n",
       "          (conv2): Convolution(\n",
       "            (conv): Conv2d(64, 64, kernel_size=(3, 3), stride=(1, 1), padding=(1, 1))\n",
       "          )\n",
       "          (skip_connection): Convolution(\n",
       "            (conv): Conv2d(128, 64, kernel_size=(1, 1), stride=(1, 1))\n",
       "          )\n",
       "        )\n",
       "      )\n",
       "      (attentions): ModuleList(\n",
       "        (0): AttentionBlock(\n",
       "          (norm): GroupNorm(32, 64, eps=1e-06, affine=True)\n",
       "          (query): Linear(in_features=64, out_features=64, bias=True)\n",
       "          (key): Linear(in_features=64, out_features=64, bias=True)\n",
       "          (value): Linear(in_features=64, out_features=64, bias=True)\n",
       "          (proj_attn): Linear(in_features=64, out_features=64, bias=True)\n",
       "        )\n",
       "        (1): AttentionBlock(\n",
       "          (norm): GroupNorm(32, 64, eps=1e-06, affine=True)\n",
       "          (query): Linear(in_features=64, out_features=64, bias=True)\n",
       "          (key): Linear(in_features=64, out_features=64, bias=True)\n",
       "          (value): Linear(in_features=64, out_features=64, bias=True)\n",
       "          (proj_attn): Linear(in_features=64, out_features=64, bias=True)\n",
       "        )\n",
       "      )\n",
       "      (upsampler): Upsample(\n",
       "        (conv): Convolution(\n",
       "          (conv): Conv2d(64, 64, kernel_size=(3, 3), stride=(1, 1), padding=(1, 1))\n",
       "        )\n",
       "      )\n",
       "    )\n",
       "    (1): AttnUpBlock(\n",
       "      (resnets): ModuleList(\n",
       "        (0): ResnetBlock(\n",
       "          (norm1): GroupNorm(32, 128, eps=1e-06, affine=True)\n",
       "          (nonlinearity): SiLU()\n",
       "          (conv1): Convolution(\n",
       "            (conv): Conv2d(128, 64, kernel_size=(3, 3), stride=(1, 1), padding=(1, 1))\n",
       "          )\n",
       "          (time_emb_proj): Linear(in_features=256, out_features=64, bias=True)\n",
       "          (norm2): GroupNorm(32, 64, eps=1e-06, affine=True)\n",
       "          (conv2): Convolution(\n",
       "            (conv): Conv2d(64, 64, kernel_size=(3, 3), stride=(1, 1), padding=(1, 1))\n",
       "          )\n",
       "          (skip_connection): Convolution(\n",
       "            (conv): Conv2d(128, 64, kernel_size=(1, 1), stride=(1, 1))\n",
       "          )\n",
       "        )\n",
       "        (1): ResnetBlock(\n",
       "          (norm1): GroupNorm(32, 128, eps=1e-06, affine=True)\n",
       "          (nonlinearity): SiLU()\n",
       "          (conv1): Convolution(\n",
       "            (conv): Conv2d(128, 64, kernel_size=(3, 3), stride=(1, 1), padding=(1, 1))\n",
       "          )\n",
       "          (time_emb_proj): Linear(in_features=256, out_features=64, bias=True)\n",
       "          (norm2): GroupNorm(32, 64, eps=1e-06, affine=True)\n",
       "          (conv2): Convolution(\n",
       "            (conv): Conv2d(64, 64, kernel_size=(3, 3), stride=(1, 1), padding=(1, 1))\n",
       "          )\n",
       "          (skip_connection): Convolution(\n",
       "            (conv): Conv2d(128, 64, kernel_size=(1, 1), stride=(1, 1))\n",
       "          )\n",
       "        )\n",
       "      )\n",
       "      (attentions): ModuleList(\n",
       "        (0): AttentionBlock(\n",
       "          (norm): GroupNorm(32, 64, eps=1e-06, affine=True)\n",
       "          (query): Linear(in_features=64, out_features=64, bias=True)\n",
       "          (key): Linear(in_features=64, out_features=64, bias=True)\n",
       "          (value): Linear(in_features=64, out_features=64, bias=True)\n",
       "          (proj_attn): Linear(in_features=64, out_features=64, bias=True)\n",
       "        )\n",
       "        (1): AttentionBlock(\n",
       "          (norm): GroupNorm(32, 64, eps=1e-06, affine=True)\n",
       "          (query): Linear(in_features=64, out_features=64, bias=True)\n",
       "          (key): Linear(in_features=64, out_features=64, bias=True)\n",
       "          (value): Linear(in_features=64, out_features=64, bias=True)\n",
       "          (proj_attn): Linear(in_features=64, out_features=64, bias=True)\n",
       "        )\n",
       "      )\n",
       "      (upsampler): Upsample(\n",
       "        (conv): Convolution(\n",
       "          (conv): Conv2d(64, 64, kernel_size=(3, 3), stride=(1, 1), padding=(1, 1))\n",
       "        )\n",
       "      )\n",
       "    )\n",
       "    (2): UpBlock(\n",
       "      (resnets): ModuleList(\n",
       "        (0): ResnetBlock(\n",
       "          (norm1): GroupNorm(32, 128, eps=1e-06, affine=True)\n",
       "          (nonlinearity): SiLU()\n",
       "          (conv1): Convolution(\n",
       "            (conv): Conv2d(128, 64, kernel_size=(3, 3), stride=(1, 1), padding=(1, 1))\n",
       "          )\n",
       "          (time_emb_proj): Linear(in_features=256, out_features=64, bias=True)\n",
       "          (norm2): GroupNorm(32, 64, eps=1e-06, affine=True)\n",
       "          (conv2): Convolution(\n",
       "            (conv): Conv2d(64, 64, kernel_size=(3, 3), stride=(1, 1), padding=(1, 1))\n",
       "          )\n",
       "          (skip_connection): Convolution(\n",
       "            (conv): Conv2d(128, 64, kernel_size=(1, 1), stride=(1, 1))\n",
       "          )\n",
       "        )\n",
       "        (1): ResnetBlock(\n",
       "          (norm1): GroupNorm(32, 128, eps=1e-06, affine=True)\n",
       "          (nonlinearity): SiLU()\n",
       "          (conv1): Convolution(\n",
       "            (conv): Conv2d(128, 64, kernel_size=(3, 3), stride=(1, 1), padding=(1, 1))\n",
       "          )\n",
       "          (time_emb_proj): Linear(in_features=256, out_features=64, bias=True)\n",
       "          (norm2): GroupNorm(32, 64, eps=1e-06, affine=True)\n",
       "          (conv2): Convolution(\n",
       "            (conv): Conv2d(64, 64, kernel_size=(3, 3), stride=(1, 1), padding=(1, 1))\n",
       "          )\n",
       "          (skip_connection): Convolution(\n",
       "            (conv): Conv2d(128, 64, kernel_size=(1, 1), stride=(1, 1))\n",
       "          )\n",
       "        )\n",
       "      )\n",
       "    )\n",
       "  )\n",
       "  (out): Linear(in_features=16384, out_features=1, bias=True)\n",
       ")"
      ]
     },
     "execution_count": 53,
     "metadata": {},
     "output_type": "execute_result"
    }
   ],
   "source": [
    "classifier = DiffusionModelEncoder(\n",
    "    spatial_dims=2,\n",
    "    in_channels=1,\n",
    "    out_channels=1,\n",
    "    num_channels=(64, 64, 64),\n",
    "   # attention_levels=(False, False, True),\n",
    "    num_res_blocks=1,\n",
    "    num_head_channels=64,\n",
    "    with_conditioning=False,\n",
    "  #  cross_attention_dim=1,\n",
    ")\n",
    "classifier.to(device)"
   ]
  },
  {
   "cell_type": "code",
   "execution_count": 38,
   "id": "de18d5cb-68e7-407c-afe9-8efd7a5a904a",
   "metadata": {
    "lines_to_next_cell": 2
   },
   "outputs": [],
   "source": [
    "batch_size=6\n",
    "subset2_2D = zip(batched_2d_slices.split(batch_size),slice_label.split(batch_size))#\n",
    "subset3_2D = zip(batched_2d_slices.split(batch_size),slice_label.split(batch_size))#"
   ]
  },
  {
   "cell_type": "code",
   "execution_count": 39,
   "id": "b7803890-5504-475d-8dd7-c87cae4a1b61",
   "metadata": {},
   "outputs": [
    {
     "name": "stderr",
     "output_type": "stream",
     "text": [
      "Epoch 0:   3%|▊                       | 4/128 [00:00<00:03, 33.30it/s]"
     ]
    },
    {
     "name": "stdout",
     "output_type": "stream",
     "text": [
      "h torch.Size([6, 64, 16, 16]) 6\n",
      "h torch.Size([6, 16384])\n",
      "loss tensor(0.7719, device='cuda:0', grad_fn=<AliasBackward0>)\n",
      "h torch.Size([6, 64, 16, 16]) 6\n",
      "h torch.Size([6, 16384])\n",
      "loss tensor(0.7611, device='cuda:0', grad_fn=<AliasBackward0>)\n",
      "h torch.Size([6, 64, 16, 16]) 6\n",
      "h torch.Size([6, 16384])\n",
      "loss tensor(0.7668, device='cuda:0', grad_fn=<AliasBackward0>)\n",
      "h torch.Size([6, 64, 16, 16]) 6\n",
      "h torch.Size([6, 16384])\n",
      "loss tensor(0.7561, device='cuda:0', grad_fn=<AliasBackward0>)\n",
      "h torch.Size([6, 64, 16, 16]) 6\n",
      "h torch.Size([6, 16384])\n",
      "loss tensor(0.7131, device='cuda:0', grad_fn=<AliasBackward0>)\n",
      "h torch.Size([6, 64, 16, 16]) 6\n",
      "h torch.Size([6, 16384])\n",
      "loss tensor(0.6271, device='cuda:0', grad_fn=<AliasBackward0>)\n",
      "h torch.Size([6, 64, 16, 16]) 6\n",
      "h torch.Size([6, 16384])\n",
      "loss tensor(0.6277, device='cuda:0', grad_fn=<AliasBackward0>)\n",
      "h torch.Size([6, 64, 16, 16]) 6\n",
      "h torch.Size([6, 16384])\n",
      "loss tensor(0.6392, device='cuda:0', grad_fn=<AliasBackward0>)\n"
     ]
    },
    {
     "name": "stderr",
     "output_type": "stream",
     "text": [
      "Epoch 0:   9%|██▏                    | 12/128 [00:00<00:03, 35.77it/s]"
     ]
    },
    {
     "name": "stdout",
     "output_type": "stream",
     "text": [
      "h torch.Size([6, 64, 16, 16]) 6\n",
      "h torch.Size([6, 16384])\n",
      "loss tensor(0.6372, device='cuda:0', grad_fn=<AliasBackward0>)\n",
      "h torch.Size([6, 64, 16, 16]) 6\n",
      "h torch.Size([6, 16384])\n",
      "loss tensor(0.7021, device='cuda:0', grad_fn=<AliasBackward0>)\n",
      "h torch.Size([6, 64, 16, 16]) 6\n",
      "h torch.Size([6, 16384])\n",
      "loss tensor(0.7493, device='cuda:0', grad_fn=<AliasBackward0>)\n",
      "h torch.Size([6, 64, 16, 16]) 6\n",
      "h torch.Size([6, 16384])\n",
      "loss tensor(0.7826, device='cuda:0', grad_fn=<AliasBackward0>)\n",
      "h torch.Size([6, 64, 16, 16]) 6\n",
      "h torch.Size([6, 16384])\n",
      "loss tensor(0.7407, device='cuda:0', grad_fn=<AliasBackward0>)\n",
      "h torch.Size([6, 64, 16, 16]) 6\n",
      "h torch.Size([6, 16384])\n",
      "loss tensor(0.7278, device='cuda:0', grad_fn=<AliasBackward0>)\n",
      "h torch.Size([6, 64, 16, 16]) 6\n",
      "h torch.Size([6, 16384])\n",
      "loss tensor(0.7590, device='cuda:0', grad_fn=<AliasBackward0>)\n",
      "h torch.Size([6, 64, 16, 16]) 6\n",
      "h torch.Size([6, 16384])\n",
      "loss tensor(0.7495, device='cuda:0', grad_fn=<AliasBackward0>)\n"
     ]
    },
    {
     "name": "stderr",
     "output_type": "stream",
     "text": [
      "Epoch 0:  17%|███▉                   | 22/128 [00:00<00:03, 35.29it/s]\n"
     ]
    },
    {
     "name": "stdout",
     "output_type": "stream",
     "text": [
      "h torch.Size([6, 64, 16, 16]) 6\n",
      "h torch.Size([6, 16384])\n",
      "loss tensor(0.7754, device='cuda:0', grad_fn=<AliasBackward0>)\n",
      "h torch.Size([6, 64, 16, 16]) 6\n",
      "h torch.Size([6, 16384])\n",
      "loss tensor(0.7786, device='cuda:0', grad_fn=<AliasBackward0>)\n",
      "h torch.Size([6, 64, 16, 16]) 6\n",
      "h torch.Size([6, 16384])\n",
      "loss tensor(0.7738, device='cuda:0', grad_fn=<AliasBackward0>)\n",
      "h torch.Size([6, 64, 16, 16]) 6\n",
      "h torch.Size([6, 16384])\n",
      "loss tensor(0.7787, device='cuda:0', grad_fn=<AliasBackward0>)\n",
      "h torch.Size([6, 64, 16, 16]) 6\n",
      "h torch.Size([6, 16384])\n",
      "loss tensor(0.7888, device='cuda:0', grad_fn=<AliasBackward0>)\n",
      "h torch.Size([2, 64, 16, 16]) 2\n",
      "h torch.Size([2, 16384])\n",
      "loss tensor(0.7906, device='cuda:0', grad_fn=<AliasBackward0>)\n"
     ]
    },
    {
     "name": "stderr",
     "output_type": "stream",
     "text": [
      "Epoch 1:   0%|                                | 0/128 [00:00<?, ?it/s]\n",
      "Epoch 2:   0%|                                | 0/128 [00:00<?, ?it/s]\n",
      "Epoch 3:   0%|                                | 0/128 [00:00<?, ?it/s]\n",
      "Epoch 4:   0%|                                | 0/128 [00:00<?, ?it/s]\n",
      "Epoch 4:  17%|███▊                  | 22/128 [00:00<00:00, 110.93it/s]\n"
     ]
    },
    {
     "name": "stdout",
     "output_type": "stream",
     "text": [
      "h torch.Size([6, 64, 16, 16]) 6\n",
      "h torch.Size([6, 16384])\n",
      "h torch.Size([6, 64, 16, 16]) 6\n",
      "h torch.Size([6, 16384])\n",
      "h torch.Size([6, 64, 16, 16]) 6\n",
      "h torch.Size([6, 16384])\n",
      "h torch.Size([6, 64, 16, 16]) 6\n",
      "h torch.Size([6, 16384])\n",
      "h torch.Size([6, 64, 16, 16]) 6\n",
      "h torch.Size([6, 16384])\n",
      "h torch.Size([6, 64, 16, 16]) 6\n",
      "h torch.Size([6, 16384])\n",
      "h torch.Size([6, 64, 16, 16]) 6\n",
      "h torch.Size([6, 16384])\n",
      "h torch.Size([6, 64, 16, 16]) 6\n",
      "h torch.Size([6, 16384])\n",
      "h torch.Size([6, 64, 16, 16]) 6\n",
      "h torch.Size([6, 16384])\n",
      "h torch.Size([6, 64, 16, 16]) 6\n",
      "h torch.Size([6, 16384])\n",
      "h torch.Size([6, 64, 16, 16]) 6\n",
      "h torch.Size([6, 16384])\n",
      "h torch.Size([6, 64, 16, 16]) 6\n",
      "h torch.Size([6, 16384])\n",
      "h torch.Size([6, 64, 16, 16]) 6\n",
      "h torch.Size([6, 16384])\n",
      "h torch.Size([6, 64, 16, 16]) 6\n",
      "h torch.Size([6, 16384])\n",
      "h torch.Size([6, 64, 16, 16]) 6\n",
      "h torch.Size([6, 16384])\n",
      "h torch.Size([6, 64, 16, 16]) 6\n",
      "h torch.Size([6, 16384])\n",
      "h torch.Size([6, 64, 16, 16]) 6\n",
      "h torch.Size([6, 16384])\n",
      "h torch.Size([6, 64, 16, 16]) 6\n",
      "h torch.Size([6, 16384])\n",
      "h torch.Size([6, 64, 16, 16]) 6\n",
      "h torch.Size([6, 16384])\n",
      "h torch.Size([6, 64, 16, 16]) 6\n",
      "h torch.Size([6, 16384])\n",
      "h torch.Size([6, 64, 16, 16]) 6\n",
      "h torch.Size([6, 16384])\n",
      "h torch.Size([2, 64, 16, 16]) 2\n",
      "h torch.Size([2, 16384])\n"
     ]
    },
    {
     "name": "stderr",
     "output_type": "stream",
     "text": [
      "Epoch 5:   0%|                                | 0/128 [00:00<?, ?it/s]\n",
      "Epoch 6:   0%|                                | 0/128 [00:00<?, ?it/s]\n",
      "Epoch 7:   0%|                                | 0/128 [00:00<?, ?it/s]\n",
      "Epoch 8:   0%|                                | 0/128 [00:00<?, ?it/s]\n",
      "Epoch 9:   0%|                                | 0/128 [00:00<?, ?it/s]\n",
      "Epoch 9:   0%|                                | 0/128 [00:00<?, ?it/s]\n",
      "Epoch 10:   0%|                               | 0/128 [00:00<?, ?it/s]\n",
      "Epoch 11:   0%|                               | 0/128 [00:00<?, ?it/s]\n",
      "Epoch 12:   0%|                               | 0/128 [00:00<?, ?it/s]\n",
      "Epoch 13:   0%|                               | 0/128 [00:00<?, ?it/s]\n",
      "Epoch 14:   0%|                               | 0/128 [00:00<?, ?it/s]\n",
      "Epoch 14:   0%|                               | 0/128 [00:00<?, ?it/s]\n",
      "Epoch 15:   0%|                               | 0/128 [00:00<?, ?it/s]\n",
      "Epoch 16:   0%|                               | 0/128 [00:00<?, ?it/s]\n",
      "Epoch 17:   0%|                               | 0/128 [00:00<?, ?it/s]\n",
      "Epoch 18:   0%|                               | 0/128 [00:00<?, ?it/s]\n",
      "Epoch 19:   0%|                               | 0/128 [00:00<?, ?it/s]\n",
      "Epoch 19:   0%|                               | 0/128 [00:00<?, ?it/s]"
     ]
    },
    {
     "name": "stdout",
     "output_type": "stream",
     "text": [
      "train completed, total time: 0.9466347694396973.\n"
     ]
    },
    {
     "name": "stderr",
     "output_type": "stream",
     "text": [
      "\n"
     ]
    }
   ],
   "source": [
    "n_epochs = 20\n",
    "val_interval = 5\n",
    "epoch_loss_list = []\n",
    "val_epoch_loss_list = []\n",
    "\n",
    "classifier.to(device)\n",
    "scaler = GradScaler()\n",
    "total_start = time.time()\n",
    "for epoch in range(n_epochs):\n",
    "    classifier.train()\n",
    "    epoch_loss = 0\n",
    "    progress_bar2 = tqdm(enumerate(subset2_2D), total=len(idx), ncols=70)\n",
    "    progress_bar2.set_description(f\"Epoch {epoch}\")\n",
    "    for step, (a,b) in progress_bar2:\n",
    "        images = a.to(device)\n",
    "        classes = b.to(device)  \n",
    "        optimizer.zero_grad(set_to_none=True)\n",
    "        timesteps = torch.randint(0, 1000, (len(images),)).to(device)\n",
    "\n",
    "        with autocast(enabled=True):\n",
    "            # Generate random noise\n",
    "            noise = 0*torch.randn_like(images).to(device)\n",
    "\n",
    "            # Get model prediction\n",
    "           \n",
    "            pred = inferer(inputs=images, diffusion_model=classifier, noise=noise, timesteps=timesteps)  #remove the class conditioning\n",
    "          #  noise_pred = inferer(inputs=images, diffusion_model=model, noise=noise, timesteps=timesteps)  #remove the class conditioning\n",
    "            loss = F.binary_cross_entropy_with_logits(pred[:,0].float(), classes.float())\n",
    "            print('loss', loss)\n",
    "        #scaler.scale(loss).backward()\n",
    "       # scaler.step(optimizer)\n",
    "        loss.backward()\n",
    "        optimizer.step()\n",
    "        #scaler.update()\n",
    "\n",
    "        epoch_loss += loss.item()\n",
    "\n",
    "        progress_bar.set_postfix(\n",
    "            {\n",
    "                \"loss\": epoch_loss / (step + 1),\n",
    "            }\n",
    "        )\n",
    "    epoch_loss_list.append(epoch_loss / (step + 1))\n",
    "\n",
    "    if (epoch + 1) % val_interval == 0:\n",
    "        model.eval()\n",
    "        val_epoch_loss = 0\n",
    "        progress_bar3 = tqdm(enumerate(subset3_2D), total=len(idx), ncols=70)\n",
    "        progress_bar3.set_description(f\"Epoch {epoch}\")\n",
    "        for step, (a,b) in progress_bar3:\n",
    "            images = a.to(device)\n",
    "            classes = b.to(device)  \n",
    "       \n",
    "            timesteps = torch.randint(0, 1000, (len(images),)).to(device)#torch.from_numpy(np.arange(0, 1000)[::-1].copy())\n",
    "\n",
    "            with torch.no_grad():\n",
    "                with autocast(enabled=True):\n",
    "                    noise = 0*torch.randn_like(images).to(device)\n",
    "                    pred = inferer(inputs=images, diffusion_model=classifier, noise=noise, timesteps=timesteps)\n",
    "                    val_loss = F.binary_cross_entropy_with_logits(pred[:,0].float(), classes.float())\n",
    "\n",
    "            val_epoch_loss += val_loss.item()\n",
    "            progress_bar.set_postfix(\n",
    "                {\n",
    "                    \"val_loss\": val_epoch_loss / (step + 1),\n",
    "                }\n",
    "            )\n",
    "        val_epoch_loss_list.append(val_epoch_loss / (step + 1))\n",
    "\n",
    "total_time = time.time() - total_start\n",
    "print(f\"train completed, total time: {total_time}.\")"
   ]
  },
  {
   "cell_type": "markdown",
   "id": "a676b3fe",
   "metadata": {},
   "source": [
    "### Learning curves"
   ]
  },
  {
   "cell_type": "code",
   "execution_count": 25,
   "id": "f8385176",
   "metadata": {
    "collapsed": false,
    "jupyter": {
     "outputs_hidden": false
    }
   },
   "outputs": [
    {
     "ename": "ValueError",
     "evalue": "x and y must have same first dimension, but have shapes (20,) and (5,)",
     "output_type": "error",
     "traceback": [
      "\u001b[0;31m---------------------------------------------------------------------------\u001b[0m",
      "\u001b[0;31mValueError\u001b[0m                                Traceback (most recent call last)",
      "Cell \u001b[0;32mIn[25], line 3\u001b[0m\n\u001b[1;32m      1\u001b[0m plt\u001b[38;5;241m.\u001b[39mstyle\u001b[38;5;241m.\u001b[39muse(\u001b[38;5;124m\"\u001b[39m\u001b[38;5;124mseaborn-bright\u001b[39m\u001b[38;5;124m\"\u001b[39m)\n\u001b[1;32m      2\u001b[0m plt\u001b[38;5;241m.\u001b[39mtitle(\u001b[38;5;124m\"\u001b[39m\u001b[38;5;124mLearning Curves\u001b[39m\u001b[38;5;124m\"\u001b[39m, fontsize\u001b[38;5;241m=\u001b[39m\u001b[38;5;241m20\u001b[39m)\n\u001b[0;32m----> 3\u001b[0m \u001b[43mplt\u001b[49m\u001b[38;5;241;43m.\u001b[39;49m\u001b[43mplot\u001b[49m\u001b[43m(\u001b[49m\u001b[43mnp\u001b[49m\u001b[38;5;241;43m.\u001b[39;49m\u001b[43mlinspace\u001b[49m\u001b[43m(\u001b[49m\u001b[38;5;241;43m1\u001b[39;49m\u001b[43m,\u001b[49m\u001b[43m \u001b[49m\u001b[43mn_epochs\u001b[49m\u001b[43m,\u001b[49m\u001b[43m \u001b[49m\u001b[43mn_epochs\u001b[49m\u001b[43m)\u001b[49m\u001b[43m,\u001b[49m\u001b[43m \u001b[49m\u001b[43mepoch_loss_list\u001b[49m\u001b[43m,\u001b[49m\u001b[43m \u001b[49m\u001b[43mcolor\u001b[49m\u001b[38;5;241;43m=\u001b[39;49m\u001b[38;5;124;43m\"\u001b[39;49m\u001b[38;5;124;43mC0\u001b[39;49m\u001b[38;5;124;43m\"\u001b[39;49m\u001b[43m,\u001b[49m\u001b[43m \u001b[49m\u001b[43mlinewidth\u001b[49m\u001b[38;5;241;43m=\u001b[39;49m\u001b[38;5;241;43m2.0\u001b[39;49m\u001b[43m,\u001b[49m\u001b[43m \u001b[49m\u001b[43mlabel\u001b[49m\u001b[38;5;241;43m=\u001b[39;49m\u001b[38;5;124;43m\"\u001b[39;49m\u001b[38;5;124;43mTrain\u001b[39;49m\u001b[38;5;124;43m\"\u001b[39;49m\u001b[43m)\u001b[49m\n\u001b[1;32m      4\u001b[0m plt\u001b[38;5;241m.\u001b[39mplot(\n\u001b[1;32m      5\u001b[0m     np\u001b[38;5;241m.\u001b[39mlinspace(val_interval, n_epochs, \u001b[38;5;28mint\u001b[39m(n_epochs \u001b[38;5;241m/\u001b[39m val_interval)),\n\u001b[1;32m      6\u001b[0m     val_epoch_loss_list,\n\u001b[0;32m   (...)\u001b[0m\n\u001b[1;32m      9\u001b[0m     label\u001b[38;5;241m=\u001b[39m\u001b[38;5;124m\"\u001b[39m\u001b[38;5;124mValidation\u001b[39m\u001b[38;5;124m\"\u001b[39m,\n\u001b[1;32m     10\u001b[0m )\n\u001b[1;32m     11\u001b[0m plt\u001b[38;5;241m.\u001b[39myticks(fontsize\u001b[38;5;241m=\u001b[39m\u001b[38;5;241m12\u001b[39m)\n",
      "File \u001b[0;32m~/anaconda3/envs/experiment/lib/python3.10/site-packages/matplotlib/pyplot.py:2767\u001b[0m, in \u001b[0;36mplot\u001b[0;34m(scalex, scaley, data, *args, **kwargs)\u001b[0m\n\u001b[1;32m   2765\u001b[0m \u001b[38;5;129m@_copy_docstring_and_deprecators\u001b[39m(Axes\u001b[38;5;241m.\u001b[39mplot)\n\u001b[1;32m   2766\u001b[0m \u001b[38;5;28;01mdef\u001b[39;00m \u001b[38;5;21mplot\u001b[39m(\u001b[38;5;241m*\u001b[39margs, scalex\u001b[38;5;241m=\u001b[39m\u001b[38;5;28;01mTrue\u001b[39;00m, scaley\u001b[38;5;241m=\u001b[39m\u001b[38;5;28;01mTrue\u001b[39;00m, data\u001b[38;5;241m=\u001b[39m\u001b[38;5;28;01mNone\u001b[39;00m, \u001b[38;5;241m*\u001b[39m\u001b[38;5;241m*\u001b[39mkwargs):\n\u001b[0;32m-> 2767\u001b[0m     \u001b[38;5;28;01mreturn\u001b[39;00m \u001b[43mgca\u001b[49m\u001b[43m(\u001b[49m\u001b[43m)\u001b[49m\u001b[38;5;241;43m.\u001b[39;49m\u001b[43mplot\u001b[49m\u001b[43m(\u001b[49m\n\u001b[1;32m   2768\u001b[0m \u001b[43m        \u001b[49m\u001b[38;5;241;43m*\u001b[39;49m\u001b[43margs\u001b[49m\u001b[43m,\u001b[49m\u001b[43m \u001b[49m\u001b[43mscalex\u001b[49m\u001b[38;5;241;43m=\u001b[39;49m\u001b[43mscalex\u001b[49m\u001b[43m,\u001b[49m\u001b[43m \u001b[49m\u001b[43mscaley\u001b[49m\u001b[38;5;241;43m=\u001b[39;49m\u001b[43mscaley\u001b[49m\u001b[43m,\u001b[49m\n\u001b[1;32m   2769\u001b[0m \u001b[43m        \u001b[49m\u001b[38;5;241;43m*\u001b[39;49m\u001b[38;5;241;43m*\u001b[39;49m\u001b[43m(\u001b[49m\u001b[43m{\u001b[49m\u001b[38;5;124;43m\"\u001b[39;49m\u001b[38;5;124;43mdata\u001b[39;49m\u001b[38;5;124;43m\"\u001b[39;49m\u001b[43m:\u001b[49m\u001b[43m \u001b[49m\u001b[43mdata\u001b[49m\u001b[43m}\u001b[49m\u001b[43m \u001b[49m\u001b[38;5;28;43;01mif\u001b[39;49;00m\u001b[43m \u001b[49m\u001b[43mdata\u001b[49m\u001b[43m \u001b[49m\u001b[38;5;129;43;01mis\u001b[39;49;00m\u001b[43m \u001b[49m\u001b[38;5;129;43;01mnot\u001b[39;49;00m\u001b[43m \u001b[49m\u001b[38;5;28;43;01mNone\u001b[39;49;00m\u001b[43m \u001b[49m\u001b[38;5;28;43;01melse\u001b[39;49;00m\u001b[43m \u001b[49m\u001b[43m{\u001b[49m\u001b[43m}\u001b[49m\u001b[43m)\u001b[49m\u001b[43m,\u001b[49m\u001b[43m \u001b[49m\u001b[38;5;241;43m*\u001b[39;49m\u001b[38;5;241;43m*\u001b[39;49m\u001b[43mkwargs\u001b[49m\u001b[43m)\u001b[49m\n",
      "File \u001b[0;32m~/anaconda3/envs/experiment/lib/python3.10/site-packages/matplotlib/axes/_axes.py:1635\u001b[0m, in \u001b[0;36mAxes.plot\u001b[0;34m(self, scalex, scaley, data, *args, **kwargs)\u001b[0m\n\u001b[1;32m   1393\u001b[0m \u001b[38;5;250m\u001b[39m\u001b[38;5;124;03m\"\"\"\u001b[39;00m\n\u001b[1;32m   1394\u001b[0m \u001b[38;5;124;03mPlot y versus x as lines and/or markers.\u001b[39;00m\n\u001b[1;32m   1395\u001b[0m \n\u001b[0;32m   (...)\u001b[0m\n\u001b[1;32m   1632\u001b[0m \u001b[38;5;124;03m(``'green'``) or hex strings (``'#008000'``).\u001b[39;00m\n\u001b[1;32m   1633\u001b[0m \u001b[38;5;124;03m\"\"\"\u001b[39;00m\n\u001b[1;32m   1634\u001b[0m kwargs \u001b[38;5;241m=\u001b[39m cbook\u001b[38;5;241m.\u001b[39mnormalize_kwargs(kwargs, mlines\u001b[38;5;241m.\u001b[39mLine2D)\n\u001b[0;32m-> 1635\u001b[0m lines \u001b[38;5;241m=\u001b[39m [\u001b[38;5;241m*\u001b[39m\u001b[38;5;28mself\u001b[39m\u001b[38;5;241m.\u001b[39m_get_lines(\u001b[38;5;241m*\u001b[39margs, data\u001b[38;5;241m=\u001b[39mdata, \u001b[38;5;241m*\u001b[39m\u001b[38;5;241m*\u001b[39mkwargs)]\n\u001b[1;32m   1636\u001b[0m \u001b[38;5;28;01mfor\u001b[39;00m line \u001b[38;5;129;01min\u001b[39;00m lines:\n\u001b[1;32m   1637\u001b[0m     \u001b[38;5;28mself\u001b[39m\u001b[38;5;241m.\u001b[39madd_line(line)\n",
      "File \u001b[0;32m~/anaconda3/envs/experiment/lib/python3.10/site-packages/matplotlib/axes/_base.py:312\u001b[0m, in \u001b[0;36m_process_plot_var_args.__call__\u001b[0;34m(self, data, *args, **kwargs)\u001b[0m\n\u001b[1;32m    310\u001b[0m     this \u001b[38;5;241m+\u001b[39m\u001b[38;5;241m=\u001b[39m args[\u001b[38;5;241m0\u001b[39m],\n\u001b[1;32m    311\u001b[0m     args \u001b[38;5;241m=\u001b[39m args[\u001b[38;5;241m1\u001b[39m:]\n\u001b[0;32m--> 312\u001b[0m \u001b[38;5;28;01myield from\u001b[39;00m \u001b[38;5;28;43mself\u001b[39;49m\u001b[38;5;241;43m.\u001b[39;49m\u001b[43m_plot_args\u001b[49m\u001b[43m(\u001b[49m\u001b[43mthis\u001b[49m\u001b[43m,\u001b[49m\u001b[43m \u001b[49m\u001b[43mkwargs\u001b[49m\u001b[43m)\u001b[49m\n",
      "File \u001b[0;32m~/anaconda3/envs/experiment/lib/python3.10/site-packages/matplotlib/axes/_base.py:498\u001b[0m, in \u001b[0;36m_process_plot_var_args._plot_args\u001b[0;34m(self, tup, kwargs, return_kwargs)\u001b[0m\n\u001b[1;32m    495\u001b[0m     \u001b[38;5;28mself\u001b[39m\u001b[38;5;241m.\u001b[39maxes\u001b[38;5;241m.\u001b[39myaxis\u001b[38;5;241m.\u001b[39mupdate_units(y)\n\u001b[1;32m    497\u001b[0m \u001b[38;5;28;01mif\u001b[39;00m x\u001b[38;5;241m.\u001b[39mshape[\u001b[38;5;241m0\u001b[39m] \u001b[38;5;241m!=\u001b[39m y\u001b[38;5;241m.\u001b[39mshape[\u001b[38;5;241m0\u001b[39m]:\n\u001b[0;32m--> 498\u001b[0m     \u001b[38;5;28;01mraise\u001b[39;00m \u001b[38;5;167;01mValueError\u001b[39;00m(\u001b[38;5;124mf\u001b[39m\u001b[38;5;124m\"\u001b[39m\u001b[38;5;124mx and y must have same first dimension, but \u001b[39m\u001b[38;5;124m\"\u001b[39m\n\u001b[1;32m    499\u001b[0m                      \u001b[38;5;124mf\u001b[39m\u001b[38;5;124m\"\u001b[39m\u001b[38;5;124mhave shapes \u001b[39m\u001b[38;5;132;01m{\u001b[39;00mx\u001b[38;5;241m.\u001b[39mshape\u001b[38;5;132;01m}\u001b[39;00m\u001b[38;5;124m and \u001b[39m\u001b[38;5;132;01m{\u001b[39;00my\u001b[38;5;241m.\u001b[39mshape\u001b[38;5;132;01m}\u001b[39;00m\u001b[38;5;124m\"\u001b[39m)\n\u001b[1;32m    500\u001b[0m \u001b[38;5;28;01mif\u001b[39;00m x\u001b[38;5;241m.\u001b[39mndim \u001b[38;5;241m>\u001b[39m \u001b[38;5;241m2\u001b[39m \u001b[38;5;129;01mor\u001b[39;00m y\u001b[38;5;241m.\u001b[39mndim \u001b[38;5;241m>\u001b[39m \u001b[38;5;241m2\u001b[39m:\n\u001b[1;32m    501\u001b[0m     \u001b[38;5;28;01mraise\u001b[39;00m \u001b[38;5;167;01mValueError\u001b[39;00m(\u001b[38;5;124mf\u001b[39m\u001b[38;5;124m\"\u001b[39m\u001b[38;5;124mx and y can be no greater than 2D, but have \u001b[39m\u001b[38;5;124m\"\u001b[39m\n\u001b[1;32m    502\u001b[0m                      \u001b[38;5;124mf\u001b[39m\u001b[38;5;124m\"\u001b[39m\u001b[38;5;124mshapes \u001b[39m\u001b[38;5;132;01m{\u001b[39;00mx\u001b[38;5;241m.\u001b[39mshape\u001b[38;5;132;01m}\u001b[39;00m\u001b[38;5;124m and \u001b[39m\u001b[38;5;132;01m{\u001b[39;00my\u001b[38;5;241m.\u001b[39mshape\u001b[38;5;132;01m}\u001b[39;00m\u001b[38;5;124m\"\u001b[39m)\n",
      "\u001b[0;31mValueError\u001b[0m: x and y must have same first dimension, but have shapes (20,) and (5,)"
     ]
    },
    {
     "data": {
      "image/png": "[encoded data removed]",
      "text/plain": [
       "<Figure size 640x480 with 1 Axes>"
      ]
     },
     "metadata": {},
     "output_type": "display_data"
    }
   ],
   "source": [
    "plt.style.use(\"seaborn-bright\")\n",
    "plt.title(\"Learning Curves\", fontsize=20)\n",
    "plt.plot(np.linspace(1, n_epochs, n_epochs), epoch_loss_list, color=\"C0\", linewidth=2.0, label=\"Train\")\n",
    "plt.plot(\n",
    "    np.linspace(val_interval, n_epochs, int(n_epochs / val_interval)),\n",
    "    val_epoch_loss_list,\n",
    "    color=\"C1\",\n",
    "    linewidth=2.0,\n",
    "    label=\"Validation\",\n",
    ")\n",
    "plt.yticks(fontsize=12)\n",
    "plt.xticks(fontsize=12)\n",
    "plt.xlabel(\"Epochs\", fontsize=16)\n",
    "plt.ylabel(\"Loss\", fontsize=16)\n",
    "plt.legend(prop={\"size\": 14})\n",
    "plt.show()"
   ]
  },
  {
   "cell_type": "markdown",
   "id": "0cd48c2d",
   "metadata": {},
   "source": [
    "### Sampling process with classifier-free guidance\n",
    "In order to sample using classifier-free guidance, for each step of the process we need to have 2 elements, one generated conditioned in the desired class (here we want to condition on Hands `=1`) and one using the unconditional class (`=-1`).\n",
    "Instead using directly the predicted class in every step, we use the unconditional plus the direction vector pointing to the condition that we want (`noise_pred_text - noise_pred_uncond`). The effect of the condition is defined by the `guidance_scale` defining the influence of our direction vector."
   ]
  },
  {
   "cell_type": "code",
   "execution_count": 27,
   "id": "f71e4924",
   "metadata": {
    "collapsed": false,
    "jupyter": {
     "outputs_hidden": false
    }
   },
   "outputs": [
    {
     "name": "stderr",
     "output_type": "stream",
     "text": [
      "100%|███████████████████████████████████████| 1000/1000 [00:12<00:00, 77.06it/s]\n"
     ]
    },
    {
     "data": {
      "image/png": "[encoded data removed]",
      "text/plain": [
       "<Figure size 640x480 with 1 Axes>"
      ]
     },
     "metadata": {},
     "output_type": "display_data"
    }
   ],
   "source": [
    "model.eval()\n",
    "guidance_scale = 7.0\n",
    "conditioning = torch.cat([-1 * torch.ones(1, 1, 1).float(), torch.ones(1, 1, 1).float()], dim=0).to(device)\n",
    "\n",
    "noise = torch.randn((1, 1, 64, 64))\n",
    "noise = noise.to(device)\n",
    "scheduler.set_timesteps(num_inference_steps=1000)\n",
    "progress_bar = tqdm(scheduler.timesteps)\n",
    "for t in progress_bar:\n",
    "    with autocast(enabled=True):\n",
    "        with torch.no_grad():\n",
    "            noise_input = torch.cat([noise] * 2)\n",
    "            model_output = model(noise_input, timesteps=torch.Tensor((t,)).to(noise.device))\n",
    "            noise_pred_uncond, noise_pred_text = model_output.chunk(2)\n",
    "            noise_pred = noise_pred_uncond + guidance_scale * (noise_pred_text - noise_pred_uncond)\n",
    "\n",
    "    noise, _ = scheduler.step(noise_pred, t, noise)\n",
    "\n",
    "plt.style.use(\"default\")\n",
    "plt.imshow(noise[0, 0].cpu(), vmin=0, vmax=1, cmap=\"gray\")\n",
    "plt.tight_layout()\n",
    "plt.axis(\"off\")\n",
    "plt.show()"
   ]
  },
  {
   "cell_type": "markdown",
   "id": "3483b097",
   "metadata": {},
   "source": [
    "### Cleanup data directory\n",
    "\n",
    "Remove directory if a temporary was used."
   ]
  },
  {
   "cell_type": "code",
   "execution_count": 13,
   "id": "b00d4f9a",
   "metadata": {},
   "outputs": [],
   "source": [
    "if directory is None:\n",
    "    shutil.rmtree(root_dir)"
   ]
  }
 ],
 "metadata": {
  "jupytext": {
   "formats": "py:percent,ipynb"
  },
  "kernelspec": {
   "display_name": "Python 3 (ipykernel)",
   "language": "python",
   "name": "python3"
  },
  "language_info": {
   "codemirror_mode": {
    "name": "ipython",
    "version": 3
   },
   "file_extension": ".py",
   "mimetype": "text/x-python",
   "name": "python",
   "nbconvert_exporter": "python",
   "pygments_lexer": "ipython3",
   "version": "3.10.5"
  }
 },
 "nbformat": 4,
 "nbformat_minor": 5
}
