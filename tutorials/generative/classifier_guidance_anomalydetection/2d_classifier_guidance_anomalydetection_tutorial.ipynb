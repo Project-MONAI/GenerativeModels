{
 "cells": [
  {
   "cell_type": "markdown",
   "id": "63d95da6",
   "metadata": {},
   "source": [
    "# Anomaly Detection with classifier guidance\n",
    "\n",
    "This tutorial illustrates how to use MONAI for training a 2D gradient-guided anomaly detection using DDIMs [1].\n",
    "\n",
    "\n",
    "[1] - Wolleb et al. \"Diffusion Models for Medical Anomaly Detection\" https://arxiv.org/abs/2203.04306\n",
    "\n",
    "\n",
    "TODO: Add Open in Colab\n",
    "\n",
    "## Setup environment"
   ]
  },
  {
   "cell_type": "code",
   "execution_count": 1,
   "id": "75f2d5f3",
   "metadata": {},
   "outputs": [
    {
     "name": "stdout",
     "output_type": "stream",
     "text": [
      "running install\n",
      "/home/juliawolleb/anaconda3/envs/experiment/lib/python3.10/site-packages/setuptools/command/install.py:34: SetuptoolsDeprecationWarning: setup.py install is deprecated. Use build and pip and other standards-based tools.\n",
      "  warnings.warn(\n",
      "/home/juliawolleb/anaconda3/envs/experiment/lib/python3.10/site-packages/setuptools/command/easy_install.py:144: EasyInstallDeprecationWarning: easy_install command is deprecated. Use build and pip and other standards-based tools.\n",
      "  warnings.warn(\n",
      "running bdist_egg\n",
      "running egg_info\n",
      "writing generative.egg-info/PKG-INFO\n",
      "writing dependency_links to generative.egg-info/dependency_links.txt\n",
      "writing requirements to generative.egg-info/requires.txt\n",
      "writing top-level names to generative.egg-info/top_level.txt\n",
      "reading manifest file 'generative.egg-info/SOURCES.txt'\n",
      "writing manifest file 'generative.egg-info/SOURCES.txt'\n",
      "installing library code to build/bdist.linux-x86_64/egg\n",
      "running install_lib\n",
      "warning: install_lib: 'build/lib' does not exist -- no Python modules to install\n",
      "\n",
      "creating build/bdist.linux-x86_64/egg\n",
      "creating build/bdist.linux-x86_64/egg/EGG-INFO\n",
      "copying generative.egg-info/PKG-INFO -> build/bdist.linux-x86_64/egg/EGG-INFO\n",
      "copying generative.egg-info/SOURCES.txt -> build/bdist.linux-x86_64/egg/EGG-INFO\n",
      "copying generative.egg-info/dependency_links.txt -> build/bdist.linux-x86_64/egg/EGG-INFO\n",
      "copying generative.egg-info/requires.txt -> build/bdist.linux-x86_64/egg/EGG-INFO\n",
      "copying generative.egg-info/top_level.txt -> build/bdist.linux-x86_64/egg/EGG-INFO\n",
      "zip_safe flag not set; analyzing archive contents...\n",
      "creating 'dist/generative-0.1.0-py3.10.egg' and adding 'build/bdist.linux-x86_64/egg' to it\n",
      "removing 'build/bdist.linux-x86_64/egg' (and everything under it)\n",
      "Processing generative-0.1.0-py3.10.egg\n",
      "Removing /home/juliawolleb/anaconda3/envs/experiment/lib/python3.10/site-packages/generative-0.1.0-py3.10.egg\n",
      "Copying generative-0.1.0-py3.10.egg to /home/juliawolleb/anaconda3/envs/experiment/lib/python3.10/site-packages\n",
      "generative 0.1.0 is already the active version in easy-install.pth\n",
      "\n",
      "Installed /home/juliawolleb/anaconda3/envs/experiment/lib/python3.10/site-packages/generative-0.1.0-py3.10.egg\n",
      "Processing dependencies for generative==0.1.0\n",
      "Searching for lpips==0.1.4\n",
      "Best match: lpips 0.1.4\n",
      "Processing lpips-0.1.4-py3.10.egg\n",
      "lpips 0.1.4 is already the active version in easy-install.pth\n",
      "\n",
      "Using /home/juliawolleb/anaconda3/envs/experiment/lib/python3.10/site-packages/lpips-0.1.4-py3.10.egg\n",
      "Searching for tqdm==4.64.1\n",
      "Best match: tqdm 4.64.1\n",
      "Processing tqdm-4.64.1-py3.10.egg\n",
      "tqdm 4.64.1 is already the active version in easy-install.pth\n",
      "Installing tqdm script to /home/juliawolleb/anaconda3/envs/experiment/bin\n",
      "\n",
      "Using /home/juliawolleb/anaconda3/envs/experiment/lib/python3.10/site-packages/tqdm-4.64.1-py3.10.egg\n",
      "Searching for scipy==1.9.0\n",
      "Best match: scipy 1.9.0\n",
      "Adding scipy 1.9.0 to easy-install.pth file\n",
      "\n",
      "Using /home/juliawolleb/anaconda3/envs/experiment/lib/python3.10/site-packages\n",
      "Searching for numpy==1.23.2\n",
      "Best match: numpy 1.23.2\n",
      "Adding numpy 1.23.2 to easy-install.pth file\n",
      "Installing f2py script to /home/juliawolleb/anaconda3/envs/experiment/bin\n",
      "Installing f2py3 script to /home/juliawolleb/anaconda3/envs/experiment/bin\n",
      "Installing f2py3.10 script to /home/juliawolleb/anaconda3/envs/experiment/bin\n",
      "\n",
      "Using /home/juliawolleb/anaconda3/envs/experiment/lib/python3.10/site-packages\n",
      "Searching for torchvision==0.13.1\n",
      "Best match: torchvision 0.13.1\n",
      "Adding torchvision 0.13.1 to easy-install.pth file\n",
      "\n",
      "Using /home/juliawolleb/anaconda3/envs/experiment/lib/python3.10/site-packages\n",
      "Searching for torch==1.12.1\n",
      "Best match: torch 1.12.1\n",
      "Adding torch 1.12.1 to easy-install.pth file\n",
      "Installing convert-caffe2-to-onnx script to /home/juliawolleb/anaconda3/envs/experiment/bin\n",
      "Installing convert-onnx-to-caffe2 script to /home/juliawolleb/anaconda3/envs/experiment/bin\n",
      "Installing torchrun script to /home/juliawolleb/anaconda3/envs/experiment/bin\n",
      "\n",
      "Using /home/juliawolleb/anaconda3/envs/experiment/lib/python3.10/site-packages\n",
      "Searching for Pillow==9.2.0\n",
      "Best match: Pillow 9.2.0\n",
      "Adding Pillow 9.2.0 to easy-install.pth file\n",
      "\n",
      "Using /home/juliawolleb/anaconda3/envs/experiment/lib/python3.10/site-packages\n",
      "Searching for requests==2.28.1\n",
      "Best match: requests 2.28.1\n",
      "Adding requests 2.28.1 to easy-install.pth file\n",
      "\n",
      "Using /home/juliawolleb/anaconda3/envs/experiment/lib/python3.10/site-packages\n",
      "Searching for typing-extensions==4.3.0\n",
      "Best match: typing-extensions 4.3.0\n",
      "Adding typing-extensions 4.3.0 to easy-install.pth file\n",
      "\n",
      "Using /home/juliawolleb/anaconda3/envs/experiment/lib/python3.10/site-packages\n",
      "Searching for certifi==2022.6.15\n",
      "Best match: certifi 2022.6.15\n",
      "Adding certifi 2022.6.15 to easy-install.pth file\n",
      "\n",
      "Using /home/juliawolleb/anaconda3/envs/experiment/lib/python3.10/site-packages\n",
      "Searching for urllib3==1.26.11\n",
      "Best match: urllib3 1.26.11\n",
      "Adding urllib3 1.26.11 to easy-install.pth file\n",
      "\n",
      "Using /home/juliawolleb/anaconda3/envs/experiment/lib/python3.10/site-packages\n",
      "Searching for idna==3.3\n",
      "Best match: idna 3.3\n",
      "Adding idna 3.3 to easy-install.pth file\n",
      "\n",
      "Using /home/juliawolleb/anaconda3/envs/experiment/lib/python3.10/site-packages\n",
      "Searching for charset-normalizer==2.1.1\n",
      "Best match: charset-normalizer 2.1.1\n",
      "Adding charset-normalizer 2.1.1 to easy-install.pth file\n",
      "Installing normalizer script to /home/juliawolleb/anaconda3/envs/experiment/bin\n",
      "\n",
      "Using /home/juliawolleb/anaconda3/envs/experiment/lib/python3.10/site-packages\n",
      "Finished processing dependencies for generative==0.1.0\n"
     ]
    }
   ],
   "source": [
    "!python /home/juliawolleb/PycharmProjects/MONAI/GenerativeModels/setup.py install\n",
    "!python -c \"import monai\" || pip install -q \"monai-weekly[pillow, tqdm, einops]\"\n",
    "!python -c \"import matplotlib\" || pip install -q matplotlib\n",
    "!python -c \"import seaborn\" || pip install -q seaborn"
   ]
  },
  {
   "cell_type": "markdown",
   "id": "6b766027",
   "metadata": {},
   "source": [
    "## Setup imports"
   ]
  },
  {
   "cell_type": "code",
   "execution_count": 3,
   "id": "972ed3f3",
   "metadata": {
    "collapsed": false,
    "jupyter": {
     "outputs_hidden": false
    }
   },
   "outputs": [
    {
     "name": "stderr",
     "output_type": "stream",
     "text": [
      "Setting up a new session...\n"
     ]
    },
    {
     "name": "stdout",
     "output_type": "stream",
     "text": [
      "path ['/home/juliawolleb/PycharmProjects/MONAI/GenerativeModels/tutorials/generative/classifier_guidance_anomalydetection', '/home/juliawolleb/anaconda3/envs/experiment/lib/python310.zip', '/home/juliawolleb/anaconda3/envs/experiment/lib/python3.10', '/home/juliawolleb/anaconda3/envs/experiment/lib/python3.10/lib-dynload', '', '/home/juliawolleb/anaconda3/envs/experiment/lib/python3.10/site-packages', '/home/juliawolleb/anaconda3/envs/experiment/lib/python3.10/site-packages/PyYAML-6.0-py3.10-linux-x86_64.egg', '/home/juliawolleb/PycharmProjects/Python_Tutorials/Calgary_Infants/calgary/HD-BET', '/home/juliawolleb/anaconda3/envs/experiment/lib/python3.10/site-packages/lpips-0.1.4-py3.10.egg', '/home/juliawolleb/anaconda3/envs/experiment/lib/python3.10/site-packages/tqdm-4.64.1-py3.10.egg', '/home/juliawolleb/anaconda3/envs/experiment/lib/python3.10/site-packages/generative-0.1.0-py3.10.egg', '/home/juliawolleb/PycharmProjects/MONAI/GenerativeModels/']\n",
      "MONAI version: 1.1.dev2248\n",
      "Numpy version: 1.23.2\n",
      "Pytorch version: 1.12.1\n",
      "MONAI flags: HAS_EXT = False, USE_COMPILED = False, USE_META_DICT = False\n",
      "MONAI rev id: 3400bd91422ccba9ccc3aa2ffe7fecd4eb5596bf\n",
      "MONAI __file__: /home/juliawolleb/anaconda3/envs/experiment/lib/python3.10/site-packages/monai/__init__.py\n",
      "\n",
      "Optional dependencies:\n",
      "Pytorch Ignite version: NOT INSTALLED or UNKNOWN VERSION.\n",
      "Nibabel version: 4.0.1\n",
      "scikit-image version: 0.19.3\n",
      "Pillow version: 9.2.0\n",
      "Tensorboard version: NOT INSTALLED or UNKNOWN VERSION.\n",
      "gdown version: NOT INSTALLED or UNKNOWN VERSION.\n",
      "TorchVision version: 0.13.1\n",
      "tqdm version: 4.64.1\n",
      "lmdb version: NOT INSTALLED or UNKNOWN VERSION.\n",
      "psutil version: 5.9.4\n",
      "pandas version: 1.5.3\n",
      "einops version: 0.6.0\n",
      "transformers version: NOT INSTALLED or UNKNOWN VERSION.\n",
      "mlflow version: NOT INSTALLED or UNKNOWN VERSION.\n",
      "pynrrd version: NOT INSTALLED or UNKNOWN VERSION.\n",
      "\n",
      "For details about installing the optional dependencies, please visit:\n",
      "    https://docs.monai.io/en/latest/installation.html#installing-the-recommended-dependencies\n",
      "\n"
     ]
    }
   ],
   "source": [
    "# Copyright 2020 MONAI Consortium\n",
    "# Licensed under the Apache License, Version 2.0 (the \"License\");\n",
    "# you may not use this file except in compliance with the License.\n",
    "# You may obtain a copy of the License at\n",
    "#     http://www.apache.org/licenses/LICENSE-2.0\n",
    "# Unless required by applicable law or agreed to in writing, software\n",
    "# distributed under the License is distributed on an \"AS IS\" BASIS,\n",
    "# WITHOUT WARRANTIES OR CONDITIONS OF ANY KIND, either express or implied.\n",
    "# See the License for the specific language governing permissions and\n",
    "# limitations under the License.\n",
    "import os\n",
    "import shutil\n",
    "import tempfile\n",
    "import time\n",
    "from typing import Dict\n",
    "import os\n",
    "import torch.nn as nn\n",
    "import matplotlib.pyplot as plt\n",
    "import numpy as np\n",
    "import torch\n",
    "import torch.nn.functional as F\n",
    "from monai import transforms\n",
    "from monai.apps import MedNISTDataset, DecathlonDataset\n",
    "from monai.config import print_config\n",
    "from monai.data import CacheDataset, DataLoader\n",
    "from monai.utils import first, set_determinism\n",
    "from torch.cuda.amp import GradScaler, autocast\n",
    "from tqdm import tqdm\n",
    "torch.multiprocessing.set_sharing_strategy('file_system')\n",
    "import sys\n",
    "sys.path.append('/home/juliawolleb/PycharmProjects/MONAI/GenerativeModels/')\n",
    "print('path', sys.path)\n",
    "\n",
    "from generative.inferers import DiffusionInferer\n",
    "\n",
    "\n",
    "# TODO: Add right import reference after deployed\n",
    "from generative.networks.nets.diffusion_model_unet import DiffusionModelUNet, DiffusionModelEncoder\n",
    "\n",
    "from generative.networks.schedulers.ddpm import DDPMScheduler\n",
    "from generative.networks.schedulers.ddim import DDIMScheduler\n",
    "print_config()\n",
    "\n",
    "losstrain_window = viz.line(Y=torch.zeros((1)).cpu(), X=torch.zeros((1)).cpu(),\n",
    "                        opts=dict(xlabel='epoch', ylabel='Loss', title='training loss'))\n",
    "lossval_window = viz.line(Y=torch.zeros((1)).cpu(), X=torch.zeros((1)).cpu(),\n",
    "                        opts=dict(xlabel='epoch', ylabel='Loss', title='val loss '))\n",
    "\n",
    "train_classifier=False\n",
    "train_diffusionmodel=False\n",
    "def visualize(img):\n",
    "    _min = img.min()\n",
    "    _max = img.max()\n",
    "    normalized_img = (img - _min)/ (_max - _min)\n",
    "    return normalized_img"
   ]
  },
  {
   "cell_type": "markdown",
   "id": "7d4ff515",
   "metadata": {},
   "source": [
    "## Setup data directory"
   ]
  },
  {
   "cell_type": "code",
   "execution_count": 4,
   "id": "8b4323e7",
   "metadata": {
    "collapsed": false,
    "jupyter": {
     "outputs_hidden": false
    }
   },
   "outputs": [],
   "source": [
    "directory = os.environ.get(\"MONAI_DATA_DIRECTORY\")\n",
    "#root_dir = tempfile.mkdtemp() if directory is None else directory\n",
    "root_dir='/home/juliawolleb/PycharmProjects/MONAI/brats'  #path to where the data is stored"
   ]
  },
  {
   "cell_type": "markdown",
   "id": "99175d50",
   "metadata": {},
   "source": [
    "## Set deterministic training for reproducibility"
   ]
  },
  {
   "cell_type": "code",
   "execution_count": 5,
   "id": "34ea510f",
   "metadata": {
    "collapsed": false,
    "jupyter": {
     "outputs_hidden": false
    }
   },
   "outputs": [],
   "source": [
    "set_determinism(36)"
   ]
  },
  {
   "cell_type": "markdown",
   "id": "c3f70dd1-236a-47ff-a244-575729ad92ba",
   "metadata": {
    "tags": []
   },
   "source": [
    "## Setup BRATS Dataset for 2D slices  and training and validation dataloaders\n",
    "As baseline, we use the load_2d_brats.ipynb written by Pedro in issue 150"
   ]
  },
  {
   "cell_type": "code",
   "execution_count": 29,
   "id": "da1927b0",
   "metadata": {
    "collapsed": false,
    "jupyter": {
     "outputs_hidden": false
    }
   },
   "outputs": [
    {
     "name": "stderr",
     "output_type": "stream",
     "text": [
      "/home/juliawolleb/anaconda3/envs/experiment/lib/python3.10/site-packages/monai/utils/deprecate_utils.py:107: FutureWarning: <class 'monai.transforms.utility.array.AddChannel'>: Class `AddChannel` has been deprecated since version 0.8. please use MetaTensor data type and monai.transforms.EnsureChannelFirst instead.\n",
      "  warn_deprecated(obj, msg, warning_category)\n"
     ]
    },
    {
     "name": "stdout",
     "output_type": "stream",
     "text": [
      "download training set\n",
      "len train data 388\n",
      "total slices torch.Size([17072, 1, 64, 64])\n",
      "total lbaels torch.Size([17072])\n",
      "download val set\n"
     ]
    }
   ],
   "source": [
    "\n",
    "\n",
    "channel = 0  # 0 = Flair\n",
    "assert channel in [0, 1, 2, 3], \"Choose a valid channel\"\n",
    "\n",
    "train_transforms = transforms.Compose(\n",
    "    [\n",
    "        transforms.LoadImaged(keys=[\"image\",\"label\"]),\n",
    "        transforms.EnsureChannelFirstd(keys=[\"image\",\"label\"]),\n",
    "        transforms.Lambdad(keys=[\"image\"], func=lambda x: x[channel, :, :, :]),\n",
    "        transforms.AddChanneld(keys=[\"image\"]),\n",
    "        transforms.EnsureTyped(keys=[\"image\",\"label\"]),\n",
    "        transforms.Orientationd(keys=[\"image\",\"label\"], axcodes=\"RAS\"),\n",
    "        transforms.Spacingd(\n",
    "            keys=[\"image\",\"label\"],\n",
    "            pixdim=(3.0, 3.0, 2.0),\n",
    "            mode=(\"bilinear\", \"nearest\"),\n",
    "        ),\n",
    "        transforms.CenterSpatialCropd(keys=[\"image\",\"label\"], roi_size=(64, 64, 64)),\n",
    "        transforms.ScaleIntensityRangePercentilesd(keys=\"image\", lower=0, upper=99.5, b_min=0, b_max=1),\n",
    "        transforms.CopyItemsd(keys=[\"label\"], times=1, names=[\"slice_label\"]),\n",
    "        transforms.Lambdad(keys=[\"slice_label\"], func=lambda x: (x.reshape(x.shape[0], -1, x.shape[-1]).sum(1) > 0 ).float().squeeze()),\n",
    "    ]\n",
    ")\n",
    "print('download training set')\n",
    "train_ds = DecathlonDataset(\n",
    "    root_dir=root_dir,\n",
    "    task=\"Task01_BrainTumour\",\n",
    "    section=\"training\",  # validation\n",
    "    cache_rate=0.0,  # you may need a few Gb of RAM... Set to 0 otherwise\n",
    "    num_workers=4,\n",
    "    download=False,  # Set download to True if the dataset hasnt been downloaded yet\n",
    "    seed=0,\n",
    "    transform=train_transforms,\n",
    ")\n",
    "print('len train data', len(train_ds))\n",
    "\n",
    "def get_batched_2d_axial_slices(data : Dict):\n",
    "    images_3D = data['image']\n",
    "    batched_2d_slices = torch.cat(images_3D.split(1, dim = -1)[10:-10], 0).squeeze(-1) # we cut the lowest and highest 10 slices, because we are interested in the middle part of the brain.\n",
    "    slice_label = data['slice_label']\n",
    "    slice_label = torch.cat(slice_label.split(1, dim = -1)[10:-10],0).squeeze()\n",
    "    return batched_2d_slices, slice_label\n",
    "\n",
    "preprocessing_train=False\n",
    "if preprocessing_train == True:\n",
    "    train_loader_3D = DataLoader(train_ds, batch_size=1, shuffle=True, num_workers=4)\n",
    "    print(f'Image shape {train_ds[0][\"image\"].shape}')\n",
    "\n",
    "    data_2d_slices=[]\n",
    "    data_slice_label = []\n",
    "    check_data = first(train_loader_3D)\n",
    "    for i, data in enumerate(train_loader_3D):\n",
    "        b2d, slice_label2d = get_batched_2d_axial_slices(data)\n",
    "        data_2d_slices.append(b2d)\n",
    "        data_slice_label.append(slice_label2d)\n",
    "    total_train_slices=torch.cat(data_2d_slices,0)\n",
    "    total_train_labels=torch.cat(data_slice_label,0)\n",
    "\n",
    "    torch.save(total_train_slices, 'total_train_slices.pt')\n",
    "    torch.save(total_train_labels, 'total_train_labels.pt')\n",
    "\n",
    "else:\n",
    "    total_train_slices=torch.load('total_train_slices.pt')\n",
    "    total_train_labels=torch.load('total_train_labels.pt')\n",
    "    print('total slices', total_train_slices.shape)\n",
    "    print('total lbaels', total_train_labels.shape)\n",
    "\n"
   ]
  },
  {
   "cell_type": "markdown",
   "id": "fac55e9d",
   "metadata": {
    "tags": []
   },
   "source": [
    "## Setup BRATS Dataset for 2D slices  validation dataloader\n",
    "As baseline, we use the load_2d_brats.ipynb written by Pedro in issue 150"
   ]
  },
  {
   "cell_type": "code",
   "execution_count": 7,
   "id": "73d72110-a8b3-4e03-91cc-1dab4d5a7b87",
   "metadata": {
    "lines_to_next_cell": 2
   },
   "outputs": [
    {
     "name": "stdout",
     "output_type": "stream",
     "text": [
      "total slices torch.Size([4224, 1, 64, 64])\n",
      "total lbaels torch.Size([4224])\n"
     ]
    }
   ],
   "source": [
    "val_ds = DecathlonDataset(\n",
    "    root_dir=root_dir,\n",
    "    task=\"Task01_BrainTumour\",\n",
    "    section=\"validation\",  # validation\n",
    "    cache_rate=0.0,  # you may need a few Gb of RAM... Set to 0 otherwise\n",
    "    num_workers=4,\n",
    "    download=False,  # Set download to True if the dataset hasnt been downloaded yet\n",
    "    seed=0,\n",
    "    transform=train_transforms,\n",
    ")\n",
    "\n",
    "\n",
    "preprocessing_val=False\n",
    "if preprocessing_val == True:\n",
    "    val_loader_3D = DataLoader(val_ds, batch_size=1, shuffle=True, num_workers=4)\n",
    "    print(f'Image shape {val_ds[0][\"image\"].shape}')\n",
    "    print('len val data', len(val_ds))\n",
    "    data_2d_slices_val=[]\n",
    "    data_slice_label_val = []\n",
    "    for i, data in enumerate(val_loader_3D):\n",
    "        b2d, slice_label2d = get_batched_2d_axial_slices(data)\n",
    "        data_2d_slices_val.append(b2d)\n",
    "        data_slice_label_val.append(slice_label2d)\n",
    "    total_val_slices=torch.cat(data_2d_slices_val,0)\n",
    "    total_val_labels=torch.cat(data_slice_label_val,0)\n",
    "    torch.save(total_val_slices, 'total_val_slices.pt')\n",
    "    torch.save(total_val_labels, 'total_val_labels.pt')\n",
    "\n",
    "else:\n",
    "    total_val_slices=torch.load('total_val_slices.pt')\n",
    "    total_val_labels=torch.load('total_val_labels.pt')\n",
    "    print('total slices', total_val_slices.shape)\n",
    "    print('total lbaels', total_val_labels.shape)"
   ]
  },
  {
   "cell_type": "markdown",
   "id": "6986f55c",
   "metadata": {},
   "source": [
    "Here we use transforms to augment the training dataset, as usual:\n",
    "\n",
    "1. `LoadImaged` loads the hands images from files.\n",
    "1. `EnsureChannelFirstd` ensures the original data to construct \"channel first\" shape.\n",
    "1. `ScaleIntensityRanged` extracts intensity range [0, 255] and scales to [0, 1].\n",
    "1. `RandAffined` efficiently performs rotate, scale, shear, translate, etc. together based on PyTorch affine transform.\n",
    "\n"
   ]
  },
  {
   "cell_type": "markdown",
   "id": "08428bc6",
   "metadata": {},
   "source": [
    "### Define network, scheduler, optimizer, and inferer\n",
    "At this step, we instantiate the MONAI components to create a DDPM, the UNET, the noise scheduler, and the inferer used for training and sampling. We are using\n",
    "the original DDPM scheduler containing 1000 timesteps in its Markov chain, and a 2D UNET with attention mechanisms\n",
    "in the 3rd level, each with 1 attention head (`num_head_channels=64`).\n"
   ]
  },
  {
   "cell_type": "code",
   "execution_count": 8,
   "id": "bee5913e",
   "metadata": {
    "collapsed": false,
    "jupyter": {
     "outputs_hidden": false
    },
    "lines_to_next_cell": 0
   },
   "outputs": [],
   "source": [
    "device = torch.device(\"cuda\")\n",
    "\n",
    "model = DiffusionModelUNet(\n",
    "    spatial_dims=2,\n",
    "    in_channels=1,\n",
    "    out_channels=1,\n",
    "    num_channels=(64, 64, 64),\n",
    "    attention_levels=(False, False, True),\n",
    "    num_res_blocks=1,\n",
    "    num_head_channels=64,\n",
    "    with_conditioning=False,\n",
    "  #  cross_attention_dim=1,\n",
    ")\n",
    "model.to(device)\n",
    "\n",
    "scheduler = DDIMScheduler(\n",
    "    num_train_timesteps=1000,\n",
    ")\n",
    "\n",
    "optimizer = torch.optim.Adam(params=model.parameters(), lr=2.5e-5)\n",
    "\n",
    "inferer = DiffusionInferer(scheduler)"
   ]
  },
  {
   "cell_type": "markdown",
   "id": "2a4d3ab2",
   "metadata": {
    "tags": []
   },
   "source": [
    "### Model training of the Diffusion Model\n",
    "Here, we are training our diffusion model for 75 epochs (training time: ~50 minutes)."
   ]
  },
  {
   "cell_type": "code",
   "execution_count": 9,
   "id": "6c0ed909",
   "metadata": {
    "collapsed": false,
    "jupyter": {
     "outputs_hidden": false
    }
   },
   "outputs": [],
   "source": [
    "n_epochs =75\n",
    "batch_size=32\n",
    "val_interval = 1\n",
    "epoch_loss_list = []\n",
    "val_epoch_loss_list = []\n",
    "train_diffusionmodel=False\n",
    "if train_diffusionmodel==False:\n",
    "    model.load_state_dict(torch.load(\"./diffusion_model.pt\", map_location={'cuda:0': 'cpu'}))\n",
    "else:\n",
    "    scaler = GradScaler()\n",
    "    total_start = time.time()\n",
    "    for epoch in range(n_epochs):\n",
    "        model.train()\n",
    "        epoch_loss = 0\n",
    "        indexes = list(torch.randperm(total_train_slices.shape[0]))  #shuffle training data new\n",
    "        data_train = total_train_slices[indexes]  # shuffle the training data\n",
    "        labels_train = total_train_labels[indexes]\n",
    "        subset_2D = zip(data_train.split(batch_size), labels_train.split(batch_size))\n",
    "\n",
    "        subset_2D_val = zip(total_val_slices.split(1), total_val_labels.split(1))  #\n",
    "\n",
    "        progress_bar = tqdm(enumerate(subset_2D), total=len(indexes), ncols=10)\n",
    "        progress_bar.set_description(f\"Epoch {epoch}\")\n",
    "        for step, (a,b) in progress_bar:\n",
    "            images = a.to(device)\n",
    "            classes = b.to(device)\n",
    "            optimizer.zero_grad(set_to_none=True)\n",
    "            timesteps = torch.randint(0, 1000, (len(images),)).to(device)\n",
    "\n",
    "            with autocast(enabled=True):\n",
    "                # Generate random noise\n",
    "                noise = torch.randn_like(images).to(device)\n",
    "\n",
    "                # Get model prediction\n",
    "                noise_pred = inferer(inputs=images, diffusion_model=model, noise=noise, timesteps=timesteps)  #remove the class conditioning\n",
    "\n",
    "                loss = F.mse_loss(noise_pred.float(), noise.float())\n",
    "\n",
    "            scaler.scale(loss).backward()\n",
    "            scaler.step(optimizer)\n",
    "            scaler.update()\n",
    "            if step%20==0:\n",
    "                print('step', step, loss)\n",
    "\n",
    "            epoch_loss += loss.item()\n",
    "\n",
    "            progress_bar.set_postfix(\n",
    "                {\n",
    "                    \"loss\": epoch_loss / (step + 1),\n",
    "                }\n",
    "            )\n",
    "        epoch_loss_list.append(epoch_loss / (step + 1))\n",
    "\n",
    "\n",
    "        if (epoch) % val_interval == 0:\n",
    "            model.eval()\n",
    "            val_epoch_loss = 0\n",
    "            progress_bar_val = tqdm(enumerate(subset_2D_val))\n",
    "            progress_bar.set_description(f\"Epoch {epoch}\")\n",
    "            for    step, (a, b) in progress_bar_val:\n",
    "                images = a.to(device)\n",
    "                classes = b.to(device)\n",
    "\n",
    "                timesteps = torch.randint(0, 1000, (len(images),)).to(device)\n",
    "                with torch.no_grad():\n",
    "                    with autocast(enabled=True):\n",
    "                        noise = torch.randn_like(images).to(device)\n",
    "                        noise_pred = inferer(inputs=images, diffusion_model=model, noise=noise, timesteps=timesteps)\n",
    "                        val_loss = F.mse_loss(noise_pred.float(), noise.float())\n",
    "\n",
    "                val_epoch_loss += val_loss.item()\n",
    "                progress_bar.set_postfix(\n",
    "                    {\n",
    "                        \"val_loss\": val_epoch_loss / (step + 1),\n",
    "                    }\n",
    "                )\n",
    "            val_epoch_loss_list.append(val_epoch_loss / (step + 1))\n",
    "\n",
    "    total_time = time.time() - total_start\n",
    "    torch.save(model.state_dict(), \"./diffusion_model.pt\")  #save the trained model\n",
    "\n",
    "    print(f\"train diffusion completed, total time: {total_time}.\")\n",
    "\n",
    "    plt.style.use(\"seaborn-bright\")\n",
    "    plt.title(\"Learning Curves Diffusion Model\", fontsize=20)\n",
    "    plt.plot(np.linspace(1, n_epochs, n_epochs), epoch_loss_list, color=\"C0\", linewidth=2.0, label=\"Train\")\n",
    "    plt.plot(\n",
    "        np.linspace(val_interval, n_epochs, int(n_epochs / val_interval)),\n",
    "        val_epoch_loss_list,\n",
    "        color=\"C1\",\n",
    "        linewidth=2.0,\n",
    "        label=\"Validation\",\n",
    "    )\n",
    "    plt.yticks(fontsize=12)\n",
    "    plt.xticks(fontsize=12)\n",
    "    plt.xlabel(\"Epochs\", fontsize=16)\n",
    "    plt.ylabel(\"Loss\", fontsize=16)\n",
    "    plt.legend(prop={\"size\": 14})\n",
    "    plt.show()\n",
    "\n"
   ]
  },
  {
   "cell_type": "markdown",
   "id": "45fab83a-b4c8-42cb-96c9-4e9f1e191111",
   "metadata": {},
   "source": [
    "### Model training of the Classification Model\n",
    "#First, we define the classification model. It follows the encoder architecture of the diffusion model, combined with linear layers for binary classification between healthy and diseased slices.\n",
    "#Here, we are training our binary classification model for 20 epochs."
   ]
  },
  {
   "cell_type": "code",
   "execution_count": 33,
   "id": "44cc6928-2525-4e61-8805-15b409097bbb",
   "metadata": {
    "lines_to_next_cell": 2
   },
   "outputs": [],
   "source": [
    "\n",
    "\n",
    "classifier = DiffusionModelEncoder(\n",
    "    spatial_dims=2,\n",
    "    in_channels=1,\n",
    "    out_channels=2,\n",
    "    num_channels=(32,64,128),\n",
    "    attention_levels=(False, True, True),\n",
    "    num_res_blocks=1,\n",
    "    num_head_channels=64,\n",
    "    with_conditioning=False,\n",
    ")\n",
    "classifier.to(device)\n",
    "batch_size=32"
   ]
  },
  {
   "cell_type": "code",
   "execution_count": 35,
   "id": "de18d5cb-68e7-407c-afe9-8efd7a5a904a",
   "metadata": {
    "lines_to_next_cell": 0
   },
   "outputs": [
    {
     "name": "stderr",
     "output_type": "stream",
     "text": [
      "Epoch 0: : 534it [00:29, 18.32it/s, loss=0.576]                                 \n"
     ]
    },
    {
     "name": "stdout",
     "output_type": "stream",
     "text": [
      "final step train 533\n"
     ]
    },
    {
     "name": "stderr",
     "output_type": "stream",
     "text": [
      "Epoch 0: : 132it [00:02, 56.95it/s, val_loss=0.305]\n"
     ]
    },
    {
     "name": "stdout",
     "output_type": "stream",
     "text": [
      "final step val 131\n"
     ]
    },
    {
     "name": "stderr",
     "output_type": "stream",
     "text": [
      "Epoch 1: : 534it [00:29, 18.34it/s, loss=0.576]                                 \n"
     ]
    },
    {
     "name": "stdout",
     "output_type": "stream",
     "text": [
      "final step train 533\n"
     ]
    },
    {
     "name": "stderr",
     "output_type": "stream",
     "text": [
      "Epoch 1: : 132it [00:02, 56.37it/s, val_loss=0.315]\n"
     ]
    },
    {
     "name": "stdout",
     "output_type": "stream",
     "text": [
      "final step val 131\n"
     ]
    },
    {
     "name": "stderr",
     "output_type": "stream",
     "text": [
      "Epoch 2: : 534it [00:31, 16.99it/s, loss=0.573]                                 \n"
     ]
    },
    {
     "name": "stdout",
     "output_type": "stream",
     "text": [
      "final step train 533\n"
     ]
    },
    {
     "name": "stderr",
     "output_type": "stream",
     "text": [
      "Epoch 2: : 132it [00:02, 52.98it/s, val_loss=0.312]\n"
     ]
    },
    {
     "name": "stdout",
     "output_type": "stream",
     "text": [
      "final step val 131\n"
     ]
    },
    {
     "name": "stderr",
     "output_type": "stream",
     "text": [
      "Epoch 3: : 534it [00:31, 17.21it/s, loss=0.572]                                 \n"
     ]
    },
    {
     "name": "stdout",
     "output_type": "stream",
     "text": [
      "final step train 533\n"
     ]
    },
    {
     "name": "stderr",
     "output_type": "stream",
     "text": [
      "Epoch 3: : 132it [00:02, 53.04it/s, val_loss=0.334]\n"
     ]
    },
    {
     "name": "stdout",
     "output_type": "stream",
     "text": [
      "final step val 131\n"
     ]
    },
    {
     "name": "stderr",
     "output_type": "stream",
     "text": [
      "Epoch 4: : 534it [00:31, 17.16it/s, loss=0.569]                                 \n"
     ]
    },
    {
     "name": "stdout",
     "output_type": "stream",
     "text": [
      "final step train 533\n"
     ]
    },
    {
     "name": "stderr",
     "output_type": "stream",
     "text": [
      "Epoch 4: : 132it [00:02, 52.93it/s, val_loss=0.36] \n"
     ]
    },
    {
     "name": "stdout",
     "output_type": "stream",
     "text": [
      "final step val 131\n",
      "train completed, total time: 167.07577848434448.\n",
      "epl 5\n"
     ]
    },
    {
     "data": {
      "image/png": "[encoded data removed]",
      "text/plain": [
       "<Figure size 640x480 with 1 Axes>"
      ]
     },
     "metadata": {},
     "output_type": "display_data"
    }
   ],
   "source": [
    "n_epochs = 5\n",
    "val_interval = 1\n",
    "epoch_loss_list = []\n",
    "val_epoch_loss_list = []\n",
    "optimizer_cls = torch.optim.Adam(params=classifier.parameters(),  lr=2.5e-5)\n",
    "\n",
    "classifier.to(device)\n",
    "\n",
    "train_classifier=False\n",
    "if train_classifier==False:\n",
    "    classifier.load_state_dict(torch.load(\"./classifier5.pt\", map_location={'cuda:0': 'cpu'}))\n",
    "else:\n",
    "\n",
    "    scaler = GradScaler()\n",
    "    total_start = time.time()\n",
    "    for epoch in range(n_epochs):\n",
    "        classifier.train()\n",
    "        epoch_loss = 0\n",
    "        indexes = list(torch.randperm(total_train_slices.shape[0]))\n",
    "        data_train = total_train_slices[indexes]  # shuffle the training data\n",
    "        labels_train = total_train_labels[indexes]\n",
    "        subset_2D = zip(data_train.split(batch_size), labels_train.split(batch_size))\n",
    "        progress_bar = tqdm(enumerate(subset_2D), total=len(indexes)/batch_size)\n",
    "        progress_bar.set_description(f\"Epoch {epoch}\")\n",
    "\n",
    "        for step, (a,b) in progress_bar:\n",
    "            images = a.to(device)\n",
    "            classes = b.to(device)\n",
    "            weight=torch.tensor((3,1)).float().to(device) #account for the class imbalance in the dataset\n",
    "            optimizer_cls.zero_grad(set_to_none=True)\n",
    "            timesteps = torch.randint(0, 1000, (len(images),)).to(device)\n",
    "\n",
    "            with autocast(enabled=False):\n",
    "                # Generate random noise\n",
    "                noise = torch.randn_like(images).to(device)\n",
    "\n",
    "                # Get model prediction\n",
    "                noisy_img=scheduler.add_noise(images,noise, timesteps )   #add t steps of noise to the input image\n",
    "                pred=classifier(noisy_img, timesteps)\n",
    "                loss = F.cross_entropy(pred, classes.long(), weight=weight, reduction=\"mean\")\n",
    "\n",
    "            loss.backward()\n",
    "            optimizer_cls.step()\n",
    "\n",
    "            epoch_loss += loss.item()\n",
    "            progress_bar.set_postfix(\n",
    "                    {\n",
    "                        \"loss\": epoch_loss / (step + 1),\n",
    "                    }\n",
    "                )\n",
    "        epoch_loss_list.append(epoch_loss / (step + 1))\n",
    "        print('final step train', step)\n",
    "\n",
    "\n",
    "        if (epoch + 1) % val_interval == 0:\n",
    "            classifier.eval()\n",
    "            val_epoch_loss = 0\n",
    "            subset_2D_val = zip(total_val_slices.split(batch_size), total_val_labels.split(batch_size))  #\n",
    "            progress_bar_val = tqdm(enumerate(subset_2D_val))\n",
    "            progress_bar_val.set_description(f\"Epoch {epoch}\")\n",
    "            for step, (a,b) in progress_bar_val:\n",
    "                images = a.to(device)\n",
    "                classes = b.to(device)\n",
    "                timesteps = torch.randint(0, 1, (len(images),)).to(device)  #check validation accuracy on the original images, i.e., do not add noise\n",
    "\n",
    "                with torch.no_grad():\n",
    "                    with autocast(enabled=False):\n",
    "                        noise = torch.randn_like(images).to(device)\n",
    "                        pred = classifier(images, timesteps)\n",
    "                        val_loss = F.cross_entropy(pred, classes.long(), reduction=\"mean\")\n",
    "\n",
    "                val_epoch_loss += val_loss.item()\n",
    "                _, predicted = torch.max(pred, 1);\n",
    "                progress_bar_val.set_postfix(\n",
    "                    {\n",
    "                        \"val_loss\": val_epoch_loss / (step + 1),\n",
    "                    }\n",
    "                )\n",
    "            val_epoch_loss_list.append(val_epoch_loss / (step + 1))\n",
    "            print('final step val', step)\n",
    "\n",
    "\n",
    "    total_time = time.time() - total_start\n",
    "    print(f\"train completed, total time: {total_time}.\")\n",
    "    torch.save(classifier.state_dict(), \"./classifier5.pt\")\n",
    "    \n",
    "    ## Learning curves for the Classifier\n",
    "    \n",
    "    plt.style.use(\"seaborn-bright\")\n",
    "    plt.title(\"Learning Curves\", fontsize=20)\n",
    "    print('epl', len(epoch_loss_list))\n",
    "    plt.plot(np.linspace(1, n_epochs, n_epochs), epoch_loss_list, color=\"C0\", linewidth=2.0, label=\"Train\")\n",
    "    plt.plot(\n",
    "        np.linspace(val_interval, n_epochs, int(n_epochs / val_interval)),\n",
    "        val_epoch_loss_list,\n",
    "        color=\"C1\",\n",
    "        linewidth=2.0,\n",
    "        label=\"Validation\",\n",
    "    )\n",
    "    plt.yticks(fontsize=12)\n",
    "    plt.xticks(fontsize=12)\n",
    "    plt.xlabel(\"Epochs\", fontsize=16)\n",
    "    plt.ylabel(\"Loss\", fontsize=16)\n",
    "    plt.legend(prop={\"size\": 14})\n",
    "    plt.show()"
   ]
  },
  {
   "cell_type": "markdown",
   "id": "a676b3fe",
   "metadata": {},
   "source": [
    "### For Image-to-Image Translation to a Healthy Subject, we pick a disesed subject of the validation set"
   ]
  },
  {
   "cell_type": "code",
   "execution_count": 36,
   "id": "fe0d9eac-1477-4d6d-a885-d3c4acb4a781",
   "metadata": {},
   "outputs": [
    {
     "data": {
      "image/png": "[encoded data removed]",
      "text/plain": [
       "<Figure size 640x480 with 1 Axes>"
      ]
     },
     "metadata": {},
     "output_type": "display_data"
    },
    {
     "data": {
      "text/plain": [
       "DiffusionModelEncoder(\n",
       "  (conv_in): Convolution(\n",
       "    (conv): Conv2d(1, 32, kernel_size=(3, 3), stride=(1, 1), padding=(1, 1))\n",
       "  )\n",
       "  (time_embed): Sequential(\n",
       "    (0): Linear(in_features=32, out_features=128, bias=True)\n",
       "    (1): SiLU()\n",
       "    (2): Linear(in_features=128, out_features=128, bias=True)\n",
       "  )\n",
       "  (down_blocks): ModuleList(\n",
       "    (0): DownBlock(\n",
       "      (resnets): ModuleList(\n",
       "        (0): ResnetBlock(\n",
       "          (norm1): GroupNorm(32, 32, eps=1e-06, affine=True)\n",
       "          (nonlinearity): SiLU()\n",
       "          (conv1): Convolution(\n",
       "            (conv): Conv2d(32, 32, kernel_size=(3, 3), stride=(1, 1), padding=(1, 1))\n",
       "          )\n",
       "          (time_emb_proj): Linear(in_features=128, out_features=32, bias=True)\n",
       "          (norm2): GroupNorm(32, 32, eps=1e-06, affine=True)\n",
       "          (conv2): Convolution(\n",
       "            (conv): Conv2d(32, 32, kernel_size=(3, 3), stride=(1, 1), padding=(1, 1))\n",
       "          )\n",
       "          (skip_connection): Identity()\n",
       "        )\n",
       "      )\n",
       "      (downsampler): Downsample(\n",
       "        (op): Convolution(\n",
       "          (conv): Conv2d(32, 32, kernel_size=(3, 3), stride=(2, 2), padding=(1, 1))\n",
       "        )\n",
       "      )\n",
       "    )\n",
       "    (1): AttnDownBlock(\n",
       "      (attentions): ModuleList(\n",
       "        (0): AttentionBlock(\n",
       "          (norm): GroupNorm(32, 64, eps=1e-06, affine=True)\n",
       "          (query): Linear(in_features=64, out_features=64, bias=True)\n",
       "          (key): Linear(in_features=64, out_features=64, bias=True)\n",
       "          (value): Linear(in_features=64, out_features=64, bias=True)\n",
       "          (proj_attn): Linear(in_features=64, out_features=64, bias=True)\n",
       "        )\n",
       "      )\n",
       "      (resnets): ModuleList(\n",
       "        (0): ResnetBlock(\n",
       "          (norm1): GroupNorm(32, 32, eps=1e-06, affine=True)\n",
       "          (nonlinearity): SiLU()\n",
       "          (conv1): Convolution(\n",
       "            (conv): Conv2d(32, 64, kernel_size=(3, 3), stride=(1, 1), padding=(1, 1))\n",
       "          )\n",
       "          (time_emb_proj): Linear(in_features=128, out_features=64, bias=True)\n",
       "          (norm2): GroupNorm(32, 64, eps=1e-06, affine=True)\n",
       "          (conv2): Convolution(\n",
       "            (conv): Conv2d(64, 64, kernel_size=(3, 3), stride=(1, 1), padding=(1, 1))\n",
       "          )\n",
       "          (skip_connection): Convolution(\n",
       "            (conv): Conv2d(32, 64, kernel_size=(1, 1), stride=(1, 1))\n",
       "          )\n",
       "        )\n",
       "      )\n",
       "      (downsampler): Downsample(\n",
       "        (op): Convolution(\n",
       "          (conv): Conv2d(64, 64, kernel_size=(3, 3), stride=(2, 2), padding=(1, 1))\n",
       "        )\n",
       "      )\n",
       "    )\n",
       "    (2): AttnDownBlock(\n",
       "      (attentions): ModuleList(\n",
       "        (0): AttentionBlock(\n",
       "          (norm): GroupNorm(32, 128, eps=1e-06, affine=True)\n",
       "          (query): Linear(in_features=128, out_features=128, bias=True)\n",
       "          (key): Linear(in_features=128, out_features=128, bias=True)\n",
       "          (value): Linear(in_features=128, out_features=128, bias=True)\n",
       "          (proj_attn): Linear(in_features=128, out_features=128, bias=True)\n",
       "        )\n",
       "      )\n",
       "      (resnets): ModuleList(\n",
       "        (0): ResnetBlock(\n",
       "          (norm1): GroupNorm(32, 64, eps=1e-06, affine=True)\n",
       "          (nonlinearity): SiLU()\n",
       "          (conv1): Convolution(\n",
       "            (conv): Conv2d(64, 128, kernel_size=(3, 3), stride=(1, 1), padding=(1, 1))\n",
       "          )\n",
       "          (time_emb_proj): Linear(in_features=128, out_features=128, bias=True)\n",
       "          (norm2): GroupNorm(32, 128, eps=1e-06, affine=True)\n",
       "          (conv2): Convolution(\n",
       "            (conv): Conv2d(128, 128, kernel_size=(3, 3), stride=(1, 1), padding=(1, 1))\n",
       "          )\n",
       "          (skip_connection): Convolution(\n",
       "            (conv): Conv2d(64, 128, kernel_size=(1, 1), stride=(1, 1))\n",
       "          )\n",
       "        )\n",
       "      )\n",
       "      (downsampler): Downsample(\n",
       "        (op): Convolution(\n",
       "          (conv): Conv2d(128, 128, kernel_size=(3, 3), stride=(2, 2), padding=(1, 1))\n",
       "        )\n",
       "      )\n",
       "    )\n",
       "  )\n",
       "  (middle_block): AttnMidBlock(\n",
       "    (resnet_1): ResnetBlock(\n",
       "      (norm1): GroupNorm(32, 128, eps=1e-06, affine=True)\n",
       "      (nonlinearity): SiLU()\n",
       "      (conv1): Convolution(\n",
       "        (conv): Conv2d(128, 128, kernel_size=(3, 3), stride=(1, 1), padding=(1, 1))\n",
       "      )\n",
       "      (time_emb_proj): Linear(in_features=128, out_features=128, bias=True)\n",
       "      (norm2): GroupNorm(32, 128, eps=1e-06, affine=True)\n",
       "      (conv2): Convolution(\n",
       "        (conv): Conv2d(128, 128, kernel_size=(3, 3), stride=(1, 1), padding=(1, 1))\n",
       "      )\n",
       "      (skip_connection): Identity()\n",
       "    )\n",
       "    (attention): AttentionBlock(\n",
       "      (norm): GroupNorm(32, 128, eps=1e-06, affine=True)\n",
       "      (query): Linear(in_features=128, out_features=128, bias=True)\n",
       "      (key): Linear(in_features=128, out_features=128, bias=True)\n",
       "      (value): Linear(in_features=128, out_features=128, bias=True)\n",
       "      (proj_attn): Linear(in_features=128, out_features=128, bias=True)\n",
       "    )\n",
       "    (resnet_2): ResnetBlock(\n",
       "      (norm1): GroupNorm(32, 128, eps=1e-06, affine=True)\n",
       "      (nonlinearity): SiLU()\n",
       "      (conv1): Convolution(\n",
       "        (conv): Conv2d(128, 128, kernel_size=(3, 3), stride=(1, 1), padding=(1, 1))\n",
       "      )\n",
       "      (time_emb_proj): Linear(in_features=128, out_features=128, bias=True)\n",
       "      (norm2): GroupNorm(32, 128, eps=1e-06, affine=True)\n",
       "      (conv2): Convolution(\n",
       "        (conv): Conv2d(128, 128, kernel_size=(3, 3), stride=(1, 1), padding=(1, 1))\n",
       "      )\n",
       "      (skip_connection): Identity()\n",
       "    )\n",
       "  )\n",
       "  (up_blocks): ModuleList(\n",
       "    (0): AttnUpBlock(\n",
       "      (resnets): ModuleList(\n",
       "        (0): ResnetBlock(\n",
       "          (norm1): GroupNorm(32, 256, eps=1e-06, affine=True)\n",
       "          (nonlinearity): SiLU()\n",
       "          (conv1): Convolution(\n",
       "            (conv): Conv2d(256, 128, kernel_size=(3, 3), stride=(1, 1), padding=(1, 1))\n",
       "          )\n",
       "          (time_emb_proj): Linear(in_features=128, out_features=128, bias=True)\n",
       "          (norm2): GroupNorm(32, 128, eps=1e-06, affine=True)\n",
       "          (conv2): Convolution(\n",
       "            (conv): Conv2d(128, 128, kernel_size=(3, 3), stride=(1, 1), padding=(1, 1))\n",
       "          )\n",
       "          (skip_connection): Convolution(\n",
       "            (conv): Conv2d(256, 128, kernel_size=(1, 1), stride=(1, 1))\n",
       "          )\n",
       "        )\n",
       "        (1): ResnetBlock(\n",
       "          (norm1): GroupNorm(32, 192, eps=1e-06, affine=True)\n",
       "          (nonlinearity): SiLU()\n",
       "          (conv1): Convolution(\n",
       "            (conv): Conv2d(192, 128, kernel_size=(3, 3), stride=(1, 1), padding=(1, 1))\n",
       "          )\n",
       "          (time_emb_proj): Linear(in_features=128, out_features=128, bias=True)\n",
       "          (norm2): GroupNorm(32, 128, eps=1e-06, affine=True)\n",
       "          (conv2): Convolution(\n",
       "            (conv): Conv2d(128, 128, kernel_size=(3, 3), stride=(1, 1), padding=(1, 1))\n",
       "          )\n",
       "          (skip_connection): Convolution(\n",
       "            (conv): Conv2d(192, 128, kernel_size=(1, 1), stride=(1, 1))\n",
       "          )\n",
       "        )\n",
       "      )\n",
       "      (attentions): ModuleList(\n",
       "        (0): AttentionBlock(\n",
       "          (norm): GroupNorm(32, 128, eps=1e-06, affine=True)\n",
       "          (query): Linear(in_features=128, out_features=128, bias=True)\n",
       "          (key): Linear(in_features=128, out_features=128, bias=True)\n",
       "          (value): Linear(in_features=128, out_features=128, bias=True)\n",
       "          (proj_attn): Linear(in_features=128, out_features=128, bias=True)\n",
       "        )\n",
       "        (1): AttentionBlock(\n",
       "          (norm): GroupNorm(32, 128, eps=1e-06, affine=True)\n",
       "          (query): Linear(in_features=128, out_features=128, bias=True)\n",
       "          (key): Linear(in_features=128, out_features=128, bias=True)\n",
       "          (value): Linear(in_features=128, out_features=128, bias=True)\n",
       "          (proj_attn): Linear(in_features=128, out_features=128, bias=True)\n",
       "        )\n",
       "      )\n",
       "      (upsampler): Upsample(\n",
       "        (conv): Convolution(\n",
       "          (conv): Conv2d(128, 128, kernel_size=(3, 3), stride=(1, 1), padding=(1, 1))\n",
       "        )\n",
       "      )\n",
       "    )\n",
       "    (1): AttnUpBlock(\n",
       "      (resnets): ModuleList(\n",
       "        (0): ResnetBlock(\n",
       "          (norm1): GroupNorm(32, 192, eps=1e-06, affine=True)\n",
       "          (nonlinearity): SiLU()\n",
       "          (conv1): Convolution(\n",
       "            (conv): Conv2d(192, 64, kernel_size=(3, 3), stride=(1, 1), padding=(1, 1))\n",
       "          )\n",
       "          (time_emb_proj): Linear(in_features=128, out_features=64, bias=True)\n",
       "          (norm2): GroupNorm(32, 64, eps=1e-06, affine=True)\n",
       "          (conv2): Convolution(\n",
       "            (conv): Conv2d(64, 64, kernel_size=(3, 3), stride=(1, 1), padding=(1, 1))\n",
       "          )\n",
       "          (skip_connection): Convolution(\n",
       "            (conv): Conv2d(192, 64, kernel_size=(1, 1), stride=(1, 1))\n",
       "          )\n",
       "        )\n",
       "        (1): ResnetBlock(\n",
       "          (norm1): GroupNorm(32, 96, eps=1e-06, affine=True)\n",
       "          (nonlinearity): SiLU()\n",
       "          (conv1): Convolution(\n",
       "            (conv): Conv2d(96, 64, kernel_size=(3, 3), stride=(1, 1), padding=(1, 1))\n",
       "          )\n",
       "          (time_emb_proj): Linear(in_features=128, out_features=64, bias=True)\n",
       "          (norm2): GroupNorm(32, 64, eps=1e-06, affine=True)\n",
       "          (conv2): Convolution(\n",
       "            (conv): Conv2d(64, 64, kernel_size=(3, 3), stride=(1, 1), padding=(1, 1))\n",
       "          )\n",
       "          (skip_connection): Convolution(\n",
       "            (conv): Conv2d(96, 64, kernel_size=(1, 1), stride=(1, 1))\n",
       "          )\n",
       "        )\n",
       "      )\n",
       "      (attentions): ModuleList(\n",
       "        (0): AttentionBlock(\n",
       "          (norm): GroupNorm(32, 64, eps=1e-06, affine=True)\n",
       "          (query): Linear(in_features=64, out_features=64, bias=True)\n",
       "          (key): Linear(in_features=64, out_features=64, bias=True)\n",
       "          (value): Linear(in_features=64, out_features=64, bias=True)\n",
       "          (proj_attn): Linear(in_features=64, out_features=64, bias=True)\n",
       "        )\n",
       "        (1): AttentionBlock(\n",
       "          (norm): GroupNorm(32, 64, eps=1e-06, affine=True)\n",
       "          (query): Linear(in_features=64, out_features=64, bias=True)\n",
       "          (key): Linear(in_features=64, out_features=64, bias=True)\n",
       "          (value): Linear(in_features=64, out_features=64, bias=True)\n",
       "          (proj_attn): Linear(in_features=64, out_features=64, bias=True)\n",
       "        )\n",
       "      )\n",
       "      (upsampler): Upsample(\n",
       "        (conv): Convolution(\n",
       "          (conv): Conv2d(64, 64, kernel_size=(3, 3), stride=(1, 1), padding=(1, 1))\n",
       "        )\n",
       "      )\n",
       "    )\n",
       "    (2): UpBlock(\n",
       "      (resnets): ModuleList(\n",
       "        (0): ResnetBlock(\n",
       "          (norm1): GroupNorm(32, 96, eps=1e-06, affine=True)\n",
       "          (nonlinearity): SiLU()\n",
       "          (conv1): Convolution(\n",
       "            (conv): Conv2d(96, 32, kernel_size=(3, 3), stride=(1, 1), padding=(1, 1))\n",
       "          )\n",
       "          (time_emb_proj): Linear(in_features=128, out_features=32, bias=True)\n",
       "          (norm2): GroupNorm(32, 32, eps=1e-06, affine=True)\n",
       "          (conv2): Convolution(\n",
       "            (conv): Conv2d(32, 32, kernel_size=(3, 3), stride=(1, 1), padding=(1, 1))\n",
       "          )\n",
       "          (skip_connection): Convolution(\n",
       "            (conv): Conv2d(96, 32, kernel_size=(1, 1), stride=(1, 1))\n",
       "          )\n",
       "        )\n",
       "        (1): ResnetBlock(\n",
       "          (norm1): GroupNorm(32, 64, eps=1e-06, affine=True)\n",
       "          (nonlinearity): SiLU()\n",
       "          (conv1): Convolution(\n",
       "            (conv): Conv2d(64, 32, kernel_size=(3, 3), stride=(1, 1), padding=(1, 1))\n",
       "          )\n",
       "          (time_emb_proj): Linear(in_features=128, out_features=32, bias=True)\n",
       "          (norm2): GroupNorm(32, 32, eps=1e-06, affine=True)\n",
       "          (conv2): Convolution(\n",
       "            (conv): Conv2d(32, 32, kernel_size=(3, 3), stride=(1, 1), padding=(1, 1))\n",
       "          )\n",
       "          (skip_connection): Convolution(\n",
       "            (conv): Conv2d(64, 32, kernel_size=(1, 1), stride=(1, 1))\n",
       "          )\n",
       "        )\n",
       "      )\n",
       "    )\n",
       "  )\n",
       "  (out): Sequential(\n",
       "    (0): Linear(in_features=8192, out_features=512, bias=True)\n",
       "    (1): ReLU()\n",
       "    (2): Dropout(p=0.2, inplace=False)\n",
       "    (3): Linear(in_features=512, out_features=2, bias=True)\n",
       "  )\n",
       ")"
      ]
     },
     "execution_count": 36,
     "metadata": {},
     "output_type": "execute_result"
    }
   ],
   "source": [
    "\n",
    "\n",
    "inputimg = total_val_slices[100][0,...]  # Pick an input slice to be transformed\n",
    "inputlabel= total_val_labels[100]        # Check whether it is healthy or diseased\n",
    "\n",
    "plt.figure(\"input\"+str(inputlabel))\n",
    "plt.imshow(inputimg, vmin=0, vmax=1, cmap=\"gray\")\n",
    "plt.axis(\"off\")\n",
    "plt.tight_layout()\n",
    "plt.show()\n",
    "\n",
    "model.eval()\n",
    "classifier.eval()"
   ]
  },
  {
   "cell_type": "markdown",
   "id": "0cd48c2d",
   "metadata": {},
   "source": [
    "### Encoding the input image in noise with the reversed DDIM sampling scheme\n",
    "In order to sample using gradient guidance, we first need to encode the input image in noise by using the reversed DDIM sampling scheme.\n",
    "We define the number of steps in the noising and denoising process by L.\n"
   ]
  },
  {
   "cell_type": "code",
   "execution_count": 37,
   "id": "f71e4924",
   "metadata": {
    "collapsed": false,
    "jupyter": {
     "outputs_hidden": false
    },
    "lines_to_next_cell": 2
   },
   "outputs": [
    {
     "name": "stderr",
     "output_type": "stream",
     "text": [
      "100%|█████████████████████████████████████████| 100/100 [00:01<00:00, 51.06it/s]\n"
     ]
    },
    {
     "data": {
      "image/png": "[encoded data removed]",
      "text/plain": [
       "<Figure size 640x480 with 1 Axes>"
      ]
     },
     "metadata": {},
     "output_type": "display_data"
    }
   ],
   "source": [
    "L=100\n",
    "current_img = inputimg[None,None,...].to(device)\n",
    "scheduler.set_timesteps(num_inference_steps=1000)\n",
    "\n",
    "\n",
    "progress_bar = tqdm(range(L))   #go back and forth L timesteps\n",
    "for t in progress_bar:  #go through the noising process\n",
    "\n",
    "    with autocast(enabled=False):\n",
    "        with torch.no_grad():\n",
    "            model_output = model(current_img, timesteps=torch.Tensor((t,)).to(current_img.device))\n",
    "    current_img, _ = scheduler.reversed_step(model_output, t, current_img)\n",
    "\n",
    "plt.style.use(\"default\")\n",
    "plt.imshow(current_img[0, 0].cpu(), vmin=0, vmax=1, cmap=\"gray\")\n",
    "plt.tight_layout()\n",
    "plt.axis(\"off\")\n",
    "plt.show()\n"
   ]
  },
  {
   "cell_type": "markdown",
   "id": "a7c8346a-6296-4800-b978-c10fcdf09779",
   "metadata": {},
   "source": [
    "### Denoising Process using gradient guidance\n",
    "From the noisy image, we apply DDIM sampling scheme for denoising for L steps.\n",
    "Additionally, we apply gradient guidance using the classifier network towards the desired class label y=0 (healthy). The scale s is used to amplify the gradient."
   ]
  },
  {
   "cell_type": "code",
   "execution_count": 38,
   "id": "7ab274bd-ea60-4674-b59b-d41de98fee5b",
   "metadata": {
    "lines_to_next_cell": 0
   },
   "outputs": [
    {
     "name": "stderr",
     "output_type": "stream",
     "text": [
      "100%|█████████████████████████████████████████| 100/100 [00:06<00:00, 14.41it/s]\n"
     ]
    },
    {
     "data": {
      "image/png": "[encoded data removed]",
      "text/plain": [
       "<Figure size 640x480 with 1 Axes>"
      ]
     },
     "metadata": {},
     "output_type": "display_data"
    }
   ],
   "source": [
    "\n",
    "\n",
    "y=torch.tensor(0)  #define the desired class label\n",
    "scale=10            #define the desired gradient scale s\n",
    "progress_bar = tqdm(range(L))   #go back and forth L timesteps\n",
    "\n",
    "for i in progress_bar:  #go through the denoising process\n",
    "\n",
    "    t=L-i\n",
    "    with autocast(enabled=True):\n",
    "        model_output = model(current_img, timesteps=torch.Tensor((t,)).to(current_img.device)) # this is supposed to be epsilon\n",
    "\n",
    "        with torch.enable_grad():\n",
    "            x_in = current_img.detach().requires_grad_(True)\n",
    "            logits = classifier(x_in, timesteps=torch.Tensor((t,)).to(current_img.device))\n",
    "            log_probs = F.log_softmax(logits, dim=-1)\n",
    "            selected = log_probs[range(len(logits)), y.view(-1)]\n",
    "            a = torch.autograd.grad(selected.sum(), x_in)[0]\n",
    "            alpha_prod_t = scheduler.alphas_cumprod[t]\n",
    "            updated_noise = model_output- (1 - alpha_prod_t).sqrt() * scale*a  #update the predicted noise epsilon with the gradient of the classifier\n",
    "\n",
    "    current_img, _ = scheduler.step(updated_noise, t, current_img)\n",
    "    torch.cuda.empty_cache()\n",
    "\n",
    "plt.style.use(\"default\")\n",
    "plt.imshow(current_img[0, 0].cpu().detach().numpy(), vmin=0, vmax=1, cmap=\"gray\")\n",
    "plt.tight_layout()\n",
    "plt.axis(\"off\")\n",
    "plt.show()\n",
    "\n"
   ]
  },
  {
   "cell_type": "markdown",
   "id": "d2e343f8-c6f3-4071-a5e6-771e2343c3bc",
   "metadata": {},
   "source": [
    "### Anomaly Detection\n",
    "To get the anomaly map, we compute the difference between the input image the output of our image-to-image translation model, which is the healthy reconstruction."
   ]
  },
  {
   "cell_type": "code",
   "execution_count": 39,
   "id": "ecffaaf3-a7df-453e-81a9-757113d85084",
   "metadata": {},
   "outputs": [
    {
     "data": {
      "image/png": "[encoded data removed]",
      "text/plain": [
       "<Figure size 640x480 with 1 Axes>"
      ]
     },
     "metadata": {},
     "output_type": "display_data"
    }
   ],
   "source": [
    "\n",
    "diff=inputimg.cpu()-current_img[0, 0].cpu().detach().numpy()\n",
    "plt.style.use(\"default\")\n",
    "plt.imshow(diff, cmap=\"jet\")\n",
    "plt.tight_layout()\n",
    "plt.axis(\"off\")\n",
    "plt.show()"
   ]
  }
 ],
 "metadata": {
  "jupytext": {
   "formats": "py:percent,ipynb"
  },
  "kernelspec": {
   "display_name": "Python 3 (ipykernel)",
   "language": "python",
   "name": "python3"
  },
  "language_info": {
   "codemirror_mode": {
    "name": "ipython",
    "version": 3
   },
   "file_extension": ".py",
   "mimetype": "text/x-python",
   "name": "python",
   "nbconvert_exporter": "python",
   "pygments_lexer": "ipython3",
   "version": "3.10.5"
  }
 },
 "nbformat": 4,
 "nbformat_minor": 5
}
