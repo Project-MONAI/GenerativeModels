{
 "cells": [
  {
   "cell_type": "code",
   "execution_count": null,
   "id": "cf6673e1",
   "metadata": {},
   "outputs": [],
   "source": [
    "\n",
    "# # Diff-SCM\n",
    "# \n",
    "# This tutorial illustrates how to load the 2D BRATS dataset.\n",
    "# \n",
    "# \n",
    "# ## Setup environment"
   ]
  },
  {
   "cell_type": "code",
   "execution_count": 16,
   "id": "2dc388db",
   "metadata": {},
   "outputs": [
    {
     "name": "stdout",
     "output_type": "stream",
     "text": [
      "done\n"
     ]
    }
   ],
   "source": [
    "\n",
    "\n",
    "get_ipython().system('python -c \"import monai\" || pip install -q \"monai-weekly[pillow, tqdm, einops]\"')\n",
    "get_ipython().system('python -c \"import matplotlib\" || pip install -q matplotlib')\n",
    "get_ipython().run_line_magic('matplotlib', 'inline')\n",
    "print('done')\n",
    "\n",
    "\n",
    "# ## Setup imports"
   ]
  },
  {
   "cell_type": "code",
   "execution_count": 17,
   "id": "4167c04e",
   "metadata": {},
   "outputs": [
    {
     "name": "stdout",
     "output_type": "stream",
     "text": [
      "MONAI version: 1.1.dev2248\n",
      "Numpy version: 1.23.2\n",
      "Pytorch version: 1.12.1\n",
      "MONAI flags: HAS_EXT = False, USE_COMPILED = False, USE_META_DICT = False\n",
      "MONAI rev id: 3400bd91422ccba9ccc3aa2ffe7fecd4eb5596bf\n",
      "MONAI __file__: /home/juliawolleb/anaconda3/envs/experiment/lib/python3.10/site-packages/monai/__init__.py\n",
      "\n",
      "Optional dependencies:\n",
      "Pytorch Ignite version: NOT INSTALLED or UNKNOWN VERSION.\n",
      "Nibabel version: 4.0.1\n",
      "scikit-image version: 0.19.3\n",
      "Pillow version: 9.2.0\n",
      "Tensorboard version: NOT INSTALLED or UNKNOWN VERSION.\n",
      "gdown version: NOT INSTALLED or UNKNOWN VERSION.\n",
      "TorchVision version: 0.13.1\n",
      "tqdm version: 4.64.1\n",
      "lmdb version: NOT INSTALLED or UNKNOWN VERSION.\n",
      "psutil version: 5.9.4\n",
      "pandas version: NOT INSTALLED or UNKNOWN VERSION.\n",
      "einops version: 0.6.0\n",
      "transformers version: NOT INSTALLED or UNKNOWN VERSION.\n",
      "mlflow version: NOT INSTALLED or UNKNOWN VERSION.\n",
      "pynrrd version: NOT INSTALLED or UNKNOWN VERSION.\n",
      "\n",
      "For details about installing the optional dependencies, please visit:\n",
      "    https://docs.monai.io/en/latest/installation.html#installing-the-recommended-dependencies\n",
      "\n"
     ]
    }
   ],
   "source": [
    "\n",
    "\n",
    "# Copyright 2020 MONAI Consortium\n",
    "# Licensed under the Apache License, Version 2.0 (the \"License\");\n",
    "# you may not use this file except in compliance with the License.\n",
    "# You may obtain a copy of the License at\n",
    "#     http://www.apache.org/licenses/LICENSE-2.0\n",
    "# Unless required by applicable law or agreed to in writing, software\n",
    "# distributed under the License is distributed on an \"AS IS\" BASIS,\n",
    "# WITHOUT WARRANTIES OR CONDITIONS OF ANY KIND, either express or implied.\n",
    "# See the License for the specific language governing permissions and\n",
    "# limitations under the License.\n",
    "import os\n",
    "import shutil\n",
    "import tempfile\n",
    "import time\n",
    "\n",
    "import matplotlib.pyplot as plt\n",
    "import numpy as np\n",
    "import torch\n",
    "import torch.nn.functional as F\n",
    "from monai import transforms\n",
    "from monai.apps import DecathlonDataset\n",
    "from monai.config import print_config\n",
    "from monai.data import CacheDataset, DataLoader\n",
    "from monai.utils import first, set_determinism\n",
    "from torch.cuda.amp import GradScaler, autocast\n",
    "from tqdm import tqdm\n",
    "\n",
    "from generative.inferers import DiffusionInferer\n",
    "\n",
    "# TODO: Add right import reference after deployed\n",
    "from generative.networks.nets import DiffusionModelUNet\n",
    "from generative.networks.schedulers import DDPMScheduler\n",
    "\n",
    "print_config()\n",
    "\n",
    "\n",
    "# ## Setup data directory"
   ]
  },
  {
   "cell_type": "code",
   "execution_count": 23,
   "id": "86b390cd",
   "metadata": {},
   "outputs": [
    {
     "name": "stdout",
     "output_type": "stream",
     "text": [
      "/tmp/tmpf7ygl4zq\n"
     ]
    }
   ],
   "source": [
    "\n",
    "\n",
    "directory = os.environ.get(\"MONAI_DATA_DIRECTORY\")\n",
    "root_dir = tempfile.mkdtemp() if directory is None else directory\n",
    "print(root_dir)\n",
    "root_dir= '/tmp/tmp6o69ziv1'\n",
    "\n",
    "\n",
    "# ## Set deterministic training for reproducibility"
   ]
  },
  {
   "cell_type": "code",
   "execution_count": 24,
   "id": "6d644892",
   "metadata": {},
   "outputs": [],
   "source": [
    "\n",
    "\n",
    "set_determinism(42)\n",
    "\n",
    "\n",
    "# ## Setup MedNIST Dataset and training and validation dataloaders\n",
    "# In this tutorial, we will train our models on the MedNIST dataset available on MONAI\n",
    "# (https://docs.monai.io/en/stable/apps.html#monai.apps.MedNISTDataset).\n",
    "# Here, we will use the \"Hand\" and \"HeadCT\", where our conditioning variable `class` will specify the modality."
   ]
  },
  {
   "cell_type": "code",
   "execution_count": 25,
   "id": "5c29c6a2",
   "metadata": {
    "lines_to_next_cell": 2
   },
   "outputs": [
    {
     "name": "stdout",
     "output_type": "stream",
     "text": [
      "2023-01-20 09:47:29,125 - INFO - Verified 'Task01_BrainTumour.tar', md5: 240a19d752f0d9e9101544901065d872.\n",
      "2023-01-20 09:47:29,126 - INFO - File exists: /tmp/tmp6o69ziv1/Task01_BrainTumour.tar, skipped downloading.\n",
      "2023-01-20 09:47:29,127 - INFO - Non-empty folder exists in /tmp/tmp6o69ziv1/Task01_BrainTumour, skipped extracting.\n",
      "Image shape torch.Size([1, 64, 64, 64])\n"
     ]
    }
   ],
   "source": [
    "\n",
    "\n",
    "batch_size = 2\n",
    "channel = 0  # 0 = Flair\n",
    "assert channel in [0, 1, 2, 3], \"Choose a valid channel\"\n",
    "\n",
    "train_transforms = transforms.Compose(\n",
    "    [\n",
    "        transforms.LoadImaged(keys=[\"image\",\"label\"]),\n",
    "        transforms.EnsureChannelFirstd(keys=[\"image\",\"label\"]),\n",
    "        transforms.Lambdad(keys=[\"image\"], func=lambda x: x[channel, :, :, :]),\n",
    "        transforms.AddChanneld(keys=[\"image\"]),\n",
    "        transforms.EnsureTyped(keys=[\"image\",\"label\"]),\n",
    "        transforms.Orientationd(keys=[\"image\",\"label\"], axcodes=\"RAS\"),\n",
    "        transforms.Spacingd(\n",
    "            keys=[\"image\",\"label\"],\n",
    "            pixdim=(3.0, 3.0, 2.0),\n",
    "            mode=(\"bilinear\", \"nearest\"),\n",
    "        ),\n",
    "        transforms.CenterSpatialCropd(keys=[\"image\",\"label\"], roi_size=(64, 64, 64)),\n",
    "        transforms.ScaleIntensityRangePercentilesd(keys=\"image\", lower=0, upper=99.5, b_min=0, b_max=1),\n",
    "        transforms.CopyItemsd(keys=[\"label\"], times=1, names=[\"slice_label\"]),\n",
    "        transforms.Lambdad(keys=[\"slice_label\"], func=lambda x: (x.reshape(x.shape[0], -1, x.shape[-1]).sum(1) > 0 ).float().squeeze()),\n",
    "    ]\n",
    ")\n",
    "train_ds = DecathlonDataset(\n",
    "    root_dir=root_dir,\n",
    "    task=\"Task01_BrainTumour\",\n",
    "    section=\"training\",  # validation\n",
    "    cache_rate=0.0,  # you may need a few Gb of RAM... Set to 0 otherwise\n",
    "    num_workers=4,\n",
    "    download=True,  # Set download to True if the dataset hasnt been downloaded yet\n",
    "    seed=0,\n",
    "    transform=train_transforms,\n",
    ")\n",
    "nb_3D_images_to_mix = 2\n",
    "train_loader_3D = DataLoader(train_ds, batch_size=nb_3D_images_to_mix, shuffle=True, num_workers=4)\n",
    "print(f'Image shape {train_ds[0][\"image\"].shape}')"
   ]
  },
  {
   "cell_type": "code",
   "execution_count": 26,
   "id": "16e750a6",
   "metadata": {},
   "outputs": [],
   "source": [
    "\n",
    "\n",
    "from typing import Dict\n",
    "def get_batched_2d_axial_slices(data : Dict):\n",
    "    images_3D = data['image']\n",
    "    batched_2d_slices = torch.cat(images_3D.split(1, dim = -1), 0).squeeze(-1) # images_3D.view(images_3D.shape[0]*images_3D.shape[-1],*images_3D.shape[1:-1])\n",
    "    slice_label = data['slice_label']\n",
    "    #slice_label = (mask_label.reshape(mask_label.shape[0], -1, mask_label.shape[-1]).sum(1) > 0 ).float()\n",
    "    slice_label = torch.cat(slice_label.split(1, dim = -1),0).squeeze()\n",
    "    return batched_2d_slices, slice_label\n",
    "\n",
    "\n",
    "# ### Visualisation of the training images"
   ]
  },
  {
   "cell_type": "code",
   "execution_count": 37,
   "id": "310b925c",
   "metadata": {
    "lines_to_next_cell": 2
   },
   "outputs": [
    {
     "name": "stdout",
     "output_type": "stream",
     "text": [
      "check_data torch.Size([2, 1, 64, 64, 64]) torch.Size([2, 64])\n"
     ]
    }
   ],
   "source": [
    "\n",
    "\n",
    "check_data = first(train_loader_3D)\n",
    "print('check_data', check_data[\"image\"].shape, check_data[\"slice_label\"].shape)"
   ]
  },
  {
   "cell_type": "code",
   "execution_count": 38,
   "id": "4105a01f",
   "metadata": {
    "lines_to_next_cell": 2
   },
   "outputs": [
    {
     "name": "stdout",
     "output_type": "stream",
     "text": [
      "idx [tensor(125), tensor(70), tensor(71), tensor(10), tensor(112), tensor(72), tensor(100), tensor(108), tensor(48), tensor(90), tensor(5), tensor(83), tensor(53), tensor(38), tensor(121), tensor(115), tensor(116), tensor(75), tensor(34), tensor(2), tensor(118), tensor(46), tensor(57), tensor(64), tensor(107), tensor(126), tensor(109), tensor(98), tensor(15), tensor(13), tensor(113), tensor(93), tensor(106), tensor(73), tensor(4), tensor(102), tensor(21), tensor(96), tensor(30), tensor(18), tensor(91), tensor(16), tensor(77), tensor(49), tensor(50), tensor(123), tensor(28), tensor(42), tensor(23), tensor(6), tensor(12), tensor(65), tensor(31), tensor(41), tensor(3), tensor(101), tensor(67), tensor(54), tensor(62), tensor(120), tensor(94), tensor(80), tensor(35), tensor(9), tensor(82), tensor(84), tensor(14), tensor(32), tensor(127), tensor(59), tensor(25), tensor(63), tensor(87), tensor(92), tensor(40), tensor(97), tensor(51), tensor(7), tensor(105), tensor(19), tensor(88), tensor(36), tensor(20), tensor(110), tensor(29), tensor(111), tensor(60), tensor(44), tensor(45), tensor(52), tensor(68), tensor(124), tensor(37), tensor(117), tensor(85), tensor(17), tensor(95), tensor(55), tensor(0), tensor(56), tensor(86), tensor(58), tensor(47), tensor(89), tensor(122), tensor(22), tensor(78), tensor(79), tensor(11), tensor(61), tensor(119), tensor(27), tensor(114), tensor(103), tensor(43), tensor(99), tensor(24), tensor(8), tensor(81), tensor(33), tensor(104), tensor(26), tensor(66), tensor(39), tensor(69), tensor(76), tensor(74), tensor(1)] 128\n",
      "Batch shape: torch.Size([128, 1, 64, 64])\n",
      "Slices class: tensor([0., 1., 0., 0.])\n"
     ]
    },
    {
     "data": {
      "image/png": "[encoded data removed]",
      "text/plain": [
       "<Figure size 1200x600 with 1 Axes>"
      ]
     },
     "metadata": {},
     "output_type": "display_data"
    }
   ],
   "source": [
    "\n",
    "\n",
    "batched_2d_slices, slice_label = get_batched_2d_axial_slices(check_data)\n",
    "idx = list(torch.randperm(batched_2d_slices.shape[0]))\n",
    "print('idx', idx, len(idx))\n",
    "slices = [0,30,45,63]\n",
    "print(f\"Batch shape: {batched_2d_slices.shape}\")\n",
    "print(f\"Slices class: {slice_label[idx][slices].view(-1)}\")\n",
    "image_visualisation = torch.cat(batched_2d_slices[idx][slices].squeeze().split(1), dim=2).squeeze()\n",
    "plt.figure(\"training images\", (12, 6))\n",
    "plt.imshow(image_visualisation, vmin=0, vmax=1, cmap=\"gray\")\n",
    "plt.axis(\"off\")\n",
    "plt.tight_layout()\n",
    "plt.show()"
   ]
  },
  {
   "cell_type": "code",
   "execution_count": 39,
   "id": "21e0c944",
   "metadata": {},
   "outputs": [
    {
     "data": {
      "text/plain": [
       "torch.Size([128])"
      ]
     },
     "execution_count": 39,
     "metadata": {},
     "output_type": "execute_result"
    }
   ],
   "source": [
    "\n",
    "\n",
    "slice_label.shape\n",
    "\n",
    "\n",
    "# ## Check Distribution of Healthy / Unhealthy"
   ]
  },
  {
   "cell_type": "code",
   "execution_count": 40,
   "id": "1114650d",
   "metadata": {
    "lines_to_next_cell": 2
   },
   "outputs": [
    {
     "data": {
      "text/plain": [
       "(torch.Size([2, 1, 64, 64]), torch.Size([2]))"
      ]
     },
     "execution_count": 40,
     "metadata": {},
     "output_type": "execute_result"
    }
   ],
   "source": [
    "\n",
    "subset_2D = zip(batched_2d_slices.split(batch_size),slice_label.split(batch_size))#\n",
    "a,b = next(subset_2D)  #what is a, what is b?\n",
    "a.shape, b.shape"
   ]
  },
  {
   "cell_type": "code",
   "execution_count": 41,
   "id": "5633a8c8",
   "metadata": {
    "lines_to_next_cell": 2
   },
   "outputs": [
    {
     "data": {
      "image/png": "[encoded data removed]",
      "text/plain": [
       "<Figure size 640x480 with 1 Axes>"
      ]
     },
     "metadata": {},
     "output_type": "display_data"
    }
   ],
   "source": [
    "\n",
    "\n",
    "plt.hist(slice_label.view(-1).numpy(),bins = 5);\n",
    "plt.title(\"Distribution of slices with and without tumour \\n 0 = no tumour, 1 = tumour\");"
   ]
  },
  {
   "cell_type": "code",
   "execution_count": null,
   "id": "97cbfc78-54b5-4a98-b0b3-60e3a71fd25e",
   "metadata": {},
   "outputs": [],
   "source": []
  }
 ],
 "metadata": {
  "jupytext": {
   "formats": "py:percent,ipynb"
  },
  "kernelspec": {
   "display_name": "Python 3 (ipykernel)",
   "language": "python",
   "name": "python3"
  },
  "language_info": {
   "codemirror_mode": {
    "name": "ipython",
    "version": 3
   },
   "file_extension": ".py",
   "mimetype": "text/x-python",
   "name": "python",
   "nbconvert_exporter": "python",
   "pygments_lexer": "ipython3",
   "version": "3.10.5"
  },
  "vscode": {
   "interpreter": {
    "hash": "a7e6f8385898884a13cbe220eefefb32cba5012927a94186742ddc14746e4dba"
   }
  }
 },
 "nbformat": 4,
 "nbformat_minor": 5
}
