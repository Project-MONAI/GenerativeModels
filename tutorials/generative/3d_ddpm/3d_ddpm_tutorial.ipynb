{
 "cells": [
  {
   "cell_type": "markdown",
   "id": "6286986e",
   "metadata": {},
   "source": [
    "# Denoising Diffusion Probabilistic Model on 3D data\n",
    "\n",
    "This tutorial illustrates how to use MONAI for training a denoising diffusion probabilistic model (DDPM)[1] to create synthetic 3D images.\n",
    "\n",
    "[1] - [Ho et al. \"Denoising Diffusion Probabilistic Models\"](https://arxiv.org/abs/2006.11239)\n",
    "\n",
    "TODO: Add Open in Colab\n",
    "\n",
    "## Setup environment"
   ]
  },
  {
   "cell_type": "code",
   "execution_count": 1,
   "id": "f96b6f31",
   "metadata": {},
   "outputs": [],
   "source": [
    "!python -c \"import matplotlib\" || pip install -q matplotlib\n",
    "%matplotlib inline"
   ]
  },
  {
   "cell_type": "markdown",
   "id": "cbc01d24",
   "metadata": {},
   "source": [
    "## Setup imports"
   ]
  },
  {
   "cell_type": "code",
   "execution_count": 2,
   "id": "cdea37d5",
   "metadata": {},
   "outputs": [
    {
     "name": "stderr",
     "output_type": "stream",
     "text": [
      "/media/walter/Storage/Projects/GenerativeModels/venv/lib/python3.10/site-packages/tqdm/auto.py:22: TqdmWarning: IProgress not found. Please update jupyter and ipywidgets. See https://ipywidgets.readthedocs.io/en/stable/user_install.html\n",
      "  from .autonotebook import tqdm as notebook_tqdm\n"
     ]
    },
    {
     "name": "stdout",
     "output_type": "stream",
     "text": [
      "MONAI version: 1.2.dev2304\n",
      "Numpy version: 1.23.5\n",
      "Pytorch version: 1.13.1+cu117\n",
      "MONAI flags: HAS_EXT = False, USE_COMPILED = False, USE_META_DICT = False\n",
      "MONAI rev id: 9a57be5aab9f2c2a134768c0c146399150e247a0\n",
      "MONAI __file__: /media/walter/Storage/Projects/GenerativeModels/venv/lib/python3.10/site-packages/monai/__init__.py\n",
      "\n",
      "Optional dependencies:\n",
      "Pytorch Ignite version: 0.4.10\n",
      "ITK version: 5.3.0\n",
      "Nibabel version: 4.0.2\n",
      "scikit-image version: 0.19.3\n",
      "Pillow version: 9.3.0\n",
      "Tensorboard version: 2.11.0\n",
      "gdown version: 4.6.0\n",
      "TorchVision version: 0.14.1+cu117\n",
      "tqdm version: 4.64.1\n",
      "lmdb version: 1.4.0\n",
      "psutil version: 5.9.4\n",
      "pandas version: 1.5.3\n",
      "einops version: 0.6.0\n",
      "transformers version: 4.21.3\n",
      "mlflow version: 2.1.1\n",
      "pynrrd version: 1.0.0\n",
      "\n",
      "For details about installing the optional dependencies, please visit:\n",
      "    https://docs.monai.io/en/latest/installation.html#installing-the-recommended-dependencies\n",
      "\n"
     ]
    }
   ],
   "source": [
    "# Copyright 2020 MONAI Consortium\n",
    "# Licensed under the Apache License, Version 2.0 (the \"License\");\n",
    "# you may not use this file except in compliance with the License.\n",
    "# You may obtain a copy of the License at\n",
    "#     http://www.apache.org/licenses/LICENSE-2.0\n",
    "# Unless required by applicable law or agreed to in writing, software\n",
    "# distributed under the License is distributed on an \"AS IS\" BASIS,\n",
    "# WITHOUT WARRANTIES OR CONDITIONS OF ANY KIND, either express or implied.\n",
    "# See the License for the specific language governing permissions and\n",
    "# limitations under the License.\n",
    "\n",
    "import os\n",
    "import tempfile\n",
    "import time\n",
    "\n",
    "import matplotlib.pyplot as plt\n",
    "import numpy as np\n",
    "import torch\n",
    "import torch.nn.functional as F\n",
    "from monai.apps import DecathlonDataset\n",
    "from monai.config import print_config\n",
    "from monai.data import DataLoader\n",
    "from monai.transforms import AddChanneld, CenterSpatialCropd, Compose, Lambdad, LoadImaged, Resized, ScaleIntensityd\n",
    "from monai.utils import set_determinism\n",
    "from torch.cuda.amp import GradScaler, autocast\n",
    "from tqdm import tqdm\n",
    "\n",
    "from generative.inferers import DiffusionInferer\n",
    "\n",
    "# TODO: Add right import reference after deployed\n",
    "from generative.networks.nets import DiffusionModelUNet\n",
    "from generative.networks.schedulers import DDPMScheduler\n",
    "\n",
    "print_config()"
   ]
  },
  {
   "cell_type": "markdown",
   "id": "50e37a43",
   "metadata": {},
   "source": [
    "## Setup data directory\n",
    "\n",
    "You can specify a directory with the MONAI_DATA_DIRECTORY environment variable.\n",
    "\n",
    "This allows you to save results and reuse downloads.\n",
    "\n",
    "If not specified a temporary directory will be used."
   ]
  },
  {
   "cell_type": "code",
   "execution_count": 3,
   "id": "c38b4c33",
   "metadata": {},
   "outputs": [
    {
     "name": "stdout",
     "output_type": "stream",
     "text": [
      "/tmp/tmpk32kv7za\n"
     ]
    }
   ],
   "source": [
    "directory = os.environ.get(\"MONAI_DATA_DIRECTORY\")\n",
    "root_dir = \"/tmp/tmpk32kv7za\"\n",
    "# root_dir = tempfile.mkdtemp() if directory is None else directory\n",
    "print(root_dir)"
   ]
  },
  {
   "cell_type": "markdown",
   "id": "41af1391",
   "metadata": {},
   "source": [
    "## Set deterministic training for reproducibility"
   ]
  },
  {
   "cell_type": "code",
   "execution_count": 4,
   "id": "515d8583",
   "metadata": {},
   "outputs": [],
   "source": [
    "set_determinism(0)"
   ]
  },
  {
   "cell_type": "markdown",
   "id": "29d8c601",
   "metadata": {},
   "source": [
    "## Setup Decathlon Dataset and training and validation dataloaders"
   ]
  },
  {
   "cell_type": "code",
   "execution_count": 5,
   "id": "f640d7ac",
   "metadata": {},
   "outputs": [
    {
     "name": "stderr",
     "output_type": "stream",
     "text": [
      "<class 'monai.transforms.utility.array.AddChannel'>: Class `AddChannel` has been deprecated since version 0.8. please use MetaTensor data type and monai.transforms.EnsureChannelFirst instead.\n"
     ]
    }
   ],
   "source": [
    "train_transform = Compose(\n",
    "    [\n",
    "        LoadImaged(keys=[\"image\"]),\n",
    "        Lambdad(keys=\"image\", func=lambda x: x[:, :, :, 1]),\n",
    "        AddChanneld(keys=[\"image\"]),\n",
    "        ScaleIntensityd(keys=[\"image\"]),\n",
    "        CenterSpatialCropd(keys=[\"image\"], roi_size=[176, 224, 155]),\n",
    "        Resized(keys=[\"image\"], spatial_size=(32, 48, 32)),\n",
    "    ]\n",
    ")\n",
    "\n",
    "val_transform = Compose(\n",
    "    [\n",
    "        LoadImaged(keys=[\"image\"]),\n",
    "        Lambdad(keys=\"image\", func=lambda x: x[:, :, :, 1]),\n",
    "        AddChanneld(keys=[\"image\"]),\n",
    "        ScaleIntensityd(keys=[\"image\"]),\n",
    "        CenterSpatialCropd(keys=[\"image\"], roi_size=[176, 224, 155]),\n",
    "        Resized(keys=[\"image\"], spatial_size=(32, 48, 32)),\n",
    "    ]\n",
    ")"
   ]
  },
  {
   "cell_type": "code",
   "execution_count": 6,
   "id": "ddd61e60",
   "metadata": {
    "lines_to_next_cell": 2
   },
   "outputs": [
    {
     "name": "stdout",
     "output_type": "stream",
     "text": [
      "2023-02-26 15:37:24,411 - INFO - Verified 'Task01_BrainTumour.tar', md5: 240a19d752f0d9e9101544901065d872.\n",
      "2023-02-26 15:37:24,412 - INFO - File exists: /tmp/tmpk32kv7za/Task01_BrainTumour.tar, skipped downloading.\n",
      "2023-02-26 15:37:24,412 - INFO - Non-empty folder exists in /tmp/tmpk32kv7za/Task01_BrainTumour, skipped extracting.\n"
     ]
    },
    {
     "name": "stderr",
     "output_type": "stream",
     "text": [
      "Loading dataset: 100%|███████████████████████████████████████████████████████████████████████████████████████████████████████████████████████████████████████████████████████████████████████| 388/388 [04:04<00:00,  1.59it/s]\n"
     ]
    },
    {
     "name": "stdout",
     "output_type": "stream",
     "text": [
      "2023-02-26 15:41:37,641 - INFO - Verified 'Task01_BrainTumour.tar', md5: 240a19d752f0d9e9101544901065d872.\n",
      "2023-02-26 15:41:37,641 - INFO - File exists: /tmp/tmpk32kv7za/Task01_BrainTumour.tar, skipped downloading.\n",
      "2023-02-26 15:41:37,642 - INFO - Non-empty folder exists in /tmp/tmpk32kv7za/Task01_BrainTumour, skipped extracting.\n"
     ]
    },
    {
     "name": "stderr",
     "output_type": "stream",
     "text": [
      "Loading dataset: 100%|█████████████████████████████████████████████████████████████████████████████████████████████████████████████████████████████████████████████████████████████████████████| 96/96 [01:00<00:00,  1.58it/s]\n"
     ]
    }
   ],
   "source": [
    "train_ds = DecathlonDataset(\n",
    "    root_dir=root_dir, task=\"Task01_BrainTumour\", transform=train_transform, section=\"training\", download=True\n",
    ")\n",
    "\n",
    "train_loader = DataLoader(train_ds, batch_size=8, shuffle=True, num_workers=8)\n",
    "\n",
    "val_ds = DecathlonDataset(\n",
    "    root_dir=root_dir, task=\"Task01_BrainTumour\", transform=val_transform, section=\"validation\", download=True\n",
    ")\n",
    "\n",
    "val_loader = DataLoader(val_ds, batch_size=8, shuffle=False, num_workers=8)"
   ]
  },
  {
   "cell_type": "markdown",
   "id": "50efe5ef",
   "metadata": {},
   "source": [
    "### Visualization of the training images"
   ]
  },
  {
   "cell_type": "code",
   "execution_count": 7,
   "id": "bffb4abc",
   "metadata": {},
   "outputs": [
    {
     "data": {
      "image/png": "[encoded data removed]",
      "text/plain": [
       "<Figure size 1000x600 with 4 Axes>"
      ]
     },
     "metadata": {},
     "output_type": "display_data"
    }
   ],
   "source": [
    "plt.subplots(1, 4, figsize=(10, 6))\n",
    "for i in range(4):\n",
    "    plt.subplot(1, 4, i + 1)\n",
    "    plt.imshow(train_ds[i * 20][\"image\"][0, :, :, 15].detach().cpu(), vmin=0, vmax=1, cmap=\"gray\")\n",
    "    plt.axis(\"off\")\n",
    "plt.tight_layout()\n",
    "plt.show()"
   ]
  },
  {
   "cell_type": "markdown",
   "id": "d22296e5",
   "metadata": {},
   "source": [
    "### Define network, scheduler, optimizer, and inferer"
   ]
  },
  {
   "cell_type": "code",
   "execution_count": 8,
   "id": "d499f7b1",
   "metadata": {
    "lines_to_next_cell": 2
   },
   "outputs": [],
   "source": [
    "device = torch.device(\"cuda\")\n",
    "\n",
    "model = DiffusionModelUNet(\n",
    "    spatial_dims=3,\n",
    "    in_channels=1,\n",
    "    out_channels=1,\n",
    "    num_channels=[256, 256, 512],\n",
    "    attention_levels=[False, False, True],\n",
    "    num_head_channels=[256, 256, 512],\n",
    "    num_res_blocks=2,\n",
    ")\n",
    "model.to(device)\n",
    "\n",
    "scheduler = DDPMScheduler(num_train_timesteps=1000, beta_schedule=\"scaled_linear\", beta_start=0.0015, beta_end=0.0195)\n",
    "\n",
    "inferer = DiffusionInferer(scheduler)\n",
    "\n",
    "optimizer = torch.optim.Adam(params=model.parameters(), lr=2.5e-5)"
   ]
  },
  {
   "cell_type": "markdown",
   "id": "9f371ad8",
   "metadata": {},
   "source": [
    "### Model training"
   ]
  },
  {
   "cell_type": "code",
   "execution_count": 9,
   "id": "bd10b595",
   "metadata": {
    "lines_to_next_cell": 0
   },
   "outputs": [
    {
     "name": "stderr",
     "output_type": "stream",
     "text": [
      "Epoch 0: 100%|████████████| 49/49 [01:09<00:00,  1.42s/it, loss=0.446]\n",
      "Epoch 1: 100%|███████████| 49/49 [01:10<00:00,  1.43s/it, loss=0.0428]\n",
      "Epoch 2: 100%|███████████| 49/49 [01:09<00:00,  1.41s/it, loss=0.0101]\n",
      "Epoch 3: 100%|███████████| 49/49 [01:09<00:00,  1.42s/it, loss=0.0066]\n",
      "Epoch 4: 100%|██████████| 49/49 [01:08<00:00,  1.41s/it, loss=0.00543]\n",
      "Epoch 5: 100%|██████████| 49/49 [01:07<00:00,  1.37s/it, loss=0.00449]\n",
      "Epoch 6: 100%|██████████| 49/49 [01:07<00:00,  1.37s/it, loss=0.00646]\n",
      "Epoch 7: 100%|██████████| 49/49 [01:06<00:00,  1.37s/it, loss=0.00374]\n",
      "Epoch 8: 100%|██████████| 49/49 [01:06<00:00,  1.36s/it, loss=0.00369]\n",
      "Epoch 9: 100%|██████████| 49/49 [01:06<00:00,  1.36s/it, loss=0.00327]\n",
      "Epoch 10: 100%|██████████| 49/49 [01:06<00:00,  1.36s/it, loss=0.0031]\n",
      "Epoch 11: 100%|█████████| 49/49 [01:06<00:00,  1.36s/it, loss=0.00327]\n",
      "Epoch 12: 100%|██████████| 49/49 [01:06<00:00,  1.36s/it, loss=0.0029]\n",
      "Epoch 13: 100%|█████████| 49/49 [01:06<00:00,  1.36s/it, loss=0.00279]\n",
      "Epoch 14: 100%|█████████| 49/49 [01:06<00:00,  1.36s/it, loss=0.00308]\n",
      "Epoch 15: 100%|█████████| 49/49 [01:06<00:00,  1.36s/it, loss=0.00237]\n",
      "Epoch 16: 100%|█████████| 49/49 [01:06<00:00,  1.36s/it, loss=0.00388]\n",
      "Epoch 17: 100%|█████████| 49/49 [01:06<00:00,  1.36s/it, loss=0.00504]\n",
      "Epoch 18: 100%|█████████| 49/49 [01:07<00:00,  1.37s/it, loss=0.00314]\n",
      "Epoch 19: 100%|█████████| 49/49 [01:06<00:00,  1.36s/it, loss=0.00338]\n",
      "Epoch 20: 100%|██████████| 49/49 [01:06<00:00,  1.36s/it, loss=0.0027]\n",
      "Epoch 21: 100%|█████████| 49/49 [01:06<00:00,  1.36s/it, loss=0.00242]\n",
      "Epoch 22: 100%|█████████| 49/49 [01:06<00:00,  1.36s/it, loss=0.00218]\n",
      "Epoch 23: 100%|█████████| 49/49 [01:06<00:00,  1.36s/it, loss=0.00219]\n",
      "Epoch 24: 100%|█████████| 49/49 [01:06<00:00,  1.36s/it, loss=0.00291]\n",
      "100%|██████████████████████████████████████████████████████████████████████████████████████████████████████████████████████████████████████████████████████████████████████████████████████| 1000/1000 [01:12<00:00, 13.82it/s]\n"
     ]
    },
    {
     "data": {
      "image/png": "[encoded data removed]",
      "text/plain": [
       "<Figure size 200x200 with 1 Axes>"
      ]
     },
     "metadata": {},
     "output_type": "display_data"
    },
    {
     "name": "stderr",
     "output_type": "stream",
     "text": [
      "Epoch 25: 100%|███████████| 49/49 [01:06<00:00,  1.36s/it, loss=0.002]\n",
      "Epoch 26: 100%|█████████| 49/49 [01:06<00:00,  1.36s/it, loss=0.00265]\n",
      "Epoch 27: 100%|█████████| 49/49 [01:06<00:00,  1.36s/it, loss=0.00256]\n",
      "Epoch 28: 100%|█████████| 49/49 [01:06<00:00,  1.36s/it, loss=0.00223]\n",
      "Epoch 29: 100%|█████████| 49/49 [01:06<00:00,  1.36s/it, loss=0.00263]\n",
      "Epoch 30: 100%|█████████| 49/49 [01:06<00:00,  1.36s/it, loss=0.00259]\n",
      "Epoch 31: 100%|█████████| 49/49 [01:06<00:00,  1.36s/it, loss=0.00268]\n",
      "Epoch 32: 100%|██████████| 49/49 [01:06<00:00,  1.36s/it, loss=0.0024]\n",
      "Epoch 33: 100%|█████████| 49/49 [01:06<00:00,  1.36s/it, loss=0.00203]\n",
      "Epoch 34: 100%|█████████| 49/49 [01:06<00:00,  1.36s/it, loss=0.00245]\n",
      "Epoch 35: 100%|█████████| 49/49 [01:06<00:00,  1.36s/it, loss=0.00163]\n",
      "Epoch 36: 100%|█████████| 49/49 [01:06<00:00,  1.36s/it, loss=0.00214]\n",
      "Epoch 37: 100%|█████████| 49/49 [01:06<00:00,  1.36s/it, loss=0.00204]\n",
      "Epoch 38: 100%|█████████| 49/49 [01:06<00:00,  1.36s/it, loss=0.00298]\n",
      "Epoch 39: 100%|█████████| 49/49 [01:06<00:00,  1.36s/it, loss=0.00194]\n",
      "Epoch 40: 100%|█████████| 49/49 [01:06<00:00,  1.36s/it, loss=0.00208]\n",
      "Epoch 41: 100%|█████████| 49/49 [01:06<00:00,  1.36s/it, loss=0.00216]\n",
      "Epoch 42: 100%|██████████| 49/49 [01:06<00:00,  1.37s/it, loss=0.0022]\n",
      "Epoch 43: 100%|██████████| 49/49 [01:06<00:00,  1.37s/it, loss=0.0017]\n",
      "Epoch 44: 100%|█████████| 49/49 [01:06<00:00,  1.36s/it, loss=0.00186]\n",
      "Epoch 45: 100%|██████████| 49/49 [01:06<00:00,  1.36s/it, loss=0.0021]\n",
      "Epoch 46: 100%|█████████| 49/49 [01:06<00:00,  1.37s/it, loss=0.00274]\n",
      "Epoch 47: 100%|█████████| 49/49 [01:06<00:00,  1.36s/it, loss=0.00186]\n",
      "Epoch 48: 100%|█████████| 49/49 [01:06<00:00,  1.36s/it, loss=0.00191]\n",
      "Epoch 49: 100%|█████████| 49/49 [01:06<00:00,  1.36s/it, loss=0.00198]\n",
      "100%|██████████████████████████████████████████████████████████████████████████████████████████████████████████████████████████████████████████████████████████████████████████████████████| 1000/1000 [01:12<00:00, 13.84it/s]\n"
     ]
    },
    {
     "data": {
      "image/png": "[encoded data removed]",
      "text/plain": [
       "<Figure size 200x200 with 1 Axes>"
      ]
     },
     "metadata": {},
     "output_type": "display_data"
    },
    {
     "name": "stderr",
     "output_type": "stream",
     "text": [
      "Epoch 50: 100%|█████████| 49/49 [01:06<00:00,  1.36s/it, loss=0.00254]\n",
      "Epoch 51: 100%|█████████| 49/49 [01:07<00:00,  1.37s/it, loss=0.00186]\n",
      "Epoch 52: 100%|█████████| 49/49 [01:06<00:00,  1.36s/it, loss=0.00189]\n",
      "Epoch 53: 100%|█████████| 49/49 [01:06<00:00,  1.36s/it, loss=0.00236]\n",
      "Epoch 54: 100%|█████████| 49/49 [01:06<00:00,  1.36s/it, loss=0.00156]\n",
      "Epoch 55: 100%|█████████| 49/49 [01:06<00:00,  1.36s/it, loss=0.00257]\n",
      "Epoch 56: 100%|█████████| 49/49 [01:06<00:00,  1.36s/it, loss=0.00204]\n",
      "Epoch 57: 100%|█████████| 49/49 [01:06<00:00,  1.36s/it, loss=0.00165]\n",
      "Epoch 58: 100%|█████████| 49/49 [01:06<00:00,  1.36s/it, loss=0.00235]\n",
      "Epoch 59: 100%|█████████| 49/49 [01:06<00:00,  1.36s/it, loss=0.00196]\n",
      "Epoch 60: 100%|█████████| 49/49 [01:06<00:00,  1.36s/it, loss=0.00201]\n",
      "Epoch 61: 100%|█████████| 49/49 [01:06<00:00,  1.36s/it, loss=0.00214]\n",
      "Epoch 62: 100%|█████████| 49/49 [01:06<00:00,  1.36s/it, loss=0.00208]\n",
      "Epoch 63: 100%|█████████| 49/49 [01:06<00:00,  1.36s/it, loss=0.00145]\n",
      "Epoch 64: 100%|█████████| 49/49 [01:06<00:00,  1.36s/it, loss=0.00141]\n",
      "Epoch 65: 100%|█████████| 49/49 [01:06<00:00,  1.36s/it, loss=0.00188]\n",
      "Epoch 66: 100%|█████████| 49/49 [01:06<00:00,  1.36s/it, loss=0.00154]\n",
      "Epoch 67: 100%|█████████| 49/49 [01:06<00:00,  1.36s/it, loss=0.00163]\n",
      "Epoch 68: 100%|█████████| 49/49 [01:06<00:00,  1.36s/it, loss=0.00176]\n",
      "Epoch 69: 100%|█████████| 49/49 [01:06<00:00,  1.36s/it, loss=0.00232]\n",
      "Epoch 70: 100%|█████████| 49/49 [01:06<00:00,  1.36s/it, loss=0.00178]\n",
      "Epoch 71: 100%|█████████| 49/49 [01:06<00:00,  1.36s/it, loss=0.00187]\n",
      "Epoch 72: 100%|█████████| 49/49 [01:06<00:00,  1.36s/it, loss=0.00134]\n",
      "Epoch 73: 100%|█████████| 49/49 [01:06<00:00,  1.36s/it, loss=0.00161]\n",
      "Epoch 74: 100%|██████████| 49/49 [01:06<00:00,  1.36s/it, loss=0.0019]\n",
      "100%|██████████████████████████████████████████████████████████████████████████████████████████████████████████████████████████████████████████████████████████████████████████████████████| 1000/1000 [01:12<00:00, 13.85it/s]\n"
     ]
    },
    {
     "data": {
      "image/png": "[encoded data removed]",
      "text/plain": [
       "<Figure size 200x200 with 1 Axes>"
      ]
     },
     "metadata": {},
     "output_type": "display_data"
    },
    {
     "name": "stderr",
     "output_type": "stream",
     "text": [
      "Epoch 75: 100%|█████████| 49/49 [01:06<00:00,  1.36s/it, loss=0.00176]\n",
      "Epoch 76: 100%|█████████| 49/49 [01:06<00:00,  1.36s/it, loss=0.00215]\n",
      "Epoch 77: 100%|█████████| 49/49 [01:06<00:00,  1.36s/it, loss=0.00179]\n",
      "Epoch 78: 100%|█████████| 49/49 [01:06<00:00,  1.36s/it, loss=0.00136]\n",
      "Epoch 79: 100%|█████████| 49/49 [01:06<00:00,  1.36s/it, loss=0.00153]\n",
      "Epoch 80: 100%|█████████| 49/49 [01:06<00:00,  1.36s/it, loss=0.00163]\n",
      "Epoch 81: 100%|█████████| 49/49 [01:06<00:00,  1.36s/it, loss=0.00164]\n",
      "Epoch 82: 100%|█████████| 49/49 [01:06<00:00,  1.36s/it, loss=0.00139]\n",
      "Epoch 83: 100%|██████████| 49/49 [01:06<00:00,  1.36s/it, loss=0.0014]\n",
      "Epoch 84: 100%|█████████| 49/49 [01:06<00:00,  1.37s/it, loss=0.00131]\n",
      "Epoch 85: 100%|█████████| 49/49 [01:06<00:00,  1.36s/it, loss=0.00233]\n",
      "Epoch 86: 100%|█████████| 49/49 [01:06<00:00,  1.37s/it, loss=0.00221]\n",
      "Epoch 87: 100%|█████████| 49/49 [01:06<00:00,  1.36s/it, loss=0.00219]\n",
      "Epoch 88: 100%|█████████| 49/49 [01:06<00:00,  1.36s/it, loss=0.00285]\n",
      "Epoch 89: 100%|█████████| 49/49 [01:07<00:00,  1.37s/it, loss=0.00185]\n",
      "Epoch 90: 100%|█████████| 49/49 [01:06<00:00,  1.36s/it, loss=0.00162]\n",
      "Epoch 91: 100%|█████████| 49/49 [01:06<00:00,  1.36s/it, loss=0.00149]\n",
      "Epoch 92: 100%|█████████| 49/49 [01:06<00:00,  1.36s/it, loss=0.00151]\n",
      "Epoch 93: 100%|█████████| 49/49 [01:06<00:00,  1.36s/it, loss=0.00176]\n",
      "Epoch 94: 100%|█████████| 49/49 [01:06<00:00,  1.37s/it, loss=0.00218]\n",
      "Epoch 95: 100%|█████████| 49/49 [01:06<00:00,  1.36s/it, loss=0.00161]\n",
      "Epoch 96: 100%|█████████| 49/49 [01:06<00:00,  1.36s/it, loss=0.00128]\n",
      "Epoch 97: 100%|█████████| 49/49 [01:06<00:00,  1.36s/it, loss=0.00179]\n",
      "Epoch 98: 100%|█████████| 49/49 [01:06<00:00,  1.36s/it, loss=0.00178]\n",
      "Epoch 99: 100%|█████████| 49/49 [01:06<00:00,  1.36s/it, loss=0.00222]\n",
      "100%|██████████████████████████████████████████████████████████████████████████████████████████████████████████████████████████████████████████████████████████████████████████████████████| 1000/1000 [01:12<00:00, 13.85it/s]\n"
     ]
    },
    {
     "data": {
      "image/png": "[encoded data removed]",
      "text/plain": [
       "<Figure size 200x200 with 1 Axes>"
      ]
     },
     "metadata": {},
     "output_type": "display_data"
    },
    {
     "name": "stderr",
     "output_type": "stream",
     "text": [
      "Epoch 100: 100%|████████| 49/49 [01:06<00:00,  1.37s/it, loss=0.00169]\n",
      "Epoch 101: 100%|████████| 49/49 [01:06<00:00,  1.36s/it, loss=0.00171]\n",
      "Epoch 102: 100%|████████| 49/49 [01:06<00:00,  1.37s/it, loss=0.00143]\n",
      "Epoch 103: 100%|████████| 49/49 [01:06<00:00,  1.36s/it, loss=0.00149]\n",
      "Epoch 104: 100%|████████| 49/49 [01:06<00:00,  1.36s/it, loss=0.00151]\n",
      "Epoch 105: 100%|█████████| 49/49 [01:06<00:00,  1.36s/it, loss=0.0022]\n",
      "Epoch 106: 100%|████████| 49/49 [01:06<00:00,  1.37s/it, loss=0.00145]\n",
      "Epoch 107: 100%|████████| 49/49 [01:06<00:00,  1.36s/it, loss=0.00187]\n",
      "Epoch 108: 100%|█████████| 49/49 [01:06<00:00,  1.36s/it, loss=0.0019]\n",
      "Epoch 109: 100%|████████| 49/49 [01:06<00:00,  1.36s/it, loss=0.00197]\n",
      "Epoch 110: 100%|████████| 49/49 [01:06<00:00,  1.36s/it, loss=0.00168]\n",
      "Epoch 111: 100%|████████| 49/49 [01:06<00:00,  1.36s/it, loss=0.00203]\n",
      "Epoch 112: 100%|████████| 49/49 [01:06<00:00,  1.36s/it, loss=0.00156]\n",
      "Epoch 113: 100%|████████| 49/49 [01:06<00:00,  1.36s/it, loss=0.00186]\n",
      "Epoch 114: 100%|████████| 49/49 [01:06<00:00,  1.36s/it, loss=0.00139]\n",
      "Epoch 115: 100%|████████| 49/49 [01:06<00:00,  1.36s/it, loss=0.00139]\n",
      "Epoch 116: 100%|████████| 49/49 [01:06<00:00,  1.36s/it, loss=0.00154]\n",
      "Epoch 117: 100%|████████| 49/49 [01:06<00:00,  1.36s/it, loss=0.00216]\n",
      "Epoch 118: 100%|████████| 49/49 [01:06<00:00,  1.36s/it, loss=0.00135]\n",
      "Epoch 119: 100%|████████| 49/49 [01:06<00:00,  1.36s/it, loss=0.00175]\n",
      "Epoch 120: 100%|████████| 49/49 [01:06<00:00,  1.37s/it, loss=0.00199]\n",
      "Epoch 121: 100%|████████| 49/49 [01:06<00:00,  1.36s/it, loss=0.00192]\n",
      "Epoch 122: 100%|████████| 49/49 [01:06<00:00,  1.36s/it, loss=0.00159]\n",
      "Epoch 123: 100%|█████████| 49/49 [01:06<00:00,  1.36s/it, loss=0.0015]\n",
      "Epoch 124: 100%|████████| 49/49 [01:06<00:00,  1.36s/it, loss=0.00138]\n",
      "100%|██████████████████████████████████████████████████████████████████████████████████████████████████████████████████████████████████████████████████████████████████████████████████████| 1000/1000 [01:12<00:00, 13.87it/s]\n"
     ]
    },
    {
     "data": {
      "image/png": "[encoded data removed]",
      "text/plain": [
       "<Figure size 200x200 with 1 Axes>"
      ]
     },
     "metadata": {},
     "output_type": "display_data"
    },
    {
     "name": "stderr",
     "output_type": "stream",
     "text": [
      "Epoch 125: 100%|████████| 49/49 [01:06<00:00,  1.36s/it, loss=0.00136]\n",
      "Epoch 126: 100%|████████| 49/49 [01:06<00:00,  1.36s/it, loss=0.00136]\n",
      "Epoch 127: 100%|████████| 49/49 [01:06<00:00,  1.36s/it, loss=0.00139]\n",
      "Epoch 128: 100%|████████| 49/49 [01:06<00:00,  1.37s/it, loss=0.00156]\n",
      "Epoch 129: 100%|████████| 49/49 [01:06<00:00,  1.36s/it, loss=0.00145]\n",
      "Epoch 130: 100%|█████████| 49/49 [01:06<00:00,  1.36s/it, loss=0.0019]\n",
      "Epoch 131: 100%|████████| 49/49 [01:06<00:00,  1.36s/it, loss=0.00232]\n",
      "Epoch 132: 100%|████████| 49/49 [01:06<00:00,  1.36s/it, loss=0.00161]\n",
      "Epoch 133: 100%|████████| 49/49 [01:06<00:00,  1.36s/it, loss=0.00184]\n",
      "Epoch 134: 100%|████████| 49/49 [01:06<00:00,  1.36s/it, loss=0.00142]\n",
      "Epoch 135: 100%|████████| 49/49 [01:06<00:00,  1.36s/it, loss=0.00175]\n",
      "Epoch 136: 100%|████████| 49/49 [01:06<00:00,  1.37s/it, loss=0.00131]\n",
      "Epoch 137: 100%|████████| 49/49 [01:06<00:00,  1.36s/it, loss=0.00162]\n",
      "Epoch 138: 100%|████████| 49/49 [01:06<00:00,  1.36s/it, loss=0.00165]\n",
      "Epoch 139: 100%|████████| 49/49 [01:06<00:00,  1.36s/it, loss=0.00159]\n",
      "Epoch 140: 100%|████████| 49/49 [01:06<00:00,  1.36s/it, loss=0.00151]\n",
      "Epoch 141: 100%|████████| 49/49 [01:06<00:00,  1.36s/it, loss=0.00201]\n",
      "Epoch 142: 100%|████████| 49/49 [01:06<00:00,  1.36s/it, loss=0.00159]\n",
      "Epoch 143: 100%|████████| 49/49 [01:06<00:00,  1.36s/it, loss=0.00163]\n",
      "Epoch 144: 100%|████████| 49/49 [01:06<00:00,  1.36s/it, loss=0.00116]\n",
      "Epoch 145: 100%|█████████| 49/49 [01:06<00:00,  1.37s/it, loss=0.0016]\n",
      "Epoch 146: 100%|████████| 49/49 [01:06<00:00,  1.36s/it, loss=0.00159]\n",
      "Epoch 147: 100%|████████| 49/49 [01:06<00:00,  1.36s/it, loss=0.00157]\n",
      "Epoch 148: 100%|████████| 49/49 [01:06<00:00,  1.36s/it, loss=0.00125]\n",
      "Epoch 149: 100%|████████| 49/49 [01:06<00:00,  1.37s/it, loss=0.00133]\n",
      "100%|██████████████████████████████████████████████████████████████████████████████████████████████████████████████████████████████████████████████████████████████████████████████████████| 1000/1000 [01:12<00:00, 13.86it/s]\n"
     ]
    },
    {
     "data": {
      "image/png": "[encoded data removed]",
      "text/plain": [
       "<Figure size 200x200 with 1 Axes>"
      ]
     },
     "metadata": {},
     "output_type": "display_data"
    },
    {
     "name": "stdout",
     "output_type": "stream",
     "text": [
      "train completed, total time: 10538.769879579544.\n"
     ]
    }
   ],
   "source": [
    "n_epochs = 150\n",
    "val_interval = 25\n",
    "epoch_loss_list = []\n",
    "val_epoch_loss_list = []\n",
    "\n",
    "scaler = GradScaler()\n",
    "total_start = time.time()\n",
    "for epoch in range(n_epochs):\n",
    "    model.train()\n",
    "    epoch_loss = 0\n",
    "    progress_bar = tqdm(enumerate(train_loader), total=len(train_loader), ncols=70)\n",
    "    progress_bar.set_description(f\"Epoch {epoch}\")\n",
    "    for step, batch in progress_bar:\n",
    "        images = batch[\"image\"].to(device)\n",
    "        optimizer.zero_grad(set_to_none=True)\n",
    "\n",
    "        with autocast(enabled=True):\n",
    "            # Generate random noise\n",
    "            noise = torch.randn_like(images).to(device)\n",
    "\n",
    "            # Create timesteps\n",
    "            timesteps = torch.randint(\n",
    "                0, inferer.scheduler.num_train_timesteps, (images.shape[0],), device=images.device\n",
    "            ).long()\n",
    "\n",
    "            # Get model prediction\n",
    "            noise_pred = inferer(inputs=images, diffusion_model=model, noise=noise, timesteps=timesteps)\n",
    "\n",
    "            loss = F.mse_loss(noise_pred.float(), noise.float())\n",
    "\n",
    "        scaler.scale(loss).backward()\n",
    "        scaler.step(optimizer)\n",
    "        scaler.update()\n",
    "\n",
    "        epoch_loss += loss.item()\n",
    "\n",
    "        progress_bar.set_postfix({\"loss\": epoch_loss / (step + 1)})\n",
    "    epoch_loss_list.append(epoch_loss / (step + 1))\n",
    "\n",
    "    if (epoch + 1) % val_interval == 0:\n",
    "        model.eval()\n",
    "        val_epoch_loss = 0\n",
    "        for step, batch in enumerate(val_loader):\n",
    "            images = batch[\"image\"].to(device)\n",
    "            noise = torch.randn_like(images).to(device)\n",
    "            with torch.no_grad():\n",
    "                with autocast(enabled=True):\n",
    "                    timesteps = torch.randint(\n",
    "                        0, inferer.scheduler.num_train_timesteps, (images.shape[0],), device=images.device\n",
    "                    ).long()\n",
    "\n",
    "                    # Get model prediction\n",
    "                    noise_pred = inferer(inputs=images, diffusion_model=model, noise=noise, timesteps=timesteps)\n",
    "                    val_loss = F.mse_loss(noise_pred.float(), noise.float())\n",
    "\n",
    "            val_epoch_loss += val_loss.item()\n",
    "            progress_bar.set_postfix({\"val_loss\": val_epoch_loss / (step + 1)})\n",
    "        val_epoch_loss_list.append(val_epoch_loss / (step + 1))\n",
    "\n",
    "        # Sampling image during training\n",
    "        image = torch.randn((1, 1, 32, 48, 32))\n",
    "        image = image.to(device)\n",
    "        scheduler.set_timesteps(num_inference_steps=1000)\n",
    "        with autocast(enabled=True):\n",
    "            image = inferer.sample(input_noise=image, diffusion_model=model, scheduler=scheduler)\n",
    "\n",
    "        plt.figure(figsize=(2, 2))\n",
    "        plt.imshow(image[0, 0, :, :, 15].cpu(), vmin=0, vmax=1, cmap=\"gray\")\n",
    "        plt.tight_layout()\n",
    "        plt.axis(\"off\")\n",
    "        plt.show()\n",
    "\n",
    "total_time = time.time() - total_start\n",
    "print(f\"train completed, total time: {total_time}.\")"
   ]
  },
  {
   "cell_type": "markdown",
   "id": "3e263b67",
   "metadata": {},
   "source": [
    "### Learning curves"
   ]
  },
  {
   "cell_type": "code",
   "execution_count": 10,
   "id": "c7520419",
   "metadata": {
    "lines_to_next_cell": 2
   },
   "outputs": [
    {
     "data": {
      "image/png": "[encoded data removed]",
      "text/plain": [
       "<Figure size 800x550 with 1 Axes>"
      ]
     },
     "metadata": {},
     "output_type": "display_data"
    }
   ],
   "source": [
    "plt.style.use(\"seaborn-v0_8\")\n",
    "plt.title(\"Learning Curves\", fontsize=20)\n",
    "plt.plot(np.linspace(1, n_epochs, n_epochs), epoch_loss_list, color=\"C0\", linewidth=2.0, label=\"Train\")\n",
    "plt.plot(\n",
    "    np.linspace(val_interval, n_epochs, int(n_epochs / val_interval)),\n",
    "    val_epoch_loss_list,\n",
    "    color=\"C1\",\n",
    "    linewidth=2.0,\n",
    "    label=\"Validation\",\n",
    ")\n",
    "plt.yticks(fontsize=12)\n",
    "plt.xticks(fontsize=12)\n",
    "plt.xlabel(\"Epochs\", fontsize=16)\n",
    "plt.ylabel(\"Loss\", fontsize=16)\n",
    "plt.legend(prop={\"size\": 14})\n",
    "plt.show()"
   ]
  },
  {
   "cell_type": "markdown",
   "id": "38724c9b",
   "metadata": {},
   "source": [
    "### Plotting synthetic sample"
   ]
  },
  {
   "cell_type": "code",
   "execution_count": 14,
   "id": "092eb6a0",
   "metadata": {
    "lines_to_next_cell": 2
   },
   "outputs": [
    {
     "name": "stderr",
     "output_type": "stream",
     "text": [
      "100%|██████████████████████████████████████████████████████████████████████████████████████████████████████████████████████████████████████████████████████████████████████████████████████| 1000/1000 [04:21<00:00,  3.83it/s]\n"
     ]
    }
   ],
   "source": [
    "model.eval()\n",
    "noise = torch.randn((1, 1, 32, 48, 32))\n",
    "noise = noise.to(device)\n",
    "scheduler.set_timesteps(num_inference_steps=1000)\n",
    "image = inferer.sample(input_noise=noise, diffusion_model=model, scheduler=scheduler)"
   ]
  },
  {
   "cell_type": "code",
   "execution_count": 15,
   "id": "5dc3e69d",
   "metadata": {},
   "outputs": [
    {
     "data": {
      "image/png": "[encoded data removed]",
      "text/plain": [
       "<Figure size 640x480 with 1 Axes>"
      ]
     },
     "metadata": {},
     "output_type": "display_data"
    }
   ],
   "source": [
    "plt.style.use(\"default\")\n",
    "plotting_image_0 = np.concatenate([image[0, 0, :, :, 15].cpu(), np.flipud(image[0, 0, :, 24, :].cpu().T)], axis=1)\n",
    "plotting_image_1 = np.concatenate([np.flipud(image[0, 0, 15, :, :].cpu().T), np.zeros((32, 32))], axis=1)\n",
    "plt.imshow(np.concatenate([plotting_image_0, plotting_image_1], axis=0), cmap=\"gray\")\n",
    "plt.tight_layout()\n",
    "plt.axis(\"off\")\n",
    "plt.show()"
   ]
  }
 ],
 "metadata": {
  "jupytext": {
   "formats": "py:percent,ipynb"
  },
  "kernelspec": {
   "display_name": "Python 3 (ipykernel)",
   "language": "python",
   "name": "python3"
  },
  "language_info": {
   "codemirror_mode": {
    "name": "ipython",
    "version": 3
   },
   "file_extension": ".py",
   "mimetype": "text/x-python",
   "name": "python",
   "nbconvert_exporter": "python",
   "pygments_lexer": "ipython3",
   "version": "3.10.6"
  }
 },
 "nbformat": 4,
 "nbformat_minor": 5
}
