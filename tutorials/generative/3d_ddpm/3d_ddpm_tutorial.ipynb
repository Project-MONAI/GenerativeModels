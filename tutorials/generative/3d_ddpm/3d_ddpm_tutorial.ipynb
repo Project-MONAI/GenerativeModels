{
 "cells": [
  {
   "cell_type": "markdown",
   "id": "6286986e",
   "metadata": {},
   "source": [
    "# Denoising Diffusion Probabilistic Model on 3D data\n",
    "\n",
    "This tutorial illustrates how to use MONAI for training a denoising diffusion probabilistic model (DDPM)[1] to create synthetic 3D images.\n",
    "\n",
    "[1] - [Ho et al. \"Denoising Diffusion Probabilistic Models\"](https://arxiv.org/abs/2006.11239)\n",
    "\n",
    "\n",
    "## Setup environment"
   ]
  },
  {
   "cell_type": "code",
   "execution_count": 1,
   "id": "f96b6f31",
   "metadata": {},
   "outputs": [],
   "source": [
    "!python -c \"import monai\" || pip install -q \"monai-weekly[nibabel, tqdm]\"\n",
    "!python -c \"import matplotlib\" || pip install -q matplotlib\n",
    "%matplotlib inline"
   ]
  },
  {
   "cell_type": "markdown",
   "id": "cbc01d24",
   "metadata": {},
   "source": [
    "## Setup imports"
   ]
  },
  {
   "cell_type": "code",
   "execution_count": 2,
   "id": "cdea37d5",
   "metadata": {},
   "outputs": [
    {
     "name": "stderr",
     "output_type": "stream",
     "text": [
      "/media/walter/Storage/Projects/GenerativeModels/venv/lib/python3.10/site-packages/tqdm/auto.py:22: TqdmWarning: IProgress not found. Please update jupyter and ipywidgets. See https://ipywidgets.readthedocs.io/en/stable/user_install.html\n",
      "  from .autonotebook import tqdm as notebook_tqdm\n"
     ]
    },
    {
     "name": "stdout",
     "output_type": "stream",
     "text": [
      "2023-02-28 00:16:00,289 - A matching Triton is not available, some optimizations will not be enabled.\n",
      "Error caught was: No module named 'triton'\n",
      "MONAI version: 1.2.dev2304\n",
      "Numpy version: 1.23.5\n",
      "Pytorch version: 1.13.1+cu117\n",
      "MONAI flags: HAS_EXT = False, USE_COMPILED = False, USE_META_DICT = False\n",
      "MONAI rev id: 9a57be5aab9f2c2a134768c0c146399150e247a0\n",
      "MONAI __file__: /media/walter/Storage/Projects/GenerativeModels/venv/lib/python3.10/site-packages/monai/__init__.py\n",
      "\n",
      "Optional dependencies:\n",
      "Pytorch Ignite version: 0.4.10\n",
      "ITK version: 5.3.0\n",
      "Nibabel version: 4.0.2\n",
      "scikit-image version: 0.19.3\n",
      "Pillow version: 9.3.0\n",
      "Tensorboard version: 2.11.0\n",
      "gdown version: 4.6.0\n",
      "TorchVision version: 0.14.1+cu117\n",
      "tqdm version: 4.64.1\n",
      "lmdb version: 1.4.0\n",
      "psutil version: 5.9.4\n",
      "pandas version: 1.5.3\n",
      "einops version: 0.6.0\n",
      "transformers version: 4.21.3\n",
      "mlflow version: 2.1.1\n",
      "pynrrd version: 1.0.0\n",
      "\n",
      "For details about installing the optional dependencies, please visit:\n",
      "    https://docs.monai.io/en/latest/installation.html#installing-the-recommended-dependencies\n",
      "\n"
     ]
    }
   ],
   "source": [
    "# Copyright 2020 MONAI Consortium\n",
    "# Licensed under the Apache License, Version 2.0 (the \"License\");\n",
    "# you may not use this file except in compliance with the License.\n",
    "# You may obtain a copy of the License at\n",
    "#     http://www.apache.org/licenses/LICENSE-2.0\n",
    "# Unless required by applicable law or agreed to in writing, software\n",
    "# distributed under the License is distributed on an \"AS IS\" BASIS,\n",
    "# WITHOUT WARRANTIES OR CONDITIONS OF ANY KIND, either express or implied.\n",
    "# See the License for the specific language governing permissions and\n",
    "# limitations under the License.\n",
    "\n",
    "import os\n",
    "import tempfile\n",
    "import time\n",
    "\n",
    "import matplotlib.pyplot as plt\n",
    "import numpy as np\n",
    "import torch\n",
    "import torch.nn.functional as F\n",
    "from monai.apps import DecathlonDataset\n",
    "from monai.config import print_config\n",
    "from monai.data import DataLoader\n",
    "from monai.transforms import AddChanneld, CenterSpatialCropd, Compose, Lambdad, LoadImaged, Resized, ScaleIntensityd\n",
    "from monai.utils import set_determinism\n",
    "from torch.cuda.amp import GradScaler, autocast\n",
    "from tqdm import tqdm\n",
    "\n",
    "from generative.inferers import DiffusionInferer\n",
    "from generative.networks.nets import DiffusionModelUNet\n",
    "from generative.networks.schedulers import DDPMScheduler\n",
    "\n",
    "print_config()"
   ]
  },
  {
   "cell_type": "markdown",
   "id": "50e37a43",
   "metadata": {},
   "source": [
    "## Setup data directory\n",
    "\n",
    "You can specify a directory with the MONAI_DATA_DIRECTORY environment variable.\n",
    "\n",
    "This allows you to save results and reuse downloads.\n",
    "\n",
    "If not specified a temporary directory will be used."
   ]
  },
  {
   "cell_type": "code",
   "execution_count": 3,
   "id": "c38b4c33",
   "metadata": {},
   "outputs": [
    {
     "name": "stdout",
     "output_type": "stream",
     "text": [
      "/tmp/tmp4dbx0xcm\n"
     ]
    }
   ],
   "source": [
    "directory = os.environ.get(\"MONAI_DATA_DIRECTORY\")\n",
    "root_dir = tempfile.mkdtemp() if directory is None else directory\n",
    "print(root_dir)"
   ]
  },
  {
   "cell_type": "markdown",
   "id": "41af1391",
   "metadata": {},
   "source": [
    "## Set deterministic training for reproducibility"
   ]
  },
  {
   "cell_type": "code",
   "execution_count": 4,
   "id": "515d8583",
   "metadata": {},
   "outputs": [],
   "source": [
    "set_determinism(0)"
   ]
  },
  {
   "cell_type": "markdown",
   "id": "29d8c601",
   "metadata": {},
   "source": [
    "## Setup Decathlon Dataset and training and validation dataloaders"
   ]
  },
  {
   "cell_type": "code",
   "execution_count": 5,
   "id": "f640d7ac",
   "metadata": {},
   "outputs": [
    {
     "name": "stderr",
     "output_type": "stream",
     "text": [
      "<class 'monai.transforms.utility.array.AddChannel'>: Class `AddChannel` has been deprecated since version 0.8. please use MetaTensor data type and monai.transforms.EnsureChannelFirst instead.\n"
     ]
    }
   ],
   "source": [
    "train_transform = Compose(\n",
    "    [\n",
    "        LoadImaged(keys=[\"image\"]),\n",
    "        Lambdad(keys=\"image\", func=lambda x: x[:, :, :, 1]),\n",
    "        AddChanneld(keys=[\"image\"]),\n",
    "        ScaleIntensityd(keys=[\"image\"]),\n",
    "        CenterSpatialCropd(keys=[\"image\"], roi_size=[176, 224, 155]),\n",
    "        Resized(keys=[\"image\"], spatial_size=(32, 48, 32)),\n",
    "    ]\n",
    ")\n",
    "\n",
    "val_transform = Compose(\n",
    "    [\n",
    "        LoadImaged(keys=[\"image\"]),\n",
    "        Lambdad(keys=\"image\", func=lambda x: x[:, :, :, 1]),\n",
    "        AddChanneld(keys=[\"image\"]),\n",
    "        ScaleIntensityd(keys=[\"image\"]),\n",
    "        CenterSpatialCropd(keys=[\"image\"], roi_size=[176, 224, 155]),\n",
    "        Resized(keys=[\"image\"], spatial_size=(32, 48, 32)),\n",
    "    ]\n",
    ")"
   ]
  },
  {
   "cell_type": "code",
   "execution_count": 6,
   "id": "ddd61e60",
   "metadata": {
    "lines_to_next_cell": 2
   },
   "outputs": [
    {
     "name": "stderr",
     "output_type": "stream",
     "text": [
      "Task01_BrainTumour.tar: 7.09GB [06:55, 18.3MB/s]                                                                                                                                                                               "
     ]
    },
    {
     "name": "stdout",
     "output_type": "stream",
     "text": [
      "2023-02-28 00:22:56,253 - INFO - Downloaded: /tmp/tmp4dbx0xcm/Task01_BrainTumour.tar\n"
     ]
    },
    {
     "name": "stderr",
     "output_type": "stream",
     "text": [
      "\n"
     ]
    },
    {
     "name": "stdout",
     "output_type": "stream",
     "text": [
      "2023-02-28 00:23:04,765 - INFO - Verified 'Task01_BrainTumour.tar', md5: 240a19d752f0d9e9101544901065d872.\n",
      "2023-02-28 00:23:04,766 - INFO - Writing into directory: /tmp/tmp4dbx0xcm.\n"
     ]
    },
    {
     "name": "stderr",
     "output_type": "stream",
     "text": [
      "Loading dataset: 100%|███████████████████████████████████████████████████████████████████████████████████████████████████████████████████████████████████████████████████████████████████████| 388/388 [03:43<00:00,  1.74it/s]\n"
     ]
    },
    {
     "name": "stdout",
     "output_type": "stream",
     "text": [
      "2023-02-28 00:27:00,775 - INFO - Verified 'Task01_BrainTumour.tar', md5: 240a19d752f0d9e9101544901065d872.\n",
      "2023-02-28 00:27:00,775 - INFO - File exists: /tmp/tmp4dbx0xcm/Task01_BrainTumour.tar, skipped downloading.\n",
      "2023-02-28 00:27:00,776 - INFO - Non-empty folder exists in /tmp/tmp4dbx0xcm/Task01_BrainTumour, skipped extracting.\n"
     ]
    },
    {
     "name": "stderr",
     "output_type": "stream",
     "text": [
      "Loading dataset: 100%|█████████████████████████████████████████████████████████████████████████████████████████████████████████████████████████████████████████████████████████████████████████| 96/96 [00:55<00:00,  1.72it/s]\n"
     ]
    }
   ],
   "source": [
    "train_ds = DecathlonDataset(\n",
    "    root_dir=root_dir, task=\"Task01_BrainTumour\", transform=train_transform, section=\"training\", download=True\n",
    ")\n",
    "\n",
    "train_loader = DataLoader(train_ds, batch_size=4, shuffle=True, num_workers=8)\n",
    "\n",
    "val_ds = DecathlonDataset(\n",
    "    root_dir=root_dir, task=\"Task01_BrainTumour\", transform=val_transform, section=\"validation\", download=True\n",
    ")\n",
    "\n",
    "val_loader = DataLoader(val_ds, batch_size=4, shuffle=False, num_workers=8)"
   ]
  },
  {
   "cell_type": "markdown",
   "id": "50efe5ef",
   "metadata": {},
   "source": [
    "### Visualization of the training images"
   ]
  },
  {
   "cell_type": "code",
   "execution_count": 7,
   "id": "bffb4abc",
   "metadata": {},
   "outputs": [
    {
     "data": {
      "image/png": "[encoded data removed]",
      "text/plain": [
       "<Figure size 1000x600 with 4 Axes>"
      ]
     },
     "metadata": {},
     "output_type": "display_data"
    }
   ],
   "source": [
    "plt.subplots(1, 4, figsize=(10, 6))\n",
    "for i in range(4):\n",
    "    plt.subplot(1, 4, i + 1)\n",
    "    plt.imshow(train_ds[i * 20][\"image\"][0, :, :, 15].detach().cpu(), vmin=0, vmax=1, cmap=\"gray\")\n",
    "    plt.axis(\"off\")\n",
    "plt.tight_layout()\n",
    "plt.show()"
   ]
  },
  {
   "cell_type": "markdown",
   "id": "d22296e5",
   "metadata": {},
   "source": [
    "### Define network, scheduler, optimizer, and inferer"
   ]
  },
  {
   "cell_type": "code",
   "execution_count": 8,
   "id": "d499f7b1",
   "metadata": {
    "lines_to_next_cell": 2
   },
   "outputs": [],
   "source": [
    "device = torch.device(\"cuda\")\n",
    "\n",
    "model = DiffusionModelUNet(\n",
    "    spatial_dims=3,\n",
    "    in_channels=1,\n",
    "    out_channels=1,\n",
    "    num_channels=[256, 256, 512],\n",
    "    attention_levels=[False, False, True],\n",
    "    num_head_channels=[0, 0, 512],\n",
    "    num_res_blocks=2,\n",
    ")\n",
    "model.to(device)\n",
    "\n",
    "scheduler = DDPMScheduler(num_train_timesteps=1000)\n",
    "\n",
    "inferer = DiffusionInferer(scheduler)\n",
    "\n",
    "optimizer = torch.optim.Adam(params=model.parameters(), lr=2.5e-5)"
   ]
  },
  {
   "cell_type": "markdown",
   "id": "9f371ad8",
   "metadata": {},
   "source": [
    "### Model training"
   ]
  },
  {
   "cell_type": "code",
   "execution_count": 9,
   "id": "bd10b595",
   "metadata": {
    "lines_to_next_cell": 0
   },
   "outputs": [
    {
     "name": "stderr",
     "output_type": "stream",
     "text": [
      "Epoch 0: 100%|████████████| 97/97 [01:12<00:00,  1.35it/s, loss=0.261]\n",
      "Epoch 1: 100%|███████████| 97/97 [01:12<00:00,  1.34it/s, loss=0.0304]\n",
      "Epoch 2: 100%|███████████| 97/97 [01:13<00:00,  1.33it/s, loss=0.0186]\n",
      "Epoch 3: 100%|██████████| 97/97 [01:13<00:00,  1.32it/s, loss=0.00811]\n",
      "Epoch 4: 100%|███████████| 97/97 [01:13<00:00,  1.32it/s, loss=0.0104]\n",
      "Epoch 5: 100%|██████████| 97/97 [01:14<00:00,  1.30it/s, loss=0.00849]\n",
      "Epoch 6: 100%|██████████| 97/97 [01:14<00:00,  1.30it/s, loss=0.00987]\n",
      "Epoch 7: 100%|██████████| 97/97 [01:14<00:00,  1.30it/s, loss=0.00844]\n",
      "Epoch 8: 100%|███████████| 97/97 [01:15<00:00,  1.29it/s, loss=0.0077]\n",
      "Epoch 9: 100%|██████████| 97/97 [01:14<00:00,  1.29it/s, loss=0.00964]\n",
      "Epoch 10: 100%|█████████| 97/97 [01:15<00:00,  1.29it/s, loss=0.00719]\n",
      "Epoch 11: 100%|███████████| 97/97 [01:14<00:00,  1.29it/s, loss=0.006]\n",
      "Epoch 12: 100%|█████████| 97/97 [01:15<00:00,  1.29it/s, loss=0.00456]\n",
      "Epoch 13: 100%|█████████| 97/97 [01:14<00:00,  1.31it/s, loss=0.00512]\n",
      "Epoch 14: 100%|█████████| 97/97 [01:14<00:00,  1.30it/s, loss=0.00733]\n",
      "Epoch 15: 100%|█████████| 97/97 [01:13<00:00,  1.31it/s, loss=0.00684]\n",
      "Epoch 16: 100%|█████████| 97/97 [01:15<00:00,  1.29it/s, loss=0.00879]\n",
      "Epoch 17: 100%|█████████| 97/97 [01:14<00:00,  1.31it/s, loss=0.00484]\n",
      "Epoch 18: 100%|█████████| 97/97 [01:13<00:00,  1.31it/s, loss=0.00766]\n",
      "Epoch 19: 100%|█████████| 97/97 [01:13<00:00,  1.31it/s, loss=0.00575]\n",
      "Epoch 20: 100%|█████████| 97/97 [01:13<00:00,  1.31it/s, loss=0.00678]\n",
      "Epoch 21: 100%|█████████| 97/97 [01:13<00:00,  1.31it/s, loss=0.00489]\n",
      "Epoch 22: 100%|█████████| 97/97 [01:13<00:00,  1.31it/s, loss=0.00636]\n",
      "Epoch 23: 100%|█████████| 97/97 [01:14<00:00,  1.30it/s, loss=0.00934]\n",
      "Epoch 24: 100%|██████████| 97/97 [01:13<00:00,  1.31it/s, loss=0.0084]\n",
      "100%|██████████████████████████████████████████████████████████████████████████████████████████████████████████████████████████████████████████████████████████████████████████████████████| 1000/1000 [01:12<00:00, 13.80it/s]\n"
     ]
    },
    {
     "data": {
      "image/png": "[encoded data removed]",
      "text/plain": [
       "<Figure size 200x200 with 1 Axes>"
      ]
     },
     "metadata": {},
     "output_type": "display_data"
    },
    {
     "name": "stderr",
     "output_type": "stream",
     "text": [
      "Epoch 25: 100%|█████████| 97/97 [01:14<00:00,  1.31it/s, loss=0.00832]\n",
      "Epoch 26: 100%|█████████| 97/97 [01:13<00:00,  1.31it/s, loss=0.00654]\n",
      "Epoch 27: 100%|██████████| 97/97 [01:14<00:00,  1.31it/s, loss=0.0067]\n",
      "Epoch 28: 100%|█████████| 97/97 [01:13<00:00,  1.31it/s, loss=0.00384]\n",
      "Epoch 29: 100%|█████████| 97/97 [01:14<00:00,  1.31it/s, loss=0.00468]\n",
      "Epoch 30: 100%|█████████| 97/97 [01:13<00:00,  1.31it/s, loss=0.00522]\n",
      "Epoch 31: 100%|█████████| 97/97 [01:14<00:00,  1.31it/s, loss=0.00428]\n",
      "Epoch 32: 100%|█████████| 97/97 [01:13<00:00,  1.31it/s, loss=0.00462]\n",
      "Epoch 33: 100%|█████████| 97/97 [01:13<00:00,  1.31it/s, loss=0.00528]\n",
      "Epoch 34: 100%|█████████| 97/97 [01:13<00:00,  1.31it/s, loss=0.00514]\n",
      "Epoch 35: 100%|█████████| 97/97 [01:14<00:00,  1.31it/s, loss=0.00571]\n",
      "Epoch 36: 100%|█████████| 97/97 [01:13<00:00,  1.31it/s, loss=0.00401]\n",
      "Epoch 37: 100%|█████████| 97/97 [01:13<00:00,  1.31it/s, loss=0.00459]\n",
      "Epoch 38: 100%|█████████| 97/97 [01:13<00:00,  1.31it/s, loss=0.00446]\n",
      "Epoch 39: 100%|█████████| 97/97 [01:14<00:00,  1.31it/s, loss=0.00445]\n",
      "Epoch 40: 100%|██████████| 97/97 [01:13<00:00,  1.31it/s, loss=0.0051]\n",
      "Epoch 41: 100%|█████████| 97/97 [01:13<00:00,  1.31it/s, loss=0.00364]\n",
      "Epoch 42: 100%|██████████| 97/97 [01:14<00:00,  1.31it/s, loss=0.0041]\n",
      "Epoch 43: 100%|█████████| 97/97 [01:14<00:00,  1.31it/s, loss=0.00536]\n",
      "Epoch 44: 100%|██████████| 97/97 [01:14<00:00,  1.31it/s, loss=0.0047]\n",
      "Epoch 45: 100%|█████████| 97/97 [01:14<00:00,  1.31it/s, loss=0.00469]\n",
      "Epoch 46: 100%|█████████| 97/97 [01:14<00:00,  1.31it/s, loss=0.00476]\n",
      "Epoch 47: 100%|█████████| 97/97 [01:14<00:00,  1.31it/s, loss=0.00426]\n",
      "Epoch 48: 100%|█████████| 97/97 [01:14<00:00,  1.31it/s, loss=0.00367]\n",
      "Epoch 49: 100%|█████████| 97/97 [01:13<00:00,  1.31it/s, loss=0.00532]\n",
      "100%|██████████████████████████████████████████████████████████████████████████████████████████████████████████████████████████████████████████████████████████████████████████████████████| 1000/1000 [01:12<00:00, 13.81it/s]\n"
     ]
    },
    {
     "data": {
      "image/png": "[encoded data removed]",
      "text/plain": [
       "<Figure size 200x200 with 1 Axes>"
      ]
     },
     "metadata": {},
     "output_type": "display_data"
    },
    {
     "name": "stderr",
     "output_type": "stream",
     "text": [
      "Epoch 50: 100%|█████████| 97/97 [01:14<00:00,  1.31it/s, loss=0.00333]\n",
      "Epoch 51: 100%|█████████| 97/97 [01:13<00:00,  1.31it/s, loss=0.00319]\n",
      "Epoch 52: 100%|█████████| 97/97 [01:14<00:00,  1.31it/s, loss=0.00504]\n",
      "Epoch 53: 100%|█████████| 97/97 [01:13<00:00,  1.31it/s, loss=0.00406]\n",
      "Epoch 54: 100%|█████████| 97/97 [01:13<00:00,  1.31it/s, loss=0.00344]\n",
      "Epoch 55: 100%|█████████| 97/97 [01:14<00:00,  1.31it/s, loss=0.00352]\n",
      "Epoch 56: 100%|█████████| 97/97 [01:13<00:00,  1.31it/s, loss=0.00448]\n",
      "Epoch 57: 100%|█████████| 97/97 [01:13<00:00,  1.31it/s, loss=0.00449]\n",
      "Epoch 58: 100%|█████████| 97/97 [01:13<00:00,  1.31it/s, loss=0.00364]\n",
      "Epoch 59: 100%|█████████| 97/97 [01:13<00:00,  1.31it/s, loss=0.00389]\n",
      "Epoch 60: 100%|█████████| 97/97 [01:13<00:00,  1.31it/s, loss=0.00452]\n",
      "Epoch 61: 100%|█████████| 97/97 [01:13<00:00,  1.31it/s, loss=0.00357]\n",
      "Epoch 62: 100%|█████████| 97/97 [01:14<00:00,  1.31it/s, loss=0.00408]\n",
      "Epoch 63: 100%|█████████| 97/97 [01:13<00:00,  1.31it/s, loss=0.00397]\n",
      "Epoch 64: 100%|█████████| 97/97 [01:14<00:00,  1.31it/s, loss=0.00409]\n",
      "Epoch 65: 100%|█████████| 97/97 [01:13<00:00,  1.31it/s, loss=0.00431]\n",
      "Epoch 66: 100%|█████████| 97/97 [01:14<00:00,  1.31it/s, loss=0.00276]\n",
      "Epoch 67: 100%|█████████| 97/97 [01:13<00:00,  1.31it/s, loss=0.00339]\n",
      "Epoch 68: 100%|█████████| 97/97 [01:14<00:00,  1.31it/s, loss=0.00321]\n",
      "Epoch 69: 100%|█████████| 97/97 [01:13<00:00,  1.31it/s, loss=0.00337]\n",
      "Epoch 70: 100%|█████████| 97/97 [01:13<00:00,  1.31it/s, loss=0.00343]\n",
      "Epoch 71: 100%|█████████| 97/97 [01:14<00:00,  1.31it/s, loss=0.00496]\n",
      "Epoch 72: 100%|█████████| 97/97 [01:14<00:00,  1.31it/s, loss=0.00263]\n",
      "Epoch 73: 100%|█████████| 97/97 [01:14<00:00,  1.31it/s, loss=0.00483]\n",
      "Epoch 74: 100%|█████████| 97/97 [01:14<00:00,  1.31it/s, loss=0.00724]\n",
      "100%|██████████████████████████████████████████████████████████████████████████████████████████████████████████████████████████████████████████████████████████████████████████████████████| 1000/1000 [01:12<00:00, 13.85it/s]\n"
     ]
    },
    {
     "data": {
      "image/png": "[encoded data removed]",
      "text/plain": [
       "<Figure size 200x200 with 1 Axes>"
      ]
     },
     "metadata": {},
     "output_type": "display_data"
    },
    {
     "name": "stderr",
     "output_type": "stream",
     "text": [
      "Epoch 75: 100%|█████████| 97/97 [01:14<00:00,  1.31it/s, loss=0.00703]\n",
      "Epoch 76: 100%|█████████| 97/97 [01:13<00:00,  1.31it/s, loss=0.00351]\n",
      "Epoch 77: 100%|█████████| 97/97 [01:13<00:00,  1.31it/s, loss=0.00445]\n",
      "Epoch 78: 100%|█████████| 97/97 [01:13<00:00,  1.31it/s, loss=0.00264]\n",
      "Epoch 79: 100%|█████████| 97/97 [01:14<00:00,  1.31it/s, loss=0.00324]\n",
      "Epoch 80: 100%|█████████| 97/97 [01:13<00:00,  1.31it/s, loss=0.00307]\n",
      "Epoch 81: 100%|█████████| 97/97 [01:13<00:00,  1.31it/s, loss=0.00522]\n",
      "Epoch 82: 100%|█████████| 97/97 [01:14<00:00,  1.31it/s, loss=0.00569]\n",
      "Epoch 83: 100%|█████████| 97/97 [01:14<00:00,  1.31it/s, loss=0.00378]\n",
      "Epoch 84: 100%|█████████| 97/97 [01:15<00:00,  1.29it/s, loss=0.00442]\n",
      "Epoch 85: 100%|█████████| 97/97 [01:14<00:00,  1.31it/s, loss=0.00387]\n",
      "Epoch 86: 100%|█████████| 97/97 [01:14<00:00,  1.31it/s, loss=0.00523]\n",
      "Epoch 87: 100%|██████████| 97/97 [01:14<00:00,  1.31it/s, loss=0.0028]\n",
      "Epoch 88: 100%|█████████| 97/97 [01:14<00:00,  1.31it/s, loss=0.00541]\n",
      "Epoch 89: 100%|█████████| 97/97 [01:14<00:00,  1.31it/s, loss=0.00382]\n",
      "Epoch 90: 100%|█████████| 97/97 [01:14<00:00,  1.31it/s, loss=0.00329]\n",
      "Epoch 91: 100%|█████████| 97/97 [01:14<00:00,  1.31it/s, loss=0.00379]\n",
      "Epoch 92: 100%|█████████| 97/97 [01:14<00:00,  1.31it/s, loss=0.00409]\n",
      "Epoch 93: 100%|███████████| 97/97 [01:13<00:00,  1.31it/s, loss=0.003]\n",
      "Epoch 94: 100%|██████████| 97/97 [01:14<00:00,  1.31it/s, loss=0.0042]\n",
      "Epoch 95: 100%|█████████| 97/97 [01:13<00:00,  1.31it/s, loss=0.00496]\n",
      "Epoch 96: 100%|█████████| 97/97 [01:14<00:00,  1.31it/s, loss=0.00296]\n",
      "Epoch 97: 100%|█████████| 97/97 [01:13<00:00,  1.31it/s, loss=0.00307]\n",
      "Epoch 98: 100%|█████████| 97/97 [01:14<00:00,  1.31it/s, loss=0.00362]\n",
      "Epoch 99: 100%|█████████| 97/97 [01:14<00:00,  1.31it/s, loss=0.00498]\n",
      "100%|██████████████████████████████████████████████████████████████████████████████████████████████████████████████████████████████████████████████████████████████████████████████████████| 1000/1000 [01:12<00:00, 13.84it/s]\n"
     ]
    },
    {
     "data": {
      "image/png": "[encoded data removed]",
      "text/plain": [
       "<Figure size 200x200 with 1 Axes>"
      ]
     },
     "metadata": {},
     "output_type": "display_data"
    },
    {
     "name": "stderr",
     "output_type": "stream",
     "text": [
      "Epoch 100: 100%|████████| 97/97 [01:14<00:00,  1.31it/s, loss=0.00304]\n",
      "Epoch 101: 100%|████████| 97/97 [01:13<00:00,  1.31it/s, loss=0.00281]\n",
      "Epoch 102: 100%|████████| 97/97 [01:14<00:00,  1.31it/s, loss=0.00374]\n",
      "Epoch 103: 100%|████████| 97/97 [01:14<00:00,  1.31it/s, loss=0.00435]\n",
      "Epoch 104: 100%|████████| 97/97 [01:14<00:00,  1.31it/s, loss=0.00424]\n",
      "Epoch 105: 100%|████████| 97/97 [01:14<00:00,  1.31it/s, loss=0.00353]\n",
      "Epoch 106: 100%|████████| 97/97 [01:14<00:00,  1.31it/s, loss=0.00509]\n",
      "Epoch 107: 100%|████████| 97/97 [01:14<00:00,  1.31it/s, loss=0.00329]\n",
      "Epoch 108: 100%|████████| 97/97 [01:14<00:00,  1.31it/s, loss=0.00366]\n",
      "Epoch 109: 100%|████████| 97/97 [01:14<00:00,  1.31it/s, loss=0.00379]\n",
      "Epoch 110: 100%|████████| 97/97 [01:14<00:00,  1.31it/s, loss=0.00335]\n",
      "Epoch 111: 100%|████████| 97/97 [01:14<00:00,  1.31it/s, loss=0.00367]\n",
      "Epoch 112: 100%|████████| 97/97 [01:13<00:00,  1.31it/s, loss=0.00427]\n",
      "Epoch 113: 100%|████████| 97/97 [01:14<00:00,  1.31it/s, loss=0.00236]\n",
      "Epoch 114: 100%|████████| 97/97 [01:14<00:00,  1.31it/s, loss=0.00235]\n",
      "Epoch 115: 100%|████████| 97/97 [01:13<00:00,  1.31it/s, loss=0.00248]\n",
      "Epoch 116: 100%|████████| 97/97 [01:14<00:00,  1.31it/s, loss=0.00408]\n",
      "Epoch 117: 100%|████████| 97/97 [01:14<00:00,  1.31it/s, loss=0.00376]\n",
      "Epoch 118: 100%|████████| 97/97 [01:14<00:00,  1.31it/s, loss=0.00507]\n",
      "Epoch 119: 100%|████████| 97/97 [01:13<00:00,  1.31it/s, loss=0.00283]\n",
      "Epoch 120: 100%|██████████| 97/97 [01:14<00:00,  1.31it/s, loss=0.003]\n",
      "Epoch 121: 100%|████████| 97/97 [01:14<00:00,  1.31it/s, loss=0.00485]\n",
      "Epoch 122: 100%|████████| 97/97 [01:14<00:00,  1.31it/s, loss=0.00346]\n",
      "Epoch 123: 100%|████████| 97/97 [01:13<00:00,  1.31it/s, loss=0.00338]\n",
      "Epoch 124: 100%|████████| 97/97 [01:13<00:00,  1.31it/s, loss=0.00318]\n",
      "100%|██████████████████████████████████████████████████████████████████████████████████████████████████████████████████████████████████████████████████████████████████████████████████████| 1000/1000 [01:12<00:00, 13.85it/s]\n"
     ]
    },
    {
     "data": {
      "image/png": "[encoded data removed]",
      "text/plain": [
       "<Figure size 200x200 with 1 Axes>"
      ]
     },
     "metadata": {},
     "output_type": "display_data"
    },
    {
     "name": "stderr",
     "output_type": "stream",
     "text": [
      "Epoch 125: 100%|████████| 97/97 [01:14<00:00,  1.31it/s, loss=0.00231]\n",
      "Epoch 126: 100%|████████| 97/97 [01:14<00:00,  1.31it/s, loss=0.00388]\n",
      "Epoch 127: 100%|████████| 97/97 [01:14<00:00,  1.31it/s, loss=0.00416]\n",
      "Epoch 128: 100%|████████| 97/97 [01:13<00:00,  1.31it/s, loss=0.00245]\n",
      "Epoch 129: 100%|████████| 97/97 [01:14<00:00,  1.31it/s, loss=0.00435]\n",
      "Epoch 130: 100%|████████| 97/97 [01:14<00:00,  1.31it/s, loss=0.00393]\n",
      "Epoch 131: 100%|█████████| 97/97 [01:14<00:00,  1.31it/s, loss=0.0031]\n",
      "Epoch 132: 100%|████████| 97/97 [01:13<00:00,  1.31it/s, loss=0.00241]\n",
      "Epoch 133: 100%|█████████| 97/97 [01:14<00:00,  1.31it/s, loss=0.0032]\n",
      "Epoch 134: 100%|████████| 97/97 [01:14<00:00,  1.31it/s, loss=0.00255]\n",
      "Epoch 135: 100%|████████| 97/97 [01:14<00:00,  1.31it/s, loss=0.00315]\n",
      "Epoch 136: 100%|████████| 97/97 [01:15<00:00,  1.29it/s, loss=0.00352]\n",
      "Epoch 137: 100%|████████| 97/97 [01:14<00:00,  1.31it/s, loss=0.00245]\n",
      "Epoch 138: 100%|████████| 97/97 [01:14<00:00,  1.31it/s, loss=0.00301]\n",
      "Epoch 139: 100%|████████| 97/97 [01:14<00:00,  1.31it/s, loss=0.00411]\n",
      "Epoch 140: 100%|████████| 97/97 [01:14<00:00,  1.31it/s, loss=0.00247]\n",
      "Epoch 141: 100%|████████| 97/97 [01:14<00:00,  1.29it/s, loss=0.00238]\n",
      "Epoch 142: 100%|████████| 97/97 [01:14<00:00,  1.31it/s, loss=0.00269]\n",
      "Epoch 143: 100%|████████| 97/97 [01:14<00:00,  1.31it/s, loss=0.00374]\n",
      "Epoch 144: 100%|████████| 97/97 [01:14<00:00,  1.31it/s, loss=0.00252]\n",
      "Epoch 145: 100%|████████| 97/97 [01:14<00:00,  1.31it/s, loss=0.00443]\n",
      "Epoch 146: 100%|████████| 97/97 [01:14<00:00,  1.31it/s, loss=0.00534]\n",
      "Epoch 147: 100%|████████| 97/97 [01:13<00:00,  1.31it/s, loss=0.00356]\n",
      "Epoch 148: 100%|████████| 97/97 [01:14<00:00,  1.31it/s, loss=0.00262]\n",
      "Epoch 149: 100%|████████| 97/97 [01:13<00:00,  1.31it/s, loss=0.00305]\n",
      "100%|██████████████████████████████████████████████████████████████████████████████████████████████████████████████████████████████████████████████████████████████████████████████████████| 1000/1000 [01:12<00:00, 13.85it/s]\n"
     ]
    },
    {
     "data": {
      "image/png": "[encoded data removed]",
      "text/plain": [
       "<Figure size 200x200 with 1 Axes>"
      ]
     },
     "metadata": {},
     "output_type": "display_data"
    },
    {
     "name": "stdout",
     "output_type": "stream",
     "text": [
      "train completed, total time: 11627.830752849579.\n"
     ]
    }
   ],
   "source": [
    "n_epochs = 150\n",
    "val_interval = 25\n",
    "epoch_loss_list = []\n",
    "val_epoch_loss_list = []\n",
    "\n",
    "scaler = GradScaler()\n",
    "total_start = time.time()\n",
    "for epoch in range(n_epochs):\n",
    "    model.train()\n",
    "    epoch_loss = 0\n",
    "    progress_bar = tqdm(enumerate(train_loader), total=len(train_loader), ncols=70)\n",
    "    progress_bar.set_description(f\"Epoch {epoch}\")\n",
    "    for step, batch in progress_bar:\n",
    "        images = batch[\"image\"].to(device)\n",
    "        optimizer.zero_grad(set_to_none=True)\n",
    "\n",
    "        with autocast(enabled=True):\n",
    "            # Generate random noise\n",
    "            noise = torch.randn_like(images).to(device)\n",
    "\n",
    "            # Create timesteps\n",
    "            timesteps = torch.randint(\n",
    "                0, inferer.scheduler.num_train_timesteps, (images.shape[0],), device=images.device\n",
    "            ).long()\n",
    "\n",
    "            # Get model prediction\n",
    "            noise_pred = inferer(inputs=images, diffusion_model=model, noise=noise, timesteps=timesteps)\n",
    "\n",
    "            loss = F.mse_loss(noise_pred.float(), noise.float())\n",
    "\n",
    "        scaler.scale(loss).backward()\n",
    "        scaler.step(optimizer)\n",
    "        scaler.update()\n",
    "\n",
    "        epoch_loss += loss.item()\n",
    "\n",
    "        progress_bar.set_postfix({\"loss\": epoch_loss / (step + 1)})\n",
    "    epoch_loss_list.append(epoch_loss / (step + 1))\n",
    "\n",
    "    if (epoch + 1) % val_interval == 0:\n",
    "        model.eval()\n",
    "        val_epoch_loss = 0\n",
    "        for step, batch in enumerate(val_loader):\n",
    "            images = batch[\"image\"].to(device)\n",
    "            noise = torch.randn_like(images).to(device)\n",
    "            with torch.no_grad():\n",
    "                with autocast(enabled=True):\n",
    "                    timesteps = torch.randint(\n",
    "                        0, inferer.scheduler.num_train_timesteps, (images.shape[0],), device=images.device\n",
    "                    ).long()\n",
    "\n",
    "                    # Get model prediction\n",
    "                    noise_pred = inferer(inputs=images, diffusion_model=model, noise=noise, timesteps=timesteps)\n",
    "                    val_loss = F.mse_loss(noise_pred.float(), noise.float())\n",
    "\n",
    "            val_epoch_loss += val_loss.item()\n",
    "            progress_bar.set_postfix({\"val_loss\": val_epoch_loss / (step + 1)})\n",
    "        val_epoch_loss_list.append(val_epoch_loss / (step + 1))\n",
    "\n",
    "        # Sampling image during training\n",
    "        image = torch.randn((1, 1, 32, 48, 32))\n",
    "        image = image.to(device)\n",
    "        scheduler.set_timesteps(num_inference_steps=1000)\n",
    "        with autocast(enabled=True):\n",
    "            image = inferer.sample(input_noise=image, diffusion_model=model, scheduler=scheduler)\n",
    "\n",
    "        plt.figure(figsize=(2, 2))\n",
    "        plt.imshow(image[0, 0, :, :, 15].cpu(), vmin=0, vmax=1, cmap=\"gray\")\n",
    "        plt.tight_layout()\n",
    "        plt.axis(\"off\")\n",
    "        plt.show()\n",
    "\n",
    "total_time = time.time() - total_start\n",
    "print(f\"train completed, total time: {total_time}.\")"
   ]
  },
  {
   "cell_type": "markdown",
   "id": "3e263b67",
   "metadata": {},
   "source": [
    "### Learning curves"
   ]
  },
  {
   "cell_type": "code",
   "execution_count": 10,
   "id": "c7520419",
   "metadata": {
    "lines_to_next_cell": 2
   },
   "outputs": [
    {
     "data": {
      "image/png": "[encoded data removed]",
      "text/plain": [
       "<Figure size 800x550 with 1 Axes>"
      ]
     },
     "metadata": {},
     "output_type": "display_data"
    }
   ],
   "source": [
    "plt.style.use(\"seaborn-v0_8\")\n",
    "plt.title(\"Learning Curves\", fontsize=20)\n",
    "plt.plot(np.linspace(1, n_epochs, n_epochs), epoch_loss_list, color=\"C0\", linewidth=2.0, label=\"Train\")\n",
    "plt.plot(\n",
    "    np.linspace(val_interval, n_epochs, int(n_epochs / val_interval)),\n",
    "    val_epoch_loss_list,\n",
    "    color=\"C1\",\n",
    "    linewidth=2.0,\n",
    "    label=\"Validation\",\n",
    ")\n",
    "plt.yticks(fontsize=12)\n",
    "plt.xticks(fontsize=12)\n",
    "plt.xlabel(\"Epochs\", fontsize=16)\n",
    "plt.ylabel(\"Loss\", fontsize=16)\n",
    "plt.legend(prop={\"size\": 14})\n",
    "plt.show()"
   ]
  },
  {
   "cell_type": "markdown",
   "id": "38724c9b",
   "metadata": {},
   "source": [
    "### Plotting synthetic sample"
   ]
  },
  {
   "cell_type": "code",
   "execution_count": 13,
   "id": "092eb6a0",
   "metadata": {
    "lines_to_next_cell": 2
   },
   "outputs": [
    {
     "name": "stderr",
     "output_type": "stream",
     "text": [
      "100%|██████████████████████████████████████████████████████████████████████████████████████████████████████████████████████████████████████████████████████████████████████████████████████| 1000/1000 [04:18<00:00,  3.87it/s]\n"
     ]
    }
   ],
   "source": [
    "model.eval()\n",
    "noise = torch.randn((1, 1, 32, 48, 32))\n",
    "noise = noise.to(device)\n",
    "scheduler.set_timesteps(num_inference_steps=1000)\n",
    "image = inferer.sample(input_noise=noise, diffusion_model=model, scheduler=scheduler)"
   ]
  },
  {
   "cell_type": "code",
   "execution_count": 14,
   "id": "5dc3e69d",
   "metadata": {},
   "outputs": [
    {
     "data": {
      "image/png": "[encoded data removed]",
      "text/plain": [
       "<Figure size 640x480 with 1 Axes>"
      ]
     },
     "metadata": {},
     "output_type": "display_data"
    }
   ],
   "source": [
    "plt.style.use(\"default\")\n",
    "plotting_image_0 = np.concatenate([image[0, 0, :, :, 15].cpu(), np.flipud(image[0, 0, :, 24, :].cpu().T)], axis=1)\n",
    "plotting_image_1 = np.concatenate([np.flipud(image[0, 0, 15, :, :].cpu().T), np.zeros((32, 32))], axis=1)\n",
    "plt.imshow(np.concatenate([plotting_image_0, plotting_image_1], axis=0), vmin=0, vmax=1, cmap=\"gray\")\n",
    "plt.tight_layout()\n",
    "plt.axis(\"off\")\n",
    "plt.show()"
   ]
  },
  {
   "cell_type": "code",
   "execution_count": null,
   "id": "e3e43b95",
   "metadata": {},
   "outputs": [],
   "source": []
  }
 ],
 "metadata": {
  "jupytext": {
   "formats": "py:percent,ipynb"
  },
  "kernelspec": {
   "display_name": "Python 3 (ipykernel)",
   "language": "python",
   "name": "python3"
  },
  "language_info": {
   "codemirror_mode": {
    "name": "ipython",
    "version": 3
   },
   "file_extension": ".py",
   "mimetype": "text/x-python",
   "name": "python",
   "nbconvert_exporter": "python",
   "pygments_lexer": "ipython3",
   "version": "3.10.6"
  }
 },
 "nbformat": 4,
 "nbformat_minor": 5
}
