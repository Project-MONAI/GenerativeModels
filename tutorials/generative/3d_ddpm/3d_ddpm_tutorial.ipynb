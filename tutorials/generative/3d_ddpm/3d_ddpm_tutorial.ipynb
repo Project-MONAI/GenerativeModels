{
 "cells": [
  {
   "cell_type": "markdown",
   "id": "6286986e",
   "metadata": {},
   "source": [
    "# Denoising Diffusion Probabilistic Model on 3D data\n",
    "\n",
    "This tutorial illustrates how to use MONAI for training a denoising diffusion probabilistic model (DDPM)[1] to create synthetic 3D images.\n",
    "\n",
    "[1] - [Ho et al. \"Denoising Diffusion Probabilistic Models\"](https://arxiv.org/abs/2006.11239)\n",
    "\n",
    "TODO: Add Open in Colab\n",
    "\n",
    "## Setup environment"
   ]
  },
  {
   "cell_type": "code",
   "execution_count": 1,
   "id": "f96b6f31",
   "metadata": {},
   "outputs": [],
   "source": [
    "!python -c \"import matplotlib\" || pip install -q matplotlib\n",
    "%matplotlib inline"
   ]
  },
  {
   "cell_type": "markdown",
   "id": "cbc01d24",
   "metadata": {},
   "source": [
    "## Setup imports"
   ]
  },
  {
   "cell_type": "code",
   "execution_count": 2,
   "id": "cdea37d5",
   "metadata": {},
   "outputs": [
    {
     "name": "stderr",
     "output_type": "stream",
     "text": [
      "/media/walter/Storage/Projects/GenerativeModels/venv/lib/python3.10/site-packages/tqdm/auto.py:22: TqdmWarning: IProgress not found. Please update jupyter and ipywidgets. See https://ipywidgets.readthedocs.io/en/stable/user_install.html\n",
      "  from .autonotebook import tqdm as notebook_tqdm\n"
     ]
    },
    {
     "name": "stdout",
     "output_type": "stream",
     "text": [
      "MONAI version: 1.2.dev2304\n",
      "Numpy version: 1.23.5\n",
      "Pytorch version: 1.13.1+cu117\n",
      "MONAI flags: HAS_EXT = False, USE_COMPILED = False, USE_META_DICT = False\n",
      "MONAI rev id: 9a57be5aab9f2c2a134768c0c146399150e247a0\n",
      "MONAI __file__: /media/walter/Storage/Projects/GenerativeModels/venv/lib/python3.10/site-packages/monai/__init__.py\n",
      "\n",
      "Optional dependencies:\n",
      "Pytorch Ignite version: 0.4.10\n",
      "ITK version: 5.3.0\n",
      "Nibabel version: 4.0.2\n",
      "scikit-image version: 0.19.3\n",
      "Pillow version: 9.3.0\n",
      "Tensorboard version: 2.11.0\n",
      "gdown version: 4.6.0\n",
      "TorchVision version: 0.14.1+cu117\n",
      "tqdm version: 4.64.1\n",
      "lmdb version: 1.4.0\n",
      "psutil version: 5.9.4\n",
      "pandas version: 1.5.3\n",
      "einops version: 0.6.0\n",
      "transformers version: 4.21.3\n",
      "mlflow version: 2.1.1\n",
      "pynrrd version: 1.0.0\n",
      "\n",
      "For details about installing the optional dependencies, please visit:\n",
      "    https://docs.monai.io/en/latest/installation.html#installing-the-recommended-dependencies\n",
      "\n"
     ]
    }
   ],
   "source": [
    "# Copyright 2020 MONAI Consortium\n",
    "# Licensed under the Apache License, Version 2.0 (the \"License\");\n",
    "# you may not use this file except in compliance with the License.\n",
    "# You may obtain a copy of the License at\n",
    "#     http://www.apache.org/licenses/LICENSE-2.0\n",
    "# Unless required by applicable law or agreed to in writing, software\n",
    "# distributed under the License is distributed on an \"AS IS\" BASIS,\n",
    "# WITHOUT WARRANTIES OR CONDITIONS OF ANY KIND, either express or implied.\n",
    "# See the License for the specific language governing permissions and\n",
    "# limitations under the License.\n",
    "\n",
    "import os\n",
    "import tempfile\n",
    "import time\n",
    "\n",
    "import matplotlib.pyplot as plt\n",
    "import numpy as np\n",
    "import torch\n",
    "import torch.nn.functional as F\n",
    "from monai.apps import DecathlonDataset\n",
    "from monai.config import print_config\n",
    "from monai.data import DataLoader\n",
    "from monai.transforms import AddChanneld, CenterSpatialCropd, Compose, Lambdad, LoadImaged, Resized, ScaleIntensityd\n",
    "from monai.utils import set_determinism\n",
    "from torch.cuda.amp import GradScaler, autocast\n",
    "from tqdm import tqdm\n",
    "\n",
    "from generative.inferers import DiffusionInferer\n",
    "\n",
    "# TODO: Add right import reference after deployed\n",
    "from generative.networks.nets import DiffusionModelUNet\n",
    "from generative.networks.schedulers import DDPMScheduler\n",
    "\n",
    "print_config()"
   ]
  },
  {
   "cell_type": "markdown",
   "id": "50e37a43",
   "metadata": {},
   "source": [
    "## Setup data directory\n",
    "\n",
    "You can specify a directory with the MONAI_DATA_DIRECTORY environment variable.\n",
    "\n",
    "This allows you to save results and reuse downloads.\n",
    "\n",
    "If not specified a temporary directory will be used."
   ]
  },
  {
   "cell_type": "code",
   "execution_count": 3,
   "id": "c38b4c33",
   "metadata": {},
   "outputs": [
    {
     "name": "stdout",
     "output_type": "stream",
     "text": [
      "/tmp/tmpk32kv7za\n"
     ]
    }
   ],
   "source": [
    "directory = os.environ.get(\"MONAI_DATA_DIRECTORY\")\n",
    "root_dir = tempfile.mkdtemp() if directory is None else directory\n",
    "print(root_dir)"
   ]
  },
  {
   "cell_type": "markdown",
   "id": "41af1391",
   "metadata": {},
   "source": [
    "## Set deterministic training for reproducibility"
   ]
  },
  {
   "cell_type": "code",
   "execution_count": 4,
   "id": "515d8583",
   "metadata": {},
   "outputs": [],
   "source": [
    "set_determinism(0)"
   ]
  },
  {
   "cell_type": "markdown",
   "id": "29d8c601",
   "metadata": {},
   "source": [
    "## Setup Decathlon Dataset and training and validation dataloaders"
   ]
  },
  {
   "cell_type": "code",
   "execution_count": 5,
   "id": "f640d7ac",
   "metadata": {},
   "outputs": [
    {
     "name": "stderr",
     "output_type": "stream",
     "text": [
      "<class 'monai.transforms.utility.array.AddChannel'>: Class `AddChannel` has been deprecated since version 0.8. please use MetaTensor data type and monai.transforms.EnsureChannelFirst instead.\n"
     ]
    }
   ],
   "source": [
    "train_transform = Compose(\n",
    "    [\n",
    "        LoadImaged(keys=[\"image\"]),\n",
    "        Lambdad(keys=\"image\", func=lambda x: x[:, :, :, 1]),\n",
    "        AddChanneld(keys=[\"image\"]),\n",
    "        ScaleIntensityd(keys=[\"image\"]),\n",
    "        CenterSpatialCropd(keys=[\"image\"], roi_size=[176, 224, 155]),\n",
    "        Resized(keys=[\"image\"], spatial_size=(32, 48, 32)),\n",
    "    ]\n",
    ")\n",
    "\n",
    "val_transform = Compose(\n",
    "    [\n",
    "        LoadImaged(keys=[\"image\"]),\n",
    "        Lambdad(keys=\"image\", func=lambda x: x[:, :, :, 1]),\n",
    "        AddChanneld(keys=[\"image\"]),\n",
    "        ScaleIntensityd(keys=[\"image\"]),\n",
    "        CenterSpatialCropd(keys=[\"image\"], roi_size=[176, 224, 155]),\n",
    "        Resized(keys=[\"image\"], spatial_size=(32, 48, 32)),\n",
    "    ]\n",
    ")"
   ]
  },
  {
   "cell_type": "code",
   "execution_count": 6,
   "id": "ddd61e60",
   "metadata": {
    "lines_to_next_cell": 2
   },
   "outputs": [
    {
     "name": "stderr",
     "output_type": "stream",
     "text": [
      "Task01_BrainTumour.tar: 7.09GB [06:45, 18.8MB/s]                                                                                                                                                                               "
     ]
    },
    {
     "name": "stdout",
     "output_type": "stream",
     "text": [
      "2023-02-26 14:41:20,822 - INFO - Downloaded: /tmp/tmpk32kv7za/Task01_BrainTumour.tar\n"
     ]
    },
    {
     "name": "stderr",
     "output_type": "stream",
     "text": [
      "\n"
     ]
    },
    {
     "name": "stdout",
     "output_type": "stream",
     "text": [
      "2023-02-26 14:41:28,972 - INFO - Verified 'Task01_BrainTumour.tar', md5: 240a19d752f0d9e9101544901065d872.\n",
      "2023-02-26 14:41:28,973 - INFO - Writing into directory: /tmp/tmpk32kv7za.\n"
     ]
    },
    {
     "name": "stderr",
     "output_type": "stream",
     "text": [
      "Loading dataset: 100%|███████████████████████████████████████████████████████████████████████████████████████████████████████████████████████████████████████████████████████████████████████| 388/388 [03:32<00:00,  1.82it/s]\n"
     ]
    },
    {
     "name": "stdout",
     "output_type": "stream",
     "text": [
      "2023-02-26 14:45:14,070 - INFO - Verified 'Task01_BrainTumour.tar', md5: 240a19d752f0d9e9101544901065d872.\n",
      "2023-02-26 14:45:14,071 - INFO - File exists: /tmp/tmpk32kv7za/Task01_BrainTumour.tar, skipped downloading.\n",
      "2023-02-26 14:45:14,071 - INFO - Non-empty folder exists in /tmp/tmpk32kv7za/Task01_BrainTumour, skipped extracting.\n"
     ]
    },
    {
     "name": "stderr",
     "output_type": "stream",
     "text": [
      "Loading dataset: 100%|█████████████████████████████████████████████████████████████████████████████████████████████████████████████████████████████████████████████████████████████████████████| 96/96 [00:53<00:00,  1.79it/s]\n"
     ]
    }
   ],
   "source": [
    "train_ds = DecathlonDataset(\n",
    "    root_dir=root_dir, task=\"Task01_BrainTumour\", transform=train_transform, section=\"training\", download=True\n",
    ")\n",
    "\n",
    "train_loader = DataLoader(train_ds, batch_size=16, shuffle=True, num_workers=8)\n",
    "\n",
    "val_ds = DecathlonDataset(\n",
    "    root_dir=root_dir, task=\"Task01_BrainTumour\", transform=val_transform, section=\"validation\", download=True\n",
    ")\n",
    "\n",
    "val_loader = DataLoader(val_ds, batch_size=16, shuffle=False, num_workers=8)"
   ]
  },
  {
   "cell_type": "markdown",
   "id": "50efe5ef",
   "metadata": {},
   "source": [
    "### Visualization of the training images"
   ]
  },
  {
   "cell_type": "code",
   "execution_count": 7,
   "id": "bffb4abc",
   "metadata": {},
   "outputs": [
    {
     "data": {
      "image/png": "[encoded data removed]",
      "text/plain": [
       "<Figure size 1000x600 with 4 Axes>"
      ]
     },
     "metadata": {},
     "output_type": "display_data"
    }
   ],
   "source": [
    "plt.subplots(1, 4, figsize=(10, 6))\n",
    "for i in range(4):\n",
    "    plt.subplot(1, 4, i + 1)\n",
    "    plt.imshow(train_ds[i * 20][\"image\"][0, :, :, 15].detach().cpu(), vmin=0, vmax=1, cmap=\"gray\")\n",
    "    plt.axis(\"off\")\n",
    "plt.tight_layout()\n",
    "plt.show()"
   ]
  },
  {
   "cell_type": "markdown",
   "id": "d22296e5",
   "metadata": {},
   "source": [
    "### Define network, scheduler, optimizer, and inferer"
   ]
  },
  {
   "cell_type": "code",
   "execution_count": 8,
   "id": "d499f7b1",
   "metadata": {
    "lines_to_next_cell": 2
   },
   "outputs": [],
   "source": [
    "device = torch.device(\"cuda\")\n",
    "\n",
    "model = DiffusionModelUNet(\n",
    "    spatial_dims=3,\n",
    "    in_channels=1,\n",
    "    out_channels=1,\n",
    "    num_channels=[128, 128, 256, 256],\n",
    "    attention_levels=[False, False, False, True],\n",
    "    num_head_channels=[128, 128, 256, 256],\n",
    "    num_res_blocks=1,\n",
    ")\n",
    "model.to(device)\n",
    "\n",
    "scheduler = DDPMScheduler(num_train_timesteps=1000, beta_schedule=\"scaled_linear\", beta_start=0.0015, beta_end=0.0195)\n",
    "\n",
    "inferer = DiffusionInferer(scheduler)\n",
    "\n",
    "optimizer = torch.optim.Adam(params=model.parameters(), lr=2.5e-5)"
   ]
  },
  {
   "cell_type": "markdown",
   "id": "9f371ad8",
   "metadata": {},
   "source": [
    "### Model training"
   ]
  },
  {
   "cell_type": "code",
   "execution_count": 9,
   "id": "bd10b595",
   "metadata": {
    "lines_to_next_cell": 0
   },
   "outputs": [
    {
     "name": "stderr",
     "output_type": "stream",
     "text": [
      "Epoch 0: 100%|████████████| 25/25 [00:15<00:00,  1.58it/s, loss=0.831]\n",
      "Epoch 1: 100%|████████████| 25/25 [00:15<00:00,  1.63it/s, loss=0.493]\n",
      "Epoch 2: 100%|████████████| 25/25 [00:15<00:00,  1.61it/s, loss=0.266]\n",
      "Epoch 3: 100%|████████████| 25/25 [00:15<00:00,  1.62it/s, loss=0.134]\n",
      "Epoch 4: 100%|███████████| 25/25 [00:15<00:00,  1.61it/s, loss=0.0661]\n",
      "Epoch 5: 100%|███████████| 25/25 [00:15<00:00,  1.61it/s, loss=0.0354]\n",
      "Epoch 6: 100%|███████████| 25/25 [00:15<00:00,  1.60it/s, loss=0.0192]\n",
      "Epoch 7: 100%|███████████| 25/25 [00:15<00:00,  1.60it/s, loss=0.0105]\n",
      "Epoch 8: 100%|███████████| 25/25 [00:15<00:00,  1.59it/s, loss=0.0127]\n",
      "Epoch 9: 100%|██████████| 25/25 [00:15<00:00,  1.59it/s, loss=0.00628]\n",
      "Epoch 10: 100%|█████████| 25/25 [00:15<00:00,  1.59it/s, loss=0.00678]\n",
      "Epoch 11: 100%|██████████| 25/25 [00:15<00:00,  1.58it/s, loss=0.0072]\n",
      "Epoch 12: 100%|█████████| 25/25 [00:15<00:00,  1.58it/s, loss=0.00624]\n",
      "Epoch 13: 100%|██████████| 25/25 [00:15<00:00,  1.58it/s, loss=0.0047]\n",
      "Epoch 14: 100%|█████████| 25/25 [00:15<00:00,  1.58it/s, loss=0.00454]\n",
      "Epoch 15: 100%|█████████| 25/25 [00:15<00:00,  1.58it/s, loss=0.00513]\n",
      "Epoch 16: 100%|█████████| 25/25 [00:15<00:00,  1.57it/s, loss=0.00485]\n",
      "Epoch 17: 100%|█████████| 25/25 [00:15<00:00,  1.57it/s, loss=0.00379]\n",
      "Epoch 18: 100%|██████████| 25/25 [00:16<00:00,  1.56it/s, loss=0.0034]\n",
      "Epoch 19: 100%|█████████| 25/25 [00:15<00:00,  1.57it/s, loss=0.00517]\n",
      "Epoch 20: 100%|█████████| 25/25 [00:15<00:00,  1.57it/s, loss=0.00473]\n",
      "Epoch 21: 100%|█████████| 25/25 [00:15<00:00,  1.57it/s, loss=0.00386]\n",
      "Epoch 22: 100%|█████████| 25/25 [00:15<00:00,  1.57it/s, loss=0.00357]\n",
      "Epoch 23: 100%|█████████| 25/25 [00:15<00:00,  1.57it/s, loss=0.00323]\n",
      "Epoch 24: 100%|██████████| 25/25 [00:15<00:00,  1.56it/s, loss=0.0038]\n",
      "100%|██████████████████████████████████████████████████████████████████████████████████████████████████████████████████████████████████████████████████████████████████████████████████████| 1000/1000 [00:20<00:00, 48.99it/s]\n"
     ]
    },
    {
     "data": {
      "image/png": "[encoded data removed]",
      "text/plain": [
       "<Figure size 200x200 with 1 Axes>"
      ]
     },
     "metadata": {},
     "output_type": "display_data"
    },
    {
     "name": "stderr",
     "output_type": "stream",
     "text": [
      "Epoch 25: 100%|███████████| 25/25 [00:16<00:00,  1.56it/s, loss=0.003]\n",
      "Epoch 26: 100%|██████████| 25/25 [00:16<00:00,  1.54it/s, loss=0.0033]\n",
      "Epoch 27: 100%|█████████| 25/25 [00:15<00:00,  1.56it/s, loss=0.00257]\n",
      "Epoch 28: 100%|█████████| 25/25 [00:16<00:00,  1.52it/s, loss=0.00345]\n",
      "Epoch 29: 100%|█████████| 25/25 [00:16<00:00,  1.56it/s, loss=0.00292]\n",
      "Epoch 30: 100%|█████████| 25/25 [00:16<00:00,  1.55it/s, loss=0.00274]\n",
      "Epoch 31: 100%|█████████| 25/25 [00:16<00:00,  1.55it/s, loss=0.00334]\n",
      "Epoch 32: 100%|█████████| 25/25 [00:16<00:00,  1.55it/s, loss=0.00296]\n",
      "Epoch 33: 100%|██████████| 25/25 [00:16<00:00,  1.55it/s, loss=0.0028]\n",
      "Epoch 34: 100%|█████████| 25/25 [00:16<00:00,  1.56it/s, loss=0.00289]\n",
      "Epoch 35: 100%|█████████| 25/25 [00:16<00:00,  1.56it/s, loss=0.00243]\n",
      "Epoch 36: 100%|█████████| 25/25 [00:16<00:00,  1.56it/s, loss=0.00341]\n",
      "Epoch 37: 100%|█████████| 25/25 [00:16<00:00,  1.56it/s, loss=0.00235]\n",
      "Epoch 38: 100%|█████████| 25/25 [00:16<00:00,  1.56it/s, loss=0.00242]\n",
      "Epoch 39: 100%|█████████| 25/25 [00:16<00:00,  1.56it/s, loss=0.00258]\n",
      "Epoch 40: 100%|██████████| 25/25 [00:16<00:00,  1.56it/s, loss=0.0023]\n",
      "Epoch 41: 100%|█████████| 25/25 [00:15<00:00,  1.57it/s, loss=0.00243]\n",
      "Epoch 42: 100%|█████████| 25/25 [00:16<00:00,  1.56it/s, loss=0.00233]\n",
      "Epoch 43: 100%|█████████| 25/25 [00:15<00:00,  1.57it/s, loss=0.00254]\n",
      "Epoch 44: 100%|█████████| 25/25 [00:15<00:00,  1.56it/s, loss=0.00266]\n",
      "Epoch 45: 100%|█████████| 25/25 [00:15<00:00,  1.56it/s, loss=0.00234]\n",
      "Epoch 46: 100%|█████████| 25/25 [00:15<00:00,  1.57it/s, loss=0.00193]\n",
      "Epoch 47: 100%|█████████| 25/25 [00:15<00:00,  1.56it/s, loss=0.00262]\n",
      "Epoch 48: 100%|█████████| 25/25 [00:15<00:00,  1.56it/s, loss=0.00291]\n",
      "Epoch 49: 100%|█████████| 25/25 [00:15<00:00,  1.57it/s, loss=0.00224]\n",
      "100%|██████████████████████████████████████████████████████████████████████████████████████████████████████████████████████████████████████████████████████████████████████████████████████| 1000/1000 [00:20<00:00, 49.17it/s]\n"
     ]
    },
    {
     "data": {
      "image/png": "[encoded data removed]",
      "text/plain": [
       "<Figure size 200x200 with 1 Axes>"
      ]
     },
     "metadata": {},
     "output_type": "display_data"
    },
    {
     "name": "stderr",
     "output_type": "stream",
     "text": [
      "Epoch 50: 100%|█████████| 25/25 [00:15<00:00,  1.56it/s, loss=0.00205]\n",
      "Epoch 51: 100%|██████████| 25/25 [00:15<00:00,  1.57it/s, loss=0.0023]\n",
      "Epoch 52: 100%|█████████| 25/25 [00:15<00:00,  1.56it/s, loss=0.00365]\n",
      "Epoch 53: 100%|█████████| 25/25 [00:15<00:00,  1.57it/s, loss=0.00247]\n",
      "Epoch 54: 100%|█████████| 25/25 [00:15<00:00,  1.56it/s, loss=0.00286]\n",
      "Epoch 55: 100%|█████████| 25/25 [00:16<00:00,  1.55it/s, loss=0.00221]\n",
      "Epoch 56: 100%|█████████| 25/25 [00:15<00:00,  1.56it/s, loss=0.00232]\n",
      "Epoch 57: 100%|█████████| 25/25 [00:15<00:00,  1.57it/s, loss=0.00312]\n",
      "Epoch 58: 100%|█████████| 25/25 [00:15<00:00,  1.56it/s, loss=0.00266]\n",
      "Epoch 59: 100%|█████████| 25/25 [00:15<00:00,  1.57it/s, loss=0.00224]\n",
      "Epoch 60: 100%|█████████| 25/25 [00:15<00:00,  1.57it/s, loss=0.00201]\n",
      "Epoch 61: 100%|█████████| 25/25 [00:15<00:00,  1.57it/s, loss=0.00213]\n",
      "Epoch 62: 100%|█████████| 25/25 [00:15<00:00,  1.56it/s, loss=0.00255]\n",
      "Epoch 63: 100%|█████████| 25/25 [00:15<00:00,  1.56it/s, loss=0.00208]\n",
      "Epoch 64: 100%|██████████| 25/25 [00:15<00:00,  1.57it/s, loss=0.0017]\n",
      "Epoch 65: 100%|█████████| 25/25 [00:15<00:00,  1.57it/s, loss=0.00194]\n",
      "Epoch 66: 100%|█████████| 25/25 [00:16<00:00,  1.56it/s, loss=0.00162]\n",
      "Epoch 67: 100%|██████████| 25/25 [00:15<00:00,  1.57it/s, loss=0.0015]\n",
      "Epoch 68: 100%|█████████| 25/25 [00:16<00:00,  1.56it/s, loss=0.00171]\n",
      "Epoch 69: 100%|█████████| 25/25 [00:15<00:00,  1.56it/s, loss=0.00203]\n",
      "Epoch 70: 100%|█████████| 25/25 [00:15<00:00,  1.57it/s, loss=0.00164]\n",
      "Epoch 71: 100%|█████████| 25/25 [00:15<00:00,  1.56it/s, loss=0.00183]\n",
      "Epoch 72: 100%|█████████| 25/25 [00:15<00:00,  1.57it/s, loss=0.00226]\n",
      "Epoch 73: 100%|██████████| 25/25 [00:15<00:00,  1.56it/s, loss=0.0018]\n",
      "Epoch 74: 100%|█████████| 25/25 [00:15<00:00,  1.56it/s, loss=0.00177]\n",
      "100%|██████████████████████████████████████████████████████████████████████████████████████████████████████████████████████████████████████████████████████████████████████████████████████| 1000/1000 [00:20<00:00, 49.03it/s]\n"
     ]
    },
    {
     "data": {
      "image/png": "[encoded data removed]",
      "text/plain": [
       "<Figure size 200x200 with 1 Axes>"
      ]
     },
     "metadata": {},
     "output_type": "display_data"
    },
    {
     "name": "stderr",
     "output_type": "stream",
     "text": [
      "Epoch 75: 100%|█████████| 25/25 [00:15<00:00,  1.57it/s, loss=0.00202]\n",
      "Epoch 76: 100%|█████████| 25/25 [00:15<00:00,  1.56it/s, loss=0.00163]\n",
      "Epoch 77: 100%|█████████| 25/25 [00:16<00:00,  1.56it/s, loss=0.00276]\n",
      "Epoch 78: 100%|█████████| 25/25 [00:15<00:00,  1.56it/s, loss=0.00201]\n",
      "Epoch 79: 100%|██████████| 25/25 [00:15<00:00,  1.56it/s, loss=0.0025]\n",
      "Epoch 80: 100%|█████████| 25/25 [00:16<00:00,  1.56it/s, loss=0.00238]\n",
      "Epoch 81: 100%|█████████| 25/25 [00:16<00:00,  1.55it/s, loss=0.00199]\n",
      "Epoch 82: 100%|█████████| 25/25 [00:15<00:00,  1.56it/s, loss=0.00223]\n",
      "Epoch 83: 100%|█████████| 25/25 [00:15<00:00,  1.56it/s, loss=0.00222]\n",
      "Epoch 84: 100%|█████████| 25/25 [00:15<00:00,  1.56it/s, loss=0.00185]\n",
      "Epoch 85: 100%|█████████| 25/25 [00:15<00:00,  1.56it/s, loss=0.00213]\n",
      "Epoch 86: 100%|█████████| 25/25 [00:15<00:00,  1.56it/s, loss=0.00242]\n",
      "Epoch 87: 100%|█████████| 25/25 [00:15<00:00,  1.56it/s, loss=0.00208]\n",
      "Epoch 88: 100%|█████████| 25/25 [00:15<00:00,  1.56it/s, loss=0.00228]\n",
      "Epoch 89: 100%|█████████| 25/25 [00:16<00:00,  1.56it/s, loss=0.00189]\n",
      "Epoch 90: 100%|█████████| 25/25 [00:15<00:00,  1.56it/s, loss=0.00175]\n",
      "Epoch 91: 100%|█████████| 25/25 [00:15<00:00,  1.56it/s, loss=0.00224]\n",
      "Epoch 92: 100%|█████████| 25/25 [00:16<00:00,  1.56it/s, loss=0.00193]\n",
      "Epoch 93: 100%|██████████| 25/25 [00:15<00:00,  1.57it/s, loss=0.0018]\n",
      "Epoch 94: 100%|█████████| 25/25 [00:16<00:00,  1.55it/s, loss=0.00167]\n",
      "Epoch 95: 100%|█████████| 25/25 [00:15<00:00,  1.57it/s, loss=0.00145]\n",
      "Epoch 96: 100%|█████████| 25/25 [00:15<00:00,  1.57it/s, loss=0.00163]\n",
      "Epoch 97: 100%|█████████| 25/25 [00:15<00:00,  1.56it/s, loss=0.00166]\n",
      "Epoch 98: 100%|█████████| 25/25 [00:16<00:00,  1.56it/s, loss=0.00141]\n",
      "Epoch 99: 100%|█████████| 25/25 [00:15<00:00,  1.56it/s, loss=0.00139]\n",
      "100%|██████████████████████████████████████████████████████████████████████████████████████████████████████████████████████████████████████████████████████████████████████████████████████| 1000/1000 [00:20<00:00, 49.35it/s]\n"
     ]
    },
    {
     "data": {
      "image/png": "[encoded data removed]",
      "text/plain": [
       "<Figure size 200x200 with 1 Axes>"
      ]
     },
     "metadata": {},
     "output_type": "display_data"
    },
    {
     "name": "stderr",
     "output_type": "stream",
     "text": [
      "Epoch 100: 100%|████████| 25/25 [00:15<00:00,  1.57it/s, loss=0.00231]\n",
      "Epoch 101: 100%|████████| 25/25 [00:15<00:00,  1.57it/s, loss=0.00168]\n",
      "Epoch 102: 100%|████████| 25/25 [00:15<00:00,  1.56it/s, loss=0.00145]\n",
      "Epoch 103: 100%|████████| 25/25 [00:15<00:00,  1.56it/s, loss=0.00213]\n",
      "Epoch 104: 100%|████████| 25/25 [00:16<00:00,  1.56it/s, loss=0.00258]\n",
      "Epoch 105: 100%|████████| 25/25 [00:15<00:00,  1.56it/s, loss=0.00173]\n",
      "Epoch 106: 100%|████████| 25/25 [00:16<00:00,  1.56it/s, loss=0.00139]\n",
      "Epoch 107: 100%|████████| 25/25 [00:16<00:00,  1.55it/s, loss=0.00158]\n",
      "Epoch 108: 100%|████████| 25/25 [00:16<00:00,  1.56it/s, loss=0.00249]\n",
      "Epoch 109: 100%|████████| 25/25 [00:15<00:00,  1.56it/s, loss=0.00179]\n",
      "Epoch 110: 100%|████████| 25/25 [00:15<00:00,  1.56it/s, loss=0.00206]\n",
      "Epoch 111: 100%|████████| 25/25 [00:15<00:00,  1.56it/s, loss=0.00151]\n",
      "Epoch 112: 100%|█████████| 25/25 [00:16<00:00,  1.56it/s, loss=0.0019]\n",
      "Epoch 113: 100%|████████| 25/25 [00:15<00:00,  1.56it/s, loss=0.00235]\n",
      "Epoch 114: 100%|████████| 25/25 [00:16<00:00,  1.56it/s, loss=0.00207]\n",
      "Epoch 115: 100%|████████| 25/25 [00:16<00:00,  1.56it/s, loss=0.00266]\n",
      "Epoch 116: 100%|████████| 25/25 [00:15<00:00,  1.56it/s, loss=0.00258]\n",
      "Epoch 117: 100%|████████| 25/25 [00:16<00:00,  1.56it/s, loss=0.00305]\n",
      "Epoch 118: 100%|████████| 25/25 [00:15<00:00,  1.57it/s, loss=0.00162]\n",
      "Epoch 119: 100%|████████| 25/25 [00:15<00:00,  1.56it/s, loss=0.00176]\n",
      "Epoch 120: 100%|█████████| 25/25 [00:16<00:00,  1.55it/s, loss=0.0019]\n",
      "Epoch 121: 100%|████████| 25/25 [00:15<00:00,  1.57it/s, loss=0.00147]\n",
      "Epoch 122: 100%|████████| 25/25 [00:16<00:00,  1.56it/s, loss=0.00175]\n",
      "Epoch 123: 100%|████████| 25/25 [00:15<00:00,  1.57it/s, loss=0.00146]\n",
      "Epoch 124: 100%|████████| 25/25 [00:15<00:00,  1.57it/s, loss=0.00189]\n",
      "100%|██████████████████████████████████████████████████████████████████████████████████████████████████████████████████████████████████████████████████████████████████████████████████████| 1000/1000 [00:20<00:00, 48.74it/s]\n"
     ]
    },
    {
     "data": {
      "image/png": "[encoded data removed]",
      "text/plain": [
       "<Figure size 200x200 with 1 Axes>"
      ]
     },
     "metadata": {},
     "output_type": "display_data"
    },
    {
     "name": "stderr",
     "output_type": "stream",
     "text": [
      "Epoch 125: 100%|████████| 25/25 [00:15<00:00,  1.56it/s, loss=0.00151]\n",
      "Epoch 126: 100%|████████| 25/25 [00:15<00:00,  1.57it/s, loss=0.00166]\n",
      "Epoch 127: 100%|████████| 25/25 [00:15<00:00,  1.56it/s, loss=0.00247]\n",
      "Epoch 128: 100%|██████████| 25/25 [00:16<00:00,  1.56it/s, loss=0.002]\n",
      "Epoch 129: 100%|████████| 25/25 [00:15<00:00,  1.56it/s, loss=0.00221]\n",
      "Epoch 130: 100%|████████| 25/25 [00:15<00:00,  1.56it/s, loss=0.00157]\n",
      "Epoch 131: 100%|████████| 25/25 [00:15<00:00,  1.56it/s, loss=0.00168]\n",
      "Epoch 132: 100%|████████| 25/25 [00:16<00:00,  1.56it/s, loss=0.00215]\n",
      "Epoch 133: 100%|████████| 25/25 [00:15<00:00,  1.56it/s, loss=0.00182]\n",
      "Epoch 134: 100%|████████| 25/25 [00:16<00:00,  1.56it/s, loss=0.00166]\n",
      "Epoch 135: 100%|████████| 25/25 [00:15<00:00,  1.56it/s, loss=0.00208]\n",
      "Epoch 136: 100%|████████| 25/25 [00:16<00:00,  1.56it/s, loss=0.00151]\n",
      "Epoch 137: 100%|████████| 25/25 [00:15<00:00,  1.56it/s, loss=0.00196]\n",
      "Epoch 138: 100%|█████████| 25/25 [00:15<00:00,  1.56it/s, loss=0.0018]\n",
      "Epoch 139: 100%|████████| 25/25 [00:15<00:00,  1.56it/s, loss=0.00153]\n",
      "Epoch 140: 100%|████████| 25/25 [00:15<00:00,  1.57it/s, loss=0.00209]\n",
      "Epoch 141: 100%|████████| 25/25 [00:15<00:00,  1.57it/s, loss=0.00153]\n",
      "Epoch 142: 100%|████████| 25/25 [00:15<00:00,  1.57it/s, loss=0.00129]\n",
      "Epoch 143: 100%|████████| 25/25 [00:16<00:00,  1.56it/s, loss=0.00165]\n",
      "Epoch 144: 100%|████████| 25/25 [00:16<00:00,  1.56it/s, loss=0.00173]\n",
      "Epoch 145: 100%|████████| 25/25 [00:15<00:00,  1.57it/s, loss=0.00125]\n",
      "Epoch 146: 100%|████████| 25/25 [00:15<00:00,  1.57it/s, loss=0.00216]\n",
      "Epoch 147: 100%|█████████| 25/25 [00:15<00:00,  1.57it/s, loss=0.0011]\n",
      "Epoch 148: 100%|████████| 25/25 [00:16<00:00,  1.55it/s, loss=0.00161]\n",
      "Epoch 149: 100%|████████| 25/25 [00:15<00:00,  1.56it/s, loss=0.00154]\n",
      "100%|██████████████████████████████████████████████████████████████████████████████████████████████████████████████████████████████████████████████████████████████████████████████████████| 1000/1000 [00:20<00:00, 48.85it/s]\n"
     ]
    },
    {
     "data": {
      "image/png": "[encoded data removed]",
      "text/plain": [
       "<Figure size 200x200 with 1 Axes>"
      ]
     },
     "metadata": {},
     "output_type": "display_data"
    },
    {
     "name": "stdout",
     "output_type": "stream",
     "text": [
      "train completed, total time: 2558.3661634922028.\n"
     ]
    }
   ],
   "source": [
    "n_epochs = 150\n",
    "val_interval = 25\n",
    "epoch_loss_list = []\n",
    "val_epoch_loss_list = []\n",
    "\n",
    "scaler = GradScaler()\n",
    "total_start = time.time()\n",
    "for epoch in range(n_epochs):\n",
    "    model.train()\n",
    "    epoch_loss = 0\n",
    "    progress_bar = tqdm(enumerate(train_loader), total=len(train_loader), ncols=70)\n",
    "    progress_bar.set_description(f\"Epoch {epoch}\")\n",
    "    for step, batch in progress_bar:\n",
    "        images = batch[\"image\"].to(device)\n",
    "        optimizer.zero_grad(set_to_none=True)\n",
    "\n",
    "        with autocast(enabled=True):\n",
    "            # Generate random noise\n",
    "            noise = torch.randn_like(images).to(device)\n",
    "\n",
    "            # Create timesteps\n",
    "            timesteps = torch.randint(\n",
    "                0, inferer.scheduler.num_train_timesteps, (images.shape[0],), device=images.device\n",
    "            ).long()\n",
    "\n",
    "            # Get model prediction\n",
    "            noise_pred = inferer(inputs=images, diffusion_model=model, noise=noise, timesteps=timesteps)\n",
    "\n",
    "            loss = F.mse_loss(noise_pred.float(), noise.float())\n",
    "\n",
    "        scaler.scale(loss).backward()\n",
    "        scaler.step(optimizer)\n",
    "        scaler.update()\n",
    "\n",
    "        epoch_loss += loss.item()\n",
    "\n",
    "        progress_bar.set_postfix({\"loss\": epoch_loss / (step + 1)})\n",
    "    epoch_loss_list.append(epoch_loss / (step + 1))\n",
    "\n",
    "    if (epoch + 1) % val_interval == 0:\n",
    "        model.eval()\n",
    "        val_epoch_loss = 0\n",
    "        for step, batch in enumerate(val_loader):\n",
    "            images = batch[\"image\"].to(device)\n",
    "            noise = torch.randn_like(images).to(device)\n",
    "            with torch.no_grad():\n",
    "                with autocast(enabled=True):\n",
    "                    timesteps = torch.randint(\n",
    "                        0, inferer.scheduler.num_train_timesteps, (images.shape[0],), device=images.device\n",
    "                    ).long()\n",
    "\n",
    "                    # Get model prediction\n",
    "                    noise_pred = inferer(inputs=images, diffusion_model=model, noise=noise, timesteps=timesteps)\n",
    "                    val_loss = F.mse_loss(noise_pred.float(), noise.float())\n",
    "\n",
    "            val_epoch_loss += val_loss.item()\n",
    "            progress_bar.set_postfix({\"val_loss\": val_epoch_loss / (step + 1)})\n",
    "        val_epoch_loss_list.append(val_epoch_loss / (step + 1))\n",
    "\n",
    "        # Sampling image during training\n",
    "        image = torch.randn((1, 1, 32, 48, 32))\n",
    "        image = image.to(device)\n",
    "        scheduler.set_timesteps(num_inference_steps=1000)\n",
    "        with autocast(enabled=True):\n",
    "            image = inferer.sample(input_noise=image, diffusion_model=model, scheduler=scheduler)\n",
    "\n",
    "        plt.figure(figsize=(2, 2))\n",
    "        plt.imshow(image[0, 0, :, :, 15].cpu(), vmin=0, vmax=1, cmap=\"gray\")\n",
    "        plt.tight_layout()\n",
    "        plt.axis(\"off\")\n",
    "        plt.show()\n",
    "\n",
    "total_time = time.time() - total_start\n",
    "print(f\"train completed, total time: {total_time}.\")"
   ]
  },
  {
   "cell_type": "markdown",
   "id": "3e263b67",
   "metadata": {},
   "source": [
    "### Learning curves"
   ]
  },
  {
   "cell_type": "code",
   "execution_count": 10,
   "id": "c7520419",
   "metadata": {
    "lines_to_next_cell": 2
   },
   "outputs": [
    {
     "data": {
      "image/png": "[encoded data removed]",
      "text/plain": [
       "<Figure size 800x550 with 1 Axes>"
      ]
     },
     "metadata": {},
     "output_type": "display_data"
    }
   ],
   "source": [
    "plt.style.use(\"seaborn-v0_8\")\n",
    "plt.title(\"Learning Curves\", fontsize=20)\n",
    "plt.plot(np.linspace(1, n_epochs, n_epochs), epoch_loss_list, color=\"C0\", linewidth=2.0, label=\"Train\")\n",
    "plt.plot(\n",
    "    np.linspace(val_interval, n_epochs, int(n_epochs / val_interval)),\n",
    "    val_epoch_loss_list,\n",
    "    color=\"C1\",\n",
    "    linewidth=2.0,\n",
    "    label=\"Validation\",\n",
    ")\n",
    "plt.yticks(fontsize=12)\n",
    "plt.xticks(fontsize=12)\n",
    "plt.xlabel(\"Epochs\", fontsize=16)\n",
    "plt.ylabel(\"Loss\", fontsize=16)\n",
    "plt.legend(prop={\"size\": 14})\n",
    "plt.show()"
   ]
  },
  {
   "cell_type": "markdown",
   "id": "38724c9b",
   "metadata": {},
   "source": [
    "### Plotting synthetic sample"
   ]
  },
  {
   "cell_type": "code",
   "execution_count": 11,
   "id": "092eb6a0",
   "metadata": {
    "lines_to_next_cell": 2
   },
   "outputs": [
    {
     "name": "stderr",
     "output_type": "stream",
     "text": [
      "100%|██████████████████████████████████████████████████████████████████████████████████████████████████████████████████████████████████████████████████████████████████████████████████████| 1000/1000 [00:51<00:00, 19.27it/s]\n"
     ]
    }
   ],
   "source": [
    "model.eval()\n",
    "noise = torch.randn((1, 1, 32, 48, 32))\n",
    "noise = noise.to(device)\n",
    "scheduler.set_timesteps(num_inference_steps=1000)\n",
    "image = inferer.sample(input_noise=noise, diffusion_model=model, scheduler=scheduler)"
   ]
  },
  {
   "cell_type": "code",
   "execution_count": 12,
   "id": "5dc3e69d",
   "metadata": {},
   "outputs": [
    {
     "data": {
      "image/png": "[encoded data removed]",
      "text/plain": [
       "<Figure size 640x480 with 1 Axes>"
      ]
     },
     "metadata": {},
     "output_type": "display_data"
    }
   ],
   "source": [
    "plt.style.use(\"default\")\n",
    "plotting_image_0 = np.concatenate([image[0, 0, :, :, 15].cpu(), np.flipud(image[0, 0, :, 24, :].cpu().T)], axis=1)\n",
    "plotting_image_1 = np.concatenate([np.flipud(image[0, 0, 15, :, :].cpu().T), np.zeros((32, 32))], axis=1)\n",
    "plt.imshow(np.concatenate([plotting_image_0, plotting_image_1], axis=0), cmap=\"gray\")\n",
    "plt.tight_layout()\n",
    "plt.axis(\"off\")\n",
    "plt.show()"
   ]
  },
  {
   "cell_type": "code",
   "execution_count": 13,
   "id": "9329ec38",
   "metadata": {},
   "outputs": [
    {
     "data": {
      "text/plain": [
       "tensor([[[[[-0.0118, -0.0161, -0.0204,  ..., -0.0177, -0.0213, -0.0121],\n",
       "           [-0.0221, -0.0141, -0.0138,  ..., -0.0157, -0.0150, -0.0172],\n",
       "           [-0.0207, -0.0173, -0.0138,  ..., -0.0152, -0.0128, -0.0035],\n",
       "           ...,\n",
       "           [-0.0197, -0.0170, -0.0155,  ..., -0.0220, -0.0165, -0.0158],\n",
       "           [-0.0122, -0.0134, -0.0122,  ..., -0.0125, -0.0143, -0.0174],\n",
       "           [-0.0097, -0.0158, -0.0132,  ..., -0.0090, -0.0218, -0.0054]],\n",
       "\n",
       "          [[-0.0135, -0.0153, -0.0159,  ..., -0.0154, -0.0136, -0.0122],\n",
       "           [-0.0202, -0.0044, -0.0154,  ..., -0.0104, -0.0127, -0.0237],\n",
       "           [-0.0146, -0.0061, -0.0209,  ..., -0.0099, -0.0035, -0.0175],\n",
       "           ...,\n",
       "           [-0.0141, -0.0155, -0.0132,  ..., -0.0117, -0.0034, -0.0124],\n",
       "           [-0.0151, -0.0135, -0.0084,  ..., -0.0099, -0.0103, -0.0147],\n",
       "           [-0.0154, -0.0138, -0.0188,  ..., -0.0135, -0.0183, -0.0186]],\n",
       "\n",
       "          [[-0.0140, -0.0153, -0.0128,  ..., -0.0140, -0.0157, -0.0100],\n",
       "           [-0.0080, -0.0141, -0.0195,  ..., -0.0190, -0.0130, -0.0143],\n",
       "           [-0.0109, -0.0158, -0.0169,  ..., -0.0086, -0.0183, -0.0083],\n",
       "           ...,\n",
       "           [-0.0169, -0.0170, -0.0210,  ..., -0.0166, -0.0115, -0.0055],\n",
       "           [-0.0139, -0.0102, -0.0239,  ..., -0.0054, -0.0090, -0.0142],\n",
       "           [-0.0142, -0.0163, -0.0141,  ..., -0.0292, -0.0181, -0.0136]],\n",
       "\n",
       "          ...,\n",
       "\n",
       "          [[-0.0163, -0.0123, -0.0178,  ..., -0.0183, -0.0132, -0.0167],\n",
       "           [-0.0114, -0.0064, -0.0112,  ..., -0.0125, -0.0078, -0.0170],\n",
       "           [-0.0226, -0.0162, -0.0194,  ..., -0.0125, -0.0053, -0.0162],\n",
       "           ...,\n",
       "           [-0.0061, -0.0163, -0.0128,  ..., -0.0163, -0.0257, -0.0110],\n",
       "           [-0.0109, -0.0073, -0.0129,  ..., -0.0172, -0.0035, -0.0134],\n",
       "           [-0.0187, -0.0208, -0.0168,  ..., -0.0154, -0.0192, -0.0203]],\n",
       "\n",
       "          [[-0.0140, -0.0088, -0.0152,  ..., -0.0193, -0.0113, -0.0151],\n",
       "           [-0.0126, -0.0144, -0.0108,  ..., -0.0057, -0.0083, -0.0140],\n",
       "           [-0.0204, -0.0089, -0.0156,  ..., -0.0183, -0.0147, -0.0155],\n",
       "           ...,\n",
       "           [-0.0176, -0.0158, -0.0191,  ..., -0.0175, -0.0069, -0.0122],\n",
       "           [-0.0103, -0.0158, -0.0040,  ..., -0.0104, -0.0180, -0.0171],\n",
       "           [-0.0099, -0.0032, -0.0117,  ..., -0.0122, -0.0135, -0.0179]],\n",
       "\n",
       "          [[ 0.0144, -0.0134, -0.0216,  ..., -0.0157, -0.0157, -0.0201],\n",
       "           [-0.0065, -0.0194, -0.0155,  ..., -0.0205, -0.0168, -0.0207],\n",
       "           [-0.0139, -0.0150, -0.0128,  ..., -0.0134, -0.0197, -0.0205],\n",
       "           ...,\n",
       "           [-0.0083, -0.0041, -0.0108,  ..., -0.0177, -0.0169, -0.0201],\n",
       "           [-0.0153, -0.0141, -0.0211,  ..., -0.0135, -0.0171, -0.0232],\n",
       "           [-0.0652, -0.0062, -0.0201,  ..., -0.0215, -0.0135, -0.0569]]]]],\n",
       "       device='cuda:0')"
      ]
     },
     "execution_count": 13,
     "metadata": {},
     "output_type": "execute_result"
    }
   ],
   "source": [
    "image"
   ]
  }
 ],
 "metadata": {
  "jupytext": {
   "formats": "py:percent,ipynb"
  },
  "kernelspec": {
   "display_name": "Python 3 (ipykernel)",
   "language": "python",
   "name": "python3"
  },
  "language_info": {
   "codemirror_mode": {
    "name": "ipython",
    "version": 3
   },
   "file_extension": ".py",
   "mimetype": "text/x-python",
   "name": "python",
   "nbconvert_exporter": "python",
   "pygments_lexer": "ipython3",
   "version": "3.10.6"
  }
 },
 "nbformat": 4,
 "nbformat_minor": 5
}
