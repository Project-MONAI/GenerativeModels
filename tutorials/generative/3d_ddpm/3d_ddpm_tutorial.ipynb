{
 "cells": [
  {
   "cell_type": "markdown",
   "id": "6286986e",
   "metadata": {},
   "source": [
    "# Denoising Diffusion Probabilistic Model on 3D data\n",
    "\n",
    "This tutorial illustrates how to use MONAI for training a denoising diffusion probabilistic model (DDPM)[1] to create synthetic 3D images.\n",
    "\n",
    "[1] - [Ho et al. \"Denoising Diffusion Probabilistic Models\"](https://arxiv.org/abs/2006.11239)\n",
    "\n",
    "TODO: Add Open in Colab\n",
    "\n",
    "## Setup environment"
   ]
  },
  {
   "cell_type": "code",
   "execution_count": 1,
   "id": "f96b6f31",
   "metadata": {},
   "outputs": [],
   "source": [
    "!python -c \"import monai\" || pip install -q \"monai-weekly[gdown, nibabel, tqdm, ignite]\"\n",
    "!python -c \"import matplotlib\" || pip install -q matplotlib\n",
    "%matplotlib inline"
   ]
  },
  {
   "cell_type": "markdown",
   "id": "cbc01d24",
   "metadata": {},
   "source": [
    "## Setup imports"
   ]
  },
  {
   "cell_type": "code",
   "execution_count": 14,
   "id": "cdea37d5",
   "metadata": {},
   "outputs": [
    {
     "name": "stdout",
     "output_type": "stream",
     "text": [
      "MONAI version: 1.1.dev2248\n",
      "Numpy version: 1.23.3\n",
      "Pytorch version: 1.8.0+cu111\n",
      "MONAI flags: HAS_EXT = False, USE_COMPILED = False, USE_META_DICT = False\n",
      "MONAI rev id: 3400bd91422ccba9ccc3aa2ffe7fecd4eb5596bf\n",
      "MONAI __file__: /media/walter/Storage/Projects/GenerativeModels/venv/lib/python3.8/site-packages/monai/__init__.py\n",
      "\n",
      "Optional dependencies:\n",
      "Pytorch Ignite version: 0.4.10\n",
      "Nibabel version: 4.0.2\n",
      "scikit-image version: NOT INSTALLED or UNKNOWN VERSION.\n",
      "Pillow version: 9.2.0\n",
      "Tensorboard version: 2.11.0\n",
      "gdown version: NOT INSTALLED or UNKNOWN VERSION.\n",
      "TorchVision version: 0.9.0+cu111\n",
      "tqdm version: 4.64.1\n",
      "lmdb version: NOT INSTALLED or UNKNOWN VERSION.\n",
      "psutil version: 5.9.3\n",
      "pandas version: NOT INSTALLED or UNKNOWN VERSION.\n",
      "einops version: 0.6.0\n",
      "transformers version: NOT INSTALLED or UNKNOWN VERSION.\n",
      "mlflow version: NOT INSTALLED or UNKNOWN VERSION.\n",
      "pynrrd version: NOT INSTALLED or UNKNOWN VERSION.\n",
      "\n",
      "For details about installing the optional dependencies, please visit:\n",
      "    https://docs.monai.io/en/latest/installation.html#installing-the-recommended-dependencies\n",
      "\n"
     ]
    }
   ],
   "source": [
    "# Copyright 2020 MONAI Consortium\n",
    "# Licensed under the Apache License, Version 2.0 (the \"License\");\n",
    "# you may not use this file except in compliance with the License.\n",
    "# You may obtain a copy of the License at\n",
    "#     http://www.apache.org/licenses/LICENSE-2.0\n",
    "# Unless required by applicable law or agreed to in writing, software\n",
    "# distributed under the License is distributed on an \"AS IS\" BASIS,\n",
    "# WITHOUT WARRANTIES OR CONDITIONS OF ANY KIND, either express or implied.\n",
    "# See the License for the specific language governing permissions and\n",
    "# limitations under the License.\n",
    "\n",
    "import os\n",
    "import tempfile\n",
    "import time\n",
    "\n",
    "import matplotlib.pyplot as plt\n",
    "import numpy as np\n",
    "import torch\n",
    "import torch.nn.functional as F\n",
    "from monai.apps import DecathlonDataset\n",
    "from monai.config import print_config\n",
    "from monai.data import DataLoader\n",
    "from monai.transforms import AddChanneld, CenterSpatialCropd, Compose, Lambdad, LoadImaged, Resized, ScaleIntensityd\n",
    "from monai.utils import set_determinism\n",
    "from torch.cuda.amp import GradScaler, autocast\n",
    "from tqdm import tqdm\n",
    "\n",
    "from generative.inferers import DiffusionInferer\n",
    "\n",
    "# TODO: Add right import reference after deployed\n",
    "from generative.networks.nets import DiffusionModelUNet\n",
    "from generative.networks.schedulers import DDPMScheduler\n",
    "\n",
    "print_config()"
   ]
  },
  {
   "cell_type": "markdown",
   "id": "50e37a43",
   "metadata": {},
   "source": [
    "## Setup data directory\n",
    "\n",
    "You can specify a directory with the MONAI_DATA_DIRECTORY environment variable.\n",
    "\n",
    "This allows you to save results and reuse downloads.\n",
    "\n",
    "If not specified a temporary directory will be used."
   ]
  },
  {
   "cell_type": "code",
   "execution_count": 4,
   "id": "c38b4c33",
   "metadata": {},
   "outputs": [
    {
     "name": "stdout",
     "output_type": "stream",
     "text": [
      "/tmp/tmplnn_oq6n\n"
     ]
    }
   ],
   "source": [
    "directory = os.environ.get(\"MONAI_DATA_DIRECTORY\")\n",
    "root_dir = tempfile.mkdtemp() if directory is None else directory\n",
    "print(root_dir)"
   ]
  },
  {
   "cell_type": "markdown",
   "id": "41af1391",
   "metadata": {},
   "source": [
    "## Set deterministic training for reproducibility"
   ]
  },
  {
   "cell_type": "code",
   "execution_count": 5,
   "id": "515d8583",
   "metadata": {},
   "outputs": [],
   "source": [
    "set_determinism(0)"
   ]
  },
  {
   "cell_type": "markdown",
   "id": "29d8c601",
   "metadata": {},
   "source": [
    "## Setup Decathlon Dataset and training and validation dataloaders"
   ]
  },
  {
   "cell_type": "code",
   "execution_count": 15,
   "id": "f640d7ac",
   "metadata": {},
   "outputs": [],
   "source": [
    "train_transform = Compose(\n",
    "    [\n",
    "        LoadImaged(keys=[\"image\"]),\n",
    "        Lambdad(keys=\"image\", func=lambda x: x[:, :, :, 1]),\n",
    "        AddChanneld(keys=[\"image\"]),\n",
    "        ScaleIntensityd(keys=[\"image\"]),\n",
    "        CenterSpatialCropd(keys=[\"image\"], roi_size=[176, 224, 155]),\n",
    "        Resized(keys=[\"image\"], spatial_size=(32, 48, 32)),\n",
    "    ]\n",
    ")\n",
    "\n",
    "val_transform = Compose(\n",
    "    [\n",
    "        LoadImaged(keys=[\"image\"]),\n",
    "        Lambdad(keys=\"image\", func=lambda x: x[:, :, :, 1]),\n",
    "        AddChanneld(keys=[\"image\"]),\n",
    "        ScaleIntensityd(keys=[\"image\"]),\n",
    "        CenterSpatialCropd(keys=[\"image\"], roi_size=[176, 224, 155]),\n",
    "        Resized(keys=[\"image\"], spatial_size=(32, 48, 32)),\n",
    "    ]\n",
    ")"
   ]
  },
  {
   "cell_type": "code",
   "execution_count": 16,
   "id": "ddd61e60",
   "metadata": {
    "lines_to_next_cell": 2
   },
   "outputs": [
    {
     "name": "stdout",
     "output_type": "stream",
     "text": [
      "2022-11-28 14:36:36,241 - INFO - Verified 'Task01_BrainTumour.tar', md5: 240a19d752f0d9e9101544901065d872.\n",
      "2022-11-28 14:36:36,242 - INFO - File exists: /tmp/tmplnn_oq6n/Task01_BrainTumour.tar, skipped downloading.\n",
      "2022-11-28 14:36:36,242 - INFO - Non-empty folder exists in /tmp/tmplnn_oq6n/Task01_BrainTumour, skipped extracting.\n"
     ]
    },
    {
     "name": "stderr",
     "output_type": "stream",
     "text": [
      "Loading dataset: 100%|████████████████████████████████████████████████████████████████████████████████████████████████████████████████████████████████████████████████████████████████████████| 388/388 [03:39<00:00,  1.77it/s]\n"
     ]
    },
    {
     "name": "stdout",
     "output_type": "stream",
     "text": [
      "2022-11-28 14:40:23,825 - INFO - Verified 'Task01_BrainTumour.tar', md5: 240a19d752f0d9e9101544901065d872.\n",
      "2022-11-28 14:40:23,825 - INFO - File exists: /tmp/tmplnn_oq6n/Task01_BrainTumour.tar, skipped downloading.\n",
      "2022-11-28 14:40:23,826 - INFO - Non-empty folder exists in /tmp/tmplnn_oq6n/Task01_BrainTumour, skipped extracting.\n"
     ]
    },
    {
     "name": "stderr",
     "output_type": "stream",
     "text": [
      "Loading dataset: 100%|██████████████████████████████████████████████████████████████████████████████████████████████████████████████████████████████████████████████████████████████████████████| 96/96 [00:53<00:00,  1.80it/s]\n"
     ]
    }
   ],
   "source": [
    "train_ds = DecathlonDataset(\n",
    "    root_dir=root_dir,\n",
    "    task=\"Task01_BrainTumour\",\n",
    "    transform=train_transform,\n",
    "    section=\"training\",\n",
    "    download=True,\n",
    ")\n",
    "\n",
    "train_loader = DataLoader(train_ds, batch_size=16, shuffle=True, num_workers=8)\n",
    "\n",
    "val_ds = DecathlonDataset(\n",
    "    root_dir=root_dir,\n",
    "    task=\"Task01_BrainTumour\",\n",
    "    transform=val_transform,\n",
    "    section=\"validation\",\n",
    "    download=True,\n",
    ")\n",
    "\n",
    "val_loader = DataLoader(val_ds, batch_size=16, shuffle=False, num_workers=8)"
   ]
  },
  {
   "cell_type": "markdown",
   "id": "50efe5ef",
   "metadata": {},
   "source": [
    "### Visualization of the training images"
   ]
  },
  {
   "cell_type": "code",
   "execution_count": 24,
   "id": "bffb4abc",
   "metadata": {},
   "outputs": [
    {
     "data": {
      "image/png": "[encoded data removed]",
      "text/plain": [
       "<Figure size 1000x600 with 4 Axes>"
      ]
     },
     "metadata": {},
     "output_type": "display_data"
    }
   ],
   "source": [
    "plt.subplots(1, 4, figsize=(10, 6))\n",
    "for i in range(4):\n",
    "    plt.subplot(1, 4, i + 1)\n",
    "    plt.imshow(train_ds[i * 20][\"image\"][0, :, :, 15].detach().cpu(), vmin=0, vmax=1, cmap=\"gray\")\n",
    "    plt.axis(\"off\")\n",
    "plt.tight_layout()\n",
    "plt.show()"
   ]
  },
  {
   "cell_type": "markdown",
   "id": "d22296e5",
   "metadata": {},
   "source": [
    "### Define network, scheduler, optimizer, and inferer"
   ]
  },
  {
   "cell_type": "code",
   "execution_count": 8,
   "id": "d499f7b1",
   "metadata": {
    "lines_to_next_cell": 2
   },
   "outputs": [],
   "source": [
    "device = torch.device(\"cuda\")\n",
    "\n",
    "model = DiffusionModelUNet(\n",
    "    spatial_dims=3,\n",
    "    in_channels=1,\n",
    "    out_channels=1,\n",
    "    model_channels=128,\n",
    "    attention_resolutions=[8],\n",
    "    num_res_blocks=1,\n",
    "    channel_mult=[1, 1, 2, 2],\n",
    "    num_heads=1,\n",
    ")\n",
    "model.to(device)\n",
    "\n",
    "scheduler = DDPMScheduler(\n",
    "    num_train_timesteps=1000,\n",
    ")\n",
    "\n",
    "inferer = DiffusionInferer(scheduler)\n",
    "\n",
    "optimizer = torch.optim.Adam(params=model.parameters(), lr=2.5e-5)"
   ]
  },
  {
   "cell_type": "markdown",
   "id": "9f371ad8",
   "metadata": {},
   "source": [
    "### Model training"
   ]
  },
  {
   "cell_type": "code",
   "execution_count": 9,
   "id": "bd10b595",
   "metadata": {
    "lines_to_next_cell": 0
   },
   "outputs": [
    {
     "name": "stderr",
     "output_type": "stream",
     "text": [
      "Epoch 0: 100%|████████████| 25/25 [00:57<00:00,  2.29s/it, loss=0.836]\n",
      "Epoch 1: 100%|████████████| 25/25 [00:58<00:00,  2.34s/it, loss=0.505]\n",
      "Epoch 2: 100%|████████████| 25/25 [00:59<00:00,  2.37s/it, loss=0.279]\n",
      "Epoch 3: 100%|████████████| 25/25 [00:59<00:00,  2.39s/it, loss=0.145]\n",
      "Epoch 4: 100%|███████████| 25/25 [01:00<00:00,  2.41s/it, loss=0.0792]\n",
      "Epoch 5: 100%|███████████| 25/25 [01:00<00:00,  2.42s/it, loss=0.0471]\n",
      "Epoch 6: 100%|███████████| 25/25 [01:00<00:00,  2.43s/it, loss=0.0272]\n",
      "Epoch 7: 100%|███████████| 25/25 [01:01<00:00,  2.44s/it, loss=0.0175]\n",
      "Epoch 8: 100%|███████████| 25/25 [01:01<00:00,  2.45s/it, loss=0.0166]\n",
      "Epoch 9: 100%|███████████| 25/25 [01:00<00:00,  2.44s/it, loss=0.0107]\n",
      "Epoch 10: 100%|██████████| 25/25 [01:00<00:00,  2.43s/it, loss=0.0129]\n",
      "Epoch 11: 100%|██████████| 25/25 [01:00<00:00,  2.42s/it, loss=0.0123]\n",
      "Epoch 12: 100%|██████████| 25/25 [01:00<00:00,  2.42s/it, loss=0.0108]\n",
      "Epoch 13: 100%|█████████| 25/25 [01:00<00:00,  2.42s/it, loss=0.00742]\n",
      "Epoch 14: 100%|█████████| 25/25 [01:00<00:00,  2.41s/it, loss=0.00805]\n",
      "Epoch 15: 100%|█████████| 25/25 [01:00<00:00,  2.42s/it, loss=0.00876]\n",
      "Epoch 16: 100%|█████████| 25/25 [01:00<00:00,  2.42s/it, loss=0.00957]\n",
      "Epoch 17: 100%|█████████| 25/25 [01:00<00:00,  2.42s/it, loss=0.00693]\n",
      "Epoch 18: 100%|█████████| 25/25 [01:00<00:00,  2.42s/it, loss=0.00775]\n",
      "Epoch 19: 100%|█████████| 25/25 [01:00<00:00,  2.42s/it, loss=0.00958]\n",
      "Epoch 20: 100%|█████████| 25/25 [01:00<00:00,  2.42s/it, loss=0.00941]\n",
      "Epoch 21: 100%|█████████| 25/25 [01:00<00:00,  2.42s/it, loss=0.00811]\n",
      "Epoch 22: 100%|█████████| 25/25 [01:00<00:00,  2.42s/it, loss=0.00768]\n",
      "Epoch 23: 100%|█████████| 25/25 [01:00<00:00,  2.42s/it, loss=0.00656]\n",
      "Epoch 24: 100%|██████████| 25/25 [01:00<00:00,  2.42s/it, loss=0.0071]\n",
      "Epoch 25: 100%|█████████| 25/25 [01:00<00:00,  2.42s/it, loss=0.00618]\n",
      "Epoch 26: 100%|█████████| 25/25 [01:00<00:00,  2.42s/it, loss=0.00562]\n",
      "Epoch 27: 100%|█████████| 25/25 [01:00<00:00,  2.42s/it, loss=0.00616]\n",
      "Epoch 28: 100%|█████████| 25/25 [01:00<00:00,  2.42s/it, loss=0.00688]\n",
      "Epoch 29: 100%|█████████| 25/25 [01:00<00:00,  2.42s/it, loss=0.00486]\n",
      "Epoch 30: 100%|██████████| 25/25 [01:00<00:00,  2.41s/it, loss=0.0068]\n",
      "Epoch 31: 100%|█████████| 25/25 [01:00<00:00,  2.42s/it, loss=0.00633]\n",
      "Epoch 32: 100%|█████████| 25/25 [01:00<00:00,  2.41s/it, loss=0.00511]\n",
      "Epoch 33: 100%|█████████| 25/25 [01:00<00:00,  2.42s/it, loss=0.00679]\n",
      "Epoch 34: 100%|█████████| 25/25 [01:00<00:00,  2.42s/it, loss=0.00744]\n",
      "Epoch 35: 100%|█████████| 25/25 [01:00<00:00,  2.41s/it, loss=0.00519]\n",
      "Epoch 36: 100%|█████████| 25/25 [01:00<00:00,  2.42s/it, loss=0.00812]\n",
      "Epoch 37: 100%|█████████| 25/25 [01:00<00:00,  2.42s/it, loss=0.00405]\n",
      "Epoch 38: 100%|█████████| 25/25 [01:00<00:00,  2.42s/it, loss=0.00422]\n",
      "Epoch 39: 100%|██████████| 25/25 [01:00<00:00,  2.42s/it, loss=0.0056]\n",
      "Epoch 40: 100%|█████████| 25/25 [01:00<00:00,  2.41s/it, loss=0.00562]\n",
      "Epoch 41: 100%|█████████| 25/25 [01:00<00:00,  2.42s/it, loss=0.00488]\n",
      "Epoch 42: 100%|█████████| 25/25 [01:00<00:00,  2.42s/it, loss=0.00418]\n",
      "Epoch 43: 100%|█████████| 25/25 [01:00<00:00,  2.42s/it, loss=0.00366]\n",
      "Epoch 44: 100%|█████████| 25/25 [01:00<00:00,  2.42s/it, loss=0.00558]\n",
      "Epoch 45: 100%|█████████| 25/25 [01:00<00:00,  2.42s/it, loss=0.00472]\n",
      "Epoch 46: 100%|███████████| 25/25 [01:00<00:00,  2.42s/it, loss=0.004]\n",
      "Epoch 47: 100%|█████████| 25/25 [01:00<00:00,  2.42s/it, loss=0.00502]\n",
      "Epoch 48: 100%|█████████| 25/25 [01:00<00:00,  2.42s/it, loss=0.00601]\n",
      "Epoch 49: 100%|█████████| 25/25 [01:00<00:00,  2.42s/it, loss=0.00437]\n",
      "100%|███████████████████████████████████████████████████████████████████████████████████████████████████████████████████████████████████████████████████████████████████████████████████████| 1000/1000 [11:40<00:00,  1.43it/s]\n"
     ]
    },
    {
     "data": {
      "image/png": "[encoded data removed]",
      "text/plain": [
       "<Figure size 200x200 with 1 Axes>"
      ]
     },
     "metadata": {},
     "output_type": "display_data"
    },
    {
     "name": "stderr",
     "output_type": "stream",
     "text": [
      "Epoch 50: 100%|██████████| 25/25 [01:00<00:00,  2.41s/it, loss=0.0058]\n",
      "Epoch 51: 100%|█████████| 25/25 [01:00<00:00,  2.41s/it, loss=0.00548]\n",
      "Epoch 52: 100%|█████████| 25/25 [01:00<00:00,  2.41s/it, loss=0.00478]\n",
      "Epoch 53: 100%|█████████| 25/25 [01:00<00:00,  2.41s/it, loss=0.00551]\n",
      "Epoch 54: 100%|█████████| 25/25 [01:00<00:00,  2.41s/it, loss=0.00507]\n",
      "Epoch 55: 100%|█████████| 25/25 [01:00<00:00,  2.41s/it, loss=0.00476]\n",
      "Epoch 56: 100%|█████████| 25/25 [01:00<00:00,  2.41s/it, loss=0.00352]\n",
      "Epoch 57: 100%|██████████| 25/25 [01:00<00:00,  2.41s/it, loss=0.0032]\n",
      "Epoch 58: 100%|█████████| 25/25 [01:00<00:00,  2.41s/it, loss=0.00563]\n",
      "Epoch 59: 100%|█████████| 25/25 [01:00<00:00,  2.41s/it, loss=0.00578]\n",
      "Epoch 60: 100%|█████████| 25/25 [01:00<00:00,  2.41s/it, loss=0.00479]\n",
      "Epoch 61: 100%|█████████| 25/25 [01:00<00:00,  2.41s/it, loss=0.00442]\n",
      "Epoch 62: 100%|█████████| 25/25 [01:00<00:00,  2.41s/it, loss=0.00355]\n",
      "Epoch 63: 100%|█████████| 25/25 [01:00<00:00,  2.41s/it, loss=0.00429]\n",
      "Epoch 64: 100%|█████████| 25/25 [01:00<00:00,  2.41s/it, loss=0.00513]\n",
      "Epoch 65: 100%|█████████| 25/25 [01:00<00:00,  2.41s/it, loss=0.00441]\n",
      "Epoch 66: 100%|█████████| 25/25 [01:00<00:00,  2.41s/it, loss=0.00515]\n",
      "Epoch 67: 100%|█████████| 25/25 [01:00<00:00,  2.41s/it, loss=0.00267]\n",
      "Epoch 68: 100%|█████████| 25/25 [01:00<00:00,  2.41s/it, loss=0.00419]\n",
      "Epoch 69: 100%|█████████| 25/25 [01:00<00:00,  2.41s/it, loss=0.00413]\n",
      "Epoch 70: 100%|██████████| 25/25 [01:00<00:00,  2.41s/it, loss=0.0052]\n",
      "Epoch 71: 100%|█████████| 25/25 [01:00<00:00,  2.41s/it, loss=0.00692]\n",
      "Epoch 72: 100%|█████████| 25/25 [01:00<00:00,  2.41s/it, loss=0.00358]\n",
      "Epoch 73: 100%|█████████| 25/25 [01:00<00:00,  2.41s/it, loss=0.00305]\n",
      "Epoch 74: 100%|██████████| 25/25 [01:00<00:00,  2.41s/it, loss=0.0034]\n",
      "Epoch 75: 100%|█████████| 25/25 [01:00<00:00,  2.41s/it, loss=0.00442]\n",
      "Epoch 76: 100%|█████████| 25/25 [01:00<00:00,  2.41s/it, loss=0.00375]\n",
      "Epoch 77: 100%|█████████| 25/25 [01:00<00:00,  2.41s/it, loss=0.00544]\n",
      "Epoch 78: 100%|█████████| 25/25 [01:00<00:00,  2.41s/it, loss=0.00354]\n",
      "Epoch 79: 100%|█████████| 25/25 [01:00<00:00,  2.41s/it, loss=0.00489]\n",
      "Epoch 80: 100%|█████████| 25/25 [01:00<00:00,  2.41s/it, loss=0.00455]\n",
      "Epoch 81: 100%|█████████| 25/25 [01:00<00:00,  2.42s/it, loss=0.00292]\n",
      "Epoch 82: 100%|█████████| 25/25 [01:00<00:00,  2.41s/it, loss=0.00502]\n",
      "Epoch 83: 100%|█████████| 25/25 [01:00<00:00,  2.42s/it, loss=0.00357]\n",
      "Epoch 84: 100%|█████████| 25/25 [01:00<00:00,  2.42s/it, loss=0.00322]\n",
      "Epoch 85: 100%|█████████| 25/25 [01:00<00:00,  2.41s/it, loss=0.00324]\n",
      "Epoch 86: 100%|█████████| 25/25 [01:00<00:00,  2.41s/it, loss=0.00359]\n",
      "Epoch 87: 100%|█████████| 25/25 [01:00<00:00,  2.41s/it, loss=0.00408]\n",
      "Epoch 88: 100%|█████████| 25/25 [01:00<00:00,  2.41s/it, loss=0.00385]\n",
      "Epoch 89: 100%|█████████| 25/25 [01:00<00:00,  2.42s/it, loss=0.00403]\n",
      "Epoch 90: 100%|█████████| 25/25 [01:00<00:00,  2.42s/it, loss=0.00404]\n",
      "Epoch 91: 100%|█████████| 25/25 [01:00<00:00,  2.41s/it, loss=0.00334]\n",
      "Epoch 92: 100%|█████████| 25/25 [01:00<00:00,  2.41s/it, loss=0.00533]\n",
      "Epoch 93: 100%|█████████| 25/25 [01:00<00:00,  2.42s/it, loss=0.00594]\n",
      "Epoch 94: 100%|█████████| 25/25 [01:00<00:00,  2.42s/it, loss=0.00342]\n",
      "Epoch 95: 100%|█████████| 25/25 [01:00<00:00,  2.41s/it, loss=0.00352]\n",
      "Epoch 96: 100%|█████████| 25/25 [01:00<00:00,  2.41s/it, loss=0.00347]\n",
      "Epoch 97: 100%|█████████| 25/25 [01:00<00:00,  2.42s/it, loss=0.00421]\n",
      "Epoch 98: 100%|█████████| 25/25 [01:00<00:00,  2.41s/it, loss=0.00492]\n",
      "Epoch 99: 100%|█████████| 25/25 [01:00<00:00,  2.42s/it, loss=0.00235]\n",
      "100%|███████████████████████████████████████████████████████████████████████████████████████████████████████████████████████████████████████████████████████████████████████████████████████| 1000/1000 [11:40<00:00,  1.43it/s]\n"
     ]
    },
    {
     "data": {
      "image/png": "[encoded data removed]",
      "text/plain": [
       "<Figure size 200x200 with 1 Axes>"
      ]
     },
     "metadata": {},
     "output_type": "display_data"
    },
    {
     "name": "stderr",
     "output_type": "stream",
     "text": [
      "Epoch 100: 100%|████████| 25/25 [01:00<00:00,  2.42s/it, loss=0.00424]\n",
      "Epoch 101: 100%|████████| 25/25 [01:00<00:00,  2.42s/it, loss=0.00393]\n",
      "Epoch 102: 100%|████████| 25/25 [01:00<00:00,  2.42s/it, loss=0.00318]\n",
      "Epoch 103: 100%|████████| 25/25 [01:00<00:00,  2.42s/it, loss=0.00484]\n",
      "Epoch 104: 100%|████████| 25/25 [01:00<00:00,  2.42s/it, loss=0.00632]\n",
      "Epoch 105: 100%|████████| 25/25 [01:00<00:00,  2.42s/it, loss=0.00684]\n",
      "Epoch 106: 100%|████████| 25/25 [01:00<00:00,  2.42s/it, loss=0.00324]\n",
      "Epoch 107: 100%|████████| 25/25 [01:00<00:00,  2.41s/it, loss=0.00562]\n",
      "Epoch 108: 100%|████████| 25/25 [01:00<00:00,  2.41s/it, loss=0.00503]\n",
      "Epoch 109: 100%|████████| 25/25 [01:00<00:00,  2.41s/it, loss=0.00367]\n",
      "Epoch 110: 100%|████████| 25/25 [01:00<00:00,  2.41s/it, loss=0.00438]\n",
      "Epoch 111: 100%|████████| 25/25 [01:00<00:00,  2.42s/it, loss=0.00331]\n",
      "Epoch 112: 100%|████████| 25/25 [01:00<00:00,  2.41s/it, loss=0.00511]\n",
      "Epoch 113: 100%|█████████| 25/25 [01:00<00:00,  2.41s/it, loss=0.0031]\n",
      "Epoch 114: 100%|████████| 25/25 [01:00<00:00,  2.41s/it, loss=0.00622]\n",
      "Epoch 115: 100%|████████| 25/25 [01:00<00:00,  2.41s/it, loss=0.00327]\n",
      "Epoch 116: 100%|████████| 25/25 [01:00<00:00,  2.41s/it, loss=0.00508]\n",
      "Epoch 117: 100%|████████| 25/25 [01:00<00:00,  2.41s/it, loss=0.00662]\n",
      "Epoch 118: 100%|████████| 25/25 [01:00<00:00,  2.41s/it, loss=0.00366]\n",
      "Epoch 119: 100%|████████| 25/25 [01:00<00:00,  2.41s/it, loss=0.00303]\n",
      "Epoch 120: 100%|████████| 25/25 [01:00<00:00,  2.41s/it, loss=0.00387]\n",
      "Epoch 121: 100%|████████| 25/25 [01:00<00:00,  2.41s/it, loss=0.00322]\n",
      "Epoch 122: 100%|████████| 25/25 [01:00<00:00,  2.41s/it, loss=0.00455]\n",
      "Epoch 123: 100%|████████| 25/25 [01:00<00:00,  2.41s/it, loss=0.00363]\n",
      "Epoch 124: 100%|████████| 25/25 [01:00<00:00,  2.41s/it, loss=0.00339]\n",
      "Epoch 125: 100%|████████| 25/25 [01:00<00:00,  2.41s/it, loss=0.00274]\n",
      "Epoch 126: 100%|████████| 25/25 [01:00<00:00,  2.41s/it, loss=0.00358]\n",
      "Epoch 127: 100%|████████| 25/25 [01:00<00:00,  2.41s/it, loss=0.00445]\n",
      "Epoch 128: 100%|████████| 25/25 [01:00<00:00,  2.41s/it, loss=0.00413]\n",
      "Epoch 129: 100%|████████| 25/25 [01:00<00:00,  2.41s/it, loss=0.00432]\n",
      "Epoch 130: 100%|████████| 25/25 [01:00<00:00,  2.41s/it, loss=0.00384]\n",
      "Epoch 131: 100%|█████████| 25/25 [01:00<00:00,  2.41s/it, loss=0.0039]\n",
      "Epoch 132: 100%|████████| 25/25 [01:00<00:00,  2.41s/it, loss=0.00349]\n",
      "Epoch 133: 100%|████████| 25/25 [01:00<00:00,  2.41s/it, loss=0.00343]\n",
      "Epoch 134: 100%|████████| 25/25 [01:00<00:00,  2.41s/it, loss=0.00443]\n",
      "Epoch 135: 100%|█████████| 25/25 [01:00<00:00,  2.41s/it, loss=0.0028]\n",
      "Epoch 136: 100%|████████| 25/25 [01:00<00:00,  2.41s/it, loss=0.00284]\n",
      "Epoch 137: 100%|████████| 25/25 [01:00<00:00,  2.41s/it, loss=0.00312]\n",
      "Epoch 138: 100%|████████| 25/25 [01:00<00:00,  2.42s/it, loss=0.00356]\n",
      "Epoch 139: 100%|████████| 25/25 [01:00<00:00,  2.41s/it, loss=0.00404]\n",
      "Epoch 140: 100%|████████| 25/25 [01:00<00:00,  2.41s/it, loss=0.00249]\n",
      "Epoch 141: 100%|████████| 25/25 [01:00<00:00,  2.41s/it, loss=0.00366]\n",
      "Epoch 142: 100%|████████| 25/25 [01:00<00:00,  2.41s/it, loss=0.00258]\n",
      "Epoch 143: 100%|█████████| 25/25 [01:00<00:00,  2.41s/it, loss=0.0043]\n",
      "Epoch 144: 100%|████████| 25/25 [01:00<00:00,  2.41s/it, loss=0.00336]\n",
      "Epoch 145: 100%|████████| 25/25 [01:00<00:00,  2.41s/it, loss=0.00294]\n",
      "Epoch 146: 100%|██████████| 25/25 [01:00<00:00,  2.41s/it, loss=0.004]\n",
      "Epoch 147: 100%|████████| 25/25 [01:00<00:00,  2.41s/it, loss=0.00445]\n",
      "Epoch 148: 100%|████████| 25/25 [01:00<00:00,  2.41s/it, loss=0.00492]\n",
      "Epoch 149: 100%|████████| 25/25 [01:00<00:00,  2.41s/it, loss=0.00558]\n",
      "100%|███████████████████████████████████████████████████████████████████████████████████████████████████████████████████████████████████████████████████████████████████████████████████████| 1000/1000 [11:39<00:00,  1.43it/s]\n"
     ]
    },
    {
     "data": {
      "image/png": "[encoded data removed]",
      "text/plain": [
       "<Figure size 200x200 with 1 Axes>"
      ]
     },
     "metadata": {},
     "output_type": "display_data"
    },
    {
     "name": "stderr",
     "output_type": "stream",
     "text": [
      "Epoch 150: 100%|████████| 25/25 [01:00<00:00,  2.41s/it, loss=0.00472]\n",
      "Epoch 151: 100%|█████████| 25/25 [01:00<00:00,  2.41s/it, loss=0.0021]\n",
      "Epoch 152: 100%|████████| 25/25 [01:00<00:00,  2.42s/it, loss=0.00201]\n",
      "Epoch 153: 100%|████████| 25/25 [01:00<00:00,  2.41s/it, loss=0.00329]\n",
      "Epoch 154: 100%|████████| 25/25 [01:00<00:00,  2.41s/it, loss=0.00298]\n",
      "Epoch 155: 100%|████████| 25/25 [01:00<00:00,  2.41s/it, loss=0.00431]\n",
      "Epoch 156: 100%|████████| 25/25 [01:00<00:00,  2.41s/it, loss=0.00287]\n",
      "Epoch 157: 100%|█████████| 25/25 [01:00<00:00,  2.41s/it, loss=0.0027]\n",
      "Epoch 158: 100%|█████████| 25/25 [01:00<00:00,  2.42s/it, loss=0.0042]\n",
      "Epoch 159: 100%|████████| 25/25 [01:00<00:00,  2.41s/it, loss=0.00348]\n",
      "Epoch 160: 100%|█████████| 25/25 [01:00<00:00,  2.42s/it, loss=0.0036]\n",
      "Epoch 161: 100%|████████| 25/25 [01:00<00:00,  2.41s/it, loss=0.00447]\n",
      "Epoch 162: 100%|████████| 25/25 [01:00<00:00,  2.41s/it, loss=0.00388]\n",
      "Epoch 163: 100%|████████| 25/25 [01:00<00:00,  2.41s/it, loss=0.00272]\n",
      "Epoch 164: 100%|█████████| 25/25 [01:00<00:00,  2.42s/it, loss=0.0067]\n",
      "Epoch 165: 100%|████████| 25/25 [01:00<00:00,  2.41s/it, loss=0.00339]\n",
      "Epoch 166: 100%|████████| 25/25 [01:00<00:00,  2.42s/it, loss=0.00398]\n",
      "Epoch 167: 100%|████████| 25/25 [01:00<00:00,  2.41s/it, loss=0.00268]\n",
      "Epoch 168: 100%|████████| 25/25 [01:00<00:00,  2.41s/it, loss=0.00433]\n",
      "Epoch 169: 100%|█████████| 25/25 [01:00<00:00,  2.42s/it, loss=0.0033]\n",
      "Epoch 170: 100%|████████| 25/25 [01:00<00:00,  2.42s/it, loss=0.00299]\n",
      "Epoch 171: 100%|████████| 25/25 [01:00<00:00,  2.41s/it, loss=0.00389]\n",
      "Epoch 172: 100%|████████| 25/25 [01:00<00:00,  2.42s/it, loss=0.00417]\n",
      "Epoch 173: 100%|████████| 25/25 [01:00<00:00,  2.42s/it, loss=0.00322]\n",
      "Epoch 174: 100%|████████| 25/25 [01:00<00:00,  2.42s/it, loss=0.00202]\n",
      "Epoch 175: 100%|████████| 25/25 [01:00<00:00,  2.42s/it, loss=0.00368]\n",
      "Epoch 176: 100%|████████| 25/25 [01:00<00:00,  2.42s/it, loss=0.00476]\n",
      "Epoch 177: 100%|████████| 25/25 [01:00<00:00,  2.41s/it, loss=0.00273]\n",
      "Epoch 178: 100%|████████| 25/25 [01:00<00:00,  2.42s/it, loss=0.00343]\n",
      "Epoch 179: 100%|████████| 25/25 [01:00<00:00,  2.42s/it, loss=0.00233]\n",
      "Epoch 180: 100%|████████| 25/25 [01:00<00:00,  2.42s/it, loss=0.00397]\n",
      "Epoch 181: 100%|████████| 25/25 [01:00<00:00,  2.41s/it, loss=0.00288]\n",
      "Epoch 182: 100%|████████| 25/25 [01:00<00:00,  2.42s/it, loss=0.00424]\n",
      "Epoch 183: 100%|████████| 25/25 [01:00<00:00,  2.42s/it, loss=0.00272]\n",
      "Epoch 184: 100%|████████| 25/25 [01:00<00:00,  2.41s/it, loss=0.00545]\n",
      "Epoch 185: 100%|████████| 25/25 [01:00<00:00,  2.41s/it, loss=0.00417]\n",
      "Epoch 186: 100%|████████| 25/25 [01:00<00:00,  2.41s/it, loss=0.00437]\n",
      "Epoch 187: 100%|████████| 25/25 [01:00<00:00,  2.41s/it, loss=0.00328]\n",
      "Epoch 188: 100%|████████| 25/25 [01:00<00:00,  2.41s/it, loss=0.00438]\n",
      "Epoch 189: 100%|████████| 25/25 [01:00<00:00,  2.41s/it, loss=0.00451]\n",
      "Epoch 190: 100%|████████| 25/25 [01:00<00:00,  2.41s/it, loss=0.00464]\n",
      "Epoch 191: 100%|██████████| 25/25 [01:00<00:00,  2.41s/it, loss=0.003]\n",
      "Epoch 192: 100%|████████| 25/25 [01:00<00:00,  2.41s/it, loss=0.00295]\n",
      "Epoch 193: 100%|████████| 25/25 [01:00<00:00,  2.41s/it, loss=0.00268]\n",
      "Epoch 194: 100%|████████| 25/25 [01:00<00:00,  2.41s/it, loss=0.00368]\n",
      "Epoch 195: 100%|████████| 25/25 [01:00<00:00,  2.41s/it, loss=0.00321]\n",
      "Epoch 196: 100%|█████████| 25/25 [01:00<00:00,  2.41s/it, loss=0.0035]\n",
      "Epoch 197: 100%|████████| 25/25 [01:00<00:00,  2.41s/it, loss=0.00393]\n",
      "Epoch 198: 100%|████████| 25/25 [01:00<00:00,  2.41s/it, loss=0.00359]\n",
      "Epoch 199: 100%|████████| 25/25 [01:00<00:00,  2.41s/it, loss=0.00286]\n",
      "100%|███████████████████████████████████████████████████████████████████████████████████████████████████████████████████████████████████████████████████████████████████████████████████████| 1000/1000 [11:39<00:00,  1.43it/s]\n"
     ]
    },
    {
     "data": {
      "image/png": "[encoded data removed]",
      "text/plain": [
       "<Figure size 200x200 with 1 Axes>"
      ]
     },
     "metadata": {},
     "output_type": "display_data"
    },
    {
     "name": "stdout",
     "output_type": "stream",
     "text": [
      "train completed, total time: 14937.766214132309.\n"
     ]
    }
   ],
   "source": [
    "n_epochs = 200\n",
    "val_interval = 50\n",
    "epoch_loss_list = []\n",
    "val_epoch_loss_list = []\n",
    "\n",
    "scaler = GradScaler()\n",
    "total_start = time.time()\n",
    "for epoch in range(n_epochs):\n",
    "    model.train()\n",
    "    epoch_loss = 0\n",
    "    progress_bar = tqdm(enumerate(train_loader), total=len(train_loader), ncols=70)\n",
    "    progress_bar.set_description(f\"Epoch {epoch}\")\n",
    "    for step, batch in progress_bar:\n",
    "        images = batch[\"image\"].to(device)\n",
    "        optimizer.zero_grad(set_to_none=True)\n",
    "\n",
    "        with autocast(enabled=True):\n",
    "            # Generate random noise\n",
    "            noise = torch.randn_like(images).to(device)\n",
    "\n",
    "            # Get model prediction\n",
    "            noise_pred = inferer(inputs=images, diffusion_model=model, noise=noise)\n",
    "\n",
    "            loss = F.mse_loss(noise_pred.float(), noise.float())\n",
    "\n",
    "        scaler.scale(loss).backward()\n",
    "        scaler.step(optimizer)\n",
    "        scaler.update()\n",
    "\n",
    "        epoch_loss += loss.item()\n",
    "\n",
    "        progress_bar.set_postfix(\n",
    "            {\n",
    "                \"loss\": epoch_loss / (step + 1),\n",
    "            }\n",
    "        )\n",
    "    epoch_loss_list.append(epoch_loss / (step + 1))\n",
    "\n",
    "    if (epoch + 1) % val_interval == 0:\n",
    "        model.eval()\n",
    "        val_epoch_loss = 0\n",
    "        for step, batch in enumerate(val_loader):\n",
    "            images = batch[\"image\"].to(device)\n",
    "            noise = torch.randn_like(images).to(device)\n",
    "            with torch.no_grad():\n",
    "                with autocast(enabled=True):\n",
    "                    noise_pred = inferer(inputs=images, diffusion_model=model, noise=noise)\n",
    "                    val_loss = F.mse_loss(noise_pred.float(), noise.float())\n",
    "\n",
    "            val_epoch_loss += val_loss.item()\n",
    "            progress_bar.set_postfix(\n",
    "                {\n",
    "                    \"val_loss\": val_epoch_loss / (step + 1),\n",
    "                }\n",
    "            )\n",
    "        val_epoch_loss_list.append(val_epoch_loss / (step + 1))\n",
    "\n",
    "        # Sampling image during training\n",
    "        image = torch.randn((1, 1, 32, 48, 32))\n",
    "        image = image.to(device)\n",
    "        scheduler.set_timesteps(num_inference_steps=1000)\n",
    "        with autocast(enabled=True):\n",
    "            image = inferer.sample(input_noise=noise, diffusion_model=model, scheduler=scheduler)\n",
    "\n",
    "        plt.figure(figsize=(2, 2))\n",
    "        plt.imshow(image[0, 0, :, :, 15].cpu(), vmin=0, vmax=1, cmap=\"gray\")\n",
    "        plt.tight_layout()\n",
    "        plt.axis(\"off\")\n",
    "        plt.show()\n",
    "\n",
    "total_time = time.time() - total_start\n",
    "print(f\"train completed, total time: {total_time}.\")"
   ]
  },
  {
   "cell_type": "markdown",
   "id": "3e263b67",
   "metadata": {},
   "source": [
    "### Learning curves"
   ]
  },
  {
   "cell_type": "code",
   "execution_count": 12,
   "id": "c7520419",
   "metadata": {
    "lines_to_next_cell": 2
   },
   "outputs": [
    {
     "data": {
      "image/png": "[encoded data removed]",
      "text/plain": [
       "<Figure size 800x550 with 1 Axes>"
      ]
     },
     "metadata": {},
     "output_type": "display_data"
    }
   ],
   "source": [
    "plt.style.use(\"seaborn-v0_8\")\n",
    "plt.title(\"Learning Curves\", fontsize=20)\n",
    "plt.plot(np.linspace(1, n_epochs, n_epochs), epoch_loss_list, color=\"C0\", linewidth=2.0, label=\"Train\")\n",
    "plt.plot(\n",
    "    np.linspace(val_interval, n_epochs, int(n_epochs / val_interval)),\n",
    "    val_epoch_loss_list,\n",
    "    color=\"C1\",\n",
    "    linewidth=2.0,\n",
    "    label=\"Validation\",\n",
    ")\n",
    "plt.yticks(fontsize=12)\n",
    "plt.xticks(fontsize=12)\n",
    "plt.xlabel(\"Epochs\", fontsize=16)\n",
    "plt.ylabel(\"Loss\", fontsize=16)\n",
    "plt.legend(prop={\"size\": 14})\n",
    "plt.show()"
   ]
  },
  {
   "cell_type": "markdown",
   "id": "38724c9b",
   "metadata": {},
   "source": [
    "### Plotting synthetic sample"
   ]
  },
  {
   "cell_type": "code",
   "execution_count": 26,
   "id": "092eb6a0",
   "metadata": {
    "lines_to_next_cell": 2
   },
   "outputs": [
    {
     "name": "stderr",
     "output_type": "stream",
     "text": [
      "100%|███████████████████████████████████████████████████████████████████████████████████████████████████████████████████████████████████████████████████████████████████████████████████████| 1000/1000 [00:51<00:00, 19.50it/s]\n"
     ]
    }
   ],
   "source": [
    "model.eval()\n",
    "noise = torch.randn((1, 1, 32, 48, 32))\n",
    "noise = noise.to(device)\n",
    "scheduler.set_timesteps(num_inference_steps=1000)\n",
    "image = inferer.sample(input_noise=noise, diffusion_model=model, scheduler=scheduler)"
   ]
  },
  {
   "cell_type": "code",
   "execution_count": 37,
   "id": "5dc3e69d",
   "metadata": {},
   "outputs": [
    {
     "data": {
      "image/png": "[encoded data removed]",
      "text/plain": [
       "<Figure size 640x480 with 1 Axes>"
      ]
     },
     "metadata": {},
     "output_type": "display_data"
    }
   ],
   "source": [
    "plt.style.use(\"default\")\n",
    "plotting_image_0 = np.concatenate([image[0, 0, :, :, 15].cpu(), np.flipud(image[0, 0, :, 24, :].cpu().T)], axis=1)\n",
    "plotting_image_1 = np.concatenate([np.flipud(image[0, 0, 15, :, :].cpu().T), np.zeros((32, 32))], axis=1)\n",
    "plt.imshow(np.concatenate([plotting_image_0, plotting_image_1], axis=0), vmin=0, vmax=1, cmap=\"gray\")\n",
    "plt.tight_layout()\n",
    "plt.axis(\"off\")\n",
    "plt.show()"
   ]
  }
 ],
 "metadata": {
  "jupytext": {
   "formats": "py:percent,ipynb"
  },
  "kernelspec": {
   "display_name": "Python 3",
   "language": "python",
   "name": "python3"
  },
  "language_info": {
   "codemirror_mode": {
    "name": "ipython",
    "version": 3
   },
   "file_extension": ".py",
   "mimetype": "text/x-python",
   "name": "python",
   "nbconvert_exporter": "python",
   "pygments_lexer": "ipython3",
   "version": "3.8.12"
  }
 },
 "nbformat": 4,
 "nbformat_minor": 5
}
