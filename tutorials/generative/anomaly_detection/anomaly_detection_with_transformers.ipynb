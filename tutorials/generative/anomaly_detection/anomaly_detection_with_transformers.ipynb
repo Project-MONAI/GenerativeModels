{
 "cells": [
  {
   "cell_type": "markdown",
   "id": "f6090d00",
   "metadata": {},
   "source": [
    "# Anomaly Detection with Transformers\n",
    "\n",
    "This tutorial illustrates how to use MONAI to perform image-wise anomaly detection with transformers based on the method proposed in Pinaya et al.[1].\n",
    "\n",
    "Here, we will work with the [MedNIST dataset](https://docs.monai.io/en/stable/apps.html#monai.apps.MedNISTDataset) available on MONAI, and similar to \"Experiment 2 – image-wise anomaly detection on 2D synthetic data\" from [1], we will train a general-purpose VQ-VAE (using all MEDNIST classes), and then a generative models (i.e., Transformer) on `HeadCT` images.\n",
    "\n",
    "Finally, we will compute the log-likelihood of images from the same class (in-distribution class) and images from other classes (out-of-distribution).\n",
    "\n",
    "[1] - [Pinaya et al. \"Unsupervised brain imaging 3D anomaly detection and segmentation with transformers\"](https://doi.org/10.1016/j.media.2022.102475)"
   ]
  },
  {
   "cell_type": "markdown",
   "id": "8b27924f",
   "metadata": {},
   "source": [
    "### Setup environment"
   ]
  },
  {
   "cell_type": "code",
   "execution_count": 1,
   "id": "01787b4b",
   "metadata": {},
   "outputs": [],
   "source": [
    "!python -c \"import seaborn\" || pip install -q seaborn\n",
    "%matplotlib inline"
   ]
  },
  {
   "cell_type": "markdown",
   "id": "56afab18",
   "metadata": {},
   "source": [
    "### Setup imports"
   ]
  },
  {
   "cell_type": "code",
   "execution_count": 2,
   "id": "b6b0c79f",
   "metadata": {},
   "outputs": [
    {
     "name": "stderr",
     "output_type": "stream",
     "text": [
      "/media/walter/Storage/Projects/GenerativeModels/venv/lib/python3.10/site-packages/tqdm/auto.py:22: TqdmWarning: IProgress not found. Please update jupyter and ipywidgets. See https://ipywidgets.readthedocs.io/en/stable/user_install.html\n",
      "  from .autonotebook import tqdm as notebook_tqdm\n"
     ]
    },
    {
     "name": "stdout",
     "output_type": "stream",
     "text": [
      "2023-03-11 22:41:26,292 - A matching Triton is not available, some optimizations will not be enabled.\n",
      "Error caught was: No module named 'triton'\n",
      "MONAI version: 1.2.dev2304\n",
      "Numpy version: 1.23.5\n",
      "Pytorch version: 1.13.1+cu117\n",
      "MONAI flags: HAS_EXT = False, USE_COMPILED = False, USE_META_DICT = False\n",
      "MONAI rev id: 9a57be5aab9f2c2a134768c0c146399150e247a0\n",
      "MONAI __file__: /media/walter/Storage/Projects/GenerativeModels/venv/lib/python3.10/site-packages/monai/__init__.py\n",
      "\n",
      "Optional dependencies:\n",
      "Pytorch Ignite version: 0.4.10\n",
      "ITK version: 5.3.0\n",
      "Nibabel version: 4.0.2\n",
      "scikit-image version: 0.19.3\n",
      "Pillow version: 9.3.0\n",
      "Tensorboard version: 2.11.0\n",
      "gdown version: 4.6.0\n",
      "TorchVision version: 0.14.1+cu117\n",
      "tqdm version: 4.64.1\n",
      "lmdb version: 1.4.0\n",
      "psutil version: 5.9.4\n",
      "pandas version: 1.5.3\n",
      "einops version: 0.6.0\n",
      "transformers version: 4.21.3\n",
      "mlflow version: 2.1.1\n",
      "pynrrd version: 1.0.0\n",
      "\n",
      "For details about installing the optional dependencies, please visit:\n",
      "    https://docs.monai.io/en/latest/installation.html#installing-the-recommended-dependencies\n",
      "\n"
     ]
    }
   ],
   "source": [
    "# Copyright 2020 MONAI Consortium\n",
    "# Licensed under the Apache License, Version 2.0 (the \"License\");\n",
    "# you may not use this file except in compliance with the License.\n",
    "# You may obtain a copy of the License at\n",
    "#     http://www.apache.org/licenses/LICENSE-2.0\n",
    "# Unless required by applicable law or agreed to in writing, software\n",
    "# distributed under the License is distributed on an \"AS IS\" BASIS,\n",
    "# WITHOUT WARRANTIES OR CONDITIONS OF ANY KIND, either express or implied.\n",
    "# See the License for the specific language governing permissions and\n",
    "# limitations under the License.\n",
    "import os\n",
    "import tempfile\n",
    "import time\n",
    "\n",
    "import matplotlib.pyplot as plt\n",
    "import numpy as np\n",
    "import seaborn as sns\n",
    "import torch\n",
    "from monai import transforms\n",
    "from monai.apps import MedNISTDataset\n",
    "from monai.config import print_config\n",
    "from monai.data import DataLoader, Dataset\n",
    "from monai.utils import first, set_determinism\n",
    "from torch.nn import CrossEntropyLoss, L1Loss\n",
    "from tqdm import tqdm\n",
    "\n",
    "from generative.inferers import VQVAETransformerInferer\n",
    "from generative.networks.nets import VQVAE, DecoderOnlyTransformer\n",
    "from generative.utils.enums import OrderingType\n",
    "from generative.utils.ordering import Ordering\n",
    "\n",
    "print_config()"
   ]
  },
  {
   "cell_type": "code",
   "execution_count": 3,
   "id": "de0ed372",
   "metadata": {},
   "outputs": [],
   "source": [
    "# for reproducibility purposes set a seed\n",
    "set_determinism(42)"
   ]
  },
  {
   "cell_type": "markdown",
   "id": "ad40db27",
   "metadata": {},
   "source": [
    "### Setup a data directory and download dataset\n",
    "\n",
    "Specify a `MONAI_DATA_DIRECTORY` variable, where the data will be downloaded. If not\n",
    "specified a temporary directory will be used."
   ]
  },
  {
   "cell_type": "code",
   "execution_count": 4,
   "id": "42fa255d",
   "metadata": {},
   "outputs": [
    {
     "name": "stdout",
     "output_type": "stream",
     "text": [
      "/tmp/tmp83zh5r1m\n"
     ]
    }
   ],
   "source": [
    "directory = os.environ.get(\"MONAI_DATA_DIRECTORY\")\n",
    "root_dir = tempfile.mkdtemp() if directory is None else directory\n",
    "print(root_dir)"
   ]
  },
  {
   "cell_type": "markdown",
   "id": "10054720",
   "metadata": {},
   "source": [
    "### Download training data"
   ]
  },
  {
   "cell_type": "code",
   "execution_count": 5,
   "id": "7db7ac32",
   "metadata": {},
   "outputs": [
    {
     "name": "stderr",
     "output_type": "stream",
     "text": [
      "MedNIST.tar.gz: 59.0MB [00:04, 13.2MB/s]                                                                                                                                                                                       "
     ]
    },
    {
     "name": "stdout",
     "output_type": "stream",
     "text": [
      "2023-03-11 22:41:31,031 - INFO - Downloaded: /tmp/tmp83zh5r1m/MedNIST.tar.gz\n"
     ]
    },
    {
     "name": "stderr",
     "output_type": "stream",
     "text": [
      "\n"
     ]
    },
    {
     "name": "stdout",
     "output_type": "stream",
     "text": [
      "2023-03-11 22:41:31,104 - INFO - Verified 'MedNIST.tar.gz', md5: 0bc7306e7427e00ad1c5526a6677552d.\n",
      "2023-03-11 22:41:31,105 - INFO - Writing into directory: /tmp/tmp83zh5r1m.\n"
     ]
    },
    {
     "name": "stderr",
     "output_type": "stream",
     "text": [
      "Loading dataset: 100%|█████████████████████████████████████████████████████████████████████████████████████████████████████████████████████████████████████████████████████████████████| 47164/47164 [00:25<00:00, 1816.60it/s]\n"
     ]
    }
   ],
   "source": [
    "train_transforms = transforms.Compose(\n",
    "    [\n",
    "        transforms.LoadImaged(keys=[\"image\"]),\n",
    "        transforms.EnsureChannelFirstd(keys=[\"image\"]),\n",
    "        transforms.ScaleIntensityRanged(keys=[\"image\"], a_min=0.0, a_max=255.0, b_min=0.0, b_max=1.0, clip=True),\n",
    "        transforms.RandAffined(\n",
    "            keys=[\"image\"],\n",
    "            rotate_range=[(-np.pi / 36, np.pi / 36), (-np.pi / 36, np.pi / 36)],\n",
    "            translate_range=[(-1, 1), (-1, 1)],\n",
    "            scale_range=[(-0.01, 0.01), (-0.01, 0.01)],\n",
    "            spatial_size=[64, 64],\n",
    "            padding_mode=\"zeros\",\n",
    "            prob=0.5,\n",
    "        ),\n",
    "    ]\n",
    ")\n",
    "train_data = MedNISTDataset(root_dir=root_dir, section=\"training\", download=True, seed=0, transform=train_transforms)\n",
    "train_loader = DataLoader(train_data, batch_size=256, shuffle=True, num_workers=4, persistent_workers=True)"
   ]
  },
  {
   "cell_type": "markdown",
   "id": "ec356258",
   "metadata": {},
   "source": [
    "### Visualise some examples from the dataset"
   ]
  },
  {
   "cell_type": "code",
   "execution_count": 6,
   "id": "33d7c3dc",
   "metadata": {},
   "outputs": [
    {
     "data": {
      "image/png": "[encoded data removed]",
      "text/plain": [
       "<Figure size 640x480 with 3 Axes>"
      ]
     },
     "metadata": {},
     "output_type": "display_data"
    }
   ],
   "source": [
    "# Plot 3 examples from the training set\n",
    "check_data = first(train_loader)\n",
    "fig, ax = plt.subplots(nrows=1, ncols=3)\n",
    "for image_n in range(3):\n",
    "    ax[image_n].imshow(check_data[\"image\"][image_n, 0, :, :], cmap=\"gray\")\n",
    "    ax[image_n].axis(\"off\")"
   ]
  },
  {
   "cell_type": "markdown",
   "id": "d860d83a",
   "metadata": {},
   "source": [
    "### Download Validation Data"
   ]
  },
  {
   "cell_type": "code",
   "execution_count": 7,
   "id": "ec954b77",
   "metadata": {},
   "outputs": [
    {
     "name": "stdout",
     "output_type": "stream",
     "text": [
      "2023-03-11 22:42:02,011 - INFO - Verified 'MedNIST.tar.gz', md5: 0bc7306e7427e00ad1c5526a6677552d.\n",
      "2023-03-11 22:42:02,012 - INFO - File exists: /tmp/tmp83zh5r1m/MedNIST.tar.gz, skipped downloading.\n",
      "2023-03-11 22:42:02,012 - INFO - Non-empty folder exists in /tmp/tmp83zh5r1m/MedNIST, skipped extracting.\n"
     ]
    },
    {
     "name": "stderr",
     "output_type": "stream",
     "text": [
      "Loading dataset: 100%|███████████████████████████████████████████████████████████████████████████████████████████████████████████████████████████████████████████████████████████████████| 5895/5895 [00:03<00:00, 1812.52it/s]\n"
     ]
    }
   ],
   "source": [
    "val_transforms = transforms.Compose(\n",
    "    [\n",
    "        transforms.LoadImaged(keys=[\"image\"]),\n",
    "        transforms.EnsureChannelFirstd(keys=[\"image\"]),\n",
    "        transforms.ScaleIntensityRanged(keys=[\"image\"], a_min=0.0, a_max=255.0, b_min=0.0, b_max=1.0, clip=True),\n",
    "    ]\n",
    ")\n",
    "val_data = MedNISTDataset(root_dir=root_dir, section=\"validation\", download=True, seed=0, transform=val_transforms)\n",
    "val_loader = DataLoader(val_data, batch_size=256, shuffle=False, num_workers=4, persistent_workers=True)"
   ]
  },
  {
   "cell_type": "markdown",
   "id": "09da3d54",
   "metadata": {},
   "source": [
    "## Vector Quantized Variational Autoencoder\n",
    "\n",
    "The first step is to train a Vector Quantized Variation Autoencoder (VQ-VAE). This network is responsible for creating a compressed version of the inputted data. Once its training is done, we can use the encoder to obtain smaller and discrete representations of the 2D images to generate the inputs required for our autoregressive transformer.\n",
    "\n",
    "For its training, we will use the L1 loss, and we will update its codebook using a method based on Exponential Moving Average (EMA)."
   ]
  },
  {
   "cell_type": "markdown",
   "id": "2c7a91c3",
   "metadata": {},
   "source": [
    "### Define network, optimizer and losses"
   ]
  },
  {
   "cell_type": "code",
   "execution_count": 8,
   "id": "757d00ff",
   "metadata": {},
   "outputs": [
    {
     "name": "stdout",
     "output_type": "stream",
     "text": [
      "Using cuda\n"
     ]
    },
    {
     "data": {
      "text/plain": [
       "VQVAE(\n",
       "  (encoder): Encoder(\n",
       "    (blocks): ModuleList(\n",
       "      (0): Convolution(\n",
       "        (conv): Conv2d(1, 256, kernel_size=(4, 4), stride=(2, 2), padding=(1, 1))\n",
       "        (adn): ADN(\n",
       "          (A): ReLU()\n",
       "        )\n",
       "      )\n",
       "      (1): VQVAEResidualUnit(\n",
       "        (conv1): Convolution(\n",
       "          (conv): Conv2d(256, 256, kernel_size=(3, 3), stride=(1, 1), padding=(1, 1))\n",
       "          (adn): ADN(\n",
       "            (D): Dropout(p=0.0, inplace=False)\n",
       "            (A): ReLU()\n",
       "          )\n",
       "        )\n",
       "        (conv2): Convolution(\n",
       "          (conv): Conv2d(256, 256, kernel_size=(3, 3), stride=(1, 1), padding=(1, 1))\n",
       "        )\n",
       "      )\n",
       "      (2): VQVAEResidualUnit(\n",
       "        (conv1): Convolution(\n",
       "          (conv): Conv2d(256, 256, kernel_size=(3, 3), stride=(1, 1), padding=(1, 1))\n",
       "          (adn): ADN(\n",
       "            (D): Dropout(p=0.0, inplace=False)\n",
       "            (A): ReLU()\n",
       "          )\n",
       "        )\n",
       "        (conv2): Convolution(\n",
       "          (conv): Conv2d(256, 256, kernel_size=(3, 3), stride=(1, 1), padding=(1, 1))\n",
       "        )\n",
       "      )\n",
       "      (3): Convolution(\n",
       "        (conv): Conv2d(256, 256, kernel_size=(4, 4), stride=(2, 2), padding=(1, 1))\n",
       "        (adn): ADN(\n",
       "          (D): Dropout(p=0.0, inplace=False)\n",
       "          (A): ReLU()\n",
       "        )\n",
       "      )\n",
       "      (4): VQVAEResidualUnit(\n",
       "        (conv1): Convolution(\n",
       "          (conv): Conv2d(256, 256, kernel_size=(3, 3), stride=(1, 1), padding=(1, 1))\n",
       "          (adn): ADN(\n",
       "            (D): Dropout(p=0.0, inplace=False)\n",
       "            (A): ReLU()\n",
       "          )\n",
       "        )\n",
       "        (conv2): Convolution(\n",
       "          (conv): Conv2d(256, 256, kernel_size=(3, 3), stride=(1, 1), padding=(1, 1))\n",
       "        )\n",
       "      )\n",
       "      (5): VQVAEResidualUnit(\n",
       "        (conv1): Convolution(\n",
       "          (conv): Conv2d(256, 256, kernel_size=(3, 3), stride=(1, 1), padding=(1, 1))\n",
       "          (adn): ADN(\n",
       "            (D): Dropout(p=0.0, inplace=False)\n",
       "            (A): ReLU()\n",
       "          )\n",
       "        )\n",
       "        (conv2): Convolution(\n",
       "          (conv): Conv2d(256, 256, kernel_size=(3, 3), stride=(1, 1), padding=(1, 1))\n",
       "        )\n",
       "      )\n",
       "      (6): Convolution(\n",
       "        (conv): Conv2d(256, 64, kernel_size=(3, 3), stride=(1, 1), padding=(1, 1))\n",
       "      )\n",
       "    )\n",
       "  )\n",
       "  (decoder): Decoder(\n",
       "    (blocks): ModuleList(\n",
       "      (0): Convolution(\n",
       "        (conv): Conv2d(64, 256, kernel_size=(3, 3), stride=(1, 1), padding=(1, 1))\n",
       "      )\n",
       "      (1): VQVAEResidualUnit(\n",
       "        (conv1): Convolution(\n",
       "          (conv): Conv2d(256, 256, kernel_size=(3, 3), stride=(1, 1), padding=(1, 1))\n",
       "          (adn): ADN(\n",
       "            (D): Dropout(p=0.0, inplace=False)\n",
       "            (A): ReLU()\n",
       "          )\n",
       "        )\n",
       "        (conv2): Convolution(\n",
       "          (conv): Conv2d(256, 256, kernel_size=(3, 3), stride=(1, 1), padding=(1, 1))\n",
       "        )\n",
       "      )\n",
       "      (2): VQVAEResidualUnit(\n",
       "        (conv1): Convolution(\n",
       "          (conv): Conv2d(256, 256, kernel_size=(3, 3), stride=(1, 1), padding=(1, 1))\n",
       "          (adn): ADN(\n",
       "            (D): Dropout(p=0.0, inplace=False)\n",
       "            (A): ReLU()\n",
       "          )\n",
       "        )\n",
       "        (conv2): Convolution(\n",
       "          (conv): Conv2d(256, 256, kernel_size=(3, 3), stride=(1, 1), padding=(1, 1))\n",
       "        )\n",
       "      )\n",
       "      (3): Convolution(\n",
       "        (conv): ConvTranspose2d(256, 256, kernel_size=(4, 4), stride=(2, 2), padding=(1, 1))\n",
       "        (adn): ADN(\n",
       "          (D): Dropout(p=0.0, inplace=False)\n",
       "          (A): ReLU()\n",
       "        )\n",
       "      )\n",
       "      (4): VQVAEResidualUnit(\n",
       "        (conv1): Convolution(\n",
       "          (conv): Conv2d(256, 256, kernel_size=(3, 3), stride=(1, 1), padding=(1, 1))\n",
       "          (adn): ADN(\n",
       "            (D): Dropout(p=0.0, inplace=False)\n",
       "            (A): ReLU()\n",
       "          )\n",
       "        )\n",
       "        (conv2): Convolution(\n",
       "          (conv): Conv2d(256, 256, kernel_size=(3, 3), stride=(1, 1), padding=(1, 1))\n",
       "        )\n",
       "      )\n",
       "      (5): VQVAEResidualUnit(\n",
       "        (conv1): Convolution(\n",
       "          (conv): Conv2d(256, 256, kernel_size=(3, 3), stride=(1, 1), padding=(1, 1))\n",
       "          (adn): ADN(\n",
       "            (D): Dropout(p=0.0, inplace=False)\n",
       "            (A): ReLU()\n",
       "          )\n",
       "        )\n",
       "        (conv2): Convolution(\n",
       "          (conv): Conv2d(256, 256, kernel_size=(3, 3), stride=(1, 1), padding=(1, 1))\n",
       "        )\n",
       "      )\n",
       "      (6): Convolution(\n",
       "        (conv): ConvTranspose2d(256, 1, kernel_size=(4, 4), stride=(2, 2), padding=(1, 1))\n",
       "      )\n",
       "    )\n",
       "  )\n",
       "  (quantizer): VectorQuantizer(\n",
       "    (quantizer): EMAQuantizer(\n",
       "      (embedding): Embedding(16, 64)\n",
       "    )\n",
       "  )\n",
       ")"
      ]
     },
     "execution_count": 8,
     "metadata": {},
     "output_type": "execute_result"
    }
   ],
   "source": [
    "device = torch.device(\"cuda\" if torch.cuda.is_available() else \"cpu\")\n",
    "print(f\"Using {device}\")\n",
    "\n",
    "vqvae_model = VQVAE(\n",
    "    spatial_dims=2,\n",
    "    in_channels=1,\n",
    "    out_channels=1,\n",
    "    num_res_layers=2,\n",
    "    downsample_parameters=((2, 4, 1, 1), (2, 4, 1, 1)),\n",
    "    upsample_parameters=((2, 4, 1, 1, 0), (2, 4, 1, 1, 0)),\n",
    "    num_channels=(256, 256),\n",
    "    num_res_channels=(256, 256),\n",
    "    num_embeddings=16,\n",
    "    embedding_dim=64,\n",
    ")\n",
    "vqvae_model.to(device)"
   ]
  },
  {
   "cell_type": "code",
   "execution_count": 9,
   "id": "7611f596",
   "metadata": {},
   "outputs": [],
   "source": [
    "optimizer = torch.optim.Adam(params=vqvae_model.parameters(), lr=5e-4)\n",
    "l1_loss = L1Loss()"
   ]
  },
  {
   "attachments": {},
   "cell_type": "markdown",
   "id": "f1d81a89",
   "metadata": {},
   "source": [
    "### VQ-VAE Model training\n",
    "We will train our VQ-VAE for 30 epochs."
   ]
  },
  {
   "cell_type": "code",
   "execution_count": 10,
   "id": "fe7459e4",
   "metadata": {},
   "outputs": [
    {
     "name": "stderr",
     "output_type": "stream",
     "text": [
      "Epoch 0: 100%|████████████████| 185/185 [02:50<00:00,  1.09it/s, recons_loss=0.152, quantization_loss=1.05e-5]\n",
      "Epoch 1: 100%|███████████████| 185/185 [02:56<00:00,  1.05it/s, recons_loss=0.0358, quantization_loss=7.67e-6]\n",
      "Epoch 2: 100%|███████████████| 185/185 [03:02<00:00,  1.01it/s, recons_loss=0.0296, quantization_loss=1.27e-5]\n",
      "Epoch 3: 100%|███████████████| 185/185 [02:59<00:00,  1.03it/s, recons_loss=0.0273, quantization_loss=1.68e-5]\n",
      "Epoch 4: 100%|███████████████| 185/185 [02:59<00:00,  1.03it/s, recons_loss=0.0274, quantization_loss=2.47e-5]\n",
      "Epoch 5: 100%|███████████████| 185/185 [02:59<00:00,  1.03it/s, recons_loss=0.0269, quantization_loss=3.15e-5]\n",
      "Epoch 6: 100%|███████████████| 185/185 [02:59<00:00,  1.03it/s, recons_loss=0.0261, quantization_loss=2.88e-5]\n",
      "Epoch 7: 100%|███████████████| 185/185 [02:59<00:00,  1.03it/s, recons_loss=0.0247, quantization_loss=2.52e-5]\n",
      "Epoch 8: 100%|███████████████| 185/185 [02:59<00:00,  1.03it/s, recons_loss=0.0246, quantization_loss=2.67e-5]\n",
      "Epoch 9: 100%|███████████████| 185/185 [02:59<00:00,  1.03it/s, recons_loss=0.0248, quantization_loss=2.96e-5]\n",
      "Epoch 10: 100%|██████████████| 185/185 [02:59<00:00,  1.03it/s, recons_loss=0.0247, quantization_loss=2.78e-5]\n",
      "Epoch 11: 100%|██████████████| 185/185 [02:59<00:00,  1.03it/s, recons_loss=0.0245, quantization_loss=3.64e-5]\n",
      "Epoch 12: 100%|██████████████| 185/185 [02:59<00:00,  1.03it/s, recons_loss=0.0234, quantization_loss=2.43e-5]\n",
      "Epoch 13: 100%|██████████████| 185/185 [02:59<00:00,  1.03it/s, recons_loss=0.0231, quantization_loss=3.42e-5]\n",
      "Epoch 14: 100%|██████████████| 185/185 [02:59<00:00,  1.03it/s, recons_loss=0.0229, quantization_loss=3.24e-5]\n",
      "Epoch 15: 100%|███████████████| 185/185 [02:59<00:00,  1.03it/s, recons_loss=0.023, quantization_loss=3.77e-5]\n",
      "Epoch 16: 100%|██████████████| 185/185 [02:59<00:00,  1.03it/s, recons_loss=0.0227, quantization_loss=3.07e-5]\n",
      "Epoch 17: 100%|███████████████| 185/185 [02:59<00:00,  1.03it/s, recons_loss=0.022, quantization_loss=3.66e-5]\n",
      "Epoch 18: 100%|██████████████| 185/185 [02:59<00:00,  1.03it/s, recons_loss=0.0223, quantization_loss=3.17e-5]\n",
      "Epoch 19: 100%|██████████████| 185/185 [02:59<00:00,  1.03it/s, recons_loss=0.0218, quantization_loss=3.32e-5]\n",
      "Epoch 20: 100%|██████████████| 185/185 [02:59<00:00,  1.03it/s, recons_loss=0.0218, quantization_loss=3.49e-5]\n",
      "Epoch 21: 100%|██████████████| 185/185 [02:59<00:00,  1.03it/s, recons_loss=0.0218, quantization_loss=2.99e-5]\n",
      "Epoch 22: 100%|██████████████| 185/185 [02:59<00:00,  1.03it/s, recons_loss=0.0217, quantization_loss=3.81e-5]\n",
      "Epoch 23: 100%|██████████████| 185/185 [02:59<00:00,  1.03it/s, recons_loss=0.0212, quantization_loss=2.88e-5]\n",
      "Epoch 24: 100%|██████████████| 185/185 [02:59<00:00,  1.03it/s, recons_loss=0.0216, quantization_loss=2.93e-5]\n",
      "Epoch 25: 100%|██████████████| 185/185 [02:59<00:00,  1.03it/s, recons_loss=0.0216, quantization_loss=3.35e-5]\n",
      "Epoch 26: 100%|██████████████| 185/185 [02:59<00:00,  1.03it/s, recons_loss=0.0212, quantization_loss=3.28e-5]\n",
      "Epoch 27: 100%|███████████████| 185/185 [02:59<00:00,  1.03it/s, recons_loss=0.0213, quantization_loss=3.2e-5]\n",
      "Epoch 28: 100%|██████████████| 185/185 [02:58<00:00,  1.04it/s, recons_loss=0.0209, quantization_loss=3.05e-5]\n",
      "Epoch 29: 100%|██████████████| 185/185 [02:58<00:00,  1.03it/s, recons_loss=0.0205, quantization_loss=2.83e-5]\n"
     ]
    },
    {
     "name": "stdout",
     "output_type": "stream",
     "text": [
      "train completed, total time: 5397.495220899582.\n"
     ]
    }
   ],
   "source": [
    "n_epochs = 30\n",
    "val_interval = 10\n",
    "epoch_losses = []\n",
    "val_epoch_losses = []\n",
    "\n",
    "total_start = time.time()\n",
    "for epoch in range(n_epochs):\n",
    "    vqvae_model.train()\n",
    "    epoch_loss = 0\n",
    "    progress_bar = tqdm(enumerate(train_loader), total=len(train_loader), ncols=110)\n",
    "    progress_bar.set_description(f\"Epoch {epoch}\")\n",
    "    for step, batch in progress_bar:\n",
    "        images = batch[\"image\"].to(device)\n",
    "        optimizer.zero_grad(set_to_none=True)\n",
    "\n",
    "        # model outputs reconstruction and the quantization error\n",
    "        reconstruction, quantization_loss = vqvae_model(images=images)\n",
    "        recons_loss = l1_loss(reconstruction.float(), images.float())\n",
    "        loss = recons_loss + quantization_loss\n",
    "\n",
    "        loss.backward()\n",
    "        optimizer.step()\n",
    "\n",
    "        epoch_loss += recons_loss.item()\n",
    "\n",
    "        progress_bar.set_postfix(\n",
    "            {\"recons_loss\": epoch_loss / (step + 1), \"quantization_loss\": quantization_loss.item() / (step + 1)}\n",
    "        )\n",
    "    epoch_losses.append(epoch_loss / (step + 1))\n",
    "\n",
    "    if (epoch + 1) % val_interval == 0:\n",
    "        vqvae_model.eval()\n",
    "        val_loss = 0\n",
    "        with torch.no_grad():\n",
    "            for val_step, batch in enumerate(val_loader, start=1):\n",
    "                images = batch[\"image\"].to(device)\n",
    "                reconstruction, quantization_loss = vqvae_model(images=images)\n",
    "                recons_loss = l1_loss(reconstruction.float(), images.float())\n",
    "                val_loss += recons_loss.item()\n",
    "\n",
    "        val_loss /= val_step\n",
    "        val_epoch_losses.append(val_loss)\n",
    "\n",
    "total_time = time.time() - total_start\n",
    "print(f\"train completed, total time: {total_time}.\")"
   ]
  },
  {
   "cell_type": "markdown",
   "id": "8dfa3270",
   "metadata": {},
   "source": [
    "### Plot reconstructions of final trained vqvae model"
   ]
  },
  {
   "cell_type": "code",
   "execution_count": 11,
   "id": "0789cfcc",
   "metadata": {},
   "outputs": [
    {
     "data": {
      "image/png": "[encoded data removed]",
      "text/plain": [
       "<Figure size 640x480 with 2 Axes>"
      ]
     },
     "metadata": {},
     "output_type": "display_data"
    }
   ],
   "source": [
    "fig, ax = plt.subplots(nrows=1, ncols=2)\n",
    "ax[0].imshow(images[0, 0].detach().cpu(), vmin=0, vmax=1, cmap=\"gray\")\n",
    "ax[0].axis(\"off\")\n",
    "ax[0].title.set_text(\"Inputted Image\")\n",
    "ax[1].imshow(reconstruction[0, 0].detach().cpu(), vmin=0, vmax=1, cmap=\"gray\")\n",
    "ax[1].axis(\"off\")\n",
    "ax[1].title.set_text(\"Reconstruction\")\n",
    "plt.show()"
   ]
  },
  {
   "cell_type": "markdown",
   "id": "773f5f43",
   "metadata": {},
   "source": [
    "# Autoregressive Transformer\n",
    "\n",
    "Now that our VQ-VAE model has been trained, we can use this model to encode the data into its discrete latent representations. Then, to be able to input it into the autoregressive Transformer, it is necessary to transform this 2D latent representation into a 1D sequence.\n",
    "\n",
    "In order to train it in an autoregressive manner, we will use the CrossEntropy Loss as the Transformer will try to predict the next token value for each position of the sequence.\n",
    "\n",
    "Here we will use the MONAI's `VQVAETransformerInferer` class to help with the forward pass and to get the predicted likelihood from the VQ-VAE + Transformer models."
   ]
  },
  {
   "cell_type": "markdown",
   "id": "83352d19",
   "metadata": {},
   "source": [
    "### Datasets\n",
    "To train the transformer, we only use the `HeadCT` class."
   ]
  },
  {
   "cell_type": "code",
   "execution_count": 12,
   "id": "2b3c3a82",
   "metadata": {},
   "outputs": [
    {
     "name": "stderr",
     "output_type": "stream",
     "text": [
      "Loading dataset: 100%|█████████████████████████████████████████████████████████████████████████████████████████████████████████████████████████████████████████████████████████████████| 47164/47164 [00:14<00:00, 3317.48it/s]\n",
      "Loading dataset: 100%|███████████████████████████████████████████████████████████████████████████████████████████████████████████████████████████████████████████████████████████████████| 5895/5895 [00:01<00:00, 3413.76it/s]\n"
     ]
    }
   ],
   "source": [
    "train_data = MedNISTDataset(root_dir=root_dir, section=\"training\", seed=0)\n",
    "train_datalist = [{\"image\": item[\"image\"]} for item in train_data.data if item[\"class_name\"] == \"HeadCT\"]\n",
    "train_transforms = transforms.Compose(\n",
    "    [\n",
    "        transforms.LoadImaged(keys=[\"image\"]),\n",
    "        transforms.EnsureChannelFirstd(keys=[\"image\"]),\n",
    "        transforms.ScaleIntensityRanged(keys=[\"image\"], a_min=0.0, a_max=255.0, b_min=0.0, b_max=1.0, clip=True),\n",
    "        transforms.RandAffined(\n",
    "            keys=[\"image\"],\n",
    "            rotate_range=[(-np.pi / 36, np.pi / 36), (-np.pi / 36, np.pi / 36)],\n",
    "            translate_range=[(-1, 1), (-1, 1)],\n",
    "            scale_range=[(-0.01, 0.01), (-0.01, 0.01)],\n",
    "            spatial_size=[64, 64],\n",
    "            padding_mode=\"zeros\",\n",
    "            prob=0.5,\n",
    "        ),\n",
    "    ]\n",
    ")\n",
    "train_ds = Dataset(data=train_datalist, transform=train_transforms)\n",
    "train_loader = DataLoader(train_ds, batch_size=32, shuffle=True, num_workers=4, persistent_workers=True)\n",
    "\n",
    "val_data = MedNISTDataset(root_dir=root_dir, section=\"validation\", seed=0)\n",
    "val_datalist = [{\"image\": item[\"image\"]} for item in val_data.data if item[\"class_name\"] == \"HeadCT\"]\n",
    "val_transforms = transforms.Compose(\n",
    "    [\n",
    "        transforms.LoadImaged(keys=[\"image\"]),\n",
    "        transforms.EnsureChannelFirstd(keys=[\"image\"]),\n",
    "        transforms.ScaleIntensityRanged(keys=[\"image\"], a_min=0.0, a_max=255.0, b_min=0.0, b_max=1.0, clip=True),\n",
    "    ]\n",
    ")\n",
    "val_ds = Dataset(data=val_datalist, transform=val_transforms)\n",
    "val_loader = DataLoader(val_ds, batch_size=32, shuffle=False, num_workers=4, persistent_workers=True)"
   ]
  },
  {
   "cell_type": "markdown",
   "id": "b0f5a3cd",
   "metadata": {},
   "source": [
    "### 2D latent representation -> 1D sequence\n",
    "We need to define an ordering of which we convert our 2D latent space into a 1D sequence. For this we will use a simple raster scan."
   ]
  },
  {
   "cell_type": "code",
   "execution_count": 13,
   "id": "efab0cc5",
   "metadata": {},
   "outputs": [],
   "source": [
    "spatial_shape = next(iter(train_loader))[\"image\"].shape[2:]"
   ]
  },
  {
   "cell_type": "code",
   "execution_count": 14,
   "id": "f91086e3",
   "metadata": {
    "lines_to_next_cell": 2
   },
   "outputs": [],
   "source": [
    "# Get spatial dimensions of data\n",
    "# We divide the spatial shape by 4 as the vqvae downsamples the image by a factor of 4 along each dimension\n",
    "spatial_shape = next(iter(train_loader))[\"image\"].shape[2:]\n",
    "spatial_shape = (int(spatial_shape[0] / 4), int(spatial_shape[1] / 4))\n",
    "\n",
    "ordering = Ordering(ordering_type=OrderingType.RASTER_SCAN.value, spatial_dims=2, dimensions=(1,) + spatial_shape)"
   ]
  },
  {
   "cell_type": "markdown",
   "id": "ace09890",
   "metadata": {},
   "source": [
    "### Define network, inferer, optimizer and loss function"
   ]
  },
  {
   "cell_type": "code",
   "execution_count": 15,
   "id": "aab1891a",
   "metadata": {},
   "outputs": [],
   "source": [
    "device = torch.device(\"cuda\" if torch.cuda.is_available() else \"cpu\")\n",
    "\n",
    "transformer_model = DecoderOnlyTransformer(\n",
    "    num_tokens=16 + 1,\n",
    "    max_seq_len=spatial_shape[0] * spatial_shape[1],\n",
    "    attn_layers_dim=128,\n",
    "    attn_layers_depth=16,\n",
    "    attn_layers_heads=12,\n",
    ")\n",
    "transformer_model.to(device)\n",
    "\n",
    "inferer = VQVAETransformerInferer()"
   ]
  },
  {
   "cell_type": "code",
   "execution_count": 16,
   "id": "fa3cd231",
   "metadata": {},
   "outputs": [],
   "source": [
    "optimizer = torch.optim.Adam(params=transformer_model.parameters(), lr=1e-4)\n",
    "ce_loss = CrossEntropyLoss()"
   ]
  },
  {
   "cell_type": "markdown",
   "id": "0921fcfb",
   "metadata": {},
   "source": [
    "### Transformer Training\n",
    "We will train the Transformer for 5 epochs."
   ]
  },
  {
   "cell_type": "code",
   "execution_count": 17,
   "id": "9c32f0a9",
   "metadata": {},
   "outputs": [
    {
     "name": "stderr",
     "output_type": "stream",
     "text": [
      "Epoch 0: 100%|███████████████████████████████████████████████| 250/250 [00:52<00:00,  4.78it/s, ce_loss=0.222]\n",
      "Epoch 1: 100%|█████████████████████████████████████████████| 250/250 [00:52<00:00,  4.72it/s, ce_loss=0.00988]\n",
      "Epoch 2: 100%|█████████████████████████████████████████████| 250/250 [00:53<00:00,  4.70it/s, ce_loss=0.00582]\n",
      "Epoch 3: 100%|█████████████████████████████████████████████| 250/250 [00:53<00:00,  4.71it/s, ce_loss=0.00385]\n",
      "Epoch 4: 100%|█████████████████████████████████████████████| 250/250 [00:53<00:00,  4.70it/s, ce_loss=0.00271]"
     ]
    },
    {
     "name": "stdout",
     "output_type": "stream",
     "text": [
      "train completed, total time: 270.7773208618164.\n"
     ]
    },
    {
     "name": "stderr",
     "output_type": "stream",
     "text": [
      "\n"
     ]
    }
   ],
   "source": [
    "n_epochs = 5\n",
    "val_interval = 2\n",
    "epoch_losses = []\n",
    "val_epoch_losses = []\n",
    "vqvae_model.eval()\n",
    "\n",
    "total_start = time.time()\n",
    "for epoch in range(n_epochs):\n",
    "    transformer_model.train()\n",
    "    epoch_loss = 0\n",
    "    progress_bar = tqdm(enumerate(train_loader), total=len(train_loader), ncols=110)\n",
    "    progress_bar.set_description(f\"Epoch {epoch}\")\n",
    "    for step, batch in progress_bar:\n",
    "\n",
    "        images = batch[\"image\"].to(device)\n",
    "\n",
    "        optimizer.zero_grad(set_to_none=True)\n",
    "\n",
    "        logits, quantizations_target, _ = inferer(images, vqvae_model, transformer_model, ordering, return_latent=True)\n",
    "        logits = logits.transpose(1, 2)\n",
    "\n",
    "        loss = ce_loss(logits, quantizations_target)\n",
    "\n",
    "        loss.backward()\n",
    "        optimizer.step()\n",
    "\n",
    "        epoch_loss += loss.item()\n",
    "\n",
    "        progress_bar.set_postfix({\"ce_loss\": epoch_loss / (step + 1)})\n",
    "    epoch_losses.append(epoch_loss / (step + 1))\n",
    "\n",
    "    if (epoch + 1) % val_interval == 0:\n",
    "        transformer_model.eval()\n",
    "        val_loss = 0\n",
    "        with torch.no_grad():\n",
    "            for val_step, batch in enumerate(val_loader, start=1):\n",
    "\n",
    "                images = batch[\"image\"].to(device)\n",
    "\n",
    "                logits, quantizations_target, _ = inferer(\n",
    "                    images, vqvae_model, transformer_model, ordering, return_latent=True\n",
    "                )\n",
    "                logits = logits.transpose(1, 2)\n",
    "\n",
    "                loss = ce_loss(logits, quantizations_target)\n",
    "\n",
    "                val_loss += loss.item()\n",
    "\n",
    "        val_loss /= val_step\n",
    "        val_epoch_losses.append(val_loss)\n",
    "\n",
    "total_time = time.time() - total_start\n",
    "print(f\"train completed, total time: {total_time}.\")"
   ]
  },
  {
   "cell_type": "markdown",
   "id": "29a35d4b",
   "metadata": {},
   "source": [
    "## Image-wise anomaly detection\n",
    "\n",
    "To verify the performance of the VQ-VAE + Transformer performing unsupervised anomaly detection, we will use the images from the test set of the MedNIST dataset. We will consider images from the `HeadCT` class as in-distribution images."
   ]
  },
  {
   "cell_type": "code",
   "execution_count": 18,
   "id": "aa3938fe",
   "metadata": {},
   "outputs": [
    {
     "name": "stdout",
     "output_type": "stream",
     "text": [
      "2023-03-12 00:16:51,478 - INFO - Verified 'MedNIST.tar.gz', md5: 0bc7306e7427e00ad1c5526a6677552d.\n",
      "2023-03-12 00:16:51,479 - INFO - File exists: /tmp/tmp83zh5r1m/MedNIST.tar.gz, skipped downloading.\n",
      "2023-03-12 00:16:51,480 - INFO - Non-empty folder exists in /tmp/tmp83zh5r1m/MedNIST, skipped extracting.\n"
     ]
    },
    {
     "name": "stderr",
     "output_type": "stream",
     "text": [
      "Loading dataset: 100%|███████████████████████████████████████████████████████████████████████████████████████████████████████████████████████████████████████████████████████████████████| 5895/5895 [00:01<00:00, 3258.71it/s]\n",
      "In-distribution data: 100%|███████████████████████████████████████████████████| 17/17 [00:05<00:00,  3.22it/s]\n"
     ]
    }
   ],
   "source": [
    "vqvae_model.eval()\n",
    "transformer_model.eval()\n",
    "\n",
    "test_data = MedNISTDataset(root_dir=root_dir, section=\"test\", download=True, seed=0)\n",
    "\n",
    "in_distribution_datalist = [{\"image\": item[\"image\"]} for item in test_data.data if item[\"class_name\"] == \"HeadCT\"]\n",
    "in_distribution_ds = Dataset(data=in_distribution_datalist, transform=val_transforms)\n",
    "in_distribution_loader = DataLoader(\n",
    "    in_distribution_ds, batch_size=64, shuffle=False, num_workers=4, persistent_workers=True\n",
    ")\n",
    "\n",
    "in_likelihoods = []\n",
    "\n",
    "progress_bar = tqdm(enumerate(in_distribution_loader), total=len(in_distribution_loader), ncols=110)\n",
    "progress_bar.set_description(f\"In-distribution data\")\n",
    "for step, batch in progress_bar:\n",
    "    images = batch[\"image\"].to(device)\n",
    "\n",
    "    log_likelihood = inferer.get_likelihood(\n",
    "        inputs=images, vqvae_model=vqvae_model, transformer_model=transformer_model, ordering=ordering\n",
    "    )\n",
    "    in_likelihoods.append(log_likelihood.sum(dim=(1, 2)).cpu().numpy())\n",
    "\n",
    "in_likelihoods = np.concatenate(in_likelihoods)"
   ]
  },
  {
   "cell_type": "markdown",
   "id": "19541717",
   "metadata": {},
   "source": [
    "We will use the \"ChestCT\" class of the dataset for the out-of-distribution examples."
   ]
  },
  {
   "cell_type": "code",
   "execution_count": 19,
   "id": "f3e714ee",
   "metadata": {},
   "outputs": [
    {
     "name": "stderr",
     "output_type": "stream",
     "text": [
      "out-of-distribution data: 100%|███████████████████████████████████████████████| 16/16 [00:05<00:00,  3.15it/s]\n"
     ]
    }
   ],
   "source": [
    "ood_datalist = [{\"image\": item[\"image\"]} for item in test_data.data if item[\"class_name\"] == \"ChestCT\"]\n",
    "ood_ds = Dataset(data=ood_datalist, transform=val_transforms)\n",
    "ood_loader = DataLoader(ood_ds, batch_size=64, shuffle=False, num_workers=4, persistent_workers=True)\n",
    "\n",
    "ood_likelihoods = []\n",
    "\n",
    "progress_bar = tqdm(enumerate(ood_loader), total=len(ood_loader), ncols=110)\n",
    "progress_bar.set_description(f\"out-of-distribution data\")\n",
    "for step, batch in progress_bar:\n",
    "    images = batch[\"image\"].to(device)\n",
    "\n",
    "    log_likelihood = inferer.get_likelihood(\n",
    "        inputs=images, vqvae_model=vqvae_model, transformer_model=transformer_model, ordering=ordering\n",
    "    )\n",
    "    ood_likelihoods.append(log_likelihood.sum(dim=(1, 2)).cpu().numpy())\n",
    "\n",
    "ood_likelihoods = np.concatenate(ood_likelihoods)"
   ]
  },
  {
   "cell_type": "markdown",
   "id": "5aa92638",
   "metadata": {},
   "source": [
    "## Log-likehood plot\n",
    "\n",
    "Here, we plot the log-likelihood of the images. In this case, the lower the log-likelihood, the more unlikely the image belongs to the training set."
   ]
  },
  {
   "cell_type": "code",
   "execution_count": 23,
   "id": "cd456a7c",
   "metadata": {},
   "outputs": [
    {
     "data": {
      "text/plain": [
       "Text(0.5, 0, 'Log-likelihood')"
      ]
     },
     "execution_count": 23,
     "metadata": {},
     "output_type": "execute_result"
    },
    {
     "data": {
      "image/png": "[encoded data removed]",
      "text/plain": [
       "<Figure size 640x480 with 1 Axes>"
      ]
     },
     "metadata": {},
     "output_type": "display_data"
    }
   ],
   "source": [
    "sns.kdeplot(in_likelihoods, color=\"dodgerblue\", bw_adjust=50, label=\"In-distribution\")\n",
    "sns.kdeplot(ood_likelihoods, color=\"deeppink\", bw_adjust=1, label=\"OOD\")\n",
    "plt.legend()\n",
    "plt.xlabel(\"Log-likelihood\")"
   ]
  },
  {
   "cell_type": "code",
   "execution_count": null,
   "id": "89c3dc99",
   "metadata": {},
   "outputs": [],
   "source": []
  }
 ],
 "metadata": {
  "jupytext": {
   "formats": "py:percent,ipynb"
  },
  "kernelspec": {
   "display_name": "Python 3 (ipykernel)",
   "language": "python",
   "name": "python3"
  },
  "language_info": {
   "codemirror_mode": {
    "name": "ipython",
    "version": 3
   },
   "file_extension": ".py",
   "mimetype": "text/x-python",
   "name": "python",
   "nbconvert_exporter": "python",
   "pygments_lexer": "ipython3",
   "version": "3.10.6"
  }
 },
 "nbformat": 4,
 "nbformat_minor": 5
}
