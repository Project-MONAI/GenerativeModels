{
 "cells": [
  {
   "cell_type": "markdown",
   "id": "f6090d00",
   "metadata": {},
   "source": [
    "# Anomaly Detection with Transformers\n",
    "\n",
    "This tutorial illustrates how to use MONAI to perform image-wise anomaly detection with transformers based on the method proposed in Pinaya et al.[1].\n",
    "\n",
    "Here, we will work with the [MedNIST dataset](https://docs.monai.io/en/stable/apps.html#monai.apps.MedNISTDataset) available on MONAI, and similar to \"Experiment 2 – image-wise anomaly detection on 2D synthetic data\" from [1], we will train our generative models on `HeadCT` images.\n",
    "\n",
    "Finally, we will compute the log-likelihood of images from the same class (in-distribution class) and images from other classes (out-of-distribution).\n",
    "\n",
    "[1] - [Pinaya et al. \"Unsupervised brain imaging 3D anomaly detection and segmentation with transformers\"](https://doi.org/10.1016/j.media.2022.102475)"
   ]
  },
  {
   "cell_type": "markdown",
   "id": "8b27924f",
   "metadata": {},
   "source": [
    "### Setup environment"
   ]
  },
  {
   "cell_type": "code",
   "execution_count": 1,
   "id": "01787b4b",
   "metadata": {},
   "outputs": [],
   "source": [
    "!python -c \"import seaborn\" || pip install -q seaborn\n",
    "%matplotlib inline"
   ]
  },
  {
   "cell_type": "markdown",
   "id": "56afab18",
   "metadata": {},
   "source": [
    "### Setup imports"
   ]
  },
  {
   "cell_type": "code",
   "execution_count": 2,
   "id": "b6b0c79f",
   "metadata": {},
   "outputs": [
    {
     "name": "stderr",
     "output_type": "stream",
     "text": [
      "/media/walter/Storage/Projects/GenerativeModels/venv/lib/python3.10/site-packages/tqdm/auto.py:22: TqdmWarning: IProgress not found. Please update jupyter and ipywidgets. See https://ipywidgets.readthedocs.io/en/stable/user_install.html\n",
      "  from .autonotebook import tqdm as notebook_tqdm\n"
     ]
    },
    {
     "name": "stdout",
     "output_type": "stream",
     "text": [
      "2023-03-10 23:52:11,507 - A matching Triton is not available, some optimizations will not be enabled.\n",
      "Error caught was: No module named 'triton'\n",
      "MONAI version: 1.2.dev2304\n",
      "Numpy version: 1.23.5\n",
      "Pytorch version: 1.13.1+cu117\n",
      "MONAI flags: HAS_EXT = False, USE_COMPILED = False, USE_META_DICT = False\n",
      "MONAI rev id: 9a57be5aab9f2c2a134768c0c146399150e247a0\n",
      "MONAI __file__: /media/walter/Storage/Projects/GenerativeModels/venv/lib/python3.10/site-packages/monai/__init__.py\n",
      "\n",
      "Optional dependencies:\n",
      "Pytorch Ignite version: 0.4.10\n",
      "ITK version: 5.3.0\n",
      "Nibabel version: 4.0.2\n",
      "scikit-image version: 0.19.3\n",
      "Pillow version: 9.3.0\n",
      "Tensorboard version: 2.11.0\n",
      "gdown version: 4.6.0\n",
      "TorchVision version: 0.14.1+cu117\n",
      "tqdm version: 4.64.1\n",
      "lmdb version: 1.4.0\n",
      "psutil version: 5.9.4\n",
      "pandas version: 1.5.3\n",
      "einops version: 0.6.0\n",
      "transformers version: 4.21.3\n",
      "mlflow version: 2.1.1\n",
      "pynrrd version: 1.0.0\n",
      "\n",
      "For details about installing the optional dependencies, please visit:\n",
      "    https://docs.monai.io/en/latest/installation.html#installing-the-recommended-dependencies\n",
      "\n"
     ]
    }
   ],
   "source": [
    "# Copyright 2020 MONAI Consortium\n",
    "# Licensed under the Apache License, Version 2.0 (the \"License\");\n",
    "# you may not use this file except in compliance with the License.\n",
    "# You may obtain a copy of the License at\n",
    "#     http://www.apache.org/licenses/LICENSE-2.0\n",
    "# Unless required by applicable law or agreed to in writing, software\n",
    "# distributed under the License is distributed on an \"AS IS\" BASIS,\n",
    "# WITHOUT WARRANTIES OR CONDITIONS OF ANY KIND, either express or implied.\n",
    "# See the License for the specific language governing permissions and\n",
    "# limitations under the License.\n",
    "import os\n",
    "import tempfile\n",
    "import time\n",
    "\n",
    "import matplotlib.pyplot as plt\n",
    "import numpy as np\n",
    "import seaborn as sns\n",
    "import torch\n",
    "import torch.nn.functional as F\n",
    "from ignite.utils import convert_tensor\n",
    "from monai import transforms\n",
    "from monai.apps import MedNISTDataset\n",
    "from monai.config import print_config\n",
    "from monai.data import DataLoader, Dataset\n",
    "from monai.utils import first, set_determinism\n",
    "from torch.nn import CrossEntropyLoss, L1Loss\n",
    "from tqdm import tqdm\n",
    "\n",
    "from generative.inferers import VQVAETransformerInferer\n",
    "from generative.networks.nets import VQVAE, DecoderOnlyTransformer\n",
    "from generative.utils.enums import OrderingType\n",
    "from generative.utils.ordering import Ordering\n",
    "\n",
    "print_config()"
   ]
  },
  {
   "cell_type": "code",
   "execution_count": 3,
   "id": "de0ed372",
   "metadata": {},
   "outputs": [],
   "source": [
    "# for reproducibility purposes set a seed\n",
    "set_determinism(42)"
   ]
  },
  {
   "cell_type": "markdown",
   "id": "ad40db27",
   "metadata": {},
   "source": [
    "### Setup a data directory and download dataset\n",
    "\n",
    "Specify a `MONAI_DATA_DIRECTORY` variable, where the data will be downloaded. If not\n",
    "specified a temporary directory will be used."
   ]
  },
  {
   "cell_type": "code",
   "execution_count": 4,
   "id": "42fa255d",
   "metadata": {},
   "outputs": [
    {
     "name": "stdout",
     "output_type": "stream",
     "text": [
      "/tmp/tmpaurm48lm\n"
     ]
    }
   ],
   "source": [
    "directory = os.environ.get(\"MONAI_DATA_DIRECTORY\")\n",
    "root_dir = tempfile.mkdtemp() if directory is None else directory\n",
    "print(root_dir)"
   ]
  },
  {
   "cell_type": "markdown",
   "id": "10054720",
   "metadata": {},
   "source": [
    "### Download training data"
   ]
  },
  {
   "cell_type": "code",
   "execution_count": 5,
   "id": "7db7ac32",
   "metadata": {},
   "outputs": [
    {
     "name": "stderr",
     "output_type": "stream",
     "text": [
      "MedNIST.tar.gz: 59.0MB [00:04, 13.4MB/s]                                                                                       "
     ]
    },
    {
     "name": "stdout",
     "output_type": "stream",
     "text": [
      "2023-03-10 23:52:16,176 - INFO - Downloaded: /tmp/tmpaurm48lm/MedNIST.tar.gz\n"
     ]
    },
    {
     "name": "stderr",
     "output_type": "stream",
     "text": [
      "\n"
     ]
    },
    {
     "name": "stdout",
     "output_type": "stream",
     "text": [
      "2023-03-10 23:52:16,270 - INFO - Verified 'MedNIST.tar.gz', md5: 0bc7306e7427e00ad1c5526a6677552d.\n",
      "2023-03-10 23:52:16,271 - INFO - Writing into directory: /tmp/tmpaurm48lm.\n"
     ]
    },
    {
     "name": "stderr",
     "output_type": "stream",
     "text": [
      "Loading dataset: 100%|█████████████████████████████████████████████████████████████████| 47164/47164 [00:13<00:00, 3379.57it/s]\n"
     ]
    }
   ],
   "source": [
    "train_data = MedNISTDataset(root_dir=root_dir, section=\"training\", download=True, seed=0)\n",
    "train_datalist = [{\"image\": item[\"image\"]} for item in train_data.data if item[\"class_name\"] == \"HeadCT\"]\n",
    "image_size = 64\n",
    "train_transforms = transforms.Compose(\n",
    "    [\n",
    "        transforms.LoadImaged(keys=[\"image\"]),\n",
    "        transforms.EnsureChannelFirstd(keys=[\"image\"]),\n",
    "        transforms.ScaleIntensityRanged(keys=[\"image\"], a_min=0.0, a_max=255.0, b_min=0.0, b_max=1.0, clip=True),\n",
    "        transforms.RandAffined(\n",
    "            keys=[\"image\"],\n",
    "            rotate_range=[(-np.pi / 36, np.pi / 36), (-np.pi / 36, np.pi / 36)],\n",
    "            translate_range=[(-1, 1), (-1, 1)],\n",
    "            scale_range=[(-0.01, 0.01), (-0.01, 0.01)],\n",
    "            spatial_size=[image_size, image_size],\n",
    "            padding_mode=\"zeros\",\n",
    "            prob=0.5,\n",
    "        ),\n",
    "    ]\n",
    ")\n",
    "train_ds = Dataset(data=train_datalist, transform=train_transforms)\n",
    "train_loader = DataLoader(train_ds, batch_size=256, shuffle=True, num_workers=4, persistent_workers=True)"
   ]
  },
  {
   "cell_type": "markdown",
   "id": "ec356258",
   "metadata": {},
   "source": [
    "### Visualise some examples from the dataset"
   ]
  },
  {
   "cell_type": "code",
   "execution_count": 6,
   "id": "33d7c3dc",
   "metadata": {},
   "outputs": [
    {
     "data": {
      "image/png": "[encoded data removed]",
      "text/plain": [
       "<Figure size 640x480 with 3 Axes>"
      ]
     },
     "metadata": {},
     "output_type": "display_data"
    }
   ],
   "source": [
    "# Plot 3 examples from the training set\n",
    "check_data = first(train_loader)\n",
    "fig, ax = plt.subplots(nrows=1, ncols=3)\n",
    "for image_n in range(3):\n",
    "    ax[image_n].imshow(check_data[\"image\"][image_n, 0, :, :], cmap=\"gray\")\n",
    "    ax[image_n].axis(\"off\")"
   ]
  },
  {
   "cell_type": "markdown",
   "id": "d860d83a",
   "metadata": {},
   "source": [
    "### Download Validation Data"
   ]
  },
  {
   "cell_type": "code",
   "execution_count": 7,
   "id": "ec954b77",
   "metadata": {},
   "outputs": [
    {
     "name": "stdout",
     "output_type": "stream",
     "text": [
      "2023-03-10 23:52:35,261 - INFO - Verified 'MedNIST.tar.gz', md5: 0bc7306e7427e00ad1c5526a6677552d.\n",
      "2023-03-10 23:52:35,262 - INFO - File exists: /tmp/tmpaurm48lm/MedNIST.tar.gz, skipped downloading.\n",
      "2023-03-10 23:52:35,262 - INFO - Non-empty folder exists in /tmp/tmpaurm48lm/MedNIST, skipped extracting.\n"
     ]
    },
    {
     "name": "stderr",
     "output_type": "stream",
     "text": [
      "Loading dataset: 100%|███████████████████████████████████████████████████████████████████| 5895/5895 [00:01<00:00, 3401.03it/s]\n"
     ]
    }
   ],
   "source": [
    "val_data = MedNISTDataset(root_dir=root_dir, section=\"validation\", download=True, seed=0)\n",
    "val_datalist = [{\"image\": item[\"image\"]} for item in val_data.data if item[\"class_name\"] == \"HeadCT\"]\n",
    "val_transforms = transforms.Compose(\n",
    "    [\n",
    "        transforms.LoadImaged(keys=[\"image\"]),\n",
    "        transforms.EnsureChannelFirstd(keys=[\"image\"]),\n",
    "        transforms.ScaleIntensityRanged(keys=[\"image\"], a_min=0.0, a_max=255.0, b_min=0.0, b_max=1.0, clip=True),\n",
    "    ]\n",
    ")\n",
    "val_ds = Dataset(data=val_datalist, transform=val_transforms)\n",
    "val_loader = DataLoader(val_ds, batch_size=256, shuffle=False, num_workers=4, persistent_workers=True)"
   ]
  },
  {
   "cell_type": "markdown",
   "id": "09da3d54",
   "metadata": {},
   "source": [
    "## Vector Quantized Variational Autoencoder\n",
    "\n",
    "The first step is to train a Vector Quantized Variation Autoencoder (VQ-VAE). This network is responsible for creating a compressed version of the inputted data. Once its training is done, we can use the encoder to obtain smaller and discrete representations of the 2D images to generate the inputs required for our autoregressive transformer.\n",
    "\n",
    "For its training, we will use the L1 loss, and we will update its codebook using a method based on Exponential Moving Average (EMA)."
   ]
  },
  {
   "cell_type": "markdown",
   "id": "2c7a91c3",
   "metadata": {},
   "source": [
    "### Define network, optimizer and losses"
   ]
  },
  {
   "cell_type": "code",
   "execution_count": 8,
   "id": "757d00ff",
   "metadata": {},
   "outputs": [
    {
     "name": "stdout",
     "output_type": "stream",
     "text": [
      "Using cuda\n"
     ]
    },
    {
     "data": {
      "text/plain": [
       "VQVAE(\n",
       "  (encoder): Encoder(\n",
       "    (blocks): ModuleList(\n",
       "      (0): Convolution(\n",
       "        (conv): Conv2d(1, 256, kernel_size=(4, 4), stride=(2, 2), padding=(1, 1))\n",
       "        (adn): ADN(\n",
       "          (A): ReLU()\n",
       "        )\n",
       "      )\n",
       "      (1): VQVAEResidualUnit(\n",
       "        (conv1): Convolution(\n",
       "          (conv): Conv2d(256, 256, kernel_size=(3, 3), stride=(1, 1), padding=(1, 1))\n",
       "          (adn): ADN(\n",
       "            (D): Dropout(p=0.0, inplace=False)\n",
       "            (A): ReLU()\n",
       "          )\n",
       "        )\n",
       "        (conv2): Convolution(\n",
       "          (conv): Conv2d(256, 256, kernel_size=(3, 3), stride=(1, 1), padding=(1, 1))\n",
       "        )\n",
       "      )\n",
       "      (2): VQVAEResidualUnit(\n",
       "        (conv1): Convolution(\n",
       "          (conv): Conv2d(256, 256, kernel_size=(3, 3), stride=(1, 1), padding=(1, 1))\n",
       "          (adn): ADN(\n",
       "            (D): Dropout(p=0.0, inplace=False)\n",
       "            (A): ReLU()\n",
       "          )\n",
       "        )\n",
       "        (conv2): Convolution(\n",
       "          (conv): Conv2d(256, 256, kernel_size=(3, 3), stride=(1, 1), padding=(1, 1))\n",
       "        )\n",
       "      )\n",
       "      (3): Convolution(\n",
       "        (conv): Conv2d(256, 256, kernel_size=(4, 4), stride=(2, 2), padding=(1, 1))\n",
       "        (adn): ADN(\n",
       "          (D): Dropout(p=0.0, inplace=False)\n",
       "          (A): ReLU()\n",
       "        )\n",
       "      )\n",
       "      (4): VQVAEResidualUnit(\n",
       "        (conv1): Convolution(\n",
       "          (conv): Conv2d(256, 256, kernel_size=(3, 3), stride=(1, 1), padding=(1, 1))\n",
       "          (adn): ADN(\n",
       "            (D): Dropout(p=0.0, inplace=False)\n",
       "            (A): ReLU()\n",
       "          )\n",
       "        )\n",
       "        (conv2): Convolution(\n",
       "          (conv): Conv2d(256, 256, kernel_size=(3, 3), stride=(1, 1), padding=(1, 1))\n",
       "        )\n",
       "      )\n",
       "      (5): VQVAEResidualUnit(\n",
       "        (conv1): Convolution(\n",
       "          (conv): Conv2d(256, 256, kernel_size=(3, 3), stride=(1, 1), padding=(1, 1))\n",
       "          (adn): ADN(\n",
       "            (D): Dropout(p=0.0, inplace=False)\n",
       "            (A): ReLU()\n",
       "          )\n",
       "        )\n",
       "        (conv2): Convolution(\n",
       "          (conv): Conv2d(256, 256, kernel_size=(3, 3), stride=(1, 1), padding=(1, 1))\n",
       "        )\n",
       "      )\n",
       "      (6): Convolution(\n",
       "        (conv): Conv2d(256, 64, kernel_size=(3, 3), stride=(1, 1), padding=(1, 1))\n",
       "      )\n",
       "    )\n",
       "  )\n",
       "  (decoder): Decoder(\n",
       "    (blocks): ModuleList(\n",
       "      (0): Convolution(\n",
       "        (conv): Conv2d(64, 256, kernel_size=(3, 3), stride=(1, 1), padding=(1, 1))\n",
       "      )\n",
       "      (1): VQVAEResidualUnit(\n",
       "        (conv1): Convolution(\n",
       "          (conv): Conv2d(256, 256, kernel_size=(3, 3), stride=(1, 1), padding=(1, 1))\n",
       "          (adn): ADN(\n",
       "            (D): Dropout(p=0.0, inplace=False)\n",
       "            (A): ReLU()\n",
       "          )\n",
       "        )\n",
       "        (conv2): Convolution(\n",
       "          (conv): Conv2d(256, 256, kernel_size=(3, 3), stride=(1, 1), padding=(1, 1))\n",
       "        )\n",
       "      )\n",
       "      (2): VQVAEResidualUnit(\n",
       "        (conv1): Convolution(\n",
       "          (conv): Conv2d(256, 256, kernel_size=(3, 3), stride=(1, 1), padding=(1, 1))\n",
       "          (adn): ADN(\n",
       "            (D): Dropout(p=0.0, inplace=False)\n",
       "            (A): ReLU()\n",
       "          )\n",
       "        )\n",
       "        (conv2): Convolution(\n",
       "          (conv): Conv2d(256, 256, kernel_size=(3, 3), stride=(1, 1), padding=(1, 1))\n",
       "        )\n",
       "      )\n",
       "      (3): Convolution(\n",
       "        (conv): ConvTranspose2d(256, 256, kernel_size=(4, 4), stride=(2, 2), padding=(1, 1))\n",
       "        (adn): ADN(\n",
       "          (D): Dropout(p=0.0, inplace=False)\n",
       "          (A): ReLU()\n",
       "        )\n",
       "      )\n",
       "      (4): VQVAEResidualUnit(\n",
       "        (conv1): Convolution(\n",
       "          (conv): Conv2d(256, 256, kernel_size=(3, 3), stride=(1, 1), padding=(1, 1))\n",
       "          (adn): ADN(\n",
       "            (D): Dropout(p=0.0, inplace=False)\n",
       "            (A): ReLU()\n",
       "          )\n",
       "        )\n",
       "        (conv2): Convolution(\n",
       "          (conv): Conv2d(256, 256, kernel_size=(3, 3), stride=(1, 1), padding=(1, 1))\n",
       "        )\n",
       "      )\n",
       "      (5): VQVAEResidualUnit(\n",
       "        (conv1): Convolution(\n",
       "          (conv): Conv2d(256, 256, kernel_size=(3, 3), stride=(1, 1), padding=(1, 1))\n",
       "          (adn): ADN(\n",
       "            (D): Dropout(p=0.0, inplace=False)\n",
       "            (A): ReLU()\n",
       "          )\n",
       "        )\n",
       "        (conv2): Convolution(\n",
       "          (conv): Conv2d(256, 256, kernel_size=(3, 3), stride=(1, 1), padding=(1, 1))\n",
       "        )\n",
       "      )\n",
       "      (6): Convolution(\n",
       "        (conv): ConvTranspose2d(256, 1, kernel_size=(4, 4), stride=(2, 2), padding=(1, 1))\n",
       "      )\n",
       "    )\n",
       "  )\n",
       "  (quantizer): VectorQuantizer(\n",
       "    (quantizer): EMAQuantizer(\n",
       "      (embedding): Embedding(16, 64)\n",
       "    )\n",
       "  )\n",
       ")"
      ]
     },
     "execution_count": 8,
     "metadata": {},
     "output_type": "execute_result"
    }
   ],
   "source": [
    "device = torch.device(\"cuda\" if torch.cuda.is_available() else \"cpu\")\n",
    "print(f\"Using {device}\")\n",
    "\n",
    "vqvae_model = VQVAE(\n",
    "    spatial_dims=2,\n",
    "    in_channels=1,\n",
    "    out_channels=1,\n",
    "    num_res_layers=2,\n",
    "    downsample_parameters=((2, 4, 1, 1), (2, 4, 1, 1)),\n",
    "    upsample_parameters=((2, 4, 1, 1, 0), (2, 4, 1, 1, 0)),\n",
    "    num_channels=(256, 256),\n",
    "    num_res_channels=(256, 256),\n",
    "    num_embeddings=16,\n",
    "    embedding_dim=64,\n",
    ")\n",
    "vqvae_model.to(device)"
   ]
  },
  {
   "cell_type": "code",
   "execution_count": 9,
   "id": "7611f596",
   "metadata": {},
   "outputs": [],
   "source": [
    "optimizer = torch.optim.Adam(params=vqvae_model.parameters(), lr=5e-4)\n",
    "l1_loss = L1Loss()"
   ]
  },
  {
   "cell_type": "markdown",
   "id": "f1d81a89",
   "metadata": {},
   "source": [
    "### VQ-VAE Model training\n",
    "We will train our VQ-VAE for 50 epochs."
   ]
  },
  {
   "cell_type": "code",
   "execution_count": 10,
   "id": "fe7459e4",
   "metadata": {},
   "outputs": [
    {
     "name": "stderr",
     "output_type": "stream",
     "text": [
      "Epoch 0: 100%|██████████████████| 32/32 [00:29<00:00,  1.07it/s, recons_loss=0.207, quantization_loss=1.48e-6]\n",
      "Epoch 1: 100%|██████████████████| 32/32 [00:29<00:00,  1.08it/s, recons_loss=0.099, quantization_loss=4.51e-6]\n",
      "Epoch 2: 100%|█████████████████| 32/32 [00:29<00:00,  1.08it/s, recons_loss=0.0732, quantization_loss=7.78e-5]\n",
      "Epoch 3: 100%|█████████████████| 32/32 [00:29<00:00,  1.07it/s, recons_loss=0.0587, quantization_loss=3.59e-5]\n",
      "Epoch 4: 100%|█████████████████| 32/32 [00:30<00:00,  1.06it/s, recons_loss=0.0529, quantization_loss=3.12e-5]\n",
      "Epoch 5: 100%|██████████████████| 32/32 [00:30<00:00,  1.05it/s, recons_loss=0.047, quantization_loss=3.68e-5]\n",
      "Epoch 6: 100%|█████████████████| 32/32 [00:30<00:00,  1.05it/s, recons_loss=0.0421, quantization_loss=4.53e-5]\n",
      "Epoch 7: 100%|█████████████████| 32/32 [00:30<00:00,  1.04it/s, recons_loss=0.0406, quantization_loss=4.59e-5]\n",
      "Epoch 8: 100%|█████████████████| 32/32 [00:31<00:00,  1.03it/s, recons_loss=0.0392, quantization_loss=3.37e-5]\n",
      "Epoch 9: 100%|█████████████████| 32/32 [00:31<00:00,  1.03it/s, recons_loss=0.0358, quantization_loss=4.11e-5]\n",
      "Epoch 10: 100%|████████████████| 32/32 [00:31<00:00,  1.03it/s, recons_loss=0.0331, quantization_loss=3.34e-5]\n",
      "Epoch 11: 100%|████████████████| 32/32 [00:31<00:00,  1.02it/s, recons_loss=0.0322, quantization_loss=3.38e-5]\n",
      "Epoch 12: 100%|████████████████| 32/32 [00:31<00:00,  1.03it/s, recons_loss=0.0302, quantization_loss=3.61e-5]\n",
      "Epoch 13: 100%|████████████████| 32/32 [00:31<00:00,  1.03it/s, recons_loss=0.0297, quantization_loss=3.42e-5]\n",
      "Epoch 14: 100%|████████████████| 32/32 [00:30<00:00,  1.04it/s, recons_loss=0.0305, quantization_loss=5.24e-5]\n",
      "Epoch 15: 100%|████████████████| 32/32 [00:30<00:00,  1.04it/s, recons_loss=0.0308, quantization_loss=4.61e-5]\n",
      "Epoch 16: 100%|████████████████| 32/32 [00:30<00:00,  1.04it/s, recons_loss=0.0292, quantization_loss=6.12e-5]\n",
      "Epoch 17: 100%|██████████████████| 32/32 [00:30<00:00,  1.04it/s, recons_loss=0.03, quantization_loss=5.07e-5]\n",
      "Epoch 18: 100%|████████████████| 32/32 [00:30<00:00,  1.05it/s, recons_loss=0.0276, quantization_loss=7.42e-5]\n",
      "Epoch 19: 100%|████████████████| 32/32 [00:30<00:00,  1.05it/s, recons_loss=0.0275, quantization_loss=9.32e-5]\n",
      "Epoch 20: 100%|███████████████| 32/32 [00:30<00:00,  1.04it/s, recons_loss=0.0295, quantization_loss=0.000102]\n",
      "Epoch 21: 100%|███████████████| 32/32 [00:30<00:00,  1.04it/s, recons_loss=0.0288, quantization_loss=0.000104]\n",
      "Epoch 22: 100%|████████████████| 32/32 [00:30<00:00,  1.04it/s, recons_loss=0.0271, quantization_loss=8.86e-5]\n",
      "Epoch 23: 100%|████████████████| 32/32 [00:30<00:00,  1.04it/s, recons_loss=0.0263, quantization_loss=9.44e-5]\n",
      "Epoch 24: 100%|███████████████| 32/32 [00:30<00:00,  1.05it/s, recons_loss=0.0263, quantization_loss=0.000108]\n",
      "Epoch 25: 100%|███████████████| 32/32 [00:30<00:00,  1.04it/s, recons_loss=0.0251, quantization_loss=0.000105]\n",
      "Epoch 26: 100%|███████████████| 32/32 [00:30<00:00,  1.05it/s, recons_loss=0.0261, quantization_loss=0.000109]\n",
      "Epoch 27: 100%|███████████████| 32/32 [00:30<00:00,  1.05it/s, recons_loss=0.0267, quantization_loss=0.000115]\n",
      "Epoch 28: 100%|█████████████████| 32/32 [00:30<00:00,  1.05it/s, recons_loss=0.027, quantization_loss=8.48e-5]\n",
      "Epoch 29: 100%|███████████████| 32/32 [00:30<00:00,  1.04it/s, recons_loss=0.0257, quantization_loss=0.000122]\n",
      "Epoch 30: 100%|███████████████| 32/32 [00:30<00:00,  1.04it/s, recons_loss=0.0241, quantization_loss=0.000109]\n",
      "Epoch 31: 100%|████████████████| 32/32 [00:30<00:00,  1.05it/s, recons_loss=0.024, quantization_loss=0.000107]\n",
      "Epoch 32: 100%|███████████████| 32/32 [00:30<00:00,  1.05it/s, recons_loss=0.0241, quantization_loss=0.000108]\n",
      "Epoch 33: 100%|███████████████| 32/32 [00:30<00:00,  1.04it/s, recons_loss=0.0244, quantization_loss=0.000111]\n",
      "Epoch 34: 100%|███████████████| 32/32 [00:30<00:00,  1.05it/s, recons_loss=0.0241, quantization_loss=0.000117]\n",
      "Epoch 35: 100%|███████████████| 32/32 [00:30<00:00,  1.05it/s, recons_loss=0.0245, quantization_loss=0.000124]\n",
      "Epoch 36: 100%|████████████████| 32/32 [00:30<00:00,  1.05it/s, recons_loss=0.0276, quantization_loss=0.00012]\n",
      "Epoch 37: 100%|███████████████| 32/32 [00:30<00:00,  1.04it/s, recons_loss=0.0258, quantization_loss=0.000137]\n",
      "Epoch 38: 100%|████████████████| 32/32 [00:30<00:00,  1.05it/s, recons_loss=0.0242, quantization_loss=0.00011]\n",
      "Epoch 39: 100%|███████████████| 32/32 [00:30<00:00,  1.05it/s, recons_loss=0.0236, quantization_loss=0.000131]\n",
      "Epoch 40: 100%|███████████████| 32/32 [00:30<00:00,  1.04it/s, recons_loss=0.0227, quantization_loss=0.000125]\n",
      "Epoch 41: 100%|███████████████| 32/32 [00:30<00:00,  1.04it/s, recons_loss=0.0227, quantization_loss=0.000118]\n",
      "Epoch 42: 100%|███████████████| 32/32 [00:30<00:00,  1.05it/s, recons_loss=0.0239, quantization_loss=0.000112]\n",
      "Epoch 43: 100%|███████████████| 32/32 [00:30<00:00,  1.05it/s, recons_loss=0.0267, quantization_loss=0.000131]\n",
      "Epoch 44: 100%|███████████████| 32/32 [00:30<00:00,  1.04it/s, recons_loss=0.0249, quantization_loss=0.000113]\n",
      "Epoch 45: 100%|███████████████| 32/32 [00:30<00:00,  1.04it/s, recons_loss=0.0243, quantization_loss=0.000131]\n",
      "Epoch 46: 100%|███████████████| 32/32 [00:30<00:00,  1.05it/s, recons_loss=0.0248, quantization_loss=0.000108]\n",
      "Epoch 47: 100%|███████████████| 32/32 [00:30<00:00,  1.05it/s, recons_loss=0.0243, quantization_loss=0.000122]\n",
      "Epoch 48: 100%|███████████████| 32/32 [00:30<00:00,  1.04it/s, recons_loss=0.0237, quantization_loss=0.000143]\n",
      "Epoch 49: 100%|███████████████| 32/32 [00:30<00:00,  1.04it/s, recons_loss=0.0241, quantization_loss=0.000121]\n",
      "Epoch 50: 100%|███████████████| 32/32 [00:30<00:00,  1.05it/s, recons_loss=0.0232, quantization_loss=0.000119]\n",
      "Epoch 51: 100%|███████████████| 32/32 [00:30<00:00,  1.05it/s, recons_loss=0.0233, quantization_loss=0.000131]\n",
      "Epoch 52: 100%|████████████████| 32/32 [00:30<00:00,  1.05it/s, recons_loss=0.0226, quantization_loss=0.00017]\n",
      "Epoch 53: 100%|████████████████| 32/32 [00:30<00:00,  1.04it/s, recons_loss=0.022, quantization_loss=0.000167]\n",
      "Epoch 54: 100%|███████████████| 32/32 [00:30<00:00,  1.05it/s, recons_loss=0.0216, quantization_loss=0.000186]\n",
      "Epoch 55: 100%|███████████████| 32/32 [00:30<00:00,  1.04it/s, recons_loss=0.0219, quantization_loss=0.000161]\n",
      "Epoch 56: 100%|███████████████| 32/32 [00:30<00:00,  1.04it/s, recons_loss=0.0216, quantization_loss=0.000138]\n",
      "Epoch 57: 100%|█████████████████| 32/32 [00:30<00:00,  1.04it/s, recons_loss=0.022, quantization_loss=0.00015]\n",
      "Epoch 58: 100%|████████████████| 32/32 [00:30<00:00,  1.05it/s, recons_loss=0.024, quantization_loss=0.000124]\n",
      "Epoch 59: 100%|███████████████| 32/32 [00:30<00:00,  1.04it/s, recons_loss=0.0243, quantization_loss=0.000117]\n",
      "Epoch 60: 100%|█████████████████| 32/32 [00:30<00:00,  1.04it/s, recons_loss=0.023, quantization_loss=0.00017]\n",
      "Epoch 61: 100%|███████████████| 32/32 [00:30<00:00,  1.04it/s, recons_loss=0.0218, quantization_loss=0.000161]\n",
      "Epoch 62: 100%|███████████████| 32/32 [00:30<00:00,  1.05it/s, recons_loss=0.0213, quantization_loss=0.000153]\n",
      "Epoch 63: 100%|███████████████| 32/32 [00:30<00:00,  1.05it/s, recons_loss=0.0212, quantization_loss=0.000139]\n",
      "Epoch 64: 100%|████████████████| 32/32 [00:30<00:00,  1.05it/s, recons_loss=0.022, quantization_loss=0.000149]\n",
      "Epoch 65: 100%|███████████████| 32/32 [00:30<00:00,  1.05it/s, recons_loss=0.0213, quantization_loss=0.000159]\n",
      "Epoch 66: 100%|███████████████| 32/32 [00:30<00:00,  1.04it/s, recons_loss=0.0209, quantization_loss=0.000138]\n",
      "Epoch 67: 100%|███████████████| 32/32 [00:30<00:00,  1.05it/s, recons_loss=0.0216, quantization_loss=0.000117]\n",
      "Epoch 68: 100%|███████████████| 32/32 [00:30<00:00,  1.04it/s, recons_loss=0.0223, quantization_loss=0.000143]\n",
      "Epoch 69: 100%|████████████████| 32/32 [00:30<00:00,  1.04it/s, recons_loss=0.0225, quantization_loss=0.00012]\n",
      "Epoch 70: 100%|███████████████| 32/32 [00:30<00:00,  1.04it/s, recons_loss=0.0246, quantization_loss=0.000147]\n",
      "Epoch 71: 100%|███████████████| 32/32 [00:30<00:00,  1.05it/s, recons_loss=0.0235, quantization_loss=0.000151]\n",
      "Epoch 72: 100%|████████████████| 32/32 [00:30<00:00,  1.05it/s, recons_loss=0.023, quantization_loss=0.000159]\n"
     ]
    },
    {
     "name": "stderr",
     "output_type": "stream",
     "text": [
      "Epoch 73: 100%|███████████████| 32/32 [00:30<00:00,  1.04it/s, recons_loss=0.0217, quantization_loss=0.000164]\n",
      "Epoch 74: 100%|███████████████| 32/32 [00:30<00:00,  1.04it/s, recons_loss=0.0212, quantization_loss=0.000134]\n"
     ]
    },
    {
     "name": "stdout",
     "output_type": "stream",
     "text": [
      "train completed, total time: 2301.2195658683777.\n"
     ]
    }
   ],
   "source": [
    "n_epochs = 75\n",
    "val_interval = 25\n",
    "epoch_losses = []\n",
    "val_epoch_losses = []\n",
    "\n",
    "total_start = time.time()\n",
    "for epoch in range(n_epochs):\n",
    "    vqvae_model.train()\n",
    "    epoch_loss = 0\n",
    "    progress_bar = tqdm(enumerate(train_loader), total=len(train_loader), ncols=110)\n",
    "    progress_bar.set_description(f\"Epoch {epoch}\")\n",
    "    for step, batch in progress_bar:\n",
    "        images = batch[\"image\"].to(device)\n",
    "        optimizer.zero_grad(set_to_none=True)\n",
    "\n",
    "        # model outputs reconstruction and the quantization error\n",
    "        reconstruction, quantization_loss = vqvae_model(images=images)\n",
    "        recons_loss = l1_loss(reconstruction.float(), images.float())\n",
    "        loss = recons_loss + quantization_loss\n",
    "\n",
    "        loss.backward()\n",
    "        optimizer.step()\n",
    "\n",
    "        epoch_loss += recons_loss.item()\n",
    "\n",
    "        progress_bar.set_postfix(\n",
    "            {\"recons_loss\": epoch_loss / (step + 1), \"quantization_loss\": quantization_loss.item() / (step + 1)}\n",
    "        )\n",
    "    epoch_losses.append(epoch_loss / (step + 1))\n",
    "\n",
    "    if (epoch + 1) % val_interval == 0:\n",
    "        vqvae_model.eval()\n",
    "        val_loss = 0\n",
    "        with torch.no_grad():\n",
    "            for val_step, batch in enumerate(val_loader, start=1):\n",
    "                images = batch[\"image\"].to(device)\n",
    "                reconstruction, quantization_loss = vqvae_model(images=images)\n",
    "                recons_loss = l1_loss(reconstruction.float(), images.float())\n",
    "                val_loss += recons_loss.item()\n",
    "\n",
    "        val_loss /= val_step\n",
    "        val_epoch_losses.append(val_loss)\n",
    "\n",
    "total_time = time.time() - total_start\n",
    "print(f\"train completed, total time: {total_time}.\")"
   ]
  },
  {
   "cell_type": "markdown",
   "id": "8dfa3270",
   "metadata": {},
   "source": [
    "### Plot reconstructions of final trained vqvae model"
   ]
  },
  {
   "cell_type": "code",
   "execution_count": 11,
   "id": "0789cfcc",
   "metadata": {},
   "outputs": [
    {
     "data": {
      "image/png": "[encoded data removed]",
      "text/plain": [
       "<Figure size 640x480 with 2 Axes>"
      ]
     },
     "metadata": {},
     "output_type": "display_data"
    }
   ],
   "source": [
    "fig, ax = plt.subplots(nrows=1, ncols=2)\n",
    "ax[0].imshow(images[0, 0].detach().cpu(), vmin=0, vmax=1, cmap=\"gray\")\n",
    "ax[0].axis(\"off\")\n",
    "ax[0].title.set_text(\"Inputted Image\")\n",
    "ax[1].imshow(reconstruction[0, 0].detach().cpu(), vmin=0, vmax=1, cmap=\"gray\")\n",
    "ax[1].axis(\"off\")\n",
    "ax[1].title.set_text(\"Reconstruction\")\n",
    "plt.show()"
   ]
  },
  {
   "cell_type": "markdown",
   "id": "773f5f43",
   "metadata": {},
   "source": [
    "# Autoregressive Transformer\n",
    "\n",
    "Now that our VQ-VAE model has been trained, we can use this model to encode the data into its discrete latent representations. Then, to be able to input it into the autoregressive Transformer, it is necessary to transform this 2D latent representation into a 1D sequence.\n",
    "\n",
    "In order to train it in an autoregressive manner, we will use the CrossEntropy Loss as the Transformer will try to predict the next token value for each position of the sequence.\n",
    "\n",
    "Here we will use the MONAI's `VQVAETransformerInferer` class to help with the forward pass and to get the predicted likelihood from the VQ-VAE + Transformer models."
   ]
  },
  {
   "cell_type": "markdown",
   "id": "83352d19",
   "metadata": {},
   "source": [
    "### Datasets\n",
    "We can use the same dataloader with augmentations as used for training the VQVAE model. However given the memory intensive nature of Transformers we will need to reduce the batch size."
   ]
  },
  {
   "cell_type": "code",
   "execution_count": 12,
   "id": "2b3c3a82",
   "metadata": {},
   "outputs": [],
   "source": [
    "train_loader = DataLoader(train_ds, batch_size=32, shuffle=True, num_workers=4, persistent_workers=True)\n",
    "val_loader = DataLoader(val_ds, batch_size=32, shuffle=False, num_workers=4, persistent_workers=True)"
   ]
  },
  {
   "cell_type": "markdown",
   "id": "b0f5a3cd",
   "metadata": {},
   "source": [
    "### 2D latent representation -> 1D sequence\n",
    "We need to define an ordering of which we convert our 2D latent space into a 1D sequence. For this we will use a simple raster scan."
   ]
  },
  {
   "cell_type": "code",
   "execution_count": 13,
   "id": "efab0cc5",
   "metadata": {},
   "outputs": [],
   "source": [
    "spatial_shape = next(iter(train_loader))[\"image\"].shape[2:]"
   ]
  },
  {
   "cell_type": "code",
   "execution_count": 14,
   "id": "f91086e3",
   "metadata": {
    "lines_to_next_cell": 2
   },
   "outputs": [],
   "source": [
    "# Get spatial dimensions of data\n",
    "# We divide the spatial shape by 4 as the vqvae downsamples the image by a factor of 4 along each dimension\n",
    "spatial_shape = next(iter(train_loader))[\"image\"].shape[2:]\n",
    "spatial_shape = (int(spatial_shape[0] / 4), int(spatial_shape[1] / 4))\n",
    "\n",
    "ordering = Ordering(ordering_type=OrderingType.RASTER_SCAN.value, spatial_dims=2, dimensions=(1,) + spatial_shape)"
   ]
  },
  {
   "cell_type": "markdown",
   "id": "ace09890",
   "metadata": {},
   "source": [
    "### Define network, inferer, optimizer and loss function"
   ]
  },
  {
   "cell_type": "code",
   "execution_count": 15,
   "id": "aab1891a",
   "metadata": {},
   "outputs": [],
   "source": [
    "device = torch.device(\"cuda\" if torch.cuda.is_available() else \"cpu\")\n",
    "\n",
    "transformer_model = DecoderOnlyTransformer(\n",
    "    num_tokens=16+1,\n",
    "    max_seq_len=spatial_shape[0] * spatial_shape[1],\n",
    "    attn_layers_dim=256,\n",
    "    attn_layers_depth=20,\n",
    "    attn_layers_heads=16,\n",
    ")\n",
    "transformer_model.to(device)\n",
    "\n",
    "inferer = VQVAETransformerInferer()"
   ]
  },
  {
   "cell_type": "code",
   "execution_count": 16,
   "id": "fa3cd231",
   "metadata": {},
   "outputs": [],
   "source": [
    "optimizer = torch.optim.Adam(params=transformer_model.parameters(), lr=1e-4)\n",
    "ce_loss = CrossEntropyLoss()"
   ]
  },
  {
   "cell_type": "markdown",
   "id": "0921fcfb",
   "metadata": {},
   "source": [
    "### Transformer Training\n",
    "We will train the Transformer for 100 epochs."
   ]
  },
  {
   "cell_type": "code",
   "execution_count": 17,
   "id": "9c32f0a9",
   "metadata": {},
   "outputs": [
    {
     "name": "stderr",
     "output_type": "stream",
     "text": [
      "Epoch 0: 100%|███████████████████████████████████████████████| 250/250 [01:38<00:00,  2.55it/s, ce_loss=0.302]\n",
      "Epoch 1: 100%|█████████████████████████████████████████████| 250/250 [01:37<00:00,  2.55it/s, ce_loss=0.00183]\n",
      "Epoch 2: 100%|█████████████████████████████████████████████| 250/250 [01:38<00:00,  2.55it/s, ce_loss=0.00124]\n",
      "Epoch 3: 100%|████████████████████████████████████████████| 250/250 [01:38<00:00,  2.55it/s, ce_loss=0.000942]\n",
      "Epoch 4: 100%|████████████████████████████████████████████| 250/250 [01:38<00:00,  2.55it/s, ce_loss=0.000746]\n",
      "Epoch 5: 100%|████████████████████████████████████████████| 250/250 [01:38<00:00,  2.55it/s, ce_loss=0.000604]\n",
      "Epoch 6: 100%|████████████████████████████████████████████| 250/250 [01:38<00:00,  2.54it/s, ce_loss=0.000495]\n",
      "Epoch 7: 100%|████████████████████████████████████████████| 250/250 [01:38<00:00,  2.55it/s, ce_loss=0.000411]\n",
      "Epoch 8: 100%|████████████████████████████████████████████| 250/250 [01:38<00:00,  2.55it/s, ce_loss=0.000343]\n",
      "Epoch 9: 100%|████████████████████████████████████████████| 250/250 [01:38<00:00,  2.55it/s, ce_loss=0.000289]\n",
      "Epoch 10: 100%|███████████████████████████████████████████| 250/250 [01:37<00:00,  2.55it/s, ce_loss=0.000244]\n",
      "Epoch 11: 100%|███████████████████████████████████████████| 250/250 [01:37<00:00,  2.55it/s, ce_loss=0.000208]\n",
      "Epoch 12: 100%|███████████████████████████████████████████| 250/250 [01:37<00:00,  2.55it/s, ce_loss=0.000177]\n",
      "Epoch 13: 100%|███████████████████████████████████████████| 250/250 [01:38<00:00,  2.55it/s, ce_loss=0.000152]\n",
      "Epoch 14: 100%|████████████████████████████████████████████| 250/250 [01:37<00:00,  2.55it/s, ce_loss=0.00013]\n",
      "Epoch 15: 100%|███████████████████████████████████████████| 250/250 [01:37<00:00,  2.55it/s, ce_loss=0.000112]\n",
      "Epoch 16: 100%|█████████████████████████████████████████████| 250/250 [01:37<00:00,  2.55it/s, ce_loss=9.7e-5]\n",
      "Epoch 17: 100%|████████████████████████████████████████████| 250/250 [01:38<00:00,  2.55it/s, ce_loss=8.37e-5]\n",
      "Epoch 18: 100%|████████████████████████████████████████████| 250/250 [01:37<00:00,  2.56it/s, ce_loss=7.26e-5]\n",
      "Epoch 19: 100%|█████████████████████████████████████████████| 250/250 [01:37<00:00,  2.56it/s, ce_loss=6.3e-5]\n",
      "Epoch 20: 100%|████████████████████████████████████████████| 250/250 [01:37<00:00,  2.56it/s, ce_loss=5.48e-5]\n",
      "Epoch 21: 100%|████████████████████████████████████████████| 250/250 [01:37<00:00,  2.56it/s, ce_loss=4.75e-5]\n",
      "Epoch 22: 100%|████████████████████████████████████████████| 250/250 [01:37<00:00,  2.56it/s, ce_loss=4.14e-5]\n",
      "Epoch 23: 100%|█████████████████████████████████████████████| 250/250 [01:37<00:00,  2.56it/s, ce_loss=3.6e-5]\n",
      "Epoch 24: 100%|████████████████████████████████████████████| 250/250 [01:37<00:00,  2.56it/s, ce_loss=3.13e-5]\n",
      "Epoch 25: 100%|████████████████████████████████████████████| 250/250 [01:37<00:00,  2.55it/s, ce_loss=2.73e-5]\n",
      "Epoch 26: 100%|████████████████████████████████████████████| 250/250 [01:37<00:00,  2.56it/s, ce_loss=2.38e-5]\n",
      "Epoch 27: 100%|████████████████████████████████████████████| 250/250 [01:37<00:00,  2.56it/s, ce_loss=2.08e-5]\n",
      "Epoch 28: 100%|████████████████████████████████████████████| 250/250 [01:37<00:00,  2.55it/s, ce_loss=1.82e-5]\n",
      "Epoch 29: 100%|████████████████████████████████████████████| 250/250 [01:37<00:00,  2.56it/s, ce_loss=1.58e-5]\n",
      "Epoch 30: 100%|████████████████████████████████████████████| 250/250 [01:37<00:00,  2.55it/s, ce_loss=1.39e-5]\n",
      "Epoch 31: 100%|████████████████████████████████████████████| 250/250 [01:37<00:00,  2.55it/s, ce_loss=1.21e-5]\n",
      "Epoch 32: 100%|████████████████████████████████████████████| 250/250 [01:37<00:00,  2.56it/s, ce_loss=1.05e-5]\n",
      "Epoch 33: 100%|████████████████████████████████████████████| 250/250 [01:37<00:00,  2.56it/s, ce_loss=9.23e-6]\n",
      "Epoch 34: 100%|████████████████████████████████████████████| 250/250 [01:37<00:00,  2.56it/s, ce_loss=8.08e-6]\n",
      "Epoch 35: 100%|████████████████████████████████████████████| 250/250 [01:37<00:00,  2.55it/s, ce_loss=7.06e-6]\n",
      "Epoch 36: 100%|████████████████████████████████████████████| 250/250 [01:37<00:00,  2.56it/s, ce_loss=6.16e-6]\n",
      "Epoch 37: 100%|█████████████████████████████████████████████| 250/250 [01:37<00:00,  2.56it/s, ce_loss=5.4e-6]\n",
      "Epoch 38: 100%|████████████████████████████████████████████| 250/250 [01:37<00:00,  2.55it/s, ce_loss=4.72e-6]\n",
      "Epoch 39: 100%|████████████████████████████████████████████| 250/250 [01:37<00:00,  2.55it/s, ce_loss=4.12e-6]\n",
      "Epoch 40: 100%|████████████████████████████████████████████| 250/250 [01:37<00:00,  2.56it/s, ce_loss=3.59e-6]\n",
      "Epoch 41: 100%|████████████████████████████████████████████| 250/250 [01:37<00:00,  2.56it/s, ce_loss=3.15e-6]\n",
      "Epoch 42: 100%|████████████████████████████████████████████| 250/250 [01:37<00:00,  2.55it/s, ce_loss=2.74e-6]\n",
      "Epoch 43: 100%|████████████████████████████████████████████| 250/250 [01:37<00:00,  2.56it/s, ce_loss=2.41e-6]\n",
      "Epoch 44: 100%|████████████████████████████████████████████| 250/250 [01:37<00:00,  2.55it/s, ce_loss=2.12e-6]\n",
      "Epoch 45: 100%|████████████████████████████████████████████| 250/250 [01:37<00:00,  2.56it/s, ce_loss=1.88e-6]\n",
      "Epoch 46: 100%|████████████████████████████████████████████| 250/250 [01:37<00:00,  2.56it/s, ce_loss=1.64e-6]\n",
      "Epoch 47: 100%|████████████████████████████████████████████| 250/250 [01:37<00:00,  2.56it/s, ce_loss=1.42e-6]\n",
      "Epoch 48: 100%|█████████████████████████████████████████████| 250/250 [01:37<00:00,  2.56it/s, ce_loss=1.2e-6]\n",
      "Epoch 49: 100%|████████████████████████████████████████████| 250/250 [01:37<00:00,  2.55it/s, ce_loss=1.04e-6]\n",
      "Epoch 50: 100%|████████████████████████████████████████████| 250/250 [01:37<00:00,  2.55it/s, ce_loss=8.71e-7]\n",
      "Epoch 51: 100%|████████████████████████████████████████████| 250/250 [01:37<00:00,  2.56it/s, ce_loss=7.31e-7]\n",
      "Epoch 52: 100%|████████████████████████████████████████████| 250/250 [01:37<00:00,  2.56it/s, ce_loss=6.26e-7]\n",
      "Epoch 53: 100%|████████████████████████████████████████████| 250/250 [01:37<00:00,  2.55it/s, ce_loss=5.24e-7]\n",
      "Epoch 54: 100%|████████████████████████████████████████████| 250/250 [01:38<00:00,  2.55it/s, ce_loss=4.41e-7]\n",
      "Epoch 55: 100%|████████████████████████████████████████████| 250/250 [01:37<00:00,  2.55it/s, ce_loss=3.99e-7]\n",
      "Epoch 56: 100%|████████████████████████████████████████████| 250/250 [01:37<00:00,  2.55it/s, ce_loss=3.29e-7]\n",
      "Epoch 57: 100%|████████████████████████████████████████████| 250/250 [01:37<00:00,  2.55it/s, ce_loss=2.98e-7]\n",
      "Epoch 58: 100%|████████████████████████████████████████████| 250/250 [01:37<00:00,  2.56it/s, ce_loss=2.71e-7]\n",
      "Epoch 59: 100%|████████████████████████████████████████████| 250/250 [01:37<00:00,  2.56it/s, ce_loss=2.43e-7]\n",
      "Epoch 60: 100%|████████████████████████████████████████████| 250/250 [01:37<00:00,  2.56it/s, ce_loss=1.92e-7]\n",
      "Epoch 61: 100%|████████████████████████████████████████████| 250/250 [01:37<00:00,  2.55it/s, ce_loss=1.75e-7]\n",
      "Epoch 62: 100%|█████████████████████████████████████████████| 250/250 [01:37<00:00,  2.56it/s, ce_loss=1.6e-7]\n",
      "Epoch 63: 100%|████████████████████████████████████████████| 250/250 [01:37<00:00,  2.56it/s, ce_loss=1.44e-7]\n",
      "Epoch 64: 100%|████████████████████████████████████████████| 250/250 [01:37<00:00,  2.55it/s, ce_loss=1.36e-7]\n",
      "Epoch 65: 100%|████████████████████████████████████████████| 250/250 [01:37<00:00,  2.56it/s, ce_loss=1.29e-7]\n",
      "Epoch 66: 100%|████████████████████████████████████████████| 250/250 [01:37<00:00,  2.56it/s, ce_loss=1.22e-7]\n",
      "Epoch 67: 100%|████████████████████████████████████████████| 250/250 [01:37<00:00,  2.56it/s, ce_loss=1.06e-7]\n",
      "Epoch 68: 100%|████████████████████████████████████████████| 250/250 [01:37<00:00,  2.56it/s, ce_loss=6.62e-8]\n",
      "Epoch 69: 100%|████████████████████████████████████████████| 250/250 [01:37<00:00,  2.56it/s, ce_loss=6.11e-8]\n",
      "Epoch 70: 100%|████████████████████████████████████████████| 250/250 [01:37<00:00,  2.56it/s, ce_loss=5.39e-8]\n",
      "Epoch 71: 100%|█████████████████████████████████████████████| 250/250 [01:37<00:00,  2.56it/s, ce_loss=0.0325]\n",
      "Epoch 72: 100%|███████████████████████████████████████████| 250/250 [01:37<00:00,  2.56it/s, ce_loss=0.000163]\n"
     ]
    },
    {
     "name": "stderr",
     "output_type": "stream",
     "text": [
      "Epoch 73: 100%|████████████████████████████████████████████| 250/250 [01:37<00:00,  2.56it/s, ce_loss=6.92e-5]\n",
      "Epoch 74: 100%|████████████████████████████████████████████| 250/250 [01:37<00:00,  2.56it/s, ce_loss=4.41e-5]\n",
      "Epoch 75: 100%|████████████████████████████████████████████| 250/250 [01:37<00:00,  2.56it/s, ce_loss=3.12e-5]\n",
      "Epoch 76: 100%|████████████████████████████████████████████| 250/250 [01:37<00:00,  2.56it/s, ce_loss=2.45e-5]\n",
      "Epoch 77: 100%|████████████████████████████████████████████| 250/250 [01:37<00:00,  2.56it/s, ce_loss=2.02e-5]\n",
      "Epoch 78: 100%|█████████████████████████████████████████████| 250/250 [01:37<00:00,  2.56it/s, ce_loss=1.9e-5]\n",
      "Epoch 79: 100%|████████████████████████████████████████████| 250/250 [01:37<00:00,  2.56it/s, ce_loss=1.45e-5]\n",
      "Epoch 80: 100%|████████████████████████████████████████████| 250/250 [01:37<00:00,  2.56it/s, ce_loss=1.18e-5]\n",
      "Epoch 81: 100%|████████████████████████████████████████████| 250/250 [01:37<00:00,  2.56it/s, ce_loss=1.05e-5]\n",
      "Epoch 82: 100%|████████████████████████████████████████████| 250/250 [01:37<00:00,  2.56it/s, ce_loss=1.27e-5]\n",
      "Epoch 83: 100%|████████████████████████████████████████████| 250/250 [01:37<00:00,  2.56it/s, ce_loss=7.93e-6]\n",
      "Epoch 84: 100%|█████████████████████████████████████████████| 250/250 [01:37<00:00,  2.56it/s, ce_loss=6.8e-6]\n",
      "Epoch 85: 100%|████████████████████████████████████████████| 250/250 [01:37<00:00,  2.56it/s, ce_loss=6.05e-6]\n",
      "Epoch 86: 100%|████████████████████████████████████████████| 250/250 [01:37<00:00,  2.56it/s, ce_loss=5.39e-6]\n",
      "Epoch 87: 100%|█████████████████████████████████████████████| 250/250 [01:37<00:00,  2.56it/s, ce_loss=4.7e-6]\n",
      "Epoch 88: 100%|████████████████████████████████████████████| 250/250 [01:37<00:00,  2.56it/s, ce_loss=4.16e-6]\n",
      "Epoch 89: 100%|████████████████████████████████████████████| 250/250 [01:37<00:00,  2.56it/s, ce_loss=3.73e-6]\n",
      "Epoch 90: 100%|████████████████████████████████████████████| 250/250 [01:37<00:00,  2.56it/s, ce_loss=3.33e-6]\n",
      "Epoch 91: 100%|████████████████████████████████████████████| 250/250 [01:37<00:00,  2.55it/s, ce_loss=2.99e-6]\n",
      "Epoch 92: 100%|████████████████████████████████████████████| 250/250 [01:37<00:00,  2.56it/s, ce_loss=2.69e-6]\n",
      "Epoch 93: 100%|████████████████████████████████████████████| 250/250 [01:37<00:00,  2.56it/s, ce_loss=2.41e-6]\n",
      "Epoch 94: 100%|████████████████████████████████████████████| 250/250 [01:37<00:00,  2.56it/s, ce_loss=2.16e-6]\n",
      "Epoch 95: 100%|████████████████████████████████████████████| 250/250 [01:37<00:00,  2.56it/s, ce_loss=1.94e-6]\n",
      "Epoch 96: 100%|████████████████████████████████████████████| 250/250 [01:37<00:00,  2.56it/s, ce_loss=1.74e-6]\n",
      "Epoch 97: 100%|████████████████████████████████████████████| 250/250 [01:37<00:00,  2.56it/s, ce_loss=1.58e-6]\n",
      "Epoch 98: 100%|████████████████████████████████████████████| 250/250 [01:37<00:00,  2.56it/s, ce_loss=1.42e-6]\n",
      "Epoch 99: 100%|████████████████████████████████████████████| 250/250 [01:37<00:00,  2.56it/s, ce_loss=1.74e-6]\n",
      "Epoch 100: 100%|███████████████████████████████████████████| 250/250 [01:37<00:00,  2.56it/s, ce_loss=1.32e-6]\n",
      "Epoch 101: 100%|███████████████████████████████████████████| 250/250 [01:37<00:00,  2.56it/s, ce_loss=1.09e-6]\n",
      "Epoch 102: 100%|███████████████████████████████████████████| 250/250 [01:37<00:00,  2.56it/s, ce_loss=1.19e-6]\n",
      "Epoch 103: 100%|██████████████████████████████████████████████| 250/250 [01:37<00:00,  2.56it/s, ce_loss=1e-6]\n",
      "Epoch 104: 100%|███████████████████████████████████████████| 250/250 [01:37<00:00,  2.55it/s, ce_loss=7.68e-7]\n",
      "Epoch 105: 100%|███████████████████████████████████████████| 250/250 [01:37<00:00,  2.56it/s, ce_loss=6.78e-7]\n",
      "Epoch 106: 100%|██████████████████████████████████████████████| 250/250 [01:37<00:00,  2.56it/s, ce_loss=6e-7]\n",
      "Epoch 107: 100%|███████████████████████████████████████████| 250/250 [01:37<00:00,  2.56it/s, ce_loss=5.34e-7]\n",
      "Epoch 108: 100%|███████████████████████████████████████████| 250/250 [01:37<00:00,  2.56it/s, ce_loss=4.76e-7]\n",
      "Epoch 109: 100%|████████████████████████████████████████████| 250/250 [01:37<00:00,  2.56it/s, ce_loss=4.3e-7]\n",
      "Epoch 110: 100%|███████████████████████████████████████████| 250/250 [01:37<00:00,  2.56it/s, ce_loss=3.83e-7]\n",
      "Epoch 111: 100%|███████████████████████████████████████████| 250/250 [01:37<00:00,  2.56it/s, ce_loss=3.44e-7]\n",
      "Epoch 112: 100%|███████████████████████████████████████████| 250/250 [01:37<00:00,  2.56it/s, ce_loss=3.14e-7]\n",
      "Epoch 113: 100%|███████████████████████████████████████████| 250/250 [01:37<00:00,  2.56it/s, ce_loss=2.78e-7]\n",
      "Epoch 114: 100%|███████████████████████████████████████████| 250/250 [01:37<00:00,  2.56it/s, ce_loss=2.49e-7]\n",
      "Epoch 115: 100%|███████████████████████████████████████████| 250/250 [01:37<00:00,  2.56it/s, ce_loss=2.23e-7]\n",
      "Epoch 116: 100%|███████████████████████████████████████████| 250/250 [01:37<00:00,  2.56it/s, ce_loss=2.01e-7]\n",
      "Epoch 117: 100%|████████████████████████████████████████████| 250/250 [01:37<00:00,  2.56it/s, ce_loss=1.8e-7]\n",
      "Epoch 118: 100%|███████████████████████████████████████████| 250/250 [01:37<00:00,  2.56it/s, ce_loss=1.62e-7]\n",
      "Epoch 119: 100%|███████████████████████████████████████████| 250/250 [01:37<00:00,  2.56it/s, ce_loss=1.46e-7]\n",
      "Epoch 120: 100%|███████████████████████████████████████████| 250/250 [01:37<00:00,  2.56it/s, ce_loss=1.35e-7]\n",
      "Epoch 121: 100%|███████████████████████████████████████████| 250/250 [01:37<00:00,  2.56it/s, ce_loss=1.24e-7]\n",
      "Epoch 122: 100%|███████████████████████████████████████████| 250/250 [01:37<00:00,  2.56it/s, ce_loss=1.14e-7]\n",
      "Epoch 123: 100%|███████████████████████████████████████████| 250/250 [01:37<00:00,  2.56it/s, ce_loss=1.07e-7]\n",
      "Epoch 124: 100%|██████████████████████████████████████████████| 250/250 [01:37<00:00,  2.56it/s, ce_loss=1e-7]\n",
      "Epoch 125: 100%|███████████████████████████████████████████| 250/250 [01:37<00:00,  2.56it/s, ce_loss=9.35e-8]\n",
      "Epoch 126: 100%|███████████████████████████████████████████| 250/250 [01:37<00:00,  2.56it/s, ce_loss=8.56e-8]\n",
      "Epoch 127: 100%|████████████████████████████████████████████| 250/250 [01:37<00:00,  2.56it/s, ce_loss=0.0083]\n",
      "Epoch 128: 100%|██████████████████████████████████████████| 250/250 [01:37<00:00,  2.56it/s, ce_loss=0.000353]\n",
      "Epoch 129: 100%|███████████████████████████████████████████| 250/250 [01:37<00:00,  2.56it/s, ce_loss=5.18e-5]\n",
      "Epoch 130: 100%|███████████████████████████████████████████| 250/250 [01:37<00:00,  2.56it/s, ce_loss=3.54e-5]\n",
      "Epoch 131: 100%|███████████████████████████████████████████| 250/250 [01:37<00:00,  2.56it/s, ce_loss=2.47e-5]\n",
      "Epoch 132: 100%|███████████████████████████████████████████| 250/250 [01:37<00:00,  2.56it/s, ce_loss=2.09e-5]\n",
      "Epoch 133: 100%|███████████████████████████████████████████| 250/250 [01:37<00:00,  2.56it/s, ce_loss=1.32e-5]\n",
      "Epoch 134: 100%|████████████████████████████████████████████| 250/250 [01:37<00:00,  2.56it/s, ce_loss=9.9e-6]\n",
      "Epoch 135: 100%|███████████████████████████████████████████| 250/250 [01:37<00:00,  2.56it/s, ce_loss=8.32e-6]\n",
      "Epoch 136: 100%|████████████████████████████████████████████| 250/250 [01:37<00:00,  2.56it/s, ce_loss=7.7e-6]\n",
      "Epoch 137: 100%|███████████████████████████████████████████| 250/250 [01:37<00:00,  2.56it/s, ce_loss=1.35e-5]\n",
      "Epoch 138: 100%|███████████████████████████████████████████| 250/250 [01:37<00:00,  2.56it/s, ce_loss=5.42e-6]\n",
      "Epoch 139: 100%|███████████████████████████████████████████| 250/250 [01:37<00:00,  2.55it/s, ce_loss=4.55e-6]\n",
      "Epoch 140: 100%|███████████████████████████████████████████| 250/250 [01:37<00:00,  2.56it/s, ce_loss=4.28e-6]\n",
      "Epoch 141: 100%|████████████████████████████████████████████| 250/250 [01:37<00:00,  2.56it/s, ce_loss=3.5e-6]\n",
      "Epoch 142: 100%|███████████████████████████████████████████| 250/250 [01:37<00:00,  2.56it/s, ce_loss=3.64e-6]\n",
      "Epoch 143: 100%|████████████████████████████████████████████| 250/250 [01:37<00:00,  2.56it/s, ce_loss=2.6e-6]\n",
      "Epoch 144: 100%|███████████████████████████████████████████| 250/250 [01:37<00:00,  2.56it/s, ce_loss=2.33e-6]\n",
      "Epoch 145: 100%|███████████████████████████████████████████| 250/250 [01:37<00:00,  2.56it/s, ce_loss=4.95e-5]\n"
     ]
    },
    {
     "name": "stderr",
     "output_type": "stream",
     "text": [
      "Epoch 146: 100%|████████████████████████████████████████████| 250/250 [01:37<00:00,  2.56it/s, ce_loss=5.9e-6]\n",
      "Epoch 147: 100%|███████████████████████████████████████████| 250/250 [01:37<00:00,  2.56it/s, ce_loss=2.39e-5]\n",
      "Epoch 148: 100%|███████████████████████████████████████████| 250/250 [01:37<00:00,  2.56it/s, ce_loss=8.07e-6]\n",
      "Epoch 149: 100%|██████████████████████████████████████████| 250/250 [01:37<00:00,  2.56it/s, ce_loss=0.000189]\n",
      "Epoch 150: 100%|████████████████████████████████████████████| 250/250 [01:37<00:00,  2.56it/s, ce_loss=1.1e-5]\n",
      "Epoch 151: 100%|████████████████████████████████████████████| 250/250 [01:37<00:00,  2.56it/s, ce_loss=1.3e-5]\n",
      "Epoch 152: 100%|███████████████████████████████████████████| 250/250 [01:37<00:00,  2.56it/s, ce_loss=7.91e-6]\n",
      "Epoch 153: 100%|████████████████████████████████████████████| 250/250 [01:37<00:00,  2.56it/s, ce_loss=2.3e-6]\n",
      "Epoch 154: 100%|███████████████████████████████████████████| 250/250 [01:37<00:00,  2.55it/s, ce_loss=3.61e-6]\n",
      "Epoch 155: 100%|███████████████████████████████████████████| 250/250 [01:37<00:00,  2.56it/s, ce_loss=8.13e-6]\n",
      "Epoch 156: 100%|███████████████████████████████████████████| 250/250 [01:37<00:00,  2.56it/s, ce_loss=1.82e-6]\n",
      "Epoch 157: 100%|███████████████████████████████████████████| 250/250 [01:37<00:00,  2.56it/s, ce_loss=9.42e-7]\n",
      "Epoch 158: 100%|███████████████████████████████████████████| 250/250 [01:37<00:00,  2.56it/s, ce_loss=7.69e-7]\n",
      "Epoch 159: 100%|███████████████████████████████████████████| 250/250 [01:37<00:00,  2.56it/s, ce_loss=6.35e-7]\n",
      "Epoch 160: 100%|███████████████████████████████████████████| 250/250 [01:37<00:00,  2.56it/s, ce_loss=5.19e-7]\n",
      "Epoch 161: 100%|███████████████████████████████████████████| 250/250 [01:37<00:00,  2.56it/s, ce_loss=8.03e-6]\n",
      "Epoch 162: 100%|███████████████████████████████████████████| 250/250 [01:37<00:00,  2.56it/s, ce_loss=9.85e-7]\n",
      "Epoch 163: 100%|███████████████████████████████████████████| 250/250 [01:37<00:00,  2.56it/s, ce_loss=6.23e-7]\n",
      "Epoch 164: 100%|███████████████████████████████████████████| 250/250 [01:37<00:00,  2.56it/s, ce_loss=4.63e-7]\n",
      "Epoch 165: 100%|███████████████████████████████████████████| 250/250 [01:37<00:00,  2.56it/s, ce_loss=5.69e-6]\n",
      "Epoch 166: 100%|███████████████████████████████████████████| 250/250 [01:37<00:00,  2.56it/s, ce_loss=7.42e-7]\n",
      "Epoch 167: 100%|███████████████████████████████████████████| 250/250 [01:37<00:00,  2.56it/s, ce_loss=4.55e-7]\n",
      "Epoch 168: 100%|███████████████████████████████████████████| 250/250 [01:37<00:00,  2.56it/s, ce_loss=3.19e-7]\n",
      "Epoch 169: 100%|███████████████████████████████████████████| 250/250 [01:37<00:00,  2.56it/s, ce_loss=2.33e-7]\n",
      "Epoch 170: 100%|████████████████████████████████████████████| 250/250 [01:37<00:00,  2.56it/s, ce_loss=2.1e-7]\n",
      "Epoch 171: 100%|███████████████████████████████████████████| 250/250 [01:37<00:00,  2.56it/s, ce_loss=1.58e-7]\n",
      "Epoch 172: 100%|███████████████████████████████████████████| 250/250 [01:37<00:00,  2.56it/s, ce_loss=1.26e-7]\n",
      "Epoch 173: 100%|███████████████████████████████████████████| 250/250 [01:37<00:00,  2.56it/s, ce_loss=0.00232]\n",
      "Epoch 174: 100%|███████████████████████████████████████████| 250/250 [01:37<00:00,  2.56it/s, ce_loss=1.13e-5]\n",
      "Epoch 175: 100%|███████████████████████████████████████████| 250/250 [01:37<00:00,  2.56it/s, ce_loss=1.43e-5]\n",
      "Epoch 176: 100%|███████████████████████████████████████████| 250/250 [01:37<00:00,  2.56it/s, ce_loss=4.28e-6]\n",
      "Epoch 177: 100%|██████████████████████████████████████████████| 250/250 [01:37<00:00,  2.55it/s, ce_loss=3e-6]\n",
      "Epoch 178: 100%|███████████████████████████████████████████| 250/250 [01:37<00:00,  2.56it/s, ce_loss=2.33e-6]\n",
      "Epoch 179: 100%|███████████████████████████████████████████| 250/250 [01:37<00:00,  2.56it/s, ce_loss=1.86e-6]\n",
      "Epoch 180: 100%|███████████████████████████████████████████| 250/250 [01:37<00:00,  2.56it/s, ce_loss=2.02e-6]\n",
      "Epoch 181: 100%|███████████████████████████████████████████| 250/250 [01:37<00:00,  2.56it/s, ce_loss=1.48e-6]\n",
      "Epoch 182: 100%|███████████████████████████████████████████| 250/250 [01:37<00:00,  2.56it/s, ce_loss=2.23e-6]\n",
      "Epoch 183: 100%|███████████████████████████████████████████| 250/250 [01:37<00:00,  2.56it/s, ce_loss=1.37e-6]\n",
      "Epoch 184: 100%|███████████████████████████████████████████| 250/250 [01:37<00:00,  2.56it/s, ce_loss=9.81e-7]\n",
      "Epoch 185: 100%|███████████████████████████████████████████| 250/250 [01:37<00:00,  2.56it/s, ce_loss=8.09e-7]\n",
      "Epoch 186: 100%|███████████████████████████████████████████| 250/250 [01:37<00:00,  2.56it/s, ce_loss=6.77e-7]\n",
      "Epoch 187: 100%|███████████████████████████████████████████| 250/250 [01:37<00:00,  2.56it/s, ce_loss=5.73e-7]\n",
      "Epoch 188: 100%|███████████████████████████████████████████| 250/250 [01:37<00:00,  2.56it/s, ce_loss=1.81e-6]\n",
      "Epoch 189: 100%|███████████████████████████████████████████| 250/250 [01:37<00:00,  2.56it/s, ce_loss=4.31e-7]\n",
      "Epoch 190: 100%|███████████████████████████████████████████| 250/250 [01:37<00:00,  2.56it/s, ce_loss=1.42e-5]\n",
      "Epoch 191: 100%|███████████████████████████████████████████| 250/250 [01:37<00:00,  2.56it/s, ce_loss=7.51e-7]\n",
      "Epoch 192: 100%|███████████████████████████████████████████| 250/250 [01:37<00:00,  2.56it/s, ce_loss=5.29e-7]\n",
      "Epoch 193: 100%|███████████████████████████████████████████| 250/250 [01:37<00:00,  2.56it/s, ce_loss=5.96e-6]\n",
      "Epoch 194: 100%|███████████████████████████████████████████| 250/250 [01:37<00:00,  2.56it/s, ce_loss=6.33e-7]\n",
      "Epoch 195: 100%|███████████████████████████████████████████| 250/250 [01:37<00:00,  2.56it/s, ce_loss=4.09e-6]\n",
      "Epoch 196: 100%|████████████████████████████████████████████| 250/250 [01:37<00:00,  2.56it/s, ce_loss=3.4e-7]\n",
      "Epoch 197: 100%|████████████████████████████████████████████| 250/250 [01:37<00:00,  2.56it/s, ce_loss=3.4e-7]\n",
      "Epoch 198: 100%|███████████████████████████████████████████| 250/250 [01:37<00:00,  2.56it/s, ce_loss=2.74e-7]\n",
      "Epoch 199: 100%|███████████████████████████████████████████| 250/250 [01:37<00:00,  2.56it/s, ce_loss=1.71e-7]\n",
      "Epoch 200: 100%|███████████████████████████████████████████| 250/250 [01:37<00:00,  2.56it/s, ce_loss=4.94e-7]\n",
      "Epoch 201: 100%|███████████████████████████████████████████| 250/250 [01:37<00:00,  2.56it/s, ce_loss=1.47e-7]\n",
      "Epoch 202: 100%|███████████████████████████████████████████| 250/250 [01:37<00:00,  2.56it/s, ce_loss=1.06e-7]\n",
      "Epoch 203: 100%|███████████████████████████████████████████| 250/250 [01:37<00:00,  2.56it/s, ce_loss=5.03e-6]\n",
      "Epoch 204: 100%|███████████████████████████████████████████| 250/250 [01:37<00:00,  2.56it/s, ce_loss=2.25e-7]\n",
      "Epoch 205: 100%|███████████████████████████████████████████| 250/250 [01:37<00:00,  2.56it/s, ce_loss=1.43e-7]\n",
      "Epoch 206: 100%|███████████████████████████████████████████| 250/250 [01:37<00:00,  2.55it/s, ce_loss=9.46e-8]\n",
      "Epoch 207: 100%|███████████████████████████████████████████| 250/250 [01:37<00:00,  2.56it/s, ce_loss=7.28e-8]\n",
      "Epoch 208: 100%|███████████████████████████████████████████| 250/250 [01:37<00:00,  2.56it/s, ce_loss=5.98e-8]\n",
      "Epoch 209: 100%|███████████████████████████████████████████| 250/250 [01:37<00:00,  2.55it/s, ce_loss=3.03e-7]\n",
      "Epoch 210: 100%|████████████████████████████████████████████| 250/250 [01:37<00:00,  2.56it/s, ce_loss=6.3e-8]\n",
      "Epoch 211: 100%|███████████████████████████████████████████| 250/250 [01:37<00:00,  2.56it/s, ce_loss=4.83e-8]\n",
      "Epoch 212: 100%|███████████████████████████████████████████| 250/250 [01:37<00:00,  2.56it/s, ce_loss=3.85e-8]\n",
      "Epoch 213: 100%|███████████████████████████████████████████| 250/250 [01:37<00:00,  2.56it/s, ce_loss=3.27e-8]\n",
      "Epoch 214: 100%|███████████████████████████████████████████| 250/250 [01:37<00:00,  2.56it/s, ce_loss=2.97e-8]\n",
      "Epoch 215: 100%|███████████████████████████████████████████| 250/250 [01:37<00:00,  2.56it/s, ce_loss=2.94e-8]\n",
      "Epoch 216: 100%|███████████████████████████████████████████| 250/250 [01:37<00:00,  2.56it/s, ce_loss=2.34e-8]\n",
      "Epoch 217: 100%|███████████████████████████████████████████| 250/250 [01:37<00:00,  2.56it/s, ce_loss=1.91e-8]\n",
      "Epoch 218: 100%|███████████████████████████████████████████| 250/250 [01:37<00:00,  2.56it/s, ce_loss=1.68e-8]\n"
     ]
    },
    {
     "name": "stderr",
     "output_type": "stream",
     "text": [
      "Epoch 219: 100%|███████████████████████████████████████████| 250/250 [01:37<00:00,  2.56it/s, ce_loss=2.04e-8]\n",
      "Epoch 220: 100%|███████████████████████████████████████████| 250/250 [01:37<00:00,  2.56it/s, ce_loss=1.43e-8]\n",
      "Epoch 221: 100%|███████████████████████████████████████████| 250/250 [01:37<00:00,  2.56it/s, ce_loss=1.27e-8]\n",
      "Epoch 222: 100%|███████████████████████████████████████████| 250/250 [01:37<00:00,  2.57it/s, ce_loss=1.05e-8]\n",
      "Epoch 223: 100%|███████████████████████████████████████████| 250/250 [01:37<00:00,  2.56it/s, ce_loss=9.68e-9]\n",
      "Epoch 224: 100%|███████████████████████████████████████████| 250/250 [01:37<00:00,  2.56it/s, ce_loss=8.98e-9]\n",
      "Epoch 225: 100%|███████████████████████████████████████████| 250/250 [01:37<00:00,  2.57it/s, ce_loss=8.61e-9]\n",
      "Epoch 226: 100%|███████████████████████████████████████████| 250/250 [01:37<00:00,  2.56it/s, ce_loss=3.17e-8]\n",
      "Epoch 227: 100%|███████████████████████████████████████████| 250/250 [01:37<00:00,  2.56it/s, ce_loss=3.35e-8]\n",
      "Epoch 228: 100%|███████████████████████████████████████████| 250/250 [01:37<00:00,  2.56it/s, ce_loss=1.03e-8]\n",
      "Epoch 229: 100%|███████████████████████████████████████████| 250/250 [01:37<00:00,  2.56it/s, ce_loss=9.77e-9]\n",
      "Epoch 230: 100%|███████████████████████████████████████████| 250/250 [01:37<00:00,  2.56it/s, ce_loss=8.44e-9]\n",
      "Epoch 231: 100%|███████████████████████████████████████████| 250/250 [01:37<00:00,  2.56it/s, ce_loss=5.66e-9]\n",
      "Epoch 232: 100%|███████████████████████████████████████████| 250/250 [01:37<00:00,  2.56it/s, ce_loss=4.95e-9]\n",
      "Epoch 233: 100%|███████████████████████████████████████████| 250/250 [01:37<00:00,  2.56it/s, ce_loss=4.88e-9]\n",
      "Epoch 234: 100%|███████████████████████████████████████████| 250/250 [01:37<00:00,  2.56it/s, ce_loss=4.18e-9]\n",
      "Epoch 235: 100%|███████████████████████████████████████████| 250/250 [01:37<00:00,  2.56it/s, ce_loss=2.52e-9]\n",
      "Epoch 236: 100%|███████████████████████████████████████████| 250/250 [01:37<00:00,  2.56it/s, ce_loss=2.62e-9]\n",
      "Epoch 237: 100%|███████████████████████████████████████████| 250/250 [01:37<00:00,  2.56it/s, ce_loss=2.34e-9]\n",
      "Epoch 238: 100%|███████████████████████████████████████████| 250/250 [01:37<00:00,  2.56it/s, ce_loss=2.96e-9]\n",
      "Epoch 239: 100%|███████████████████████████████████████████| 250/250 [01:37<00:00,  2.56it/s, ce_loss=2.36e-9]\n",
      "Epoch 240: 100%|███████████████████████████████████████████| 250/250 [01:37<00:00,  2.56it/s, ce_loss=2.43e-9]\n",
      "Epoch 241: 100%|███████████████████████████████████████████| 250/250 [01:37<00:00,  2.56it/s, ce_loss=1.82e-9]\n",
      "Epoch 242: 100%|███████████████████████████████████████████| 250/250 [01:37<00:00,  2.56it/s, ce_loss=1.43e-9]\n",
      "Epoch 243: 100%|███████████████████████████████████████████| 250/250 [01:37<00:00,  2.56it/s, ce_loss=1.21e-9]\n",
      "Epoch 244: 100%|███████████████████████████████████████████| 250/250 [01:37<00:00,  2.56it/s, ce_loss=1.19e-9]\n",
      "Epoch 245: 100%|███████████████████████████████████████████| 250/250 [01:37<00:00,  2.56it/s, ce_loss=1.18e-9]\n",
      "Epoch 246: 100%|███████████████████████████████████████████| 250/250 [01:37<00:00,  2.56it/s, ce_loss=2.51e-9]\n",
      "Epoch 247: 100%|███████████████████████████████████████████| 250/250 [01:37<00:00,  2.55it/s, ce_loss=1.51e-9]\n",
      "Epoch 248: 100%|███████████████████████████████████████████| 250/250 [01:37<00:00,  2.56it/s, ce_loss=1.29e-9]\n",
      "Epoch 249: 100%|███████████████████████████████████████████| 250/250 [01:37<00:00,  2.56it/s, ce_loss=1.08e-9]\n",
      "Epoch 250: 100%|██████████████████████████████████████████| 250/250 [01:38<00:00,  2.55it/s, ce_loss=9.61e-10]\n",
      "Epoch 251: 100%|██████████████████████████████████████████| 250/250 [01:37<00:00,  2.55it/s, ce_loss=8.65e-10]\n",
      "Epoch 252: 100%|███████████████████████████████████████████| 250/250 [01:37<00:00,  2.55it/s, ce_loss=1.03e-9]\n",
      "Epoch 253: 100%|██████████████████████████████████████████| 250/250 [01:37<00:00,  2.55it/s, ce_loss=8.44e-10]\n",
      "Epoch 254: 100%|██████████████████████████████████████████| 250/250 [01:37<00:00,  2.56it/s, ce_loss=8.61e-10]\n",
      "Epoch 255: 100%|██████████████████████████████████████████| 250/250 [01:37<00:00,  2.55it/s, ce_loss=8.74e-10]\n",
      "Epoch 256: 100%|██████████████████████████████████████████| 250/250 [01:37<00:00,  2.55it/s, ce_loss=6.83e-10]\n",
      "Epoch 257: 100%|██████████████████████████████████████████| 250/250 [01:38<00:00,  2.55it/s, ce_loss=6.71e-10]\n",
      "Epoch 258: 100%|██████████████████████████████████████████| 250/250 [01:38<00:00,  2.55it/s, ce_loss=6.69e-10]\n",
      "Epoch 259: 100%|██████████████████████████████████████████| 250/250 [01:37<00:00,  2.56it/s, ce_loss=7.14e-10]\n",
      "Epoch 260: 100%|██████████████████████████████████████████| 250/250 [01:37<00:00,  2.56it/s, ce_loss=7.64e-10]\n",
      "Epoch 261: 100%|██████████████████████████████████████████| 250/250 [01:37<00:00,  2.55it/s, ce_loss=8.68e-10]\n",
      "Epoch 262: 100%|███████████████████████████████████████████| 250/250 [01:37<00:00,  2.56it/s, ce_loss=1.07e-9]\n",
      "Epoch 263: 100%|███████████████████████████████████████████| 250/250 [01:37<00:00,  2.55it/s, ce_loss=1.42e-9]\n",
      "Epoch 264: 100%|███████████████████████████████████████████| 250/250 [01:37<00:00,  2.56it/s, ce_loss=2.27e-9]\n",
      "Epoch 265: 100%|███████████████████████████████████████████| 250/250 [01:37<00:00,  2.55it/s, ce_loss=3.99e-9]\n",
      "Epoch 266: 100%|███████████████████████████████████████████| 250/250 [01:37<00:00,  2.56it/s, ce_loss=6.51e-9]\n",
      "Epoch 267: 100%|███████████████████████████████████████████| 250/250 [01:37<00:00,  2.56it/s, ce_loss=9.69e-9]\n",
      "Epoch 268: 100%|███████████████████████████████████████████| 250/250 [01:37<00:00,  2.55it/s, ce_loss=1.31e-8]\n",
      "Epoch 269: 100%|███████████████████████████████████████████| 250/250 [01:37<00:00,  2.56it/s, ce_loss=1.61e-8]\n",
      "Epoch 270: 100%|███████████████████████████████████████████| 250/250 [01:37<00:00,  2.56it/s, ce_loss=2.02e-8]\n",
      "Epoch 271: 100%|███████████████████████████████████████████| 250/250 [01:37<00:00,  2.56it/s, ce_loss=2.28e-8]\n",
      "Epoch 272: 100%|████████████████████████████████████████████| 250/250 [01:37<00:00,  2.56it/s, ce_loss=2.5e-8]\n",
      "Epoch 273: 100%|███████████████████████████████████████████| 250/250 [01:37<00:00,  2.56it/s, ce_loss=2.69e-8]\n",
      "Epoch 274: 100%|███████████████████████████████████████████| 250/250 [01:37<00:00,  2.56it/s, ce_loss=2.75e-8]\n",
      "Epoch 275: 100%|████████████████████████████████████████████| 250/250 [01:38<00:00,  2.54it/s, ce_loss=2.8e-8]\n",
      "Epoch 276: 100%|███████████████████████████████████████████| 250/250 [01:37<00:00,  2.55it/s, ce_loss=2.77e-8]\n",
      "Epoch 277: 100%|███████████████████████████████████████████| 250/250 [01:37<00:00,  2.55it/s, ce_loss=2.77e-8]\n",
      "Epoch 278: 100%|███████████████████████████████████████████| 250/250 [01:37<00:00,  2.56it/s, ce_loss=2.78e-8]\n",
      "Epoch 279: 100%|███████████████████████████████████████████| 250/250 [01:37<00:00,  2.55it/s, ce_loss=2.77e-8]\n",
      "Epoch 280: 100%|███████████████████████████████████████████| 250/250 [01:38<00:00,  2.55it/s, ce_loss=2.82e-8]\n",
      "Epoch 281: 100%|███████████████████████████████████████████| 250/250 [01:38<00:00,  2.55it/s, ce_loss=2.85e-8]\n",
      "Epoch 282: 100%|███████████████████████████████████████████| 250/250 [01:37<00:00,  2.57it/s, ce_loss=2.86e-8]\n",
      "Epoch 283: 100%|████████████████████████████████████████████| 250/250 [01:37<00:00,  2.57it/s, ce_loss=2.9e-8]\n",
      "Epoch 284: 100%|███████████████████████████████████████████| 250/250 [01:37<00:00,  2.57it/s, ce_loss=2.94e-8]\n",
      "Epoch 285: 100%|███████████████████████████████████████████| 250/250 [01:37<00:00,  2.57it/s, ce_loss=2.99e-8]\n",
      "Epoch 286: 100%|████████████████████████████████████████████| 250/250 [01:37<00:00,  2.56it/s, ce_loss=0.0103]\n",
      "Epoch 287: 100%|███████████████████████████████████████████| 250/250 [01:37<00:00,  2.56it/s, ce_loss=1.14e-5]\n",
      "Epoch 288: 100%|████████████████████████████████████████████| 250/250 [01:37<00:00,  2.57it/s, ce_loss=4.6e-6]\n",
      "Epoch 289: 100%|███████████████████████████████████████████| 250/250 [01:37<00:00,  2.57it/s, ce_loss=2.86e-6]\n",
      "Epoch 290: 100%|███████████████████████████████████████████| 250/250 [01:37<00:00,  2.56it/s, ce_loss=2.13e-6]\n",
      "Epoch 291: 100%|███████████████████████████████████████████| 250/250 [01:37<00:00,  2.56it/s, ce_loss=1.82e-6]\n"
     ]
    },
    {
     "name": "stderr",
     "output_type": "stream",
     "text": [
      "Epoch 292: 100%|████████████████████████████████████████████| 250/250 [01:37<00:00,  2.56it/s, ce_loss=1.2e-6]\n",
      "Epoch 293: 100%|████████████████████████████████████████████| 250/250 [01:37<00:00,  2.56it/s, ce_loss=1.1e-6]\n",
      "Epoch 294: 100%|███████████████████████████████████████████| 250/250 [01:38<00:00,  2.55it/s, ce_loss=8.52e-7]\n",
      "Epoch 295: 100%|███████████████████████████████████████████| 250/250 [01:37<00:00,  2.56it/s, ce_loss=8.27e-7]\n",
      "Epoch 296: 100%|███████████████████████████████████████████| 250/250 [01:37<00:00,  2.57it/s, ce_loss=7.67e-6]\n",
      "Epoch 297: 100%|████████████████████████████████████████████| 250/250 [01:37<00:00,  2.57it/s, ce_loss=5.5e-7]\n",
      "Epoch 298: 100%|████████████████████████████████████████████| 250/250 [01:37<00:00,  2.56it/s, ce_loss=4.6e-7]\n",
      "Epoch 299: 100%|███████████████████████████████████████████| 250/250 [01:37<00:00,  2.56it/s, ce_loss=4.09e-7]\n"
     ]
    },
    {
     "name": "stdout",
     "output_type": "stream",
     "text": [
      "train completed, total time: 29378.323362588882.\n"
     ]
    }
   ],
   "source": [
    "n_epochs = 300\n",
    "val_interval = 25\n",
    "epoch_losses = []\n",
    "val_epoch_losses = []\n",
    "vqvae_model.eval()\n",
    "\n",
    "total_start = time.time()\n",
    "for epoch in range(n_epochs):\n",
    "    transformer_model.train()\n",
    "    epoch_loss = 0\n",
    "    progress_bar = tqdm(enumerate(train_loader), total=len(train_loader), ncols=110)\n",
    "    progress_bar.set_description(f\"Epoch {epoch}\")\n",
    "    for step, batch in progress_bar:\n",
    "\n",
    "        images = batch[\"image\"].to(device)\n",
    "\n",
    "        optimizer.zero_grad(set_to_none=True)\n",
    "\n",
    "\n",
    "        logits, quantizations_target, _ = inferer(images, vqvae_model, transformer_model, ordering, return_latent=True)\n",
    "        logits = logits.transpose(1, 2)\n",
    "        \n",
    "        loss = ce_loss(logits, quantizations_target)\n",
    "\n",
    "        loss.backward()\n",
    "        optimizer.step()\n",
    "\n",
    "        epoch_loss += loss.item()\n",
    "\n",
    "        progress_bar.set_postfix({\"ce_loss\": epoch_loss / (step + 1)})\n",
    "    epoch_losses.append(epoch_loss / (step + 1))\n",
    "\n",
    "    if (epoch + 1) % val_interval == 0:\n",
    "        transformer_model.eval()\n",
    "        val_loss = 0\n",
    "        with torch.no_grad():\n",
    "            for val_step, batch in enumerate(val_loader, start=1):\n",
    "\n",
    "                images = batch[\"image\"].to(device)\n",
    "\n",
    "                logits, quantizations_target, _ = inferer(images, vqvae_model, transformer_model, ordering, return_latent=True)\n",
    "                logits = logits.transpose(1, 2)\n",
    "                \n",
    "                loss = ce_loss(logits, quantizations_target)\n",
    "\n",
    "                val_loss += loss.item()\n",
    "\n",
    "        val_loss /= val_step\n",
    "        val_epoch_losses.append(val_loss)\n",
    "\n",
    "total_time = time.time() - total_start\n",
    "print(f\"train completed, total time: {total_time}.\")"
   ]
  },
  {
   "cell_type": "markdown",
   "id": "29a35d4b",
   "metadata": {},
   "source": [
    "## Image-wise anomaly detection\n",
    "\n",
    "To verify the performance of the VQ-VAE + Transformerperforming unsupervised anomaly detection, we will use the images from the test set of the MedNIST dataset. We will consider images from the `HeadCT` class as in-distribution images."
   ]
  },
  {
   "cell_type": "code",
   "execution_count": 48,
   "id": "aa3938fe",
   "metadata": {},
   "outputs": [
    {
     "name": "stdout",
     "output_type": "stream",
     "text": [
      "2023-03-11 08:55:12,377 - INFO - Verified 'MedNIST.tar.gz', md5: 0bc7306e7427e00ad1c5526a6677552d.\n",
      "2023-03-11 08:55:12,377 - INFO - File exists: /tmp/tmpaurm48lm/MedNIST.tar.gz, skipped downloading.\n",
      "2023-03-11 08:55:12,378 - INFO - Non-empty folder exists in /tmp/tmpaurm48lm/MedNIST, skipped extracting.\n"
     ]
    },
    {
     "name": "stderr",
     "output_type": "stream",
     "text": [
      "Loading dataset: 100%|███████████████████████████████████████████████████████████████████████████████████████████████████████████████████████████████████████████████████████████████████| 5895/5895 [00:01<00:00, 3459.41it/s]\n",
      "In-distribution data: 100%|███████████████████████████████████████████████████| 17/17 [00:09<00:00,  1.75it/s]\n"
     ]
    }
   ],
   "source": [
    "test_data = MedNISTDataset(root_dir=root_dir, section=\"test\", download=True, seed=0)\n",
    "\n",
    "in_distribution_datalist = [{\"image\": item[\"image\"]} for item in test_data.data if item[\"class_name\"] == \"HeadCT\"]\n",
    "in_distribution_ds = Dataset(data=in_distribution_datalist, transform=val_transforms)\n",
    "in_distribution_loader = DataLoader(\n",
    "    in_distribution_ds, batch_size=64, shuffle=False, num_workers=4, persistent_workers=True\n",
    ")\n",
    "\n",
    "in_likelihoods = []\n",
    "\n",
    "progress_bar = tqdm(enumerate(in_distribution_loader), total=len(in_distribution_loader), ncols=110)\n",
    "progress_bar.set_description(f\"In-distribution data\")\n",
    "for step, batch in progress_bar:\n",
    "    images = batch[\"image\"].to(device)\n",
    "\n",
    "    log_likelihood = inferer.get_likelihood(\n",
    "        inputs=images, vqvae_model=vqvae_model, transformer_model=transformer_model, ordering=ordering\n",
    "    )\n",
    "    in_likelihoods.append(log_likelihood.sum(dim=(1, 2)).cpu().numpy())\n",
    "\n",
    "in_likelihoods = np.concatenate(in_likelihoods)"
   ]
  },
  {
   "cell_type": "markdown",
   "id": "19541717",
   "metadata": {},
   "source": [
    "We will use the \"ChestCT\" class of the dataset for the out-of-distribution examples."
   ]
  },
  {
   "cell_type": "code",
   "execution_count": 65,
   "id": "f3e714ee",
   "metadata": {},
   "outputs": [
    {
     "name": "stderr",
     "output_type": "stream",
     "text": [
      "out-of-distribution data: 100%|███████████████████████████████████████████████| 16/16 [00:09<00:00,  1.71it/s]\n"
     ]
    }
   ],
   "source": [
    "ood_datalist = [{\"image\": item[\"image\"]} for item in test_data.data if item[\"class_name\"] == \"ChestCT\"]\n",
    "ood_ds = Dataset(data=ood_datalist, transform=val_transforms)\n",
    "ood_loader = DataLoader(ood_ds, batch_size=64, shuffle=False, num_workers=4, persistent_workers=True)\n",
    "\n",
    "ood_likelihoods = []\n",
    "\n",
    "progress_bar = tqdm(enumerate(ood_loader), total=len(ood_loader), ncols=110)\n",
    "progress_bar.set_description(f\"out-of-distribution data\")\n",
    "for step, batch in progress_bar:\n",
    "    images = batch[\"image\"].to(device)\n",
    "\n",
    "    log_likelihood = inferer.get_likelihood(\n",
    "        inputs=images, vqvae_model=vqvae_model, transformer_model=transformer_model, ordering=ordering\n",
    "    )\n",
    "    ood_likelihoods.append(log_likelihood.sum(dim=(1, 2)).cpu().numpy())\n",
    "\n",
    "ood_likelihoods = np.concatenate(ood_likelihoods)"
   ]
  },
  {
   "cell_type": "markdown",
   "id": "5aa92638",
   "metadata": {},
   "source": [
    "## Log-likehood plot\n",
    "\n",
    "Here, we plot the log-likelihood of the images. In this case, the lower the log-likelihood, the more unlikely the image belongs to the training set."
   ]
  },
  {
   "cell_type": "code",
   "execution_count": 66,
   "id": "cd456a7c",
   "metadata": {},
   "outputs": [
    {
     "data": {
      "text/plain": [
       "Text(0.5, 0, 'Log-likelihood')"
      ]
     },
     "execution_count": 66,
     "metadata": {},
     "output_type": "execute_result"
    },
    {
     "data": {
      "image/png": "[encoded data removed]",
      "text/plain": [
       "<Figure size 640x480 with 1 Axes>"
      ]
     },
     "metadata": {},
     "output_type": "display_data"
    }
   ],
   "source": [
    "sns.kdeplot(in_likelihoods, color=\"dodgerblue\", bw_adjust=1000000, label=\"In-distribution\")\n",
    "sns.kdeplot(ood_likelihoods, color=\"deeppink\", bw_adjust=1,label=\"OOD\")\n",
    "plt.legend()\n",
    "plt.xlabel(\"Log-likelihood\")"
   ]
  },
  {
   "cell_type": "code",
   "execution_count": null,
   "id": "89c3dc99",
   "metadata": {},
   "outputs": [],
   "source": []
  }
 ],
 "metadata": {
  "jupytext": {
   "formats": "py:percent,ipynb"
  },
  "kernelspec": {
   "display_name": "Python 3 (ipykernel)",
   "language": "python",
   "name": "python3"
  },
  "language_info": {
   "codemirror_mode": {
    "name": "ipython",
    "version": 3
   },
   "file_extension": ".py",
   "mimetype": "text/x-python",
   "name": "python",
   "nbconvert_exporter": "python",
   "pygments_lexer": "ipython3",
   "version": "3.10.6"
  }
 },
 "nbformat": 4,
 "nbformat_minor": 5
}
