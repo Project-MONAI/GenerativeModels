{
 "cells": [
  {
   "cell_type": "code",
   "execution_count": 1,
   "id": "1f7ba8ce",
   "metadata": {},
   "outputs": [],
   "source": [
    "# Copyright (c) MONAI Consortium\n",
    "# Licensed under the Apache License, Version 2.0 (the \"License\");\n",
    "# you may not use this file except in compliance with the License.\n",
    "# You may obtain a copy of the License at\n",
    "#     http://www.apache.org/licenses/LICENSE-2.0\n",
    "# Unless required by applicable law or agreed to in writing, software\n",
    "# distributed under the License is distributed on an \"AS IS\" BASIS,\n",
    "# WITHOUT WARRANTIES OR CONDITIONS OF ANY KIND, either express or implied.\n",
    "# See the License for the specific language governing permissions and\n",
    "# limitations under the License."
   ]
  },
  {
   "cell_type": "markdown",
   "id": "102909fb",
   "metadata": {},
   "source": [
    "# SPADE VAE-GAN"
   ]
  },
  {
   "cell_type": "markdown",
   "id": "7d4cbc3c",
   "metadata": {},
   "source": [
    "This notebook creates a mock SPADE VAE-GAN based on the paper \"Semantic Image Synthesis with Spatially-Adaptive Normalization\" (2019) by Park T, Liu MY, Wang TC, Zhu JY. More information available at: https://github.com/NVlabs/SPADE"
   ]
  },
  {
   "cell_type": "code",
   "execution_count": 2,
   "id": "e059c423",
   "metadata": {
    "scrolled": true
   },
   "outputs": [
    {
     "name": "stderr",
     "output_type": "stream",
     "text": [
      "/media/walter/Storage/Projects/GenerativeModels/venv/lib/python3.10/site-packages/tqdm/auto.py:22: TqdmWarning: IProgress not found. Please update jupyter and ipywidgets. See https://ipywidgets.readthedocs.io/en/stable/user_install.html\n",
      "  from .autonotebook import tqdm as notebook_tqdm\n",
      "A matching Triton is not available, some optimizations will not be enabled.\n",
      "Error caught was: No module named 'triton'\n"
     ]
    }
   ],
   "source": [
    "import os\n",
    "import tempfile\n",
    "import matplotlib.pyplot as plt\n",
    "import numpy as np\n",
    "import torch\n",
    "from pathlib import Path\n",
    "import zipfile\n",
    "import gdown\n",
    "from monai.data import DataLoader\n",
    "from tqdm import tqdm\n",
    "from generative.losses import PatchAdversarialLoss, PerceptualLoss\n",
    "from generative.networks.nets import MultiScalePatchDiscriminator\n",
    "import numpy as np\n",
    "import monai\n",
    "from generative.networks.nets.spade_network import SPADE_Net"
   ]
  },
  {
   "cell_type": "code",
   "execution_count": 3,
   "id": "e76296e7",
   "metadata": {
    "scrolled": false
   },
   "outputs": [
    {
     "name": "stdout",
     "output_type": "stream",
     "text": [
      "Temporary directory used: /tmp/tmpo8gppqh6 \n"
     ]
    }
   ],
   "source": [
    "directory = os.environ.get(\"MONAI_DATA_DIRECTORY\")\n",
    "root_dir = tempfile.mkdtemp() if directory is None else directory\n",
    "root_dir = Path(root_dir)\n",
    "print(\"Temporary directory used: %s \" %root_dir)"
   ]
  },
  {
   "cell_type": "code",
   "execution_count": 4,
   "id": "2483148a",
   "metadata": {},
   "outputs": [],
   "source": [
    "# INPUT PARAMETERS\n",
    "input_shape = [128, 128]\n",
    "batch_size = 6\n",
    "num_workers = 4\n",
    "num_epochs = 100\n",
    "lambda_perc = 1.0\n",
    "lambda_feat = 0.1\n",
    "lambda_kld = 0.00001\n",
    "loss_adv = 1.0"
   ]
  },
  {
   "cell_type": "markdown",
   "id": "3f2448ba",
   "metadata": {},
   "source": [
    "### Data"
   ]
  },
  {
   "cell_type": "markdown",
   "id": "2c91eec2",
   "metadata": {},
   "source": [
    "The data for this notebook comes from the public dataset OASIS (Open Access Series of Imaging Studies) [1]. The images have been registered to MNI space using ANTsPy, and then subsampled to 2mm isotropic resolution. Geodesic Information Flows (GIF) [2] has been used to segment 5 regions: cerebrospinal fluid (CSF), grey matter (GM), white matter (WM), deep grey matter (DGM) and brainstem. In addition, BaMos [3] has been used to provide white matter hyperintensities segmentations (WMH). The available dataset contains:\n",
    "- T1-weighted images\n",
    "- FLAIR weighted images\n",
    "- Segmentations with the following labels: 0 (background), 1 (CSF), 2 (GM), 3 (WM), 4 (DGM), 5 (brainstem) and 6 (WMH).\n",
    "\n",
    "_**Acknowledgments**: \"Data were provided by OASIS-3: Longitudinal Multimodal Neuroimaging: Principal Investigators: T. Benzinger, D. Marcus, J. Morris; NIH P30 AG066444, P50 AG00561, P30 NS09857781, P01 AG026276, P01 AG003991, R01 AG043434, UL1 TR000448, R01 EB009352. AV-45 doses were provided by Avid Radiopharmaceuticals, a wholly owned subsidiary of Eli Lilly.”_\n",
    "\n",
    "\n",
    "Citations:\n",
    "\n",
    "[1] Marcus, DS, Wang, TH, Parker, J, Csernansky, JG, Morris, JC, Buckner. Open Access Series of Imaging Studies (OASIS): Cross-Sectional MRI Data in Young, Middle Aged, Nondemented, and Demented Older Adults, RL. Journal of Cognitive Neuroscience, 19, 1498-1507. doi: 10.1162/jocn.2007.19.9.1498\n",
    "\n",
    "[2] Cardoso MJ, Modat M, Wolz R, Melbourne A, Cash D, Rueckert D, Ourselin S. Geodesic Information Flows: Spatially-Variant Graphs and Their Application to Segmentation and Fusion. IEEE Trans Med Imaging. 2015 Sep;34(9):1976-88. doi: 10.1109/TMI.2015.2418298. Epub 2015 Apr 14. PMID: 25879909.\n",
    "\n",
    "[3] Fiford CM, Sudre CH, Pemberton H, Walsh P, Manning E, Malone IB, Nicholas J, Bouvy WH, Carmichael OT, Biessels GJ, Cardoso MJ, Barnes J; Alzheimer’s Disease Neuroimaging Initiative. Automated White Matter Hyperintensity Segmentation Using Bayesian Model Selection: Assessment and Correlations with Cognitive Change. Neuroinformatics. 2020 Jun;18(3):429-449. doi: 10.1007/s12021-019-09439-6. PMID: 32062817; PMCID: PMC7338814.\n"
   ]
  },
  {
   "cell_type": "code",
   "execution_count": 5,
   "id": "dc560f7e",
   "metadata": {
    "scrolled": true
   },
   "outputs": [
    {
     "name": "stderr",
     "output_type": "stream",
     "text": [
      "Downloading...\n",
      "From: https://drive.google.com/uc?export=download&id=1SX_MCzQe-vyq09QYxECk32wZ2vxp9rx5\n",
      "To: /tmp/tmpo8gppqh6/data.zip\n",
      "100%|███████████████████████████████████████████████████████████████████████████████████████████████████████████████████████████████████████████████████████████████████████████████████████| 384M/384M [00:05<00:00, 69.6MB/s]\n"
     ]
    },
    {
     "data": {
      "text/plain": [
       "'/tmp/tmpo8gppqh6/data.zip'"
      ]
     },
     "execution_count": 5,
     "metadata": {},
     "output_type": "execute_result"
    }
   ],
   "source": [
    "gdown.download(\"https://drive.google.com/uc?export=download&id=1SX_MCzQe-vyq09QYxECk32wZ2vxp9rx5\",\n",
    "               str(root_dir / 'data.zip'))"
   ]
  },
  {
   "cell_type": "code",
   "execution_count": 6,
   "id": "cd7dd6ec",
   "metadata": {},
   "outputs": [],
   "source": [
    "zip_obj = zipfile.ZipFile(os.path.join(root_dir, 'data.zip'), 'r')\n",
    "zip_obj.extractall(root_dir)\n",
    "images_T1 = root_dir / \"OASIS_SMALL-SUBSET/T1\"\n",
    "images_FLAIR = root_dir / \"OASIS_SMALL-SUBSET/FLAIR\"\n",
    "labels = root_dir / \"OASIS_SMALL-SUBSET/Segmentations\""
   ]
  },
  {
   "cell_type": "code",
   "execution_count": 7,
   "id": "d48987b9",
   "metadata": {},
   "outputs": [],
   "source": [
    "# We create the data dictionaries that we need\n",
    "all_images = [os.path.join(images_T1, i) for i in os.listdir(images_T1)] + \\\n",
    "             [os.path.join(images_FLAIR, i) for i in os.listdir(images_FLAIR)]\n",
    "np.random.shuffle(all_images)\n",
    "corresponding_labels = [os.path.join(labels, i.split(\"/\")[-1].replace(i.split(\"/\")[-1].split(\"_\")[0], \"Parcellation\"))\n",
    "                        for i in all_images]\n",
    "input_dict = [{'image': i, 'label': corresponding_labels[ind]} for ind, i in enumerate(all_images)]\n",
    "input_dict_train = input_dict[:int(len(input_dict)*0.9)]\n",
    "input_dict_val = input_dict[int(len(input_dict)*0.9):]"
   ]
  },
  {
   "cell_type": "markdown",
   "id": "9916ca5a",
   "metadata": {},
   "source": [
    "### Dataloaders"
   ]
  },
  {
   "cell_type": "code",
   "execution_count": 8,
   "id": "8ab79cdc",
   "metadata": {
    "lines_to_end_of_cell_marker": 2
   },
   "outputs": [
    {
     "name": "stderr",
     "output_type": "stream",
     "text": [
      "monai.transforms.io.dictionary LoadImaged.__init__:image_only: Current default value of argument `image_only=False` has been deprecated since version 1.1. It will be changed to `image_only=True` in version 1.3.\n",
      "monai.transforms.croppad.dictionary RandSpatialCropd.__init__:random_size: Current default value of argument `random_size=True` has been deprecated since version 1.1. It will be changed to `random_size=False` in version 1.3.\n"
     ]
    }
   ],
   "source": [
    "preliminar_shape = input_shape + [50] # We take random slices fron the center of the brain\n",
    "crop_shape = input_shape + [1]\n",
    "base_transforms = [\n",
    "    monai.transforms.LoadImaged(keys = ['label', 'image']),\n",
    "    monai.transforms.EnsureChannelFirstd(keys=['image', 'label']),\n",
    "    monai.transforms.CenterSpatialCropd(keys=['label', 'image'],\n",
    "                                                     roi_size=preliminar_shape),\n",
    "    monai.transforms.RandSpatialCropd(keys = ['label', 'image'],\n",
    "                                             roi_size=crop_shape, max_roi_size=crop_shape),\n",
    "    monai.transforms.SqueezeDimd(keys=['label', 'image'], dim = -1),\n",
    "    monai.transforms.Resized(keys = ['image', 'label'], spatial_size=input_shape),\n",
    "]\n",
    "last_transforms = [\n",
    "    monai.transforms.CopyItemsd(keys=['label'], names=['label_channel']),\n",
    "    monai.transforms.Lambdad(keys=['label_channel'],\n",
    "                             func=lambda l: l != 0),\n",
    "    monai.transforms.MaskIntensityd(keys=['image'], mask_key='label_channel'),\n",
    "    monai.transforms.NormalizeIntensityd(keys=['image']),\n",
    "    monai.transforms.ToTensord(keys=['image', 'label'])\n",
    "    ]\n",
    "\n",
    "aug_transforms = [\n",
    "    monai.transforms.RandBiasFieldd(coeff_range=(0, 0.005), prob=0.33, keys=['image']),\n",
    "    monai.transforms.RandAdjustContrastd(gamma=(0.9, 1.15), prob=0.33, keys=['image']),\n",
    "    monai.transforms.RandGaussianNoised(prob=0.33, mean=0.0, std=np.random.uniform(0.005, 0.015),\n",
    "                                        keys=['image']),\n",
    "        monai.transforms.RandAffined(rotate_range=[-0.05, 0.05], shear_range=[0.001, 0.05],\n",
    "                                     scale_range=[0, 0.05], padding_mode='zeros',\n",
    "                                     mode='nearest', prob=0.33, keys=['label', 'image'])\n",
    "    ]\n",
    "\n",
    "train_transforms = monai.transforms.Compose(base_transforms + aug_transforms + last_transforms)\n",
    "val_transforms = monai.transforms.Compose(base_transforms + last_transforms)\n",
    "\n",
    "train_dataset = monai.data.dataset.Dataset(input_dict_train, train_transforms)\n",
    "val_dataset = monai.data.dataset.Dataset(input_dict_val, val_transforms)\n",
    "train_loader = DataLoader(train_dataset, shuffle=True, batch_size=batch_size, num_workers=num_workers)\n",
    "val_loader = DataLoader(val_dataset, shuffle=False, drop_last=False, batch_size=batch_size, num_workers=num_workers)"
   ]
  },
  {
   "cell_type": "code",
   "execution_count": 9,
   "id": "98d14e75",
   "metadata": {},
   "outputs": [
    {
     "name": "stdout",
     "output_type": "stream",
     "text": [
      "torch.Size([6, 1, 128, 128])\n"
     ]
    },
    {
     "data": {
      "image/png": "[encoded data removed]",
      "text/plain": [
       "<Figure size 640x480 with 2 Axes>"
      ]
     },
     "metadata": {},
     "output_type": "display_data"
    }
   ],
   "source": [
    "# Sanity check\n",
    "batch = next(iter(train_loader))\n",
    "print(batch['image'].shape)\n",
    "plt.subplot(1,2,1)\n",
    "plt.imshow(batch['image'][0,0,...], cmap = 'gist_gray'); plt.axis('off')\n",
    "plt.subplot(1,2,2)\n",
    "plt.imshow(batch['label'][0,0,...], cmap = \"jet\"); plt.axis('off')\n",
    "plt.show()"
   ]
  },
  {
   "cell_type": "markdown",
   "id": "63de4490",
   "metadata": {},
   "source": [
    "### Network creation and losses"
   ]
  },
  {
   "cell_type": "code",
   "execution_count": 10,
   "id": "fa17d864",
   "metadata": {},
   "outputs": [],
   "source": [
    "device = \"cuda\" if torch.cuda.is_available() else \"cpu\""
   ]
  },
  {
   "cell_type": "code",
   "execution_count": 11,
   "id": "8f126b17",
   "metadata": {},
   "outputs": [],
   "source": [
    "def one_hot(input_label, label_nc):\n",
    "    # One hot encoding function for the labels\n",
    "    shape_ = list(input_label.shape)\n",
    "    shape_[1] = label_nc\n",
    "    label_out = torch.zeros(shape_)\n",
    "    for channel in range(label_nc):\n",
    "        label_out[:, channel, ...] = input_label[:, 0, ...] == channel\n",
    "    return label_out"
   ]
  },
  {
   "cell_type": "code",
   "execution_count": null,
   "id": "6af2779b",
   "metadata": {},
   "outputs": [],
   "source": []
  },
  {
   "cell_type": "code",
   "execution_count": 12,
   "id": "255c90c7",
   "metadata": {},
   "outputs": [],
   "source": [
    "def picture_results(input_label, input_image, output_image):\n",
    "    f = plt.figure(figsize = (4, 1.5))\n",
    "    plt.subplot(1,3,1)\n",
    "    plt.imshow(torch.argmax(input_label, 1)[0,...].detach().cpu(), cmap = 'jet')\n",
    "    plt.axis('off')\n",
    "    plt.title(\"Label\")\n",
    "    plt.subplot(1,3,2)\n",
    "    plt.imshow(input_image[0,0,...].detach().cpu(), cmap = 'gist_gray')\n",
    "    plt.axis('off')\n",
    "    plt.title(\"Input image\")\n",
    "    plt.subplot(1,3,3)\n",
    "    plt.imshow(output_image[0,0,...].detach().cpu(), cmap = 'gist_gray')\n",
    "    plt.axis('off')\n",
    "    plt.title(\"Output image\")\n",
    "    plt.show()"
   ]
  },
  {
   "cell_type": "code",
   "execution_count": null,
   "id": "eaa62145",
   "metadata": {},
   "outputs": [],
   "source": []
  },
  {
   "cell_type": "code",
   "execution_count": 13,
   "id": "c18dbad8",
   "metadata": {},
   "outputs": [],
   "source": [
    "def feature_loss(input_features_disc_fake, input_features_disc_real, lambda_feat, device):\n",
    "    criterion = torch.nn.L1Loss()\n",
    "    num_D = len(input_features_disc_fake)\n",
    "    GAN_Feat_loss = torch.zeros(1).to(device)\n",
    "    for i in range(num_D):  # for each discriminator\n",
    "        num_intermediate_outputs = len(input_features_disc_fake[i])\n",
    "        for j in range(num_intermediate_outputs):  # for each layer output\n",
    "            unweighted_loss = criterion(input_features_disc_fake[i][j],\n",
    "                                        input_features_disc_real[i][j].detach())\n",
    "            GAN_Feat_loss += unweighted_loss * lambda_feat / num_D\n",
    "    return GAN_Feat_loss"
   ]
  },
  {
   "cell_type": "code",
   "execution_count": 14,
   "id": "89989c34",
   "metadata": {},
   "outputs": [],
   "source": [
    "net = SPADE_Net(spatial_dims = 2,\n",
    "                in_channels = 1,\n",
    "                out_channels = 1,\n",
    "                label_nc = 6,\n",
    "                input_shape = input_shape,\n",
    "                num_channels = [16, 32, 64, 128],\n",
    "                z_dim = 16,\n",
    "                is_vae = True)"
   ]
  },
  {
   "cell_type": "code",
   "execution_count": 15,
   "id": "5b8b676f",
   "metadata": {},
   "outputs": [],
   "source": [
    "discriminator = MultiScalePatchDiscriminator(num_d = 2,\n",
    "                                             num_layers_d = 3,\n",
    "                                             spatial_dims = 2,\n",
    "                                             num_channels = 8,\n",
    "                                             in_channels = 7,\n",
    "                                             out_channels = 7,\n",
    "                                             minimum_size_im = 128,\n",
    "                                             norm = \"INSTANCE\",\n",
    "                                             kernel_size = 3\n",
    "                                             )\n",
    "\n",
    "adversarial_loss = PatchAdversarialLoss(reduction = \"sum\", criterion = \"hinge\")"
   ]
  },
  {
   "cell_type": "code",
   "execution_count": 16,
   "id": "36ea4308",
   "metadata": {
    "scrolled": false
   },
   "outputs": [
    {
     "name": "stderr",
     "output_type": "stream",
     "text": [
      "The parameter 'pretrained' is deprecated since 0.13 and may be removed in the future, please use 'weights' instead.\n",
      "Arguments other than a weight enum or `None` for 'weights' are deprecated since 0.13 and may be removed in the future. The current behavior is equivalent to passing `weights=VGG16_Weights.IMAGENET1K_V1`. You can also use `weights=VGG16_Weights.DEFAULT` to get the most up-to-date weights.\n",
      "Downloading: \"https://download.pytorch.org/models/vgg16-397923af.pth\" to /home/walter/.cache/torch/hub/checkpoints/vgg16-397923af.pth\n",
      "100%|███████████████████████████████████████████████████████████████████████████████████████████████████████████████████████████████████████████████████████████████████████████████████████| 528M/528M [00:07<00:00, 77.9MB/s]\n"
     ]
    }
   ],
   "source": [
    "perceptual_loss = PerceptualLoss(spatial_dims = 2,\n",
    "                                 network_type = \"vgg\",\n",
    "                                 is_fake_3d = False,\n",
    "                                 pretrained = True)\n",
    "perceptual_loss=perceptual_loss.to(device)"
   ]
  },
  {
   "cell_type": "code",
   "execution_count": 17,
   "id": "3b57abd3",
   "metadata": {},
   "outputs": [],
   "source": [
    "optimizer_G = torch.optim.Adam(net.parameters(), lr = 0.0002)\n",
    "optimizer_D = torch.optim.Adam(discriminator.parameters(), lr = 0.0004)"
   ]
  },
  {
   "cell_type": "markdown",
   "id": "b8fde71b",
   "metadata": {},
   "source": [
    "### Training loop\n"
   ]
  },
  {
   "cell_type": "code",
   "execution_count": 18,
   "id": "918eac0a",
   "metadata": {
    "scrolled": false
   },
   "outputs": [
    {
     "name": "stdout",
     "output_type": "stream",
     "text": [
      "Epoch 0/100\n"
     ]
    },
    {
     "name": "stderr",
     "output_type": "stream",
     "text": [
      "100%|█████| 15/15 [00:16<00:00,  1.12s/it, kld=293, perceptual=0.339, generator=1.94, feature=0.125, discriminator=3.96]\n",
      "  0%|               | 0/2 [00:00<?, ?it/s, kld=305, perceptual=0.351, generator=1.94, feature=0.124, discriminator=3.94]"
     ]
    },
    {
     "data": {
      "image/png": "[encoded data removed]",
      "text/plain": [
       "<Figure size 400x150 with 3 Axes>"
      ]
     },
     "metadata": {},
     "output_type": "display_data"
    },
    {
     "name": "stderr",
     "output_type": "stream",
     "text": [
      "100%|███████| 2/2 [00:00<00:00,  3.21it/s, kld=197, perceptual=0.339, generator=1.93, feature=0.121, discriminator=3.94]"
     ]
    },
    {
     "name": "stdout",
     "output_type": "stream",
     "text": [
      "Epoch 1/100\n"
     ]
    },
    {
     "name": "stderr",
     "output_type": "stream",
     "text": [
      "\n",
      "100%|█████| 15/15 [00:06<00:00,  2.17it/s, kld=162, perceptual=0.361, generator=1.99, feature=0.127, discriminator=3.79]\n",
      "100%|███████| 2/2 [00:00<00:00,  4.02it/s, kld=116, perceptual=0.324, generator=2.09, feature=0.131, discriminator=3.63]"
     ]
    },
    {
     "name": "stdout",
     "output_type": "stream",
     "text": [
      "Epoch 2/100\n"
     ]
    },
    {
     "name": "stderr",
     "output_type": "stream",
     "text": [
      "\n",
      "100%|█████| 15/15 [00:06<00:00,  2.15it/s, kld=155, perceptual=0.238, generator=2.41, feature=0.147, discriminator=3.03]\n",
      "100%|████████| 2/2 [00:00<00:00,  3.92it/s, kld=179, perceptual=0.34, generator=2.41, feature=0.183, discriminator=2.95]"
     ]
    },
    {
     "name": "stdout",
     "output_type": "stream",
     "text": [
      "Epoch 3/100\n"
     ]
    },
    {
     "name": "stderr",
     "output_type": "stream",
     "text": [
      "\n",
      "100%|█████| 15/15 [00:06<00:00,  2.19it/s, kld=199, perceptual=0.286, generator=2.31, feature=0.164, discriminator=3.36]\n",
      "100%|█████████| 2/2 [00:00<00:00,  4.28it/s, kld=144, perceptual=0.3, generator=2.53, feature=0.179, discriminator=2.68]"
     ]
    },
    {
     "name": "stdout",
     "output_type": "stream",
     "text": [
      "Epoch 4/100\n"
     ]
    },
    {
     "name": "stderr",
     "output_type": "stream",
     "text": [
      "\n",
      "100%|██████| 15/15 [00:06<00:00,  2.19it/s, kld=483, perceptual=0.47, generator=2.29, feature=0.238, discriminator=2.82]\n",
      "100%|███████| 2/2 [00:00<00:00,  4.43it/s, kld=296, perceptual=0.449, generator=2.33, feature=0.237, discriminator=2.78]"
     ]
    },
    {
     "name": "stdout",
     "output_type": "stream",
     "text": [
      "Epoch 5/100\n"
     ]
    },
    {
     "name": "stderr",
     "output_type": "stream",
     "text": [
      "\n",
      "100%|█████| 15/15 [00:06<00:00,  2.25it/s, kld=258, perceptual=0.456, generator=2.84, feature=0.273, discriminator=2.15]\n",
      "100%|███████| 2/2 [00:00<00:00,  4.31it/s, kld=150, perceptual=0.466, generator=2.83, feature=0.275, discriminator=2.15]"
     ]
    },
    {
     "name": "stdout",
     "output_type": "stream",
     "text": [
      "Epoch 6/100\n"
     ]
    },
    {
     "name": "stderr",
     "output_type": "stream",
     "text": [
      "\n",
      "100%|████| 15/15 [00:06<00:00,  2.17it/s, kld=80.9, perceptual=0.406, generator=2.88, feature=0.245, discriminator=2.05]\n",
      "100%|██████| 2/2 [00:00<00:00,  3.98it/s, kld=51.4, perceptual=0.422, generator=2.89, feature=0.249, discriminator=1.97]"
     ]
    },
    {
     "name": "stdout",
     "output_type": "stream",
     "text": [
      "Epoch 7/100\n"
     ]
    },
    {
     "name": "stderr",
     "output_type": "stream",
     "text": [
      "\n",
      "100%|██████| 15/15 [00:06<00:00,  2.19it/s, kld=101, perceptual=0.375, generator=2.75, feature=0.194, discriminator=2.1]\n",
      "100%|██████| 2/2 [00:00<00:00,  4.16it/s, kld=73.3, perceptual=0.341, generator=2.81, feature=0.162, discriminator=2.65]"
     ]
    },
    {
     "name": "stdout",
     "output_type": "stream",
     "text": [
      "Epoch 8/100\n"
     ]
    },
    {
     "name": "stderr",
     "output_type": "stream",
     "text": [
      "\n",
      "100%|███████| 15/15 [00:07<00:00,  2.14it/s, kld=130, perceptual=0.4, generator=2.91, feature=0.203, discriminator=1.89]\n",
      "100%|███████| 2/2 [00:00<00:00,  3.42it/s, kld=101, perceptual=0.385, generator=2.94, feature=0.185, discriminator=2.08]"
     ]
    },
    {
     "name": "stdout",
     "output_type": "stream",
     "text": [
      "Epoch 9/100\n"
     ]
    },
    {
     "name": "stderr",
     "output_type": "stream",
     "text": [
      "\n",
      "100%|█████| 15/15 [00:06<00:00,  2.19it/s, kld=156, perceptual=0.352, generator=2.68, feature=0.184, discriminator=2.03]\n",
      "100%|██████| 2/2 [00:00<00:00,  4.28it/s, kld=97.8, perceptual=0.343, generator=2.63, feature=0.183, discriminator=2.08]"
     ]
    },
    {
     "name": "stdout",
     "output_type": "stream",
     "text": [
      "Epoch 10/100\n"
     ]
    },
    {
     "name": "stderr",
     "output_type": "stream",
     "text": [
      "\n",
      "100%|█████| 15/15 [00:06<00:00,  2.25it/s, kld=159, perceptual=0.347, generator=2.92, feature=0.185, discriminator=1.76]\n",
      "  0%|               | 0/2 [00:00<?, ?it/s, kld=166, perceptual=0.348, generator=2.94, feature=0.176, discriminator=1.93]"
     ]
    },
    {
     "data": {
      "image/png": "[encoded data removed]",
      "text/plain": [
       "<Figure size 400x150 with 3 Axes>"
      ]
     },
     "metadata": {},
     "output_type": "display_data"
    },
    {
     "name": "stderr",
     "output_type": "stream",
     "text": [
      "100%|███████| 2/2 [00:00<00:00,  3.39it/s, kld=149, perceptual=0.372, generator=2.91, feature=0.186, discriminator=1.79]"
     ]
    },
    {
     "name": "stdout",
     "output_type": "stream",
     "text": [
      "Epoch 11/100\n"
     ]
    },
    {
     "name": "stderr",
     "output_type": "stream",
     "text": [
      "\n",
      "100%|█████| 15/15 [00:06<00:00,  2.20it/s, kld=155, perceptual=0.336, generator=2.94, feature=0.162, discriminator=2.13]\n",
      "100%|██████| 2/2 [00:00<00:00,  3.88it/s, kld=98.6, perceptual=0.314, generator=2.96, feature=0.145, discriminator=2.31]"
     ]
    },
    {
     "name": "stdout",
     "output_type": "stream",
     "text": [
      "Epoch 12/100\n"
     ]
    },
    {
     "name": "stderr",
     "output_type": "stream",
     "text": [
      "\n",
      "100%|█| 15/15 [00:06<00:00,  2.23it/s, kld=1.21e+3, perceptual=0.379, generator=2.97, feature=0.186, discriminator=1.68]\n",
      "100%|██████████| 2/2 [00:00<00:00,  4.23it/s, kld=817, perceptual=0.401, generator=3, feature=0.189, discriminator=1.66]"
     ]
    },
    {
     "name": "stdout",
     "output_type": "stream",
     "text": [
      "Epoch 13/100\n"
     ]
    },
    {
     "name": "stderr",
     "output_type": "stream",
     "text": [
      "\n",
      "100%|█████| 15/15 [00:06<00:00,  2.21it/s, kld=118, perceptual=0.377, generator=3.04, feature=0.168, discriminator=2.01]\n",
      "100%|██████| 2/2 [00:00<00:00,  3.45it/s, kld=72.6, perceptual=0.365, generator=3.06, feature=0.179, discriminator=1.59]"
     ]
    },
    {
     "name": "stdout",
     "output_type": "stream",
     "text": [
      "Epoch 14/100\n"
     ]
    },
    {
     "name": "stderr",
     "output_type": "stream",
     "text": [
      "\n",
      "100%|█| 15/15 [00:06<00:00,  2.24it/s, kld=2.05e+3, perceptual=0.386, generator=2.48, feature=0.177, discriminator=2.18]\n",
      "100%|███| 2/2 [00:00<00:00,  4.27it/s, kld=1.31e+3, perceptual=0.326, generator=2.54, feature=0.166, discriminator=2.24]"
     ]
    },
    {
     "name": "stdout",
     "output_type": "stream",
     "text": [
      "Epoch 15/100\n"
     ]
    },
    {
     "name": "stderr",
     "output_type": "stream",
     "text": [
      "\n",
      "100%|█| 15/15 [00:06<00:00,  2.18it/s, kld=1.19e+3, perceptual=0.337, generator=2.82, feature=0.173, discriminator=1.79]\n",
      "100%|████████| 2/2 [00:00<00:00,  4.00it/s, kld=730, perceptual=0.329, generator=2.82, feature=0.17, discriminator=1.78]"
     ]
    },
    {
     "name": "stdout",
     "output_type": "stream",
     "text": [
      "Epoch 16/100\n"
     ]
    },
    {
     "name": "stderr",
     "output_type": "stream",
     "text": [
      "\n",
      "100%|██████| 15/15 [00:06<00:00,  2.18it/s, kld=383, perceptual=0.348, generator=2.8, feature=0.144, discriminator=1.78]\n",
      "100%|████████| 2/2 [00:00<00:00,  3.79it/s, kld=204, perceptual=0.328, generator=2.87, feature=0.146, discriminator=1.8]"
     ]
    },
    {
     "name": "stdout",
     "output_type": "stream",
     "text": [
      "Epoch 17/100\n"
     ]
    },
    {
     "name": "stderr",
     "output_type": "stream",
     "text": [
      "\n",
      "100%|████| 15/15 [00:06<00:00,  2.22it/s, kld=327, perceptual=0.349, generator=2.62, feature=0.0884, discriminator=3.06]\n",
      "100%|██████| 2/2 [00:00<00:00,  4.21it/s, kld=198, perceptual=0.337, generator=2.67, feature=0.0891, discriminator=3.01]"
     ]
    },
    {
     "name": "stdout",
     "output_type": "stream",
     "text": [
      "Epoch 18/100\n"
     ]
    },
    {
     "name": "stderr",
     "output_type": "stream",
     "text": [
      "\n",
      "100%|████| 15/15 [00:06<00:00,  2.17it/s, kld=780, perceptual=0.363, generator=2.98, feature=0.0928, discriminator=2.89]\n",
      "100%|██████| 2/2 [00:00<00:00,  3.25it/s, kld=522, perceptual=0.379, generator=2.94, feature=0.0919, discriminator=2.82]"
     ]
    },
    {
     "name": "stdout",
     "output_type": "stream",
     "text": [
      "Epoch 19/100\n"
     ]
    },
    {
     "name": "stderr",
     "output_type": "stream",
     "text": [
      "\n",
      "100%|████| 15/15 [00:06<00:00,  2.23it/s, kld=711, perceptual=0.346, generator=1.89, feature=0.0815, discriminator=3.88]\n",
      "100%|██████| 2/2 [00:00<00:00,  4.29it/s, kld=413, perceptual=0.327, generator=2.01, feature=0.0848, discriminator=3.68]"
     ]
    },
    {
     "name": "stdout",
     "output_type": "stream",
     "text": [
      "Epoch 20/100\n"
     ]
    },
    {
     "name": "stderr",
     "output_type": "stream",
     "text": [
      "\n",
      "100%|████| 15/15 [00:06<00:00,  2.17it/s, kld=329, perceptual=0.339, generator=2.13, feature=0.0703, discriminator=3.87]\n",
      "  0%|              | 0/2 [00:00<?, ?it/s, kld=298, perceptual=0.338, generator=1.85, feature=0.0606, discriminator=3.84]"
     ]
    },
    {
     "data": {
      "image/png": "[encoded data removed]",
      "text/plain": [
       "<Figure size 400x150 with 3 Axes>"
      ]
     },
     "metadata": {},
     "output_type": "display_data"
    },
    {
     "name": "stderr",
     "output_type": "stream",
     "text": [
      "100%|███████| 2/2 [00:00<00:00,  3.01it/s, kld=203, perceptual=0.336, generator=1.99, feature=0.078, discriminator=3.71]"
     ]
    },
    {
     "name": "stdout",
     "output_type": "stream",
     "text": [
      "Epoch 21/100\n"
     ]
    },
    {
     "name": "stderr",
     "output_type": "stream",
     "text": [
      "\n",
      "100%|████| 15/15 [00:06<00:00,  2.23it/s, kld=174, perceptual=0.353, generator=2.58, feature=0.0856, discriminator=3.15]\n",
      "100%|██████| 2/2 [00:00<00:00,  4.24it/s, kld=114, perceptual=0.274, generator=2.73, feature=0.0881, discriminator=3.83]"
     ]
    },
    {
     "name": "stdout",
     "output_type": "stream",
     "text": [
      "Epoch 22/100\n"
     ]
    },
    {
     "name": "stderr",
     "output_type": "stream",
     "text": [
      "\n",
      "100%|██████| 15/15 [00:06<00:00,  2.21it/s, kld=195, perceptual=0.36, generator=2.49, feature=0.106, discriminator=3.85]\n",
      "100%|███████| 2/2 [00:00<00:00,  3.47it/s, kld=141, perceptual=0.343, generator=2.38, feature=0.0823, discriminator=3.8]"
     ]
    },
    {
     "name": "stdout",
     "output_type": "stream",
     "text": [
      "Epoch 23/100\n"
     ]
    },
    {
     "name": "stderr",
     "output_type": "stream",
     "text": [
      "\n",
      "100%|████| 15/15 [00:06<00:00,  2.23it/s, kld=407, perceptual=0.355, generator=2.13, feature=0.0831, discriminator=3.37]\n",
      "100%|███████| 2/2 [00:00<00:00,  4.19it/s, kld=190, perceptual=0.316, generator=2.47, feature=0.108, discriminator=3.25]"
     ]
    },
    {
     "name": "stdout",
     "output_type": "stream",
     "text": [
      "Epoch 24/100\n"
     ]
    },
    {
     "name": "stderr",
     "output_type": "stream",
     "text": [
      "\n",
      "100%|█████| 15/15 [00:06<00:00,  2.18it/s, kld=380, perceptual=0.375, generator=1.69, feature=0.108, discriminator=3.62]\n",
      "100%|███████| 2/2 [00:00<00:00,  4.01it/s, kld=234, perceptual=0.348, generator=1.86, feature=0.103, discriminator=3.33]"
     ]
    },
    {
     "name": "stdout",
     "output_type": "stream",
     "text": [
      "Epoch 25/100\n"
     ]
    },
    {
     "name": "stderr",
     "output_type": "stream",
     "text": [
      "\n",
      "100%|█████| 15/15 [00:06<00:00,  2.19it/s, kld=207, perceptual=0.345, generator=1.8, feature=0.0924, discriminator=3.78]\n",
      "100%|█████████| 2/2 [00:00<00:00,  4.41it/s, kld=129, perceptual=0.348, generator=1.97, feature=0.1, discriminator=3.72]"
     ]
    },
    {
     "name": "stdout",
     "output_type": "stream",
     "text": [
      "Epoch 26/100\n"
     ]
    },
    {
     "name": "stderr",
     "output_type": "stream",
     "text": [
      "\n",
      "100%|█████| 15/15 [00:06<00:00,  2.21it/s, kld=294, perceptual=0.334, generator=2.76, feature=0.119, discriminator=2.83]\n",
      "100%|████████| 2/2 [00:00<00:00,  4.38it/s, kld=211, perceptual=0.355, generator=2.52, feature=0.123, discriminator=2.9]"
     ]
    },
    {
     "name": "stdout",
     "output_type": "stream",
     "text": [
      "Epoch 27/100\n"
     ]
    },
    {
     "name": "stderr",
     "output_type": "stream",
     "text": [
      "\n",
      "100%|██████| 15/15 [00:06<00:00,  2.20it/s, kld=384, perceptual=0.361, generator=2.86, feature=0.126, discriminator=2.7]\n",
      "100%|███████| 2/2 [00:00<00:00,  3.77it/s, kld=164, perceptual=0.341, generator=3.05, feature=0.147, discriminator=2.77]"
     ]
    },
    {
     "name": "stdout",
     "output_type": "stream",
     "text": [
      "Epoch 28/100\n"
     ]
    },
    {
     "name": "stderr",
     "output_type": "stream",
     "text": [
      "\n",
      "100%|█████| 15/15 [00:06<00:00,  2.22it/s, kld=257, perceptual=0.354, generator=1.4, feature=0.0816, discriminator=3.77]\n",
      "100%|███████| 2/2 [00:00<00:00,  4.09it/s, kld=173, perceptual=0.356, generator=1.36, feature=0.0792, discriminator=3.7]"
     ]
    },
    {
     "name": "stdout",
     "output_type": "stream",
     "text": [
      "Epoch 29/100\n"
     ]
    },
    {
     "name": "stderr",
     "output_type": "stream",
     "text": [
      "\n",
      "100%|█████| 15/15 [00:06<00:00,  2.17it/s, kld=166, perceptual=0.366, generator=1.22, feature=0.0643, discriminator=3.9]\n",
      "100%|██████| 2/2 [00:00<00:00,  3.98it/s, kld=92.5, perceptual=0.314, generator=1.46, feature=0.065, discriminator=3.55]"
     ]
    },
    {
     "name": "stdout",
     "output_type": "stream",
     "text": [
      "Epoch 30/100\n"
     ]
    },
    {
     "name": "stderr",
     "output_type": "stream",
     "text": [
      "\n",
      "100%|████| 15/15 [00:06<00:00,  2.23it/s, kld=171, perceptual=0.331, generator=1.94, feature=0.0693, discriminator=3.74]\n",
      "  0%|               | 0/2 [00:00<?, ?it/s, kld=196, perceptual=0.319, generator=1.9, feature=0.0694, discriminator=3.44]"
     ]
    },
    {
     "data": {
      "image/png": "[encoded data removed]",
      "text/plain": [
       "<Figure size 400x150 with 3 Axes>"
      ]
     },
     "metadata": {},
     "output_type": "display_data"
    },
    {
     "name": "stderr",
     "output_type": "stream",
     "text": [
      "100%|██████| 2/2 [00:00<00:00,  3.36it/s, kld=143, perceptual=0.311, generator=1.89, feature=0.0648, discriminator=3.33]"
     ]
    },
    {
     "name": "stdout",
     "output_type": "stream",
     "text": [
      "Epoch 31/100\n"
     ]
    },
    {
     "name": "stderr",
     "output_type": "stream",
     "text": [
      "\n",
      "100%|████| 15/15 [00:06<00:00,  2.16it/s, kld=264, perceptual=0.363, generator=1.98, feature=0.0766, discriminator=3.99]\n",
      "100%|██████| 2/2 [00:00<00:00,  3.75it/s, kld=178, perceptual=0.348, generator=1.96, feature=0.0681, discriminator=3.98]"
     ]
    },
    {
     "name": "stdout",
     "output_type": "stream",
     "text": [
      "Epoch 32/100\n"
     ]
    },
    {
     "name": "stderr",
     "output_type": "stream",
     "text": [
      "\n",
      "100%|███| 15/15 [00:06<00:00,  2.20it/s, kld=85.9, perceptual=0.308, generator=2.05, feature=0.0725, discriminator=3.94]\n",
      "100%|██████| 2/2 [00:00<00:00,  3.43it/s, kld=55.1, perceptual=0.327, generator=2.17, feature=0.113, discriminator=3.84]"
     ]
    },
    {
     "name": "stdout",
     "output_type": "stream",
     "text": [
      "Epoch 33/100\n"
     ]
    },
    {
     "name": "stderr",
     "output_type": "stream",
     "text": [
      "\n",
      "100%|████| 15/15 [00:06<00:00,  2.20it/s, kld=110, perceptual=0.293, generator=2.17, feature=0.0944, discriminator=3.92]\n",
      "100%|██████| 2/2 [00:00<00:00,  3.94it/s, kld=110, perceptual=0.329, generator=2.01, feature=0.0707, discriminator=4.03]"
     ]
    },
    {
     "name": "stdout",
     "output_type": "stream",
     "text": [
      "Epoch 34/100\n"
     ]
    },
    {
     "name": "stderr",
     "output_type": "stream",
     "text": [
      "\n",
      "100%|████| 15/15 [00:06<00:00,  2.26it/s, kld=203, perceptual=0.329, generator=2.42, feature=0.0917, discriminator=3.65]\n",
      "100%|███████| 2/2 [00:00<00:00,  2.71it/s, kld=106, perceptual=0.29, generator=2.39, feature=0.0954, discriminator=3.58]"
     ]
    },
    {
     "name": "stdout",
     "output_type": "stream",
     "text": [
      "Epoch 35/100\n"
     ]
    },
    {
     "name": "stderr",
     "output_type": "stream",
     "text": [
      "\n",
      "100%|█████| 15/15 [00:06<00:00,  2.24it/s, kld=282, perceptual=0.28, generator=2.44, feature=0.0842, discriminator=3.62]\n",
      "100%|██████| 2/2 [00:00<00:00,  4.21it/s, kld=206, perceptual=0.284, generator=2.42, feature=0.0789, discriminator=3.64]"
     ]
    },
    {
     "name": "stdout",
     "output_type": "stream",
     "text": [
      "Epoch 36/100\n"
     ]
    },
    {
     "name": "stderr",
     "output_type": "stream",
     "text": [
      "\n",
      "100%|█████| 15/15 [00:06<00:00,  2.20it/s, kld=313, perceptual=0.333, generator=2.3, feature=0.0794, discriminator=4.01]\n",
      "100%|███████| 2/2 [00:00<00:00,  4.14it/s, kld=192, perceptual=0.285, generator=2.4, feature=0.0781, discriminator=4.01]"
     ]
    },
    {
     "name": "stdout",
     "output_type": "stream",
     "text": [
      "Epoch 37/100\n"
     ]
    },
    {
     "name": "stderr",
     "output_type": "stream",
     "text": [
      "\n",
      "100%|█████| 15/15 [00:06<00:00,  2.24it/s, kld=101, perceptual=0.297, generator=2.4, feature=0.0699, discriminator=3.96]\n",
      "100%|█████| 2/2 [00:00<00:00,  3.69it/s, kld=56.2, perceptual=0.279, generator=2.44, feature=0.0671, discriminator=3.96]"
     ]
    },
    {
     "name": "stdout",
     "output_type": "stream",
     "text": [
      "Epoch 38/100\n"
     ]
    },
    {
     "name": "stderr",
     "output_type": "stream",
     "text": [
      "\n",
      "100%|███| 15/15 [00:06<00:00,  2.17it/s, kld=94.7, perceptual=0.296, generator=2.37, feature=0.0693, discriminator=3.91]\n",
      "100%|███████| 2/2 [00:00<00:00,  4.23it/s, kld=64, perceptual=0.239, generator=2.42, feature=0.0572, discriminator=3.95]"
     ]
    },
    {
     "name": "stdout",
     "output_type": "stream",
     "text": [
      "Epoch 39/100\n"
     ]
    },
    {
     "name": "stderr",
     "output_type": "stream",
     "text": [
      "\n",
      "100%|██████| 15/15 [00:06<00:00,  2.22it/s, kld=154, perceptual=0.293, generator=2.28, feature=0.055, discriminator=3.9]\n",
      "100%|███████| 2/2 [00:00<00:00,  3.99it/s, kld=93.5, perceptual=0.27, generator=2.25, feature=0.0545, discriminator=3.9]"
     ]
    },
    {
     "name": "stdout",
     "output_type": "stream",
     "text": [
      "Epoch 40/100\n"
     ]
    },
    {
     "name": "stderr",
     "output_type": "stream",
     "text": [
      "\n",
      "100%|█████| 15/15 [00:06<00:00,  2.20it/s, kld=268, perceptual=0.227, generator=2.26, feature=0.052, discriminator=3.98]\n",
      "  0%|              | 0/2 [00:00<?, ?it/s, kld=371, perceptual=0.264, generator=2.19, feature=0.0581, discriminator=3.92]"
     ]
    },
    {
     "data": {
      "image/png": "[encoded data removed]",
      "text/plain": [
       "<Figure size 400x150 with 3 Axes>"
      ]
     },
     "metadata": {},
     "output_type": "display_data"
    },
    {
     "name": "stderr",
     "output_type": "stream",
     "text": [
      "100%|███████| 2/2 [00:00<00:00,  3.34it/s, kld=247, perceptual=0.269, generator=2.15, feature=0.056, discriminator=3.95]"
     ]
    },
    {
     "name": "stdout",
     "output_type": "stream",
     "text": [
      "Epoch 41/100\n"
     ]
    },
    {
     "name": "stderr",
     "output_type": "stream",
     "text": [
      "\n",
      "100%|█████| 15/15 [00:06<00:00,  2.24it/s, kld=195, perceptual=0.231, generator=2.14, feature=0.054, discriminator=4.01]\n",
      "100%|██████| 2/2 [00:00<00:00,  4.25it/s, kld=128, perceptual=0.238, generator=2.14, feature=0.0585, discriminator=4.02]"
     ]
    },
    {
     "name": "stdout",
     "output_type": "stream",
     "text": [
      "Epoch 42/100\n"
     ]
    },
    {
     "name": "stderr",
     "output_type": "stream",
     "text": [
      "\n",
      "100%|████| 15/15 [00:06<00:00,  2.18it/s, kld=312, perceptual=0.238, generator=2.29, feature=0.0563, discriminator=3.91]\n",
      "100%|███████| 2/2 [00:00<00:00,  3.29it/s, kld=217, perceptual=0.24, generator=2.29, feature=0.0595, discriminator=3.89]"
     ]
    },
    {
     "name": "stdout",
     "output_type": "stream",
     "text": [
      "Epoch 43/100\n"
     ]
    },
    {
     "name": "stderr",
     "output_type": "stream",
     "text": [
      "\n",
      "100%|█████| 15/15 [00:06<00:00,  2.24it/s, kld=653, perceptual=0.225, generator=2.5, feature=0.0637, discriminator=3.79]\n",
      "100%|██████| 2/2 [00:00<00:00,  4.31it/s, kld=390, perceptual=0.256, generator=2.43, feature=0.0642, discriminator=3.72]"
     ]
    },
    {
     "name": "stdout",
     "output_type": "stream",
     "text": [
      "Epoch 44/100\n"
     ]
    },
    {
     "name": "stderr",
     "output_type": "stream",
     "text": [
      "\n",
      "100%|████| 15/15 [00:06<00:00,  2.21it/s, kld=860, perceptual=0.261, generator=2.38, feature=0.0658, discriminator=3.85]\n",
      "100%|██████| 2/2 [00:00<00:00,  3.70it/s, kld=513, perceptual=0.241, generator=2.41, feature=0.0746, discriminator=3.82]"
     ]
    },
    {
     "name": "stdout",
     "output_type": "stream",
     "text": [
      "Epoch 45/100\n"
     ]
    },
    {
     "name": "stderr",
     "output_type": "stream",
     "text": [
      "\n",
      "100%|████| 15/15 [00:06<00:00,  2.22it/s, kld=422, perceptual=0.282, generator=2.38, feature=0.0676, discriminator=3.99]\n",
      "100%|███████| 2/2 [00:00<00:00,  4.23it/s, kld=325, perceptual=0.234, generator=2.5, feature=0.0701, discriminator=4.01]"
     ]
    },
    {
     "name": "stdout",
     "output_type": "stream",
     "text": [
      "Epoch 46/100\n"
     ]
    },
    {
     "name": "stderr",
     "output_type": "stream",
     "text": [
      "\n",
      "100%|█| 15/15 [00:06<00:00,  2.19it/s, kld=2.07e+3, perceptual=0.257, generator=2.42, feature=0.0706, discriminator=3.89\n",
      "100%|██| 2/2 [00:00<00:00,  3.85it/s, kld=1.21e+3, perceptual=0.247, generator=2.43, feature=0.0692, discriminator=3.88]"
     ]
    },
    {
     "name": "stdout",
     "output_type": "stream",
     "text": [
      "Epoch 47/100\n"
     ]
    },
    {
     "name": "stderr",
     "output_type": "stream",
     "text": [
      "\n",
      "100%|████| 15/15 [00:06<00:00,  2.18it/s, kld=338, perceptual=0.263, generator=2.39, feature=0.0861, discriminator=4.03]\n",
      "100%|███████| 2/2 [00:00<00:00,  4.18it/s, kld=248, perceptual=0.246, generator=2.5, feature=0.0764, discriminator=3.86]"
     ]
    },
    {
     "name": "stdout",
     "output_type": "stream",
     "text": [
      "Epoch 48/100\n"
     ]
    },
    {
     "name": "stderr",
     "output_type": "stream",
     "text": [
      "\n",
      "100%|████| 15/15 [00:06<00:00,  2.23it/s, kld=331, perceptual=0.246, generator=2.47, feature=0.0839, discriminator=3.71]\n",
      "100%|███████| 2/2 [00:00<00:00,  4.31it/s, kld=205, perceptual=0.243, generator=2.39, feature=0.088, discriminator=3.79]"
     ]
    },
    {
     "name": "stdout",
     "output_type": "stream",
     "text": [
      "Epoch 49/100\n"
     ]
    },
    {
     "name": "stderr",
     "output_type": "stream",
     "text": [
      "\n",
      "100%|██| 15/15 [00:06<00:00,  2.19it/s, kld=3.41e+3, perceptual=0.248, generator=2.58, feature=0.12, discriminator=3.76]\n",
      "100%|████| 2/2 [00:00<00:00,  3.71it/s, kld=2.19e+3, perceptual=0.26, generator=2.55, feature=0.125, discriminator=3.59]"
     ]
    },
    {
     "name": "stdout",
     "output_type": "stream",
     "text": [
      "Epoch 50/100\n"
     ]
    },
    {
     "name": "stderr",
     "output_type": "stream",
     "text": [
      "\n",
      "100%|█| 15/15 [00:06<00:00,  2.21it/s, kld=1.09e+3, perceptual=0.246, generator=2.76, feature=0.128, discriminator=3.32]\n",
      "  0%|           | 0/2 [00:00<?, ?it/s, kld=1.13e+3, perceptual=0.237, generator=2.61, feature=0.107, discriminator=3.34]"
     ]
    },
    {
     "data": {
      "image/png": "[encoded data removed]",
      "text/plain": [
       "<Figure size 400x150 with 3 Axes>"
      ]
     },
     "metadata": {},
     "output_type": "display_data"
    },
    {
     "name": "stderr",
     "output_type": "stream",
     "text": [
      "100%|███████| 2/2 [00:00<00:00,  3.31it/s, kld=704, perceptual=0.241, generator=2.83, feature=0.145, discriminator=3.18]"
     ]
    },
    {
     "name": "stdout",
     "output_type": "stream",
     "text": [
      "Epoch 51/100\n"
     ]
    },
    {
     "name": "stderr",
     "output_type": "stream",
     "text": [
      "\n",
      "100%|█| 15/15 [00:06<00:00,  2.19it/s, kld=1.35e+3, perceptual=0.247, generator=1.95, feature=0.0697, discriminator=3.94\n",
      "100%|██████| 2/2 [00:00<00:00,  4.27it/s, kld=891, perceptual=0.269, generator=1.84, feature=0.0785, discriminator=4.04]"
     ]
    },
    {
     "name": "stdout",
     "output_type": "stream",
     "text": [
      "Epoch 52/100\n"
     ]
    },
    {
     "name": "stderr",
     "output_type": "stream",
     "text": [
      "\n",
      "100%|████| 15/15 [00:06<00:00,  2.25it/s, kld=373, perceptual=0.286, generator=1.98, feature=0.0785, discriminator=3.87]\n",
      "100%|███████| 2/2 [00:00<00:00,  3.92it/s, kld=274, perceptual=0.285, generator=2.02, feature=0.0876, discriminator=3.8]"
     ]
    },
    {
     "name": "stdout",
     "output_type": "stream",
     "text": [
      "Epoch 53/100\n"
     ]
    },
    {
     "name": "stderr",
     "output_type": "stream",
     "text": [
      "\n",
      "100%|█████| 15/15 [00:06<00:00,  2.16it/s, kld=637, perceptual=0.264, generator=2.5, feature=0.0888, discriminator=3.63]\n",
      "100%|██████| 2/2 [00:00<00:00,  3.50it/s, kld=417, perceptual=0.268, generator=2.46, feature=0.0777, discriminator=3.49]"
     ]
    },
    {
     "name": "stdout",
     "output_type": "stream",
     "text": [
      "Epoch 54/100\n"
     ]
    },
    {
     "name": "stderr",
     "output_type": "stream",
     "text": [
      "\n",
      "100%|█████| 15/15 [00:06<00:00,  2.23it/s, kld=584, perceptual=0.274, generator=2.46, feature=0.095, discriminator=3.23]\n",
      "100%|██████| 2/2 [00:00<00:00,  4.24it/s, kld=420, perceptual=0.254, generator=2.53, feature=0.0873, discriminator=3.37]"
     ]
    },
    {
     "name": "stdout",
     "output_type": "stream",
     "text": [
      "Epoch 55/100\n"
     ]
    },
    {
     "name": "stderr",
     "output_type": "stream",
     "text": [
      "\n",
      "100%|████| 15/15 [00:06<00:00,  2.19it/s, kld=842, perceptual=0.272, generator=1.82, feature=0.0686, discriminator=3.99]\n",
      "100%|██████| 2/2 [00:00<00:00,  4.11it/s, kld=521, perceptual=0.256, generator=1.91, feature=0.0724, discriminator=3.97]"
     ]
    },
    {
     "name": "stdout",
     "output_type": "stream",
     "text": [
      "Epoch 56/100\n"
     ]
    },
    {
     "name": "stderr",
     "output_type": "stream",
     "text": [
      "\n",
      "100%|████| 15/15 [00:06<00:00,  2.20it/s, kld=301, perceptual=0.292, generator=2.01, feature=0.0822, discriminator=3.88]\n",
      "100%|███████| 2/2 [00:00<00:00,  4.03it/s, kld=169, perceptual=0.291, generator=2.27, feature=0.103, discriminator=3.59]"
     ]
    },
    {
     "name": "stdout",
     "output_type": "stream",
     "text": [
      "Epoch 57/100\n"
     ]
    },
    {
     "name": "stderr",
     "output_type": "stream",
     "text": [
      "\n",
      "100%|█████| 15/15 [00:06<00:00,  2.15it/s, kld=835, perceptual=0.302, generator=2.35, feature=0.104, discriminator=3.89]\n",
      "100%|█████████| 2/2 [00:00<00:00,  4.33it/s, kld=517, perceptual=0.341, generator=2.3, feature=0.119, discriminator=3.6]"
     ]
    },
    {
     "name": "stdout",
     "output_type": "stream",
     "text": [
      "Epoch 58/100\n"
     ]
    },
    {
     "name": "stderr",
     "output_type": "stream",
     "text": [
      "\n",
      "100%|██████| 15/15 [00:06<00:00,  2.18it/s, kld=425, perceptual=0.322, generator=2.7, feature=0.174, discriminator=3.03]\n",
      "100%|███████| 2/2 [00:00<00:00,  4.24it/s, kld=245, perceptual=0.326, generator=2.72, feature=0.162, discriminator=3.07]"
     ]
    },
    {
     "name": "stdout",
     "output_type": "stream",
     "text": [
      "Epoch 59/100\n"
     ]
    },
    {
     "name": "stderr",
     "output_type": "stream",
     "text": [
      "\n",
      "100%|█████| 15/15 [00:06<00:00,  2.24it/s, kld=139, perceptual=0.302, generator=2.79, feature=0.149, discriminator=2.91]\n",
      "100%|██████| 2/2 [00:00<00:00,  4.20it/s, kld=69.9, perceptual=0.284, generator=2.83, feature=0.137, discriminator=2.89]"
     ]
    },
    {
     "name": "stdout",
     "output_type": "stream",
     "text": [
      "Epoch 60/100\n"
     ]
    },
    {
     "name": "stderr",
     "output_type": "stream",
     "text": [
      "\n",
      "100%|█████| 15/15 [00:06<00:00,  2.20it/s, kld=210, perceptual=0.278, generator=2.84, feature=0.133, discriminator=2.84]\n",
      "  0%|               | 0/2 [00:00<?, ?it/s, kld=106, perceptual=0.257, generator=2.91, feature=0.125, discriminator=2.81]"
     ]
    },
    {
     "data": {
      "image/png": "[encoded data removed]",
      "text/plain": [
       "<Figure size 400x150 with 3 Axes>"
      ]
     },
     "metadata": {},
     "output_type": "display_data"
    },
    {
     "name": "stderr",
     "output_type": "stream",
     "text": [
      "100%|████████| 2/2 [00:00<00:00,  3.44it/s, kld=132, perceptual=0.257, generator=2.86, feature=0.12, discriminator=2.85]"
     ]
    },
    {
     "name": "stdout",
     "output_type": "stream",
     "text": [
      "Epoch 61/100\n"
     ]
    },
    {
     "name": "stderr",
     "output_type": "stream",
     "text": [
      "\n",
      "100%|█████| 15/15 [00:06<00:00,  2.19it/s, kld=835, perceptual=0.266, generator=1.8, feature=0.0844, discriminator=3.96]\n",
      "100%|██████| 2/2 [00:00<00:00,  3.26it/s, kld=767, perceptual=0.293, generator=1.72, feature=0.0979, discriminator=3.83]"
     ]
    },
    {
     "name": "stdout",
     "output_type": "stream",
     "text": [
      "Epoch 62/100\n"
     ]
    },
    {
     "name": "stderr",
     "output_type": "stream",
     "text": [
      "\n",
      "100%|██████| 15/15 [00:06<00:00,  2.19it/s, kld=908, perceptual=0.306, generator=1.62, feature=0.102, discriminator=3.5]\n",
      "100%|███████| 2/2 [00:00<00:00,  4.25it/s, kld=568, perceptual=0.324, generator=1.66, feature=0.107, discriminator=3.45]"
     ]
    },
    {
     "name": "stdout",
     "output_type": "stream",
     "text": [
      "Epoch 63/100\n"
     ]
    },
    {
     "name": "stderr",
     "output_type": "stream",
     "text": [
      "\n",
      "100%|████| 15/15 [00:06<00:00,  2.23it/s, kld=865, perceptual=0.304, generator=1.54, feature=0.0938, discriminator=3.68]\n",
      "100%|██████| 2/2 [00:00<00:00,  3.77it/s, kld=668, perceptual=0.295, generator=1.62, feature=0.0881, discriminator=3.65]"
     ]
    },
    {
     "name": "stdout",
     "output_type": "stream",
     "text": [
      "Epoch 64/100\n"
     ]
    },
    {
     "name": "stderr",
     "output_type": "stream",
     "text": [
      "\n",
      "100%|█████| 15/15 [00:06<00:00,  2.19it/s, kld=915, perceptual=0.272, generator=1.26, feature=0.074, discriminator=3.78]\n",
      "100%|██████| 2/2 [00:00<00:00,  4.09it/s, kld=570, perceptual=0.299, generator=1.21, feature=0.0785, discriminator=3.76]"
     ]
    },
    {
     "name": "stdout",
     "output_type": "stream",
     "text": [
      "Epoch 65/100\n"
     ]
    },
    {
     "name": "stderr",
     "output_type": "stream",
     "text": [
      "\n",
      "100%|████| 15/15 [00:06<00:00,  2.20it/s, kld=343, perceptual=0.268, generator=1.28, feature=0.0697, discriminator=3.87]\n",
      "100%|███████| 2/2 [00:00<00:00,  4.37it/s, kld=209, perceptual=0.278, generator=1.2, feature=0.0735, discriminator=3.81]"
     ]
    },
    {
     "name": "stdout",
     "output_type": "stream",
     "text": [
      "Epoch 66/100\n"
     ]
    },
    {
     "name": "stderr",
     "output_type": "stream",
     "text": [
      "\n",
      "100%|████| 15/15 [00:06<00:00,  2.25it/s, kld=495, perceptual=0.252, generator=1.18, feature=0.0635, discriminator=3.82]\n",
      "100%|██████| 2/2 [00:00<00:00,  3.88it/s, kld=337, perceptual=0.267, generator=1.15, feature=0.0676, discriminator=3.88]"
     ]
    },
    {
     "name": "stdout",
     "output_type": "stream",
     "text": [
      "Epoch 67/100\n"
     ]
    },
    {
     "name": "stderr",
     "output_type": "stream",
     "text": [
      "\n",
      "100%|████| 15/15 [00:06<00:00,  2.21it/s, kld=677, perceptual=0.271, generator=1.25, feature=0.0701, discriminator=3.95]\n",
      "100%|██████| 2/2 [00:00<00:00,  4.08it/s, kld=563, perceptual=0.279, generator=1.11, feature=0.0637, discriminator=3.93]"
     ]
    },
    {
     "name": "stdout",
     "output_type": "stream",
     "text": [
      "Epoch 68/100\n"
     ]
    },
    {
     "name": "stderr",
     "output_type": "stream",
     "text": [
      "\n",
      "100%|████| 15/15 [00:06<00:00,  2.29it/s, kld=373, perceptual=0.283, generator=1.24, feature=0.0668, discriminator=3.91]\n",
      "100%|██████| 2/2 [00:00<00:00,  3.75it/s, kld=235, perceptual=0.266, generator=1.25, feature=0.0631, discriminator=3.89]"
     ]
    },
    {
     "name": "stdout",
     "output_type": "stream",
     "text": [
      "Epoch 69/100\n"
     ]
    },
    {
     "name": "stderr",
     "output_type": "stream",
     "text": [
      "\n",
      "100%|████| 15/15 [00:06<00:00,  2.20it/s, kld=455, perceptual=0.275, generator=1.23, feature=0.0644, discriminator=3.96]\n",
      "100%|██████| 2/2 [00:00<00:00,  4.21it/s, kld=363, perceptual=0.263, generator=1.19, feature=0.0624, discriminator=3.91]"
     ]
    },
    {
     "name": "stdout",
     "output_type": "stream",
     "text": [
      "Epoch 70/100\n"
     ]
    },
    {
     "name": "stderr",
     "output_type": "stream",
     "text": [
      "\n",
      "100%|█████| 15/15 [00:06<00:00,  2.23it/s, kld=519, perceptual=0.264, generator=1.29, feature=0.0628, discriminator=3.9]\n",
      "  0%|               | 0/2 [00:00<?, ?it/s, kld=545, perceptual=0.26, generator=1.25, feature=0.0607, discriminator=3.91]"
     ]
    },
    {
     "data": {
      "image/png": "[encoded data removed]",
      "text/plain": [
       "<Figure size 400x150 with 3 Axes>"
      ]
     },
     "metadata": {},
     "output_type": "display_data"
    },
    {
     "name": "stderr",
     "output_type": "stream",
     "text": [
      "100%|██████| 2/2 [00:00<00:00,  3.35it/s, kld=375, perceptual=0.261, generator=1.29, feature=0.0589, discriminator=3.89]"
     ]
    },
    {
     "name": "stdout",
     "output_type": "stream",
     "text": [
      "Epoch 71/100\n"
     ]
    },
    {
     "name": "stderr",
     "output_type": "stream",
     "text": [
      "\n",
      "100%|████| 15/15 [00:06<00:00,  2.18it/s, kld=329, perceptual=0.242, generator=1.18, feature=0.0615, discriminator=4.02]\n",
      "100%|███████| 2/2 [00:00<00:00,  3.73it/s, kld=205, perceptual=0.267, generator=1.16, feature=0.067, discriminator=3.97]"
     ]
    },
    {
     "name": "stdout",
     "output_type": "stream",
     "text": [
      "Epoch 72/100\n"
     ]
    },
    {
     "name": "stderr",
     "output_type": "stream",
     "text": [
      "\n",
      "100%|████| 15/15 [00:06<00:00,  2.18it/s, kld=629, perceptual=0.233, generator=1.37, feature=0.0524, discriminator=3.98]\n",
      "100%|██████| 2/2 [00:00<00:00,  4.20it/s, kld=417, perceptual=0.233, generator=1.38, feature=0.0535, discriminator=3.95]"
     ]
    },
    {
     "name": "stdout",
     "output_type": "stream",
     "text": [
      "Epoch 73/100\n"
     ]
    },
    {
     "name": "stderr",
     "output_type": "stream",
     "text": [
      "\n",
      "100%|████| 15/15 [00:06<00:00,  2.16it/s, kld=198, perceptual=0.245, generator=1.45, feature=0.0611, discriminator=3.97]\n",
      "100%|███████| 2/2 [00:00<00:00,  4.12it/s, kld=129, perceptual=0.263, generator=1.43, feature=0.071, discriminator=3.99]"
     ]
    },
    {
     "name": "stdout",
     "output_type": "stream",
     "text": [
      "Epoch 74/100\n"
     ]
    },
    {
     "name": "stderr",
     "output_type": "stream",
     "text": [
      "\n",
      "100%|████| 15/15 [00:06<00:00,  2.22it/s, kld=466, perceptual=0.279, generator=1.78, feature=0.0656, discriminator=3.92]\n",
      "100%|██████| 2/2 [00:00<00:00,  3.96it/s, kld=308, perceptual=0.278, generator=1.79, feature=0.0681, discriminator=3.86]"
     ]
    },
    {
     "name": "stdout",
     "output_type": "stream",
     "text": [
      "Epoch 75/100\n"
     ]
    },
    {
     "name": "stderr",
     "output_type": "stream",
     "text": [
      "\n",
      "100%|████| 15/15 [00:06<00:00,  2.16it/s, kld=736, perceptual=0.245, generator=1.53, feature=0.0834, discriminator=4.15]\n",
      "100%|██████| 2/2 [00:00<00:00,  4.08it/s, kld=668, perceptual=0.235, generator=1.41, feature=0.0861, discriminator=4.06]"
     ]
    },
    {
     "name": "stdout",
     "output_type": "stream",
     "text": [
      "Epoch 76/100\n"
     ]
    },
    {
     "name": "stderr",
     "output_type": "stream",
     "text": [
      "\n",
      "100%|█████| 15/15 [00:06<00:00,  2.19it/s, kld=815, perceptual=0.277, generator=1.98, feature=0.129, discriminator=3.59]\n",
      "100%|███████| 2/2 [00:00<00:00,  4.03it/s, kld=525, perceptual=0.268, generator=2.05, feature=0.133, discriminator=3.32]"
     ]
    },
    {
     "name": "stdout",
     "output_type": "stream",
     "text": [
      "Epoch 77/100\n"
     ]
    },
    {
     "name": "stderr",
     "output_type": "stream",
     "text": [
      "\n",
      "100%|████| 15/15 [00:06<00:00,  2.24it/s, kld=1e+3, perceptual=0.276, generator=2.28, feature=0.115, discriminator=3.72]\n",
      "100%|███████| 2/2 [00:00<00:00,  3.66it/s, kld=660, perceptual=0.282, generator=2.32, feature=0.133, discriminator=3.53]"
     ]
    },
    {
     "name": "stdout",
     "output_type": "stream",
     "text": [
      "Epoch 78/100\n"
     ]
    },
    {
     "name": "stderr",
     "output_type": "stream",
     "text": [
      "\n",
      "100%|██| 15/15 [00:06<00:00,  2.21it/s, kld=1.36e+3, perceptual=0.279, generator=2.47, feature=0.14, discriminator=2.85]\n",
      "100%|███████| 2/2 [00:00<00:00,  4.23it/s, kld=957, perceptual=0.297, generator=2.59, feature=0.138, discriminator=2.82]"
     ]
    },
    {
     "name": "stdout",
     "output_type": "stream",
     "text": [
      "Epoch 79/100\n"
     ]
    },
    {
     "name": "stderr",
     "output_type": "stream",
     "text": [
      "\n",
      "100%|█| 15/15 [00:06<00:00,  2.22it/s, kld=2.86e+3, perceptual=0.311, generator=1.84, feature=0.142, discriminator=3.38]\n",
      "100%|████| 2/2 [00:00<00:00,  3.54it/s, kld=2.04e+3, perceptual=0.328, generator=1.89, feature=0.148, discriminator=3.5]"
     ]
    },
    {
     "name": "stdout",
     "output_type": "stream",
     "text": [
      "Epoch 80/100\n"
     ]
    },
    {
     "name": "stderr",
     "output_type": "stream",
     "text": [
      "\n",
      "100%|██████| 15/15 [00:06<00:00,  2.17it/s, kld=699, perceptual=0.338, generator=2.35, feature=0.14, discriminator=2.54]\n",
      "  0%|               | 0/2 [00:00<?, ?it/s, kld=557, perceptual=0.317, generator=2.58, feature=0.145, discriminator=2.36]"
     ]
    },
    {
     "data": {
      "image/png": "[encoded data removed]",
      "text/plain": [
       "<Figure size 400x150 with 3 Axes>"
      ]
     },
     "metadata": {},
     "output_type": "display_data"
    },
    {
     "name": "stderr",
     "output_type": "stream",
     "text": [
      "100%|████████| 2/2 [00:00<00:00,  3.51it/s, kld=409, perceptual=0.331, generator=2.58, feature=0.147, discriminator=2.5]"
     ]
    },
    {
     "name": "stdout",
     "output_type": "stream",
     "text": [
      "Epoch 81/100\n"
     ]
    },
    {
     "name": "stderr",
     "output_type": "stream",
     "text": [
      "\n",
      "100%|█████| 15/15 [00:06<00:00,  2.25it/s, kld=491, perceptual=0.355, generator=2.74, feature=0.146, discriminator=2.93]\n",
      "100%|███████| 2/2 [00:00<00:00,  2.61it/s, kld=359, perceptual=0.314, generator=2.85, feature=0.143, discriminator=2.95]"
     ]
    },
    {
     "name": "stdout",
     "output_type": "stream",
     "text": [
      "Epoch 82/100\n"
     ]
    },
    {
     "name": "stderr",
     "output_type": "stream",
     "text": [
      "\n",
      "100%|██████| 15/15 [00:06<00:00,  2.24it/s, kld=517, perceptual=0.334, generator=2.67, feature=0.14, discriminator=3.12]\n",
      "100%|████████| 2/2 [00:00<00:00,  3.93it/s, kld=384, perceptual=0.326, generator=2.72, feature=0.14, discriminator=3.09]"
     ]
    },
    {
     "name": "stdout",
     "output_type": "stream",
     "text": [
      "Epoch 83/100\n"
     ]
    },
    {
     "name": "stderr",
     "output_type": "stream",
     "text": [
      "\n",
      "100%|████| 15/15 [00:06<00:00,  2.22it/s, kld=1.27e+3, perceptual=0.302, generator=1.8, feature=0.0732, discriminator=4]\n",
      "100%|███████| 2/2 [00:00<00:00,  3.94it/s, kld=815, perceptual=0.31, generator=1.76, feature=0.0643, discriminator=3.98]"
     ]
    },
    {
     "name": "stdout",
     "output_type": "stream",
     "text": [
      "Epoch 84/100\n"
     ]
    },
    {
     "name": "stderr",
     "output_type": "stream",
     "text": [
      "\n",
      "100%|█| 15/15 [00:06<00:00,  2.20it/s, kld=1.01e+3, perceptual=0.281, generator=1.79, feature=0.0657, discriminator=3.96\n",
      "100%|███████| 2/2 [00:00<00:00,  4.20it/s, kld=590, perceptual=0.263, generator=1.86, feature=0.071, discriminator=3.95]"
     ]
    },
    {
     "name": "stdout",
     "output_type": "stream",
     "text": [
      "Epoch 85/100\n"
     ]
    },
    {
     "name": "stderr",
     "output_type": "stream",
     "text": [
      "\n",
      "100%|████| 15/15 [00:06<00:00,  2.18it/s, kld=465, perceptual=0.253, generator=1.94, feature=0.0742, discriminator=3.63]\n",
      "100%|███████| 2/2 [00:00<00:00,  4.08it/s, kld=329, perceptual=0.251, generator=1.95, feature=0.0817, discriminator=3.5]"
     ]
    },
    {
     "name": "stdout",
     "output_type": "stream",
     "text": [
      "Epoch 86/100\n"
     ]
    },
    {
     "name": "stderr",
     "output_type": "stream",
     "text": [
      "\n",
      "100%|████| 15/15 [00:06<00:00,  2.23it/s, kld=862, perceptual=0.243, generator=1.09, feature=0.0589, discriminator=3.92]\n",
      "100%|██████| 2/2 [00:00<00:00,  3.89it/s, kld=591, perceptual=0.238, generator=1.14, feature=0.0605, discriminator=3.81]"
     ]
    },
    {
     "name": "stdout",
     "output_type": "stream",
     "text": [
      "Epoch 87/100\n"
     ]
    },
    {
     "name": "stderr",
     "output_type": "stream",
     "text": [
      "\n",
      "100%|█| 15/15 [00:06<00:00,  2.18it/s, kld=1.08e+3, perceptual=0.24, generator=1.74, feature=0.0678, discriminator=3.54]\n",
      "100%|███████| 2/2 [00:00<00:00,  4.11it/s, kld=677, perceptual=0.231, generator=1.8, feature=0.0649, discriminator=3.91]"
     ]
    },
    {
     "name": "stdout",
     "output_type": "stream",
     "text": [
      "Epoch 88/100\n"
     ]
    },
    {
     "name": "stderr",
     "output_type": "stream",
     "text": [
      "\n",
      "100%|█████| 15/15 [00:06<00:00,  2.21it/s, kld=958, perceptual=0.316, generator=1.8, feature=0.0715, discriminator=3.97]\n",
      "100%|██████| 2/2 [00:00<00:00,  4.26it/s, kld=618, perceptual=0.301, generator=1.81, feature=0.0668, discriminator=3.96]"
     ]
    },
    {
     "name": "stdout",
     "output_type": "stream",
     "text": [
      "Epoch 89/100\n"
     ]
    },
    {
     "name": "stderr",
     "output_type": "stream",
     "text": [
      "\n",
      "100%|███| 15/15 [00:06<00:00,  2.16it/s, kld=1.17e+3, perceptual=0.311, generator=1.31, feature=0.0658, discriminator=4]\n",
      "100%|██████| 2/2 [00:00<00:00,  3.89it/s, kld=989, perceptual=0.305, generator=1.23, feature=0.0674, discriminator=3.95]"
     ]
    },
    {
     "name": "stdout",
     "output_type": "stream",
     "text": [
      "Epoch 90/100\n"
     ]
    },
    {
     "name": "stderr",
     "output_type": "stream",
     "text": [
      "\n",
      "100%|██| 15/15 [00:06<00:00,  2.23it/s, kld=2.17e+3, perceptual=0.294, generator=1.94, feature=0.101, discriminator=3.3]\n",
      "  0%|          | 0/2 [00:00<?, ?it/s, kld=2.66e+3, perceptual=0.308, generator=1.75, feature=0.0698, discriminator=3.44]"
     ]
    },
    {
     "data": {
      "image/png": "[encoded data removed]",
      "text/plain": [
       "<Figure size 400x150 with 3 Axes>"
      ]
     },
     "metadata": {},
     "output_type": "display_data"
    },
    {
     "name": "stderr",
     "output_type": "stream",
     "text": [
      "100%|█████| 2/2 [00:00<00:00,  2.79it/s, kld=1.5e+3, perceptual=0.301, generator=1.96, feature=0.12, discriminator=3.16]"
     ]
    },
    {
     "name": "stdout",
     "output_type": "stream",
     "text": [
      "Epoch 91/100\n"
     ]
    },
    {
     "name": "stderr",
     "output_type": "stream",
     "text": [
      "\n",
      "100%|█| 15/15 [00:06<00:00,  2.24it/s, kld=1.88e+3, perceptual=0.29, generator=2.02, feature=0.0721, discriminator=3.34]\n",
      "100%|██| 2/2 [00:00<00:00,  4.14it/s, kld=1.26e+3, perceptual=0.249, generator=1.96, feature=0.0852, discriminator=3.27]"
     ]
    },
    {
     "name": "stdout",
     "output_type": "stream",
     "text": [
      "Epoch 92/100\n"
     ]
    },
    {
     "name": "stderr",
     "output_type": "stream",
     "text": [
      "\n",
      "100%|█| 15/15 [00:06<00:00,  2.19it/s, kld=1.49e+3, perceptual=0.253, generator=1.96, feature=0.0624, discriminator=3.82\n",
      "100%|██████| 2/2 [00:00<00:00,  3.80it/s, kld=862, perceptual=0.256, generator=1.96, feature=0.0589, discriminator=3.98]"
     ]
    },
    {
     "name": "stdout",
     "output_type": "stream",
     "text": [
      "Epoch 93/100\n"
     ]
    },
    {
     "name": "stderr",
     "output_type": "stream",
     "text": [
      "\n",
      "100%|██████| 15/15 [00:06<00:00,  2.23it/s, kld=592, perceptual=0.252, generator=1.11, feature=0.108, discriminator=4.4]\n",
      "100%|█████████| 2/2 [00:00<00:00,  3.92it/s, kld=365, perceptual=0.278, generator=1.19, feature=0.13, discriminator=4.5]"
     ]
    },
    {
     "name": "stdout",
     "output_type": "stream",
     "text": [
      "Epoch 94/100\n"
     ]
    },
    {
     "name": "stderr",
     "output_type": "stream",
     "text": [
      "\n",
      "100%|█| 15/15 [00:06<00:00,  2.21it/s, kld=1.65e+3, perceptual=0.267, generator=1.77, feature=0.121, discriminator=3.45]\n",
      "100%|███| 2/2 [00:00<00:00,  4.14it/s, kld=1.05e+3, perceptual=0.244, generator=1.85, feature=0.123, discriminator=3.18]"
     ]
    },
    {
     "name": "stdout",
     "output_type": "stream",
     "text": [
      "Epoch 95/100\n"
     ]
    },
    {
     "name": "stderr",
     "output_type": "stream",
     "text": [
      "\n",
      "100%|█| 15/15 [00:06<00:00,  2.24it/s, kld=1.53e+3, perceptual=0.279, generator=1.74, feature=0.114, discriminator=3.33]\n",
      "100%|██████| 2/2 [00:00<00:00,  4.29it/s, kld=826, perceptual=0.259, generator=1.69, feature=0.0888, discriminator=3.51]"
     ]
    },
    {
     "name": "stdout",
     "output_type": "stream",
     "text": [
      "Epoch 96/100\n"
     ]
    },
    {
     "name": "stderr",
     "output_type": "stream",
     "text": [
      "\n",
      "100%|████| 15/15 [00:06<00:00,  2.20it/s, kld=940, perceptual=0.264, generator=1.88, feature=0.0612, discriminator=3.97]\n",
      "100%|██████| 2/2 [00:00<00:00,  4.26it/s, kld=580, perceptual=0.262, generator=1.55, feature=0.0873, discriminator=4.16]"
     ]
    },
    {
     "name": "stdout",
     "output_type": "stream",
     "text": [
      "Epoch 97/100\n"
     ]
    },
    {
     "name": "stderr",
     "output_type": "stream",
     "text": [
      "\n",
      "100%|████| 15/15 [00:06<00:00,  2.23it/s, kld=588, perceptual=0.275, generator=1.81, feature=0.0542, discriminator=3.85]\n",
      "100%|██████| 2/2 [00:00<00:00,  3.94it/s, kld=549, perceptual=0.262, generator=1.94, feature=0.0645, discriminator=3.75]"
     ]
    },
    {
     "name": "stdout",
     "output_type": "stream",
     "text": [
      "Epoch 98/100\n"
     ]
    },
    {
     "name": "stderr",
     "output_type": "stream",
     "text": [
      "\n",
      "100%|████| 15/15 [00:06<00:00,  2.18it/s, kld=658, perceptual=0.284, generator=1.73, feature=0.0515, discriminator=3.94]\n",
      "100%|██████| 2/2 [00:00<00:00,  4.15it/s, kld=362, perceptual=0.271, generator=1.79, feature=0.0583, discriminator=3.94]"
     ]
    },
    {
     "name": "stdout",
     "output_type": "stream",
     "text": [
      "Epoch 99/100\n"
     ]
    },
    {
     "name": "stderr",
     "output_type": "stream",
     "text": [
      "\n",
      "100%|████| 15/15 [00:06<00:00,  2.23it/s, kld=808, perceptual=0.281, generator=1.83, feature=0.0545, discriminator=3.86]\n",
      "100%|██████| 2/2 [00:00<00:00,  2.92it/s, kld=598, perceptual=0.266, generator=1.79, feature=0.0619, discriminator=3.89]\n"
     ]
    }
   ],
   "source": [
    "net = net.to(device)\n",
    "discriminator = discriminator.to(device)\n",
    "torch.autograd.set_detect_anomaly(True)\n",
    "for epoch in range(num_epochs):\n",
    "    print(\"Epoch %d/%d\" %(epoch, num_epochs))\n",
    "    train_bar = tqdm(enumerate(train_loader), total=len(train_loader), ncols=120)\n",
    "    losses_epoch = {'kld': 0, 'perceptual': 0, 'feature': 0, 'generator': 0, 'discriminator': 0}\n",
    "    for step, d in train_bar:\n",
    "        image = d['image'].to(device)\n",
    "        with torch.no_grad():\n",
    "            label = one_hot(d['label'], 6).to(device)\n",
    "        optimizer_G.zero_grad()\n",
    "\n",
    "        # Losses gen\n",
    "        out, kld_loss = net(label, image)\n",
    "        disc_fakes, features_fakes = discriminator(torch.cat([out, label], 1))\n",
    "        loss_g = adversarial_loss(disc_fakes, target_is_real = True, for_discriminator = False)\n",
    "        disc_reals, features_reals = discriminator(torch.cat([image, label], 1))\n",
    "        loss_feat = feature_loss(features_fakes, features_reals, lambda_feat, device)\n",
    "        loss_perc = perceptual_loss(out, target = image)\n",
    "        total_loss = loss_g + loss_perc * lambda_perc + kld_loss * lambda_kld + loss_feat  * lambda_feat\n",
    "        total_loss.backward(retain_graph = True)\n",
    "        optimizer_G.step()\n",
    "\n",
    "        # Store\n",
    "        losses_epoch['kld'] += kld_loss.item()\n",
    "        losses_epoch['perceptual'] += loss_perc.item()\n",
    "        losses_epoch['generator'] += loss_g.item()\n",
    "        #Train disc\n",
    "        out, _ = net(label, image)\n",
    "        disc_fakes, _ = discriminator(torch.cat([out, label], 1))\n",
    "        loss_d_r = adversarial_loss(disc_reals, target_is_real = True, for_discriminator = True)\n",
    "        loss_g_f = adversarial_loss(disc_fakes, target_is_real = False, for_discriminator = True)\n",
    "        optimizer_D.zero_grad()\n",
    "        loss_d = loss_d_r + loss_g_f\n",
    "        loss_d.backward()\n",
    "        optimizer_D.step()\n",
    "\n",
    "        # Store\n",
    "        losses_epoch['feature'] = loss_feat.item()\n",
    "        losses_epoch['discriminator'] = loss_d_r.item() + loss_g_f.item()\n",
    "\n",
    "        train_bar.set_postfix(\n",
    "                        {\"kld\": kld_loss.item(),\n",
    "                         \"perceptual\": loss_perc.item(),\n",
    "                         \"generator\": loss_g.item(),\n",
    "                         \"feature\": loss_feat.item(),\n",
    "                         \"discriminator\": loss_d_r.item() + loss_g_f.item(),\n",
    "                        })\n",
    "\n",
    "    val_bar = tqdm(enumerate(val_loader), total=len(val_loader), ncols=120)\n",
    "    losses_epoch_val = {'kld': 0, 'perceptual': 0, 'feature': 0, 'generator': 0, 'discriminator': 0}\n",
    "    for step, d in val_bar:\n",
    "        image = d['image'].to(device)\n",
    "        with torch.no_grad():\n",
    "            label = one_hot(d['label'], 6).to(device)\n",
    "            # Losses gen\n",
    "            out, kld_loss = net(label, image)\n",
    "            disc_fakes, features_fakes = discriminator(torch.cat([out, label], 1))\n",
    "            loss_g = adversarial_loss(disc_fakes, target_is_real = True, for_discriminator = False)\n",
    "            disc_reals, features_reals = discriminator(torch.cat([image, label], 1))\n",
    "            loss_feat = feature_loss(features_fakes, features_reals, lambda_feat, device)\n",
    "            loss_perc = perceptual_loss(out, target = image)\n",
    "            total_loss = loss_adv * loss_g + loss_perc * lambda_perc + kld_loss * lambda_kld + loss_feat  * lambda_feat\n",
    "            # Store\n",
    "            losses_epoch_val['kld'] += kld_loss.item()\n",
    "            losses_epoch_val['perceptual'] += loss_perc.item()\n",
    "            losses_epoch_val['generator'] += loss_g.item()\n",
    "            #Train disc\n",
    "            out, _ = net(label, image)\n",
    "            disc_fakes, _ = discriminator(torch.cat([out, label], 1))\n",
    "            loss_d_r = adversarial_loss(disc_reals, target_is_real = True, for_discriminator = True)\n",
    "            loss_g_f = adversarial_loss(disc_fakes, target_is_real = False, for_discriminator = True)\n",
    "            loss_d = loss_adv * (loss_d_r + loss_g_f)\n",
    "\n",
    "            # Store\n",
    "            losses_epoch_val['feature'] = loss_feat.item()\n",
    "            losses_epoch_val['discriminator'] = loss_d_r.item() + loss_g_f.item()\n",
    "\n",
    "            val_bar.set_postfix(\n",
    "                            {\"kld\": kld_loss.item(),\n",
    "                             \"perceptual\": loss_perc.item(),\n",
    "                             \"generator\": loss_g.item(),\n",
    "                             \"feature\": loss_feat.item(),\n",
    "                             \"discriminator\": loss_d_r.item() + loss_g_f.item(),\n",
    "                            })\n",
    "            if step == 0 and epoch%10==0:\n",
    "                picture_results(label, image, out)"
   ]
  },
  {
   "cell_type": "code",
   "execution_count": null,
   "id": "f579376b",
   "metadata": {
    "pycharm": {
     "name": "#%%"
    }
   },
   "outputs": [],
   "source": [
    "\n"
   ]
  }
 ],
 "metadata": {
  "jupytext": {
   "formats": "ipynb,py:light"
  },
  "kernelspec": {
   "display_name": "Python 3 (ipykernel)",
   "language": "python",
   "name": "python3"
  },
  "language_info": {
   "codemirror_mode": {
    "name": "ipython",
    "version": 3
   },
   "file_extension": ".py",
   "mimetype": "text/x-python",
   "name": "python",
   "nbconvert_exporter": "python",
   "pygments_lexer": "ipython3",
   "version": "3.10.6"
  }
 },
 "nbformat": 4,
 "nbformat_minor": 5
}
