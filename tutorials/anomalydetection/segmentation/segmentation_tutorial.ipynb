{
 "cells": [
  {
   "cell_type": "markdown",
   "metadata": {},
   "source": [
    "---<br>\n",
    "jupyter:<br>\n",
    "  jupytext:<br>\n",
    "    formats: py:percent,ipynb<br>\n",
    "    text_representation:<br>\n",
    "      extension: .py<br>\n",
    "      format_name: percent<br>\n",
    "      format_version: '1.3'<br>\n",
    "      jupytext_version: 1.14.4<br>\n",
    "  kernelspec:<br>\n",
    "    display_name: Python 3 (ipykernel)<br>\n",
    "    language: python<br>\n",
    "    name: python3<br>\n",
    "---"
   ]
  },
  {
   "cell_type": "markdown",
   "metadata": {},
   "source": [
    "%% [markdown]<br>\n",
    "# Diffusion Models for Implicit Image Segmentation Ensembles<br>\n",
    "<br>\n",
    "This tutorial illustrates how to use MONAI for training a 2D segmentation of images using DDPMs [1].<br>\n",
    "The same structure can also be used for conditional image generationor image-to-image translation, as proposed in [2,3]\n",
    "<br>\n",
    "<br>\n",
    "[1] - Wolleb et al. \"Diffusion Models for Implicit Image Segmentation Ensembles\" https://arxiv.org/abs/2112.03145<br>\n",
    "[2] - Waibel et al. \"A Diffusion Model Predicts 3D Shapes from 2D Microscopy Images\" https://arxiv.org/abs/2208.14125<br>\n",
    "[3] - Durrer et al. \"Diffusion Models for Contrast Harmonization of Magnetic Resonance Images\"\n",
    "<br>\n",
    "<br>\n",
    "<br>\n",
    "## Setup environment"
   ]
  },
  {
   "cell_type": "code",
   "execution_count": 1,
   "metadata": {},
   "outputs": [
    {
     "name": "stdout",
     "output_type": "stream",
     "text": [
      "running install\n",
      "/home/juliawolleb/anaconda3/envs/experiment/lib/python3.10/site-packages/setuptools/command/install.py:34: SetuptoolsDeprecationWarning: setup.py install is deprecated. Use build and pip and other standards-based tools.\n",
      "  warnings.warn(\n",
      "/home/juliawolleb/anaconda3/envs/experiment/lib/python3.10/site-packages/setuptools/command/easy_install.py:144: EasyInstallDeprecationWarning: easy_install command is deprecated. Use build and pip and other standards-based tools.\n",
      "  warnings.warn(\n",
      "running bdist_egg\n",
      "running egg_info\n",
      "writing generative.egg-info/PKG-INFO\n",
      "writing dependency_links to generative.egg-info/dependency_links.txt\n",
      "writing requirements to generative.egg-info/requires.txt\n",
      "writing top-level names to generative.egg-info/top_level.txt\n",
      "reading manifest file 'generative.egg-info/SOURCES.txt'\n",
      "writing manifest file 'generative.egg-info/SOURCES.txt'\n",
      "installing library code to build/bdist.linux-x86_64/egg\n",
      "running install_lib\n",
      "warning: install_lib: 'build/lib' does not exist -- no Python modules to install\n",
      "\n",
      "creating build/bdist.linux-x86_64/egg\n",
      "creating build/bdist.linux-x86_64/egg/EGG-INFO\n",
      "copying generative.egg-info/PKG-INFO -> build/bdist.linux-x86_64/egg/EGG-INFO\n",
      "copying generative.egg-info/SOURCES.txt -> build/bdist.linux-x86_64/egg/EGG-INFO\n",
      "copying generative.egg-info/dependency_links.txt -> build/bdist.linux-x86_64/egg/EGG-INFO\n",
      "copying generative.egg-info/requires.txt -> build/bdist.linux-x86_64/egg/EGG-INFO\n",
      "copying generative.egg-info/top_level.txt -> build/bdist.linux-x86_64/egg/EGG-INFO\n",
      "zip_safe flag not set; analyzing archive contents...\n",
      "creating 'dist/generative-0.1.0-py3.10.egg' and adding 'build/bdist.linux-x86_64/egg' to it\n",
      "removing 'build/bdist.linux-x86_64/egg' (and everything under it)\n",
      "Processing generative-0.1.0-py3.10.egg\n",
      "Removing /home/juliawolleb/anaconda3/envs/experiment/lib/python3.10/site-packages/generative-0.1.0-py3.10.egg\n",
      "Copying generative-0.1.0-py3.10.egg to /home/juliawolleb/anaconda3/envs/experiment/lib/python3.10/site-packages\n",
      "generative 0.1.0 is already the active version in easy-install.pth\n",
      "\n",
      "Installed /home/juliawolleb/anaconda3/envs/experiment/lib/python3.10/site-packages/generative-0.1.0-py3.10.egg\n",
      "Processing dependencies for generative==0.1.0\n",
      "Searching for monai-weekly==1.2.dev2304\n",
      "Best match: monai-weekly 1.2.dev2304\n",
      "Adding monai-weekly 1.2.dev2304 to easy-install.pth file\n",
      "\n",
      "Using /home/juliawolleb/anaconda3/envs/experiment/lib/python3.10/site-packages\n",
      "Searching for numpy==1.23.2\n",
      "Best match: numpy 1.23.2\n",
      "Adding numpy 1.23.2 to easy-install.pth file\n",
      "Installing f2py script to /home/juliawolleb/anaconda3/envs/experiment/bin\n",
      "Installing f2py3 script to /home/juliawolleb/anaconda3/envs/experiment/bin\n",
      "Installing f2py3.10 script to /home/juliawolleb/anaconda3/envs/experiment/bin\n",
      "\n",
      "Using /home/juliawolleb/anaconda3/envs/experiment/lib/python3.10/site-packages\n",
      "Searching for torch==1.12.1\n",
      "Best match: torch 1.12.1\n",
      "Adding torch 1.12.1 to easy-install.pth file\n",
      "Installing convert-caffe2-to-onnx script to /home/juliawolleb/anaconda3/envs/experiment/bin\n",
      "Installing convert-onnx-to-caffe2 script to /home/juliawolleb/anaconda3/envs/experiment/bin\n",
      "Installing torchrun script to /home/juliawolleb/anaconda3/envs/experiment/bin\n",
      "\n",
      "Using /home/juliawolleb/anaconda3/envs/experiment/lib/python3.10/site-packages\n",
      "Searching for typing-extensions==4.3.0\n",
      "Best match: typing-extensions 4.3.0\n",
      "Adding typing-extensions 4.3.0 to easy-install.pth file\n",
      "\n",
      "Using /home/juliawolleb/anaconda3/envs/experiment/lib/python3.10/site-packages\n",
      "Finished processing dependencies for generative==0.1.0\n"
     ]
    }
   ],
   "source": [
    "\n",
    "!python /home/juliawolleb/PycharmProjects/MONAI/GenerativeModels/setup.py install\n",
    "!python -c \"import monai\" || pip install -q \"monai-weekly[pillow, tqdm, einops]\"\n",
    "!python -c \"import matplotlib\" || pip install -q matplotlib\n",
    "!python -c \"import seaborn\" || pip install -q seaborn"
   ]
  },
  {
   "cell_type": "markdown",
   "metadata": {},
   "source": [
    "%% [markdown]<br>\n",
    "## Setup imports"
   ]
  },
  {
   "cell_type": "markdown",
   "metadata": {},
   "source": [
    "%% jupyter={\"outputs_hidden\": false}<br>\n",
    "Copyright 2020 MONAI Consortium<br>\n",
    "Licensed under the Apache License, Version 2.0 (the \"License\");<br>\n",
    "you may not use this file except in compliance with the License.<br>\n",
    "You may obtain a copy of the License at<br>\n",
    "    http://www.apache.org/licenses/LICENSE-2.0<br>\n",
    "Unless required by applicable law or agreed to in writing, software<br>\n",
    "distributed under the License is distributed on an \"AS IS\" BASIS,<br>\n",
    "WITHOUT WARRANTIES OR CONDITIONS OF ANY KIND, either express or implied.<br>\n",
    "See the License for the specific language governing permissions and<br>\n",
    "limitations under the License."
   ]
  },
  {
   "cell_type": "code",
   "execution_count": 2,
   "metadata": {},
   "outputs": [],
   "source": [
    "import os\n",
    "import sys\n",
    "import time\n",
    "from typing import Dict"
   ]
  },
  {
   "cell_type": "code",
   "execution_count": 3,
   "metadata": {},
   "outputs": [],
   "source": [
    "import matplotlib.pyplot as plt\n",
    "import numpy as np\n",
    "import torch\n",
    "import torch.nn.functional as F\n",
    "from monai import transforms\n",
    "from monai.apps import DecathlonDataset\n",
    "from monai.config import print_config\n",
    "from monai.data import DataLoader\n",
    "from monai.utils import first, set_determinism\n",
    "from torch.cuda.amp import GradScaler, autocast\n",
    "from tqdm import tqdm"
   ]
  },
  {
   "cell_type": "code",
   "execution_count": 29,
   "metadata": {},
   "outputs": [],
   "source": [
    "from generative.inferers import DiffusionInferer\n",
    "from generative.networks.nets.diffusion_model_unet import  DiffusionModelUNet\n",
    "from generative.networks.schedulers.ddpm import DDPMScheduler"
   ]
  },
  {
   "cell_type": "code",
   "execution_count": null,
   "metadata": {},
   "outputs": [],
   "source": [
    "torch.multiprocessing.set_sharing_strategy(\"file_system\")"
   ]
  },
  {
   "cell_type": "code",
   "execution_count": 5,
   "metadata": {},
   "outputs": [
    {
     "name": "stdout",
     "output_type": "stream",
     "text": [
      "path ['/home/juliawolleb/PycharmProjects/MONAI/GenerativeModels/tutorials/anomalydetection/segmentation', '/home/juliawolleb/PycharmProjects/MONAI/GenerativeModels/tutorials/anomalydetection/segmentation', '/home/juliawolleb/PycharmProjects/MONAI/GenerativeModels/tutorials/anomalydetection/segmentation/MONAI', '/home/juliawolleb/anaconda3/envs/experiment/lib/python310.zip', '/home/juliawolleb/anaconda3/envs/experiment/lib/python3.10', '/home/juliawolleb/anaconda3/envs/experiment/lib/python3.10/lib-dynload', '', '/home/juliawolleb/anaconda3/envs/experiment/lib/python3.10/site-packages', '/home/juliawolleb/anaconda3/envs/experiment/lib/python3.10/site-packages/PyYAML-6.0-py3.10-linux-x86_64.egg', '/home/juliawolleb/PycharmProjects/Python_Tutorials/Calgary_Infants/calgary/HD-BET', '/home/juliawolleb/anaconda3/envs/experiment/lib/python3.10/site-packages/lpips-0.1.4-py3.10.egg', '/home/juliawolleb/anaconda3/envs/experiment/lib/python3.10/site-packages/tqdm-4.64.1-py3.10.egg', '/home/juliawolleb/anaconda3/envs/experiment/lib/python3.10/site-packages/generative-0.1.0-py3.10.egg', '/home/juliawolleb/PycharmProjects/MONAI/GenerativeModels/']\n"
     ]
    }
   ],
   "source": [
    "sys.path.append(\"/home/juliawolleb/PycharmProjects/MONAI/GenerativeModels/\")\n",
    "print(\"path\", sys.path)"
   ]
  },
  {
   "cell_type": "code",
   "execution_count": 6,
   "metadata": {},
   "outputs": [
    {
     "name": "stdout",
     "output_type": "stream",
     "text": [
      "MONAI version: 1.2.dev2304\n",
      "Numpy version: 1.23.2\n",
      "Pytorch version: 1.12.1\n",
      "MONAI flags: HAS_EXT = False, USE_COMPILED = False, USE_META_DICT = False\n",
      "MONAI rev id: 9a57be5aab9f2c2a134768c0c146399150e247a0\n",
      "MONAI __file__: /home/juliawolleb/anaconda3/envs/experiment/lib/python3.10/site-packages/monai/__init__.py\n",
      "\n",
      "Optional dependencies:\n",
      "Pytorch Ignite version: 0.4.10\n",
      "ITK version: 5.3.0\n",
      "Nibabel version: 4.0.1\n",
      "scikit-image version: 0.19.3\n",
      "Pillow version: 9.2.0\n",
      "Tensorboard version: 2.12.0\n",
      "gdown version: 4.6.4\n",
      "TorchVision version: 0.13.1\n",
      "tqdm version: 4.64.1\n",
      "lmdb version: 1.4.0\n",
      "psutil version: 5.9.4\n",
      "pandas version: 1.5.3\n",
      "einops version: 0.6.0\n",
      "transformers version: 4.21.3\n",
      "mlflow version: 2.1.1\n",
      "pynrrd version: 1.0.0\n",
      "\n",
      "For details about installing the optional dependencies, please visit:\n",
      "    https://docs.monai.io/en/latest/installation.html#installing-the-recommended-dependencies\n",
      "\n"
     ]
    }
   ],
   "source": [
    "print_config()"
   ]
  },
  {
   "cell_type": "markdown",
   "metadata": {},
   "source": [
    "%% [markdown]<br>\n",
    "## Setup data directory"
   ]
  },
  {
   "cell_type": "markdown",
   "metadata": {},
   "source": [
    "%% jupyter={\"outputs_hidden\": false}"
   ]
  },
  {
   "cell_type": "code",
   "execution_count": 9,
   "metadata": {},
   "outputs": [],
   "source": [
    "directory = os.environ.get(\"MONAI_DATA_DIRECTORY\")\n",
    "# root_dir = tempfile.mkdtemp() if directory is None else directory\n",
    "root_dir = \"/home/juliawolleb/PycharmProjects/MONAI/brats\"  # path to where the data is stored"
   ]
  },
  {
   "cell_type": "markdown",
   "metadata": {},
   "source": [
    "%% [markdown]<br>\n",
    "## Set deterministic training for reproducibility"
   ]
  },
  {
   "cell_type": "markdown",
   "metadata": {},
   "source": [
    "%% jupyter={\"outputs_hidden\": false}"
   ]
  },
  {
   "cell_type": "code",
   "execution_count": 10,
   "metadata": {},
   "outputs": [],
   "source": [
    "set_determinism(42)"
   ]
  },
  {
   "cell_type": "markdown",
   "metadata": {},
   "source": [
    "%% [markdown] tags=[]<br>\n",
    "## Setup BRATS Dataset in 2D slices for training<br>\n",
    "We load the BRATS dataset of the Medical Segmentation Decathlon.\n",
    "If we set `preprocessing_train=True`, we stack all slices into a tensor and save it as _total_train_slices.pt_.<br>\n",
    "If we set `preprocessing_train=False`, we load the saved tensor.<br>\n",
    "The corresponding labels are saved as _total_train_labels.pt._"
   ]
  },
  {
   "cell_type": "markdown",
   "metadata": {},
   "source": [
    "%% [markdown]<br>\n",
    "Here we use transforms to augment the training dataset, as usual:<br>\n",
    "<br>\n",
    "1. `LoadImaged` loads the hands images from files.<br>\n",
    "1. `EnsureChannelFirstd` ensures the original data to construct \"channel first\" shape.<br>\n",
    "1. `ScaleIntensityRanged` extracts intensity range [0, 255] and scales to [0, 1].<br>\n",
    "1. `RandAffined` efficiently performs rotate, scale, shear, translate, etc. together based on PyTorch affine transform.<br>\n",
    "<br>\n"
   ]
  },
  {
   "cell_type": "markdown",
   "metadata": {},
   "source": [
    "%%"
   ]
  },
  {
   "cell_type": "code",
   "execution_count": 11,
   "metadata": {},
   "outputs": [],
   "source": [
    "channel = 0  # 0 = Flair\n",
    "assert channel in [0, 1, 2, 3], \"Choose a valid channel\""
   ]
  },
  {
   "cell_type": "code",
   "execution_count": 12,
   "metadata": {},
   "outputs": [
    {
     "name": "stderr",
     "output_type": "stream",
     "text": [
      "<class 'monai.transforms.utility.array.AddChannel'>: Class `AddChannel` has been deprecated since version 0.8. please use MetaTensor data type and monai.transforms.EnsureChannelFirst instead.\n"
     ]
    }
   ],
   "source": [
    "train_transforms = transforms.Compose(\n",
    "    [\n",
    "        transforms.LoadImaged(keys=[\"image\", \"label\"]),\n",
    "        transforms.EnsureChannelFirstd(keys=[\"image\", \"label\"]),\n",
    "        transforms.Lambdad(keys=[\"image\"], func=lambda x: x[channel, :, :, :]),\n",
    "        transforms.AddChanneld(keys=[\"image\"]),\n",
    "        transforms.EnsureTyped(keys=[\"image\", \"label\"]),\n",
    "        transforms.Orientationd(keys=[\"image\", \"label\"], axcodes=\"RAS\"),\n",
    "        transforms.Spacingd(\n",
    "            keys=[\"image\", \"label\"],\n",
    "            pixdim=(3.0, 3.0, 2.0),\n",
    "            mode=(\"bilinear\", \"nearest\"),\n",
    "        ),\n",
    "        transforms.CenterSpatialCropd(keys=[\"image\", \"label\"], roi_size=(64, 64, 64)),\n",
    "        transforms.ScaleIntensityRangePercentilesd(keys=\"image\", lower=0, upper=99.5, b_min=0, b_max=1),\n",
    "        transforms.CopyItemsd(keys=[\"label\"], times=1, names=[\"slice_label\"]),\n",
    "        transforms.Lambdad(\n",
    "            keys=[\"slice_label\"], func=lambda x: (x.reshape(x.shape[0], -1, x.shape[-1]).sum(1) > 0).float().squeeze()\n",
    "        ),\n",
    "    ]\n",
    ")"
   ]
  },
  {
   "cell_type": "markdown",
   "metadata": {},
   "source": [
    "%% jupyter={\"outputs_hidden\": false}"
   ]
  },
  {
   "cell_type": "code",
   "execution_count": 13,
   "metadata": {},
   "outputs": [
    {
     "name": "stdout",
     "output_type": "stream",
     "text": [
      "len train data 388\n"
     ]
    }
   ],
   "source": [
    "train_ds = DecathlonDataset(\n",
    "    root_dir=root_dir,\n",
    "    task=\"Task01_BrainTumour\",\n",
    "    section=\"training\",  # validation\n",
    "    cache_rate=0.0,  # you may need a few Gb of RAM... Set to 0 otherwise\n",
    "    num_workers=4,\n",
    "    download=False,  # Set download to True if the dataset hasnt been downloaded yet\n",
    "    seed=0,\n",
    "    transform=train_transforms,\n",
    ")\n",
    "print(\"len train data\", len(train_ds))"
   ]
  },
  {
   "cell_type": "code",
   "execution_count": 14,
   "metadata": {},
   "outputs": [],
   "source": [
    "def get_batched_2d_axial_slices(data: Dict):\n",
    "    images_3D = data[\"image\"]\n",
    "    label_3D= data[\"label\"]\n",
    "    batched_2d_slices = torch.cat(images_3D.split(1, dim=-1)[10:-10], 0).squeeze(-1)  # we cut the lowest and highest 10 slices, because we are interested in the middle part of the brain.\n",
    "    slice_label = torch.cat(label_3D.split(1, dim=-1)[10:-10], 0).squeeze(-1)\n",
    "    return batched_2d_slices, slice_label"
   ]
  },
  {
   "cell_type": "code",
   "execution_count": 18,
   "metadata": {},
   "outputs": [
    {
     "name": "stdout",
     "output_type": "stream",
     "text": [
      "check_data torch.Size([1, 1, 64, 64, 64]) torch.Size([1, 1, 64, 64, 64])\n"
     ]
    }
   ],
   "source": [
    "preprocessing_train = False\n",
    "train_loader_3D = DataLoader(train_ds, batch_size=1, shuffle=True, num_workers=4)\n",
    "\n",
    "check_data = first(train_loader_3D)\n",
    "print('check_data', check_data['image'].shape,  check_data['label'].shape)"
   ]
  },
  {
   "cell_type": "code",
   "execution_count": 22,
   "metadata": {},
   "outputs": [
    {
     "name": "stdout",
     "output_type": "stream",
     "text": [
      "total slices torch.Size([17072, 1, 64, 64])\n",
      "total lbaels torch.Size([17072, 1, 64, 64])\n"
     ]
    }
   ],
   "source": [
    "if preprocessing_train is True:\n",
    "    train_loader_3D = DataLoader(train_ds, batch_size=1, shuffle=True, num_workers=4)\n",
    "    \n",
    "    print(f'Image shape {train_ds[0][\"image\"].shape}')\n",
    "    data_2d_slices = []\n",
    "    data_label = []\n",
    "    for i, data in enumerate(train_loader_3D):\n",
    "        b2d, slice_label2d = get_batched_2d_axial_slices(data)\n",
    "        data_2d_slices.append(b2d)\n",
    "        data_label.append(slice_label2d)\n",
    "    total_train_slices = torch.cat(data_2d_slices, 0)\n",
    "    total_train_labels = torch.cat(data_slice_label, 0)\n",
    "    torch.save(total_train_slices, \"total_train_slices.pt\")\n",
    "    torch.save(total_train_labels, \"total_train_labels.pt\")\n",
    "else:\n",
    "    total_train_slices = torch.load(\"total_train_slices.pt\")\n",
    "    total_train_labels = torch.load(\"total_train_labels.pt\")\n",
    "    print(\"total slices\", total_train_slices.shape)\n",
    "    print(\"total lbaels\", total_train_labels.shape)"
   ]
  },
  {
   "cell_type": "markdown",
   "metadata": {},
   "source": [
    "%% [markdown] tags=[]<br>\n",
    "## Setup BRATS Dataset in 2D slices for validation<br>\n",
    "As baseline, we use the load_2d_brats.ipynb written by Pedro in issue 150.<br>\n",
    "If we set `preprocessing_val=True`, we stack all slices into a tensor and save it as _total_val_slices.pt_.<br>\n",
    "If we set `preprocessing_val=False`, we load the saved tensor.<br>\n",
    "The corresponding labels are saved as _total_val_labels.pt_."
   ]
  },
  {
   "cell_type": "markdown",
   "metadata": {},
   "source": [
    "%%"
   ]
  },
  {
   "cell_type": "code",
   "execution_count": 23,
   "metadata": {},
   "outputs": [],
   "source": [
    "val_ds = DecathlonDataset(\n",
    "    root_dir=root_dir,\n",
    "    task=\"Task01_BrainTumour\",\n",
    "    section=\"validation\",  # validation\n",
    "    cache_rate=0.0,  # you may need a few Gb of RAM... Set to 0 otherwise\n",
    "    num_workers=4,\n",
    "    download=False,  # Set download to True if the dataset hasnt been downloaded yet\n",
    "    seed=0,\n",
    "    transform=train_transforms,\n",
    ")"
   ]
  },
  {
   "cell_type": "code",
   "execution_count": 24,
   "metadata": {},
   "outputs": [
    {
     "name": "stdout",
     "output_type": "stream",
     "text": [
      "total slices torch.Size([4224, 1, 64, 64])\n",
      "total lbaels torch.Size([4224, 1, 64, 64])\n"
     ]
    }
   ],
   "source": [
    "preprocessing_val = False\n",
    "if preprocessing_val is True:\n",
    "    val_loader_3D = DataLoader(val_ds, batch_size=1, shuffle=True, num_workers=4)\n",
    "    print(f'Image shape {val_ds[0][\"image\"].shape}')\n",
    "    print(\"len val data\", len(val_ds))\n",
    "    data_2d_slices_val = []\n",
    "    data_slice_label_val = []\n",
    "    for i, data in enumerate(val_loader_3D):\n",
    "        b2d, slice_label2d = get_batched_2d_axial_slices(data)\n",
    "        data_2d_slices_val.append(b2d)\n",
    "        data_slice_label_val.append(slice_label2d)\n",
    "    total_val_slices = torch.cat(data_2d_slices_val, 0)\n",
    "    total_val_labels = torch.cat(data_slice_label_val, 0)\n",
    "    torch.save(total_val_slices, \"total_val_slices.pt\")\n",
    "    torch.save(total_val_labels, \"total_val_labels.pt\")\n",
    "    \n",
    "else:\n",
    "    total_val_slices = torch.load(\"total_val_slices.pt\")\n",
    "    total_val_labels = torch.load(\"total_val_labels.pt\")\n",
    "    print(\"total slices\", total_val_slices.shape)\n",
    "    print(\"total lbaels\", total_val_labels.shape)"
   ]
  },
  {
   "cell_type": "markdown",
   "metadata": {},
   "source": [
    "%% [markdown]<br>\n",
    "### Define network, scheduler, optimizer, and inferer<br>\n",
    "At this step, we instantiate the MONAI components to create a DDPM, the UNET, the noise scheduler, and the inferer used for training and sampling. We are using<br>\n",
    "the deterministic DDIM scheduler containing 1000 timesteps, and a 2D UNET with attention mechanisms<br>\n",
    "in the 3rd level (`num_head_channels=64`).<br>\n"
   ]
  },
  {
   "cell_type": "markdown",
   "metadata": {},
   "source": [
    "%% jupyter={\"outputs_hidden\": false}"
   ]
  },
  {
   "cell_type": "code",
   "execution_count": 25,
   "metadata": {},
   "outputs": [],
   "source": [
    "device = torch.device(\"cuda\")"
   ]
  },
  {
   "cell_type": "code",
   "execution_count": 26,
   "metadata": {},
   "outputs": [
    {
     "data": {
      "text/plain": [
       "DiffusionModelUNet(\n",
       "  (conv_in): Convolution(\n",
       "    (conv): Conv2d(2, 64, kernel_size=(3, 3), stride=(1, 1), padding=(1, 1))\n",
       "  )\n",
       "  (time_embed): Sequential(\n",
       "    (0): Linear(in_features=64, out_features=256, bias=True)\n",
       "    (1): SiLU()\n",
       "    (2): Linear(in_features=256, out_features=256, bias=True)\n",
       "  )\n",
       "  (down_blocks): ModuleList(\n",
       "    (0): DownBlock(\n",
       "      (resnets): ModuleList(\n",
       "        (0): ResnetBlock(\n",
       "          (norm1): GroupNorm(32, 64, eps=1e-06, affine=True)\n",
       "          (nonlinearity): SiLU()\n",
       "          (conv1): Convolution(\n",
       "            (conv): Conv2d(64, 64, kernel_size=(3, 3), stride=(1, 1), padding=(1, 1))\n",
       "          )\n",
       "          (time_emb_proj): Linear(in_features=256, out_features=64, bias=True)\n",
       "          (norm2): GroupNorm(32, 64, eps=1e-06, affine=True)\n",
       "          (conv2): Convolution(\n",
       "            (conv): Conv2d(64, 64, kernel_size=(3, 3), stride=(1, 1), padding=(1, 1))\n",
       "          )\n",
       "          (skip_connection): Identity()\n",
       "        )\n",
       "      )\n",
       "      (downsampler): Downsample(\n",
       "        (op): Convolution(\n",
       "          (conv): Conv2d(64, 64, kernel_size=(3, 3), stride=(2, 2), padding=(1, 1))\n",
       "        )\n",
       "      )\n",
       "    )\n",
       "    (1): DownBlock(\n",
       "      (resnets): ModuleList(\n",
       "        (0): ResnetBlock(\n",
       "          (norm1): GroupNorm(32, 64, eps=1e-06, affine=True)\n",
       "          (nonlinearity): SiLU()\n",
       "          (conv1): Convolution(\n",
       "            (conv): Conv2d(64, 64, kernel_size=(3, 3), stride=(1, 1), padding=(1, 1))\n",
       "          )\n",
       "          (time_emb_proj): Linear(in_features=256, out_features=64, bias=True)\n",
       "          (norm2): GroupNorm(32, 64, eps=1e-06, affine=True)\n",
       "          (conv2): Convolution(\n",
       "            (conv): Conv2d(64, 64, kernel_size=(3, 3), stride=(1, 1), padding=(1, 1))\n",
       "          )\n",
       "          (skip_connection): Identity()\n",
       "        )\n",
       "      )\n",
       "      (downsampler): Downsample(\n",
       "        (op): Convolution(\n",
       "          (conv): Conv2d(64, 64, kernel_size=(3, 3), stride=(2, 2), padding=(1, 1))\n",
       "        )\n",
       "      )\n",
       "    )\n",
       "    (2): AttnDownBlock(\n",
       "      (attentions): ModuleList(\n",
       "        (0): AttentionBlock(\n",
       "          (norm): GroupNorm(32, 64, eps=1e-06, affine=True)\n",
       "          (to_q): Linear(in_features=64, out_features=64, bias=True)\n",
       "          (to_k): Linear(in_features=64, out_features=64, bias=True)\n",
       "          (to_v): Linear(in_features=64, out_features=64, bias=True)\n",
       "          (proj_attn): Linear(in_features=64, out_features=64, bias=True)\n",
       "        )\n",
       "      )\n",
       "      (resnets): ModuleList(\n",
       "        (0): ResnetBlock(\n",
       "          (norm1): GroupNorm(32, 64, eps=1e-06, affine=True)\n",
       "          (nonlinearity): SiLU()\n",
       "          (conv1): Convolution(\n",
       "            (conv): Conv2d(64, 64, kernel_size=(3, 3), stride=(1, 1), padding=(1, 1))\n",
       "          )\n",
       "          (time_emb_proj): Linear(in_features=256, out_features=64, bias=True)\n",
       "          (norm2): GroupNorm(32, 64, eps=1e-06, affine=True)\n",
       "          (conv2): Convolution(\n",
       "            (conv): Conv2d(64, 64, kernel_size=(3, 3), stride=(1, 1), padding=(1, 1))\n",
       "          )\n",
       "          (skip_connection): Identity()\n",
       "        )\n",
       "      )\n",
       "    )\n",
       "  )\n",
       "  (middle_block): AttnMidBlock(\n",
       "    (resnet_1): ResnetBlock(\n",
       "      (norm1): GroupNorm(32, 64, eps=1e-06, affine=True)\n",
       "      (nonlinearity): SiLU()\n",
       "      (conv1): Convolution(\n",
       "        (conv): Conv2d(64, 64, kernel_size=(3, 3), stride=(1, 1), padding=(1, 1))\n",
       "      )\n",
       "      (time_emb_proj): Linear(in_features=256, out_features=64, bias=True)\n",
       "      (norm2): GroupNorm(32, 64, eps=1e-06, affine=True)\n",
       "      (conv2): Convolution(\n",
       "        (conv): Conv2d(64, 64, kernel_size=(3, 3), stride=(1, 1), padding=(1, 1))\n",
       "      )\n",
       "      (skip_connection): Identity()\n",
       "    )\n",
       "    (attention): AttentionBlock(\n",
       "      (norm): GroupNorm(32, 64, eps=1e-06, affine=True)\n",
       "      (to_q): Linear(in_features=64, out_features=64, bias=True)\n",
       "      (to_k): Linear(in_features=64, out_features=64, bias=True)\n",
       "      (to_v): Linear(in_features=64, out_features=64, bias=True)\n",
       "      (proj_attn): Linear(in_features=64, out_features=64, bias=True)\n",
       "    )\n",
       "    (resnet_2): ResnetBlock(\n",
       "      (norm1): GroupNorm(32, 64, eps=1e-06, affine=True)\n",
       "      (nonlinearity): SiLU()\n",
       "      (conv1): Convolution(\n",
       "        (conv): Conv2d(64, 64, kernel_size=(3, 3), stride=(1, 1), padding=(1, 1))\n",
       "      )\n",
       "      (time_emb_proj): Linear(in_features=256, out_features=64, bias=True)\n",
       "      (norm2): GroupNorm(32, 64, eps=1e-06, affine=True)\n",
       "      (conv2): Convolution(\n",
       "        (conv): Conv2d(64, 64, kernel_size=(3, 3), stride=(1, 1), padding=(1, 1))\n",
       "      )\n",
       "      (skip_connection): Identity()\n",
       "    )\n",
       "  )\n",
       "  (up_blocks): ModuleList(\n",
       "    (0): AttnUpBlock(\n",
       "      (resnets): ModuleList(\n",
       "        (0): ResnetBlock(\n",
       "          (norm1): GroupNorm(32, 128, eps=1e-06, affine=True)\n",
       "          (nonlinearity): SiLU()\n",
       "          (conv1): Convolution(\n",
       "            (conv): Conv2d(128, 64, kernel_size=(3, 3), stride=(1, 1), padding=(1, 1))\n",
       "          )\n",
       "          (time_emb_proj): Linear(in_features=256, out_features=64, bias=True)\n",
       "          (norm2): GroupNorm(32, 64, eps=1e-06, affine=True)\n",
       "          (conv2): Convolution(\n",
       "            (conv): Conv2d(64, 64, kernel_size=(3, 3), stride=(1, 1), padding=(1, 1))\n",
       "          )\n",
       "          (skip_connection): Convolution(\n",
       "            (conv): Conv2d(128, 64, kernel_size=(1, 1), stride=(1, 1))\n",
       "          )\n",
       "        )\n",
       "        (1): ResnetBlock(\n",
       "          (norm1): GroupNorm(32, 128, eps=1e-06, affine=True)\n",
       "          (nonlinearity): SiLU()\n",
       "          (conv1): Convolution(\n",
       "            (conv): Conv2d(128, 64, kernel_size=(3, 3), stride=(1, 1), padding=(1, 1))\n",
       "          )\n",
       "          (time_emb_proj): Linear(in_features=256, out_features=64, bias=True)\n",
       "          (norm2): GroupNorm(32, 64, eps=1e-06, affine=True)\n",
       "          (conv2): Convolution(\n",
       "            (conv): Conv2d(64, 64, kernel_size=(3, 3), stride=(1, 1), padding=(1, 1))\n",
       "          )\n",
       "          (skip_connection): Convolution(\n",
       "            (conv): Conv2d(128, 64, kernel_size=(1, 1), stride=(1, 1))\n",
       "          )\n",
       "        )\n",
       "      )\n",
       "      (attentions): ModuleList(\n",
       "        (0): AttentionBlock(\n",
       "          (norm): GroupNorm(32, 64, eps=1e-06, affine=True)\n",
       "          (to_q): Linear(in_features=64, out_features=64, bias=True)\n",
       "          (to_k): Linear(in_features=64, out_features=64, bias=True)\n",
       "          (to_v): Linear(in_features=64, out_features=64, bias=True)\n",
       "          (proj_attn): Linear(in_features=64, out_features=64, bias=True)\n",
       "        )\n",
       "        (1): AttentionBlock(\n",
       "          (norm): GroupNorm(32, 64, eps=1e-06, affine=True)\n",
       "          (to_q): Linear(in_features=64, out_features=64, bias=True)\n",
       "          (to_k): Linear(in_features=64, out_features=64, bias=True)\n",
       "          (to_v): Linear(in_features=64, out_features=64, bias=True)\n",
       "          (proj_attn): Linear(in_features=64, out_features=64, bias=True)\n",
       "        )\n",
       "      )\n",
       "      (upsampler): Upsample(\n",
       "        (conv): Convolution(\n",
       "          (conv): Conv2d(64, 64, kernel_size=(3, 3), stride=(1, 1), padding=(1, 1))\n",
       "        )\n",
       "      )\n",
       "    )\n",
       "    (1): UpBlock(\n",
       "      (resnets): ModuleList(\n",
       "        (0): ResnetBlock(\n",
       "          (norm1): GroupNorm(32, 128, eps=1e-06, affine=True)\n",
       "          (nonlinearity): SiLU()\n",
       "          (conv1): Convolution(\n",
       "            (conv): Conv2d(128, 64, kernel_size=(3, 3), stride=(1, 1), padding=(1, 1))\n",
       "          )\n",
       "          (time_emb_proj): Linear(in_features=256, out_features=64, bias=True)\n",
       "          (norm2): GroupNorm(32, 64, eps=1e-06, affine=True)\n",
       "          (conv2): Convolution(\n",
       "            (conv): Conv2d(64, 64, kernel_size=(3, 3), stride=(1, 1), padding=(1, 1))\n",
       "          )\n",
       "          (skip_connection): Convolution(\n",
       "            (conv): Conv2d(128, 64, kernel_size=(1, 1), stride=(1, 1))\n",
       "          )\n",
       "        )\n",
       "        (1): ResnetBlock(\n",
       "          (norm1): GroupNorm(32, 128, eps=1e-06, affine=True)\n",
       "          (nonlinearity): SiLU()\n",
       "          (conv1): Convolution(\n",
       "            (conv): Conv2d(128, 64, kernel_size=(3, 3), stride=(1, 1), padding=(1, 1))\n",
       "          )\n",
       "          (time_emb_proj): Linear(in_features=256, out_features=64, bias=True)\n",
       "          (norm2): GroupNorm(32, 64, eps=1e-06, affine=True)\n",
       "          (conv2): Convolution(\n",
       "            (conv): Conv2d(64, 64, kernel_size=(3, 3), stride=(1, 1), padding=(1, 1))\n",
       "          )\n",
       "          (skip_connection): Convolution(\n",
       "            (conv): Conv2d(128, 64, kernel_size=(1, 1), stride=(1, 1))\n",
       "          )\n",
       "        )\n",
       "      )\n",
       "      (upsampler): Upsample(\n",
       "        (conv): Convolution(\n",
       "          (conv): Conv2d(64, 64, kernel_size=(3, 3), stride=(1, 1), padding=(1, 1))\n",
       "        )\n",
       "      )\n",
       "    )\n",
       "    (2): UpBlock(\n",
       "      (resnets): ModuleList(\n",
       "        (0): ResnetBlock(\n",
       "          (norm1): GroupNorm(32, 128, eps=1e-06, affine=True)\n",
       "          (nonlinearity): SiLU()\n",
       "          (conv1): Convolution(\n",
       "            (conv): Conv2d(128, 64, kernel_size=(3, 3), stride=(1, 1), padding=(1, 1))\n",
       "          )\n",
       "          (time_emb_proj): Linear(in_features=256, out_features=64, bias=True)\n",
       "          (norm2): GroupNorm(32, 64, eps=1e-06, affine=True)\n",
       "          (conv2): Convolution(\n",
       "            (conv): Conv2d(64, 64, kernel_size=(3, 3), stride=(1, 1), padding=(1, 1))\n",
       "          )\n",
       "          (skip_connection): Convolution(\n",
       "            (conv): Conv2d(128, 64, kernel_size=(1, 1), stride=(1, 1))\n",
       "          )\n",
       "        )\n",
       "        (1): ResnetBlock(\n",
       "          (norm1): GroupNorm(32, 128, eps=1e-06, affine=True)\n",
       "          (nonlinearity): SiLU()\n",
       "          (conv1): Convolution(\n",
       "            (conv): Conv2d(128, 64, kernel_size=(3, 3), stride=(1, 1), padding=(1, 1))\n",
       "          )\n",
       "          (time_emb_proj): Linear(in_features=256, out_features=64, bias=True)\n",
       "          (norm2): GroupNorm(32, 64, eps=1e-06, affine=True)\n",
       "          (conv2): Convolution(\n",
       "            (conv): Conv2d(64, 64, kernel_size=(3, 3), stride=(1, 1), padding=(1, 1))\n",
       "          )\n",
       "          (skip_connection): Convolution(\n",
       "            (conv): Conv2d(128, 64, kernel_size=(1, 1), stride=(1, 1))\n",
       "          )\n",
       "        )\n",
       "      )\n",
       "    )\n",
       "  )\n",
       "  (out): Sequential(\n",
       "    (0): GroupNorm(32, 64, eps=1e-06, affine=True)\n",
       "    (1): SiLU()\n",
       "    (2): Convolution(\n",
       "      (conv): Conv2d(64, 1, kernel_size=(3, 3), stride=(1, 1), padding=(1, 1))\n",
       "    )\n",
       "  )\n",
       ")"
      ]
     },
     "execution_count": 26,
     "metadata": {},
     "output_type": "execute_result"
    }
   ],
   "source": [
    "model = DiffusionModelUNet(\n",
    "    spatial_dims=2,\n",
    "    in_channels=2,\n",
    "    out_channels=1,\n",
    "    num_channels=(64, 64, 64),\n",
    "    attention_levels=(False, False, True),\n",
    "    num_res_blocks=1,\n",
    "    num_head_channels=64,\n",
    "    with_conditioning=False,\n",
    "    #  cross_attention_dim=1,\n",
    ")\n",
    "model.to(device)"
   ]
  },
  {
   "cell_type": "code",
   "execution_count": 30,
   "metadata": {},
   "outputs": [],
   "source": [
    "scheduler = DDPMScheduler(\n",
    "    num_train_timesteps=1000,\n",
    ")"
   ]
  },
  {
   "cell_type": "code",
   "execution_count": 31,
   "metadata": {},
   "outputs": [],
   "source": [
    "optimizer = torch.optim.Adam(params=model.parameters(), lr=2.5e-5)"
   ]
  },
  {
   "cell_type": "code",
   "execution_count": 32,
   "metadata": {},
   "outputs": [],
   "source": [
    "inferer = DiffusionInferer(scheduler)"
   ]
  },
  {
   "cell_type": "markdown",
   "metadata": {},
   "source": [
    "%% [markdown] tags=[]<br>\n",
    "### Model training of the Diffusion Model<br>\n",
    "If we set `train_diffusionmodel=True`, we are training our diffusion model for 100 epochs, and save the model as _diffusion_model.pt_.<br>\n",
    "If we set `train_diffusionmodel=False`, we load a pretrained model."
   ]
  },
  {
   "cell_type": "markdown",
   "metadata": {},
   "source": [
    "%% jupyter={\"outputs_hidden\": false}"
   ]
  },
  {
   "cell_type": "code",
   "execution_count": 39,
   "metadata": {},
   "outputs": [],
   "source": [
    "n_epochs = 100\n",
    "batch_size = 32\n",
    "val_interval = 1\n",
    "epoch_loss_list = []\n",
    "val_epoch_loss_list = []\n",
    "train_diffusionmodel = False"
   ]
  },
  {
   "cell_type": "code",
   "execution_count": 42,
   "metadata": {},
   "outputs": [
    {
     "name": "stderr",
     "output_type": "stream",
     "text": [
      "Epoch 0: : 534it [01:40,  5.34it/s, loss=0.00782]                                           \n",
      "4224it [01:28, 47.71it/s]\n",
      "Epoch 1: : 534it [01:46,  5.01it/s, loss=0.00693]                                           \n",
      "4224it [01:27, 48.24it/s]\n",
      "Epoch 2: : 534it [01:47,  4.96it/s, loss=0.00641]                                           \n",
      "4224it [01:28, 47.58it/s]\n",
      "Epoch 3: : 534it [01:47,  4.95it/s, loss=0.00602]                                           \n",
      "4224it [01:30, 46.61it/s]\n",
      "Epoch 4: : 534it [01:48,  4.93it/s, loss=0.00577]                                           \n",
      "4224it [01:28, 47.78it/s]\n",
      "Epoch 5: : 534it [01:47,  4.96it/s, loss=0.00552]                                           \n",
      "4224it [01:27, 48.48it/s]\n",
      "Epoch 6: : 534it [01:47,  4.97it/s, loss=0.00518]                                           \n",
      "4224it [01:27, 48.31it/s]\n",
      "Epoch 7: : 534it [01:47,  4.95it/s, loss=0.00513]                                           \n",
      "4224it [01:27, 48.49it/s]\n",
      "Epoch 8: : 534it [01:47,  4.95it/s, loss=0.0049]                                            \n",
      "4224it [01:27, 48.30it/s]\n",
      "Epoch 9: : 534it [01:46,  5.00it/s, loss=0.00477]                                           \n",
      "4224it [01:27, 48.51it/s]\n",
      "Epoch 10: : 534it [01:47,  4.98it/s, loss=0.00449]                                          \n",
      "4224it [01:27, 48.20it/s]\n",
      "Epoch 11: : 534it [01:48,  4.94it/s, loss=0.00444]                                          \n",
      "4224it [01:26, 48.77it/s]\n",
      "Epoch 12: : 534it [01:47,  4.97it/s, loss=0.00448]                                          \n",
      "4224it [01:27, 48.50it/s]\n",
      "Epoch 13: : 534it [01:47,  4.97it/s, loss=0.00416]                                          \n",
      "4224it [01:26, 48.93it/s]\n",
      "Epoch 14: : 534it [01:47,  4.97it/s, loss=0.00424]                                          \n",
      "4224it [01:26, 48.62it/s]\n",
      "Epoch 15: : 534it [01:47,  4.97it/s, loss=0.00402]                                          \n",
      "4224it [01:27, 48.30it/s]\n",
      "Epoch 16: : 534it [01:47,  4.97it/s, loss=0.00397]                                          \n",
      "4224it [01:27, 48.31it/s]\n",
      "Epoch 17: : 534it [01:47,  4.97it/s, loss=0.004]                                            \n",
      "4224it [01:28, 47.98it/s]\n",
      "Epoch 18: : 534it [01:47,  4.97it/s, loss=0.0039]                                           \n",
      "4224it [01:27, 48.39it/s]\n",
      "Epoch 19: : 534it [01:47,  4.95it/s, loss=0.00397]                                          \n",
      "4224it [01:27, 48.02it/s]\n",
      "Epoch 20: : 534it [01:47,  4.98it/s, loss=0.00378]                                          \n",
      "4224it [01:27, 48.44it/s]\n",
      "Epoch 21: : 534it [01:47,  4.98it/s, loss=0.00374]                                          \n",
      "4224it [01:27, 48.37it/s]\n",
      "Epoch 22: : 534it [01:47,  4.96it/s, loss=0.00384]                                          \n",
      "4224it [01:27, 48.23it/s]\n",
      "Epoch 23: : 534it [01:47,  4.98it/s, loss=0.00372]                                          \n",
      "4224it [01:28, 47.93it/s]\n",
      "Epoch 24: : 534it [01:47,  4.98it/s, loss=0.00368]                                          \n",
      "4224it [01:26, 48.60it/s]\n",
      "Epoch 25: : 534it [01:46,  4.99it/s, loss=0.00359]                                          \n",
      "4224it [01:27, 48.51it/s]\n",
      "Epoch 26: : 534it [01:47,  4.98it/s, loss=0.00366]                                          \n",
      "4224it [01:27, 48.31it/s]\n",
      "Epoch 27: : 534it [01:47,  4.97it/s, loss=0.0036]                                           \n",
      "4224it [01:26, 48.56it/s]\n",
      "Epoch 28: : 534it [01:47,  4.99it/s, loss=0.0035]                                           \n",
      "4224it [01:27, 48.42it/s]\n",
      "Epoch 29: : 534it [01:46,  4.99it/s, loss=0.00358]                                          \n",
      "4224it [01:27, 48.05it/s]\n",
      "Epoch 30: : 534it [01:47,  4.98it/s, loss=0.00348]                                          \n",
      "4224it [01:27, 48.47it/s]\n",
      "Epoch 31: : 534it [01:47,  4.99it/s, loss=0.00334]                                          \n",
      "4224it [01:28, 47.95it/s]\n",
      "Epoch 32: : 534it [01:47,  4.97it/s, loss=0.00334]                                          \n",
      "4224it [01:27, 48.35it/s]\n",
      "Epoch 33: : 534it [01:47,  4.98it/s, loss=0.00339]                                          \n",
      "4224it [01:27, 48.44it/s]\n",
      "Epoch 34: : 534it [01:47,  4.98it/s, loss=0.0034]                                           \n",
      "4224it [01:27, 48.15it/s]\n",
      "Epoch 35: : 534it [01:46,  5.00it/s, loss=0.00347]                                          \n",
      "4224it [01:27, 48.30it/s]\n",
      "Epoch 36: : 534it [01:47,  4.97it/s, loss=0.00332]                                          \n",
      "4224it [01:27, 48.27it/s]\n",
      "Epoch 37: : 534it [01:47,  4.98it/s, loss=0.00322]                                          \n",
      "4224it [01:27, 48.45it/s]\n",
      "Epoch 38: : 534it [01:47,  4.96it/s, loss=0.00322]                                          \n",
      "4224it [01:28, 47.76it/s]\n",
      "Epoch 39: : 534it [01:47,  4.97it/s, loss=0.00327]                                          \n",
      "4224it [01:27, 48.23it/s]\n",
      "Epoch 40: : 534it [01:47,  4.98it/s, loss=0.00326]                                          \n",
      "4224it [01:28, 47.99it/s]\n",
      "Epoch 41: : 534it [01:47,  4.96it/s, loss=0.00321]                                          \n",
      "4224it [01:27, 48.23it/s]\n",
      "Epoch 42: : 534it [01:47,  4.98it/s, loss=0.00304]                                          \n",
      "4224it [01:28, 47.96it/s]\n",
      "Epoch 43: : 534it [01:47,  4.98it/s, loss=0.00321]                                          \n",
      "4224it [01:27, 48.26it/s]\n",
      "Epoch 44: : 534it [01:47,  4.99it/s, loss=0.00307]                                          \n",
      "4224it [01:27, 48.01it/s]\n",
      "Epoch 45: : 534it [01:46,  4.99it/s, loss=0.00312]                                          \n",
      "4224it [01:27, 48.28it/s]\n",
      "Epoch 46: : 534it [01:47,  4.98it/s, loss=0.00312]                                          \n",
      "4224it [01:27, 48.38it/s]\n",
      "Epoch 47: : 534it [01:47,  4.98it/s, loss=0.00311]                                          \n",
      "4224it [01:27, 48.41it/s]\n",
      "Epoch 48: : 534it [01:47,  4.98it/s, loss=0.00307]                                          \n",
      "4224it [01:27, 48.18it/s]\n",
      "Epoch 49: : 534it [01:46,  4.99it/s, loss=0.00297]                                          \n",
      "4224it [01:28, 47.97it/s]\n",
      "Epoch 50: : 534it [01:47,  4.99it/s, loss=0.00304]                                          \n",
      "4224it [01:27, 48.27it/s]\n",
      "Epoch 51: : 534it [01:47,  4.99it/s, loss=0.00296]                                          \n",
      "4224it [01:27, 48.42it/s]\n",
      "Epoch 52: : 534it [01:47,  4.98it/s, loss=0.00293]                                          \n",
      "4224it [01:27, 48.03it/s]\n",
      "Epoch 53: : 534it [01:47,  4.98it/s, loss=0.00298]                                          \n",
      "4224it [01:26, 48.86it/s]\n",
      "Epoch 54: : 534it [01:46,  5.01it/s, loss=0.00294]                                          \n",
      "4224it [01:27, 48.39it/s]\n",
      "Epoch 55: : 534it [01:46,  4.99it/s, loss=0.00298]                                          \n",
      "4224it [01:27, 48.18it/s]\n",
      "Epoch 56: : 534it [01:46,  5.00it/s, loss=0.003]                                            \n",
      "4224it [01:27, 48.51it/s]\n",
      "Epoch 57: : 534it [01:46,  5.00it/s, loss=0.00298]                                          \n",
      "4224it [01:27, 48.36it/s]\n",
      "Epoch 58: : 534it [01:47,  4.99it/s, loss=0.00286]                                          \n",
      "4224it [01:28, 47.73it/s]\n",
      "Epoch 59: : 534it [01:46,  5.01it/s, loss=0.00291]                                          \n",
      "4224it [01:27, 48.36it/s]\n",
      "Epoch 60: : 534it [01:47,  4.99it/s, loss=0.00292]                                          \n",
      "4224it [01:28, 47.61it/s]\n",
      "Epoch 61: : 534it [01:47,  4.96it/s, loss=0.00288]                                          \n",
      "4224it [01:27, 48.40it/s]\n",
      "Epoch 62: : 534it [01:46,  5.00it/s, loss=0.00284]                                          \n",
      "4224it [01:27, 48.53it/s]\n",
      "Epoch 63: : 534it [01:46,  5.00it/s, loss=0.00275]                                          \n",
      "4224it [01:28, 48.00it/s]\n",
      "Epoch 64: : 534it [01:46,  4.99it/s, loss=0.00284]                                          \n",
      "4224it [01:27, 48.39it/s]\n",
      "Epoch 65: : 534it [01:46,  5.01it/s, loss=0.00287]                                          \n",
      "4224it [01:27, 48.20it/s]\n",
      "Epoch 66: : 534it [01:46,  5.00it/s, loss=0.00278]                                          \n",
      "4224it [01:28, 47.64it/s]\n",
      "Epoch 67: : 534it [01:46,  5.01it/s, loss=0.0028]                                           \n",
      "4224it [01:28, 47.87it/s]\n",
      "Epoch 68: : 534it [01:47,  4.99it/s, loss=0.00271]                                          \n",
      "4224it [01:27, 48.28it/s]\n",
      "Epoch 69: : 534it [01:47,  4.98it/s, loss=0.0027]                                           \n",
      "4224it [01:28, 47.85it/s]\n",
      "Epoch 70: : 534it [01:47,  4.98it/s, loss=0.00272]                                          \n",
      "4224it [01:27, 48.04it/s]\n",
      "Epoch 71: : 534it [01:46,  5.00it/s, loss=0.00273]                                          \n",
      "4224it [01:28, 47.80it/s]\n",
      "Epoch 72: : 534it [01:47,  4.99it/s, loss=0.00272]                                          \n",
      "4224it [01:27, 48.24it/s]\n",
      "Epoch 73: : 534it [01:47,  4.99it/s, loss=0.0027]                                           \n",
      "4224it [01:27, 48.34it/s]\n",
      "Epoch 74: : 534it [01:46,  4.99it/s, loss=0.00268]                                          \n",
      "4224it [01:28, 47.96it/s]\n",
      "Epoch 75: : 534it [01:46,  5.00it/s, loss=0.00269]                                          \n",
      "4224it [01:27, 48.10it/s]\n",
      "Epoch 76: : 534it [01:46,  5.01it/s, loss=0.00261]                                          \n",
      "4224it [01:27, 48.09it/s]\n",
      "Epoch 77: : 534it [01:47,  4.98it/s, loss=0.00267]                                          \n",
      "4224it [01:27, 48.03it/s]\n",
      "Epoch 78: : 534it [01:46,  5.00it/s, loss=0.00257]                                          \n",
      "4224it [01:27, 48.03it/s]\n",
      "Epoch 79: : 534it [01:47,  4.99it/s, loss=0.00268]                                          \n",
      "4224it [01:27, 48.40it/s]\n",
      "Epoch 80: : 534it [01:46,  5.00it/s, loss=0.00265]                                          \n",
      "4224it [01:28, 47.93it/s]\n",
      "Epoch 81: : 534it [01:46,  5.00it/s, loss=0.00264]                                          \n",
      "4224it [01:27, 48.23it/s]\n",
      "Epoch 82: : 534it [01:46,  5.02it/s, loss=0.00265]                                          \n",
      "4224it [01:26, 48.63it/s]\n",
      "Epoch 83: : 534it [01:46,  5.00it/s, loss=0.00257]                                          \n",
      "4224it [01:28, 47.84it/s]\n",
      "Epoch 84: : 534it [01:47,  4.98it/s, loss=0.00258]                                          \n",
      "4224it [01:27, 48.47it/s]\n",
      "Epoch 85: : 534it [01:47,  4.99it/s, loss=0.00261]                                          \n",
      "4224it [01:28, 47.64it/s]\n",
      "Epoch 86: : 534it [01:45,  5.04it/s, loss=0.00256]                                          \n",
      "4224it [01:26, 49.09it/s]\n",
      "Epoch 87: : 534it [01:46,  5.01it/s, loss=0.00253]                                          \n",
      "4224it [01:29, 47.39it/s]\n",
      "Epoch 88: : 534it [01:47,  4.99it/s, loss=0.00257]                                          \n",
      "4224it [01:28, 47.96it/s]\n",
      "Epoch 89: : 534it [01:47,  4.98it/s, loss=0.00261]                                          \n",
      "4224it [01:28, 47.99it/s]\n",
      "Epoch 90: : 534it [01:46,  5.00it/s, loss=0.0025]                                           \n",
      "4224it [01:28, 47.69it/s]\n",
      "Epoch 91: : 534it [01:46,  5.00it/s, loss=0.00252]                                          \n",
      "4224it [01:26, 48.89it/s]\n",
      "Epoch 92: : 534it [01:46,  4.99it/s, loss=0.00255]                                          \n",
      "4224it [01:27, 48.24it/s]\n",
      "Epoch 93: : 534it [01:46,  5.00it/s, loss=0.00249]                                          \n",
      "4224it [01:27, 48.40it/s]\n",
      "Epoch 94: : 534it [01:46,  5.00it/s, loss=0.00253]                                          \n",
      "4224it [01:27, 48.07it/s]\n",
      "Epoch 95: : 534it [01:46,  5.03it/s, loss=0.00242]                                          \n",
      "4224it [01:27, 48.36it/s]\n",
      "Epoch 96: : 534it [01:46,  5.02it/s, loss=0.00249]                                          \n",
      "4224it [01:28, 47.90it/s]\n",
      "Epoch 97: : 534it [01:47,  4.99it/s, loss=0.00253]                                          \n",
      "4224it [01:28, 47.71it/s]\n",
      "Epoch 98: : 534it [01:46,  5.01it/s, loss=0.00247]                                          \n",
      "4224it [01:29, 47.38it/s]\n",
      "Epoch 99: : 534it [01:46,  5.00it/s, loss=0.00249]                                          \n",
      "4224it [01:27, 48.18it/s]\n",
      "Epoch 100: : 534it [01:47,  4.99it/s, loss=0.00249]                                         \n",
      "4224it [01:27, 48.28it/s]\n",
      "Epoch 101: : 534it [01:45,  5.05it/s, loss=0.00251]                                         \n",
      "4224it [01:28, 47.73it/s]\n",
      "Epoch 102: : 534it [01:46,  5.01it/s, loss=0.00254]                                         \n",
      "4224it [01:27, 48.25it/s]\n",
      "Epoch 103: : 534it [01:46,  5.00it/s, loss=0.00247]                                         \n",
      "4224it [01:27, 48.15it/s]\n",
      "Epoch 104: : 534it [01:47,  4.99it/s, loss=0.00242]                                         \n",
      "4224it [01:26, 48.99it/s]\n",
      "Epoch 105: : 534it [01:47,  4.99it/s, loss=0.00246]                                         \n",
      "4224it [01:27, 48.16it/s]\n",
      "Epoch 106: : 534it [01:46,  5.02it/s, loss=0.00238]                                         \n",
      "4224it [01:27, 48.08it/s]\n",
      "Epoch 107: : 534it [01:46,  5.00it/s, loss=0.00237]                                         \n",
      "4224it [01:26, 48.57it/s]\n",
      "Epoch 108: : 534it [01:45,  5.05it/s, loss=0.00237]                                         \n",
      "4224it [01:27, 48.17it/s]\n",
      "Epoch 109: : 534it [01:46,  5.00it/s, loss=0.00242]                                         \n",
      "4224it [01:27, 48.25it/s]\n",
      "Epoch 110: : 534it [01:46,  5.01it/s, loss=0.00236]                                         \n",
      "4224it [01:27, 48.30it/s]\n",
      "Epoch 111: : 534it [01:46,  4.99it/s, loss=0.00243]                                         \n",
      "4224it [01:27, 48.50it/s]\n",
      "Epoch 112: : 534it [01:46,  5.00it/s, loss=0.00244]                                         \n",
      "4224it [01:28, 48.00it/s]\n",
      "Epoch 113: : 534it [01:46,  5.02it/s, loss=0.00229]                                         \n",
      "4224it [01:27, 48.09it/s]\n",
      "Epoch 114: : 534it [01:46,  5.00it/s, loss=0.00228]                                         \n",
      "4224it [01:28, 47.73it/s]\n",
      "Epoch 115: : 534it [01:46,  5.00it/s, loss=0.00235]                                         \n",
      "4224it [01:28, 47.97it/s]\n",
      "Epoch 116: : 534it [01:47,  4.97it/s, loss=0.00232]                                         \n",
      "4224it [01:27, 48.24it/s]\n",
      "Epoch 117: : 534it [01:46,  5.01it/s, loss=0.00236]                                         \n",
      "4224it [01:27, 48.09it/s]\n",
      "Epoch 118: : 534it [01:46,  5.00it/s, loss=0.00233]                                         \n",
      "4224it [01:27, 48.08it/s]\n",
      "Epoch 119: : 534it [01:46,  5.00it/s, loss=0.00239]                                         \n",
      "4224it [01:28, 47.62it/s]\n",
      "Epoch 120: : 534it [01:46,  5.02it/s, loss=0.00232]                                         \n",
      "4224it [01:27, 48.44it/s]\n",
      "Epoch 121: : 534it [01:46,  5.00it/s, loss=0.00234]                                         \n",
      "4224it [01:28, 47.73it/s]\n",
      "Epoch 122: : 534it [01:46,  5.03it/s, loss=0.00225]                                         \n",
      "4224it [01:27, 48.23it/s]\n",
      "Epoch 123: : 534it [01:46,  5.00it/s, loss=0.00229]                                         \n",
      "4224it [01:27, 48.03it/s]\n",
      "Epoch 124: : 534it [01:46,  5.03it/s, loss=0.0023]                                          \n",
      "4224it [01:28, 47.61it/s]\n",
      "Epoch 125: : 534it [01:46,  5.01it/s, loss=0.00228]                                         \n",
      "4224it [01:27, 48.22it/s]\n",
      "Epoch 126: : 534it [01:47,  4.99it/s, loss=0.00222]                                         \n",
      "4224it [01:27, 48.39it/s]\n",
      "Epoch 127: : 534it [01:47,  4.98it/s, loss=0.00229]                                         \n",
      "4224it [01:27, 48.24it/s]\n",
      "Epoch 128: : 534it [01:46,  5.01it/s, loss=0.00227]                                         \n",
      "4224it [01:26, 49.06it/s]\n",
      "Epoch 129: : 534it [01:46,  5.02it/s, loss=0.00226]                                         \n",
      "4224it [01:28, 47.70it/s]\n",
      "Epoch 130: : 534it [01:46,  5.02it/s, loss=0.00227]                                         \n",
      "4224it [01:28, 47.98it/s]\n",
      "Epoch 131: : 534it [01:46,  5.01it/s, loss=0.00222]                                         \n",
      "4224it [01:28, 47.82it/s]\n",
      "Epoch 132: : 534it [01:46,  5.00it/s, loss=0.00222]                                         \n",
      "4224it [01:27, 48.07it/s]\n",
      "Epoch 133: : 534it [01:46,  5.01it/s, loss=0.00227]                                         \n",
      "4224it [01:27, 48.17it/s]\n",
      "Epoch 134: : 534it [01:46,  5.00it/s, loss=0.00226]                                         \n",
      "4224it [01:27, 48.01it/s]\n",
      "Epoch 135: : 534it [01:47,  4.99it/s, loss=0.00221]                                         \n",
      "4224it [01:27, 48.00it/s]\n",
      "Epoch 136: : 534it [01:46,  5.01it/s, loss=0.00229]                                         \n",
      "4224it [01:28, 47.88it/s]\n",
      "Epoch 137: : 534it [01:46,  5.04it/s, loss=0.00217]                                         \n",
      "4224it [01:27, 48.54it/s]\n",
      "Epoch 138: : 534it [01:46,  5.04it/s, loss=0.00219]                                         \n",
      "4224it [01:29, 47.44it/s]\n",
      "Epoch 139: : 534it [01:46,  5.01it/s, loss=0.0022]                                          \n",
      "4224it [01:27, 48.31it/s]\n",
      "Epoch 140: : 534it [01:46,  5.01it/s, loss=0.00221]                                         \n",
      "4224it [01:27, 48.16it/s]\n",
      "Epoch 141: : 534it [01:46,  5.01it/s, loss=0.00218]                                         \n",
      "4224it [01:27, 48.01it/s]\n",
      "Epoch 142: : 534it [01:46,  5.03it/s, loss=0.00221]                                         \n",
      "4224it [01:28, 47.80it/s]\n",
      "Epoch 143: : 534it [01:46,  5.00it/s, loss=0.00227]                                         \n",
      "4224it [01:28, 47.88it/s]\n",
      "Epoch 144: : 534it [01:46,  5.00it/s, loss=0.00214]                                         \n",
      "4224it [01:27, 48.03it/s]\n",
      "Epoch 145: : 534it [01:46,  5.03it/s, loss=0.00219]                                         \n",
      "4224it [01:28, 47.84it/s]\n",
      "Epoch 146: : 534it [01:46,  5.02it/s, loss=0.00213]                                         \n",
      "4224it [01:28, 47.54it/s]\n",
      "Epoch 147: : 534it [01:46,  5.00it/s, loss=0.00214]                                         \n",
      "4224it [01:27, 48.14it/s]\n",
      "Epoch 148: : 534it [01:46,  5.01it/s, loss=0.00211]                                         \n",
      "4224it [01:28, 47.73it/s]\n",
      "Epoch 149: : 534it [01:46,  5.02it/s, loss=0.00217]                                         \n",
      "4224it [01:28, 47.46it/s]\n",
      "Epoch 150: : 534it [01:46,  5.00it/s, loss=0.00224]                                         \n",
      "4224it [01:28, 47.69it/s]\n",
      "Epoch 151: : 534it [01:46,  5.02it/s, loss=0.00216]                                         \n",
      "4224it [01:28, 47.81it/s]\n",
      "Epoch 152: : 534it [01:46,  5.03it/s, loss=0.0021]                                          \n",
      "4224it [01:28, 47.59it/s]\n",
      "Epoch 153: : 534it [01:45,  5.05it/s, loss=0.00217]                                         \n",
      "4224it [01:28, 47.78it/s]\n",
      "Epoch 154: : 534it [01:46,  5.00it/s, loss=0.00213]                                         \n",
      "4224it [01:27, 48.14it/s]\n",
      "Epoch 155: : 534it [01:46,  5.00it/s, loss=0.00209]                                         \n",
      "4224it [01:29, 47.46it/s]\n",
      "Epoch 156: : 534it [01:46,  4.99it/s, loss=0.00219]                                         \n",
      "4224it [01:28, 47.82it/s]\n",
      "Epoch 157: : 534it [01:46,  5.00it/s, loss=0.00212]                                         \n",
      "4224it [01:28, 47.88it/s]\n",
      "Epoch 158: : 534it [01:46,  4.99it/s, loss=0.00215]                                         \n",
      "4224it [01:28, 47.80it/s]\n",
      "Epoch 159: : 534it [01:46,  5.00it/s, loss=0.00209]                                         \n",
      "4224it [01:28, 47.52it/s]\n",
      "Epoch 160: : 534it [01:47,  4.96it/s, loss=0.00216]                                         \n",
      "4224it [01:28, 47.47it/s]\n",
      "Epoch 161: : 534it [01:46,  5.00it/s, loss=0.00215]                                         \n",
      "4224it [01:29, 47.17it/s]\n",
      "Epoch 162: : 534it [01:46,  5.01it/s, loss=0.0021]                                          \n",
      "4224it [01:28, 47.92it/s]\n",
      "Epoch 163: : 534it [01:46,  5.00it/s, loss=0.00205]                                         \n",
      "4224it [01:28, 47.68it/s]\n",
      "Epoch 164: : 534it [01:46,  5.01it/s, loss=0.00214]                                         \n",
      "4224it [01:29, 47.39it/s]\n",
      "Epoch 165: : 534it [01:46,  5.02it/s, loss=0.00207]                                         \n",
      "4224it [01:28, 47.47it/s]\n",
      "Epoch 166: : 534it [01:46,  5.01it/s, loss=0.00212]                                         \n",
      "4224it [01:29, 47.28it/s]\n",
      "Epoch 167: : 534it [01:46,  5.01it/s, loss=0.00208]                                         \n",
      "4224it [01:29, 47.44it/s]\n",
      "Epoch 168: : 534it [01:46,  4.99it/s, loss=0.00199]                                         \n",
      "4224it [01:27, 48.34it/s]\n",
      "Epoch 169: : 534it [01:46,  5.00it/s, loss=0.0021]                                          \n",
      "4224it [01:26, 48.60it/s]\n",
      "Epoch 170: : 534it [01:47,  4.98it/s, loss=0.00206]                                         \n",
      "4224it [01:29, 47.15it/s]\n",
      "Epoch 171: : 534it [01:46,  5.00it/s, loss=0.00207]                                         \n",
      "4224it [01:29, 47.26it/s]\n",
      "Epoch 172: : 534it [01:47,  4.99it/s, loss=0.00207]                                         \n",
      "4224it [01:29, 47.28it/s]\n",
      "Epoch 173: : 534it [01:46,  5.01it/s, loss=0.00211]                                         \n",
      "4224it [01:29, 47.34it/s]\n",
      "Epoch 174: : 534it [01:46,  5.02it/s, loss=0.0021]                                          \n",
      "4224it [01:30, 46.87it/s]\n",
      "Epoch 175: : 534it [01:46,  5.01it/s, loss=0.00202]                                         \n",
      "4224it [01:29, 47.35it/s]\n",
      "Epoch 176: : 534it [01:46,  5.00it/s, loss=0.00205]                                         \n",
      "4224it [01:29, 46.95it/s]\n",
      "Epoch 177: : 534it [01:46,  5.01it/s, loss=0.00207]                                         \n",
      "4224it [01:31, 46.24it/s]\n",
      "Epoch 178: : 534it [01:46,  5.00it/s, loss=0.00196]                                         \n",
      "4224it [01:30, 46.51it/s]\n",
      "Epoch 179: : 534it [01:46,  5.02it/s, loss=0.00203]                                         \n",
      "4224it [01:29, 46.98it/s]\n",
      "Epoch 180: : 534it [01:46,  5.00it/s, loss=0.00202]                                         \n",
      "4224it [01:27, 48.22it/s]\n",
      "Epoch 181: : 534it [01:46,  5.01it/s, loss=0.002]                                           \n",
      "4224it [01:29, 47.24it/s]\n",
      "Epoch 182: : 534it [01:46,  5.01it/s, loss=0.00205]                                         \n",
      "4224it [01:30, 46.47it/s]\n",
      "Epoch 183: : 534it [01:46,  5.00it/s, loss=0.00199]                                         \n",
      "4224it [01:29, 47.04it/s]\n",
      "Epoch 184: : 534it [01:46,  5.04it/s, loss=0.00198]                                         \n",
      "4224it [01:29, 47.04it/s]\n",
      "Epoch 185: : 534it [01:46,  5.02it/s, loss=0.00206]                                         \n",
      "4224it [01:29, 47.34it/s]\n",
      "Epoch 186: : 534it [01:46,  5.01it/s, loss=0.00197]                                         \n",
      "4224it [01:30, 46.82it/s]\n",
      "Epoch 187: : 534it [01:47,  4.97it/s, loss=0.00201]                                         \n",
      "4224it [01:28, 47.53it/s]\n",
      "Epoch 188: : 534it [01:46,  5.01it/s, loss=0.00197]                                         \n",
      "4224it [01:29, 47.24it/s]\n",
      "Epoch 189: : 534it [01:46,  5.00it/s, loss=0.00197]                                         \n",
      "4224it [01:30, 46.73it/s]\n",
      "Epoch 190: : 534it [01:46,  5.03it/s, loss=0.00203]                                         \n",
      "4224it [01:29, 47.19it/s]\n",
      "Epoch 191: : 534it [01:46,  5.01it/s, loss=0.00201]                                         \n",
      "4224it [01:29, 47.39it/s]\n",
      "Epoch 192: : 534it [01:45,  5.04it/s, loss=0.00193]                                         \n",
      "4224it [01:31, 46.41it/s]\n",
      "Epoch 193: : 534it [01:45,  5.06it/s, loss=0.00198]                                         \n",
      "4224it [01:27, 48.33it/s]\n",
      "Epoch 194: : 534it [01:46,  5.00it/s, loss=0.002]                                           \n",
      "4224it [01:30, 46.63it/s]\n",
      "Epoch 195: : 534it [01:46,  5.01it/s, loss=0.00196]                                         \n",
      "4224it [01:29, 47.39it/s]\n",
      "Epoch 196: : 534it [01:46,  5.00it/s, loss=0.00191]                                         \n",
      "4224it [01:26, 48.63it/s]\n",
      "Epoch 197: : 534it [01:46,  4.99it/s, loss=0.00197]                                         \n",
      "4224it [01:29, 47.37it/s]\n",
      "Epoch 198: : 534it [01:46,  5.02it/s, loss=0.00193]                                         \n",
      "4224it [01:29, 47.19it/s]\n",
      "Epoch 199: : 534it [01:46,  5.02it/s, loss=0.00197]                                         \n",
      "4224it [01:28, 47.83it/s]\n"
     ]
    },
    {
     "name": "stdout",
     "output_type": "stream",
     "text": [
      "train diffusion completed, total time: 39109.052657842636.\n"
     ]
    },
    {
     "ename": "ValueError",
     "evalue": "x and y must have same first dimension, but have shapes (200,) and (202,)",
     "output_type": "error",
     "traceback": [
      "\u001b[0;31m---------------------------------------------------------------------------\u001b[0m",
      "\u001b[0;31mValueError\u001b[0m                                Traceback (most recent call last)",
      "Cell \u001b[0;32mIn[42], line 68\u001b[0m\n\u001b[1;32m     66\u001b[0m plt\u001b[38;5;241m.\u001b[39mstyle\u001b[38;5;241m.\u001b[39muse(\u001b[38;5;124m\"\u001b[39m\u001b[38;5;124mseaborn-bright\u001b[39m\u001b[38;5;124m\"\u001b[39m)\n\u001b[1;32m     67\u001b[0m plt\u001b[38;5;241m.\u001b[39mtitle(\u001b[38;5;124m\"\u001b[39m\u001b[38;5;124mLearning Curves Diffusion Model\u001b[39m\u001b[38;5;124m\"\u001b[39m, fontsize\u001b[38;5;241m=\u001b[39m\u001b[38;5;241m20\u001b[39m)\n\u001b[0;32m---> 68\u001b[0m \u001b[43mplt\u001b[49m\u001b[38;5;241;43m.\u001b[39;49m\u001b[43mplot\u001b[49m\u001b[43m(\u001b[49m\u001b[43mnp\u001b[49m\u001b[38;5;241;43m.\u001b[39;49m\u001b[43mlinspace\u001b[49m\u001b[43m(\u001b[49m\u001b[38;5;241;43m1\u001b[39;49m\u001b[43m,\u001b[49m\u001b[43m \u001b[49m\u001b[43mn_epochs\u001b[49m\u001b[43m,\u001b[49m\u001b[43m \u001b[49m\u001b[43mn_epochs\u001b[49m\u001b[43m)\u001b[49m\u001b[43m,\u001b[49m\u001b[43m \u001b[49m\u001b[43mepoch_loss_list\u001b[49m\u001b[43m,\u001b[49m\u001b[43m \u001b[49m\u001b[43mcolor\u001b[49m\u001b[38;5;241;43m=\u001b[39;49m\u001b[38;5;124;43m\"\u001b[39;49m\u001b[38;5;124;43mC0\u001b[39;49m\u001b[38;5;124;43m\"\u001b[39;49m\u001b[43m,\u001b[49m\u001b[43m \u001b[49m\u001b[43mlinewidth\u001b[49m\u001b[38;5;241;43m=\u001b[39;49m\u001b[38;5;241;43m2.0\u001b[39;49m\u001b[43m,\u001b[49m\u001b[43m \u001b[49m\u001b[43mlabel\u001b[49m\u001b[38;5;241;43m=\u001b[39;49m\u001b[38;5;124;43m\"\u001b[39;49m\u001b[38;5;124;43mTrain\u001b[39;49m\u001b[38;5;124;43m\"\u001b[39;49m\u001b[43m)\u001b[49m\n\u001b[1;32m     69\u001b[0m plt\u001b[38;5;241m.\u001b[39mplot(\n\u001b[1;32m     70\u001b[0m     np\u001b[38;5;241m.\u001b[39mlinspace(val_interval, n_epochs, \u001b[38;5;28mint\u001b[39m(n_epochs \u001b[38;5;241m/\u001b[39m val_interval)),\n\u001b[1;32m     71\u001b[0m     val_epoch_loss_list,\n\u001b[0;32m   (...)\u001b[0m\n\u001b[1;32m     74\u001b[0m     label\u001b[38;5;241m=\u001b[39m\u001b[38;5;124m\"\u001b[39m\u001b[38;5;124mValidation\u001b[39m\u001b[38;5;124m\"\u001b[39m,\n\u001b[1;32m     75\u001b[0m )\n\u001b[1;32m     76\u001b[0m plt\u001b[38;5;241m.\u001b[39myticks(fontsize\u001b[38;5;241m=\u001b[39m\u001b[38;5;241m12\u001b[39m)\n",
      "File \u001b[0;32m~/anaconda3/envs/experiment/lib/python3.10/site-packages/matplotlib/pyplot.py:2767\u001b[0m, in \u001b[0;36mplot\u001b[0;34m(scalex, scaley, data, *args, **kwargs)\u001b[0m\n\u001b[1;32m   2765\u001b[0m \u001b[38;5;129m@_copy_docstring_and_deprecators\u001b[39m(Axes\u001b[38;5;241m.\u001b[39mplot)\n\u001b[1;32m   2766\u001b[0m \u001b[38;5;28;01mdef\u001b[39;00m \u001b[38;5;21mplot\u001b[39m(\u001b[38;5;241m*\u001b[39margs, scalex\u001b[38;5;241m=\u001b[39m\u001b[38;5;28;01mTrue\u001b[39;00m, scaley\u001b[38;5;241m=\u001b[39m\u001b[38;5;28;01mTrue\u001b[39;00m, data\u001b[38;5;241m=\u001b[39m\u001b[38;5;28;01mNone\u001b[39;00m, \u001b[38;5;241m*\u001b[39m\u001b[38;5;241m*\u001b[39mkwargs):\n\u001b[0;32m-> 2767\u001b[0m     \u001b[38;5;28;01mreturn\u001b[39;00m \u001b[43mgca\u001b[49m\u001b[43m(\u001b[49m\u001b[43m)\u001b[49m\u001b[38;5;241;43m.\u001b[39;49m\u001b[43mplot\u001b[49m\u001b[43m(\u001b[49m\n\u001b[1;32m   2768\u001b[0m \u001b[43m        \u001b[49m\u001b[38;5;241;43m*\u001b[39;49m\u001b[43margs\u001b[49m\u001b[43m,\u001b[49m\u001b[43m \u001b[49m\u001b[43mscalex\u001b[49m\u001b[38;5;241;43m=\u001b[39;49m\u001b[43mscalex\u001b[49m\u001b[43m,\u001b[49m\u001b[43m \u001b[49m\u001b[43mscaley\u001b[49m\u001b[38;5;241;43m=\u001b[39;49m\u001b[43mscaley\u001b[49m\u001b[43m,\u001b[49m\n\u001b[1;32m   2769\u001b[0m \u001b[43m        \u001b[49m\u001b[38;5;241;43m*\u001b[39;49m\u001b[38;5;241;43m*\u001b[39;49m\u001b[43m(\u001b[49m\u001b[43m{\u001b[49m\u001b[38;5;124;43m\"\u001b[39;49m\u001b[38;5;124;43mdata\u001b[39;49m\u001b[38;5;124;43m\"\u001b[39;49m\u001b[43m:\u001b[49m\u001b[43m \u001b[49m\u001b[43mdata\u001b[49m\u001b[43m}\u001b[49m\u001b[43m \u001b[49m\u001b[38;5;28;43;01mif\u001b[39;49;00m\u001b[43m \u001b[49m\u001b[43mdata\u001b[49m\u001b[43m \u001b[49m\u001b[38;5;129;43;01mis\u001b[39;49;00m\u001b[43m \u001b[49m\u001b[38;5;129;43;01mnot\u001b[39;49;00m\u001b[43m \u001b[49m\u001b[38;5;28;43;01mNone\u001b[39;49;00m\u001b[43m \u001b[49m\u001b[38;5;28;43;01melse\u001b[39;49;00m\u001b[43m \u001b[49m\u001b[43m{\u001b[49m\u001b[43m}\u001b[49m\u001b[43m)\u001b[49m\u001b[43m,\u001b[49m\u001b[43m \u001b[49m\u001b[38;5;241;43m*\u001b[39;49m\u001b[38;5;241;43m*\u001b[39;49m\u001b[43mkwargs\u001b[49m\u001b[43m)\u001b[49m\n",
      "File \u001b[0;32m~/anaconda3/envs/experiment/lib/python3.10/site-packages/matplotlib/axes/_axes.py:1635\u001b[0m, in \u001b[0;36mAxes.plot\u001b[0;34m(self, scalex, scaley, data, *args, **kwargs)\u001b[0m\n\u001b[1;32m   1393\u001b[0m \u001b[38;5;250m\u001b[39m\u001b[38;5;124;03m\"\"\"\u001b[39;00m\n\u001b[1;32m   1394\u001b[0m \u001b[38;5;124;03mPlot y versus x as lines and/or markers.\u001b[39;00m\n\u001b[1;32m   1395\u001b[0m \n\u001b[0;32m   (...)\u001b[0m\n\u001b[1;32m   1632\u001b[0m \u001b[38;5;124;03m(``'green'``) or hex strings (``'#008000'``).\u001b[39;00m\n\u001b[1;32m   1633\u001b[0m \u001b[38;5;124;03m\"\"\"\u001b[39;00m\n\u001b[1;32m   1634\u001b[0m kwargs \u001b[38;5;241m=\u001b[39m cbook\u001b[38;5;241m.\u001b[39mnormalize_kwargs(kwargs, mlines\u001b[38;5;241m.\u001b[39mLine2D)\n\u001b[0;32m-> 1635\u001b[0m lines \u001b[38;5;241m=\u001b[39m [\u001b[38;5;241m*\u001b[39m\u001b[38;5;28mself\u001b[39m\u001b[38;5;241m.\u001b[39m_get_lines(\u001b[38;5;241m*\u001b[39margs, data\u001b[38;5;241m=\u001b[39mdata, \u001b[38;5;241m*\u001b[39m\u001b[38;5;241m*\u001b[39mkwargs)]\n\u001b[1;32m   1636\u001b[0m \u001b[38;5;28;01mfor\u001b[39;00m line \u001b[38;5;129;01min\u001b[39;00m lines:\n\u001b[1;32m   1637\u001b[0m     \u001b[38;5;28mself\u001b[39m\u001b[38;5;241m.\u001b[39madd_line(line)\n",
      "File \u001b[0;32m~/anaconda3/envs/experiment/lib/python3.10/site-packages/matplotlib/axes/_base.py:312\u001b[0m, in \u001b[0;36m_process_plot_var_args.__call__\u001b[0;34m(self, data, *args, **kwargs)\u001b[0m\n\u001b[1;32m    310\u001b[0m     this \u001b[38;5;241m+\u001b[39m\u001b[38;5;241m=\u001b[39m args[\u001b[38;5;241m0\u001b[39m],\n\u001b[1;32m    311\u001b[0m     args \u001b[38;5;241m=\u001b[39m args[\u001b[38;5;241m1\u001b[39m:]\n\u001b[0;32m--> 312\u001b[0m \u001b[38;5;28;01myield from\u001b[39;00m \u001b[38;5;28;43mself\u001b[39;49m\u001b[38;5;241;43m.\u001b[39;49m\u001b[43m_plot_args\u001b[49m\u001b[43m(\u001b[49m\u001b[43mthis\u001b[49m\u001b[43m,\u001b[49m\u001b[43m \u001b[49m\u001b[43mkwargs\u001b[49m\u001b[43m)\u001b[49m\n",
      "File \u001b[0;32m~/anaconda3/envs/experiment/lib/python3.10/site-packages/matplotlib/axes/_base.py:498\u001b[0m, in \u001b[0;36m_process_plot_var_args._plot_args\u001b[0;34m(self, tup, kwargs, return_kwargs)\u001b[0m\n\u001b[1;32m    495\u001b[0m     \u001b[38;5;28mself\u001b[39m\u001b[38;5;241m.\u001b[39maxes\u001b[38;5;241m.\u001b[39myaxis\u001b[38;5;241m.\u001b[39mupdate_units(y)\n\u001b[1;32m    497\u001b[0m \u001b[38;5;28;01mif\u001b[39;00m x\u001b[38;5;241m.\u001b[39mshape[\u001b[38;5;241m0\u001b[39m] \u001b[38;5;241m!=\u001b[39m y\u001b[38;5;241m.\u001b[39mshape[\u001b[38;5;241m0\u001b[39m]:\n\u001b[0;32m--> 498\u001b[0m     \u001b[38;5;28;01mraise\u001b[39;00m \u001b[38;5;167;01mValueError\u001b[39;00m(\u001b[38;5;124mf\u001b[39m\u001b[38;5;124m\"\u001b[39m\u001b[38;5;124mx and y must have same first dimension, but \u001b[39m\u001b[38;5;124m\"\u001b[39m\n\u001b[1;32m    499\u001b[0m                      \u001b[38;5;124mf\u001b[39m\u001b[38;5;124m\"\u001b[39m\u001b[38;5;124mhave shapes \u001b[39m\u001b[38;5;132;01m{\u001b[39;00mx\u001b[38;5;241m.\u001b[39mshape\u001b[38;5;132;01m}\u001b[39;00m\u001b[38;5;124m and \u001b[39m\u001b[38;5;132;01m{\u001b[39;00my\u001b[38;5;241m.\u001b[39mshape\u001b[38;5;132;01m}\u001b[39;00m\u001b[38;5;124m\"\u001b[39m)\n\u001b[1;32m    500\u001b[0m \u001b[38;5;28;01mif\u001b[39;00m x\u001b[38;5;241m.\u001b[39mndim \u001b[38;5;241m>\u001b[39m \u001b[38;5;241m2\u001b[39m \u001b[38;5;129;01mor\u001b[39;00m y\u001b[38;5;241m.\u001b[39mndim \u001b[38;5;241m>\u001b[39m \u001b[38;5;241m2\u001b[39m:\n\u001b[1;32m    501\u001b[0m     \u001b[38;5;28;01mraise\u001b[39;00m \u001b[38;5;167;01mValueError\u001b[39;00m(\u001b[38;5;124mf\u001b[39m\u001b[38;5;124m\"\u001b[39m\u001b[38;5;124mx and y can be no greater than 2D, but have \u001b[39m\u001b[38;5;124m\"\u001b[39m\n\u001b[1;32m    502\u001b[0m                      \u001b[38;5;124mf\u001b[39m\u001b[38;5;124m\"\u001b[39m\u001b[38;5;124mshapes \u001b[39m\u001b[38;5;132;01m{\u001b[39;00mx\u001b[38;5;241m.\u001b[39mshape\u001b[38;5;132;01m}\u001b[39;00m\u001b[38;5;124m and \u001b[39m\u001b[38;5;132;01m{\u001b[39;00my\u001b[38;5;241m.\u001b[39mshape\u001b[38;5;132;01m}\u001b[39;00m\u001b[38;5;124m\"\u001b[39m)\n",
      "\u001b[0;31mValueError\u001b[0m: x and y must have same first dimension, but have shapes (200,) and (202,)"
     ]
    },
    {
     "data": {
      "image/png": "[encoded data removed]",
      "text/plain": [
       "<Figure size 640x480 with 1 Axes>"
      ]
     },
     "metadata": {},
     "output_type": "display_data"
    }
   ],
   "source": [
    "if train_diffusionmodel is False:\n",
    "    model.load_state_dict(torch.load(\"seg_model.pt\", map_location={\"cuda:0\": \"cpu\"}))\n",
    "else:\n",
    "    scaler = GradScaler()\n",
    "    total_start = time.time()\n",
    "    for epoch in range(n_epochs):\n",
    "        model.train()\n",
    "        epoch_loss = 0\n",
    "        indexes = list(torch.randperm(total_train_slices.shape[0]))  # shuffle training data new\n",
    "        data_train = total_train_slices[indexes]  # shuffle the training data\n",
    "        labels_train = total_train_labels[indexes]\n",
    "        subset_2D = zip(data_train.split(batch_size), labels_train.split(batch_size))\n",
    "        subset_2D_val = zip(total_val_slices.split(1), total_val_labels.split(1))  #\n",
    "        progress_bar = tqdm(enumerate(subset_2D), total=len(indexes) / batch_size)\n",
    "        progress_bar.set_description(f\"Epoch {epoch}\")\n",
    "        for step, (a, b) in progress_bar:\n",
    "            images = a.to(device)\n",
    "            seg = b.to(device)  #this is the ground truth segmentation\n",
    "            optimizer.zero_grad(set_to_none=True)\n",
    "            timesteps = torch.randint(0, 1000, (len(images),)).to(device)  # pick a random time step t\n",
    "            with autocast(enabled=True):\n",
    "                # Generate random noise\n",
    "                noise = torch.randn_like(seg).to(device)\n",
    "                noisy_seg = scheduler.add_noise(original_samples=seg, noise=noise, timesteps=timesteps)  #we only add noise to the segmentation mask\n",
    "                combined=torch.cat((images,noisy_seg), dim=1)                               #we concatenate the brain MR image with the noisy segmenatation mask, to condition the generation process\n",
    "                prediction = model(x=combined, timesteps=timesteps)\n",
    "                # Get model prediction \n",
    "                loss = F.mse_loss(prediction.float(), noise.float())\n",
    "            scaler.scale(loss).backward()\n",
    "            scaler.step(optimizer)\n",
    "            scaler.update()\n",
    "            epoch_loss += loss.item()\n",
    "            progress_bar.set_postfix(\n",
    "                {\n",
    "                    \"loss\": epoch_loss / (step + 1),\n",
    "                }\n",
    "            )\n",
    "        epoch_loss_list.append(epoch_loss / (step + 1))\n",
    "        if (epoch) % val_interval == 0:\n",
    "            model.eval()\n",
    "            val_epoch_loss = 0\n",
    "            progress_bar_val = tqdm(enumerate(subset_2D_val))\n",
    "            progress_bar.set_description(f\"Epoch {epoch}\")\n",
    "            for step, (a, b) in progress_bar_val:\n",
    "                images = a.to(device)\n",
    "                seg = b.to(device)\n",
    "                timesteps = torch.randint(0, 1000, (len(images),)).to(device)\n",
    "                with torch.no_grad():\n",
    "                    with autocast(enabled=True):\n",
    "                        noise = torch.randn_like(seg).to(device)\n",
    "                        noisy_seg = scheduler.add_noise(original_samples=seg, noise=noise, timesteps=timesteps)\n",
    "                        combined=torch.cat((images,noisy_seg), dim=1)\n",
    "                        prediction = model(x=combined, timesteps=timesteps)\n",
    "                        val_loss = F.mse_loss(prediction.float(), noise.float())\n",
    "                val_epoch_loss += val_loss.item()\n",
    "                progress_bar.set_postfix(\n",
    "                    {\n",
    "                        \"val_loss\": val_epoch_loss / (step + 1),\n",
    "                    }\n",
    "                )\n",
    "            val_epoch_loss_list.append(val_epoch_loss / (step + 1))\n",
    "    total_time = time.time() - total_start\n",
    "   # torch.save(model.state_dict(), \"./seg_model.pt\")  # save the trained model\n",
    "    print(f\"train diffusion completed, total time: {total_time}.\")\n",
    "    plt.style.use(\"seaborn-bright\")\n",
    "    plt.title(\"Learning Curves Diffusion Model\", fontsize=20)\n",
    "    plt.plot(np.linspace(1, n_epochs, n_epochs), epoch_loss_list, color=\"C0\", linewidth=2.0, label=\"Train\")\n",
    "    plt.plot(\n",
    "        np.linspace(val_interval, n_epochs, int(n_epochs / val_interval)),\n",
    "        val_epoch_loss_list,\n",
    "        color=\"C1\",\n",
    "        linewidth=2.0,\n",
    "        label=\"Validation\",\n",
    "    )\n",
    "    plt.yticks(fontsize=12)\n",
    "    plt.xticks(fontsize=12)\n",
    "    plt.xlabel(\"Epochs\", fontsize=16)\n",
    "    plt.ylabel(\"Loss\", fontsize=16)\n",
    "    plt.legend(prop={\"size\": 14})\n",
    "    plt.show()"
   ]
  },
  {
   "cell_type": "markdown",
   "metadata": {},
   "source": [
    "%% [markdown]<br>\n",
    "### Sampling of a new segmentation Mask for an input image of the validation set<br>\n",
    "\n"
   ]
  },
  {
   "cell_type": "markdown",
   "metadata": {},
   "source": [
    "%% jupyter={\"outputs_hidden\": false}"
   ]
  },
  {
   "cell_type": "code",
   "execution_count": 53,
   "metadata": {},
   "outputs": [
    {
     "data": {
      "image/png": "[encoded data removed]",
      "text/plain": [
       "<Figure size 640x480 with 1 Axes>"
      ]
     },
     "metadata": {},
     "output_type": "display_data"
    },
    {
     "data": {
      "image/png": "[encoded data removed]",
      "text/plain": [
       "<Figure size 640x480 with 1 Axes>"
      ]
     },
     "metadata": {},
     "output_type": "display_data"
    },
    {
     "data": {
      "text/plain": [
       "DiffusionModelUNet(\n",
       "  (conv_in): Convolution(\n",
       "    (conv): Conv2d(2, 64, kernel_size=(3, 3), stride=(1, 1), padding=(1, 1))\n",
       "  )\n",
       "  (time_embed): Sequential(\n",
       "    (0): Linear(in_features=64, out_features=256, bias=True)\n",
       "    (1): SiLU()\n",
       "    (2): Linear(in_features=256, out_features=256, bias=True)\n",
       "  )\n",
       "  (down_blocks): ModuleList(\n",
       "    (0): DownBlock(\n",
       "      (resnets): ModuleList(\n",
       "        (0): ResnetBlock(\n",
       "          (norm1): GroupNorm(32, 64, eps=1e-06, affine=True)\n",
       "          (nonlinearity): SiLU()\n",
       "          (conv1): Convolution(\n",
       "            (conv): Conv2d(64, 64, kernel_size=(3, 3), stride=(1, 1), padding=(1, 1))\n",
       "          )\n",
       "          (time_emb_proj): Linear(in_features=256, out_features=64, bias=True)\n",
       "          (norm2): GroupNorm(32, 64, eps=1e-06, affine=True)\n",
       "          (conv2): Convolution(\n",
       "            (conv): Conv2d(64, 64, kernel_size=(3, 3), stride=(1, 1), padding=(1, 1))\n",
       "          )\n",
       "          (skip_connection): Identity()\n",
       "        )\n",
       "      )\n",
       "      (downsampler): Downsample(\n",
       "        (op): Convolution(\n",
       "          (conv): Conv2d(64, 64, kernel_size=(3, 3), stride=(2, 2), padding=(1, 1))\n",
       "        )\n",
       "      )\n",
       "    )\n",
       "    (1): DownBlock(\n",
       "      (resnets): ModuleList(\n",
       "        (0): ResnetBlock(\n",
       "          (norm1): GroupNorm(32, 64, eps=1e-06, affine=True)\n",
       "          (nonlinearity): SiLU()\n",
       "          (conv1): Convolution(\n",
       "            (conv): Conv2d(64, 64, kernel_size=(3, 3), stride=(1, 1), padding=(1, 1))\n",
       "          )\n",
       "          (time_emb_proj): Linear(in_features=256, out_features=64, bias=True)\n",
       "          (norm2): GroupNorm(32, 64, eps=1e-06, affine=True)\n",
       "          (conv2): Convolution(\n",
       "            (conv): Conv2d(64, 64, kernel_size=(3, 3), stride=(1, 1), padding=(1, 1))\n",
       "          )\n",
       "          (skip_connection): Identity()\n",
       "        )\n",
       "      )\n",
       "      (downsampler): Downsample(\n",
       "        (op): Convolution(\n",
       "          (conv): Conv2d(64, 64, kernel_size=(3, 3), stride=(2, 2), padding=(1, 1))\n",
       "        )\n",
       "      )\n",
       "    )\n",
       "    (2): AttnDownBlock(\n",
       "      (attentions): ModuleList(\n",
       "        (0): AttentionBlock(\n",
       "          (norm): GroupNorm(32, 64, eps=1e-06, affine=True)\n",
       "          (to_q): Linear(in_features=64, out_features=64, bias=True)\n",
       "          (to_k): Linear(in_features=64, out_features=64, bias=True)\n",
       "          (to_v): Linear(in_features=64, out_features=64, bias=True)\n",
       "          (proj_attn): Linear(in_features=64, out_features=64, bias=True)\n",
       "        )\n",
       "      )\n",
       "      (resnets): ModuleList(\n",
       "        (0): ResnetBlock(\n",
       "          (norm1): GroupNorm(32, 64, eps=1e-06, affine=True)\n",
       "          (nonlinearity): SiLU()\n",
       "          (conv1): Convolution(\n",
       "            (conv): Conv2d(64, 64, kernel_size=(3, 3), stride=(1, 1), padding=(1, 1))\n",
       "          )\n",
       "          (time_emb_proj): Linear(in_features=256, out_features=64, bias=True)\n",
       "          (norm2): GroupNorm(32, 64, eps=1e-06, affine=True)\n",
       "          (conv2): Convolution(\n",
       "            (conv): Conv2d(64, 64, kernel_size=(3, 3), stride=(1, 1), padding=(1, 1))\n",
       "          )\n",
       "          (skip_connection): Identity()\n",
       "        )\n",
       "      )\n",
       "    )\n",
       "  )\n",
       "  (middle_block): AttnMidBlock(\n",
       "    (resnet_1): ResnetBlock(\n",
       "      (norm1): GroupNorm(32, 64, eps=1e-06, affine=True)\n",
       "      (nonlinearity): SiLU()\n",
       "      (conv1): Convolution(\n",
       "        (conv): Conv2d(64, 64, kernel_size=(3, 3), stride=(1, 1), padding=(1, 1))\n",
       "      )\n",
       "      (time_emb_proj): Linear(in_features=256, out_features=64, bias=True)\n",
       "      (norm2): GroupNorm(32, 64, eps=1e-06, affine=True)\n",
       "      (conv2): Convolution(\n",
       "        (conv): Conv2d(64, 64, kernel_size=(3, 3), stride=(1, 1), padding=(1, 1))\n",
       "      )\n",
       "      (skip_connection): Identity()\n",
       "    )\n",
       "    (attention): AttentionBlock(\n",
       "      (norm): GroupNorm(32, 64, eps=1e-06, affine=True)\n",
       "      (to_q): Linear(in_features=64, out_features=64, bias=True)\n",
       "      (to_k): Linear(in_features=64, out_features=64, bias=True)\n",
       "      (to_v): Linear(in_features=64, out_features=64, bias=True)\n",
       "      (proj_attn): Linear(in_features=64, out_features=64, bias=True)\n",
       "    )\n",
       "    (resnet_2): ResnetBlock(\n",
       "      (norm1): GroupNorm(32, 64, eps=1e-06, affine=True)\n",
       "      (nonlinearity): SiLU()\n",
       "      (conv1): Convolution(\n",
       "        (conv): Conv2d(64, 64, kernel_size=(3, 3), stride=(1, 1), padding=(1, 1))\n",
       "      )\n",
       "      (time_emb_proj): Linear(in_features=256, out_features=64, bias=True)\n",
       "      (norm2): GroupNorm(32, 64, eps=1e-06, affine=True)\n",
       "      (conv2): Convolution(\n",
       "        (conv): Conv2d(64, 64, kernel_size=(3, 3), stride=(1, 1), padding=(1, 1))\n",
       "      )\n",
       "      (skip_connection): Identity()\n",
       "    )\n",
       "  )\n",
       "  (up_blocks): ModuleList(\n",
       "    (0): AttnUpBlock(\n",
       "      (resnets): ModuleList(\n",
       "        (0): ResnetBlock(\n",
       "          (norm1): GroupNorm(32, 128, eps=1e-06, affine=True)\n",
       "          (nonlinearity): SiLU()\n",
       "          (conv1): Convolution(\n",
       "            (conv): Conv2d(128, 64, kernel_size=(3, 3), stride=(1, 1), padding=(1, 1))\n",
       "          )\n",
       "          (time_emb_proj): Linear(in_features=256, out_features=64, bias=True)\n",
       "          (norm2): GroupNorm(32, 64, eps=1e-06, affine=True)\n",
       "          (conv2): Convolution(\n",
       "            (conv): Conv2d(64, 64, kernel_size=(3, 3), stride=(1, 1), padding=(1, 1))\n",
       "          )\n",
       "          (skip_connection): Convolution(\n",
       "            (conv): Conv2d(128, 64, kernel_size=(1, 1), stride=(1, 1))\n",
       "          )\n",
       "        )\n",
       "        (1): ResnetBlock(\n",
       "          (norm1): GroupNorm(32, 128, eps=1e-06, affine=True)\n",
       "          (nonlinearity): SiLU()\n",
       "          (conv1): Convolution(\n",
       "            (conv): Conv2d(128, 64, kernel_size=(3, 3), stride=(1, 1), padding=(1, 1))\n",
       "          )\n",
       "          (time_emb_proj): Linear(in_features=256, out_features=64, bias=True)\n",
       "          (norm2): GroupNorm(32, 64, eps=1e-06, affine=True)\n",
       "          (conv2): Convolution(\n",
       "            (conv): Conv2d(64, 64, kernel_size=(3, 3), stride=(1, 1), padding=(1, 1))\n",
       "          )\n",
       "          (skip_connection): Convolution(\n",
       "            (conv): Conv2d(128, 64, kernel_size=(1, 1), stride=(1, 1))\n",
       "          )\n",
       "        )\n",
       "      )\n",
       "      (attentions): ModuleList(\n",
       "        (0): AttentionBlock(\n",
       "          (norm): GroupNorm(32, 64, eps=1e-06, affine=True)\n",
       "          (to_q): Linear(in_features=64, out_features=64, bias=True)\n",
       "          (to_k): Linear(in_features=64, out_features=64, bias=True)\n",
       "          (to_v): Linear(in_features=64, out_features=64, bias=True)\n",
       "          (proj_attn): Linear(in_features=64, out_features=64, bias=True)\n",
       "        )\n",
       "        (1): AttentionBlock(\n",
       "          (norm): GroupNorm(32, 64, eps=1e-06, affine=True)\n",
       "          (to_q): Linear(in_features=64, out_features=64, bias=True)\n",
       "          (to_k): Linear(in_features=64, out_features=64, bias=True)\n",
       "          (to_v): Linear(in_features=64, out_features=64, bias=True)\n",
       "          (proj_attn): Linear(in_features=64, out_features=64, bias=True)\n",
       "        )\n",
       "      )\n",
       "      (upsampler): Upsample(\n",
       "        (conv): Convolution(\n",
       "          (conv): Conv2d(64, 64, kernel_size=(3, 3), stride=(1, 1), padding=(1, 1))\n",
       "        )\n",
       "      )\n",
       "    )\n",
       "    (1): UpBlock(\n",
       "      (resnets): ModuleList(\n",
       "        (0): ResnetBlock(\n",
       "          (norm1): GroupNorm(32, 128, eps=1e-06, affine=True)\n",
       "          (nonlinearity): SiLU()\n",
       "          (conv1): Convolution(\n",
       "            (conv): Conv2d(128, 64, kernel_size=(3, 3), stride=(1, 1), padding=(1, 1))\n",
       "          )\n",
       "          (time_emb_proj): Linear(in_features=256, out_features=64, bias=True)\n",
       "          (norm2): GroupNorm(32, 64, eps=1e-06, affine=True)\n",
       "          (conv2): Convolution(\n",
       "            (conv): Conv2d(64, 64, kernel_size=(3, 3), stride=(1, 1), padding=(1, 1))\n",
       "          )\n",
       "          (skip_connection): Convolution(\n",
       "            (conv): Conv2d(128, 64, kernel_size=(1, 1), stride=(1, 1))\n",
       "          )\n",
       "        )\n",
       "        (1): ResnetBlock(\n",
       "          (norm1): GroupNorm(32, 128, eps=1e-06, affine=True)\n",
       "          (nonlinearity): SiLU()\n",
       "          (conv1): Convolution(\n",
       "            (conv): Conv2d(128, 64, kernel_size=(3, 3), stride=(1, 1), padding=(1, 1))\n",
       "          )\n",
       "          (time_emb_proj): Linear(in_features=256, out_features=64, bias=True)\n",
       "          (norm2): GroupNorm(32, 64, eps=1e-06, affine=True)\n",
       "          (conv2): Convolution(\n",
       "            (conv): Conv2d(64, 64, kernel_size=(3, 3), stride=(1, 1), padding=(1, 1))\n",
       "          )\n",
       "          (skip_connection): Convolution(\n",
       "            (conv): Conv2d(128, 64, kernel_size=(1, 1), stride=(1, 1))\n",
       "          )\n",
       "        )\n",
       "      )\n",
       "      (upsampler): Upsample(\n",
       "        (conv): Convolution(\n",
       "          (conv): Conv2d(64, 64, kernel_size=(3, 3), stride=(1, 1), padding=(1, 1))\n",
       "        )\n",
       "      )\n",
       "    )\n",
       "    (2): UpBlock(\n",
       "      (resnets): ModuleList(\n",
       "        (0): ResnetBlock(\n",
       "          (norm1): GroupNorm(32, 128, eps=1e-06, affine=True)\n",
       "          (nonlinearity): SiLU()\n",
       "          (conv1): Convolution(\n",
       "            (conv): Conv2d(128, 64, kernel_size=(3, 3), stride=(1, 1), padding=(1, 1))\n",
       "          )\n",
       "          (time_emb_proj): Linear(in_features=256, out_features=64, bias=True)\n",
       "          (norm2): GroupNorm(32, 64, eps=1e-06, affine=True)\n",
       "          (conv2): Convolution(\n",
       "            (conv): Conv2d(64, 64, kernel_size=(3, 3), stride=(1, 1), padding=(1, 1))\n",
       "          )\n",
       "          (skip_connection): Convolution(\n",
       "            (conv): Conv2d(128, 64, kernel_size=(1, 1), stride=(1, 1))\n",
       "          )\n",
       "        )\n",
       "        (1): ResnetBlock(\n",
       "          (norm1): GroupNorm(32, 128, eps=1e-06, affine=True)\n",
       "          (nonlinearity): SiLU()\n",
       "          (conv1): Convolution(\n",
       "            (conv): Conv2d(128, 64, kernel_size=(3, 3), stride=(1, 1), padding=(1, 1))\n",
       "          )\n",
       "          (time_emb_proj): Linear(in_features=256, out_features=64, bias=True)\n",
       "          (norm2): GroupNorm(32, 64, eps=1e-06, affine=True)\n",
       "          (conv2): Convolution(\n",
       "            (conv): Conv2d(64, 64, kernel_size=(3, 3), stride=(1, 1), padding=(1, 1))\n",
       "          )\n",
       "          (skip_connection): Convolution(\n",
       "            (conv): Conv2d(128, 64, kernel_size=(1, 1), stride=(1, 1))\n",
       "          )\n",
       "        )\n",
       "      )\n",
       "    )\n",
       "  )\n",
       "  (out): Sequential(\n",
       "    (0): GroupNorm(32, 64, eps=1e-06, affine=True)\n",
       "    (1): SiLU()\n",
       "    (2): Convolution(\n",
       "      (conv): Conv2d(64, 1, kernel_size=(3, 3), stride=(1, 1), padding=(1, 1))\n",
       "    )\n",
       "  )\n",
       ")"
      ]
     },
     "execution_count": 53,
     "metadata": {},
     "output_type": "execute_result"
    }
   ],
   "source": [
    "inputimg = total_val_slices[100][0,...]  # Pick an input slice of the validation set to be segmented  \n",
    "inputlabel= total_val_labels[100][0,...]     # Check out the ground truth label mask%% [markdown]\n",
    "\n",
    "plt.figure(\"input\"+str(inputlabel))\n",
    "plt.imshow(inputimg, vmin=0, vmax=1, cmap=\"gray\")\n",
    "plt.axis(\"off\")\n",
    "plt.tight_layout()\n",
    "plt.show()\n",
    "\n",
    "plt.figure(\"input\"+str(inputlabel))\n",
    "plt.imshow(inputlabel, vmin=0, vmax=1, cmap=\"gray\")\n",
    "plt.axis(\"off\")\n",
    "plt.tight_layout()\n",
    "plt.show()\n",
    "\n",
    "\n",
    "model.eval()\n",
    "\n"
   ]
  },
  {
   "cell_type": "code",
   "execution_count": 55,
   "metadata": {},
   "outputs": [],
   "source": [
    "input_img = inputimg[None, None, ...].to(device)\n",
    "noise = torch.randn_like(input_img).to(device)   #for the segmentation mask, we start from random noise\n",
    "current_img=noise\n",
    "combined=torch.cat((input_img,noise), dim=1)\n",
    "scheduler.set_timesteps(num_inference_steps=1000)"
   ]
  },
  {
   "cell_type": "code",
   "execution_count": 64,
   "metadata": {},
   "outputs": [
    {
     "name": "stderr",
     "output_type": "stream",
     "text": [
      " 10%|█████▏                                               | 97/1000 [00:02<00:18, 48.98it/s]"
     ]
    },
    {
     "data": {
      "image/png": "[encoded data removed]",
      "text/plain": [
       "<Figure size 640x480 with 1 Axes>"
      ]
     },
     "metadata": {},
     "output_type": "display_data"
    },
    {
     "name": "stderr",
     "output_type": "stream",
     "text": [
      " 20%|██████████▏                                         | 197/1000 [00:04<00:15, 50.26it/s]"
     ]
    },
    {
     "data": {
      "image/png": "[encoded data removed]",
      "text/plain": [
       "<Figure size 640x480 with 1 Axes>"
      ]
     },
     "metadata": {},
     "output_type": "display_data"
    },
    {
     "name": "stderr",
     "output_type": "stream",
     "text": [
      " 30%|███████████████▌                                    | 299/1000 [00:06<00:13, 50.97it/s]"
     ]
    },
    {
     "data": {
      "image/png": "[encoded data removed]",
      "text/plain": [
       "<Figure size 640x480 with 1 Axes>"
      ]
     },
     "metadata": {},
     "output_type": "display_data"
    },
    {
     "name": "stderr",
     "output_type": "stream",
     "text": [
      " 40%|████████████████████▌                               | 395/1000 [00:08<00:11, 50.92it/s]"
     ]
    },
    {
     "data": {
      "image/png": "[encoded data removed]",
      "text/plain": [
       "<Figure size 640x480 with 1 Axes>"
      ]
     },
     "metadata": {},
     "output_type": "display_data"
    },
    {
     "name": "stderr",
     "output_type": "stream",
     "text": [
      " 50%|█████████████████████████▊                          | 496/1000 [00:10<00:09, 50.74it/s]"
     ]
    },
    {
     "data": {
      "image/png": "[encoded data removed]",
      "text/plain": [
       "<Figure size 640x480 with 1 Axes>"
      ]
     },
     "metadata": {},
     "output_type": "display_data"
    },
    {
     "name": "stderr",
     "output_type": "stream",
     "text": [
      " 60%|██████████████████████████████▉                     | 596/1000 [00:12<00:07, 50.81it/s]"
     ]
    },
    {
     "data": {
      "image/png": "[encoded data removed]",
      "text/plain": [
       "<Figure size 640x480 with 1 Axes>"
      ]
     },
     "metadata": {},
     "output_type": "display_data"
    },
    {
     "name": "stderr",
     "output_type": "stream",
     "text": [
      " 70%|████████████████████████████████████▎               | 698/1000 [00:14<00:05, 50.48it/s]"
     ]
    },
    {
     "data": {
      "image/png": "[encoded data removed]",
      "text/plain": [
       "<Figure size 640x480 with 1 Axes>"
      ]
     },
     "metadata": {},
     "output_type": "display_data"
    },
    {
     "name": "stderr",
     "output_type": "stream",
     "text": [
      " 79%|█████████████████████████████████████████▎          | 794/1000 [00:16<00:04, 50.81it/s]"
     ]
    },
    {
     "data": {
      "image/png": "[encoded data removed]",
      "text/plain": [
       "<Figure size 640x480 with 1 Axes>"
      ]
     },
     "metadata": {},
     "output_type": "display_data"
    },
    {
     "name": "stderr",
     "output_type": "stream",
     "text": [
      " 89%|██████████████████████████████████████████████▍     | 894/1000 [00:18<00:02, 50.83it/s]"
     ]
    },
    {
     "data": {
      "image/png": "[encoded data removed]",
      "text/plain": [
       "<Figure size 640x480 with 1 Axes>"
      ]
     },
     "metadata": {},
     "output_type": "display_data"
    },
    {
     "name": "stderr",
     "output_type": "stream",
     "text": [
      " 99%|███████████████████████████████████████████████████▋| 994/1000 [00:20<00:00, 50.56it/s]"
     ]
    },
    {
     "data": {
      "image/png": "[encoded data removed]",
      "text/plain": [
       "<Figure size 640x480 with 1 Axes>"
      ]
     },
     "metadata": {},
     "output_type": "display_data"
    },
    {
     "name": "stderr",
     "output_type": "stream",
     "text": [
      "100%|███████████████████████████████████████████████████| 1000/1000 [00:20<00:00, 48.39it/s]\n"
     ]
    }
   ],
   "source": [
    "scheduler.set_timesteps(num_inference_steps=1000)\n",
    "progress_bar = tqdm(scheduler.timesteps)\n",
    "for t in progress_bar:  # go through the noising process\n",
    "    with autocast(enabled=False):\n",
    "        with torch.no_grad():\n",
    "            model_output = model(combined, timesteps=torch.Tensor((t,)).to(current_img.device))\n",
    "            current_img, _ = scheduler.step(model_output, t, current_img)   \n",
    "            if t%100==0:\n",
    "                plt.style.use(\"default\")\n",
    "                plt.imshow(current_img[0, 0].cpu(), vmin=0, vmax=1, cmap=\"gray\")\n",
    "                plt.tight_layout()\n",
    "                plt.axis(\"off\")\n",
    "                plt.show()\n",
    "            combined=torch.cat((input_img,current_img), dim=1)   #in every step during the denoising process, the brain MR image is concatenated to add anatomical information\n",
    "\n",
    "\n"
   ]
  },
  {
   "cell_type": "code",
   "execution_count": null,
   "metadata": {},
   "outputs": [],
   "source": [
    "%% [markdown]<br>\n",
    "### Segmentation prediction\n",
    "The predicted segmentation mask is obtained from the output of the diffusion model by thresholding\n",
    "\n"
   ]
  },
  {
   "cell_type": "code",
   "execution_count": 72,
   "metadata": {},
   "outputs": [
    {
     "name": "stdout",
     "output_type": "stream",
     "text": [
      "inptulabel torch.Size([64, 64])\n"
     ]
    },
    {
     "data": {
      "image/png": "[encoded data removed]",
      "text/plain": [
       "<Figure size 640x480 with 1 Axes>"
      ]
     },
     "metadata": {},
     "output_type": "display_data"
    },
    {
     "data": {
      "image/png": "[encoded data removed]",
      "text/plain": [
       "<Figure size 640x480 with 1 Axes>"
      ]
     },
     "metadata": {},
     "output_type": "display_data"
    }
   ],
   "source": [
    "print('inptulabel', inputlabel.shape)\n",
    "\n",
    "prediction=torch.zeros(current_img.shape)  #this is the output of the diffusion model after T=1000 denoising steps.\n",
    "prediction[current_img>0.5]=1   #a binary mask is obtained via thresholding\n",
    "\n",
    "plt.style.use(\"default\")\n",
    "plt.imshow(prediction[0, 0].cpu(), vmin=0, vmax=1, cmap=\"gray\")\n",
    "plt.tight_layout()\n",
    "plt.axis(\"off\")\n",
    "plt.show()\n",
    "\n",
    "plt.style.use(\"default\")\n",
    "plt.imshow(inputlabel.cpu(), vmin=0, vmax=1, cmap=\"gray\")\n",
    "plt.tight_layout()\n",
    "plt.axis(\"off\")\n",
    "plt.show()\n",
    "\n"
   ]
  },
  {
   "cell_type": "markdown",
   "metadata": {},
   "source": [
    "%% [markdown]<br>\n",
    "## Segmentation Performance<br>\n",
    "We compute the Dice score to evaluate the segmentation performance."
   ]
  },
  {
   "cell_type": "code",
   "execution_count": 82,
   "metadata": {},
   "outputs": [],
   "source": [
    "def dice_coeff(im1, im2, empty_score=1.0):\n",
    "\n",
    "    im1 = np.asarray(im1).astype(bool)\n",
    "    im2 = np.asarray(im2).astype(bool)\n",
    "\n",
    "    im_sum = im1.sum() + im2.sum()\n",
    "    if im_sum == 0:\n",
    "        return empty_score\n",
    "\n",
    "    # Compute Dice coefficient\n",
    "    intersection = np.logical_and(im1, im2)\n",
    "\n",
    "    return (2. * intersection.sum() / im_sum)\n"
   ]
  },
  {
   "cell_type": "code",
   "execution_count": 83,
   "metadata": {},
   "outputs": [
    {
     "name": "stdout",
     "output_type": "stream",
     "text": [
      "score 0.7272727272727273\n"
     ]
    }
   ],
   "source": [
    "score=dice_coeff(prediction[0, 0].cpu(), inputlabel.cpu())\n",
    "print('score', score)"
   ]
  },
  {
   "cell_type": "markdown",
   "metadata": {},
   "source": [
    "%% [markdown]<br>\n",
    "# Segmentation Scores<br>\n",
    "We compute the Dice scores over the validation set (this takes a while...)"
   ]
  },
  {
   "cell_type": "markdown",
   "metadata": {},
   "source": [
    "%%"
   ]
  },
  {
   "cell_type": "code",
   "execution_count": 95,
   "metadata": {},
   "outputs": [
    {
     "name": "stderr",
     "output_type": "stream",
     "text": [
      "subject 0: 100%|████████████████████████████████████████| 1000/1000 [00:18<00:00, 55.30it/s]\n"
     ]
    },
    {
     "name": "stdout",
     "output_type": "stream",
     "text": [
      "number 0 score 0.0\n"
     ]
    },
    {
     "name": "stderr",
     "output_type": "stream",
     "text": [
      "subject 1: 100%|████████████████████████████████████████| 1000/1000 [00:17<00:00, 56.30it/s]\n"
     ]
    },
    {
     "name": "stdout",
     "output_type": "stream",
     "text": [
      "number 1 score 0.0\n"
     ]
    },
    {
     "name": "stderr",
     "output_type": "stream",
     "text": [
      "subject 2: 100%|████████████████████████████████████████| 1000/1000 [00:18<00:00, 53.16it/s]\n"
     ]
    },
    {
     "name": "stdout",
     "output_type": "stream",
     "text": [
      "number 2 score 0.7933884297520661\n"
     ]
    },
    {
     "name": "stderr",
     "output_type": "stream",
     "text": [
      "subject 3: 100%|████████████████████████████████████████| 1000/1000 [00:18<00:00, 55.15it/s]\n"
     ]
    },
    {
     "name": "stdout",
     "output_type": "stream",
     "text": [
      "number 3 score 0.8950276243093923\n"
     ]
    },
    {
     "name": "stderr",
     "output_type": "stream",
     "text": [
      "subject 4: 100%|████████████████████████████████████████| 1000/1000 [00:17<00:00, 56.78it/s]\n"
     ]
    },
    {
     "name": "stdout",
     "output_type": "stream",
     "text": [
      "number 4 score 0.8858447488584474\n"
     ]
    },
    {
     "name": "stderr",
     "output_type": "stream",
     "text": [
      "subject 5: 100%|████████████████████████████████████████| 1000/1000 [00:17<00:00, 56.75it/s]\n"
     ]
    },
    {
     "name": "stdout",
     "output_type": "stream",
     "text": [
      "number 5 score 0.8898678414096917\n"
     ]
    },
    {
     "name": "stderr",
     "output_type": "stream",
     "text": [
      "subject 6: 100%|████████████████████████████████████████| 1000/1000 [00:17<00:00, 56.65it/s]\n"
     ]
    },
    {
     "name": "stdout",
     "output_type": "stream",
     "text": [
      "number 6 score 0.8852459016393442\n"
     ]
    },
    {
     "name": "stderr",
     "output_type": "stream",
     "text": [
      "subject 7: 100%|████████████████████████████████████████| 1000/1000 [00:17<00:00, 56.85it/s]\n"
     ]
    },
    {
     "name": "stdout",
     "output_type": "stream",
     "text": [
      "number 7 score 0.8461538461538461\n"
     ]
    },
    {
     "name": "stderr",
     "output_type": "stream",
     "text": [
      "subject 8: 100%|████████████████████████████████████████| 1000/1000 [00:17<00:00, 56.92it/s]\n"
     ]
    },
    {
     "name": "stdout",
     "output_type": "stream",
     "text": [
      "number 8 score 0.9163636363636364\n"
     ]
    },
    {
     "name": "stderr",
     "output_type": "stream",
     "text": [
      "subject 9: 100%|████████████████████████████████████████| 1000/1000 [00:17<00:00, 56.18it/s]\n"
     ]
    },
    {
     "name": "stdout",
     "output_type": "stream",
     "text": [
      "number 9 score 0.9309090909090909\n"
     ]
    },
    {
     "name": "stderr",
     "output_type": "stream",
     "text": [
      "subject 10: 100%|███████████████████████████████████████| 1000/1000 [00:17<00:00, 56.84it/s]\n"
     ]
    },
    {
     "name": "stdout",
     "output_type": "stream",
     "text": [
      "number 10 score 0.927536231884058\n"
     ]
    },
    {
     "name": "stderr",
     "output_type": "stream",
     "text": [
      "subject 11: 100%|███████████████████████████████████████| 1000/1000 [00:17<00:00, 56.27it/s]\n"
     ]
    },
    {
     "name": "stdout",
     "output_type": "stream",
     "text": [
      "number 11 score 0.9144981412639405\n"
     ]
    },
    {
     "name": "stderr",
     "output_type": "stream",
     "text": [
      "subject 12: 100%|███████████████████████████████████████| 1000/1000 [00:17<00:00, 56.64it/s]\n"
     ]
    },
    {
     "name": "stdout",
     "output_type": "stream",
     "text": [
      "number 12 score 0.9411764705882353\n"
     ]
    },
    {
     "name": "stderr",
     "output_type": "stream",
     "text": [
      "subject 13: 100%|███████████████████████████████████████| 1000/1000 [00:17<00:00, 56.73it/s]\n"
     ]
    },
    {
     "name": "stdout",
     "output_type": "stream",
     "text": [
      "number 13 score 0.8968253968253969\n"
     ]
    },
    {
     "name": "stderr",
     "output_type": "stream",
     "text": [
      "subject 14: 100%|███████████████████████████████████████| 1000/1000 [00:17<00:00, 57.11it/s]\n"
     ]
    },
    {
     "name": "stdout",
     "output_type": "stream",
     "text": [
      "number 14 score 0.897119341563786\n"
     ]
    },
    {
     "name": "stderr",
     "output_type": "stream",
     "text": [
      "subject 15: 100%|███████████████████████████████████████| 1000/1000 [00:17<00:00, 56.80it/s]\n"
     ]
    },
    {
     "name": "stdout",
     "output_type": "stream",
     "text": [
      "number 15 score 0.9210526315789473\n"
     ]
    },
    {
     "name": "stderr",
     "output_type": "stream",
     "text": [
      "subject 16: 100%|███████████████████████████████████████| 1000/1000 [00:17<00:00, 56.13it/s]\n"
     ]
    },
    {
     "name": "stdout",
     "output_type": "stream",
     "text": [
      "number 16 score 0.8729281767955801\n"
     ]
    },
    {
     "name": "stderr",
     "output_type": "stream",
     "text": [
      "subject 17: 100%|███████████████████████████████████████| 1000/1000 [00:17<00:00, 56.27it/s]\n"
     ]
    },
    {
     "name": "stdout",
     "output_type": "stream",
     "text": [
      "number 17 score 0.9014084507042254\n"
     ]
    },
    {
     "name": "stderr",
     "output_type": "stream",
     "text": [
      "subject 18: 100%|███████████████████████████████████████| 1000/1000 [00:17<00:00, 56.54it/s]\n"
     ]
    },
    {
     "name": "stdout",
     "output_type": "stream",
     "text": [
      "number 18 score 0.7663551401869159\n"
     ]
    },
    {
     "name": "stderr",
     "output_type": "stream",
     "text": [
      "subject 19: 100%|███████████████████████████████████████| 1000/1000 [00:17<00:00, 56.52it/s]\n"
     ]
    },
    {
     "name": "stdout",
     "output_type": "stream",
     "text": [
      "number 19 score 0.0\n"
     ]
    },
    {
     "name": "stderr",
     "output_type": "stream",
     "text": [
      "subject 20: 100%|███████████████████████████████████████| 1000/1000 [00:17<00:00, 56.02it/s]\n"
     ]
    },
    {
     "name": "stdout",
     "output_type": "stream",
     "text": [
      "number 20 score 0.0\n"
     ]
    },
    {
     "name": "stderr",
     "output_type": "stream",
     "text": [
      "subject 21: 100%|███████████████████████████████████████| 1000/1000 [00:17<00:00, 55.61it/s]\n"
     ]
    },
    {
     "name": "stdout",
     "output_type": "stream",
     "text": [
      "number 21 score 0.0\n"
     ]
    },
    {
     "name": "stderr",
     "output_type": "stream",
     "text": [
      "subject 22: 100%|███████████████████████████████████████| 1000/1000 [00:17<00:00, 56.37it/s]\n"
     ]
    },
    {
     "name": "stdout",
     "output_type": "stream",
     "text": [
      "number 22 score 0.0\n"
     ]
    },
    {
     "name": "stderr",
     "output_type": "stream",
     "text": [
      "subject 23: 100%|███████████████████████████████████████| 1000/1000 [00:17<00:00, 56.17it/s]\n"
     ]
    },
    {
     "name": "stdout",
     "output_type": "stream",
     "text": [
      "number 23 score 0.0\n"
     ]
    },
    {
     "name": "stderr",
     "output_type": "stream",
     "text": [
      "subject 24: 100%|███████████████████████████████████████| 1000/1000 [00:17<00:00, 56.70it/s]\n"
     ]
    },
    {
     "name": "stdout",
     "output_type": "stream",
     "text": [
      "number 24 score 0.029411764705882353\n"
     ]
    },
    {
     "name": "stderr",
     "output_type": "stream",
     "text": [
      "subject 25: 100%|███████████████████████████████████████| 1000/1000 [00:17<00:00, 56.61it/s]\n"
     ]
    },
    {
     "name": "stdout",
     "output_type": "stream",
     "text": [
      "number 25 score 0.46846846846846846\n"
     ]
    },
    {
     "name": "stderr",
     "output_type": "stream",
     "text": [
      "subject 26: 100%|███████████████████████████████████████| 1000/1000 [00:17<00:00, 57.00it/s]\n"
     ]
    },
    {
     "name": "stdout",
     "output_type": "stream",
     "text": [
      "number 26 score 0.5608465608465608\n"
     ]
    },
    {
     "name": "stderr",
     "output_type": "stream",
     "text": [
      "subject 27: 100%|███████████████████████████████████████| 1000/1000 [00:17<00:00, 57.03it/s]\n"
     ]
    },
    {
     "name": "stdout",
     "output_type": "stream",
     "text": [
      "number 27 score 0.6604651162790698\n"
     ]
    },
    {
     "name": "stderr",
     "output_type": "stream",
     "text": [
      "subject 28: 100%|███████████████████████████████████████| 1000/1000 [00:17<00:00, 56.98it/s]\n"
     ]
    },
    {
     "name": "stdout",
     "output_type": "stream",
     "text": [
      "number 28 score 0.6274509803921569\n"
     ]
    },
    {
     "name": "stderr",
     "output_type": "stream",
     "text": [
      "subject 29: 100%|███████████████████████████████████████| 1000/1000 [00:17<00:00, 57.03it/s]\n"
     ]
    },
    {
     "name": "stdout",
     "output_type": "stream",
     "text": [
      "number 29 score 0.6369047619047619\n"
     ]
    },
    {
     "name": "stderr",
     "output_type": "stream",
     "text": [
      "subject 30: 100%|███████████████████████████████████████| 1000/1000 [00:17<00:00, 57.02it/s]\n"
     ]
    },
    {
     "name": "stdout",
     "output_type": "stream",
     "text": [
      "number 30 score 0.6798029556650246\n"
     ]
    },
    {
     "name": "stderr",
     "output_type": "stream",
     "text": [
      "subject 31: 100%|███████████████████████████████████████| 1000/1000 [00:17<00:00, 56.87it/s]\n"
     ]
    },
    {
     "name": "stdout",
     "output_type": "stream",
     "text": [
      "number 31 score 0.7116564417177914\n"
     ]
    },
    {
     "name": "stderr",
     "output_type": "stream",
     "text": [
      "subject 32: 100%|███████████████████████████████████████| 1000/1000 [00:17<00:00, 56.97it/s]\n"
     ]
    },
    {
     "name": "stdout",
     "output_type": "stream",
     "text": [
      "number 32 score 0.8163934426229508\n"
     ]
    },
    {
     "name": "stderr",
     "output_type": "stream",
     "text": [
      "subject 33: 100%|███████████████████████████████████████| 1000/1000 [00:17<00:00, 56.60it/s]\n"
     ]
    },
    {
     "name": "stdout",
     "output_type": "stream",
     "text": [
      "number 33 score 0.8459302325581395\n"
     ]
    },
    {
     "name": "stderr",
     "output_type": "stream",
     "text": [
      "subject 34: 100%|███████████████████████████████████████| 1000/1000 [00:17<00:00, 56.99it/s]\n"
     ]
    },
    {
     "name": "stdout",
     "output_type": "stream",
     "text": [
      "number 34 score 0.9181208053691275\n"
     ]
    },
    {
     "name": "stderr",
     "output_type": "stream",
     "text": [
      "subject 35: 100%|███████████████████████████████████████| 1000/1000 [00:17<00:00, 56.71it/s]\n"
     ]
    },
    {
     "name": "stdout",
     "output_type": "stream",
     "text": [
      "number 35 score 0.9299191374663073\n"
     ]
    },
    {
     "name": "stderr",
     "output_type": "stream",
     "text": [
      "subject 36: 100%|███████████████████████████████████████| 1000/1000 [00:17<00:00, 57.00it/s]\n"
     ]
    },
    {
     "name": "stdout",
     "output_type": "stream",
     "text": [
      "number 36 score 0.9137466307277629\n"
     ]
    },
    {
     "name": "stderr",
     "output_type": "stream",
     "text": [
      "subject 37: 100%|███████████████████████████████████████| 1000/1000 [00:17<00:00, 56.93it/s]\n"
     ]
    },
    {
     "name": "stdout",
     "output_type": "stream",
     "text": [
      "number 37 score 0.9197860962566845\n"
     ]
    },
    {
     "name": "stderr",
     "output_type": "stream",
     "text": [
      "subject 38: 100%|███████████████████████████████████████| 1000/1000 [00:17<00:00, 56.66it/s]\n"
     ]
    },
    {
     "name": "stdout",
     "output_type": "stream",
     "text": [
      "number 38 score 0.8990578734858681\n"
     ]
    },
    {
     "name": "stderr",
     "output_type": "stream",
     "text": [
      "subject 39: 100%|███████████████████████████████████████| 1000/1000 [00:17<00:00, 57.01it/s]\n"
     ]
    },
    {
     "name": "stdout",
     "output_type": "stream",
     "text": [
      "number 39 score 0.8772919605077574\n"
     ]
    },
    {
     "name": "stderr",
     "output_type": "stream",
     "text": [
      "subject 40: 100%|███████████████████████████████████████| 1000/1000 [00:17<00:00, 56.20it/s]\n"
     ]
    },
    {
     "name": "stdout",
     "output_type": "stream",
     "text": [
      "number 40 score 0.835820895522388\n"
     ]
    },
    {
     "name": "stderr",
     "output_type": "stream",
     "text": [
      "subject 41: 100%|███████████████████████████████████████| 1000/1000 [00:17<00:00, 56.93it/s]\n"
     ]
    },
    {
     "name": "stdout",
     "output_type": "stream",
     "text": [
      "number 41 score 0.8424242424242424\n"
     ]
    },
    {
     "name": "stderr",
     "output_type": "stream",
     "text": [
      "subject 42: 100%|███████████████████████████████████████| 1000/1000 [00:17<00:00, 56.95it/s]\n"
     ]
    },
    {
     "name": "stdout",
     "output_type": "stream",
     "text": [
      "number 42 score 0.8273615635179153\n"
     ]
    },
    {
     "name": "stderr",
     "output_type": "stream",
     "text": [
      "subject 43: 100%|███████████████████████████████████████| 1000/1000 [00:17<00:00, 57.02it/s]\n"
     ]
    },
    {
     "name": "stdout",
     "output_type": "stream",
     "text": [
      "number 43 score 0.7964912280701755\n"
     ]
    },
    {
     "name": "stderr",
     "output_type": "stream",
     "text": [
      "subject 44: 100%|███████████████████████████████████████| 1000/1000 [00:17<00:00, 56.77it/s]\n"
     ]
    },
    {
     "name": "stdout",
     "output_type": "stream",
     "text": [
      "number 44 score 0.8542024013722127\n"
     ]
    },
    {
     "name": "stderr",
     "output_type": "stream",
     "text": [
      "subject 45: 100%|███████████████████████████████████████| 1000/1000 [00:17<00:00, 57.06it/s]\n"
     ]
    },
    {
     "name": "stdout",
     "output_type": "stream",
     "text": [
      "number 45 score 0.8587155963302753\n"
     ]
    },
    {
     "name": "stderr",
     "output_type": "stream",
     "text": [
      "subject 46: 100%|███████████████████████████████████████| 1000/1000 [00:17<00:00, 56.55it/s]\n"
     ]
    },
    {
     "name": "stdout",
     "output_type": "stream",
     "text": [
      "number 46 score 0.8313725490196079\n"
     ]
    },
    {
     "name": "stderr",
     "output_type": "stream",
     "text": [
      "subject 47: 100%|███████████████████████████████████████| 1000/1000 [00:17<00:00, 56.98it/s]\n"
     ]
    },
    {
     "name": "stdout",
     "output_type": "stream",
     "text": [
      "number 47 score 0.8619246861924686\n"
     ]
    },
    {
     "name": "stderr",
     "output_type": "stream",
     "text": [
      "subject 48: 100%|███████████████████████████████████████| 1000/1000 [00:17<00:00, 56.96it/s]\n"
     ]
    },
    {
     "name": "stdout",
     "output_type": "stream",
     "text": [
      "number 48 score 0.8416075650118203\n"
     ]
    },
    {
     "name": "stderr",
     "output_type": "stream",
     "text": [
      "subject 49: 100%|███████████████████████████████████████| 1000/1000 [00:17<00:00, 57.03it/s]\n"
     ]
    },
    {
     "name": "stdout",
     "output_type": "stream",
     "text": [
      "number 49 score 0.8372093023255814\n"
     ]
    },
    {
     "name": "stderr",
     "output_type": "stream",
     "text": [
      "subject 50: 100%|███████████████████████████████████████| 1000/1000 [00:17<00:00, 57.02it/s]\n"
     ]
    },
    {
     "name": "stdout",
     "output_type": "stream",
     "text": [
      "number 50 score 0.8414634146341463\n"
     ]
    },
    {
     "name": "stderr",
     "output_type": "stream",
     "text": [
      "subject 51: 100%|███████████████████████████████████████| 1000/1000 [00:17<00:00, 57.00it/s]\n"
     ]
    },
    {
     "name": "stdout",
     "output_type": "stream",
     "text": [
      "number 51 score 0.896551724137931\n"
     ]
    },
    {
     "name": "stderr",
     "output_type": "stream",
     "text": [
      "subject 52: 100%|███████████████████████████████████████| 1000/1000 [00:17<00:00, 56.81it/s]\n"
     ]
    },
    {
     "name": "stdout",
     "output_type": "stream",
     "text": [
      "number 52 score 0.925764192139738\n"
     ]
    },
    {
     "name": "stderr",
     "output_type": "stream",
     "text": [
      "subject 53: 100%|███████████████████████████████████████| 1000/1000 [00:17<00:00, 56.79it/s]\n"
     ]
    },
    {
     "name": "stdout",
     "output_type": "stream",
     "text": [
      "number 53 score 0.918918918918919\n"
     ]
    },
    {
     "name": "stderr",
     "output_type": "stream",
     "text": [
      "subject 54: 100%|███████████████████████████████████████| 1000/1000 [00:17<00:00, 56.18it/s]\n"
     ]
    },
    {
     "name": "stdout",
     "output_type": "stream",
     "text": [
      "number 54 score 0.7933884297520661\n"
     ]
    },
    {
     "name": "stderr",
     "output_type": "stream",
     "text": [
      "subject 55: 100%|███████████████████████████████████████| 1000/1000 [00:17<00:00, 56.99it/s]\n"
     ]
    },
    {
     "name": "stdout",
     "output_type": "stream",
     "text": [
      "number 55 score 0.7164179104477612\n"
     ]
    },
    {
     "name": "stderr",
     "output_type": "stream",
     "text": [
      "subject 56: 100%|███████████████████████████████████████| 1000/1000 [00:17<00:00, 56.89it/s]\n"
     ]
    },
    {
     "name": "stdout",
     "output_type": "stream",
     "text": [
      "number 56 score 0.0\n"
     ]
    },
    {
     "name": "stderr",
     "output_type": "stream",
     "text": [
      "subject 57: 100%|███████████████████████████████████████| 1000/1000 [00:17<00:00, 56.93it/s]\n"
     ]
    },
    {
     "name": "stdout",
     "output_type": "stream",
     "text": [
      "number 57 score 0.0\n"
     ]
    },
    {
     "name": "stderr",
     "output_type": "stream",
     "text": [
      "subject 58: 100%|███████████████████████████████████████| 1000/1000 [00:17<00:00, 56.68it/s]\n"
     ]
    },
    {
     "name": "stdout",
     "output_type": "stream",
     "text": [
      "number 58 score 0.0\n"
     ]
    },
    {
     "name": "stderr",
     "output_type": "stream",
     "text": [
      "subject 59: 100%|███████████████████████████████████████| 1000/1000 [00:17<00:00, 56.92it/s]\n"
     ]
    },
    {
     "name": "stdout",
     "output_type": "stream",
     "text": [
      "number 59 score 0.0\n"
     ]
    },
    {
     "name": "stderr",
     "output_type": "stream",
     "text": [
      "subject 60: 100%|███████████████████████████████████████| 1000/1000 [00:17<00:00, 56.74it/s]\n"
     ]
    },
    {
     "name": "stdout",
     "output_type": "stream",
     "text": [
      "number 60 score 0.0\n"
     ]
    },
    {
     "name": "stderr",
     "output_type": "stream",
     "text": [
      "subject 61: 100%|███████████████████████████████████████| 1000/1000 [00:17<00:00, 56.79it/s]\n"
     ]
    },
    {
     "name": "stdout",
     "output_type": "stream",
     "text": [
      "number 61 score 0.0\n"
     ]
    },
    {
     "name": "stderr",
     "output_type": "stream",
     "text": [
      "subject 62: 100%|███████████████████████████████████████| 1000/1000 [00:17<00:00, 56.99it/s]\n"
     ]
    },
    {
     "name": "stdout",
     "output_type": "stream",
     "text": [
      "number 62 score 0.0\n"
     ]
    },
    {
     "name": "stderr",
     "output_type": "stream",
     "text": [
      "subject 63: 100%|███████████████████████████████████████| 1000/1000 [00:17<00:00, 56.82it/s]\n"
     ]
    },
    {
     "name": "stdout",
     "output_type": "stream",
     "text": [
      "number 63 score 0.0\n"
     ]
    },
    {
     "name": "stderr",
     "output_type": "stream",
     "text": [
      "subject 64: 100%|███████████████████████████████████████| 1000/1000 [00:17<00:00, 56.82it/s]\n"
     ]
    },
    {
     "name": "stdout",
     "output_type": "stream",
     "text": [
      "number 64 score 0.0\n"
     ]
    },
    {
     "name": "stderr",
     "output_type": "stream",
     "text": [
      "subject 65: 100%|███████████████████████████████████████| 1000/1000 [00:17<00:00, 56.79it/s]\n"
     ]
    },
    {
     "name": "stdout",
     "output_type": "stream",
     "text": [
      "number 65 score 0.0\n"
     ]
    },
    {
     "name": "stderr",
     "output_type": "stream",
     "text": [
      "subject 66: 100%|███████████████████████████████████████| 1000/1000 [00:17<00:00, 56.86it/s]\n"
     ]
    },
    {
     "name": "stdout",
     "output_type": "stream",
     "text": [
      "number 66 score 0.43373493975903615\n"
     ]
    },
    {
     "name": "stderr",
     "output_type": "stream",
     "text": [
      "subject 67: 100%|███████████████████████████████████████| 1000/1000 [00:17<00:00, 56.75it/s]\n"
     ]
    },
    {
     "name": "stdout",
     "output_type": "stream",
     "text": [
      "number 67 score 0.48854961832061067\n"
     ]
    },
    {
     "name": "stderr",
     "output_type": "stream",
     "text": [
      "subject 68: 100%|███████████████████████████████████████| 1000/1000 [00:17<00:00, 56.93it/s]\n"
     ]
    },
    {
     "name": "stdout",
     "output_type": "stream",
     "text": [
      "number 68 score 0.7085714285714285\n"
     ]
    },
    {
     "name": "stderr",
     "output_type": "stream",
     "text": [
      "subject 69: 100%|███████████████████████████████████████| 1000/1000 [00:17<00:00, 56.65it/s]\n"
     ]
    },
    {
     "name": "stdout",
     "output_type": "stream",
     "text": [
      "number 69 score 0.7692307692307693\n"
     ]
    },
    {
     "name": "stderr",
     "output_type": "stream",
     "text": [
      "subject 70: 100%|███████████████████████████████████████| 1000/1000 [00:17<00:00, 56.75it/s]\n"
     ]
    },
    {
     "name": "stdout",
     "output_type": "stream",
     "text": [
      "number 70 score 0.74235807860262\n"
     ]
    },
    {
     "name": "stderr",
     "output_type": "stream",
     "text": [
      "subject 71: 100%|███████████████████████████████████████| 1000/1000 [00:17<00:00, 56.73it/s]\n"
     ]
    },
    {
     "name": "stdout",
     "output_type": "stream",
     "text": [
      "number 71 score 0.8592592592592593\n"
     ]
    },
    {
     "name": "stderr",
     "output_type": "stream",
     "text": [
      "subject 72: 100%|███████████████████████████████████████| 1000/1000 [00:17<00:00, 56.94it/s]\n"
     ]
    },
    {
     "name": "stdout",
     "output_type": "stream",
     "text": [
      "number 72 score 0.9245901639344263\n"
     ]
    },
    {
     "name": "stderr",
     "output_type": "stream",
     "text": [
      "subject 73: 100%|███████████████████████████████████████| 1000/1000 [00:17<00:00, 56.85it/s]\n"
     ]
    },
    {
     "name": "stdout",
     "output_type": "stream",
     "text": [
      "number 73 score 0.8761904761904762\n"
     ]
    },
    {
     "name": "stderr",
     "output_type": "stream",
     "text": [
      "subject 74: 100%|███████████████████████████████████████| 1000/1000 [00:17<00:00, 56.67it/s]\n"
     ]
    },
    {
     "name": "stdout",
     "output_type": "stream",
     "text": [
      "number 74 score 0.8754208754208754\n"
     ]
    },
    {
     "name": "stderr",
     "output_type": "stream",
     "text": [
      "subject 75: 100%|███████████████████████████████████████| 1000/1000 [00:17<00:00, 56.92it/s]\n"
     ]
    },
    {
     "name": "stdout",
     "output_type": "stream",
     "text": [
      "number 75 score 0.8745247148288974\n"
     ]
    },
    {
     "name": "stderr",
     "output_type": "stream",
     "text": [
      "subject 76: 100%|███████████████████████████████████████| 1000/1000 [00:17<00:00, 56.97it/s]\n"
     ]
    },
    {
     "name": "stdout",
     "output_type": "stream",
     "text": [
      "number 76 score 0.8796680497925311\n"
     ]
    },
    {
     "name": "stderr",
     "output_type": "stream",
     "text": [
      "subject 77: 100%|███████████████████████████████████████| 1000/1000 [00:17<00:00, 57.10it/s]\n"
     ]
    },
    {
     "name": "stdout",
     "output_type": "stream",
     "text": [
      "number 77 score 0.8042328042328042\n"
     ]
    },
    {
     "name": "stderr",
     "output_type": "stream",
     "text": [
      "subject 78: 100%|███████████████████████████████████████| 1000/1000 [00:17<00:00, 56.75it/s]\n"
     ]
    },
    {
     "name": "stdout",
     "output_type": "stream",
     "text": [
      "number 78 score 0.7785234899328859\n"
     ]
    },
    {
     "name": "stderr",
     "output_type": "stream",
     "text": [
      "subject 79: 100%|███████████████████████████████████████| 1000/1000 [00:17<00:00, 56.87it/s]\n"
     ]
    },
    {
     "name": "stdout",
     "output_type": "stream",
     "text": [
      "number 79 score 0.7407407407407407\n"
     ]
    },
    {
     "name": "stderr",
     "output_type": "stream",
     "text": [
      "subject 80: 100%|███████████████████████████████████████| 1000/1000 [00:17<00:00, 56.98it/s]\n"
     ]
    },
    {
     "name": "stdout",
     "output_type": "stream",
     "text": [
      "number 80 score 0.5\n"
     ]
    },
    {
     "name": "stderr",
     "output_type": "stream",
     "text": [
      "subject 81: 100%|███████████████████████████████████████| 1000/1000 [00:17<00:00, 56.73it/s]\n"
     ]
    },
    {
     "name": "stdout",
     "output_type": "stream",
     "text": [
      "number 81 score 0.0\n"
     ]
    },
    {
     "name": "stderr",
     "output_type": "stream",
     "text": [
      "subject 82: 100%|███████████████████████████████████████| 1000/1000 [00:17<00:00, 56.81it/s]\n"
     ]
    },
    {
     "name": "stdout",
     "output_type": "stream",
     "text": [
      "number 82 score 0.0\n"
     ]
    },
    {
     "name": "stderr",
     "output_type": "stream",
     "text": [
      "subject 83: 100%|███████████████████████████████████████| 1000/1000 [00:17<00:00, 56.52it/s]\n"
     ]
    },
    {
     "name": "stdout",
     "output_type": "stream",
     "text": [
      "number 83 score 0.0\n"
     ]
    },
    {
     "name": "stderr",
     "output_type": "stream",
     "text": [
      "subject 84: 100%|███████████████████████████████████████| 1000/1000 [00:17<00:00, 56.96it/s]\n"
     ]
    },
    {
     "name": "stdout",
     "output_type": "stream",
     "text": [
      "number 84 score 0.0\n"
     ]
    },
    {
     "name": "stderr",
     "output_type": "stream",
     "text": [
      "subject 85: 100%|███████████████████████████████████████| 1000/1000 [00:17<00:00, 56.79it/s]\n"
     ]
    },
    {
     "name": "stdout",
     "output_type": "stream",
     "text": [
      "number 85 score 0.0\n"
     ]
    },
    {
     "name": "stderr",
     "output_type": "stream",
     "text": [
      "subject 86: 100%|███████████████████████████████████████| 1000/1000 [00:17<00:00, 56.76it/s]\n"
     ]
    },
    {
     "name": "stdout",
     "output_type": "stream",
     "text": [
      "number 86 score 0.0\n"
     ]
    },
    {
     "name": "stderr",
     "output_type": "stream",
     "text": [
      "subject 87: 100%|███████████████████████████████████████| 1000/1000 [00:17<00:00, 56.89it/s]\n"
     ]
    },
    {
     "name": "stdout",
     "output_type": "stream",
     "text": [
      "number 87 score 0.0\n"
     ]
    },
    {
     "name": "stderr",
     "output_type": "stream",
     "text": [
      "subject 88: 100%|███████████████████████████████████████| 1000/1000 [00:17<00:00, 56.84it/s]\n"
     ]
    },
    {
     "name": "stdout",
     "output_type": "stream",
     "text": [
      "number 88 score 0.0\n"
     ]
    },
    {
     "name": "stderr",
     "output_type": "stream",
     "text": [
      "subject 89: 100%|███████████████████████████████████████| 1000/1000 [00:17<00:00, 56.86it/s]\n"
     ]
    },
    {
     "name": "stdout",
     "output_type": "stream",
     "text": [
      "number 89 score 0.0\n"
     ]
    },
    {
     "name": "stderr",
     "output_type": "stream",
     "text": [
      "subject 90: 100%|███████████████████████████████████████| 1000/1000 [00:17<00:00, 56.64it/s]\n"
     ]
    },
    {
     "name": "stdout",
     "output_type": "stream",
     "text": [
      "number 90 score 0.0\n"
     ]
    },
    {
     "name": "stderr",
     "output_type": "stream",
     "text": [
      "subject 91: 100%|███████████████████████████████████████| 1000/1000 [00:17<00:00, 56.44it/s]\n"
     ]
    },
    {
     "name": "stdout",
     "output_type": "stream",
     "text": [
      "number 91 score 0.0\n"
     ]
    },
    {
     "name": "stderr",
     "output_type": "stream",
     "text": [
      "subject 92: 100%|███████████████████████████████████████| 1000/1000 [00:17<00:00, 56.38it/s]\n"
     ]
    },
    {
     "name": "stdout",
     "output_type": "stream",
     "text": [
      "number 92 score 0.0\n"
     ]
    },
    {
     "name": "stderr",
     "output_type": "stream",
     "text": [
      "subject 93: 100%|███████████████████████████████████████| 1000/1000 [00:17<00:00, 56.76it/s]\n"
     ]
    },
    {
     "name": "stdout",
     "output_type": "stream",
     "text": [
      "number 93 score 0.0\n"
     ]
    },
    {
     "name": "stderr",
     "output_type": "stream",
     "text": [
      "subject 94: 100%|███████████████████████████████████████| 1000/1000 [00:17<00:00, 56.87it/s]\n"
     ]
    },
    {
     "name": "stdout",
     "output_type": "stream",
     "text": [
      "number 94 score 0.0\n"
     ]
    },
    {
     "name": "stderr",
     "output_type": "stream",
     "text": [
      "subject 95: 100%|███████████████████████████████████████| 1000/1000 [00:17<00:00, 56.83it/s]\n"
     ]
    },
    {
     "name": "stdout",
     "output_type": "stream",
     "text": [
      "number 95 score 0.0\n"
     ]
    },
    {
     "name": "stderr",
     "output_type": "stream",
     "text": [
      "subject 96: 100%|███████████████████████████████████████| 1000/1000 [00:17<00:00, 56.83it/s]\n"
     ]
    },
    {
     "name": "stdout",
     "output_type": "stream",
     "text": [
      "number 96 score 0.0\n"
     ]
    },
    {
     "name": "stderr",
     "output_type": "stream",
     "text": [
      "subject 97: 100%|███████████████████████████████████████| 1000/1000 [00:17<00:00, 56.90it/s]\n"
     ]
    },
    {
     "name": "stdout",
     "output_type": "stream",
     "text": [
      "number 97 score 0.4\n"
     ]
    },
    {
     "name": "stderr",
     "output_type": "stream",
     "text": [
      "subject 98: 100%|███████████████████████████████████████| 1000/1000 [00:17<00:00, 56.94it/s]\n"
     ]
    },
    {
     "name": "stdout",
     "output_type": "stream",
     "text": [
      "number 98 score 0.5132743362831859\n"
     ]
    },
    {
     "name": "stderr",
     "output_type": "stream",
     "text": [
      "subject 99: 100%|███████████████████████████████████████| 1000/1000 [00:17<00:00, 56.74it/s]\n"
     ]
    },
    {
     "name": "stdout",
     "output_type": "stream",
     "text": [
      "number 99 score 0.6960352422907489\n"
     ]
    },
    {
     "name": "stderr",
     "output_type": "stream",
     "text": [
      "subject 100: 100%|██████████████████████████████████████| 1000/1000 [00:17<00:00, 56.89it/s]\n"
     ]
    },
    {
     "name": "stdout",
     "output_type": "stream",
     "text": [
      "number 100 score 0.782608695652174\n"
     ]
    },
    {
     "name": "stderr",
     "output_type": "stream",
     "text": [
      "subject 101: 100%|██████████████████████████████████████| 1000/1000 [00:17<00:00, 56.81it/s]\n"
     ]
    },
    {
     "name": "stdout",
     "output_type": "stream",
     "text": [
      "number 101 score 0.9204819277108434\n"
     ]
    },
    {
     "name": "stderr",
     "output_type": "stream",
     "text": [
      "subject 102: 100%|██████████████████████████████████████| 1000/1000 [00:17<00:00, 56.82it/s]\n"
     ]
    },
    {
     "name": "stdout",
     "output_type": "stream",
     "text": [
      "number 102 score 0.96\n"
     ]
    },
    {
     "name": "stderr",
     "output_type": "stream",
     "text": [
      "subject 103: 100%|██████████████████████████████████████| 1000/1000 [00:17<00:00, 56.49it/s]\n"
     ]
    },
    {
     "name": "stdout",
     "output_type": "stream",
     "text": [
      "number 103 score 0.9230769230769231\n"
     ]
    },
    {
     "name": "stderr",
     "output_type": "stream",
     "text": [
      "subject 104: 100%|██████████████████████████████████████| 1000/1000 [00:17<00:00, 56.77it/s]\n"
     ]
    },
    {
     "name": "stdout",
     "output_type": "stream",
     "text": [
      "number 104 score 0.9445438282647585\n"
     ]
    },
    {
     "name": "stderr",
     "output_type": "stream",
     "text": [
      "subject 105: 100%|██████████████████████████████████████| 1000/1000 [00:17<00:00, 56.80it/s]\n"
     ]
    },
    {
     "name": "stdout",
     "output_type": "stream",
     "text": [
      "number 105 score 0.9562289562289562\n"
     ]
    },
    {
     "name": "stderr",
     "output_type": "stream",
     "text": [
      "subject 106: 100%|██████████████████████████████████████| 1000/1000 [00:17<00:00, 56.48it/s]\n"
     ]
    },
    {
     "name": "stdout",
     "output_type": "stream",
     "text": [
      "number 106 score 0.9631901840490797\n"
     ]
    },
    {
     "name": "stderr",
     "output_type": "stream",
     "text": [
      "subject 107: 100%|██████████████████████████████████████| 1000/1000 [00:17<00:00, 56.08it/s]\n"
     ]
    },
    {
     "name": "stdout",
     "output_type": "stream",
     "text": [
      "number 107 score 0.9596412556053812\n"
     ]
    },
    {
     "name": "stderr",
     "output_type": "stream",
     "text": [
      "subject 108: 100%|██████████████████████████████████████| 1000/1000 [00:17<00:00, 56.81it/s]\n"
     ]
    },
    {
     "name": "stdout",
     "output_type": "stream",
     "text": [
      "number 108 score 0.9522431259044862\n"
     ]
    },
    {
     "name": "stderr",
     "output_type": "stream",
     "text": [
      "subject 109: 100%|██████████████████████████████████████| 1000/1000 [00:17<00:00, 56.75it/s]\n"
     ]
    },
    {
     "name": "stdout",
     "output_type": "stream",
     "text": [
      "number 109 score 0.9706293706293706\n"
     ]
    },
    {
     "name": "stderr",
     "output_type": "stream",
     "text": [
      "subject 110: 100%|██████████████████████████████████████| 1000/1000 [00:17<00:00, 56.75it/s]\n"
     ]
    },
    {
     "name": "stdout",
     "output_type": "stream",
     "text": [
      "number 110 score 0.9370424597364568\n"
     ]
    },
    {
     "name": "stderr",
     "output_type": "stream",
     "text": [
      "subject 111: 100%|██████████████████████████████████████| 1000/1000 [00:17<00:00, 56.82it/s]\n"
     ]
    },
    {
     "name": "stdout",
     "output_type": "stream",
     "text": [
      "number 111 score 0.948301329394387\n"
     ]
    },
    {
     "name": "stderr",
     "output_type": "stream",
     "text": [
      "subject 112: 100%|██████████████████████████████████████| 1000/1000 [00:17<00:00, 56.68it/s]\n"
     ]
    },
    {
     "name": "stdout",
     "output_type": "stream",
     "text": [
      "number 112 score 0.9624060150375939\n"
     ]
    },
    {
     "name": "stderr",
     "output_type": "stream",
     "text": [
      "subject 113: 100%|██████████████████████████████████████| 1000/1000 [00:17<00:00, 56.70it/s]\n"
     ]
    },
    {
     "name": "stdout",
     "output_type": "stream",
     "text": [
      "number 113 score 0.9585253456221198\n"
     ]
    },
    {
     "name": "stderr",
     "output_type": "stream",
     "text": [
      "subject 114: 100%|██████████████████████████████████████| 1000/1000 [00:17<00:00, 56.75it/s]\n"
     ]
    },
    {
     "name": "stdout",
     "output_type": "stream",
     "text": [
      "number 114 score 0.968944099378882\n"
     ]
    },
    {
     "name": "stderr",
     "output_type": "stream",
     "text": [
      "subject 115: 100%|██████████████████████████████████████| 1000/1000 [00:17<00:00, 56.76it/s]\n"
     ]
    },
    {
     "name": "stdout",
     "output_type": "stream",
     "text": [
      "number 115 score 0.9508196721311475\n"
     ]
    },
    {
     "name": "stderr",
     "output_type": "stream",
     "text": [
      "subject 116: 100%|██████████████████████████████████████| 1000/1000 [00:17<00:00, 56.70it/s]\n"
     ]
    },
    {
     "name": "stdout",
     "output_type": "stream",
     "text": [
      "number 116 score 0.9651741293532339\n"
     ]
    },
    {
     "name": "stderr",
     "output_type": "stream",
     "text": [
      "subject 117: 100%|██████████████████████████████████████| 1000/1000 [00:17<00:00, 56.81it/s]\n"
     ]
    },
    {
     "name": "stdout",
     "output_type": "stream",
     "text": [
      "number 117 score 0.9565217391304348\n"
     ]
    },
    {
     "name": "stderr",
     "output_type": "stream",
     "text": [
      "subject 118: 100%|██████████████████████████████████████| 1000/1000 [00:17<00:00, 56.65it/s]\n"
     ]
    },
    {
     "name": "stdout",
     "output_type": "stream",
     "text": [
      "number 118 score 0.9558823529411765\n"
     ]
    },
    {
     "name": "stderr",
     "output_type": "stream",
     "text": [
      "subject 119: 100%|██████████████████████████████████████| 1000/1000 [00:17<00:00, 56.81it/s]\n"
     ]
    },
    {
     "name": "stdout",
     "output_type": "stream",
     "text": [
      "number 119 score 0.9168356997971603\n"
     ]
    },
    {
     "name": "stderr",
     "output_type": "stream",
     "text": [
      "subject 120: 100%|██████████████████████████████████████| 1000/1000 [00:17<00:00, 56.85it/s]\n"
     ]
    },
    {
     "name": "stdout",
     "output_type": "stream",
     "text": [
      "number 120 score 0.9006622516556292\n"
     ]
    },
    {
     "name": "stderr",
     "output_type": "stream",
     "text": [
      "subject 121: 100%|██████████████████████████████████████| 1000/1000 [00:17<00:00, 56.78it/s]\n"
     ]
    },
    {
     "name": "stdout",
     "output_type": "stream",
     "text": [
      "number 121 score 0.89\n"
     ]
    },
    {
     "name": "stderr",
     "output_type": "stream",
     "text": [
      "subject 122: 100%|██████████████████████████████████████| 1000/1000 [00:17<00:00, 56.62it/s]\n"
     ]
    },
    {
     "name": "stdout",
     "output_type": "stream",
     "text": [
      "number 122 score 0.9361702127659575\n"
     ]
    },
    {
     "name": "stderr",
     "output_type": "stream",
     "text": [
      "subject 123: 100%|██████████████████████████████████████| 1000/1000 [00:17<00:00, 56.79it/s]\n"
     ]
    },
    {
     "name": "stdout",
     "output_type": "stream",
     "text": [
      "number 123 score 0.8834355828220859\n"
     ]
    },
    {
     "name": "stderr",
     "output_type": "stream",
     "text": [
      "subject 124: 100%|██████████████████████████████████████| 1000/1000 [00:17<00:00, 56.92it/s]\n"
     ]
    },
    {
     "name": "stdout",
     "output_type": "stream",
     "text": [
      "number 124 score 0.8333333333333334\n"
     ]
    },
    {
     "name": "stderr",
     "output_type": "stream",
     "text": [
      "subject 125: 100%|██████████████████████████████████████| 1000/1000 [00:17<00:00, 56.40it/s]\n"
     ]
    },
    {
     "name": "stdout",
     "output_type": "stream",
     "text": [
      "number 125 score 0.8133704735376045\n"
     ]
    },
    {
     "name": "stderr",
     "output_type": "stream",
     "text": [
      "subject 126: 100%|██████████████████████████████████████| 1000/1000 [00:17<00:00, 56.89it/s]\n"
     ]
    },
    {
     "name": "stdout",
     "output_type": "stream",
     "text": [
      "number 126 score 0.8181818181818182\n"
     ]
    },
    {
     "name": "stderr",
     "output_type": "stream",
     "text": [
      "subject 127: 100%|██████████████████████████████████████| 1000/1000 [00:17<00:00, 56.75it/s]\n"
     ]
    },
    {
     "name": "stdout",
     "output_type": "stream",
     "text": [
      "number 127 score 0.8584905660377359\n"
     ]
    },
    {
     "name": "stderr",
     "output_type": "stream",
     "text": [
      "subject 128: 100%|██████████████████████████████████████| 1000/1000 [00:17<00:00, 56.72it/s]\n"
     ]
    },
    {
     "name": "stdout",
     "output_type": "stream",
     "text": [
      "number 128 score 0.8981288981288982\n"
     ]
    },
    {
     "name": "stderr",
     "output_type": "stream",
     "text": [
      "subject 129: 100%|██████████████████████████████████████| 1000/1000 [00:17<00:00, 56.53it/s]\n"
     ]
    },
    {
     "name": "stdout",
     "output_type": "stream",
     "text": [
      "number 129 score 0.8905380333951762\n"
     ]
    },
    {
     "name": "stderr",
     "output_type": "stream",
     "text": [
      "subject 130: 100%|██████████████████████████████████████| 1000/1000 [00:17<00:00, 56.55it/s]\n"
     ]
    },
    {
     "name": "stdout",
     "output_type": "stream",
     "text": [
      "number 130 score 0.900163666121113\n"
     ]
    },
    {
     "name": "stderr",
     "output_type": "stream",
     "text": [
      "subject 131: 100%|██████████████████████████████████████| 1000/1000 [00:17<00:00, 56.87it/s]\n"
     ]
    },
    {
     "name": "stdout",
     "output_type": "stream",
     "text": [
      "number 131 score 0.9166666666666666\n"
     ]
    },
    {
     "name": "stderr",
     "output_type": "stream",
     "text": [
      "subject 132: 100%|██████████████████████████████████████| 1000/1000 [00:17<00:00, 56.94it/s]\n"
     ]
    },
    {
     "name": "stdout",
     "output_type": "stream",
     "text": [
      "number 132 score 0.9268929503916449\n"
     ]
    },
    {
     "name": "stderr",
     "output_type": "stream",
     "text": [
      "subject 133: 100%|██████████████████████████████████████| 1000/1000 [00:17<00:00, 57.13it/s]\n"
     ]
    },
    {
     "name": "stdout",
     "output_type": "stream",
     "text": [
      "number 133 score 0.9451073985680191\n"
     ]
    },
    {
     "name": "stderr",
     "output_type": "stream",
     "text": [
      "subject 134: 100%|██████████████████████████████████████| 1000/1000 [00:17<00:00, 57.26it/s]\n"
     ]
    },
    {
     "name": "stdout",
     "output_type": "stream",
     "text": [
      "number 134 score 0.9539170506912442\n"
     ]
    },
    {
     "name": "stderr",
     "output_type": "stream",
     "text": [
      "subject 135: 100%|██████████████████████████████████████| 1000/1000 [00:17<00:00, 57.30it/s]\n"
     ]
    },
    {
     "name": "stdout",
     "output_type": "stream",
     "text": [
      "number 135 score 0.9409090909090909\n"
     ]
    },
    {
     "name": "stderr",
     "output_type": "stream",
     "text": [
      "subject 136: 100%|██████████████████████████████████████| 1000/1000 [00:17<00:00, 57.23it/s]\n"
     ]
    },
    {
     "name": "stdout",
     "output_type": "stream",
     "text": [
      "number 136 score 0.9400218102508179\n"
     ]
    },
    {
     "name": "stderr",
     "output_type": "stream",
     "text": [
      "subject 137: 100%|██████████████████████████████████████| 1000/1000 [00:17<00:00, 57.24it/s]\n"
     ]
    },
    {
     "name": "stdout",
     "output_type": "stream",
     "text": [
      "number 137 score 0.9188619599578504\n"
     ]
    },
    {
     "name": "stderr",
     "output_type": "stream",
     "text": [
      "subject 138: 100%|██████████████████████████████████████| 1000/1000 [00:17<00:00, 57.22it/s]\n"
     ]
    },
    {
     "name": "stdout",
     "output_type": "stream",
     "text": [
      "number 138 score 0.9289617486338798\n"
     ]
    },
    {
     "name": "stderr",
     "output_type": "stream",
     "text": [
      "subject 139: 100%|██████████████████████████████████████| 1000/1000 [00:17<00:00, 57.30it/s]\n"
     ]
    },
    {
     "name": "stdout",
     "output_type": "stream",
     "text": [
      "number 139 score 0.9297658862876255\n"
     ]
    },
    {
     "name": "stderr",
     "output_type": "stream",
     "text": [
      "subject 140: 100%|██████████████████████████████████████| 1000/1000 [00:17<00:00, 57.21it/s]\n"
     ]
    },
    {
     "name": "stdout",
     "output_type": "stream",
     "text": [
      "number 140 score 0.9347079037800687\n"
     ]
    },
    {
     "name": "stderr",
     "output_type": "stream",
     "text": [
      "subject 141: 100%|██████████████████████████████████████| 1000/1000 [00:17<00:00, 57.30it/s]\n"
     ]
    },
    {
     "name": "stdout",
     "output_type": "stream",
     "text": [
      "number 141 score 0.9214780600461894\n"
     ]
    },
    {
     "name": "stderr",
     "output_type": "stream",
     "text": [
      "subject 142: 100%|██████████████████████████████████████| 1000/1000 [00:17<00:00, 57.29it/s]\n"
     ]
    },
    {
     "name": "stdout",
     "output_type": "stream",
     "text": [
      "number 142 score 0.9239904988123515\n"
     ]
    },
    {
     "name": "stderr",
     "output_type": "stream",
     "text": [
      "subject 143: 100%|██████████████████████████████████████| 1000/1000 [00:17<00:00, 57.34it/s]\n"
     ]
    },
    {
     "name": "stdout",
     "output_type": "stream",
     "text": [
      "number 143 score 0.9214026602176542\n"
     ]
    },
    {
     "name": "stderr",
     "output_type": "stream",
     "text": [
      "subject 144: 100%|██████████████████████████████████████| 1000/1000 [00:17<00:00, 57.25it/s]\n"
     ]
    },
    {
     "name": "stdout",
     "output_type": "stream",
     "text": [
      "number 144 score 0.8634361233480177\n"
     ]
    },
    {
     "name": "stderr",
     "output_type": "stream",
     "text": [
      "subject 145: 100%|██████████████████████████████████████| 1000/1000 [00:17<00:00, 57.26it/s]\n"
     ]
    },
    {
     "name": "stdout",
     "output_type": "stream",
     "text": [
      "number 145 score 0.8622540250447227\n"
     ]
    },
    {
     "name": "stderr",
     "output_type": "stream",
     "text": [
      "subject 146: 100%|██████████████████████████████████████| 1000/1000 [00:17<00:00, 57.04it/s]\n"
     ]
    },
    {
     "name": "stdout",
     "output_type": "stream",
     "text": [
      "number 146 score 0.8456659619450317\n"
     ]
    },
    {
     "name": "stderr",
     "output_type": "stream",
     "text": [
      "subject 147: 100%|██████████████████████████████████████| 1000/1000 [00:17<00:00, 57.27it/s]\n"
     ]
    },
    {
     "name": "stdout",
     "output_type": "stream",
     "text": [
      "number 147 score 0.8936170212765957\n"
     ]
    },
    {
     "name": "stderr",
     "output_type": "stream",
     "text": [
      "subject 148: 100%|██████████████████████████████████████| 1000/1000 [00:17<00:00, 57.26it/s]\n"
     ]
    },
    {
     "name": "stdout",
     "output_type": "stream",
     "text": [
      "number 148 score 0.8494208494208494\n"
     ]
    },
    {
     "name": "stderr",
     "output_type": "stream",
     "text": [
      "subject 149: 100%|██████████████████████████████████████| 1000/1000 [00:17<00:00, 57.32it/s]\n"
     ]
    },
    {
     "name": "stdout",
     "output_type": "stream",
     "text": [
      "number 149 score 0.8899521531100478\n"
     ]
    },
    {
     "name": "stderr",
     "output_type": "stream",
     "text": [
      "subject 150: 100%|██████████████████████████████████████| 1000/1000 [00:17<00:00, 57.24it/s]\n"
     ]
    },
    {
     "name": "stdout",
     "output_type": "stream",
     "text": [
      "number 150 score 0.8982035928143712\n"
     ]
    },
    {
     "name": "stderr",
     "output_type": "stream",
     "text": [
      "subject 151: 100%|██████████████████████████████████████| 1000/1000 [00:17<00:00, 57.30it/s]\n"
     ]
    },
    {
     "name": "stdout",
     "output_type": "stream",
     "text": [
      "number 151 score 0.8857142857142857\n"
     ]
    },
    {
     "name": "stderr",
     "output_type": "stream",
     "text": [
      "subject 152: 100%|██████████████████████████████████████| 1000/1000 [00:17<00:00, 57.25it/s]\n"
     ]
    },
    {
     "name": "stdout",
     "output_type": "stream",
     "text": [
      "number 152 score 0.8623853211009175\n"
     ]
    },
    {
     "name": "stderr",
     "output_type": "stream",
     "text": [
      "subject 153: 100%|██████████████████████████████████████| 1000/1000 [00:17<00:00, 57.18it/s]\n"
     ]
    },
    {
     "name": "stdout",
     "output_type": "stream",
     "text": [
      "number 153 score 0.7941176470588235\n"
     ]
    },
    {
     "name": "stderr",
     "output_type": "stream",
     "text": [
      "subject 154: 100%|██████████████████████████████████████| 1000/1000 [00:17<00:00, 57.26it/s]\n"
     ]
    },
    {
     "name": "stdout",
     "output_type": "stream",
     "text": [
      "number 154 score 0.5806451612903226\n"
     ]
    },
    {
     "name": "stderr",
     "output_type": "stream",
     "text": [
      "subject 155: 100%|██████████████████████████████████████| 1000/1000 [00:17<00:00, 57.14it/s]\n"
     ]
    },
    {
     "name": "stdout",
     "output_type": "stream",
     "text": [
      "number 155 score 0.0\n"
     ]
    },
    {
     "name": "stderr",
     "output_type": "stream",
     "text": [
      "subject 156: 100%|██████████████████████████████████████| 1000/1000 [00:17<00:00, 56.81it/s]\n"
     ]
    },
    {
     "name": "stdout",
     "output_type": "stream",
     "text": [
      "number 156 score 0.0\n"
     ]
    },
    {
     "name": "stderr",
     "output_type": "stream",
     "text": [
      "subject 157: 100%|██████████████████████████████████████| 1000/1000 [00:17<00:00, 57.29it/s]\n"
     ]
    },
    {
     "name": "stdout",
     "output_type": "stream",
     "text": [
      "number 157 score 0.0\n"
     ]
    },
    {
     "name": "stderr",
     "output_type": "stream",
     "text": [
      "subject 158: 100%|██████████████████████████████████████| 1000/1000 [00:17<00:00, 57.28it/s]\n"
     ]
    },
    {
     "name": "stdout",
     "output_type": "stream",
     "text": [
      "number 158 score 0.45714285714285713\n"
     ]
    },
    {
     "name": "stderr",
     "output_type": "stream",
     "text": [
      "subject 159: 100%|██████████████████████████████████████| 1000/1000 [00:17<00:00, 57.22it/s]\n"
     ]
    },
    {
     "name": "stdout",
     "output_type": "stream",
     "text": [
      "number 159 score 0.36936936936936937\n"
     ]
    },
    {
     "name": "stderr",
     "output_type": "stream",
     "text": [
      "subject 160: 100%|██████████████████████████████████████| 1000/1000 [00:17<00:00, 57.16it/s]\n"
     ]
    },
    {
     "name": "stdout",
     "output_type": "stream",
     "text": [
      "number 160 score 0.8603773584905661\n"
     ]
    },
    {
     "name": "stderr",
     "output_type": "stream",
     "text": [
      "subject 161: 100%|██████████████████████████████████████| 1000/1000 [00:17<00:00, 57.29it/s]\n"
     ]
    },
    {
     "name": "stdout",
     "output_type": "stream",
     "text": [
      "number 161 score 0.9147286821705426\n"
     ]
    },
    {
     "name": "stderr",
     "output_type": "stream",
     "text": [
      "subject 162: 100%|██████████████████████████████████████| 1000/1000 [00:17<00:00, 57.24it/s]\n"
     ]
    },
    {
     "name": "stdout",
     "output_type": "stream",
     "text": [
      "number 162 score 0.9365482233502538\n"
     ]
    },
    {
     "name": "stderr",
     "output_type": "stream",
     "text": [
      "subject 163: 100%|██████████████████████████████████████| 1000/1000 [00:17<00:00, 57.20it/s]\n"
     ]
    },
    {
     "name": "stdout",
     "output_type": "stream",
     "text": [
      "number 163 score 0.9571263035921205\n"
     ]
    },
    {
     "name": "stderr",
     "output_type": "stream",
     "text": [
      "subject 164: 100%|██████████████████████████████████████| 1000/1000 [00:17<00:00, 57.26it/s]\n"
     ]
    },
    {
     "name": "stdout",
     "output_type": "stream",
     "text": [
      "number 164 score 0.9552572706935123\n"
     ]
    },
    {
     "name": "stderr",
     "output_type": "stream",
     "text": [
      "subject 165: 100%|██████████████████████████████████████| 1000/1000 [00:17<00:00, 57.27it/s]\n"
     ]
    },
    {
     "name": "stdout",
     "output_type": "stream",
     "text": [
      "number 165 score 0.9570680628272251\n"
     ]
    },
    {
     "name": "stderr",
     "output_type": "stream",
     "text": [
      "subject 166: 100%|██████████████████████████████████████| 1000/1000 [00:17<00:00, 57.19it/s]\n"
     ]
    },
    {
     "name": "stdout",
     "output_type": "stream",
     "text": [
      "number 166 score 0.9617271835132483\n"
     ]
    },
    {
     "name": "stderr",
     "output_type": "stream",
     "text": [
      "subject 167: 100%|██████████████████████████████████████| 1000/1000 [00:17<00:00, 57.33it/s]\n"
     ]
    },
    {
     "name": "stdout",
     "output_type": "stream",
     "text": [
      "number 167 score 0.9518413597733711\n"
     ]
    },
    {
     "name": "stderr",
     "output_type": "stream",
     "text": [
      "subject 168: 100%|██████████████████████████████████████| 1000/1000 [00:17<00:00, 57.35it/s]\n"
     ]
    },
    {
     "name": "stdout",
     "output_type": "stream",
     "text": [
      "number 168 score 0.9550045913682277\n"
     ]
    },
    {
     "name": "stderr",
     "output_type": "stream",
     "text": [
      "subject 169: 100%|██████████████████████████████████████| 1000/1000 [00:17<00:00, 57.28it/s]\n"
     ]
    },
    {
     "name": "stdout",
     "output_type": "stream",
     "text": [
      "number 169 score 0.9666080843585237\n"
     ]
    },
    {
     "name": "stderr",
     "output_type": "stream",
     "text": [
      "subject 170: 100%|██████████████████████████████████████| 1000/1000 [00:17<00:00, 57.18it/s]\n"
     ]
    },
    {
     "name": "stdout",
     "output_type": "stream",
     "text": [
      "number 170 score 0.9585492227979274\n"
     ]
    },
    {
     "name": "stderr",
     "output_type": "stream",
     "text": [
      "subject 171: 100%|██████████████████████████████████████| 1000/1000 [00:17<00:00, 57.26it/s]\n"
     ]
    },
    {
     "name": "stdout",
     "output_type": "stream",
     "text": [
      "number 171 score 0.9554794520547946\n"
     ]
    },
    {
     "name": "stderr",
     "output_type": "stream",
     "text": [
      "subject 172: 100%|██████████████████████████████████████| 1000/1000 [00:17<00:00, 57.22it/s]\n"
     ]
    },
    {
     "name": "stdout",
     "output_type": "stream",
     "text": [
      "number 172 score 0.9590443686006825\n"
     ]
    },
    {
     "name": "stderr",
     "output_type": "stream",
     "text": [
      "subject 173: 100%|██████████████████████████████████████| 1000/1000 [00:17<00:00, 57.27it/s]\n"
     ]
    },
    {
     "name": "stdout",
     "output_type": "stream",
     "text": [
      "number 173 score 0.9483648881239243\n"
     ]
    },
    {
     "name": "stderr",
     "output_type": "stream",
     "text": [
      "subject 174: 100%|██████████████████████████████████████| 1000/1000 [00:17<00:00, 57.22it/s]\n"
     ]
    },
    {
     "name": "stdout",
     "output_type": "stream",
     "text": [
      "number 174 score 0.9366869037294016\n"
     ]
    },
    {
     "name": "stderr",
     "output_type": "stream",
     "text": [
      "subject 175: 100%|██████████████████████████████████████| 1000/1000 [00:17<00:00, 57.21it/s]\n"
     ]
    },
    {
     "name": "stdout",
     "output_type": "stream",
     "text": [
      "number 175 score 0.936663693131133\n"
     ]
    },
    {
     "name": "stderr",
     "output_type": "stream",
     "text": [
      "subject 176: 100%|██████████████████████████████████████| 1000/1000 [00:17<00:00, 57.23it/s]\n"
     ]
    },
    {
     "name": "stdout",
     "output_type": "stream",
     "text": [
      "number 176 score 0.9420560747663551\n"
     ]
    },
    {
     "name": "stderr",
     "output_type": "stream",
     "text": [
      "subject 177: 100%|██████████████████████████████████████| 1000/1000 [00:17<00:00, 57.22it/s]\n"
     ]
    },
    {
     "name": "stdout",
     "output_type": "stream",
     "text": [
      "number 177 score 0.9486166007905138\n"
     ]
    },
    {
     "name": "stderr",
     "output_type": "stream",
     "text": [
      "subject 178: 100%|██████████████████████████████████████| 1000/1000 [00:17<00:00, 57.24it/s]\n"
     ]
    },
    {
     "name": "stdout",
     "output_type": "stream",
     "text": [
      "number 178 score 0.9567010309278351\n"
     ]
    },
    {
     "name": "stderr",
     "output_type": "stream",
     "text": [
      "subject 179: 100%|██████████████████████████████████████| 1000/1000 [00:17<00:00, 56.53it/s]\n"
     ]
    },
    {
     "name": "stdout",
     "output_type": "stream",
     "text": [
      "number 179 score 0.9644444444444444\n"
     ]
    },
    {
     "name": "stderr",
     "output_type": "stream",
     "text": [
      "subject 180: 100%|██████████████████████████████████████| 1000/1000 [00:18<00:00, 53.57it/s]\n"
     ]
    },
    {
     "name": "stdout",
     "output_type": "stream",
     "text": [
      "number 180 score 0.9484777517564403\n"
     ]
    },
    {
     "name": "stderr",
     "output_type": "stream",
     "text": [
      "subject 181: 100%|██████████████████████████████████████| 1000/1000 [00:17<00:00, 56.09it/s]\n"
     ]
    },
    {
     "name": "stdout",
     "output_type": "stream",
     "text": [
      "number 181 score 0.9534313725490197\n"
     ]
    },
    {
     "name": "stderr",
     "output_type": "stream",
     "text": [
      "subject 182: 100%|██████████████████████████████████████| 1000/1000 [00:18<00:00, 55.43it/s]\n"
     ]
    },
    {
     "name": "stdout",
     "output_type": "stream",
     "text": [
      "number 182 score 0.940554821664465\n"
     ]
    },
    {
     "name": "stderr",
     "output_type": "stream",
     "text": [
      "subject 183: 100%|██████████████████████████████████████| 1000/1000 [00:17<00:00, 55.85it/s]\n"
     ]
    },
    {
     "name": "stdout",
     "output_type": "stream",
     "text": [
      "number 183 score 0.9382352941176471\n"
     ]
    },
    {
     "name": "stderr",
     "output_type": "stream",
     "text": [
      "subject 184: 100%|██████████████████████████████████████| 1000/1000 [00:18<00:00, 55.37it/s]\n"
     ]
    },
    {
     "name": "stdout",
     "output_type": "stream",
     "text": [
      "number 184 score 0.9405940594059405\n"
     ]
    },
    {
     "name": "stderr",
     "output_type": "stream",
     "text": [
      "subject 185: 100%|██████████████████████████████████████| 1000/1000 [00:18<00:00, 55.05it/s]\n"
     ]
    },
    {
     "name": "stdout",
     "output_type": "stream",
     "text": [
      "number 185 score 0.945179584120983\n"
     ]
    },
    {
     "name": "stderr",
     "output_type": "stream",
     "text": [
      "subject 186: 100%|██████████████████████████████████████| 1000/1000 [00:17<00:00, 56.00it/s]\n"
     ]
    },
    {
     "name": "stdout",
     "output_type": "stream",
     "text": [
      "number 186 score 0.9369369369369369\n"
     ]
    },
    {
     "name": "stderr",
     "output_type": "stream",
     "text": [
      "subject 187: 100%|██████████████████████████████████████| 1000/1000 [00:17<00:00, 56.22it/s]\n"
     ]
    },
    {
     "name": "stdout",
     "output_type": "stream",
     "text": [
      "number 187 score 0.9393939393939394\n"
     ]
    },
    {
     "name": "stderr",
     "output_type": "stream",
     "text": [
      "subject 188: 100%|██████████████████████████████████████| 1000/1000 [00:17<00:00, 56.03it/s]\n"
     ]
    },
    {
     "name": "stdout",
     "output_type": "stream",
     "text": [
      "number 188 score 0.969187675070028\n"
     ]
    },
    {
     "name": "stderr",
     "output_type": "stream",
     "text": [
      "subject 189: 100%|██████████████████████████████████████| 1000/1000 [00:17<00:00, 55.56it/s]\n"
     ]
    },
    {
     "name": "stdout",
     "output_type": "stream",
     "text": [
      "number 189 score 0.9685534591194969\n"
     ]
    },
    {
     "name": "stderr",
     "output_type": "stream",
     "text": [
      "subject 190: 100%|██████████████████████████████████████| 1000/1000 [00:17<00:00, 56.26it/s]\n"
     ]
    },
    {
     "name": "stdout",
     "output_type": "stream",
     "text": [
      "number 190 score 0.0\n"
     ]
    },
    {
     "name": "stderr",
     "output_type": "stream",
     "text": [
      "subject 191: 100%|██████████████████████████████████████| 1000/1000 [00:17<00:00, 56.18it/s]\n"
     ]
    },
    {
     "name": "stdout",
     "output_type": "stream",
     "text": [
      "number 191 score 0.0\n"
     ]
    },
    {
     "name": "stderr",
     "output_type": "stream",
     "text": [
      "subject 192: 100%|██████████████████████████████████████| 1000/1000 [00:17<00:00, 56.44it/s]\n"
     ]
    },
    {
     "name": "stdout",
     "output_type": "stream",
     "text": [
      "number 192 score 0.0\n"
     ]
    },
    {
     "name": "stderr",
     "output_type": "stream",
     "text": [
      "subject 193: 100%|██████████████████████████████████████| 1000/1000 [00:17<00:00, 56.39it/s]\n"
     ]
    },
    {
     "name": "stdout",
     "output_type": "stream",
     "text": [
      "number 193 score 0.0\n"
     ]
    },
    {
     "name": "stderr",
     "output_type": "stream",
     "text": [
      "subject 194: 100%|██████████████████████████████████████| 1000/1000 [00:17<00:00, 55.96it/s]\n"
     ]
    },
    {
     "name": "stdout",
     "output_type": "stream",
     "text": [
      "number 194 score 0.0\n"
     ]
    },
    {
     "name": "stderr",
     "output_type": "stream",
     "text": [
      "subject 195: 100%|██████████████████████████████████████| 1000/1000 [00:17<00:00, 55.79it/s]\n"
     ]
    },
    {
     "name": "stdout",
     "output_type": "stream",
     "text": [
      "number 195 score 0.0\n"
     ]
    },
    {
     "name": "stderr",
     "output_type": "stream",
     "text": [
      "subject 196: 100%|██████████████████████████████████████| 1000/1000 [00:18<00:00, 55.33it/s]\n"
     ]
    },
    {
     "name": "stdout",
     "output_type": "stream",
     "text": [
      "number 196 score 0.11267605633802817\n"
     ]
    },
    {
     "name": "stderr",
     "output_type": "stream",
     "text": [
      "subject 197: 100%|██████████████████████████████████████| 1000/1000 [00:17<00:00, 55.82it/s]\n"
     ]
    },
    {
     "name": "stdout",
     "output_type": "stream",
     "text": [
      "number 197 score 0.18518518518518517\n"
     ]
    },
    {
     "name": "stderr",
     "output_type": "stream",
     "text": [
      "subject 198: 100%|██████████████████████████████████████| 1000/1000 [00:17<00:00, 56.01it/s]\n"
     ]
    },
    {
     "name": "stdout",
     "output_type": "stream",
     "text": [
      "number 198 score 0.07058823529411765\n"
     ]
    },
    {
     "name": "stderr",
     "output_type": "stream",
     "text": [
      "subject 199: 100%|██████████████████████████████████████| 1000/1000 [00:17<00:00, 55.75it/s]\n"
     ]
    },
    {
     "name": "stdout",
     "output_type": "stream",
     "text": [
      "number 199 score 0.0\n"
     ]
    },
    {
     "name": "stderr",
     "output_type": "stream",
     "text": [
      "subject 200: 100%|██████████████████████████████████████| 1000/1000 [00:17<00:00, 55.80it/s]\n"
     ]
    },
    {
     "name": "stdout",
     "output_type": "stream",
     "text": [
      "number 200 score 0.0\n"
     ]
    },
    {
     "name": "stderr",
     "output_type": "stream",
     "text": [
      "subject 201: 100%|██████████████████████████████████████| 1000/1000 [00:17<00:00, 56.39it/s]\n"
     ]
    },
    {
     "name": "stdout",
     "output_type": "stream",
     "text": [
      "number 201 score 0.5238095238095238\n"
     ]
    },
    {
     "name": "stderr",
     "output_type": "stream",
     "text": [
      "subject 202: 100%|██████████████████████████████████████| 1000/1000 [00:18<00:00, 55.31it/s]\n"
     ]
    },
    {
     "name": "stdout",
     "output_type": "stream",
     "text": [
      "number 202 score 0.2948717948717949\n"
     ]
    },
    {
     "name": "stderr",
     "output_type": "stream",
     "text": [
      "subject 203: 100%|██████████████████████████████████████| 1000/1000 [00:17<00:00, 56.36it/s]\n"
     ]
    },
    {
     "name": "stdout",
     "output_type": "stream",
     "text": [
      "number 203 score 0.5123152709359606\n"
     ]
    },
    {
     "name": "stderr",
     "output_type": "stream",
     "text": [
      "subject 204: 100%|██████████████████████████████████████| 1000/1000 [00:17<00:00, 56.73it/s]\n"
     ]
    },
    {
     "name": "stdout",
     "output_type": "stream",
     "text": [
      "number 204 score 0.6159695817490495\n"
     ]
    },
    {
     "name": "stderr",
     "output_type": "stream",
     "text": [
      "subject 205: 100%|██████████████████████████████████████| 1000/1000 [00:17<00:00, 56.88it/s]\n"
     ]
    },
    {
     "name": "stdout",
     "output_type": "stream",
     "text": [
      "number 205 score 0.6710963455149501\n"
     ]
    },
    {
     "name": "stderr",
     "output_type": "stream",
     "text": [
      "subject 206: 100%|██████████████████████████████████████| 1000/1000 [00:17<00:00, 56.10it/s]\n"
     ]
    },
    {
     "name": "stdout",
     "output_type": "stream",
     "text": [
      "number 206 score 0.643312101910828\n"
     ]
    },
    {
     "name": "stderr",
     "output_type": "stream",
     "text": [
      "subject 207: 100%|██████████████████████████████████████| 1000/1000 [00:18<00:00, 55.23it/s]\n"
     ]
    },
    {
     "name": "stdout",
     "output_type": "stream",
     "text": [
      "number 207 score 0.5774647887323944\n"
     ]
    },
    {
     "name": "stderr",
     "output_type": "stream",
     "text": [
      "subject 208: 100%|██████████████████████████████████████| 1000/1000 [00:18<00:00, 55.51it/s]\n"
     ]
    },
    {
     "name": "stdout",
     "output_type": "stream",
     "text": [
      "number 208 score 0.6787003610108303\n"
     ]
    },
    {
     "name": "stderr",
     "output_type": "stream",
     "text": [
      "subject 209: 100%|██████████████████████████████████████| 1000/1000 [00:17<00:00, 56.24it/s]\n"
     ]
    },
    {
     "name": "stdout",
     "output_type": "stream",
     "text": [
      "number 209 score 0.5688888888888889\n"
     ]
    },
    {
     "name": "stderr",
     "output_type": "stream",
     "text": [
      "subject 210: 100%|██████████████████████████████████████| 1000/1000 [00:17<00:00, 55.87it/s]\n"
     ]
    },
    {
     "name": "stdout",
     "output_type": "stream",
     "text": [
      "number 210 score 0.0\n"
     ]
    },
    {
     "name": "stderr",
     "output_type": "stream",
     "text": [
      "subject 211: 100%|██████████████████████████████████████| 1000/1000 [00:17<00:00, 56.57it/s]\n"
     ]
    },
    {
     "name": "stdout",
     "output_type": "stream",
     "text": [
      "number 211 score 0.0\n"
     ]
    },
    {
     "name": "stderr",
     "output_type": "stream",
     "text": [
      "subject 212: 100%|██████████████████████████████████████| 1000/1000 [00:17<00:00, 56.50it/s]\n"
     ]
    },
    {
     "name": "stdout",
     "output_type": "stream",
     "text": [
      "number 212 score 0.0\n"
     ]
    },
    {
     "name": "stderr",
     "output_type": "stream",
     "text": [
      "subject 213: 100%|██████████████████████████████████████| 1000/1000 [00:17<00:00, 56.25it/s]\n"
     ]
    },
    {
     "name": "stdout",
     "output_type": "stream",
     "text": [
      "number 213 score 0.0\n"
     ]
    },
    {
     "name": "stderr",
     "output_type": "stream",
     "text": [
      "subject 214: 100%|██████████████████████████████████████| 1000/1000 [00:17<00:00, 55.83it/s]\n"
     ]
    },
    {
     "name": "stdout",
     "output_type": "stream",
     "text": [
      "number 214 score 0.0\n"
     ]
    },
    {
     "name": "stderr",
     "output_type": "stream",
     "text": [
      "subject 215: 100%|██████████████████████████████████████| 1000/1000 [00:17<00:00, 56.07it/s]\n"
     ]
    },
    {
     "name": "stdout",
     "output_type": "stream",
     "text": [
      "number 215 score 0.0\n"
     ]
    },
    {
     "name": "stderr",
     "output_type": "stream",
     "text": [
      "subject 216: 100%|██████████████████████████████████████| 1000/1000 [00:17<00:00, 56.20it/s]\n"
     ]
    },
    {
     "name": "stdout",
     "output_type": "stream",
     "text": [
      "number 216 score 0.0\n"
     ]
    },
    {
     "name": "stderr",
     "output_type": "stream",
     "text": [
      "subject 217: 100%|██████████████████████████████████████| 1000/1000 [00:17<00:00, 55.93it/s]\n"
     ]
    },
    {
     "name": "stdout",
     "output_type": "stream",
     "text": [
      "number 217 score 0.01834862385321101\n"
     ]
    },
    {
     "name": "stderr",
     "output_type": "stream",
     "text": [
      "subject 218: 100%|██████████████████████████████████████| 1000/1000 [00:18<00:00, 55.55it/s]\n"
     ]
    },
    {
     "name": "stdout",
     "output_type": "stream",
     "text": [
      "number 218 score 0.0\n"
     ]
    },
    {
     "name": "stderr",
     "output_type": "stream",
     "text": [
      "subject 219: 100%|██████████████████████████████████████| 1000/1000 [00:18<00:00, 55.45it/s]\n"
     ]
    },
    {
     "name": "stdout",
     "output_type": "stream",
     "text": [
      "number 219 score 0.14583333333333334\n"
     ]
    },
    {
     "name": "stderr",
     "output_type": "stream",
     "text": [
      "subject 220: 100%|██████████████████████████████████████| 1000/1000 [00:17<00:00, 55.68it/s]\n"
     ]
    },
    {
     "name": "stdout",
     "output_type": "stream",
     "text": [
      "number 220 score 0.0\n"
     ]
    },
    {
     "name": "stderr",
     "output_type": "stream",
     "text": [
      "subject 221: 100%|██████████████████████████████████████| 1000/1000 [00:18<00:00, 55.47it/s]\n"
     ]
    },
    {
     "name": "stdout",
     "output_type": "stream",
     "text": [
      "number 221 score 0.0\n"
     ]
    },
    {
     "name": "stderr",
     "output_type": "stream",
     "text": [
      "subject 222: 100%|██████████████████████████████████████| 1000/1000 [00:18<00:00, 55.46it/s]\n"
     ]
    },
    {
     "name": "stdout",
     "output_type": "stream",
     "text": [
      "number 222 score 0.2\n"
     ]
    },
    {
     "name": "stderr",
     "output_type": "stream",
     "text": [
      "subject 223: 100%|██████████████████████████████████████| 1000/1000 [00:18<00:00, 55.54it/s]\n"
     ]
    },
    {
     "name": "stdout",
     "output_type": "stream",
     "text": [
      "number 223 score 0.0\n"
     ]
    },
    {
     "name": "stderr",
     "output_type": "stream",
     "text": [
      "subject 224: 100%|██████████████████████████████████████| 1000/1000 [00:17<00:00, 55.83it/s]\n"
     ]
    },
    {
     "name": "stdout",
     "output_type": "stream",
     "text": [
      "number 224 score 0.0\n"
     ]
    },
    {
     "name": "stderr",
     "output_type": "stream",
     "text": [
      "subject 225: 100%|██████████████████████████████████████| 1000/1000 [00:17<00:00, 56.74it/s]\n"
     ]
    },
    {
     "name": "stdout",
     "output_type": "stream",
     "text": [
      "number 225 score 0.0\n"
     ]
    },
    {
     "name": "stderr",
     "output_type": "stream",
     "text": [
      "subject 226: 100%|██████████████████████████████████████| 1000/1000 [00:17<00:00, 56.20it/s]\n"
     ]
    },
    {
     "name": "stdout",
     "output_type": "stream",
     "text": [
      "number 226 score 0.8727272727272727\n"
     ]
    },
    {
     "name": "stderr",
     "output_type": "stream",
     "text": [
      "subject 227: 100%|██████████████████████████████████████| 1000/1000 [00:17<00:00, 56.10it/s]\n"
     ]
    },
    {
     "name": "stdout",
     "output_type": "stream",
     "text": [
      "number 227 score 0.9473684210526315\n"
     ]
    },
    {
     "name": "stderr",
     "output_type": "stream",
     "text": [
      "subject 228: 100%|██████████████████████████████████████| 1000/1000 [00:18<00:00, 55.50it/s]\n"
     ]
    },
    {
     "name": "stdout",
     "output_type": "stream",
     "text": [
      "number 228 score 0.919431279620853\n"
     ]
    },
    {
     "name": "stderr",
     "output_type": "stream",
     "text": [
      "subject 229: 100%|██████████████████████████████████████| 1000/1000 [00:17<00:00, 56.28it/s]\n"
     ]
    },
    {
     "name": "stdout",
     "output_type": "stream",
     "text": [
      "number 229 score 0.966542750929368\n"
     ]
    },
    {
     "name": "stderr",
     "output_type": "stream",
     "text": [
      "subject 230: 100%|██████████████████████████████████████| 1000/1000 [00:17<00:00, 55.87it/s]\n"
     ]
    },
    {
     "name": "stdout",
     "output_type": "stream",
     "text": [
      "number 230 score 0.9403508771929825\n"
     ]
    },
    {
     "name": "stderr",
     "output_type": "stream",
     "text": [
      "subject 231: 100%|██████████████████████████████████████| 1000/1000 [00:18<00:00, 55.38it/s]\n"
     ]
    },
    {
     "name": "stdout",
     "output_type": "stream",
     "text": [
      "number 231 score 0.9411764705882353\n"
     ]
    },
    {
     "name": "stderr",
     "output_type": "stream",
     "text": [
      "subject 232: 100%|██████████████████████████████████████| 1000/1000 [00:17<00:00, 55.66it/s]\n"
     ]
    },
    {
     "name": "stdout",
     "output_type": "stream",
     "text": [
      "number 232 score 0.9294117647058824\n"
     ]
    },
    {
     "name": "stderr",
     "output_type": "stream",
     "text": [
      "subject 233: 100%|██████████████████████████████████████| 1000/1000 [00:17<00:00, 56.12it/s]\n"
     ]
    },
    {
     "name": "stdout",
     "output_type": "stream",
     "text": [
      "number 233 score 0.8994413407821229\n"
     ]
    },
    {
     "name": "stderr",
     "output_type": "stream",
     "text": [
      "subject 234: 100%|██████████████████████████████████████| 1000/1000 [00:18<00:00, 55.20it/s]\n"
     ]
    },
    {
     "name": "stdout",
     "output_type": "stream",
     "text": [
      "number 234 score 0.9183673469387755\n"
     ]
    },
    {
     "name": "stderr",
     "output_type": "stream",
     "text": [
      "subject 235: 100%|██████████████████████████████████████| 1000/1000 [00:17<00:00, 55.96it/s]\n"
     ]
    },
    {
     "name": "stdout",
     "output_type": "stream",
     "text": [
      "number 235 score 0.8928571428571429\n"
     ]
    },
    {
     "name": "stderr",
     "output_type": "stream",
     "text": [
      "subject 236: 100%|██████████████████████████████████████| 1000/1000 [00:17<00:00, 56.35it/s]\n"
     ]
    },
    {
     "name": "stdout",
     "output_type": "stream",
     "text": [
      "number 236 score 0.9121951219512195\n"
     ]
    },
    {
     "name": "stderr",
     "output_type": "stream",
     "text": [
      "subject 237: 100%|██████████████████████████████████████| 1000/1000 [00:17<00:00, 55.90it/s]\n"
     ]
    },
    {
     "name": "stdout",
     "output_type": "stream",
     "text": [
      "number 237 score 0.9056603773584906\n"
     ]
    },
    {
     "name": "stderr",
     "output_type": "stream",
     "text": [
      "subject 238: 100%|██████████████████████████████████████| 1000/1000 [00:17<00:00, 55.95it/s]\n"
     ]
    },
    {
     "name": "stdout",
     "output_type": "stream",
     "text": [
      "number 238 score 0.8958837772397095\n"
     ]
    },
    {
     "name": "stderr",
     "output_type": "stream",
     "text": [
      "subject 239: 100%|██████████████████████████████████████| 1000/1000 [00:17<00:00, 56.54it/s]\n"
     ]
    },
    {
     "name": "stdout",
     "output_type": "stream",
     "text": [
      "number 239 score 0.8985507246376812\n"
     ]
    },
    {
     "name": "stderr",
     "output_type": "stream",
     "text": [
      "subject 240: 100%|██████████████████████████████████████| 1000/1000 [00:17<00:00, 55.71it/s]\n"
     ]
    },
    {
     "name": "stdout",
     "output_type": "stream",
     "text": [
      "number 240 score 0.8390501319261213\n"
     ]
    },
    {
     "name": "stderr",
     "output_type": "stream",
     "text": [
      "subject 241: 100%|██████████████████████████████████████| 1000/1000 [00:17<00:00, 55.90it/s]\n"
     ]
    },
    {
     "name": "stdout",
     "output_type": "stream",
     "text": [
      "number 241 score 0.8630490956072352\n"
     ]
    },
    {
     "name": "stderr",
     "output_type": "stream",
     "text": [
      "subject 242: 100%|██████████████████████████████████████| 1000/1000 [00:17<00:00, 56.39it/s]\n"
     ]
    },
    {
     "name": "stdout",
     "output_type": "stream",
     "text": [
      "number 242 score 0.8856304985337243\n"
     ]
    },
    {
     "name": "stderr",
     "output_type": "stream",
     "text": [
      "subject 243: 100%|██████████████████████████████████████| 1000/1000 [00:17<00:00, 56.78it/s]\n"
     ]
    },
    {
     "name": "stdout",
     "output_type": "stream",
     "text": [
      "number 243 score 0.8447653429602888\n"
     ]
    },
    {
     "name": "stderr",
     "output_type": "stream",
     "text": [
      "subject 244: 100%|██████████████████████████████████████| 1000/1000 [00:17<00:00, 56.23it/s]\n"
     ]
    },
    {
     "name": "stdout",
     "output_type": "stream",
     "text": [
      "number 244 score 0.3695652173913043\n"
     ]
    },
    {
     "name": "stderr",
     "output_type": "stream",
     "text": [
      "subject 245: 100%|██████████████████████████████████████| 1000/1000 [00:17<00:00, 55.64it/s]\n"
     ]
    },
    {
     "name": "stdout",
     "output_type": "stream",
     "text": [
      "number 245 score 0.0\n"
     ]
    },
    {
     "name": "stderr",
     "output_type": "stream",
     "text": [
      "subject 246: 100%|██████████████████████████████████████| 1000/1000 [00:17<00:00, 56.08it/s]\n"
     ]
    },
    {
     "name": "stdout",
     "output_type": "stream",
     "text": [
      "number 246 score 0.0\n"
     ]
    },
    {
     "name": "stderr",
     "output_type": "stream",
     "text": [
      "subject 247: 100%|██████████████████████████████████████| 1000/1000 [00:17<00:00, 56.09it/s]\n"
     ]
    },
    {
     "name": "stdout",
     "output_type": "stream",
     "text": [
      "number 247 score 0.0\n"
     ]
    },
    {
     "name": "stderr",
     "output_type": "stream",
     "text": [
      "subject 248: 100%|██████████████████████████████████████| 1000/1000 [00:18<00:00, 55.35it/s]\n"
     ]
    },
    {
     "name": "stdout",
     "output_type": "stream",
     "text": [
      "number 248 score 0.0\n"
     ]
    },
    {
     "name": "stderr",
     "output_type": "stream",
     "text": [
      "subject 249: 100%|██████████████████████████████████████| 1000/1000 [00:17<00:00, 56.23it/s]\n"
     ]
    },
    {
     "name": "stdout",
     "output_type": "stream",
     "text": [
      "number 249 score 0.0\n"
     ]
    },
    {
     "name": "stderr",
     "output_type": "stream",
     "text": [
      "subject 250: 100%|██████████████████████████████████████| 1000/1000 [00:18<00:00, 55.46it/s]\n"
     ]
    },
    {
     "name": "stdout",
     "output_type": "stream",
     "text": [
      "number 250 score 0.0\n"
     ]
    },
    {
     "name": "stderr",
     "output_type": "stream",
     "text": [
      "subject 251: 100%|██████████████████████████████████████| 1000/1000 [00:17<00:00, 56.23it/s]\n"
     ]
    },
    {
     "name": "stdout",
     "output_type": "stream",
     "text": [
      "number 251 score 0.0\n"
     ]
    },
    {
     "name": "stderr",
     "output_type": "stream",
     "text": [
      "subject 252: 100%|██████████████████████████████████████| 1000/1000 [00:17<00:00, 56.03it/s]\n"
     ]
    },
    {
     "name": "stdout",
     "output_type": "stream",
     "text": [
      "number 252 score 0.0\n"
     ]
    },
    {
     "name": "stderr",
     "output_type": "stream",
     "text": [
      "subject 253: 100%|██████████████████████████████████████| 1000/1000 [00:18<00:00, 55.39it/s]\n"
     ]
    },
    {
     "name": "stdout",
     "output_type": "stream",
     "text": [
      "number 253 score 0.6060606060606061\n"
     ]
    },
    {
     "name": "stderr",
     "output_type": "stream",
     "text": [
      "subject 254: 100%|██████████████████████████████████████| 1000/1000 [00:17<00:00, 55.97it/s]\n"
     ]
    },
    {
     "name": "stdout",
     "output_type": "stream",
     "text": [
      "number 254 score 0.6194690265486725\n"
     ]
    },
    {
     "name": "stderr",
     "output_type": "stream",
     "text": [
      "subject 255: 100%|██████████████████████████████████████| 1000/1000 [00:17<00:00, 55.85it/s]\n"
     ]
    },
    {
     "name": "stdout",
     "output_type": "stream",
     "text": [
      "number 255 score 0.7142857142857143\n"
     ]
    },
    {
     "name": "stderr",
     "output_type": "stream",
     "text": [
      "subject 256: 100%|██████████████████████████████████████| 1000/1000 [00:17<00:00, 56.25it/s]\n"
     ]
    },
    {
     "name": "stdout",
     "output_type": "stream",
     "text": [
      "number 256 score 0.8533333333333334\n"
     ]
    },
    {
     "name": "stderr",
     "output_type": "stream",
     "text": [
      "subject 257: 100%|██████████████████████████████████████| 1000/1000 [00:17<00:00, 56.35it/s]\n"
     ]
    },
    {
     "name": "stdout",
     "output_type": "stream",
     "text": [
      "number 257 score 0.717948717948718\n"
     ]
    },
    {
     "name": "stderr",
     "output_type": "stream",
     "text": [
      "subject 258: 100%|██████████████████████████████████████| 1000/1000 [00:17<00:00, 56.68it/s]\n"
     ]
    },
    {
     "name": "stdout",
     "output_type": "stream",
     "text": [
      "number 258 score 0.8055555555555556\n"
     ]
    },
    {
     "name": "stderr",
     "output_type": "stream",
     "text": [
      "subject 259: 100%|██████████████████████████████████████| 1000/1000 [00:17<00:00, 56.41it/s]\n"
     ]
    },
    {
     "name": "stdout",
     "output_type": "stream",
     "text": [
      "number 259 score 0.8181818181818182\n"
     ]
    },
    {
     "name": "stderr",
     "output_type": "stream",
     "text": [
      "subject 260: 100%|██████████████████████████████████████| 1000/1000 [00:17<00:00, 55.83it/s]\n"
     ]
    },
    {
     "name": "stdout",
     "output_type": "stream",
     "text": [
      "number 260 score 0.7619047619047619\n"
     ]
    },
    {
     "name": "stderr",
     "output_type": "stream",
     "text": [
      "subject 261: 100%|██████████████████████████████████████| 1000/1000 [00:17<00:00, 55.96it/s]\n"
     ]
    },
    {
     "name": "stdout",
     "output_type": "stream",
     "text": [
      "number 261 score 0.7897435897435897\n"
     ]
    },
    {
     "name": "stderr",
     "output_type": "stream",
     "text": [
      "subject 262: 100%|██████████████████████████████████████| 1000/1000 [00:17<00:00, 55.65it/s]\n"
     ]
    },
    {
     "name": "stdout",
     "output_type": "stream",
     "text": [
      "number 262 score 0.8626198083067093\n"
     ]
    },
    {
     "name": "stderr",
     "output_type": "stream",
     "text": [
      "subject 263: 100%|██████████████████████████████████████| 1000/1000 [00:17<00:00, 56.10it/s]\n"
     ]
    },
    {
     "name": "stdout",
     "output_type": "stream",
     "text": [
      "number 263 score 0.7490636704119851\n"
     ]
    },
    {
     "name": "stderr",
     "output_type": "stream",
     "text": [
      "subject 264: 100%|██████████████████████████████████████| 1000/1000 [00:18<00:00, 55.54it/s]\n"
     ]
    },
    {
     "name": "stdout",
     "output_type": "stream",
     "text": [
      "number 264 score 0.8194233687405159\n"
     ]
    },
    {
     "name": "stderr",
     "output_type": "stream",
     "text": [
      "subject 265: 100%|██████████████████████████████████████| 1000/1000 [00:17<00:00, 55.82it/s]\n"
     ]
    },
    {
     "name": "stdout",
     "output_type": "stream",
     "text": [
      "number 265 score 0.8326530612244898\n"
     ]
    },
    {
     "name": "stderr",
     "output_type": "stream",
     "text": [
      "subject 266: 100%|██████████████████████████████████████| 1000/1000 [00:17<00:00, 55.96it/s]\n"
     ]
    },
    {
     "name": "stdout",
     "output_type": "stream",
     "text": [
      "number 266 score 0.827683615819209\n"
     ]
    },
    {
     "name": "stderr",
     "output_type": "stream",
     "text": [
      "subject 267: 100%|██████████████████████████████████████| 1000/1000 [00:17<00:00, 55.90it/s]\n"
     ]
    },
    {
     "name": "stdout",
     "output_type": "stream",
     "text": [
      "number 267 score 0.8485675306957708\n"
     ]
    },
    {
     "name": "stderr",
     "output_type": "stream",
     "text": [
      "subject 268: 100%|██████████████████████████████████████| 1000/1000 [00:17<00:00, 56.09it/s]\n"
     ]
    },
    {
     "name": "stdout",
     "output_type": "stream",
     "text": [
      "number 268 score 0.8195266272189349\n"
     ]
    },
    {
     "name": "stderr",
     "output_type": "stream",
     "text": [
      "subject 269: 100%|██████████████████████████████████████| 1000/1000 [00:17<00:00, 56.57it/s]\n"
     ]
    },
    {
     "name": "stdout",
     "output_type": "stream",
     "text": [
      "number 269 score 0.7801857585139319\n"
     ]
    },
    {
     "name": "stderr",
     "output_type": "stream",
     "text": [
      "subject 270: 100%|██████████████████████████████████████| 1000/1000 [00:17<00:00, 56.96it/s]\n"
     ]
    },
    {
     "name": "stdout",
     "output_type": "stream",
     "text": [
      "number 270 score 0.766295707472178\n"
     ]
    },
    {
     "name": "stderr",
     "output_type": "stream",
     "text": [
      "subject 271: 100%|██████████████████████████████████████| 1000/1000 [00:17<00:00, 56.66it/s]\n"
     ]
    },
    {
     "name": "stdout",
     "output_type": "stream",
     "text": [
      "number 271 score 0.8460431654676259\n"
     ]
    },
    {
     "name": "stderr",
     "output_type": "stream",
     "text": [
      "subject 272: 100%|██████████████████████████████████████| 1000/1000 [00:17<00:00, 56.47it/s]\n"
     ]
    },
    {
     "name": "stdout",
     "output_type": "stream",
     "text": [
      "number 272 score 0.6690017513134852\n"
     ]
    },
    {
     "name": "stderr",
     "output_type": "stream",
     "text": [
      "subject 273: 100%|██████████████████████████████████████| 1000/1000 [00:17<00:00, 56.18it/s]\n"
     ]
    },
    {
     "name": "stdout",
     "output_type": "stream",
     "text": [
      "number 273 score 0.6502636203866432\n"
     ]
    },
    {
     "name": "stderr",
     "output_type": "stream",
     "text": [
      "subject 274: 100%|██████████████████████████████████████| 1000/1000 [00:17<00:00, 55.89it/s]\n"
     ]
    },
    {
     "name": "stdout",
     "output_type": "stream",
     "text": [
      "number 274 score 0.6974169741697417\n"
     ]
    },
    {
     "name": "stderr",
     "output_type": "stream",
     "text": [
      "subject 275: 100%|██████████████████████████████████████| 1000/1000 [00:17<00:00, 56.38it/s]\n"
     ]
    },
    {
     "name": "stdout",
     "output_type": "stream",
     "text": [
      "number 275 score 0.7823008849557522\n"
     ]
    },
    {
     "name": "stderr",
     "output_type": "stream",
     "text": [
      "subject 276: 100%|██████████████████████████████████████| 1000/1000 [00:17<00:00, 55.58it/s]\n"
     ]
    },
    {
     "name": "stdout",
     "output_type": "stream",
     "text": [
      "number 276 score 0.8888888888888888\n"
     ]
    },
    {
     "name": "stderr",
     "output_type": "stream",
     "text": [
      "subject 277: 100%|██████████████████████████████████████| 1000/1000 [00:17<00:00, 56.04it/s]\n"
     ]
    },
    {
     "name": "stdout",
     "output_type": "stream",
     "text": [
      "number 277 score 0.9050086355785838\n"
     ]
    },
    {
     "name": "stderr",
     "output_type": "stream",
     "text": [
      "subject 278: 100%|██████████████████████████████████████| 1000/1000 [00:17<00:00, 56.31it/s]\n"
     ]
    },
    {
     "name": "stdout",
     "output_type": "stream",
     "text": [
      "number 278 score 0.8881239242685026\n"
     ]
    },
    {
     "name": "stderr",
     "output_type": "stream",
     "text": [
      "subject 279: 100%|██████████████████████████████████████| 1000/1000 [00:17<00:00, 56.77it/s]\n"
     ]
    },
    {
     "name": "stdout",
     "output_type": "stream",
     "text": [
      "number 279 score 0.8918918918918919\n"
     ]
    },
    {
     "name": "stderr",
     "output_type": "stream",
     "text": [
      "subject 280: 100%|██████████████████████████████████████| 1000/1000 [00:17<00:00, 56.16it/s]\n"
     ]
    },
    {
     "name": "stdout",
     "output_type": "stream",
     "text": [
      "number 280 score 0.8966942148760331\n"
     ]
    },
    {
     "name": "stderr",
     "output_type": "stream",
     "text": [
      "subject 281: 100%|██████████████████████████████████████| 1000/1000 [00:17<00:00, 56.30it/s]\n"
     ]
    },
    {
     "name": "stdout",
     "output_type": "stream",
     "text": [
      "number 281 score 0.9045454545454545\n"
     ]
    },
    {
     "name": "stderr",
     "output_type": "stream",
     "text": [
      "subject 282: 100%|██████████████████████████████████████| 1000/1000 [00:17<00:00, 56.30it/s]\n"
     ]
    },
    {
     "name": "stdout",
     "output_type": "stream",
     "text": [
      "number 282 score 0.9238329238329238\n"
     ]
    },
    {
     "name": "stderr",
     "output_type": "stream",
     "text": [
      "subject 283: 100%|██████████████████████████████████████| 1000/1000 [00:17<00:00, 56.05it/s]\n"
     ]
    },
    {
     "name": "stdout",
     "output_type": "stream",
     "text": [
      "number 283 score 0.9396325459317585\n"
     ]
    },
    {
     "name": "stderr",
     "output_type": "stream",
     "text": [
      "subject 284: 100%|██████████████████████████████████████| 1000/1000 [00:17<00:00, 56.13it/s]\n"
     ]
    },
    {
     "name": "stdout",
     "output_type": "stream",
     "text": [
      "number 284 score 0.9258160237388724\n"
     ]
    },
    {
     "name": "stderr",
     "output_type": "stream",
     "text": [
      "subject 285: 100%|██████████████████████████████████████| 1000/1000 [00:17<00:00, 56.54it/s]\n"
     ]
    },
    {
     "name": "stdout",
     "output_type": "stream",
     "text": [
      "number 285 score 0.8705035971223022\n"
     ]
    },
    {
     "name": "stderr",
     "output_type": "stream",
     "text": [
      "subject 286: 100%|██████████████████████████████████████| 1000/1000 [00:17<00:00, 56.12it/s]\n"
     ]
    },
    {
     "name": "stdout",
     "output_type": "stream",
     "text": [
      "number 286 score 0.8125\n"
     ]
    },
    {
     "name": "stderr",
     "output_type": "stream",
     "text": [
      "subject 287: 100%|██████████████████████████████████████| 1000/1000 [00:17<00:00, 55.62it/s]\n"
     ]
    },
    {
     "name": "stdout",
     "output_type": "stream",
     "text": [
      "number 287 score 0.6086956521739131\n"
     ]
    },
    {
     "name": "stderr",
     "output_type": "stream",
     "text": [
      "subject 288: 100%|██████████████████████████████████████| 1000/1000 [00:17<00:00, 55.63it/s]\n"
     ]
    },
    {
     "name": "stdout",
     "output_type": "stream",
     "text": [
      "number 288 score 0.7936507936507936\n"
     ]
    },
    {
     "name": "stderr",
     "output_type": "stream",
     "text": [
      "subject 289: 100%|██████████████████████████████████████| 1000/1000 [00:17<00:00, 55.76it/s]\n"
     ]
    },
    {
     "name": "stdout",
     "output_type": "stream",
     "text": [
      "number 289 score 0.8235294117647058\n"
     ]
    },
    {
     "name": "stderr",
     "output_type": "stream",
     "text": [
      "subject 290: 100%|██████████████████████████████████████| 1000/1000 [00:17<00:00, 55.87it/s]\n"
     ]
    },
    {
     "name": "stdout",
     "output_type": "stream",
     "text": [
      "number 290 score 0.8187134502923976\n"
     ]
    },
    {
     "name": "stderr",
     "output_type": "stream",
     "text": [
      "subject 291: 100%|██████████████████████████████████████| 1000/1000 [00:17<00:00, 56.16it/s]\n"
     ]
    },
    {
     "name": "stdout",
     "output_type": "stream",
     "text": [
      "number 291 score 0.9172932330827067\n"
     ]
    },
    {
     "name": "stderr",
     "output_type": "stream",
     "text": [
      "subject 292: 100%|██████████████████████████████████████| 1000/1000 [00:17<00:00, 56.06it/s]\n"
     ]
    },
    {
     "name": "stdout",
     "output_type": "stream",
     "text": [
      "number 292 score 0.9067524115755627\n"
     ]
    },
    {
     "name": "stderr",
     "output_type": "stream",
     "text": [
      "subject 293: 100%|██████████████████████████████████████| 1000/1000 [00:18<00:00, 55.17it/s]\n"
     ]
    },
    {
     "name": "stdout",
     "output_type": "stream",
     "text": [
      "number 293 score 0.8787878787878788\n"
     ]
    },
    {
     "name": "stderr",
     "output_type": "stream",
     "text": [
      "subject 294: 100%|██████████████████████████████████████| 1000/1000 [00:18<00:00, 55.52it/s]\n"
     ]
    },
    {
     "name": "stdout",
     "output_type": "stream",
     "text": [
      "number 294 score 0.8752556237218814\n"
     ]
    },
    {
     "name": "stderr",
     "output_type": "stream",
     "text": [
      "subject 295: 100%|██████████████████████████████████████| 1000/1000 [00:17<00:00, 55.84it/s]\n"
     ]
    },
    {
     "name": "stdout",
     "output_type": "stream",
     "text": [
      "number 295 score 0.8722627737226277\n"
     ]
    },
    {
     "name": "stderr",
     "output_type": "stream",
     "text": [
      "subject 296: 100%|██████████████████████████████████████| 1000/1000 [00:18<00:00, 54.65it/s]\n"
     ]
    },
    {
     "name": "stdout",
     "output_type": "stream",
     "text": [
      "number 296 score 0.9146537842190016\n"
     ]
    },
    {
     "name": "stderr",
     "output_type": "stream",
     "text": [
      "subject 297: 100%|██████████████████████████████████████| 1000/1000 [00:18<00:00, 55.31it/s]\n"
     ]
    },
    {
     "name": "stdout",
     "output_type": "stream",
     "text": [
      "number 297 score 0.9251908396946565\n"
     ]
    },
    {
     "name": "stderr",
     "output_type": "stream",
     "text": [
      "subject 298: 100%|██████████████████████████████████████| 1000/1000 [00:18<00:00, 54.61it/s]\n"
     ]
    },
    {
     "name": "stdout",
     "output_type": "stream",
     "text": [
      "number 298 score 0.9380530973451328\n"
     ]
    },
    {
     "name": "stderr",
     "output_type": "stream",
     "text": [
      "subject 299: 100%|██████████████████████████████████████| 1000/1000 [00:18<00:00, 54.16it/s]\n"
     ]
    },
    {
     "name": "stdout",
     "output_type": "stream",
     "text": [
      "number 299 score 0.96045197740113\n"
     ]
    },
    {
     "name": "stderr",
     "output_type": "stream",
     "text": [
      "subject 300: 100%|██████████████████████████████████████| 1000/1000 [00:18<00:00, 54.83it/s]\n"
     ]
    },
    {
     "name": "stdout",
     "output_type": "stream",
     "text": [
      "number 300 score 0.9346590909090909\n"
     ]
    },
    {
     "name": "stderr",
     "output_type": "stream",
     "text": [
      "subject 301: 100%|██████████████████████████████████████| 1000/1000 [00:17<00:00, 55.59it/s]\n"
     ]
    },
    {
     "name": "stdout",
     "output_type": "stream",
     "text": [
      "number 301 score 0.9481065918653576\n"
     ]
    },
    {
     "name": "stderr",
     "output_type": "stream",
     "text": [
      "subject 302: 100%|██████████████████████████████████████| 1000/1000 [00:18<00:00, 55.50it/s]\n"
     ]
    },
    {
     "name": "stdout",
     "output_type": "stream",
     "text": [
      "number 302 score 0.9488243430152143\n"
     ]
    },
    {
     "name": "stderr",
     "output_type": "stream",
     "text": [
      "subject 303: 100%|██████████████████████████████████████| 1000/1000 [00:18<00:00, 55.49it/s]\n"
     ]
    },
    {
     "name": "stdout",
     "output_type": "stream",
     "text": [
      "number 303 score 0.9368863955119214\n"
     ]
    },
    {
     "name": "stderr",
     "output_type": "stream",
     "text": [
      "subject 304: 100%|██████████████████████████████████████| 1000/1000 [00:18<00:00, 54.62it/s]\n"
     ]
    },
    {
     "name": "stdout",
     "output_type": "stream",
     "text": [
      "number 304 score 0.9298245614035088\n"
     ]
    },
    {
     "name": "stderr",
     "output_type": "stream",
     "text": [
      "subject 305:  39%|███████████████▏                       | 388/1000 [00:07<00:11, 53.23it/s]\n"
     ]
    },
    {
     "ename": "KeyboardInterrupt",
     "evalue": "",
     "output_type": "error",
     "traceback": [
      "\u001b[0;31m---------------------------------------------------------------------------\u001b[0m",
      "\u001b[0;31mKeyboardInterrupt\u001b[0m                         Traceback (most recent call last)",
      "Cell \u001b[0;32mIn[95], line 19\u001b[0m\n\u001b[1;32m     17\u001b[0m \u001b[38;5;28;01mwith\u001b[39;00m autocast(enabled\u001b[38;5;241m=\u001b[39m\u001b[38;5;28;01mFalse\u001b[39;00m):\n\u001b[1;32m     18\u001b[0m     \u001b[38;5;28;01mwith\u001b[39;00m torch\u001b[38;5;241m.\u001b[39mno_grad():\n\u001b[0;32m---> 19\u001b[0m         model_output \u001b[38;5;241m=\u001b[39m \u001b[43mmodel\u001b[49m\u001b[43m(\u001b[49m\u001b[43mcombined\u001b[49m\u001b[43m,\u001b[49m\u001b[43m \u001b[49m\u001b[43mtimesteps\u001b[49m\u001b[38;5;241;43m=\u001b[39;49m\u001b[43mtorch\u001b[49m\u001b[38;5;241;43m.\u001b[39;49m\u001b[43mTensor\u001b[49m\u001b[43m(\u001b[49m\u001b[43m(\u001b[49m\u001b[43mt\u001b[49m\u001b[43m,\u001b[49m\u001b[43m)\u001b[49m\u001b[43m)\u001b[49m\u001b[38;5;241;43m.\u001b[39;49m\u001b[43mto\u001b[49m\u001b[43m(\u001b[49m\u001b[43mcurrent_img\u001b[49m\u001b[38;5;241;43m.\u001b[39;49m\u001b[43mdevice\u001b[49m\u001b[43m)\u001b[49m\u001b[43m)\u001b[49m\n\u001b[1;32m     20\u001b[0m         current_img, _ \u001b[38;5;241m=\u001b[39m scheduler\u001b[38;5;241m.\u001b[39mstep(model_output, t, current_img)\n\u001b[1;32m     22\u001b[0m         combined\u001b[38;5;241m=\u001b[39mtorch\u001b[38;5;241m.\u001b[39mcat((images,current_img), dim\u001b[38;5;241m=\u001b[39m\u001b[38;5;241m1\u001b[39m)\n",
      "File \u001b[0;32m~/anaconda3/envs/experiment/lib/python3.10/site-packages/torch/nn/modules/module.py:1130\u001b[0m, in \u001b[0;36mModule._call_impl\u001b[0;34m(self, *input, **kwargs)\u001b[0m\n\u001b[1;32m   1126\u001b[0m \u001b[38;5;66;03m# If we don't have any hooks, we want to skip the rest of the logic in\u001b[39;00m\n\u001b[1;32m   1127\u001b[0m \u001b[38;5;66;03m# this function, and just call forward.\u001b[39;00m\n\u001b[1;32m   1128\u001b[0m \u001b[38;5;28;01mif\u001b[39;00m \u001b[38;5;129;01mnot\u001b[39;00m (\u001b[38;5;28mself\u001b[39m\u001b[38;5;241m.\u001b[39m_backward_hooks \u001b[38;5;129;01mor\u001b[39;00m \u001b[38;5;28mself\u001b[39m\u001b[38;5;241m.\u001b[39m_forward_hooks \u001b[38;5;129;01mor\u001b[39;00m \u001b[38;5;28mself\u001b[39m\u001b[38;5;241m.\u001b[39m_forward_pre_hooks \u001b[38;5;129;01mor\u001b[39;00m _global_backward_hooks\n\u001b[1;32m   1129\u001b[0m         \u001b[38;5;129;01mor\u001b[39;00m _global_forward_hooks \u001b[38;5;129;01mor\u001b[39;00m _global_forward_pre_hooks):\n\u001b[0;32m-> 1130\u001b[0m     \u001b[38;5;28;01mreturn\u001b[39;00m \u001b[43mforward_call\u001b[49m\u001b[43m(\u001b[49m\u001b[38;5;241;43m*\u001b[39;49m\u001b[38;5;28;43minput\u001b[39;49m\u001b[43m,\u001b[49m\u001b[43m \u001b[49m\u001b[38;5;241;43m*\u001b[39;49m\u001b[38;5;241;43m*\u001b[39;49m\u001b[43mkwargs\u001b[49m\u001b[43m)\u001b[49m\n\u001b[1;32m   1131\u001b[0m \u001b[38;5;66;03m# Do not call functions when jit is used\u001b[39;00m\n\u001b[1;32m   1132\u001b[0m full_backward_hooks, non_full_backward_hooks \u001b[38;5;241m=\u001b[39m [], []\n",
      "File \u001b[0;32m~/PycharmProjects/MONAI/GenerativeModels/generative/networks/nets/diffusion_model_unet.py:1837\u001b[0m, in \u001b[0;36mDiffusionModelUNet.forward\u001b[0;34m(self, x, timesteps, context, class_labels)\u001b[0m\n\u001b[1;32m   1835\u001b[0m     res_samples \u001b[38;5;241m=\u001b[39m down_block_res_samples[\u001b[38;5;241m-\u001b[39m\u001b[38;5;28mlen\u001b[39m(upsample_block\u001b[38;5;241m.\u001b[39mresnets) :]\n\u001b[1;32m   1836\u001b[0m     down_block_res_samples \u001b[38;5;241m=\u001b[39m down_block_res_samples[: \u001b[38;5;241m-\u001b[39m\u001b[38;5;28mlen\u001b[39m(upsample_block\u001b[38;5;241m.\u001b[39mresnets)]\n\u001b[0;32m-> 1837\u001b[0m     h \u001b[38;5;241m=\u001b[39m \u001b[43mupsample_block\u001b[49m\u001b[43m(\u001b[49m\u001b[43mhidden_states\u001b[49m\u001b[38;5;241;43m=\u001b[39;49m\u001b[43mh\u001b[49m\u001b[43m,\u001b[49m\u001b[43m \u001b[49m\u001b[43mres_hidden_states_list\u001b[49m\u001b[38;5;241;43m=\u001b[39;49m\u001b[43mres_samples\u001b[49m\u001b[43m,\u001b[49m\u001b[43m \u001b[49m\u001b[43mtemb\u001b[49m\u001b[38;5;241;43m=\u001b[39;49m\u001b[43memb\u001b[49m\u001b[43m,\u001b[49m\u001b[43m \u001b[49m\u001b[43mcontext\u001b[49m\u001b[38;5;241;43m=\u001b[39;49m\u001b[43mcontext\u001b[49m\u001b[43m)\u001b[49m\n\u001b[1;32m   1839\u001b[0m \u001b[38;5;66;03m# 7. output block\u001b[39;00m\n\u001b[1;32m   1840\u001b[0m h \u001b[38;5;241m=\u001b[39m \u001b[38;5;28mself\u001b[39m\u001b[38;5;241m.\u001b[39mout(h)\n",
      "File \u001b[0;32m~/anaconda3/envs/experiment/lib/python3.10/site-packages/torch/nn/modules/module.py:1130\u001b[0m, in \u001b[0;36mModule._call_impl\u001b[0;34m(self, *input, **kwargs)\u001b[0m\n\u001b[1;32m   1126\u001b[0m \u001b[38;5;66;03m# If we don't have any hooks, we want to skip the rest of the logic in\u001b[39;00m\n\u001b[1;32m   1127\u001b[0m \u001b[38;5;66;03m# this function, and just call forward.\u001b[39;00m\n\u001b[1;32m   1128\u001b[0m \u001b[38;5;28;01mif\u001b[39;00m \u001b[38;5;129;01mnot\u001b[39;00m (\u001b[38;5;28mself\u001b[39m\u001b[38;5;241m.\u001b[39m_backward_hooks \u001b[38;5;129;01mor\u001b[39;00m \u001b[38;5;28mself\u001b[39m\u001b[38;5;241m.\u001b[39m_forward_hooks \u001b[38;5;129;01mor\u001b[39;00m \u001b[38;5;28mself\u001b[39m\u001b[38;5;241m.\u001b[39m_forward_pre_hooks \u001b[38;5;129;01mor\u001b[39;00m _global_backward_hooks\n\u001b[1;32m   1129\u001b[0m         \u001b[38;5;129;01mor\u001b[39;00m _global_forward_hooks \u001b[38;5;129;01mor\u001b[39;00m _global_forward_pre_hooks):\n\u001b[0;32m-> 1130\u001b[0m     \u001b[38;5;28;01mreturn\u001b[39;00m \u001b[43mforward_call\u001b[49m\u001b[43m(\u001b[49m\u001b[38;5;241;43m*\u001b[39;49m\u001b[38;5;28;43minput\u001b[39;49m\u001b[43m,\u001b[49m\u001b[43m \u001b[49m\u001b[38;5;241;43m*\u001b[39;49m\u001b[38;5;241;43m*\u001b[39;49m\u001b[43mkwargs\u001b[49m\u001b[43m)\u001b[49m\n\u001b[1;32m   1131\u001b[0m \u001b[38;5;66;03m# Do not call functions when jit is used\u001b[39;00m\n\u001b[1;32m   1132\u001b[0m full_backward_hooks, non_full_backward_hooks \u001b[38;5;241m=\u001b[39m [], []\n",
      "File \u001b[0;32m~/PycharmProjects/MONAI/GenerativeModels/generative/networks/nets/diffusion_model_unet.py:1302\u001b[0m, in \u001b[0;36mAttnUpBlock.forward\u001b[0;34m(***failed resolving arguments***)\u001b[0m\n\u001b[1;32m   1299\u001b[0m     hidden_states \u001b[38;5;241m=\u001b[39m torch\u001b[38;5;241m.\u001b[39mcat([hidden_states, res_hidden_states], dim\u001b[38;5;241m=\u001b[39m\u001b[38;5;241m1\u001b[39m)\n\u001b[1;32m   1301\u001b[0m     hidden_states \u001b[38;5;241m=\u001b[39m resnet(hidden_states, temb)\n\u001b[0;32m-> 1302\u001b[0m     hidden_states \u001b[38;5;241m=\u001b[39m \u001b[43mattn\u001b[49m\u001b[43m(\u001b[49m\u001b[43mhidden_states\u001b[49m\u001b[43m)\u001b[49m\n\u001b[1;32m   1304\u001b[0m \u001b[38;5;28;01mif\u001b[39;00m \u001b[38;5;28mself\u001b[39m\u001b[38;5;241m.\u001b[39mupsampler \u001b[38;5;129;01mis\u001b[39;00m \u001b[38;5;129;01mnot\u001b[39;00m \u001b[38;5;28;01mNone\u001b[39;00m:\n\u001b[1;32m   1305\u001b[0m     hidden_states \u001b[38;5;241m=\u001b[39m \u001b[38;5;28mself\u001b[39m\u001b[38;5;241m.\u001b[39mupsampler(hidden_states, temb)\n",
      "File \u001b[0;32m~/anaconda3/envs/experiment/lib/python3.10/site-packages/torch/nn/modules/module.py:1130\u001b[0m, in \u001b[0;36mModule._call_impl\u001b[0;34m(self, *input, **kwargs)\u001b[0m\n\u001b[1;32m   1126\u001b[0m \u001b[38;5;66;03m# If we don't have any hooks, we want to skip the rest of the logic in\u001b[39;00m\n\u001b[1;32m   1127\u001b[0m \u001b[38;5;66;03m# this function, and just call forward.\u001b[39;00m\n\u001b[1;32m   1128\u001b[0m \u001b[38;5;28;01mif\u001b[39;00m \u001b[38;5;129;01mnot\u001b[39;00m (\u001b[38;5;28mself\u001b[39m\u001b[38;5;241m.\u001b[39m_backward_hooks \u001b[38;5;129;01mor\u001b[39;00m \u001b[38;5;28mself\u001b[39m\u001b[38;5;241m.\u001b[39m_forward_hooks \u001b[38;5;129;01mor\u001b[39;00m \u001b[38;5;28mself\u001b[39m\u001b[38;5;241m.\u001b[39m_forward_pre_hooks \u001b[38;5;129;01mor\u001b[39;00m _global_backward_hooks\n\u001b[1;32m   1129\u001b[0m         \u001b[38;5;129;01mor\u001b[39;00m _global_forward_hooks \u001b[38;5;129;01mor\u001b[39;00m _global_forward_pre_hooks):\n\u001b[0;32m-> 1130\u001b[0m     \u001b[38;5;28;01mreturn\u001b[39;00m \u001b[43mforward_call\u001b[49m\u001b[43m(\u001b[49m\u001b[38;5;241;43m*\u001b[39;49m\u001b[38;5;28;43minput\u001b[39;49m\u001b[43m,\u001b[49m\u001b[43m \u001b[49m\u001b[38;5;241;43m*\u001b[39;49m\u001b[38;5;241;43m*\u001b[39;49m\u001b[43mkwargs\u001b[49m\u001b[43m)\u001b[49m\n\u001b[1;32m   1131\u001b[0m \u001b[38;5;66;03m# Do not call functions when jit is used\u001b[39;00m\n\u001b[1;32m   1132\u001b[0m full_backward_hooks, non_full_backward_hooks \u001b[38;5;241m=\u001b[39m [], []\n",
      "File \u001b[0;32m~/PycharmProjects/MONAI/GenerativeModels/generative/networks/nets/diffusion_model_unet.py:424\u001b[0m, in \u001b[0;36mAttentionBlock.forward\u001b[0;34m(self, x)\u001b[0m\n\u001b[1;32m    422\u001b[0m \u001b[38;5;66;03m# proj to q, k, v\u001b[39;00m\n\u001b[1;32m    423\u001b[0m query \u001b[38;5;241m=\u001b[39m \u001b[38;5;28mself\u001b[39m\u001b[38;5;241m.\u001b[39mto_q(x)\n\u001b[0;32m--> 424\u001b[0m key \u001b[38;5;241m=\u001b[39m \u001b[38;5;28;43mself\u001b[39;49m\u001b[38;5;241;43m.\u001b[39;49m\u001b[43mto_k\u001b[49m\u001b[43m(\u001b[49m\u001b[43mx\u001b[49m\u001b[43m)\u001b[49m\n\u001b[1;32m    425\u001b[0m value \u001b[38;5;241m=\u001b[39m \u001b[38;5;28mself\u001b[39m\u001b[38;5;241m.\u001b[39mto_v(x)\n\u001b[1;32m    427\u001b[0m \u001b[38;5;66;03m# Multi-Head Attention\u001b[39;00m\n",
      "File \u001b[0;32m~/anaconda3/envs/experiment/lib/python3.10/site-packages/torch/nn/modules/module.py:1130\u001b[0m, in \u001b[0;36mModule._call_impl\u001b[0;34m(self, *input, **kwargs)\u001b[0m\n\u001b[1;32m   1126\u001b[0m \u001b[38;5;66;03m# If we don't have any hooks, we want to skip the rest of the logic in\u001b[39;00m\n\u001b[1;32m   1127\u001b[0m \u001b[38;5;66;03m# this function, and just call forward.\u001b[39;00m\n\u001b[1;32m   1128\u001b[0m \u001b[38;5;28;01mif\u001b[39;00m \u001b[38;5;129;01mnot\u001b[39;00m (\u001b[38;5;28mself\u001b[39m\u001b[38;5;241m.\u001b[39m_backward_hooks \u001b[38;5;129;01mor\u001b[39;00m \u001b[38;5;28mself\u001b[39m\u001b[38;5;241m.\u001b[39m_forward_hooks \u001b[38;5;129;01mor\u001b[39;00m \u001b[38;5;28mself\u001b[39m\u001b[38;5;241m.\u001b[39m_forward_pre_hooks \u001b[38;5;129;01mor\u001b[39;00m _global_backward_hooks\n\u001b[1;32m   1129\u001b[0m         \u001b[38;5;129;01mor\u001b[39;00m _global_forward_hooks \u001b[38;5;129;01mor\u001b[39;00m _global_forward_pre_hooks):\n\u001b[0;32m-> 1130\u001b[0m     \u001b[38;5;28;01mreturn\u001b[39;00m \u001b[43mforward_call\u001b[49m\u001b[43m(\u001b[49m\u001b[38;5;241;43m*\u001b[39;49m\u001b[38;5;28;43minput\u001b[39;49m\u001b[43m,\u001b[49m\u001b[43m \u001b[49m\u001b[38;5;241;43m*\u001b[39;49m\u001b[38;5;241;43m*\u001b[39;49m\u001b[43mkwargs\u001b[49m\u001b[43m)\u001b[49m\n\u001b[1;32m   1131\u001b[0m \u001b[38;5;66;03m# Do not call functions when jit is used\u001b[39;00m\n\u001b[1;32m   1132\u001b[0m full_backward_hooks, non_full_backward_hooks \u001b[38;5;241m=\u001b[39m [], []\n",
      "File \u001b[0;32m~/anaconda3/envs/experiment/lib/python3.10/site-packages/torch/nn/modules/linear.py:114\u001b[0m, in \u001b[0;36mLinear.forward\u001b[0;34m(self, input)\u001b[0m\n\u001b[1;32m    113\u001b[0m \u001b[38;5;28;01mdef\u001b[39;00m \u001b[38;5;21mforward\u001b[39m(\u001b[38;5;28mself\u001b[39m, \u001b[38;5;28minput\u001b[39m: Tensor) \u001b[38;5;241m-\u001b[39m\u001b[38;5;241m>\u001b[39m Tensor:\n\u001b[0;32m--> 114\u001b[0m     \u001b[38;5;28;01mreturn\u001b[39;00m \u001b[43mF\u001b[49m\u001b[38;5;241;43m.\u001b[39;49m\u001b[43mlinear\u001b[49m\u001b[43m(\u001b[49m\u001b[38;5;28;43minput\u001b[39;49m\u001b[43m,\u001b[49m\u001b[43m \u001b[49m\u001b[38;5;28;43mself\u001b[39;49m\u001b[38;5;241;43m.\u001b[39;49m\u001b[43mweight\u001b[49m\u001b[43m,\u001b[49m\u001b[43m \u001b[49m\u001b[38;5;28;43mself\u001b[39;49m\u001b[38;5;241;43m.\u001b[39;49m\u001b[43mbias\u001b[49m\u001b[43m)\u001b[49m\n",
      "File \u001b[0;32m~/anaconda3/envs/experiment/lib/python3.10/site-packages/monai/data/meta_tensor.py:297\u001b[0m, in \u001b[0;36mMetaTensor.__torch_function__\u001b[0;34m(cls, func, types, args, kwargs)\u001b[0m\n\u001b[1;32m    295\u001b[0m \u001b[38;5;28;01melse\u001b[39;00m:\n\u001b[1;32m    296\u001b[0m     unpack \u001b[38;5;241m=\u001b[39m \u001b[38;5;28;01mFalse\u001b[39;00m\n\u001b[0;32m--> 297\u001b[0m ret \u001b[38;5;241m=\u001b[39m \u001b[43mMetaTensor\u001b[49m\u001b[38;5;241;43m.\u001b[39;49m\u001b[43mupdate_meta\u001b[49m\u001b[43m(\u001b[49m\u001b[43mret\u001b[49m\u001b[43m,\u001b[49m\u001b[43m \u001b[49m\u001b[43mfunc\u001b[49m\u001b[43m,\u001b[49m\u001b[43m \u001b[49m\u001b[43margs\u001b[49m\u001b[43m,\u001b[49m\u001b[43m \u001b[49m\u001b[43mkwargs\u001b[49m\u001b[43m)\u001b[49m\n\u001b[1;32m    298\u001b[0m \u001b[38;5;28;01mreturn\u001b[39;00m ret[\u001b[38;5;241m0\u001b[39m] \u001b[38;5;28;01mif\u001b[39;00m unpack \u001b[38;5;28;01melse\u001b[39;00m ret\n",
      "File \u001b[0;32m~/anaconda3/envs/experiment/lib/python3.10/site-packages/monai/data/meta_tensor.py:209\u001b[0m, in \u001b[0;36mMetaTensor.update_meta\u001b[0;34m(rets, func, args, kwargs)\u001b[0m\n\u001b[1;32m    206\u001b[0m is_batch \u001b[38;5;241m=\u001b[39m \u001b[38;5;28many\u001b[39m(x\u001b[38;5;241m.\u001b[39mis_batch \u001b[38;5;28;01mfor\u001b[39;00m x \u001b[38;5;129;01min\u001b[39;00m MetaObj\u001b[38;5;241m.\u001b[39mflatten_meta_objs(args, kwargs\u001b[38;5;241m.\u001b[39mvalues()) \u001b[38;5;28;01mif\u001b[39;00m \u001b[38;5;28mhasattr\u001b[39m(x, \u001b[38;5;124m\"\u001b[39m\u001b[38;5;124mis_batch\u001b[39m\u001b[38;5;124m\"\u001b[39m))\n\u001b[1;32m    207\u001b[0m \u001b[38;5;28;01mfor\u001b[39;00m idx, ret \u001b[38;5;129;01min\u001b[39;00m \u001b[38;5;28menumerate\u001b[39m(rets):\n\u001b[1;32m    208\u001b[0m     \u001b[38;5;66;03m# if not `MetaTensor`, nothing to do.\u001b[39;00m\n\u001b[0;32m--> 209\u001b[0m     \u001b[38;5;28;01mif\u001b[39;00m \u001b[38;5;129;01mnot\u001b[39;00m \u001b[38;5;28;43misinstance\u001b[39;49m\u001b[43m(\u001b[49m\u001b[43mret\u001b[49m\u001b[43m,\u001b[49m\u001b[43m \u001b[49m\u001b[43mMetaTensor\u001b[49m\u001b[43m)\u001b[49m:\n\u001b[1;32m    210\u001b[0m         \u001b[38;5;28;01mpass\u001b[39;00m\n\u001b[1;32m    211\u001b[0m     \u001b[38;5;66;03m# if not tracking, convert to `torch.Tensor`.\u001b[39;00m\n",
      "\u001b[0;31mKeyboardInterrupt\u001b[0m: "
     ]
    }
   ],
   "source": [
    "total_dice=0; number=0\n",
    "subset_2D_val = zip(total_val_slices.split(1), total_val_labels.split(1))  #\n",
    "\n",
    "for step, (a, b) in enumerate(subset_2D_val):\n",
    "    images = a.to(device)\n",
    "    seg = b.to(device)\n",
    "  \n",
    "    if seg.sum()==0:\n",
    "        continue\n",
    "    scheduler.set_timesteps(num_inference_steps=1000)\n",
    "    progress_bar = tqdm(scheduler.timesteps)\n",
    "    progress_bar.set_description(f\"subject {number}\")\n",
    "    noise = torch.randn_like(seg).to(device)\n",
    "    combined=torch.cat((images,noise), dim=1)\n",
    "\n",
    "    for t in progress_bar:  # go through the denoising process\n",
    "        with autocast(enabled=False):\n",
    "            with torch.no_grad():\n",
    "                model_output = model(combined, timesteps=torch.Tensor((t,)).to(current_img.device))\n",
    "                current_img, _ = scheduler.step(model_output, t, current_img)\n",
    "                   \n",
    "                combined=torch.cat((images,current_img), dim=1)\n",
    "    \n",
    "    prediction=torch.zeros(current_img.shape)\n",
    "    prediction[current_img>0.5]=1\n",
    "    score=dice_coeff(prediction[0, 0].cpu(), seg[0,0].cpu())\n",
    "\n",
    "    print('number', number, 'score', score)\n",
    "    number+=1\n",
    "    total_dice+=score\n",
    "\n",
    "print('mean dice', total_dice/number)"
   ]
  },
  {
   "cell_type": "code",
   "execution_count": 96,
   "metadata": {},
   "outputs": [
    {
     "name": "stdout",
     "output_type": "stream",
     "text": [
      "mean dice 0.6486319880510938\n"
     ]
    }
   ],
   "source": [
    "print('mean dice', total_dice/number)\n"
   ]
  },
  {
   "cell_type": "code",
   "execution_count": null,
   "metadata": {},
   "outputs": [],
   "source": []
  }
 ],
 "metadata": {
  "kernelspec": {
   "display_name": "Python 3 (ipykernel)",
   "language": "python",
   "name": "python3"
  },
  "language_info": {
   "codemirror_mode": {
    "name": "ipython",
    "version": 3
   },
   "file_extension": ".py",
   "mimetype": "text/x-python",
   "name": "python",
   "nbconvert_exporter": "python",
   "pygments_lexer": "ipython3",
   "version": "3.10.5"
  }
 },
 "nbformat": 4,
 "nbformat_minor": 4
}
