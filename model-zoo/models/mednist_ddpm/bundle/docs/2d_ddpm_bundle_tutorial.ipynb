{
 "cells": [
  {
   "cell_type": "markdown",
   "id": "c54f5831-58eb-4f9e-bb8a-2c2a6536a658",
   "metadata": {},
   "source": [
    "# Denoising Diffusion Probabilistic Models with MedNIST Dataset Bundle \n",
    "\n",
    "This notebook discusses and uses the MONAI bundle it's included in for generating images from the MedNIST dataset using diffusion models. This is based off the 2d_ddpm_tutorial_ignite.ipynb notebook with a few changes.\n",
    "\n",
    "The bundle defines training and inference scripts whose use will be described here along with visualisations. The assumption with this notebook is that it's run within the bundle's `docs` directory and that the environment it runs in has `MONAI` and `GenerativeModels` installed. The command lines given are known to work in `bash` however may be problematic in Windows.\n",
    "\n",
    "First thing to do is import libraries and verify MONAI is present:"
   ]
  },
  {
   "cell_type": "code",
   "execution_count": 1,
   "id": "6d32f8a4-2bfe-4cfb-9abd-033b0c6080e6",
   "metadata": {},
   "outputs": [
    {
     "name": "stdout",
     "output_type": "stream",
     "text": [
      "MONAI version: 1.1.0+45.g1a018a7b\n",
      "Numpy version: 1.21.5\n",
      "Pytorch version: 1.12.1\n",
      "MONAI flags: HAS_EXT = False, USE_COMPILED = False, USE_META_DICT = False\n",
      "MONAI rev id: 1a018a7b3034a86360d999a6bcc796bad330bba4\n",
      "MONAI __file__: /home/localek10/workspace/monai/MONAI_mine/monai/__init__.py\n",
      "\n",
      "Optional dependencies:\n",
      "Pytorch Ignite version: 0.4.8\n",
      "ITK version: 5.2.1\n",
      "Nibabel version: 4.0.2\n",
      "scikit-image version: 0.19.2\n",
      "Pillow version: 9.2.0\n",
      "Tensorboard version: 2.9.0\n",
      "gdown version: 4.5.1\n",
      "TorchVision version: 0.13.1\n",
      "tqdm version: 4.64.0\n",
      "lmdb version: 1.2.1\n",
      "psutil version: 5.9.0\n",
      "pandas version: 1.4.3\n",
      "einops version: 0.6.0\n",
      "transformers version: 4.18.0\n",
      "mlflow version: 1.28.0\n",
      "pynrrd version: 0.4.2\n",
      "\n",
      "For details about installing the optional dependencies, please visit:\n",
      "    https://docs.monai.io/en/latest/installation.html#installing-the-recommended-dependencies\n",
      "\n"
     ]
    }
   ],
   "source": [
    "import os\n",
    "import shutil\n",
    "import tempfile\n",
    "from pathlib import Path\n",
    "\n",
    "import torch\n",
    "\n",
    "import matplotlib.pyplot as plt\n",
    "import monai\n",
    "from monai.bundle import ConfigParser\n",
    "\n",
    "# path to the bundle directory, this assumes you're running the notebook in its directory\n",
    "bundle_root = str(Path(\".\").absolute().parent)\n",
    "\n",
    "monai.config.print_config()"
   ]
  },
  {
   "cell_type": "code",
   "execution_count": 2,
   "id": "d6fc6592-cb51-4527-97ee-add5d1cdbeb4",
   "metadata": {},
   "outputs": [
    {
     "name": "stdout",
     "output_type": "stream",
     "text": [
      "/tmp/tmpw33bol9_\n"
     ]
    }
   ],
   "source": [
    "directory = os.environ.get(\"MONAI_DATA_DIRECTORY\")\n",
    "dataset_dir = tempfile.mkdtemp() if directory is None else directory\n",
    "print(dataset_dir)"
   ]
  },
  {
   "cell_type": "markdown",
   "id": "678d2e51-dc2d-4ad9-a4c0-14a6f900398b",
   "metadata": {},
   "source": [
    "A bundle can be run on the command line using the Fire library or by parsing the configuration manually then getting parsed content objects. The following is the command to train the network for the default number of epochs. It will define values in the config files which need to be set for a particular run, such as the dataset directory created above, and setting the PYTHONPATH variable. The configuration for this bundle is split into 4 yaml files, one having common definitions for training and inference, one to enable multi-GPU training, and one each for training and inference. Their combinations determine what your final configuration is, in this case the common and train files produce a training script. "
   ]
  },
  {
   "cell_type": "code",
   "execution_count": null,
   "id": "d52a4ae9-0d6d-4bc4-a5b5-f84470711f2d",
   "metadata": {},
   "outputs": [],
   "source": [
    "# multiple config files need to be specified this way with '' quotes, variable used in command line must be in \"\" quotes\n",
    "configs=f\"'{bundle_root}/configs/common.yaml', '{bundle_root}/configs/train.yaml'\"\n",
    "\n",
    "!PYTHONPATH={bundle_root} python -m monai.bundle run training \\\n",
    "    --meta_file {bundle_root}/configs/metadata.json \\\n",
    "    --config_file \"{configs}\" \\\n",
    "    --logging_file {bundle_root}/configs/logging.conf \\\n",
    "    --bundle_root {bundle_root} \\\n",
    "    --dataset_dir {dataset_dir}"
   ]
  },
  {
   "cell_type": "markdown",
   "id": "5030732c-deb5-448a-b575-385bda0fa308",
   "metadata": {},
   "source": [
    "The test inference script can then be invoked as such to produce an output tensor saved to the given file with a randomly generated image. The `ckpt_path` value should point to the final checkpoint file created during the above training run, which will be in a subdirectory of `./result`. The training script's default behaviour is to create a new timestamped subdirectory in `./result` for every new run, this can be explicitly set by providing a `output_dir` value on the command line."
   ]
  },
  {
   "cell_type": "code",
   "execution_count": 36,
   "id": "40e6a3e9-3984-44b0-ba9a-5b8d58c7ea2d",
   "metadata": {},
   "outputs": [
    {
     "name": "stdout",
     "output_type": "stream",
     "text": [
      "2023-02-16 21:00:18,139 - INFO - --- input summary of monai.bundle.scripts.run ---\n",
      "2023-02-16 21:00:18,139 - INFO - > runner_id: 'testing'\n",
      "2023-02-16 21:00:18,139 - INFO - > meta_file: '/home/localek10/workspace/monai/GenerativeModels/model-zoo/models/mednist_ddpm/bundle/configs/metadata.json'\n",
      "2023-02-16 21:00:18,139 - INFO - > config_file: ('/home/localek10/workspace/monai/GenerativeModels/model-zoo/models/mednist_ddpm/bundle/configs/common.yaml',\n",
      " '/home/localek10/workspace/monai/GenerativeModels/model-zoo/models/mednist_ddpm/bundle/configs/infer.yaml')\n",
      "2023-02-16 21:00:18,139 - INFO - > ckpt_path: './results/output_230215_174009/model_final_iteration=75000.pt'\n",
      "2023-02-16 21:00:18,140 - INFO - > bundle_root: '/home/localek10/workspace/monai/GenerativeModels/model-zoo/models/mednist_ddpm/bundle'\n",
      "2023-02-16 21:00:18,140 - INFO - > out_file: 'test.pt'\n",
      "2023-02-16 21:00:18,140 - INFO - ---\n",
      "\n",
      "\n",
      "100%|███████████████████████████████████████| 1000/1000 [00:10<00:00, 97.10it/s]\n",
      "[[[], []], null]\n"
     ]
    },
    {
     "data": {
      "text/plain": [
       "<matplotlib.image.AxesImage at 0x7f668c1ee580>"
      ]
     },
     "execution_count": 36,
     "metadata": {},
     "output_type": "execute_result"
    },
    {
     "data": {
      "image/png": "[encoded data removed]",
      "text/plain": [
       "<Figure size 640x480 with 1 Axes>"
      ]
     },
     "metadata": {},
     "output_type": "display_data"
    }
   ],
   "source": [
    "configs=f\"'{bundle_root}/configs/common.yaml', '{bundle_root}/configs/infer.yaml'\"\n",
    "\n",
    "!PYTHONPATH={bundle_root} python -m monai.bundle run testing \\\n",
    "    --meta_file {bundle_root}/configs/metadata.json \\\n",
    "    --config_file \"{configs}\" \\\n",
    "    --ckpt_path ./results/output_230215_174009/model_final_iteration=75000.pt \\\n",
    "    --bundle_root {bundle_root} \\\n",
    "    --out_file test.pt\n",
    "\n",
    "test = torch.load(\"test.pt\", map_location=\"cpu\")\n",
    "\n",
    "plt.imshow(test[0, 0], vmin=0, vmax=1, cmap=\"gray\")"
   ]
  },
  {
   "cell_type": "markdown",
   "id": "f581c36e-4033-4005-8969-76205470588e",
   "metadata": {},
   "source": [
    "The same can be done by creating the parser object, filling in its configuration, then resolving the Python objects from the constructed bundle data:"
   ]
  },
  {
   "cell_type": "code",
   "execution_count": 24,
   "id": "cf8438b3-4c7d-48c4-bb41-ed7def73753f",
   "metadata": {},
   "outputs": [
    {
     "name": "stderr",
     "output_type": "stream",
     "text": [
      "100%|██████████| 1000/1000 [00:09<00:00, 101.06it/s]\n"
     ]
    },
    {
     "data": {
      "text/plain": [
       "<matplotlib.image.AxesImage at 0x7f668c46b910>"
      ]
     },
     "execution_count": 24,
     "metadata": {},
     "output_type": "execute_result"
    },
    {
     "data": {
      "image/png": "[encoded data removed]",
      "text/plain": [
       "<Figure size 640x480 with 1 Axes>"
      ]
     },
     "metadata": {},
     "output_type": "display_data"
    }
   ],
   "source": [
    "import sys\n",
    "\n",
    "sys.path.append(bundle_root)  # make sure we load the script files we need\n",
    "\n",
    "# configure the parser from the bundle's information\n",
    "cp = ConfigParser()\n",
    "cp.read_meta(f\"{bundle_root}/configs/metadata.json\")\n",
    "cp.read_config([f\"{bundle_root}/configs/common.yaml\", f\"{bundle_root}/configs/infer.yaml\"])\n",
    "cp[\"bundle_root\"] = bundle_root\n",
    "cp[\"ckpt_path\"] = \"./results/output_230215_174009/model_final_iteration=75000.pt\"\n",
    "\n",
    "cp.get_parsed_content(\"load_state\")  # load the saved state from the checkpoint just be resolving this value\n",
    "\n",
    "device = cp.get_parsed_content(\"device\")  # device used by the bundle\n",
    "sample = cp.get_parsed_content(\"sample\")  # test sampling function\n",
    "\n",
    "image_dim = cp[\"image_dim\"]  # get the stored dimension value, no need to resolve anything\n",
    "\n",
    "noise = torch.rand(1, 1, image_dim, image_dim).to(device)  # or cp.get_parsed_content(\"noise\")\n",
    "\n",
    "test = sample(noise)\n",
    "\n",
    "plt.imshow(test[0, 0].cpu(), vmin=0, vmax=1, cmap=\"gray\")"
   ]
  },
  {
   "cell_type": "markdown",
   "id": "2feab4e5-2745-4d35-9eec-a2bb8340cf51",
   "metadata": {},
   "source": [
    "Multi-GPU can be enabled by including the `train_multigpu.yaml` configuration file:"
   ]
  },
  {
   "cell_type": "code",
   "execution_count": null,
   "id": "173cda1c-ac90-410f-b34d-b6cbb0044c7a",
   "metadata": {},
   "outputs": [],
   "source": [
    "configs=f\"'{bundle_root}/configs/common.yaml', '{bundle_root}/configs/train.yaml', '{bundle_root}/configs/train_multigpu.yaml'\"\n",
    "\n",
    "!PYTHONPATH={bundle_root} torchrun --standalone --nnodes=1 --nproc_per_node=2 -m monai.bundle run training \\\n",
    "    --meta_file {bundle_root}/configs/metadata.json \\\n",
    "    --config_file \"{configs}\" \\\n",
    "    --logging_file {bundle_root}/configs/logging.conf \\\n",
    "    --bundle_root {bundle_root} \\\n",
    "    --dataset_dir {dataset_dir}"
   ]
  },
  {
   "cell_type": "code",
   "execution_count": null,
   "id": "cb719023-8250-43c4-ab10-911829332498",
   "metadata": {},
   "outputs": [],
   "source": [
    "if directory is None:\n",
    "    shutil.rmtree(dataset_dir)"
   ]
  }
 ],
 "metadata": {
  "kernelspec": {
   "display_name": "Python [conda env:monai]",
   "language": "python",
   "name": "conda-env-monai-py"
  },
  "language_info": {
   "codemirror_mode": {
    "name": "ipython",
    "version": 3
   },
   "file_extension": ".py",
   "mimetype": "text/x-python",
   "name": "python",
   "nbconvert_exporter": "python",
   "pygments_lexer": "ipython3",
   "version": "3.9.13"
  }
 },
 "nbformat": 4,
 "nbformat_minor": 5
}
